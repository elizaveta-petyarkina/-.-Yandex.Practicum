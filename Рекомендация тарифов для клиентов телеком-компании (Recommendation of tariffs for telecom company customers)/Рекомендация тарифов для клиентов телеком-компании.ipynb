{
 "cells": [
  {
   "cell_type": "markdown",
   "metadata": {},
   "source": [
    "# Рекомендация тарифов"
   ]
  },
  {
   "cell_type": "markdown",
   "metadata": {},
   "source": [
    "**Описание проекта:**\n",
    "Даны данные о поведении клиентов, которые уже перешли на тарифы Смарт и Ультра. Нужно построить модель для задачи классификации, которая выберет подходящий тариф с максимально большим значением *accuracy*. Чтобы сдать проект успешно, нужно довести долю правильных ответов по крайней мере до 0.75. \n",
    "\n",
    "**Цель исследования - Нужно построить модель для задачи классификации, которая выберет подходящий тариф с максимально большим значением *accuracy* (не менее 0.75)**\n",
    "\n",
    "**Исследование пройдет в несколько этапов:**\n",
    "1. Обзор данных;\n",
    "2. Деление данных на выборки;\n",
    "3. Исследование моделей;\n",
    "4. Проверка моделей;\n",
    "5. Подведение итогов (вывод)."
   ]
  },
  {
   "cell_type": "markdown",
   "metadata": {},
   "source": [
    "## Откройте и изучите файл"
   ]
  },
  {
   "cell_type": "markdown",
   "metadata": {},
   "source": [
    "Импортируем необходимые для работы библиотеки."
   ]
  },
  {
   "cell_type": "code",
   "execution_count": 2,
   "metadata": {},
   "outputs": [],
   "source": [
    "import pandas as pd\n",
    "from sklearn.tree import DecisionTreeClassifier\n",
    "from sklearn.ensemble import RandomForestClassifier\n",
    "from sklearn.ensemble import RandomForestClassifier\n",
    "from sklearn.linear_model import LogisticRegression\n",
    "from sklearn.model_selection import train_test_split\n",
    "from sklearn.metrics import accuracy_score"
   ]
  },
  {
   "cell_type": "markdown",
   "metadata": {},
   "source": [
    "Загрузим датасет в переменную и просмотрим данные."
   ]
  },
  {
   "cell_type": "code",
   "execution_count": 3,
   "metadata": {},
   "outputs": [],
   "source": [
    "data = pd.read_csv ('/datasets/users_behavior.csv')"
   ]
  },
  {
   "cell_type": "code",
   "execution_count": 4,
   "metadata": {},
   "outputs": [
    {
     "data": {
      "text/html": [
       "<div>\n",
       "<style scoped>\n",
       "    .dataframe tbody tr th:only-of-type {\n",
       "        vertical-align: middle;\n",
       "    }\n",
       "\n",
       "    .dataframe tbody tr th {\n",
       "        vertical-align: top;\n",
       "    }\n",
       "\n",
       "    .dataframe thead th {\n",
       "        text-align: right;\n",
       "    }\n",
       "</style>\n",
       "<table border=\"1\" class=\"dataframe\">\n",
       "  <thead>\n",
       "    <tr style=\"text-align: right;\">\n",
       "      <th></th>\n",
       "      <th>calls</th>\n",
       "      <th>minutes</th>\n",
       "      <th>messages</th>\n",
       "      <th>mb_used</th>\n",
       "      <th>is_ultra</th>\n",
       "    </tr>\n",
       "  </thead>\n",
       "  <tbody>\n",
       "    <tr>\n",
       "      <th>0</th>\n",
       "      <td>40.0</td>\n",
       "      <td>311.90</td>\n",
       "      <td>83.0</td>\n",
       "      <td>19915.42</td>\n",
       "      <td>0</td>\n",
       "    </tr>\n",
       "    <tr>\n",
       "      <th>1</th>\n",
       "      <td>85.0</td>\n",
       "      <td>516.75</td>\n",
       "      <td>56.0</td>\n",
       "      <td>22696.96</td>\n",
       "      <td>0</td>\n",
       "    </tr>\n",
       "    <tr>\n",
       "      <th>2</th>\n",
       "      <td>77.0</td>\n",
       "      <td>467.66</td>\n",
       "      <td>86.0</td>\n",
       "      <td>21060.45</td>\n",
       "      <td>0</td>\n",
       "    </tr>\n",
       "    <tr>\n",
       "      <th>3</th>\n",
       "      <td>106.0</td>\n",
       "      <td>745.53</td>\n",
       "      <td>81.0</td>\n",
       "      <td>8437.39</td>\n",
       "      <td>1</td>\n",
       "    </tr>\n",
       "    <tr>\n",
       "      <th>4</th>\n",
       "      <td>66.0</td>\n",
       "      <td>418.74</td>\n",
       "      <td>1.0</td>\n",
       "      <td>14502.75</td>\n",
       "      <td>0</td>\n",
       "    </tr>\n",
       "    <tr>\n",
       "      <th>5</th>\n",
       "      <td>58.0</td>\n",
       "      <td>344.56</td>\n",
       "      <td>21.0</td>\n",
       "      <td>15823.37</td>\n",
       "      <td>0</td>\n",
       "    </tr>\n",
       "    <tr>\n",
       "      <th>6</th>\n",
       "      <td>57.0</td>\n",
       "      <td>431.64</td>\n",
       "      <td>20.0</td>\n",
       "      <td>3738.90</td>\n",
       "      <td>1</td>\n",
       "    </tr>\n",
       "    <tr>\n",
       "      <th>7</th>\n",
       "      <td>15.0</td>\n",
       "      <td>132.40</td>\n",
       "      <td>6.0</td>\n",
       "      <td>21911.60</td>\n",
       "      <td>0</td>\n",
       "    </tr>\n",
       "    <tr>\n",
       "      <th>8</th>\n",
       "      <td>7.0</td>\n",
       "      <td>43.39</td>\n",
       "      <td>3.0</td>\n",
       "      <td>2538.67</td>\n",
       "      <td>1</td>\n",
       "    </tr>\n",
       "    <tr>\n",
       "      <th>9</th>\n",
       "      <td>90.0</td>\n",
       "      <td>665.41</td>\n",
       "      <td>38.0</td>\n",
       "      <td>17358.61</td>\n",
       "      <td>0</td>\n",
       "    </tr>\n",
       "    <tr>\n",
       "      <th>10</th>\n",
       "      <td>82.0</td>\n",
       "      <td>560.51</td>\n",
       "      <td>20.0</td>\n",
       "      <td>9619.53</td>\n",
       "      <td>1</td>\n",
       "    </tr>\n",
       "    <tr>\n",
       "      <th>11</th>\n",
       "      <td>45.0</td>\n",
       "      <td>344.32</td>\n",
       "      <td>13.0</td>\n",
       "      <td>19898.81</td>\n",
       "      <td>0</td>\n",
       "    </tr>\n",
       "    <tr>\n",
       "      <th>12</th>\n",
       "      <td>51.0</td>\n",
       "      <td>437.13</td>\n",
       "      <td>61.0</td>\n",
       "      <td>21523.58</td>\n",
       "      <td>0</td>\n",
       "    </tr>\n",
       "    <tr>\n",
       "      <th>13</th>\n",
       "      <td>56.0</td>\n",
       "      <td>433.07</td>\n",
       "      <td>16.0</td>\n",
       "      <td>16702.36</td>\n",
       "      <td>0</td>\n",
       "    </tr>\n",
       "    <tr>\n",
       "      <th>14</th>\n",
       "      <td>108.0</td>\n",
       "      <td>587.90</td>\n",
       "      <td>0.0</td>\n",
       "      <td>14406.50</td>\n",
       "      <td>1</td>\n",
       "    </tr>\n",
       "  </tbody>\n",
       "</table>\n",
       "</div>"
      ],
      "text/plain": [
       "    calls  minutes  messages   mb_used  is_ultra\n",
       "0    40.0   311.90      83.0  19915.42         0\n",
       "1    85.0   516.75      56.0  22696.96         0\n",
       "2    77.0   467.66      86.0  21060.45         0\n",
       "3   106.0   745.53      81.0   8437.39         1\n",
       "4    66.0   418.74       1.0  14502.75         0\n",
       "5    58.0   344.56      21.0  15823.37         0\n",
       "6    57.0   431.64      20.0   3738.90         1\n",
       "7    15.0   132.40       6.0  21911.60         0\n",
       "8     7.0    43.39       3.0   2538.67         1\n",
       "9    90.0   665.41      38.0  17358.61         0\n",
       "10   82.0   560.51      20.0   9619.53         1\n",
       "11   45.0   344.32      13.0  19898.81         0\n",
       "12   51.0   437.13      61.0  21523.58         0\n",
       "13   56.0   433.07      16.0  16702.36         0\n",
       "14  108.0   587.90       0.0  14406.50         1"
      ]
     },
     "execution_count": 4,
     "metadata": {},
     "output_type": "execute_result"
    }
   ],
   "source": [
    "data.head(15)"
   ]
  },
  {
   "cell_type": "markdown",
   "metadata": {},
   "source": [
    "Просмотрим информацию о датасете."
   ]
  },
  {
   "cell_type": "code",
   "execution_count": 5,
   "metadata": {},
   "outputs": [
    {
     "name": "stdout",
     "output_type": "stream",
     "text": [
      "<class 'pandas.core.frame.DataFrame'>\n",
      "RangeIndex: 3214 entries, 0 to 3213\n",
      "Data columns (total 5 columns):\n",
      " #   Column    Non-Null Count  Dtype  \n",
      "---  ------    --------------  -----  \n",
      " 0   calls     3214 non-null   float64\n",
      " 1   minutes   3214 non-null   float64\n",
      " 2   messages  3214 non-null   float64\n",
      " 3   mb_used   3214 non-null   float64\n",
      " 4   is_ultra  3214 non-null   int64  \n",
      "dtypes: float64(4), int64(1)\n",
      "memory usage: 125.7 KB\n"
     ]
    }
   ],
   "source": [
    "data.info()"
   ]
  },
  {
   "cell_type": "code",
   "execution_count": 6,
   "metadata": {},
   "outputs": [
    {
     "data": {
      "text/html": [
       "<div>\n",
       "<style scoped>\n",
       "    .dataframe tbody tr th:only-of-type {\n",
       "        vertical-align: middle;\n",
       "    }\n",
       "\n",
       "    .dataframe tbody tr th {\n",
       "        vertical-align: top;\n",
       "    }\n",
       "\n",
       "    .dataframe thead th {\n",
       "        text-align: right;\n",
       "    }\n",
       "</style>\n",
       "<table border=\"1\" class=\"dataframe\">\n",
       "  <thead>\n",
       "    <tr style=\"text-align: right;\">\n",
       "      <th></th>\n",
       "      <th>count</th>\n",
       "      <th>mean</th>\n",
       "      <th>std</th>\n",
       "      <th>min</th>\n",
       "      <th>25%</th>\n",
       "      <th>50%</th>\n",
       "      <th>75%</th>\n",
       "      <th>max</th>\n",
       "    </tr>\n",
       "  </thead>\n",
       "  <tbody>\n",
       "    <tr>\n",
       "      <th>calls</th>\n",
       "      <td>3214.0</td>\n",
       "      <td>63.038892</td>\n",
       "      <td>33.236368</td>\n",
       "      <td>0.0</td>\n",
       "      <td>40.0000</td>\n",
       "      <td>62.000</td>\n",
       "      <td>82.0000</td>\n",
       "      <td>244.00</td>\n",
       "    </tr>\n",
       "    <tr>\n",
       "      <th>minutes</th>\n",
       "      <td>3214.0</td>\n",
       "      <td>438.208787</td>\n",
       "      <td>234.569872</td>\n",
       "      <td>0.0</td>\n",
       "      <td>274.5750</td>\n",
       "      <td>430.600</td>\n",
       "      <td>571.9275</td>\n",
       "      <td>1632.06</td>\n",
       "    </tr>\n",
       "    <tr>\n",
       "      <th>messages</th>\n",
       "      <td>3214.0</td>\n",
       "      <td>38.281269</td>\n",
       "      <td>36.148326</td>\n",
       "      <td>0.0</td>\n",
       "      <td>9.0000</td>\n",
       "      <td>30.000</td>\n",
       "      <td>57.0000</td>\n",
       "      <td>224.00</td>\n",
       "    </tr>\n",
       "    <tr>\n",
       "      <th>mb_used</th>\n",
       "      <td>3214.0</td>\n",
       "      <td>17207.673836</td>\n",
       "      <td>7570.968246</td>\n",
       "      <td>0.0</td>\n",
       "      <td>12491.9025</td>\n",
       "      <td>16943.235</td>\n",
       "      <td>21424.7000</td>\n",
       "      <td>49745.73</td>\n",
       "    </tr>\n",
       "    <tr>\n",
       "      <th>is_ultra</th>\n",
       "      <td>3214.0</td>\n",
       "      <td>0.306472</td>\n",
       "      <td>0.461100</td>\n",
       "      <td>0.0</td>\n",
       "      <td>0.0000</td>\n",
       "      <td>0.000</td>\n",
       "      <td>1.0000</td>\n",
       "      <td>1.00</td>\n",
       "    </tr>\n",
       "  </tbody>\n",
       "</table>\n",
       "</div>"
      ],
      "text/plain": [
       "           count          mean          std  min         25%        50%  \\\n",
       "calls     3214.0     63.038892    33.236368  0.0     40.0000     62.000   \n",
       "minutes   3214.0    438.208787   234.569872  0.0    274.5750    430.600   \n",
       "messages  3214.0     38.281269    36.148326  0.0      9.0000     30.000   \n",
       "mb_used   3214.0  17207.673836  7570.968246  0.0  12491.9025  16943.235   \n",
       "is_ultra  3214.0      0.306472     0.461100  0.0      0.0000      0.000   \n",
       "\n",
       "                 75%       max  \n",
       "calls        82.0000    244.00  \n",
       "minutes     571.9275   1632.06  \n",
       "messages     57.0000    224.00  \n",
       "mb_used   21424.7000  49745.73  \n",
       "is_ultra      1.0000      1.00  "
      ]
     },
     "execution_count": 6,
     "metadata": {},
     "output_type": "execute_result"
    }
   ],
   "source": [
    "data.describe().T"
   ]
  },
  {
   "cell_type": "markdown",
   "metadata": {},
   "source": [
    "**Описание данных:**\n",
    "\n",
    "Каждый объект в наборе данных — это информация о поведении одного пользователя за месяц. Известно:\n",
    "* сalls — количество звонков. Тип - float64.\n",
    "* minutes — суммарная длительность звонков в минутах. Тип - float64.\n",
    "* messages — количество sms-сообщений. Тип - float64.\n",
    "* mb_used — израсходованный интернет-трафик в Мб. Тип - float64.\n",
    "* is_ultra — каким тарифом пользовался в течение месяца («Ультра» — 1, «Смарт» — 0). Тип - int64."
   ]
  },
  {
   "cell_type": "markdown",
   "metadata": {},
   "source": [
    "### Вывод ###"
   ]
  },
  {
   "cell_type": "markdown",
   "metadata": {},
   "source": [
    "Названия столбцов соотвествует правилам хорошего стиля, пропуски в данных отсутствуют, типы данных соответствуют столбцам."
   ]
  },
  {
   "cell_type": "markdown",
   "metadata": {},
   "source": [
    "## Разбейте данные на выборки"
   ]
  },
  {
   "cell_type": "markdown",
   "metadata": {},
   "source": [
    "Необходимо разделить исходные данные на обучающую, валидационную и тестовую выборки."
   ]
  },
  {
   "cell_type": "code",
   "execution_count": 7,
   "metadata": {},
   "outputs": [],
   "source": [
    "data_train, data_valid_test=train_test_split(data, test_size=0.4, random_state=777)\n",
    "data_valid, data_test=train_test_split(data_valid_test, test_size=0.5, random_state=777)"
   ]
  },
  {
   "cell_type": "markdown",
   "metadata": {},
   "source": [
    "Проверим успешное разделение на выборки."
   ]
  },
  {
   "cell_type": "code",
   "execution_count": 8,
   "metadata": {},
   "outputs": [
    {
     "name": "stdout",
     "output_type": "stream",
     "text": [
      "1928\n",
      "643\n",
      "643\n"
     ]
    }
   ],
   "source": [
    "print (len(data_train))\n",
    "print (len(data_valid))\n",
    "print (len(data_test))"
   ]
  },
  {
   "cell_type": "markdown",
   "metadata": {},
   "source": [
    "### Вывод ###"
   ]
  },
  {
   "cell_type": "markdown",
   "metadata": {},
   "source": [
    "Данные были успешно разделены на обучающую, валидационную и тестовую выборки в соотношении 3:1:1."
   ]
  },
  {
   "cell_type": "markdown",
   "metadata": {},
   "source": [
    "## Исследуйте модели"
   ]
  },
  {
   "cell_type": "markdown",
   "metadata": {},
   "source": [
    "Необходимо исследовать качество разных моделей, меняя гиперпараметры, затем кратко описать выводы исследования."
   ]
  },
  {
   "cell_type": "markdown",
   "metadata": {},
   "source": [
    "Выделим признаки и целевой признак."
   ]
  },
  {
   "cell_type": "code",
   "execution_count": 9,
   "metadata": {},
   "outputs": [],
   "source": [
    "features_train = data_train.drop(['is_ultra'], axis=1)\n",
    "target_train = data_train['is_ultra']\n",
    "features_valid = data_valid.drop(['is_ultra'], axis=1)\n",
    "target_valid = data_valid['is_ultra']\n",
    "features_test = data_test.drop(['is_ultra'], axis=1)\n",
    "target_test = data_test['is_ultra']"
   ]
  },
  {
   "cell_type": "markdown",
   "metadata": {},
   "source": [
    "Посмотрим, как гиперпараметр max_depth дерева решений влияет на качество модели."
   ]
  },
  {
   "cell_type": "code",
   "execution_count": 10,
   "metadata": {},
   "outputs": [
    {
     "name": "stdout",
     "output_type": "stream",
     "text": [
      "max_depth = 1 : 0.7060653188180405\n",
      "max_depth = 2 : 0.7465007776049767\n",
      "max_depth = 3 : 0.7698289269051322\n",
      "max_depth = 4 : 0.7698289269051322\n",
      "max_depth = 5 : 0.7527216174183515\n",
      "max_depth = 6 : 0.7620528771384136\n",
      "max_depth = 7 : 0.7667185069984448\n",
      "max_depth = 8 : 0.7791601866251944\n",
      "max_depth = 9 : 0.7667185069984448\n",
      "max_depth = 10 : 0.7807153965785381\n",
      "max_depth = 11 : 0.7682737169517885\n",
      "max_depth = 12 : 0.7573872472783826\n",
      "max_depth = 13 : 0.7682737169517885\n",
      "max_depth = 14 : 0.7620528771384136\n",
      "max_depth = 15 : 0.7387247278382582\n",
      "max_depth = 16 : 0.7418351477449455\n",
      "max_depth = 17 : 0.7356143079315708\n",
      "max_depth = 18 : 0.7402799377916018\n",
      "max_depth = 19 : 0.7371695178849145\n",
      "Лучший результат : 0.7807153965785381 max_depth =  10\n"
     ]
    }
   ],
   "source": [
    "best_model_DecisionTreeClassifier = None\n",
    "best_result_DecisionTreeClassifier = 0\n",
    "for depth in range(1,20):\n",
    "    model_DecisionTreeClassifier = DecisionTreeClassifier(random_state=777, max_depth=depth)\n",
    "    model_DecisionTreeClassifier.fit(features_train, target_train)\n",
    "    predictions_valid_DecisionTreeClassifier = model_DecisionTreeClassifier.predict(features_valid)\n",
    "    print(\"max_depth =\", depth, \": \", end='')\n",
    "    print(accuracy_score(target_valid, predictions_valid_DecisionTreeClassifier)) \n",
    "    result_DecisionTreeClassifier = accuracy_score(target_valid, predictions_valid_DecisionTreeClassifier)\n",
    "    if result_DecisionTreeClassifier > best_result_DecisionTreeClassifier:\n",
    "        best_model_DecisionTreeClassifier = model_DecisionTreeClassifier\n",
    "        best_result_DecisionTreeClassifier = result_DecisionTreeClassifier\n",
    "        best_max_depth = depth\n",
    "print ('Лучший результат :', best_result_DecisionTreeClassifier, 'max_depth = ', best_max_depth)"
   ]
  },
  {
   "cell_type": "markdown",
   "metadata": {},
   "source": [
    "Посмотрим, как гиперпараметр n_estimators случайного леса влияет на качество модели."
   ]
  },
  {
   "cell_type": "code",
   "execution_count": 11,
   "metadata": {},
   "outputs": [
    {
     "name": "stdout",
     "output_type": "stream",
     "text": [
      "n_estimators = 1 :  0.7262830482115086\n",
      "n_estimators = 2 :  0.7511664074650077\n",
      "n_estimators = 3 :  0.7418351477449455\n",
      "n_estimators = 4 :  0.7465007776049767\n",
      "n_estimators = 5 :  0.744945567651633\n",
      "n_estimators = 6 :  0.76049766718507\n",
      "n_estimators = 7 :  0.7527216174183515\n",
      "n_estimators = 8 :  0.76049766718507\n",
      "n_estimators = 9 :  0.7620528771384136\n",
      "n_estimators = 10 :  0.7667185069984448\n",
      "n_estimators = 11 :  0.76049766718507\n",
      "n_estimators = 12 :  0.7698289269051322\n",
      "n_estimators = 13 :  0.7713841368584758\n",
      "n_estimators = 14 :  0.776049766718507\n",
      "n_estimators = 15 :  0.7744945567651633\n",
      "n_estimators = 16 :  0.7791601866251944\n",
      "n_estimators = 17 :  0.7744945567651633\n",
      "n_estimators = 18 :  0.776049766718507\n",
      "n_estimators = 19 :  0.7791601866251944\n",
      "n_estimators = 20 :  0.7822706065318819\n",
      "n_estimators = 21 :  0.776049766718507\n",
      "n_estimators = 22 :  0.7822706065318819\n",
      "n_estimators = 23 :  0.7776049766718507\n",
      "n_estimators = 24 :  0.7776049766718507\n",
      "n_estimators = 25 :  0.7807153965785381\n",
      "n_estimators = 26 :  0.7807153965785381\n",
      "n_estimators = 27 :  0.7838258164852255\n",
      "n_estimators = 28 :  0.7853810264385692\n",
      "n_estimators = 29 :  0.7791601866251944\n",
      "n_estimators = 30 :  0.7838258164852255\n",
      "n_estimators = 31 :  0.7853810264385692\n",
      "n_estimators = 32 :  0.7869362363919129\n",
      "n_estimators = 33 :  0.7869362363919129\n",
      "n_estimators = 34 :  0.7853810264385692\n",
      "n_estimators = 35 :  0.7884914463452566\n",
      "n_estimators = 36 :  0.7900466562986003\n",
      "n_estimators = 37 :  0.7900466562986003\n",
      "n_estimators = 38 :  0.7884914463452566\n",
      "n_estimators = 39 :  0.7869362363919129\n",
      "n_estimators = 40 :  0.7884914463452566\n",
      "n_estimators = 41 :  0.7884914463452566\n",
      "n_estimators = 42 :  0.7869362363919129\n",
      "n_estimators = 43 :  0.7853810264385692\n",
      "n_estimators = 44 :  0.7869362363919129\n",
      "n_estimators = 45 :  0.7853810264385692\n",
      "n_estimators = 46 :  0.7900466562986003\n",
      "n_estimators = 47 :  0.7869362363919129\n",
      "n_estimators = 48 :  0.7884914463452566\n",
      "n_estimators = 49 :  0.7853810264385692\n",
      "n_estimators = 50 :  0.7884914463452566\n",
      "Лучший результат : 0.7900466562986003 n_estimators =  36\n"
     ]
    }
   ],
   "source": [
    "best_model_RandomForestClassifier = None\n",
    "best_result_RandomForestClassifier = 0\n",
    "for est in range(1, 51):\n",
    "    model_RandomForestClassifier = RandomForestClassifier(random_state=777, n_estimators=est) \n",
    "    model_RandomForestClassifier.fit(features_train, target_train) \n",
    "    predict_RandomForestClassifier = model_RandomForestClassifier.predict(features_valid)\n",
    "    result_RandomForestClassifier = model_RandomForestClassifier.score(features_valid, target_valid)\n",
    "    print (\"n_estimators =\", est, \": \", result_RandomForestClassifier)\n",
    "    if result_RandomForestClassifier > best_result_RandomForestClassifier:\n",
    "        best_model_RandomForestClassifier = model_RandomForestClassifier\n",
    "        best_result_RandomForestClassifier = result_RandomForestClassifier\n",
    "        best_n_estimators = est\n",
    "print ('Лучший результат :', best_result_RandomForestClassifier, 'n_estimators = ', best_n_estimators)"
   ]
  },
  {
   "cell_type": "markdown",
   "metadata": {},
   "source": [
    "Посмотрим на значение качества у логистической регрессии."
   ]
  },
  {
   "cell_type": "code",
   "execution_count": 12,
   "metadata": {},
   "outputs": [
    {
     "name": "stdout",
     "output_type": "stream",
     "text": [
      "accuracy: 0.7262830482115086\n"
     ]
    }
   ],
   "source": [
    "model_LogisticRegression = LogisticRegression(random_state=777) \n",
    "model_LogisticRegression.fit(features_train,target_train) \n",
    "predict_LogisticRegression = model_LogisticRegression.predict(features_valid)\n",
    "print('accuracy:',accuracy_score(predict_LogisticRegression,target_valid))"
   ]
  },
  {
   "cell_type": "markdown",
   "metadata": {},
   "source": [
    "### Вывод ###"
   ]
  },
  {
   "cell_type": "markdown",
   "metadata": {},
   "source": [
    "Наилучшие значения показателя качества у моделей равны:\n",
    "* Дерева решений - 0.78;\n",
    "* Случайного леса - 0.79;\n",
    "* Логистической регрессии - 0.72.\n",
    "\n",
    "Лучшее значение у модели случайного леса, худшее - у модели логистической регрессии."
   ]
  },
  {
   "cell_type": "markdown",
   "metadata": {},
   "source": [
    "## Проверьте модель на тестовой выборке"
   ]
  },
  {
   "cell_type": "markdown",
   "metadata": {},
   "source": [
    "Необходимо проверить качество модели на тестовой выборке."
   ]
  },
  {
   "cell_type": "markdown",
   "metadata": {},
   "source": [
    "Проверим модель случайного леса."
   ]
  },
  {
   "cell_type": "code",
   "execution_count": 13,
   "metadata": {},
   "outputs": [
    {
     "name": "stdout",
     "output_type": "stream",
     "text": [
      " accuracy: 0.7962674961119751\n"
     ]
    }
   ],
   "source": [
    "model_forest = RandomForestClassifier(n_estimators=36, random_state=777)\n",
    "model_forest.fit(features_train, target_train)\n",
    "prediction_forest=model_forest.predict(features_test)\n",
    "#print('n_estimators:',estim,end=\"\")\n",
    "print(' accuracy:',accuracy_score(prediction_forest,target_test))"
   ]
  },
  {
   "cell_type": "markdown",
   "metadata": {},
   "source": [
    "### Вывод ###"
   ]
  },
  {
   "cell_type": "markdown",
   "metadata": {},
   "source": [
    "Лучший и худший показатели качества предсказаний на тестовой выборке аналогичны показателям на валидационной выборке."
   ]
  },
  {
   "cell_type": "markdown",
   "metadata": {},
   "source": [
    "## (бонус) Проверьте модели на адекватность"
   ]
  },
  {
   "cell_type": "markdown",
   "metadata": {},
   "source": [
    "Необходимо сравнить модели со случайной для оценки адекватности моделей."
   ]
  },
  {
   "cell_type": "markdown",
   "metadata": {},
   "source": [
    "В теории мы рассматривали пример со случайной моделью, которая дает ответы 0 или 1 с равной вероятностью. Так как наш целевой признак может принимать значения тоже только 0 или 1, для сравнения можно использовать эту модель. Accuracy такой модели - 0,5 (Ответы модели не связаны с правильными ответами, поэтому вероятность угадать 1 равна 50 % — так же и для 0. Accuracy будет равна 0.5).\n",
    "\n",
    "Каждая из исследованных выше моделей дает более чем на 20% лучшие показатели, что больше качества случайной модели в 1,4 раза (0,7/0,5)."
   ]
  },
  {
   "cell_type": "markdown",
   "metadata": {},
   "source": [
    "## Итог"
   ]
  },
  {
   "cell_type": "markdown",
   "metadata": {},
   "source": [
    "Модель для задачи классификации, которая выберет подходящий тариф с максимально большим значением accuracy - случайный лес с гиперпараметрами random_state=777 и n_estimators=36 (0,79). \n",
    "\n",
    "Эффективность модели на валидационной выборке подтверждена результатами проверки на тестовой выборке. Максимальное полученное значение accuracy на 40 процентов больше по сравнению с значением accuracy случайной модели."
   ]
  }
 ],
 "metadata": {
  "ExecuteTimeLog": [
   {
    "duration": 1506,
    "start_time": "2022-05-23T19:02:18.154Z"
   },
   {
    "duration": 63,
    "start_time": "2022-05-23T19:02:19.889Z"
   },
   {
    "duration": 16,
    "start_time": "2022-05-23T19:02:21.215Z"
   },
   {
    "duration": 11,
    "start_time": "2022-05-23T19:03:42.735Z"
   },
   {
    "duration": 27,
    "start_time": "2022-05-23T19:03:44.686Z"
   },
   {
    "duration": 316,
    "start_time": "2022-05-23T19:10:21.905Z"
   },
   {
    "duration": 7,
    "start_time": "2022-05-23T19:17:55.442Z"
   },
   {
    "duration": 113,
    "start_time": "2022-05-23T19:19:07.161Z"
   },
   {
    "duration": 3,
    "start_time": "2022-05-23T19:19:18.993Z"
   },
   {
    "duration": 32,
    "start_time": "2022-05-23T19:24:57.803Z"
   },
   {
    "duration": 31,
    "start_time": "2022-05-23T19:28:09.856Z"
   },
   {
    "duration": 298,
    "start_time": "2022-05-23T19:30:07.656Z"
   },
   {
    "duration": 26,
    "start_time": "2022-05-23T19:30:57.300Z"
   },
   {
    "duration": 305,
    "start_time": "2022-05-23T19:31:04.878Z"
   },
   {
    "duration": 171,
    "start_time": "2022-05-23T19:33:05.476Z"
   },
   {
    "duration": 855,
    "start_time": "2022-05-23T19:33:18.957Z"
   },
   {
    "duration": 1857,
    "start_time": "2022-05-23T19:33:28.153Z"
   },
   {
    "duration": 2510,
    "start_time": "2022-05-23T19:33:36.040Z"
   },
   {
    "duration": 3175,
    "start_time": "2022-05-23T19:33:54.968Z"
   },
   {
    "duration": 5126,
    "start_time": "2022-05-23T19:34:26.858Z"
   },
   {
    "duration": 35,
    "start_time": "2022-05-23T19:36:43.263Z"
   },
   {
    "duration": 29,
    "start_time": "2022-05-23T19:36:49.310Z"
   },
   {
    "duration": 32,
    "start_time": "2022-05-23T19:36:56.278Z"
   },
   {
    "duration": 5288,
    "start_time": "2022-05-23T19:38:02.913Z"
   },
   {
    "duration": 48,
    "start_time": "2022-05-23T19:39:36.467Z"
   },
   {
    "duration": 5095,
    "start_time": "2022-05-23T19:39:42.855Z"
   },
   {
    "duration": 37,
    "start_time": "2022-05-23T19:41:36.566Z"
   },
   {
    "duration": 164,
    "start_time": "2022-05-23T19:41:49.967Z"
   },
   {
    "duration": 156,
    "start_time": "2022-05-23T19:51:47.460Z"
   },
   {
    "duration": 161,
    "start_time": "2022-05-23T19:51:52.868Z"
   },
   {
    "duration": 22,
    "start_time": "2022-05-23T19:51:55.160Z"
   },
   {
    "duration": 5348,
    "start_time": "2022-05-23T19:52:09.221Z"
   },
   {
    "duration": 28,
    "start_time": "2022-05-23T19:52:14.571Z"
   },
   {
    "duration": 31,
    "start_time": "2022-05-23T19:58:21.470Z"
   },
   {
    "duration": 25,
    "start_time": "2022-05-23T19:59:04.853Z"
   },
   {
    "duration": 6,
    "start_time": "2022-05-23T20:01:12.158Z"
   },
   {
    "duration": 34,
    "start_time": "2022-05-23T20:01:15.824Z"
   },
   {
    "duration": 112,
    "start_time": "2022-05-23T20:01:18.503Z"
   },
   {
    "duration": 15,
    "start_time": "2022-05-23T20:01:20.560Z"
   },
   {
    "duration": 214,
    "start_time": "2022-05-23T20:22:15.718Z"
   },
   {
    "duration": 15,
    "start_time": "2022-05-23T20:23:19.006Z"
   },
   {
    "duration": 10,
    "start_time": "2022-05-23T20:27:14.913Z"
   },
   {
    "duration": 198,
    "start_time": "2022-05-23T20:27:23.133Z"
   },
   {
    "duration": 209,
    "start_time": "2022-05-23T20:27:30.932Z"
   },
   {
    "duration": 197,
    "start_time": "2022-05-23T20:27:33.209Z"
   },
   {
    "duration": 381,
    "start_time": "2022-05-23T20:27:40.683Z"
   },
   {
    "duration": 382,
    "start_time": "2022-05-23T20:27:44.855Z"
   },
   {
    "duration": 391,
    "start_time": "2022-05-23T20:27:47.709Z"
   },
   {
    "duration": 15,
    "start_time": "2022-05-23T20:27:56.302Z"
   },
   {
    "duration": 394,
    "start_time": "2022-05-23T20:27:57.590Z"
   },
   {
    "duration": 16,
    "start_time": "2022-05-23T20:27:59.713Z"
   },
   {
    "duration": 400,
    "start_time": "2022-05-23T20:28:01.327Z"
   },
   {
    "duration": 16,
    "start_time": "2022-05-23T20:28:02.677Z"
   },
   {
    "duration": 387,
    "start_time": "2022-05-23T20:28:13.013Z"
   },
   {
    "duration": 368,
    "start_time": "2022-05-23T20:28:53.520Z"
   },
   {
    "duration": 16,
    "start_time": "2022-05-23T20:28:55.330Z"
   },
   {
    "duration": 15,
    "start_time": "2022-05-23T20:28:56.842Z"
   },
   {
    "duration": 19,
    "start_time": "2022-05-23T20:28:58.322Z"
   },
   {
    "duration": 14,
    "start_time": "2022-05-23T20:28:59.506Z"
   },
   {
    "duration": 15,
    "start_time": "2022-05-23T20:29:00.472Z"
   },
   {
    "duration": 14,
    "start_time": "2022-05-23T20:29:01.341Z"
   },
   {
    "duration": 14,
    "start_time": "2022-05-23T20:29:02.269Z"
   },
   {
    "duration": 31,
    "start_time": "2022-05-23T20:29:04.659Z"
   },
   {
    "duration": 30,
    "start_time": "2022-05-23T20:29:10.160Z"
   },
   {
    "duration": 30,
    "start_time": "2022-05-23T20:29:35.855Z"
   },
   {
    "duration": 388,
    "start_time": "2022-05-23T20:29:48.484Z"
   },
   {
    "duration": 381,
    "start_time": "2022-05-23T20:29:50.227Z"
   },
   {
    "duration": 390,
    "start_time": "2022-05-23T20:32:14.216Z"
   },
   {
    "duration": 5,
    "start_time": "2022-05-23T20:33:56.811Z"
   },
   {
    "duration": 917,
    "start_time": "2022-05-23T20:51:35.158Z"
   },
   {
    "duration": 29,
    "start_time": "2022-05-23T20:51:36.077Z"
   },
   {
    "duration": 19,
    "start_time": "2022-05-23T20:51:36.108Z"
   },
   {
    "duration": 11,
    "start_time": "2022-05-23T20:51:36.128Z"
   },
   {
    "duration": 26,
    "start_time": "2022-05-23T20:51:36.140Z"
   },
   {
    "duration": 6,
    "start_time": "2022-05-23T20:51:36.168Z"
   },
   {
    "duration": 4,
    "start_time": "2022-05-23T20:51:36.175Z"
   },
   {
    "duration": 13,
    "start_time": "2022-05-23T20:51:36.180Z"
   },
   {
    "duration": 190,
    "start_time": "2022-05-23T20:51:36.195Z"
   },
   {
    "duration": 128,
    "start_time": "2022-05-23T20:51:36.387Z"
   },
   {
    "duration": 0,
    "start_time": "2022-05-23T20:51:36.516Z"
   },
   {
    "duration": 0,
    "start_time": "2022-05-23T20:51:36.518Z"
   },
   {
    "duration": 0,
    "start_time": "2022-05-23T20:51:36.520Z"
   },
   {
    "duration": 0,
    "start_time": "2022-05-23T20:51:36.527Z"
   },
   {
    "duration": 5226,
    "start_time": "2022-05-23T20:52:12.265Z"
   },
   {
    "duration": 30,
    "start_time": "2022-05-23T20:52:21.091Z"
   },
   {
    "duration": 13,
    "start_time": "2022-05-23T20:52:21.123Z"
   },
   {
    "duration": 113,
    "start_time": "2022-05-23T20:52:21.138Z"
   },
   {
    "duration": 29,
    "start_time": "2022-05-23T20:52:21.253Z"
   },
   {
    "duration": 1031,
    "start_time": "2022-05-23T21:56:29.673Z"
   },
   {
    "duration": 33,
    "start_time": "2022-05-23T21:56:30.709Z"
   },
   {
    "duration": 20,
    "start_time": "2022-05-23T21:56:30.744Z"
   },
   {
    "duration": 18,
    "start_time": "2022-05-23T21:56:30.767Z"
   },
   {
    "duration": 63,
    "start_time": "2022-05-23T21:56:30.786Z"
   },
   {
    "duration": 7,
    "start_time": "2022-05-23T21:56:30.851Z"
   },
   {
    "duration": 17,
    "start_time": "2022-05-23T21:56:30.860Z"
   },
   {
    "duration": 42,
    "start_time": "2022-05-23T21:56:30.880Z"
   },
   {
    "duration": 205,
    "start_time": "2022-05-23T21:56:30.924Z"
   },
   {
    "duration": 5781,
    "start_time": "2022-05-23T21:56:31.131Z"
   },
   {
    "duration": 36,
    "start_time": "2022-05-23T21:56:36.914Z"
   },
   {
    "duration": 15,
    "start_time": "2022-05-23T21:56:36.952Z"
   },
   {
    "duration": 161,
    "start_time": "2022-05-23T21:56:36.969Z"
   },
   {
    "duration": 32,
    "start_time": "2022-05-23T21:56:37.132Z"
   },
   {
    "duration": 5,
    "start_time": "2022-05-23T22:07:47.820Z"
   },
   {
    "duration": 4,
    "start_time": "2022-05-23T22:09:56.977Z"
   },
   {
    "duration": 5,
    "start_time": "2022-05-23T22:11:13.209Z"
   },
   {
    "duration": 22,
    "start_time": "2022-05-23T22:12:12.781Z"
   },
   {
    "duration": 5,
    "start_time": "2022-05-23T22:15:54.083Z"
   },
   {
    "duration": 4,
    "start_time": "2022-05-23T22:16:00.610Z"
   },
   {
    "duration": 107,
    "start_time": "2022-05-23T22:17:06.910Z"
   },
   {
    "duration": 8,
    "start_time": "2022-05-23T22:17:18.193Z"
   },
   {
    "duration": 5,
    "start_time": "2022-05-23T22:17:18.681Z"
   },
   {
    "duration": 8,
    "start_time": "2022-05-23T22:17:23.309Z"
   },
   {
    "duration": 241,
    "start_time": "2022-05-23T22:17:51.530Z"
   },
   {
    "duration": 5,
    "start_time": "2022-05-23T22:17:56.970Z"
   },
   {
    "duration": 68,
    "start_time": "2022-05-31T18:21:05.056Z"
   },
   {
    "duration": 1134,
    "start_time": "2022-05-31T18:21:11.458Z"
   },
   {
    "duration": 135,
    "start_time": "2022-05-31T18:21:12.594Z"
   },
   {
    "duration": 20,
    "start_time": "2022-05-31T18:21:12.731Z"
   },
   {
    "duration": 14,
    "start_time": "2022-05-31T18:21:12.753Z"
   },
   {
    "duration": 42,
    "start_time": "2022-05-31T18:21:12.769Z"
   },
   {
    "duration": 6,
    "start_time": "2022-05-31T18:21:12.812Z"
   },
   {
    "duration": 6,
    "start_time": "2022-05-31T18:21:12.820Z"
   },
   {
    "duration": 8,
    "start_time": "2022-05-31T18:21:12.827Z"
   },
   {
    "duration": 209,
    "start_time": "2022-05-31T18:21:12.836Z"
   },
   {
    "duration": 6430,
    "start_time": "2022-05-31T18:21:13.047Z"
   },
   {
    "duration": 39,
    "start_time": "2022-05-31T18:21:19.479Z"
   },
   {
    "duration": 192,
    "start_time": "2022-05-31T18:21:19.520Z"
   }
  ],
  "kernelspec": {
   "display_name": "Python 3",
   "language": "python",
   "name": "python3"
  },
  "language_info": {
   "codemirror_mode": {
    "name": "ipython",
    "version": 3
   },
   "file_extension": ".py",
   "mimetype": "text/x-python",
   "name": "python",
   "nbconvert_exporter": "python",
   "pygments_lexer": "ipython3",
   "version": "3.8.8"
  },
  "toc": {
   "base_numbering": 1,
   "nav_menu": {},
   "number_sections": true,
   "sideBar": true,
   "skip_h1_title": true,
   "title_cell": "Table of Contents",
   "title_sidebar": "Contents",
   "toc_cell": false,
   "toc_position": {},
   "toc_section_display": true,
   "toc_window_display": false
  }
 },
 "nbformat": 4,
 "nbformat_minor": 2
}
