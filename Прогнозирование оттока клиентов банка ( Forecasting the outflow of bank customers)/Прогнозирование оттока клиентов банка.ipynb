{
 "cells": [
  {
   "cell_type": "markdown",
   "id": "3c587020",
   "metadata": {},
   "source": [
    "# Прогнозирование оттока клиентов банка #"
   ]
  },
  {
   "cell_type": "markdown",
   "id": "e2ee76e8",
   "metadata": {},
   "source": [
    "**Описание исследования:** Из «Бета-Банка» стали уходить клиенты. Каждый месяц. Немного, но заметно. Банковские маркетологи посчитали: сохранять текущих клиентов дешевле, чем привлекать новых.\n",
    "\n",
    "**Цель исследования:**  \n",
    "1. Спрогнозировать, уйдёт клиент из банка в ближайшее время или нет, на основе предоставленных исторических данных о поведении клиентов и расторжении договоров с банком. \n",
    "2. Построить модель с предельно большим значением *F1*-меры. (не менее 0,59).\n",
    "3. Измерить *AUC-ROC*, сравнить её значение с *F1*-мерой."
   ]
  },
  {
   "cell_type": "markdown",
   "id": "c7ca0198",
   "metadata": {
    "toc": true
   },
   "source": [
    "<h1>Содержание<span class=\"tocSkip\"></span></h1>\n",
    "<div class=\"toc\"><ul class=\"toc-item\"><li><span><a href=\"#Подготовка-данных\" data-toc-modified-id=\"Подготовка-данных-1\"><span class=\"toc-item-num\">1&nbsp;&nbsp;</span>Подготовка данных</a></span><ul class=\"toc-item\"><li><span><a href=\"#Вывод\" data-toc-modified-id=\"Вывод-1.1\"><span class=\"toc-item-num\">1.1&nbsp;&nbsp;</span>Вывод</a></span></li><li><span><a href=\"#Предобработка-данных\" data-toc-modified-id=\"Предобработка-данных-1.2\"><span class=\"toc-item-num\">1.2&nbsp;&nbsp;</span>Предобработка данных</a></span><ul class=\"toc-item\"><li><span><a href=\"#Вывод\" data-toc-modified-id=\"Вывод-1.2.1\"><span class=\"toc-item-num\">1.2.1&nbsp;&nbsp;</span>Вывод</a></span></li></ul></li></ul></li><li><span><a href=\"#Исследование-задачи\" data-toc-modified-id=\"Исследование-задачи-2\"><span class=\"toc-item-num\">2&nbsp;&nbsp;</span>Исследование задачи</a></span><ul class=\"toc-item\"><li><span><a href=\"#Вывод\" data-toc-modified-id=\"Вывод-2.1\"><span class=\"toc-item-num\">2.1&nbsp;&nbsp;</span>Вывод</a></span></li></ul></li><li><span><a href=\"#Борьба-с-дисбалансом\" data-toc-modified-id=\"Борьба-с-дисбалансом-3\"><span class=\"toc-item-num\">3&nbsp;&nbsp;</span>Борьба с дисбалансом</a></span><ul class=\"toc-item\"><li><span><a href=\"#Метод-Upsampling\" data-toc-modified-id=\"Метод-Upsampling-3.1\"><span class=\"toc-item-num\">3.1&nbsp;&nbsp;</span>Метод Upsampling</a></span></li><li><span><a href=\"#Метод-Downsampling\" data-toc-modified-id=\"Метод-Downsampling-3.2\"><span class=\"toc-item-num\">3.2&nbsp;&nbsp;</span>Метод Downsampling</a></span></li><li><span><a href=\"#Использование-параметра-class_weight\" data-toc-modified-id=\"Использование-параметра-class_weight-3.3\"><span class=\"toc-item-num\">3.3&nbsp;&nbsp;</span>Использование параметра class_weight</a></span></li><li><span><a href=\"#Вывод\" data-toc-modified-id=\"Вывод-3.4\"><span class=\"toc-item-num\">3.4&nbsp;&nbsp;</span>Вывод</a></span></li></ul></li><li><span><a href=\"#Тестирование-модели\" data-toc-modified-id=\"Тестирование-модели-4\"><span class=\"toc-item-num\">4&nbsp;&nbsp;</span>Тестирование модели</a></span><ul class=\"toc-item\"><li><span><a href=\"#Вывод\" data-toc-modified-id=\"Вывод-4.1\"><span class=\"toc-item-num\">4.1&nbsp;&nbsp;</span>Вывод</a></span></li></ul></li></ul></div>"
   ]
  },
  {
   "cell_type": "markdown",
   "id": "faaa107a",
   "metadata": {},
   "source": [
    "## Подготовка данных"
   ]
  },
  {
   "cell_type": "markdown",
   "id": "0a068962",
   "metadata": {},
   "source": [
    "Импортируем необходимые для работы библиотеки."
   ]
  },
  {
   "cell_type": "code",
   "execution_count": 1,
   "id": "bdf344f7",
   "metadata": {},
   "outputs": [],
   "source": [
    "import pandas as pd\n",
    "import numpy as np\n",
    "from sklearn.metrics import f1_score\n",
    "from sklearn.metrics import auc\n",
    "from sklearn.metrics import roc_curve\n",
    "from sklearn.metrics import roc_auc_score \n",
    "from sklearn.metrics import accuracy_score\n",
    "import matplotlib.pyplot as plt\n",
    "from sklearn.linear_model import LogisticRegression\n",
    "from sklearn.ensemble import RandomForestClassifier\n",
    "from sklearn.tree import DecisionTreeClassifier\n",
    "from sklearn.model_selection import train_test_split\n",
    "from sklearn.utils import shuffle\n",
    "from sklearn.preprocessing import StandardScaler"
   ]
  },
  {
   "cell_type": "code",
   "execution_count": 2,
   "id": "bfe95d1a",
   "metadata": {},
   "outputs": [],
   "source": [
    "pd.set_option('display.max_rows', None)\n",
    "pd.set_option('display.max_colwidth', None)"
   ]
  },
  {
   "cell_type": "markdown",
   "id": "5ba81b8e",
   "metadata": {},
   "source": [
    "Загрузим данные в переменную и изучим их."
   ]
  },
  {
   "cell_type": "code",
   "execution_count": 3,
   "id": "fc45093a",
   "metadata": {
    "scrolled": true
   },
   "outputs": [
    {
     "ename": "FileNotFoundError",
     "evalue": "[Errno 2] No such file or directory: '/datasets/Churn.csv'",
     "output_type": "error",
     "traceback": [
      "\u001b[1;31m---------------------------------------------------------------------------\u001b[0m",
      "\u001b[1;31mFileNotFoundError\u001b[0m                         Traceback (most recent call last)",
      "\u001b[1;32m<ipython-input-3-ad012380ea7a>\u001b[0m in \u001b[0;36m<module>\u001b[1;34m\u001b[0m\n\u001b[1;32m----> 1\u001b[1;33m \u001b[0mdata\u001b[0m \u001b[1;33m=\u001b[0m \u001b[0mpd\u001b[0m\u001b[1;33m.\u001b[0m\u001b[0mread_csv\u001b[0m\u001b[1;33m(\u001b[0m\u001b[1;34m\"/datasets/Churn.csv\"\u001b[0m\u001b[1;33m)\u001b[0m\u001b[1;33m\u001b[0m\u001b[1;33m\u001b[0m\u001b[0m\n\u001b[0m",
      "\u001b[1;32mC:\\ProgramData\\Anaconda3\\lib\\site-packages\\pandas\\io\\parsers.py\u001b[0m in \u001b[0;36mread_csv\u001b[1;34m(filepath_or_buffer, sep, delimiter, header, names, index_col, usecols, squeeze, prefix, mangle_dupe_cols, dtype, engine, converters, true_values, false_values, skipinitialspace, skiprows, skipfooter, nrows, na_values, keep_default_na, na_filter, verbose, skip_blank_lines, parse_dates, infer_datetime_format, keep_date_col, date_parser, dayfirst, cache_dates, iterator, chunksize, compression, thousands, decimal, lineterminator, quotechar, quoting, doublequote, escapechar, comment, encoding, dialect, error_bad_lines, warn_bad_lines, delim_whitespace, low_memory, memory_map, float_precision, storage_options)\u001b[0m\n\u001b[0;32m    608\u001b[0m     \u001b[0mkwds\u001b[0m\u001b[1;33m.\u001b[0m\u001b[0mupdate\u001b[0m\u001b[1;33m(\u001b[0m\u001b[0mkwds_defaults\u001b[0m\u001b[1;33m)\u001b[0m\u001b[1;33m\u001b[0m\u001b[1;33m\u001b[0m\u001b[0m\n\u001b[0;32m    609\u001b[0m \u001b[1;33m\u001b[0m\u001b[0m\n\u001b[1;32m--> 610\u001b[1;33m     \u001b[1;32mreturn\u001b[0m \u001b[0m_read\u001b[0m\u001b[1;33m(\u001b[0m\u001b[0mfilepath_or_buffer\u001b[0m\u001b[1;33m,\u001b[0m \u001b[0mkwds\u001b[0m\u001b[1;33m)\u001b[0m\u001b[1;33m\u001b[0m\u001b[1;33m\u001b[0m\u001b[0m\n\u001b[0m\u001b[0;32m    611\u001b[0m \u001b[1;33m\u001b[0m\u001b[0m\n\u001b[0;32m    612\u001b[0m \u001b[1;33m\u001b[0m\u001b[0m\n",
      "\u001b[1;32mC:\\ProgramData\\Anaconda3\\lib\\site-packages\\pandas\\io\\parsers.py\u001b[0m in \u001b[0;36m_read\u001b[1;34m(filepath_or_buffer, kwds)\u001b[0m\n\u001b[0;32m    460\u001b[0m \u001b[1;33m\u001b[0m\u001b[0m\n\u001b[0;32m    461\u001b[0m     \u001b[1;31m# Create the parser.\u001b[0m\u001b[1;33m\u001b[0m\u001b[1;33m\u001b[0m\u001b[1;33m\u001b[0m\u001b[0m\n\u001b[1;32m--> 462\u001b[1;33m     \u001b[0mparser\u001b[0m \u001b[1;33m=\u001b[0m \u001b[0mTextFileReader\u001b[0m\u001b[1;33m(\u001b[0m\u001b[0mfilepath_or_buffer\u001b[0m\u001b[1;33m,\u001b[0m \u001b[1;33m**\u001b[0m\u001b[0mkwds\u001b[0m\u001b[1;33m)\u001b[0m\u001b[1;33m\u001b[0m\u001b[1;33m\u001b[0m\u001b[0m\n\u001b[0m\u001b[0;32m    463\u001b[0m \u001b[1;33m\u001b[0m\u001b[0m\n\u001b[0;32m    464\u001b[0m     \u001b[1;32mif\u001b[0m \u001b[0mchunksize\u001b[0m \u001b[1;32mor\u001b[0m \u001b[0miterator\u001b[0m\u001b[1;33m:\u001b[0m\u001b[1;33m\u001b[0m\u001b[1;33m\u001b[0m\u001b[0m\n",
      "\u001b[1;32mC:\\ProgramData\\Anaconda3\\lib\\site-packages\\pandas\\io\\parsers.py\u001b[0m in \u001b[0;36m__init__\u001b[1;34m(self, f, engine, **kwds)\u001b[0m\n\u001b[0;32m    817\u001b[0m             \u001b[0mself\u001b[0m\u001b[1;33m.\u001b[0m\u001b[0moptions\u001b[0m\u001b[1;33m[\u001b[0m\u001b[1;34m\"has_index_names\"\u001b[0m\u001b[1;33m]\u001b[0m \u001b[1;33m=\u001b[0m \u001b[0mkwds\u001b[0m\u001b[1;33m[\u001b[0m\u001b[1;34m\"has_index_names\"\u001b[0m\u001b[1;33m]\u001b[0m\u001b[1;33m\u001b[0m\u001b[1;33m\u001b[0m\u001b[0m\n\u001b[0;32m    818\u001b[0m \u001b[1;33m\u001b[0m\u001b[0m\n\u001b[1;32m--> 819\u001b[1;33m         \u001b[0mself\u001b[0m\u001b[1;33m.\u001b[0m\u001b[0m_engine\u001b[0m \u001b[1;33m=\u001b[0m \u001b[0mself\u001b[0m\u001b[1;33m.\u001b[0m\u001b[0m_make_engine\u001b[0m\u001b[1;33m(\u001b[0m\u001b[0mself\u001b[0m\u001b[1;33m.\u001b[0m\u001b[0mengine\u001b[0m\u001b[1;33m)\u001b[0m\u001b[1;33m\u001b[0m\u001b[1;33m\u001b[0m\u001b[0m\n\u001b[0m\u001b[0;32m    820\u001b[0m \u001b[1;33m\u001b[0m\u001b[0m\n\u001b[0;32m    821\u001b[0m     \u001b[1;32mdef\u001b[0m \u001b[0mclose\u001b[0m\u001b[1;33m(\u001b[0m\u001b[0mself\u001b[0m\u001b[1;33m)\u001b[0m\u001b[1;33m:\u001b[0m\u001b[1;33m\u001b[0m\u001b[1;33m\u001b[0m\u001b[0m\n",
      "\u001b[1;32mC:\\ProgramData\\Anaconda3\\lib\\site-packages\\pandas\\io\\parsers.py\u001b[0m in \u001b[0;36m_make_engine\u001b[1;34m(self, engine)\u001b[0m\n\u001b[0;32m   1048\u001b[0m             )\n\u001b[0;32m   1049\u001b[0m         \u001b[1;31m# error: Too many arguments for \"ParserBase\"\u001b[0m\u001b[1;33m\u001b[0m\u001b[1;33m\u001b[0m\u001b[1;33m\u001b[0m\u001b[0m\n\u001b[1;32m-> 1050\u001b[1;33m         \u001b[1;32mreturn\u001b[0m \u001b[0mmapping\u001b[0m\u001b[1;33m[\u001b[0m\u001b[0mengine\u001b[0m\u001b[1;33m]\u001b[0m\u001b[1;33m(\u001b[0m\u001b[0mself\u001b[0m\u001b[1;33m.\u001b[0m\u001b[0mf\u001b[0m\u001b[1;33m,\u001b[0m \u001b[1;33m**\u001b[0m\u001b[0mself\u001b[0m\u001b[1;33m.\u001b[0m\u001b[0moptions\u001b[0m\u001b[1;33m)\u001b[0m  \u001b[1;31m# type: ignore[call-arg]\u001b[0m\u001b[1;33m\u001b[0m\u001b[1;33m\u001b[0m\u001b[0m\n\u001b[0m\u001b[0;32m   1051\u001b[0m \u001b[1;33m\u001b[0m\u001b[0m\n\u001b[0;32m   1052\u001b[0m     \u001b[1;32mdef\u001b[0m \u001b[0m_failover_to_python\u001b[0m\u001b[1;33m(\u001b[0m\u001b[0mself\u001b[0m\u001b[1;33m)\u001b[0m\u001b[1;33m:\u001b[0m\u001b[1;33m\u001b[0m\u001b[1;33m\u001b[0m\u001b[0m\n",
      "\u001b[1;32mC:\\ProgramData\\Anaconda3\\lib\\site-packages\\pandas\\io\\parsers.py\u001b[0m in \u001b[0;36m__init__\u001b[1;34m(self, src, **kwds)\u001b[0m\n\u001b[0;32m   1865\u001b[0m \u001b[1;33m\u001b[0m\u001b[0m\n\u001b[0;32m   1866\u001b[0m         \u001b[1;31m# open handles\u001b[0m\u001b[1;33m\u001b[0m\u001b[1;33m\u001b[0m\u001b[1;33m\u001b[0m\u001b[0m\n\u001b[1;32m-> 1867\u001b[1;33m         \u001b[0mself\u001b[0m\u001b[1;33m.\u001b[0m\u001b[0m_open_handles\u001b[0m\u001b[1;33m(\u001b[0m\u001b[0msrc\u001b[0m\u001b[1;33m,\u001b[0m \u001b[0mkwds\u001b[0m\u001b[1;33m)\u001b[0m\u001b[1;33m\u001b[0m\u001b[1;33m\u001b[0m\u001b[0m\n\u001b[0m\u001b[0;32m   1868\u001b[0m         \u001b[1;32massert\u001b[0m \u001b[0mself\u001b[0m\u001b[1;33m.\u001b[0m\u001b[0mhandles\u001b[0m \u001b[1;32mis\u001b[0m \u001b[1;32mnot\u001b[0m \u001b[1;32mNone\u001b[0m\u001b[1;33m\u001b[0m\u001b[1;33m\u001b[0m\u001b[0m\n\u001b[0;32m   1869\u001b[0m         \u001b[1;32mfor\u001b[0m \u001b[0mkey\u001b[0m \u001b[1;32min\u001b[0m \u001b[1;33m(\u001b[0m\u001b[1;34m\"storage_options\"\u001b[0m\u001b[1;33m,\u001b[0m \u001b[1;34m\"encoding\"\u001b[0m\u001b[1;33m,\u001b[0m \u001b[1;34m\"memory_map\"\u001b[0m\u001b[1;33m,\u001b[0m \u001b[1;34m\"compression\"\u001b[0m\u001b[1;33m)\u001b[0m\u001b[1;33m:\u001b[0m\u001b[1;33m\u001b[0m\u001b[1;33m\u001b[0m\u001b[0m\n",
      "\u001b[1;32mC:\\ProgramData\\Anaconda3\\lib\\site-packages\\pandas\\io\\parsers.py\u001b[0m in \u001b[0;36m_open_handles\u001b[1;34m(self, src, kwds)\u001b[0m\n\u001b[0;32m   1360\u001b[0m         \u001b[0mLet\u001b[0m \u001b[0mthe\u001b[0m \u001b[0mreaders\u001b[0m \u001b[0mopen\u001b[0m \u001b[0mIOHanldes\u001b[0m \u001b[0mafter\u001b[0m \u001b[0mthey\u001b[0m \u001b[0mare\u001b[0m \u001b[0mdone\u001b[0m \u001b[1;32mwith\u001b[0m \u001b[0mtheir\u001b[0m \u001b[0mpotential\u001b[0m \u001b[0mraises\u001b[0m\u001b[1;33m.\u001b[0m\u001b[1;33m\u001b[0m\u001b[1;33m\u001b[0m\u001b[0m\n\u001b[0;32m   1361\u001b[0m         \"\"\"\n\u001b[1;32m-> 1362\u001b[1;33m         self.handles = get_handle(\n\u001b[0m\u001b[0;32m   1363\u001b[0m             \u001b[0msrc\u001b[0m\u001b[1;33m,\u001b[0m\u001b[1;33m\u001b[0m\u001b[1;33m\u001b[0m\u001b[0m\n\u001b[0;32m   1364\u001b[0m             \u001b[1;34m\"r\"\u001b[0m\u001b[1;33m,\u001b[0m\u001b[1;33m\u001b[0m\u001b[1;33m\u001b[0m\u001b[0m\n",
      "\u001b[1;32mC:\\ProgramData\\Anaconda3\\lib\\site-packages\\pandas\\io\\common.py\u001b[0m in \u001b[0;36mget_handle\u001b[1;34m(path_or_buf, mode, encoding, compression, memory_map, is_text, errors, storage_options)\u001b[0m\n\u001b[0;32m    640\u001b[0m                 \u001b[0merrors\u001b[0m \u001b[1;33m=\u001b[0m \u001b[1;34m\"replace\"\u001b[0m\u001b[1;33m\u001b[0m\u001b[1;33m\u001b[0m\u001b[0m\n\u001b[0;32m    641\u001b[0m             \u001b[1;31m# Encoding\u001b[0m\u001b[1;33m\u001b[0m\u001b[1;33m\u001b[0m\u001b[1;33m\u001b[0m\u001b[0m\n\u001b[1;32m--> 642\u001b[1;33m             handle = open(\n\u001b[0m\u001b[0;32m    643\u001b[0m                 \u001b[0mhandle\u001b[0m\u001b[1;33m,\u001b[0m\u001b[1;33m\u001b[0m\u001b[1;33m\u001b[0m\u001b[0m\n\u001b[0;32m    644\u001b[0m                 \u001b[0mioargs\u001b[0m\u001b[1;33m.\u001b[0m\u001b[0mmode\u001b[0m\u001b[1;33m,\u001b[0m\u001b[1;33m\u001b[0m\u001b[1;33m\u001b[0m\u001b[0m\n",
      "\u001b[1;31mFileNotFoundError\u001b[0m: [Errno 2] No such file or directory: '/datasets/Churn.csv'"
     ]
    }
   ],
   "source": [
    "data = pd.read_csv(\"/datasets/Churn.csv\")"
   ]
  },
  {
   "cell_type": "code",
   "execution_count": null,
   "id": "c5496622",
   "metadata": {},
   "outputs": [],
   "source": [
    "data.info()"
   ]
  },
  {
   "cell_type": "code",
   "execution_count": null,
   "id": "aa4c854f",
   "metadata": {},
   "outputs": [],
   "source": [
    "data.head(15)"
   ]
  },
  {
   "cell_type": "code",
   "execution_count": null,
   "id": "1bed4afa",
   "metadata": {},
   "outputs": [],
   "source": [
    "data.describe().T"
   ]
  },
  {
   "cell_type": "markdown",
   "id": "b09977e7",
   "metadata": {},
   "source": [
    "**Описание данных:**\n",
    "\n",
    "Признаки:\n",
    "* RowNumber — индекс строки в данных. Тип - int64, подходит значениям столбца.\n",
    "* CustomerId — уникальный идентификатор клиента. Тип - int64, подходит значениям столбца.\n",
    "* Surname — фамилия. Тип - object, подходит значениям столбца.\n",
    "* CreditScore — кредитный рейтинг. Тип - int64, подходит значениям столбца.\n",
    "* Geography — страна проживания. Тип - object, подходит значениям столбца.\n",
    "* Gender — пол. Тип - object, возможна замена на более корректный тип.\n",
    "* Age — возраст. Тип - int64, подходит значениям столбца.\n",
    "* Tenure — сколько лет человек является клиентом банка. Тип - int64, подходит значениям столбца.\n",
    "* Balance — баланс на счёте. Тип - float64, возможна замена на более корректный тип.\n",
    "* NumOfProducts — количество продуктов банка, используемых клиентом. \n",
    "* HasCrCard — наличие кредитной карты. Тип - int64, подходит значениям столбца.\n",
    "* IsActiveMember — активность клиента. Тип - int64, подходит значениям столбца.\n",
    "* EstimatedSalary — предполагаемая зарплата. Тип - float64, возможна замена на более корректный тип.\n",
    "\n",
    "Целевой признак:\n",
    "* Exited — факт ухода клиента. Тип - int64, подходит значениям столбца."
   ]
  },
  {
   "cell_type": "markdown",
   "id": "f3612fdb",
   "metadata": {},
   "source": [
    "### Вывод"
   ]
  },
  {
   "cell_type": "markdown",
   "id": "a405ee6e",
   "metadata": {},
   "source": [
    "1. Много названий столбцов, несоответствующих требованиям хорошего стиля, их  будет необходимо переименовать.\n",
    "2. Имеются столбцы с типами данных, которые можно было бы заменить на менее затратные в плане памяти, и возможно некоторые из них будет корректно заменить на идентификаторы в виду малого количества типов объектов.\n",
    "3. В данных имеются пропуски, их необходимо обработать.\n",
    "4. Столбцы CustomerId и Surname не влияют на прогнозирование оттока клиентов, поэтому будут удалены."
   ]
  },
  {
   "cell_type": "markdown",
   "id": "06b89899",
   "metadata": {},
   "source": [
    "### Предобработка данных"
   ]
  },
  {
   "cell_type": "markdown",
   "id": "65ac92b7",
   "metadata": {},
   "source": [
    "Для начала исправим названия признаков."
   ]
  },
  {
   "cell_type": "code",
   "execution_count": null,
   "id": "28a4d928",
   "metadata": {},
   "outputs": [],
   "source": [
    "new_columns = ['row_number', 'customer_id', 'surname', 'credit_score', 'geography',\n",
    "       'gender', 'age', 'tenure', 'balance', 'num_of_products', 'has_cr_card',\n",
    "       'is_active_member', 'estimated_salary', 'exited']"
   ]
  },
  {
   "cell_type": "code",
   "execution_count": null,
   "id": "0cecd01d",
   "metadata": {},
   "outputs": [],
   "source": [
    "data.columns = new_columns\n",
    "data.info()"
   ]
  },
  {
   "cell_type": "markdown",
   "id": "1dfe7e98",
   "metadata": {},
   "source": [
    "Просмотрим уникальные значения признаков, проверим записи на дубликаты."
   ]
  },
  {
   "cell_type": "code",
   "execution_count": null,
   "id": "2623f954",
   "metadata": {
    "scrolled": true
   },
   "outputs": [],
   "source": [
    "def unique (data):\n",
    "    for column in data.columns:\n",
    "        print('Уникальные значения столбца', column)\n",
    "        print (data[column].sort_values().unique().tolist())\n",
    "        print ('--------------------------')\n",
    "    return\n",
    "unique (data)"
   ]
  },
  {
   "cell_type": "code",
   "execution_count": null,
   "id": "e2c47aa7",
   "metadata": {},
   "outputs": [],
   "source": [
    "def value_counts (data):\n",
    "    for column in data.columns:\n",
    "        print('Значения столбца', column)\n",
    "        print (data[column].sort_values().value_counts())\n",
    "        print ('--------------------------')\n",
    "    return\n",
    "value_counts (data)"
   ]
  },
  {
   "cell_type": "code",
   "execution_count": null,
   "id": "2a6fc792",
   "metadata": {},
   "outputs": [],
   "source": [
    "data[data.duplicated() == True]"
   ]
  },
  {
   "cell_type": "code",
   "execution_count": null,
   "id": "2d55c1dc",
   "metadata": {},
   "outputs": [],
   "source": [
    "data[data['tenure'].isna() == True]"
   ]
  },
  {
   "cell_type": "markdown",
   "id": "2ec4e247",
   "metadata": {},
   "source": [
    "Теперь необходимо обработать пропуски. Пропуски находятся в столбце tenure - сколько лет является клиентом банка. Этот столбец важен для исследования, но при этом пропусков не очень много - менее 10%. Мне кажется некорректным заменять эти значения медианными, т.к. это окажет влияние на обучение в дальнейшем, других закономерностей по которым можно было бы предположить способ заполнений, мною не найдено. Поэтому избавлюсь от пропусков."
   ]
  },
  {
   "cell_type": "code",
   "execution_count": null,
   "id": "19bd9409",
   "metadata": {},
   "outputs": [],
   "source": [
    "data = data.fillna(-1)"
   ]
  },
  {
   "cell_type": "code",
   "execution_count": null,
   "id": "28aefc54",
   "metadata": {},
   "outputs": [],
   "source": [
    "data['tenure'] = data['tenure'].astype(object)"
   ]
  },
  {
   "cell_type": "markdown",
   "id": "bfdff7c3",
   "metadata": {},
   "source": [
    "Удалим ненужные столбцы."
   ]
  },
  {
   "cell_type": "code",
   "execution_count": null,
   "id": "6b1ff179",
   "metadata": {},
   "outputs": [],
   "source": [
    "data = data.drop (['customer_id', 'surname', 'row_number'], axis = 1)"
   ]
  },
  {
   "cell_type": "code",
   "execution_count": null,
   "id": "dc02b211",
   "metadata": {
    "scrolled": false
   },
   "outputs": [],
   "source": [
    "data.info()"
   ]
  },
  {
   "cell_type": "markdown",
   "id": "24117a74",
   "metadata": {},
   "source": [
    "#### Вывод"
   ]
  },
  {
   "cell_type": "markdown",
   "id": "69cbdfe3",
   "metadata": {},
   "source": [
    "Были исправлены названия признаков. Дубликаты и аномалии в значениях не обнаружены. Пропуски в виду их малого количества были удалены. Столбцы, не влияющие на исследование, также были удалены."
   ]
  },
  {
   "cell_type": "markdown",
   "id": "d3a01a79",
   "metadata": {},
   "source": [
    "## Исследование задачи"
   ]
  },
  {
   "cell_type": "markdown",
   "id": "5ccd64f0",
   "metadata": {},
   "source": [
    "Необходимо исследовать баланс классов, обучить модель без учёта дисбаланса. "
   ]
  },
  {
   "cell_type": "markdown",
   "id": "e3703116",
   "metadata": {},
   "source": [
    "Преобразуем категориальные признаки  с помощью метода прямого кодирования."
   ]
  },
  {
   "cell_type": "code",
   "execution_count": null,
   "id": "1e6a7824",
   "metadata": {},
   "outputs": [],
   "source": [
    "data = pd.get_dummies(data, drop_first=True)"
   ]
  },
  {
   "cell_type": "markdown",
   "id": "b9679f11",
   "metadata": {},
   "source": [
    "Для начала необходимо разделить исходные данные на обучающую, валидационную и тестовую выборки."
   ]
  },
  {
   "cell_type": "code",
   "execution_count": null,
   "id": "1077fd9c",
   "metadata": {},
   "outputs": [],
   "source": [
    "data_train, data_valid_test=train_test_split(data, test_size=0.4, random_state=777)\n",
    "data_valid, data_test=train_test_split(data_valid_test, test_size=0.5, random_state=777)"
   ]
  },
  {
   "cell_type": "markdown",
   "id": "f0c2a77d",
   "metadata": {},
   "source": [
    "Проверим успешное разделение на выборки."
   ]
  },
  {
   "cell_type": "code",
   "execution_count": null,
   "id": "0a3ec0bc",
   "metadata": {},
   "outputs": [],
   "source": [
    "print (len(data_train))\n",
    "print (len(data_valid))\n",
    "print (len(data_test))"
   ]
  },
  {
   "cell_type": "markdown",
   "id": "909972ff",
   "metadata": {},
   "source": [
    "Выделим признаки и целевой признак."
   ]
  },
  {
   "cell_type": "code",
   "execution_count": null,
   "id": "b8274543",
   "metadata": {},
   "outputs": [],
   "source": [
    "features_train = data_train.drop(['exited'], axis=1)\n",
    "target_train = data_train['exited']\n",
    "features_valid = data_valid.drop(['exited'], axis=1)\n",
    "target_valid = data_valid['exited']\n",
    "features_test = data_test.drop(['exited'], axis=1)\n",
    "target_test = data_test['exited']"
   ]
  },
  {
   "cell_type": "markdown",
   "id": "529492a8",
   "metadata": {},
   "source": [
    "Масштабируем признаки, т.к. у признаков большой разброс значений."
   ]
  },
  {
   "cell_type": "code",
   "execution_count": null,
   "id": "9a73bddf",
   "metadata": {},
   "outputs": [],
   "source": [
    "scaler = StandardScaler()"
   ]
  },
  {
   "cell_type": "code",
   "execution_count": null,
   "id": "8c0d477d",
   "metadata": {},
   "outputs": [],
   "source": [
    "numerics = ['int16', 'int32', 'int64', 'float16', 'float32', 'float64']\n",
    "objects = ['object']\n",
    "newdf = data.select_dtypes(include=numerics)\n",
    "newdf_object = data.select_dtypes(include=objects)"
   ]
  },
  {
   "cell_type": "code",
   "execution_count": null,
   "id": "dcef34a0",
   "metadata": {},
   "outputs": [],
   "source": [
    "numeric_columns = newdf.columns[:-1]"
   ]
  },
  {
   "cell_type": "code",
   "execution_count": null,
   "id": "c947d932",
   "metadata": {},
   "outputs": [],
   "source": [
    "numeric_columns"
   ]
  },
  {
   "cell_type": "code",
   "execution_count": null,
   "id": "3610bd39",
   "metadata": {},
   "outputs": [],
   "source": [
    "scaler.fit(features_train[numeric_columns]) "
   ]
  },
  {
   "cell_type": "markdown",
   "id": "aa96f926",
   "metadata": {},
   "source": [
    "Преобразуем выборки."
   ]
  },
  {
   "cell_type": "code",
   "execution_count": null,
   "id": "20d6349d",
   "metadata": {},
   "outputs": [],
   "source": [
    "features_train[numeric_columns] = scaler.transform(features_train[numeric_columns])\n",
    "features_valid[numeric_columns] = scaler.transform(features_valid[numeric_columns]) \n",
    "features_test[numeric_columns] = scaler.transform(features_test[numeric_columns]) "
   ]
  },
  {
   "cell_type": "markdown",
   "id": "77680343",
   "metadata": {},
   "source": [
    "Посмотрим на распределение ушедших и оставшихся клиентов банка в тренировочном наборе данных."
   ]
  },
  {
   "cell_type": "markdown",
   "id": "02c2c105",
   "metadata": {},
   "source": [
    "Распределение далеко от 1:1 - почти 4:1. "
   ]
  },
  {
   "cell_type": "code",
   "execution_count": null,
   "id": "51c800d2",
   "metadata": {},
   "outputs": [],
   "source": [
    "balance_rate = list(target_train.value_counts(normalize=True))\n",
    "balance_rate"
   ]
  },
  {
   "cell_type": "markdown",
   "id": "4d88f390",
   "metadata": {},
   "source": [
    "Обучим модели без учета дисбаланса."
   ]
  },
  {
   "cell_type": "markdown",
   "id": "d8250d5c",
   "metadata": {},
   "source": [
    "Проверим модель решающего дерева и подберем гиперпараметры."
   ]
  },
  {
   "cell_type": "code",
   "execution_count": null,
   "id": "d795247c",
   "metadata": {},
   "outputs": [],
   "source": [
    "best_model = None\n",
    "best_result = 0\n",
    "for depth in range(1,20):\n",
    "    model = DecisionTreeClassifier(random_state=777, max_depth=depth)\n",
    "    model.fit(features_train, target_train)\n",
    "    predict = model.predict(features_valid)\n",
    "    print(\"f1 =\", end='')\n",
    "    print(f1_score (target_valid,predict)) \n",
    "    result = f1_score(target_valid, predict)\n",
    "    if result > best_result:\n",
    "        best_model = model\n",
    "        best_result = result\n",
    "        best_max_depth = depth\n",
    "print ('Лучший результат :', best_result, 'max_depth = ', best_max_depth)"
   ]
  },
  {
   "cell_type": "code",
   "execution_count": null,
   "id": "70f53db1",
   "metadata": {},
   "outputs": [],
   "source": [
    "model = DecisionTreeClassifier(random_state=777, max_depth=7)\n",
    "model.fit(features_train, target_train)\n",
    "predicted_valid = model.predict(features_valid)\n",
    "f1 = f1_score (target_valid,predicted_valid)\n",
    "f1"
   ]
  },
  {
   "cell_type": "markdown",
   "id": "38c863a0",
   "metadata": {},
   "source": [
    "Проверим модель случайного леса и подберем гиперпараметры."
   ]
  },
  {
   "cell_type": "code",
   "execution_count": null,
   "id": "9548f985",
   "metadata": {},
   "outputs": [],
   "source": [
    "best_model = None\n",
    "best_result = 0\n",
    "for est in range(1, 51, 2):\n",
    "    model = RandomForestClassifier(random_state=777, n_estimators=est) \n",
    "    model.fit(features_train, target_train) \n",
    "    predict = model.predict(features_valid)\n",
    "    result = f1_score (target_valid,predict)\n",
    "    print (\"n_estimators =\", est, \": \", result)\n",
    "    if result > best_result:\n",
    "        best_model = model\n",
    "        best_result = result\n",
    "        best_n_estimators = est\n",
    "print ('Лучший результат :', best_result, 'n_estimators = ', best_n_estimators)"
   ]
  },
  {
   "cell_type": "code",
   "execution_count": null,
   "id": "4801467b",
   "metadata": {},
   "outputs": [],
   "source": [
    "model = RandomForestClassifier(random_state=777, n_estimators=21)\n",
    "model.fit(features_train, target_train)\n",
    "predicted_valid = model.predict(features_valid)\n",
    "f1 = f1_score (target_valid,predicted_valid)\n",
    "f1"
   ]
  },
  {
   "cell_type": "markdown",
   "id": "b5448a02",
   "metadata": {},
   "source": [
    "Проверим модель логистической регрессии."
   ]
  },
  {
   "cell_type": "code",
   "execution_count": null,
   "id": "ed6621a0",
   "metadata": {},
   "outputs": [],
   "source": [
    "model = LogisticRegression(random_state=777, solver='liblinear') \n",
    "model.fit(features_train,target_train) \n",
    "predicted_valid = model.predict(features_valid)\n",
    "f1 = f1_score (target_valid,predicted_valid)\n",
    "f1"
   ]
  },
  {
   "cell_type": "markdown",
   "id": "e5ed3653",
   "metadata": {},
   "source": [
    "Проверим модели на адекватность. Чтобы оценить адекватность модели, создадим константную модель: любому объекту она прогнозирует класс «0»."
   ]
  },
  {
   "cell_type": "code",
   "execution_count": null,
   "id": "8ee39303",
   "metadata": {},
   "outputs": [],
   "source": [
    "target_pred_constant = pd.Series([0] * len(target_valid))\n",
    "\n",
    "f1 = f1_score (target_valid,predicted_valid)\n",
    "f1"
   ]
  },
  {
   "cell_type": "markdown",
   "id": "bd0c7015",
   "metadata": {},
   "source": [
    "### Вывод"
   ]
  },
  {
   "cell_type": "markdown",
   "id": "882d014d",
   "metadata": {},
   "source": [
    "Наблюдается сильный дисбаланс классов, что плохо сказывается на обучении модели, и из-за этого f1-мера моделей и константной модели почти одинаковы в лучшем случае, и меньше константной модели в худшем. Необходимо использовать методы борьбы с дисбалансом.\n",
    "\n",
    "Лучшее значение f1-меры показала модель решающего дерева - 0,54."
   ]
  },
  {
   "cell_type": "markdown",
   "id": "99d2e766",
   "metadata": {},
   "source": [
    "## Борьба с дисбалансом"
   ]
  },
  {
   "cell_type": "markdown",
   "id": "16dfea9a",
   "metadata": {},
   "source": [
    "Существует три способы борьбы с дисбалансом классов:\n",
    "1. Upsampling\n",
    "2. Downsampling\n",
    "3. Использование параметра class_weight\n",
    "\n",
    "Попробуем каждый и сравним результаты."
   ]
  },
  {
   "cell_type": "markdown",
   "id": "f3c4cd68",
   "metadata": {},
   "source": [
    "### Метод Upsampling"
   ]
  },
  {
   "cell_type": "code",
   "execution_count": null,
   "id": "3ee6a929",
   "metadata": {},
   "outputs": [],
   "source": [
    "def upsample(feature,target,rate):\n",
    "    feature_one = feature[target == 1]\n",
    "    target_one = target[target == 1]\n",
    "    feature_zero = feature[target == 0]\n",
    "    target_zero = target[target == 0]\n",
    "    \n",
    "    features = pd.concat([feature_one]  * round(rate) + [feature_zero] )\n",
    "    targets = pd.concat([target_one] * round(rate) + [target_zero]  )\n",
    "    \n",
    "    features,targets = shuffle(features,targets,random_state = 777)\n",
    "    \n",
    "    return features,targets\n"
   ]
  },
  {
   "cell_type": "code",
   "execution_count": null,
   "id": "de35d64c",
   "metadata": {},
   "outputs": [],
   "source": [
    "features_train_upsample,target_train_upsample = upsample(features_train, target_train, \n",
    "                                                         (balance_rate[0]/balance_rate[1]))"
   ]
  },
  {
   "cell_type": "markdown",
   "id": "9cc8c432",
   "metadata": {},
   "source": [
    "Проверим значения f1-меры, которые должен был улучшить метод upsampling. "
   ]
  },
  {
   "cell_type": "markdown",
   "id": "4d37ed03",
   "metadata": {},
   "source": [
    "Вначале проверим решающее дерево."
   ]
  },
  {
   "cell_type": "code",
   "execution_count": null,
   "id": "c3b61723",
   "metadata": {},
   "outputs": [],
   "source": [
    "best_model = None\n",
    "best_result = 0\n",
    "for depth in range(1,20):\n",
    "    model = DecisionTreeClassifier(random_state=777, max_depth=depth)\n",
    "    model.fit(features_train_upsample, target_train_upsample)\n",
    "    predict = model.predict(features_valid)\n",
    "    print(\"f1 =\", end='')\n",
    "    print(f1_score (target_valid,predict)) \n",
    "    result = f1_score(target_valid, predict)\n",
    "    if result > best_result:\n",
    "        best_model = model\n",
    "        best_result = result\n",
    "        best_max_depth = depth\n",
    "print ('Лучший результат :', best_result, 'max_depth = ', best_max_depth)"
   ]
  },
  {
   "cell_type": "code",
   "execution_count": null,
   "id": "988af2ad",
   "metadata": {},
   "outputs": [],
   "source": [
    "model = DecisionTreeClassifier(random_state=777, max_depth=7)\n",
    "model.fit(features_train_upsample, target_train_upsample)\n",
    "predicted_valid = model.predict(features_valid)\n",
    "f1 = f1_score (target_valid,predicted_valid)\n",
    "f1"
   ]
  },
  {
   "cell_type": "markdown",
   "id": "4e738303",
   "metadata": {},
   "source": [
    "Проверим модель случайного леса."
   ]
  },
  {
   "cell_type": "code",
   "execution_count": null,
   "id": "fa3ec338",
   "metadata": {},
   "outputs": [],
   "source": [
    "best_model = None\n",
    "best_result = 0\n",
    "for est in range(1, 151, 2):\n",
    "    model = RandomForestClassifier(random_state=777, n_estimators=est) \n",
    "    model.fit(features_train_upsample, target_train_upsample) \n",
    "    predict = model.predict(features_valid)\n",
    "    result = f1_score (target_valid,predict)\n",
    "    print (\"n_estimators =\", est, \": \", result)\n",
    "    if result > best_result:\n",
    "        best_model = model\n",
    "        best_result = result\n",
    "        best_n_estimators = est\n",
    "print ('Лучший результат :', best_result, 'n_estimators = ', best_n_estimators)"
   ]
  },
  {
   "cell_type": "code",
   "execution_count": null,
   "id": "4e3cd3e8",
   "metadata": {},
   "outputs": [],
   "source": [
    "model = RandomForestClassifier(random_state=777, n_estimators=101)\n",
    "model.fit(features_train_upsample, target_train_upsample)\n",
    "predicted_valid = model.predict(features_valid)\n",
    "f1 = f1_score (target_valid,predicted_valid)\n",
    "f1"
   ]
  },
  {
   "cell_type": "markdown",
   "id": "090ff28b",
   "metadata": {},
   "source": [
    "Проверим модель логистической регрессии."
   ]
  },
  {
   "cell_type": "code",
   "execution_count": null,
   "id": "ebbc3744",
   "metadata": {},
   "outputs": [],
   "source": [
    "model = LogisticRegression(random_state=777, solver='liblinear') \n",
    "model.fit(features_train_upsample, target_train_upsample) \n",
    "predicted_valid = model.predict(features_valid)\n",
    "f1 = f1_score (target_valid,predicted_valid)\n",
    "f1"
   ]
  },
  {
   "cell_type": "markdown",
   "id": "d077c51a",
   "metadata": {},
   "source": [
    "### Метод Downsampling"
   ]
  },
  {
   "cell_type": "code",
   "execution_count": null,
   "id": "c12c4de1",
   "metadata": {},
   "outputs": [],
   "source": [
    "def downsample(feature,target,rate):\n",
    "    feature_one = feature[target == 1]\n",
    "    target_one = target[target == 1]\n",
    "    feature_zero = feature[target == 0]\n",
    "    target_zero = target[target == 0]\n",
    "    feature_zero_down = feature_zero.sample(frac = 1/round(rate),random_state = 777)\n",
    "    target_zero_down =  target_zero.sample(frac = 1/round(rate),random_state = 777)\n",
    "    features = pd.concat([feature_one]  + [feature_zero_down])\n",
    "    targets = pd.concat([target_one] + [target_zero_down])\n",
    "    \n",
    "    features,targets = shuffle(features,targets,random_state = 777)\n",
    "    \n",
    "    return features,targets"
   ]
  },
  {
   "cell_type": "code",
   "execution_count": null,
   "id": "ba027e6e",
   "metadata": {},
   "outputs": [],
   "source": [
    "features_train_downsample,target_train_downsample = downsample(features_train,target_train,\n",
    "                                                                     (balance_rate[0]/balance_rate[1]))"
   ]
  },
  {
   "cell_type": "markdown",
   "id": "4aec33eb",
   "metadata": {},
   "source": [
    "Теперь проверим значения f1-меры у моделей, улучшенных методом downsampling."
   ]
  },
  {
   "cell_type": "markdown",
   "id": "ffb3376e",
   "metadata": {},
   "source": [
    "Проверим модель решающего дерева."
   ]
  },
  {
   "cell_type": "code",
   "execution_count": null,
   "id": "e8212b8d",
   "metadata": {},
   "outputs": [],
   "source": [
    "best_model = None\n",
    "best_result = 0\n",
    "for depth in range(1,20):\n",
    "    model = DecisionTreeClassifier(random_state=777, max_depth=depth)\n",
    "    model.fit(features_train_downsample, target_train_downsample)\n",
    "    predict = model.predict(features_valid)\n",
    "    print(\"f1 =\", end='')\n",
    "    print(f1_score (target_valid,predict)) \n",
    "    result = f1_score(target_valid, predict)\n",
    "    if result > best_result:\n",
    "        best_model = model\n",
    "        best_result = result\n",
    "        best_max_depth = depth\n",
    "print ('Лучший результат :', best_result, 'max_depth = ', best_max_depth)"
   ]
  },
  {
   "cell_type": "code",
   "execution_count": null,
   "id": "aeeea6ed",
   "metadata": {},
   "outputs": [],
   "source": [
    "model = DecisionTreeClassifier(random_state=777, max_depth=4)\n",
    "model.fit(features_train_downsample, target_train_downsample)\n",
    "predicted_valid = model.predict(features_valid)\n",
    "f1 = f1_score (target_valid,predicted_valid)\n",
    "f1"
   ]
  },
  {
   "cell_type": "markdown",
   "id": "457c0c29",
   "metadata": {},
   "source": [
    "Проверим модель случайного леса."
   ]
  },
  {
   "cell_type": "code",
   "execution_count": null,
   "id": "5bf42dc5",
   "metadata": {},
   "outputs": [],
   "source": [
    "best_model = None\n",
    "best_result = 0\n",
    "for est in range(1, 101, 2):\n",
    "    model = RandomForestClassifier(random_state=777, n_estimators=est) \n",
    "    model.fit(features_train_downsample, target_train_downsample) \n",
    "    predict = model.predict(features_valid)\n",
    "    result = f1_score (target_valid,predict)\n",
    "    print (\"n_estimators =\", est, \": \", result)\n",
    "    if result > best_result:\n",
    "        best_model = model\n",
    "        best_result = result\n",
    "        best_n_estimators = est\n",
    "print ('Лучший результат :', best_result, 'n_estimators = ', best_n_estimators)"
   ]
  },
  {
   "cell_type": "code",
   "execution_count": null,
   "id": "ceff5f86",
   "metadata": {},
   "outputs": [],
   "source": [
    "model = RandomForestClassifier(random_state=777, n_estimators=91)\n",
    "model.fit(features_train_downsample, target_train_downsample)\n",
    "predicted_valid = model.predict(features_valid)\n",
    "f1 = f1_score (target_valid,predicted_valid)\n",
    "f1"
   ]
  },
  {
   "cell_type": "markdown",
   "id": "1d2e8e3c",
   "metadata": {},
   "source": [
    "Проверим модель логистической регрессии."
   ]
  },
  {
   "cell_type": "code",
   "execution_count": null,
   "id": "2a5f3838",
   "metadata": {},
   "outputs": [],
   "source": [
    "model = LogisticRegression(random_state=777, solver='liblinear') \n",
    "model.fit(features_train_downsample, target_train_downsample) \n",
    "predicted_valid = model.predict(features_valid)\n",
    "f1 = f1_score (target_valid,predicted_valid)\n",
    "f1"
   ]
  },
  {
   "cell_type": "markdown",
   "id": "0ec61ea1",
   "metadata": {},
   "source": [
    "### Использование параметра class_weight"
   ]
  },
  {
   "cell_type": "markdown",
   "id": "e78ac728",
   "metadata": {},
   "source": [
    "Теперь проверим, как повлияет на значения f1-меры моделей метод взвешивания классов."
   ]
  },
  {
   "cell_type": "markdown",
   "id": "af45cc1c",
   "metadata": {},
   "source": [
    "Проверим модель решающего дерева."
   ]
  },
  {
   "cell_type": "code",
   "execution_count": null,
   "id": "2bbc3d79",
   "metadata": {},
   "outputs": [],
   "source": [
    "best_model = None\n",
    "best_result = 0\n",
    "for est in range(1, 51, 2):\n",
    "    model = DecisionTreeClassifier(random_state=777, max_depth=depth, class_weight='balanced') \n",
    "    model.fit(features_train, target_train) \n",
    "    predict = model.predict(features_valid)\n",
    "    print(\"f1 =\", end='')\n",
    "    print(f1_score (target_valid,predict)) \n",
    "    result = f1_score(target_valid, predict)\n",
    "    if result > best_result:\n",
    "        best_model = model\n",
    "        best_result = result\n",
    "        best_max_depth = depth\n",
    "print ('Лучший результат :', best_result, 'max_depth = ', best_max_depth)"
   ]
  },
  {
   "cell_type": "code",
   "execution_count": null,
   "id": "e641eb3c",
   "metadata": {},
   "outputs": [],
   "source": [
    "model = DecisionTreeClassifier(random_state=777, max_depth=19, class_weight='balanced')\n",
    "model.fit(features_train, target_train)\n",
    "predicted_valid = model.predict(features_valid)\n",
    "f1 = f1_score (target_valid,predicted_valid)\n",
    "f1"
   ]
  },
  {
   "cell_type": "markdown",
   "id": "8473d6df",
   "metadata": {},
   "source": [
    "Проверим модель случайного леса."
   ]
  },
  {
   "cell_type": "code",
   "execution_count": null,
   "id": "872518df",
   "metadata": {},
   "outputs": [],
   "source": [
    "best_model = None\n",
    "best_result = 0\n",
    "for est in range(1, 131, 2):\n",
    "    model = RandomForestClassifier(random_state=777, n_estimators=est, class_weight='balanced') \n",
    "    model.fit(features_train, target_train) \n",
    "    predict = model.predict(features_valid)\n",
    "    result = f1_score (target_valid,predict)\n",
    "    print (\"n_estimators =\", est, \": \", result)\n",
    "    if result > best_result:\n",
    "        best_model = model\n",
    "        best_result = result\n",
    "        best_n_estimators = est\n",
    "print ('Лучший результат :', best_result, 'n_estimators = ', best_n_estimators)"
   ]
  },
  {
   "cell_type": "code",
   "execution_count": null,
   "id": "3676ab8f",
   "metadata": {},
   "outputs": [],
   "source": [
    "model = RandomForestClassifier(random_state=777, n_estimators=123, class_weight='balanced')\n",
    "model.fit(features_train, target_train)\n",
    "predicted_valid = model.predict(features_valid)\n",
    "f1 = f1_score (target_valid,predicted_valid)\n",
    "f1"
   ]
  },
  {
   "cell_type": "markdown",
   "id": "730ed002",
   "metadata": {},
   "source": [
    "Проверим модель логистической регрессии."
   ]
  },
  {
   "cell_type": "code",
   "execution_count": null,
   "id": "bd81f23b",
   "metadata": {},
   "outputs": [],
   "source": [
    "model = LogisticRegression(random_state=777, solver='liblinear', class_weight='balanced') \n",
    "model.fit(features_train, target_train) \n",
    "predicted_valid = model.predict(features_valid)\n",
    "f1 = f1_score (target_valid,predicted_valid)\n",
    "f1"
   ]
  },
  {
   "cell_type": "markdown",
   "id": "8572de32",
   "metadata": {},
   "source": [
    "### Вывод"
   ]
  },
  {
   "cell_type": "markdown",
   "id": "0f2ab9f3",
   "metadata": {},
   "source": [
    "Было улучшено качество моделей (повышено значение f1-меры), с учетом дисбаланса классов. \n",
    "\n",
    "**Метод Upsampling:**\n",
    "\n",
    "* Модель решающего дерева - 0.56\n",
    "* Модель случайного леса - 0.63\n",
    "* Модель логистической регрессии - 0.51\n",
    "\n",
    "**Метод Downsampling:**\n",
    "\n",
    "* Модель решающего дерева - 0.56\n",
    "* Модель случайного леса - 0.6\n",
    "* Модель логистической регрессии - 0.52\n",
    "\n",
    "**Метод взвешивания классов:**\n",
    "\n",
    "* Модель решающего дерева - 0.52\n",
    "* Модель случайного леса - 0.59\n",
    "* Модель логистической регрессии - 0.51\n",
    "\n",
    "**До применения методов:**\n",
    "* Модель решающего дерева - 0.55\n",
    "* Модель случайного леса - 0.57\n",
    "* Модель логистической регрессии - 0.35 "
   ]
  },
  {
   "cell_type": "markdown",
   "id": "19d78d45",
   "metadata": {},
   "source": [
    "В независимости от выбора метода борьбы с дисбалансом или его отсутствия, лучшей моделью является модель случайного леса, худшие показатели f1-меры дает логистическая регрессия - лучшие - случайный лес. \n",
    "\n",
    "Лучший результат показала модель случайного леса при применении метода Upsampling - 0.63, так же при применении этого метода оказался лучший результат у модели логистической регрессии. Метод взвешивания классов показал наихудшие результаты среди всех методов.\n",
    "\n",
    "Значения f1-меры для моделей решающего дерева и случайного леса выросли незначительно - менее 10% (+-0,03 для решающего дерева и +0,02-0,06 для случайного леса). Значение f1-меры значительно выросло у модели логистической регрессии - в 1,45 раза (+0,16-0,17), что позволяет сделать вывод, что дисбаланс классов очень сильно влияет на логистическую регрессию, а другие модели менее подвержены этому."
   ]
  },
  {
   "cell_type": "markdown",
   "id": "686ae5d7",
   "metadata": {},
   "source": [
    "## Тестирование модели"
   ]
  },
  {
   "cell_type": "markdown",
   "id": "8963bebe",
   "metadata": {},
   "source": [
    "Проверим лучшую модель на тестовой выборке.\n",
    "\n",
    "Объеденим тестовую и валидационную выборки для более точного обучения, т.к. валидационная выборка нам больше не нужна."
   ]
  },
  {
   "cell_type": "code",
   "execution_count": null,
   "id": "8e022902",
   "metadata": {},
   "outputs": [],
   "source": [
    "features_train_valid = pd.concat([features_train] + [features_valid] )\n",
    "target_train_valid = pd.concat([target_train] + [target_valid]  )\n",
    "\n",
    "features_train_valid_upsample,target_train_valid_upsample = upsample(features_train_valid, \n",
    "                                                                      target_train_valid, \n",
    "                                                                     (balance_rate[0]/balance_rate[1]))"
   ]
  },
  {
   "cell_type": "code",
   "execution_count": null,
   "id": "7b18a9d2",
   "metadata": {},
   "outputs": [],
   "source": [
    "print (len(features_train_valid))\n",
    "print (len(target_train_valid))"
   ]
  },
  {
   "cell_type": "code",
   "execution_count": null,
   "id": "f6e757a6",
   "metadata": {},
   "outputs": [],
   "source": [
    "model = RandomForestClassifier(random_state=777, n_estimators=101)\n",
    "model.fit(features_train_valid_upsample, target_train_valid_upsample)\n",
    "predicted_test = model.predict(features_test)\n",
    "f1 = f1_score (target_test,predicted_test)\n",
    "f1"
   ]
  },
  {
   "cell_type": "code",
   "execution_count": null,
   "id": "b2cc51c9",
   "metadata": {},
   "outputs": [],
   "source": [
    "model = RandomForestClassifier(random_state=777, n_estimators=100)\n",
    "model.fit(features_train_valid_upsample, target_train_valid_upsample)\n",
    "predicted_test = model.predict(features_test)\n",
    "f1 = f1_score (target_test,predicted_test)\n",
    "f1"
   ]
  },
  {
   "cell_type": "markdown",
   "id": "d778e214",
   "metadata": {},
   "source": [
    "Теперь необходимо исследовать метрику *AUC-ROC*."
   ]
  },
  {
   "cell_type": "code",
   "execution_count": null,
   "id": "2b07789b",
   "metadata": {},
   "outputs": [],
   "source": [
    "probabilities_test = model.predict_proba(features_test)\n",
    "probabilities_one_test = probabilities_test[:, 1]\n",
    "\n",
    "auc_roc=roc_auc_score(target_test, probabilities_one_test)\n",
    "\n",
    "print(auc_roc)"
   ]
  },
  {
   "cell_type": "code",
   "execution_count": null,
   "id": "bda1fe04",
   "metadata": {},
   "outputs": [],
   "source": [
    "probabilities_test"
   ]
  },
  {
   "cell_type": "code",
   "execution_count": null,
   "id": "7f990f9e",
   "metadata": {
    "scrolled": true
   },
   "outputs": [],
   "source": [
    "fpr, tpr, thresholds = roc_curve(target_test, probabilities_one_test) \n",
    "\n",
    "plt.figure()\n",
    "plt.plot([0, 1], [0, 1], linestyle='--')\n",
    "plt.plot(fpr, tpr)\n",
    "plt.xlabel('False Positive Rate')\n",
    "plt.ylabel('True Positive Rate')\n",
    "plt.ylim([0.0, 1.0])\n",
    "plt.xlim([0.0, 1.0])\n",
    "plt.title('ROC-кривая')\n",
    "plt.show() "
   ]
  },
  {
   "cell_type": "markdown",
   "id": "ccb4bea3",
   "metadata": {},
   "source": [
    "### Вывод"
   ]
  },
  {
   "cell_type": "markdown",
   "id": "ed879ab0",
   "metadata": {},
   "source": [
    "Выбранная модель (модель случайного леса с параметрами random_state=777, n_estimators=100, с классами, сбалансированными методом Upsampling) на тестовом наборе данных показала значение f1-меры равное 0,61. Значение далеко от идеального, но лучше, чем у константной модели (0,35).\n",
    "\n",
    "Площадь под ROC-кривой составила 0,85. Это значение намного больше, чем у случайной модели (0,5), но далеко от идеала - 1."
   ]
  },
  {
   "cell_type": "code",
   "execution_count": null,
   "id": "4eb008c8",
   "metadata": {},
   "outputs": [],
   "source": []
  }
 ],
 "metadata": {
  "ExecuteTimeLog": [
   {
    "duration": 1517,
    "start_time": "2022-06-09T13:33:44.891Z"
   },
   {
    "duration": 76,
    "start_time": "2022-06-09T16:01:45.807Z"
   },
   {
    "duration": 14,
    "start_time": "2022-06-09T16:02:24.228Z"
   },
   {
    "duration": 24,
    "start_time": "2022-06-09T16:02:53.095Z"
   },
   {
    "duration": 43,
    "start_time": "2022-06-09T16:08:57.797Z"
   },
   {
    "duration": 5,
    "start_time": "2022-06-09T16:24:03.585Z"
   },
   {
    "duration": 3,
    "start_time": "2022-06-09T16:26:10.052Z"
   },
   {
    "duration": 12,
    "start_time": "2022-06-09T16:26:11.657Z"
   },
   {
    "duration": 35,
    "start_time": "2022-06-09T16:27:43.220Z"
   },
   {
    "duration": 3,
    "start_time": "2022-06-09T16:28:16.951Z"
   },
   {
    "duration": 35,
    "start_time": "2022-06-09T16:28:21.727Z"
   },
   {
    "duration": 35,
    "start_time": "2022-06-09T16:29:46.220Z"
   },
   {
    "duration": 1302,
    "start_time": "2022-06-09T16:37:15.881Z"
   },
   {
    "duration": 3,
    "start_time": "2022-06-09T16:37:17.185Z"
   },
   {
    "duration": 45,
    "start_time": "2022-06-09T16:37:17.189Z"
   },
   {
    "duration": 14,
    "start_time": "2022-06-09T16:37:17.236Z"
   },
   {
    "duration": 19,
    "start_time": "2022-06-09T16:37:17.252Z"
   },
   {
    "duration": 44,
    "start_time": "2022-06-09T16:37:17.273Z"
   },
   {
    "duration": 2,
    "start_time": "2022-06-09T16:37:17.319Z"
   },
   {
    "duration": 38,
    "start_time": "2022-06-09T16:37:17.323Z"
   },
   {
    "duration": 40,
    "start_time": "2022-06-09T16:37:17.363Z"
   },
   {
    "duration": 17,
    "start_time": "2022-06-09T16:37:17.405Z"
   },
   {
    "duration": 118,
    "start_time": "2022-06-09T16:37:35.326Z"
   },
   {
    "duration": 16,
    "start_time": "2022-06-09T16:38:50.277Z"
   },
   {
    "duration": 14,
    "start_time": "2022-06-09T17:18:25.374Z"
   },
   {
    "duration": 93,
    "start_time": "2022-06-09T17:18:34.673Z"
   },
   {
    "duration": 8,
    "start_time": "2022-06-09T17:36:46.465Z"
   },
   {
    "duration": 4,
    "start_time": "2022-06-09T17:36:54.488Z"
   },
   {
    "duration": 11,
    "start_time": "2022-06-09T17:37:03.310Z"
   },
   {
    "duration": 9,
    "start_time": "2022-06-09T17:41:00.217Z"
   },
   {
    "duration": 4,
    "start_time": "2022-06-09T17:41:22.569Z"
   },
   {
    "duration": 10,
    "start_time": "2022-06-09T17:44:42.745Z"
   },
   {
    "duration": 4,
    "start_time": "2022-06-09T17:46:28.426Z"
   },
   {
    "duration": 7,
    "start_time": "2022-06-09T17:46:36.404Z"
   },
   {
    "duration": 5,
    "start_time": "2022-06-09T17:47:30.363Z"
   },
   {
    "duration": 13,
    "start_time": "2022-06-09T17:48:14.668Z"
   },
   {
    "duration": 7,
    "start_time": "2022-06-09T17:48:32.815Z"
   },
   {
    "duration": 3,
    "start_time": "2022-06-09T17:48:43.936Z"
   },
   {
    "duration": 5,
    "start_time": "2022-06-09T17:48:55.508Z"
   },
   {
    "duration": 166,
    "start_time": "2022-06-09T17:49:26.957Z"
   },
   {
    "duration": 80,
    "start_time": "2022-06-09T17:49:40.269Z"
   },
   {
    "duration": 1279,
    "start_time": "2022-06-10T19:50:02.919Z"
   },
   {
    "duration": 5,
    "start_time": "2022-06-10T19:50:04.201Z"
   },
   {
    "duration": 161,
    "start_time": "2022-06-10T19:50:04.208Z"
   },
   {
    "duration": 11,
    "start_time": "2022-06-10T19:50:04.370Z"
   },
   {
    "duration": 18,
    "start_time": "2022-06-10T19:50:04.383Z"
   },
   {
    "duration": 35,
    "start_time": "2022-06-10T19:50:04.402Z"
   },
   {
    "duration": 3,
    "start_time": "2022-06-10T19:50:04.438Z"
   },
   {
    "duration": 14,
    "start_time": "2022-06-10T19:50:04.442Z"
   },
   {
    "duration": 75,
    "start_time": "2022-06-10T19:50:04.457Z"
   },
   {
    "duration": 15,
    "start_time": "2022-06-10T19:50:04.534Z"
   },
   {
    "duration": 1498,
    "start_time": "2022-06-10T19:50:04.551Z"
   },
   {
    "duration": 0,
    "start_time": "2022-06-10T19:50:06.051Z"
   },
   {
    "duration": 3456,
    "start_time": "2022-06-10T19:50:09.380Z"
   },
   {
    "duration": 1097,
    "start_time": "2022-06-10T19:51:11.755Z"
   },
   {
    "duration": 3,
    "start_time": "2022-06-10T19:51:12.854Z"
   },
   {
    "duration": 46,
    "start_time": "2022-06-10T19:51:12.858Z"
   },
   {
    "duration": 10,
    "start_time": "2022-06-10T19:51:12.906Z"
   },
   {
    "duration": 15,
    "start_time": "2022-06-10T19:51:12.918Z"
   },
   {
    "duration": 36,
    "start_time": "2022-06-10T19:51:12.934Z"
   },
   {
    "duration": 3,
    "start_time": "2022-06-10T19:51:12.971Z"
   },
   {
    "duration": 12,
    "start_time": "2022-06-10T19:51:12.991Z"
   },
   {
    "duration": 68,
    "start_time": "2022-06-10T19:51:13.004Z"
   },
   {
    "duration": 20,
    "start_time": "2022-06-10T19:51:13.075Z"
   },
   {
    "duration": 3253,
    "start_time": "2022-06-10T19:51:13.096Z"
   },
   {
    "duration": 96,
    "start_time": "2022-06-10T19:52:10.629Z"
   },
   {
    "duration": 1230,
    "start_time": "2022-06-10T19:52:52.611Z"
   },
   {
    "duration": 2,
    "start_time": "2022-06-10T19:52:53.843Z"
   },
   {
    "duration": 42,
    "start_time": "2022-06-10T19:52:53.847Z"
   },
   {
    "duration": 11,
    "start_time": "2022-06-10T19:52:53.891Z"
   },
   {
    "duration": 19,
    "start_time": "2022-06-10T19:52:53.904Z"
   },
   {
    "duration": 42,
    "start_time": "2022-06-10T19:52:53.925Z"
   },
   {
    "duration": 3,
    "start_time": "2022-06-10T19:52:53.968Z"
   },
   {
    "duration": 10,
    "start_time": "2022-06-10T19:52:53.991Z"
   },
   {
    "duration": 45,
    "start_time": "2022-06-10T19:52:54.003Z"
   },
   {
    "duration": 18,
    "start_time": "2022-06-10T19:52:54.074Z"
   },
   {
    "duration": 2028,
    "start_time": "2022-06-10T19:52:54.094Z"
   },
   {
    "duration": 190,
    "start_time": "2022-06-10T19:53:28.927Z"
   },
   {
    "duration": 4,
    "start_time": "2022-06-10T19:59:28.326Z"
   },
   {
    "duration": 14,
    "start_time": "2022-06-10T19:59:28.331Z"
   },
   {
    "duration": 57,
    "start_time": "2022-06-10T19:59:28.347Z"
   },
   {
    "duration": 10,
    "start_time": "2022-06-10T19:59:28.406Z"
   },
   {
    "duration": 26,
    "start_time": "2022-06-10T19:59:28.418Z"
   },
   {
    "duration": 61,
    "start_time": "2022-06-10T19:59:28.445Z"
   },
   {
    "duration": 3,
    "start_time": "2022-06-10T19:59:28.507Z"
   },
   {
    "duration": 39,
    "start_time": "2022-06-10T19:59:28.511Z"
   },
   {
    "duration": 43,
    "start_time": "2022-06-10T19:59:28.553Z"
   },
   {
    "duration": 11,
    "start_time": "2022-06-10T19:59:28.598Z"
   },
   {
    "duration": 206,
    "start_time": "2022-06-10T19:59:28.611Z"
   },
   {
    "duration": 7,
    "start_time": "2022-06-10T19:59:28.818Z"
   },
   {
    "duration": 17,
    "start_time": "2022-06-10T19:59:28.826Z"
   },
   {
    "duration": 21,
    "start_time": "2022-06-10T19:59:28.844Z"
   },
   {
    "duration": 170,
    "start_time": "2022-06-10T19:59:28.866Z"
   },
   {
    "duration": 99,
    "start_time": "2022-06-10T19:59:29.037Z"
   },
   {
    "duration": 3,
    "start_time": "2022-06-10T19:59:29.137Z"
   },
   {
    "duration": 29,
    "start_time": "2022-06-10T19:59:29.142Z"
   },
   {
    "duration": 5,
    "start_time": "2022-06-10T19:59:29.172Z"
   },
   {
    "duration": 3,
    "start_time": "2022-06-10T20:05:44.358Z"
   },
   {
    "duration": 9,
    "start_time": "2022-06-10T20:05:46.219Z"
   },
   {
    "duration": 2,
    "start_time": "2022-06-10T20:05:47.132Z"
   },
   {
    "duration": 4,
    "start_time": "2022-06-10T20:05:50.788Z"
   },
   {
    "duration": 33,
    "start_time": "2022-06-10T20:08:08.166Z"
   },
   {
    "duration": 89,
    "start_time": "2022-06-10T20:08:31.535Z"
   },
   {
    "duration": 8,
    "start_time": "2022-06-10T20:08:52.269Z"
   },
   {
    "duration": 8,
    "start_time": "2022-06-10T20:08:57.939Z"
   },
   {
    "duration": 32,
    "start_time": "2022-06-10T20:09:18.509Z"
   },
   {
    "duration": 74,
    "start_time": "2022-06-10T20:09:21.621Z"
   },
   {
    "duration": 4,
    "start_time": "2022-06-10T20:09:37.327Z"
   },
   {
    "duration": 589,
    "start_time": "2022-06-10T20:12:12.948Z"
   },
   {
    "duration": 579,
    "start_time": "2022-06-10T20:12:26.014Z"
   },
   {
    "duration": 5,
    "start_time": "2022-06-10T20:15:08.544Z"
   },
   {
    "duration": 5,
    "start_time": "2022-06-10T20:15:16.839Z"
   },
   {
    "duration": 6,
    "start_time": "2022-06-10T20:19:16.782Z"
   },
   {
    "duration": 598,
    "start_time": "2022-06-10T20:19:29.994Z"
   },
   {
    "duration": 8,
    "start_time": "2022-06-10T20:19:35.498Z"
   },
   {
    "duration": 5747,
    "start_time": "2022-06-10T20:29:56.924Z"
   },
   {
    "duration": 287,
    "start_time": "2022-06-10T20:31:48.458Z"
   },
   {
    "duration": 6,
    "start_time": "2022-06-10T20:31:51.345Z"
   },
   {
    "duration": 14497,
    "start_time": "2022-06-10T20:32:53.488Z"
   },
   {
    "duration": 15686,
    "start_time": "2022-06-10T20:33:26.902Z"
   },
   {
    "duration": 20349,
    "start_time": "2022-06-10T20:33:54.728Z"
   },
   {
    "duration": 72888,
    "start_time": "2022-06-10T20:34:32.392Z"
   },
   {
    "duration": 70928,
    "start_time": "2022-06-10T20:36:45.027Z"
   },
   {
    "duration": 298,
    "start_time": "2022-06-10T20:37:55.958Z"
   },
   {
    "duration": 2533,
    "start_time": "2022-06-10T20:38:19.024Z"
   },
   {
    "duration": 6493,
    "start_time": "2022-06-10T20:39:06.211Z"
   },
   {
    "duration": 287,
    "start_time": "2022-06-10T20:42:10.870Z"
   },
   {
    "duration": 3,
    "start_time": "2022-06-10T20:45:41.735Z"
   },
   {
    "duration": 87,
    "start_time": "2022-06-10T20:46:57.420Z"
   },
   {
    "duration": 5,
    "start_time": "2022-06-10T20:49:14.970Z"
   },
   {
    "duration": 37,
    "start_time": "2022-06-10T20:50:22.124Z"
   },
   {
    "duration": 4,
    "start_time": "2022-06-10T20:50:36.136Z"
   },
   {
    "duration": 41,
    "start_time": "2022-06-10T20:50:38.101Z"
   },
   {
    "duration": 4,
    "start_time": "2022-06-10T20:50:44.914Z"
   },
   {
    "duration": 48,
    "start_time": "2022-06-10T20:50:51.937Z"
   },
   {
    "duration": 9,
    "start_time": "2022-06-10T20:52:38.458Z"
   },
   {
    "duration": 4,
    "start_time": "2022-06-10T20:53:24.575Z"
   },
   {
    "duration": 44,
    "start_time": "2022-06-10T20:53:26.319Z"
   },
   {
    "duration": 4,
    "start_time": "2022-06-10T20:53:31.781Z"
   },
   {
    "duration": 85,
    "start_time": "2022-06-10T20:53:36.264Z"
   },
   {
    "duration": 75,
    "start_time": "2022-06-10T20:55:21.519Z"
   },
   {
    "duration": 228,
    "start_time": "2022-06-10T20:55:48.179Z"
   },
   {
    "duration": 8937,
    "start_time": "2022-06-10T20:56:10.140Z"
   },
   {
    "duration": 294,
    "start_time": "2022-06-10T20:56:53.675Z"
   },
   {
    "duration": 70848,
    "start_time": "2022-06-10T20:58:21.924Z"
   },
   {
    "duration": 1130,
    "start_time": "2022-06-10T20:59:32.774Z"
   },
   {
    "duration": 264460,
    "start_time": "2022-06-10T21:00:22.568Z"
   },
   {
    "duration": 51,
    "start_time": "2022-06-10T21:04:47.030Z"
   },
   {
    "duration": 1414,
    "start_time": "2022-06-13T11:46:18.325Z"
   },
   {
    "duration": 3,
    "start_time": "2022-06-13T11:46:19.740Z"
   },
   {
    "duration": 97,
    "start_time": "2022-06-13T11:46:19.745Z"
   },
   {
    "duration": 13,
    "start_time": "2022-06-13T11:46:19.844Z"
   },
   {
    "duration": 21,
    "start_time": "2022-06-13T11:46:19.859Z"
   },
   {
    "duration": 49,
    "start_time": "2022-06-13T11:46:19.882Z"
   },
   {
    "duration": 2,
    "start_time": "2022-06-13T11:46:19.933Z"
   },
   {
    "duration": 38,
    "start_time": "2022-06-13T11:46:19.936Z"
   },
   {
    "duration": 76,
    "start_time": "2022-06-13T11:46:19.979Z"
   },
   {
    "duration": 28,
    "start_time": "2022-06-13T11:46:20.059Z"
   },
   {
    "duration": 246,
    "start_time": "2022-06-13T11:46:20.089Z"
   },
   {
    "duration": 23,
    "start_time": "2022-06-13T11:46:20.336Z"
   },
   {
    "duration": 4,
    "start_time": "2022-06-13T11:46:20.362Z"
   },
   {
    "duration": 31,
    "start_time": "2022-06-13T11:46:20.368Z"
   },
   {
    "duration": 160,
    "start_time": "2022-06-13T11:46:20.401Z"
   },
   {
    "duration": 112,
    "start_time": "2022-06-13T11:46:20.566Z"
   },
   {
    "duration": 3,
    "start_time": "2022-06-13T11:46:20.684Z"
   },
   {
    "duration": 31,
    "start_time": "2022-06-13T11:46:20.688Z"
   },
   {
    "duration": 2,
    "start_time": "2022-06-13T11:46:20.721Z"
   },
   {
    "duration": 19,
    "start_time": "2022-06-13T11:46:20.724Z"
   },
   {
    "duration": 5,
    "start_time": "2022-06-13T11:46:20.745Z"
   },
   {
    "duration": 44,
    "start_time": "2022-06-13T11:46:20.752Z"
   },
   {
    "duration": 10,
    "start_time": "2022-06-13T11:46:20.798Z"
   },
   {
    "duration": 28,
    "start_time": "2022-06-13T11:46:20.809Z"
   },
   {
    "duration": 6,
    "start_time": "2022-06-13T11:46:20.838Z"
   },
   {
    "duration": 6993,
    "start_time": "2022-06-13T11:46:20.845Z"
   },
   {
    "duration": 341,
    "start_time": "2022-06-13T11:46:27.839Z"
   },
   {
    "duration": 86870,
    "start_time": "2022-06-13T11:46:28.183Z"
   },
   {
    "duration": 1434,
    "start_time": "2022-06-13T11:47:55.058Z"
   },
   {
    "duration": 9467,
    "start_time": "2022-06-13T11:47:56.493Z"
   },
   {
    "duration": 12,
    "start_time": "2022-06-13T11:48:05.962Z"
   },
   {
    "duration": 86,
    "start_time": "2022-06-13T11:48:05.977Z"
   },
   {
    "duration": 84,
    "start_time": "2022-06-13T11:48:06.065Z"
   },
   {
    "duration": 2272,
    "start_time": "2022-06-13T11:48:06.151Z"
   },
   {
    "duration": 380,
    "start_time": "2022-06-13T11:48:08.424Z"
   },
   {
    "duration": 9786,
    "start_time": "2022-06-13T11:48:08.806Z"
   },
   {
    "duration": 1359,
    "start_time": "2022-06-13T11:48:18.593Z"
   },
   {
    "duration": 12,
    "start_time": "2022-06-13T11:48:19.954Z"
   },
   {
    "duration": 62,
    "start_time": "2022-06-13T11:48:19.977Z"
   },
   {
    "duration": 119,
    "start_time": "2022-06-13T11:51:02.703Z"
   },
   {
    "duration": 121,
    "start_time": "2022-06-13T11:51:12.443Z"
   },
   {
    "duration": 9773,
    "start_time": "2022-06-13T11:51:12.566Z"
   },
   {
    "duration": 1556,
    "start_time": "2022-06-13T11:53:16.087Z"
   },
   {
    "duration": 1686,
    "start_time": "2022-06-13T11:54:09.576Z"
   },
   {
    "duration": 1229,
    "start_time": "2022-06-13T11:55:44.510Z"
   },
   {
    "duration": 3,
    "start_time": "2022-06-13T11:55:45.741Z"
   },
   {
    "duration": 44,
    "start_time": "2022-06-13T11:55:45.745Z"
   },
   {
    "duration": 13,
    "start_time": "2022-06-13T11:55:45.791Z"
   },
   {
    "duration": 24,
    "start_time": "2022-06-13T11:55:45.805Z"
   },
   {
    "duration": 41,
    "start_time": "2022-06-13T11:55:45.831Z"
   },
   {
    "duration": 3,
    "start_time": "2022-06-13T11:55:45.873Z"
   },
   {
    "duration": 26,
    "start_time": "2022-06-13T11:55:45.878Z"
   },
   {
    "duration": 73,
    "start_time": "2022-06-13T11:55:45.906Z"
   },
   {
    "duration": 16,
    "start_time": "2022-06-13T11:55:45.982Z"
   },
   {
    "duration": 252,
    "start_time": "2022-06-13T11:55:45.999Z"
   },
   {
    "duration": 13,
    "start_time": "2022-06-13T11:55:46.253Z"
   },
   {
    "duration": 15,
    "start_time": "2022-06-13T11:55:46.268Z"
   },
   {
    "duration": 20,
    "start_time": "2022-06-13T11:55:46.285Z"
   },
   {
    "duration": 181,
    "start_time": "2022-06-13T11:55:46.308Z"
   },
   {
    "duration": 112,
    "start_time": "2022-06-13T11:55:46.491Z"
   },
   {
    "duration": 5,
    "start_time": "2022-06-13T11:55:46.604Z"
   },
   {
    "duration": 32,
    "start_time": "2022-06-13T11:55:46.611Z"
   },
   {
    "duration": 3,
    "start_time": "2022-06-13T11:55:46.645Z"
   },
   {
    "duration": 8,
    "start_time": "2022-06-13T11:55:46.658Z"
   },
   {
    "duration": 10,
    "start_time": "2022-06-13T11:55:46.668Z"
   },
   {
    "duration": 13,
    "start_time": "2022-06-13T11:55:46.679Z"
   },
   {
    "duration": 13,
    "start_time": "2022-06-13T11:55:46.693Z"
   },
   {
    "duration": 32,
    "start_time": "2022-06-13T11:55:46.708Z"
   },
   {
    "duration": 17,
    "start_time": "2022-06-13T11:55:46.742Z"
   },
   {
    "duration": 7424,
    "start_time": "2022-06-13T11:55:46.762Z"
   },
   {
    "duration": 349,
    "start_time": "2022-06-13T11:55:54.187Z"
   },
   {
    "duration": 83851,
    "start_time": "2022-06-13T11:55:54.540Z"
   },
   {
    "duration": 1285,
    "start_time": "2022-06-13T11:57:18.393Z"
   },
   {
    "duration": 7685,
    "start_time": "2022-06-13T11:57:19.680Z"
   },
   {
    "duration": 93,
    "start_time": "2022-06-13T11:57:27.367Z"
   },
   {
    "duration": 21,
    "start_time": "2022-06-13T11:57:27.463Z"
   },
   {
    "duration": 73,
    "start_time": "2022-06-13T11:57:27.487Z"
   },
   {
    "duration": 1585,
    "start_time": "2022-06-13T11:57:27.562Z"
   },
   {
    "duration": 2258,
    "start_time": "2022-06-13T11:57:29.149Z"
   },
   {
    "duration": 138,
    "start_time": "2022-06-13T11:57:31.409Z"
   },
   {
    "duration": 9494,
    "start_time": "2022-06-13T11:57:31.549Z"
   },
   {
    "duration": 1285,
    "start_time": "2022-06-13T11:57:41.045Z"
   },
   {
    "duration": 4,
    "start_time": "2022-06-13T11:57:42.332Z"
   },
   {
    "duration": 57,
    "start_time": "2022-06-13T11:57:42.337Z"
   },
   {
    "duration": 88,
    "start_time": "2022-06-13T11:57:48.198Z"
   },
   {
    "duration": 92,
    "start_time": "2022-06-13T11:57:54.042Z"
   },
   {
    "duration": 10147,
    "start_time": "2022-06-13T11:57:56.648Z"
   },
   {
    "duration": 230,
    "start_time": "2022-06-13T11:58:45.412Z"
   },
   {
    "duration": 85,
    "start_time": "2022-06-13T12:01:07.321Z"
   },
   {
    "duration": 10332,
    "start_time": "2022-06-13T12:01:10.169Z"
   },
   {
    "duration": 526,
    "start_time": "2022-06-13T12:02:10.321Z"
   },
   {
    "duration": 51,
    "start_time": "2022-06-13T12:03:33.481Z"
   },
   {
    "duration": 2049,
    "start_time": "2022-06-13T12:03:35.957Z"
   },
   {
    "duration": 110,
    "start_time": "2022-06-13T12:03:51.411Z"
   },
   {
    "duration": 82,
    "start_time": "2022-06-13T12:04:33.714Z"
   },
   {
    "duration": 9806,
    "start_time": "2022-06-13T12:04:33.798Z"
   },
   {
    "duration": 33930,
    "start_time": "2022-06-13T12:05:12.499Z"
   },
   {
    "duration": 7991,
    "start_time": "2022-06-13T12:06:31.011Z"
   },
   {
    "duration": 0,
    "start_time": "2022-06-13T12:06:39.004Z"
   },
   {
    "duration": 89,
    "start_time": "2022-06-13T12:06:40.439Z"
   },
   {
    "duration": 13697,
    "start_time": "2022-06-13T12:06:42.952Z"
   },
   {
    "duration": 240,
    "start_time": "2022-06-13T12:07:44.422Z"
   },
   {
    "duration": 33292,
    "start_time": "2022-06-13T12:08:03.708Z"
   },
   {
    "duration": 5,
    "start_time": "2022-06-13T12:11:47.787Z"
   },
   {
    "duration": 200427,
    "start_time": "2022-06-13T12:11:54.115Z"
   },
   {
    "duration": 0,
    "start_time": "2022-06-13T12:15:14.544Z"
   },
   {
    "duration": 21189,
    "start_time": "2022-06-13T12:15:16.786Z"
   },
   {
    "duration": 17372,
    "start_time": "2022-06-13T12:16:13.706Z"
   },
   {
    "duration": 329,
    "start_time": "2022-06-13T12:16:37.181Z"
   },
   {
    "duration": 0,
    "start_time": "2022-06-13T12:17:14.050Z"
   },
   {
    "duration": 0,
    "start_time": "2022-06-13T12:17:14.059Z"
   },
   {
    "duration": 229,
    "start_time": "2022-06-13T12:17:15.605Z"
   },
   {
    "duration": 17941,
    "start_time": "2022-06-13T12:18:27.611Z"
   },
   {
    "duration": 38734,
    "start_time": "2022-06-13T12:18:59.703Z"
   },
   {
    "duration": 43708,
    "start_time": "2022-06-13T12:19:44.636Z"
   },
   {
    "duration": 12258,
    "start_time": "2022-06-13T12:20:31.108Z"
   },
   {
    "duration": 5,
    "start_time": "2022-06-13T12:25:26.687Z"
   },
   {
    "duration": 166,
    "start_time": "2022-06-13T12:25:26.724Z"
   },
   {
    "duration": 57171,
    "start_time": "2022-06-13T12:25:30.770Z"
   },
   {
    "duration": 0,
    "start_time": "2022-06-13T12:26:27.943Z"
   },
   {
    "duration": 21387,
    "start_time": "2022-06-13T12:26:29.276Z"
   },
   {
    "duration": 4,
    "start_time": "2022-06-13T12:28:07.061Z"
   },
   {
    "duration": 85,
    "start_time": "2022-06-13T12:28:08.340Z"
   },
   {
    "duration": 7815,
    "start_time": "2022-06-13T12:28:16.158Z"
   },
   {
    "duration": 9064,
    "start_time": "2022-06-13T12:28:37.453Z"
   },
   {
    "duration": 458,
    "start_time": "2022-06-13T12:28:52.134Z"
   },
   {
    "duration": 47990,
    "start_time": "2022-06-13T12:31:49.902Z"
   },
   {
    "duration": 61032,
    "start_time": "2022-06-13T12:32:54.813Z"
   },
   {
    "duration": 2096,
    "start_time": "2022-06-13T12:33:56.032Z"
   },
   {
    "duration": 11522,
    "start_time": "2022-06-13T12:33:58.860Z"
   },
   {
    "duration": 3970,
    "start_time": "2022-06-13T12:34:10.460Z"
   },
   {
    "duration": 186739,
    "start_time": "2022-06-13T12:34:19.909Z"
   },
   {
    "duration": 0,
    "start_time": "2022-06-13T12:37:26.650Z"
   },
   {
    "duration": 11,
    "start_time": "2022-06-13T12:40:51.999Z"
   },
   {
    "duration": 11,
    "start_time": "2022-06-13T12:40:58.683Z"
   },
   {
    "duration": 27,
    "start_time": "2022-06-13T12:41:12.336Z"
   },
   {
    "duration": 54,
    "start_time": "2022-06-13T12:41:16.338Z"
   },
   {
    "duration": 15,
    "start_time": "2022-06-13T12:42:13.289Z"
   },
   {
    "duration": 1179,
    "start_time": "2022-06-13T12:42:32.911Z"
   },
   {
    "duration": 2,
    "start_time": "2022-06-13T12:42:34.092Z"
   },
   {
    "duration": 43,
    "start_time": "2022-06-13T12:42:34.096Z"
   },
   {
    "duration": 12,
    "start_time": "2022-06-13T12:42:34.141Z"
   },
   {
    "duration": 17,
    "start_time": "2022-06-13T12:42:34.155Z"
   },
   {
    "duration": 39,
    "start_time": "2022-06-13T12:42:34.173Z"
   },
   {
    "duration": 3,
    "start_time": "2022-06-13T12:42:34.213Z"
   },
   {
    "duration": 16,
    "start_time": "2022-06-13T12:42:34.217Z"
   },
   {
    "duration": 81,
    "start_time": "2022-06-13T12:42:34.234Z"
   },
   {
    "duration": 16,
    "start_time": "2022-06-13T12:42:34.317Z"
   },
   {
    "duration": 210,
    "start_time": "2022-06-13T12:42:34.334Z"
   },
   {
    "duration": 18,
    "start_time": "2022-06-13T12:42:34.545Z"
   },
   {
    "duration": 5,
    "start_time": "2022-06-13T12:42:34.564Z"
   },
   {
    "duration": 6,
    "start_time": "2022-06-13T12:42:34.570Z"
   },
   {
    "duration": 14,
    "start_time": "2022-06-13T12:42:34.577Z"
   },
   {
    "duration": 9,
    "start_time": "2022-06-13T12:42:34.592Z"
   },
   {
    "duration": 9,
    "start_time": "2022-06-13T12:42:34.602Z"
   },
   {
    "duration": 3,
    "start_time": "2022-06-13T12:42:34.613Z"
   },
   {
    "duration": 11,
    "start_time": "2022-06-13T12:42:34.618Z"
   },
   {
    "duration": 29,
    "start_time": "2022-06-13T12:42:34.630Z"
   },
   {
    "duration": 11,
    "start_time": "2022-06-13T12:42:34.660Z"
   },
   {
    "duration": 15,
    "start_time": "2022-06-13T12:42:34.673Z"
   },
   {
    "duration": 9,
    "start_time": "2022-06-13T12:42:34.690Z"
   },
   {
    "duration": 12,
    "start_time": "2022-06-13T12:42:34.700Z"
   },
   {
    "duration": 23,
    "start_time": "2022-06-13T12:42:34.714Z"
   },
   {
    "duration": 5,
    "start_time": "2022-06-13T12:42:34.739Z"
   },
   {
    "duration": 512,
    "start_time": "2022-06-13T12:42:34.746Z"
   },
   {
    "duration": 124,
    "start_time": "2022-06-13T12:42:35.261Z"
   },
   {
    "duration": 0,
    "start_time": "2022-06-13T12:42:35.386Z"
   },
   {
    "duration": 0,
    "start_time": "2022-06-13T12:42:35.387Z"
   },
   {
    "duration": 0,
    "start_time": "2022-06-13T12:42:35.388Z"
   },
   {
    "duration": 0,
    "start_time": "2022-06-13T12:42:35.389Z"
   },
   {
    "duration": 0,
    "start_time": "2022-06-13T12:42:35.390Z"
   },
   {
    "duration": 0,
    "start_time": "2022-06-13T12:42:35.391Z"
   },
   {
    "duration": 0,
    "start_time": "2022-06-13T12:42:35.392Z"
   },
   {
    "duration": 0,
    "start_time": "2022-06-13T12:42:35.393Z"
   },
   {
    "duration": 0,
    "start_time": "2022-06-13T12:42:35.394Z"
   },
   {
    "duration": 0,
    "start_time": "2022-06-13T12:42:35.395Z"
   },
   {
    "duration": 0,
    "start_time": "2022-06-13T12:42:35.396Z"
   },
   {
    "duration": 0,
    "start_time": "2022-06-13T12:42:35.396Z"
   },
   {
    "duration": 0,
    "start_time": "2022-06-13T12:42:35.397Z"
   },
   {
    "duration": 0,
    "start_time": "2022-06-13T12:42:35.399Z"
   },
   {
    "duration": 3,
    "start_time": "2022-06-13T12:50:44.060Z"
   },
   {
    "duration": 38,
    "start_time": "2022-06-13T12:50:44.065Z"
   },
   {
    "duration": 62,
    "start_time": "2022-06-13T12:50:44.105Z"
   },
   {
    "duration": 12,
    "start_time": "2022-06-13T12:50:44.168Z"
   },
   {
    "duration": 47,
    "start_time": "2022-06-13T12:50:44.181Z"
   },
   {
    "duration": 67,
    "start_time": "2022-06-13T12:50:44.229Z"
   },
   {
    "duration": 3,
    "start_time": "2022-06-13T12:50:44.297Z"
   },
   {
    "duration": 16,
    "start_time": "2022-06-13T12:50:44.301Z"
   },
   {
    "duration": 60,
    "start_time": "2022-06-13T12:50:44.319Z"
   },
   {
    "duration": 15,
    "start_time": "2022-06-13T12:50:44.380Z"
   },
   {
    "duration": 227,
    "start_time": "2022-06-13T12:50:44.397Z"
   },
   {
    "duration": 7,
    "start_time": "2022-06-13T12:50:44.625Z"
   },
   {
    "duration": 5,
    "start_time": "2022-06-13T12:50:44.634Z"
   },
   {
    "duration": 19,
    "start_time": "2022-06-13T12:50:44.640Z"
   },
   {
    "duration": 12,
    "start_time": "2022-06-13T12:50:44.661Z"
   },
   {
    "duration": 9,
    "start_time": "2022-06-13T12:50:44.675Z"
   },
   {
    "duration": 14,
    "start_time": "2022-06-13T12:50:44.686Z"
   },
   {
    "duration": 10,
    "start_time": "2022-06-13T12:50:44.702Z"
   },
   {
    "duration": 17,
    "start_time": "2022-06-13T12:50:44.714Z"
   },
   {
    "duration": 10,
    "start_time": "2022-06-13T12:50:44.733Z"
   },
   {
    "duration": 17,
    "start_time": "2022-06-13T12:50:44.745Z"
   },
   {
    "duration": 10,
    "start_time": "2022-06-13T12:50:44.763Z"
   },
   {
    "duration": 8,
    "start_time": "2022-06-13T12:50:44.775Z"
   },
   {
    "duration": 16,
    "start_time": "2022-06-13T12:50:44.784Z"
   },
   {
    "duration": 28,
    "start_time": "2022-06-13T12:50:44.801Z"
   },
   {
    "duration": 5,
    "start_time": "2022-06-13T12:50:44.831Z"
   },
   {
    "duration": 508,
    "start_time": "2022-06-13T12:50:44.837Z"
   },
   {
    "duration": 26,
    "start_time": "2022-06-13T12:52:38.119Z"
   },
   {
    "duration": 4,
    "start_time": "2022-06-13T12:52:41.047Z"
   },
   {
    "duration": 12,
    "start_time": "2022-06-13T12:52:41.052Z"
   },
   {
    "duration": 42,
    "start_time": "2022-06-13T12:52:41.066Z"
   },
   {
    "duration": 11,
    "start_time": "2022-06-13T12:52:41.109Z"
   },
   {
    "duration": 14,
    "start_time": "2022-06-13T12:52:41.122Z"
   },
   {
    "duration": 41,
    "start_time": "2022-06-13T12:52:41.138Z"
   },
   {
    "duration": 2,
    "start_time": "2022-06-13T12:52:41.181Z"
   },
   {
    "duration": 14,
    "start_time": "2022-06-13T12:52:41.185Z"
   },
   {
    "duration": 62,
    "start_time": "2022-06-13T12:52:41.200Z"
   },
   {
    "duration": 18,
    "start_time": "2022-06-13T12:52:41.264Z"
   },
   {
    "duration": 229,
    "start_time": "2022-06-13T12:52:41.285Z"
   },
   {
    "duration": 9,
    "start_time": "2022-06-13T12:52:41.516Z"
   },
   {
    "duration": 4,
    "start_time": "2022-06-13T12:52:41.526Z"
   },
   {
    "duration": 27,
    "start_time": "2022-06-13T12:52:41.532Z"
   },
   {
    "duration": 12,
    "start_time": "2022-06-13T12:52:41.561Z"
   },
   {
    "duration": 8,
    "start_time": "2022-06-13T12:52:41.574Z"
   },
   {
    "duration": 6,
    "start_time": "2022-06-13T12:52:41.584Z"
   },
   {
    "duration": 3,
    "start_time": "2022-06-13T12:52:41.591Z"
   },
   {
    "duration": 7,
    "start_time": "2022-06-13T12:52:41.595Z"
   },
   {
    "duration": 11,
    "start_time": "2022-06-13T12:52:41.604Z"
   },
   {
    "duration": 9,
    "start_time": "2022-06-13T12:52:41.616Z"
   },
   {
    "duration": 7,
    "start_time": "2022-06-13T12:52:41.626Z"
   },
   {
    "duration": 25,
    "start_time": "2022-06-13T12:52:41.634Z"
   },
   {
    "duration": 8,
    "start_time": "2022-06-13T12:52:41.661Z"
   },
   {
    "duration": 26,
    "start_time": "2022-06-13T12:52:41.670Z"
   },
   {
    "duration": 5,
    "start_time": "2022-06-13T12:52:41.698Z"
   },
   {
    "duration": 517,
    "start_time": "2022-06-13T12:52:41.704Z"
   },
   {
    "duration": 37,
    "start_time": "2022-06-13T12:52:42.223Z"
   },
   {
    "duration": 5,
    "start_time": "2022-06-13T12:52:49.413Z"
   },
   {
    "duration": 19,
    "start_time": "2022-06-13T12:52:49.419Z"
   },
   {
    "duration": 47,
    "start_time": "2022-06-13T12:52:49.439Z"
   },
   {
    "duration": 12,
    "start_time": "2022-06-13T12:52:49.488Z"
   },
   {
    "duration": 24,
    "start_time": "2022-06-13T12:52:49.501Z"
   },
   {
    "duration": 45,
    "start_time": "2022-06-13T12:52:49.527Z"
   },
   {
    "duration": 3,
    "start_time": "2022-06-13T12:52:49.573Z"
   },
   {
    "duration": 15,
    "start_time": "2022-06-13T12:52:49.577Z"
   },
   {
    "duration": 66,
    "start_time": "2022-06-13T12:52:49.593Z"
   },
   {
    "duration": 13,
    "start_time": "2022-06-13T12:52:49.661Z"
   },
   {
    "duration": 236,
    "start_time": "2022-06-13T12:52:49.676Z"
   },
   {
    "duration": 10,
    "start_time": "2022-06-13T12:52:49.914Z"
   },
   {
    "duration": 11,
    "start_time": "2022-06-13T12:52:49.926Z"
   },
   {
    "duration": 6,
    "start_time": "2022-06-13T12:52:49.958Z"
   },
   {
    "duration": 16,
    "start_time": "2022-06-13T12:52:49.966Z"
   },
   {
    "duration": 11,
    "start_time": "2022-06-13T12:52:49.983Z"
   },
   {
    "duration": 10,
    "start_time": "2022-06-13T12:52:49.996Z"
   },
   {
    "duration": 8,
    "start_time": "2022-06-13T12:52:50.008Z"
   },
   {
    "duration": 13,
    "start_time": "2022-06-13T12:52:50.018Z"
   },
   {
    "duration": 25,
    "start_time": "2022-06-13T12:52:50.033Z"
   },
   {
    "duration": 9,
    "start_time": "2022-06-13T12:52:50.060Z"
   },
   {
    "duration": 8,
    "start_time": "2022-06-13T12:52:50.071Z"
   },
   {
    "duration": 8,
    "start_time": "2022-06-13T12:52:50.081Z"
   },
   {
    "duration": 13,
    "start_time": "2022-06-13T12:52:50.091Z"
   },
   {
    "duration": 35,
    "start_time": "2022-06-13T12:52:50.106Z"
   },
   {
    "duration": 6,
    "start_time": "2022-06-13T12:52:50.142Z"
   },
   {
    "duration": 525,
    "start_time": "2022-06-13T12:52:50.149Z"
   },
   {
    "duration": 11,
    "start_time": "2022-06-13T12:52:51.728Z"
   },
   {
    "duration": 1572,
    "start_time": "2022-06-13T12:53:03.935Z"
   },
   {
    "duration": 3,
    "start_time": "2022-06-13T12:53:05.509Z"
   },
   {
    "duration": 51,
    "start_time": "2022-06-13T12:53:05.513Z"
   },
   {
    "duration": 12,
    "start_time": "2022-06-13T12:53:05.566Z"
   },
   {
    "duration": 19,
    "start_time": "2022-06-13T12:53:05.580Z"
   },
   {
    "duration": 61,
    "start_time": "2022-06-13T12:53:05.601Z"
   },
   {
    "duration": 3,
    "start_time": "2022-06-13T12:53:05.663Z"
   },
   {
    "duration": 16,
    "start_time": "2022-06-13T12:53:05.667Z"
   },
   {
    "duration": 63,
    "start_time": "2022-06-13T12:53:05.684Z"
   },
   {
    "duration": 18,
    "start_time": "2022-06-13T12:53:05.749Z"
   },
   {
    "duration": 236,
    "start_time": "2022-06-13T12:53:05.768Z"
   },
   {
    "duration": 7,
    "start_time": "2022-06-13T12:53:06.006Z"
   },
   {
    "duration": 8,
    "start_time": "2022-06-13T12:53:06.015Z"
   },
   {
    "duration": 20,
    "start_time": "2022-06-13T12:53:06.027Z"
   },
   {
    "duration": 21,
    "start_time": "2022-06-13T12:53:06.049Z"
   },
   {
    "duration": 9,
    "start_time": "2022-06-13T12:53:06.072Z"
   },
   {
    "duration": 11,
    "start_time": "2022-06-13T12:53:06.083Z"
   },
   {
    "duration": 6,
    "start_time": "2022-06-13T12:53:06.096Z"
   },
   {
    "duration": 17,
    "start_time": "2022-06-13T12:53:06.103Z"
   },
   {
    "duration": 8,
    "start_time": "2022-06-13T12:53:06.122Z"
   },
   {
    "duration": 16,
    "start_time": "2022-06-13T12:53:06.132Z"
   },
   {
    "duration": 6,
    "start_time": "2022-06-13T12:53:06.150Z"
   },
   {
    "duration": 10,
    "start_time": "2022-06-13T12:53:06.157Z"
   },
   {
    "duration": 12,
    "start_time": "2022-06-13T12:53:06.168Z"
   },
   {
    "duration": 24,
    "start_time": "2022-06-13T12:53:06.181Z"
   },
   {
    "duration": 5,
    "start_time": "2022-06-13T12:53:06.206Z"
   },
   {
    "duration": 514,
    "start_time": "2022-06-13T12:53:06.213Z"
   },
   {
    "duration": 39,
    "start_time": "2022-06-13T12:53:06.729Z"
   },
   {
    "duration": 110,
    "start_time": "2022-06-13T12:53:06.769Z"
   },
   {
    "duration": 0,
    "start_time": "2022-06-13T12:53:06.881Z"
   },
   {
    "duration": 0,
    "start_time": "2022-06-13T12:53:06.882Z"
   },
   {
    "duration": 0,
    "start_time": "2022-06-13T12:53:06.883Z"
   },
   {
    "duration": 0,
    "start_time": "2022-06-13T12:53:06.884Z"
   },
   {
    "duration": 0,
    "start_time": "2022-06-13T12:53:06.884Z"
   },
   {
    "duration": 0,
    "start_time": "2022-06-13T12:53:06.885Z"
   },
   {
    "duration": 0,
    "start_time": "2022-06-13T12:53:06.886Z"
   },
   {
    "duration": 0,
    "start_time": "2022-06-13T12:53:06.888Z"
   },
   {
    "duration": 0,
    "start_time": "2022-06-13T12:53:06.888Z"
   },
   {
    "duration": 0,
    "start_time": "2022-06-13T12:53:06.890Z"
   },
   {
    "duration": 0,
    "start_time": "2022-06-13T12:53:06.891Z"
   },
   {
    "duration": 0,
    "start_time": "2022-06-13T12:53:06.892Z"
   },
   {
    "duration": 0,
    "start_time": "2022-06-13T12:53:06.893Z"
   },
   {
    "duration": 0,
    "start_time": "2022-06-13T12:53:06.893Z"
   },
   {
    "duration": 0,
    "start_time": "2022-06-13T12:53:06.895Z"
   },
   {
    "duration": 0,
    "start_time": "2022-06-13T12:53:06.895Z"
   },
   {
    "duration": 0,
    "start_time": "2022-06-13T12:53:06.897Z"
   },
   {
    "duration": 0,
    "start_time": "2022-06-13T12:53:06.898Z"
   },
   {
    "duration": 0,
    "start_time": "2022-06-13T12:53:06.899Z"
   },
   {
    "duration": 0,
    "start_time": "2022-06-13T12:53:06.899Z"
   },
   {
    "duration": 0,
    "start_time": "2022-06-13T12:53:06.900Z"
   },
   {
    "duration": 0,
    "start_time": "2022-06-13T12:53:06.901Z"
   },
   {
    "duration": 4648,
    "start_time": "2022-06-13T12:53:47.802Z"
   },
   {
    "duration": 4,
    "start_time": "2022-06-13T12:54:00.512Z"
   },
   {
    "duration": 42,
    "start_time": "2022-06-13T12:54:00.517Z"
   },
   {
    "duration": 52,
    "start_time": "2022-06-13T12:54:00.561Z"
   },
   {
    "duration": 12,
    "start_time": "2022-06-13T12:54:00.614Z"
   },
   {
    "duration": 31,
    "start_time": "2022-06-13T12:54:00.629Z"
   },
   {
    "duration": 71,
    "start_time": "2022-06-13T12:54:00.661Z"
   },
   {
    "duration": 3,
    "start_time": "2022-06-13T12:54:00.733Z"
   },
   {
    "duration": 36,
    "start_time": "2022-06-13T12:54:00.738Z"
   },
   {
    "duration": 56,
    "start_time": "2022-06-13T12:54:00.776Z"
   },
   {
    "duration": 26,
    "start_time": "2022-06-13T12:54:00.834Z"
   },
   {
    "duration": 218,
    "start_time": "2022-06-13T12:54:00.862Z"
   },
   {
    "duration": 8,
    "start_time": "2022-06-13T12:54:01.081Z"
   },
   {
    "duration": 29,
    "start_time": "2022-06-13T12:54:01.090Z"
   },
   {
    "duration": 34,
    "start_time": "2022-06-13T12:54:01.121Z"
   },
   {
    "duration": 20,
    "start_time": "2022-06-13T12:54:01.157Z"
   },
   {
    "duration": 10,
    "start_time": "2022-06-13T12:54:01.179Z"
   },
   {
    "duration": 7,
    "start_time": "2022-06-13T12:54:01.191Z"
   },
   {
    "duration": 4,
    "start_time": "2022-06-13T12:54:01.199Z"
   },
   {
    "duration": 15,
    "start_time": "2022-06-13T12:54:01.204Z"
   },
   {
    "duration": 6,
    "start_time": "2022-06-13T12:54:01.220Z"
   },
   {
    "duration": 11,
    "start_time": "2022-06-13T12:54:01.227Z"
   },
   {
    "duration": 16,
    "start_time": "2022-06-13T12:54:01.240Z"
   },
   {
    "duration": 24,
    "start_time": "2022-06-13T12:54:01.258Z"
   },
   {
    "duration": 17,
    "start_time": "2022-06-13T12:54:01.283Z"
   },
   {
    "duration": 29,
    "start_time": "2022-06-13T12:54:01.301Z"
   },
   {
    "duration": 5,
    "start_time": "2022-06-13T12:54:01.332Z"
   },
   {
    "duration": 529,
    "start_time": "2022-06-13T12:54:01.339Z"
   },
   {
    "duration": 28,
    "start_time": "2022-06-13T12:54:01.870Z"
   },
   {
    "duration": 4,
    "start_time": "2022-06-13T12:54:09.009Z"
   },
   {
    "duration": 7,
    "start_time": "2022-06-13T12:54:09.015Z"
   },
   {
    "duration": 41,
    "start_time": "2022-06-13T12:54:09.023Z"
   },
   {
    "duration": 10,
    "start_time": "2022-06-13T12:54:09.066Z"
   },
   {
    "duration": 19,
    "start_time": "2022-06-13T12:54:09.078Z"
   },
   {
    "duration": 55,
    "start_time": "2022-06-13T12:54:09.098Z"
   },
   {
    "duration": 4,
    "start_time": "2022-06-13T12:54:09.155Z"
   },
   {
    "duration": 13,
    "start_time": "2022-06-13T12:54:09.160Z"
   },
   {
    "duration": 44,
    "start_time": "2022-06-13T12:54:09.174Z"
   },
   {
    "duration": 43,
    "start_time": "2022-06-13T12:54:09.219Z"
   },
   {
    "duration": 214,
    "start_time": "2022-06-13T12:54:09.264Z"
   },
   {
    "duration": 8,
    "start_time": "2022-06-13T12:54:09.479Z"
   },
   {
    "duration": 6,
    "start_time": "2022-06-13T12:54:09.488Z"
   },
   {
    "duration": 10,
    "start_time": "2022-06-13T12:54:09.497Z"
   },
   {
    "duration": 15,
    "start_time": "2022-06-13T12:54:09.509Z"
   },
   {
    "duration": 34,
    "start_time": "2022-06-13T12:54:09.525Z"
   },
   {
    "duration": 7,
    "start_time": "2022-06-13T12:54:09.560Z"
   },
   {
    "duration": 3,
    "start_time": "2022-06-13T12:54:09.569Z"
   },
   {
    "duration": 9,
    "start_time": "2022-06-13T12:54:09.574Z"
   },
   {
    "duration": 5,
    "start_time": "2022-06-13T12:54:09.584Z"
   },
   {
    "duration": 8,
    "start_time": "2022-06-13T12:54:09.591Z"
   },
   {
    "duration": 7,
    "start_time": "2022-06-13T12:54:09.600Z"
   },
   {
    "duration": 7,
    "start_time": "2022-06-13T12:54:09.609Z"
   },
   {
    "duration": 10,
    "start_time": "2022-06-13T12:54:09.617Z"
   },
   {
    "duration": 48,
    "start_time": "2022-06-13T12:54:09.628Z"
   },
   {
    "duration": 4,
    "start_time": "2022-06-13T12:54:09.678Z"
   },
   {
    "duration": 496,
    "start_time": "2022-06-13T12:54:09.684Z"
   },
   {
    "duration": 24,
    "start_time": "2022-06-13T12:54:10.182Z"
   },
   {
    "duration": 152,
    "start_time": "2022-06-13T12:54:12.751Z"
   },
   {
    "duration": 29,
    "start_time": "2022-06-13T12:54:14.460Z"
   },
   {
    "duration": 1166,
    "start_time": "2022-06-13T12:54:18.751Z"
   },
   {
    "duration": 4,
    "start_time": "2022-06-13T12:54:19.919Z"
   },
   {
    "duration": 59,
    "start_time": "2022-06-13T12:54:19.925Z"
   },
   {
    "duration": 13,
    "start_time": "2022-06-13T12:54:19.985Z"
   },
   {
    "duration": 36,
    "start_time": "2022-06-13T12:54:20.000Z"
   },
   {
    "duration": 46,
    "start_time": "2022-06-13T12:54:20.038Z"
   },
   {
    "duration": 2,
    "start_time": "2022-06-13T12:54:20.086Z"
   },
   {
    "duration": 34,
    "start_time": "2022-06-13T12:54:20.090Z"
   },
   {
    "duration": 74,
    "start_time": "2022-06-13T12:54:20.126Z"
   },
   {
    "duration": 17,
    "start_time": "2022-06-13T12:54:20.202Z"
   },
   {
    "duration": 205,
    "start_time": "2022-06-13T12:54:20.220Z"
   },
   {
    "duration": 7,
    "start_time": "2022-06-13T12:54:20.427Z"
   },
   {
    "duration": 24,
    "start_time": "2022-06-13T12:54:20.435Z"
   },
   {
    "duration": 20,
    "start_time": "2022-06-13T12:54:20.460Z"
   },
   {
    "duration": 17,
    "start_time": "2022-06-13T12:54:20.482Z"
   },
   {
    "duration": 9,
    "start_time": "2022-06-13T12:54:20.501Z"
   },
   {
    "duration": 14,
    "start_time": "2022-06-13T12:54:20.512Z"
   },
   {
    "duration": 14,
    "start_time": "2022-06-13T12:54:20.527Z"
   },
   {
    "duration": 19,
    "start_time": "2022-06-13T12:54:20.543Z"
   },
   {
    "duration": 30,
    "start_time": "2022-06-13T12:54:20.563Z"
   },
   {
    "duration": 9,
    "start_time": "2022-06-13T12:54:20.594Z"
   },
   {
    "duration": 8,
    "start_time": "2022-06-13T12:54:20.605Z"
   },
   {
    "duration": 18,
    "start_time": "2022-06-13T12:54:20.615Z"
   },
   {
    "duration": 18,
    "start_time": "2022-06-13T12:54:20.635Z"
   },
   {
    "duration": 64,
    "start_time": "2022-06-13T12:54:20.654Z"
   },
   {
    "duration": 18,
    "start_time": "2022-06-13T12:54:20.720Z"
   },
   {
    "duration": 487,
    "start_time": "2022-06-13T12:54:20.740Z"
   },
   {
    "duration": 38,
    "start_time": "2022-06-13T12:54:21.230Z"
   },
   {
    "duration": 4345,
    "start_time": "2022-06-13T12:54:21.269Z"
   },
   {
    "duration": 157,
    "start_time": "2022-06-13T12:54:25.616Z"
   },
   {
    "duration": 85,
    "start_time": "2022-06-13T12:54:25.775Z"
   },
   {
    "duration": 98,
    "start_time": "2022-06-13T12:54:25.862Z"
   },
   {
    "duration": 4,
    "start_time": "2022-06-13T12:54:25.962Z"
   },
   {
    "duration": 21,
    "start_time": "2022-06-13T12:54:25.968Z"
   },
   {
    "duration": 613,
    "start_time": "2022-06-13T12:54:25.991Z"
   },
   {
    "duration": 34,
    "start_time": "2022-06-13T12:54:26.606Z"
   },
   {
    "duration": 5822,
    "start_time": "2022-06-13T12:54:26.642Z"
   },
   {
    "duration": 385,
    "start_time": "2022-06-13T12:54:32.465Z"
   },
   {
    "duration": 31,
    "start_time": "2022-06-13T12:54:32.852Z"
   },
   {
    "duration": 81,
    "start_time": "2022-06-13T12:54:32.885Z"
   },
   {
    "duration": 102,
    "start_time": "2022-06-13T12:54:32.968Z"
   },
   {
    "duration": 108,
    "start_time": "2022-06-13T12:54:33.071Z"
   },
   {
    "duration": 0,
    "start_time": "2022-06-13T12:54:33.181Z"
   },
   {
    "duration": 0,
    "start_time": "2022-06-13T12:54:33.182Z"
   },
   {
    "duration": 0,
    "start_time": "2022-06-13T12:54:33.184Z"
   },
   {
    "duration": 0,
    "start_time": "2022-06-13T12:54:33.185Z"
   },
   {
    "duration": 0,
    "start_time": "2022-06-13T12:54:33.186Z"
   },
   {
    "duration": 0,
    "start_time": "2022-06-13T12:54:33.188Z"
   },
   {
    "duration": 0,
    "start_time": "2022-06-13T12:54:33.189Z"
   },
   {
    "duration": 0,
    "start_time": "2022-06-13T12:54:33.190Z"
   },
   {
    "duration": 0,
    "start_time": "2022-06-13T12:54:33.192Z"
   },
   {
    "duration": 275,
    "start_time": "2022-06-13T12:54:47.608Z"
   },
   {
    "duration": 4,
    "start_time": "2022-06-13T12:55:01.642Z"
   },
   {
    "duration": 10,
    "start_time": "2022-06-13T12:55:03.091Z"
   },
   {
    "duration": 249,
    "start_time": "2022-06-13T12:55:04.678Z"
   },
   {
    "duration": 17,
    "start_time": "2022-06-13T12:55:08.890Z"
   },
   {
    "duration": 2241,
    "start_time": "2022-06-13T12:55:14.740Z"
   },
   {
    "duration": 8608,
    "start_time": "2022-06-13T12:55:23.112Z"
   },
   {
    "duration": 19429,
    "start_time": "2022-06-13T12:55:38.207Z"
   },
   {
    "duration": 8692,
    "start_time": "2022-06-13T12:56:04.667Z"
   },
   {
    "duration": 341,
    "start_time": "2022-06-13T12:56:14.407Z"
   },
   {
    "duration": 322,
    "start_time": "2022-06-13T12:56:31.595Z"
   },
   {
    "duration": 20,
    "start_time": "2022-06-13T12:56:33.952Z"
   },
   {
    "duration": 894,
    "start_time": "2022-06-13T12:56:36.572Z"
   },
   {
    "duration": 37,
    "start_time": "2022-06-13T12:56:46.653Z"
   },
   {
    "duration": 4624,
    "start_time": "2022-06-13T12:56:50.698Z"
   },
   {
    "duration": 37509,
    "start_time": "2022-06-13T12:57:01.519Z"
   },
   {
    "duration": 782,
    "start_time": "2022-06-13T12:57:57.486Z"
   },
   {
    "duration": 19,
    "start_time": "2022-06-13T12:57:59.537Z"
   },
   {
    "duration": 50912,
    "start_time": "2022-06-13T12:58:44.676Z"
   },
   {
    "duration": 49,
    "start_time": "2022-06-13T15:39:22.655Z"
   },
   {
    "duration": 40,
    "start_time": "2022-06-13T15:39:33.252Z"
   },
   {
    "duration": 413,
    "start_time": "2022-06-13T15:39:49.436Z"
   },
   {
    "duration": 10,
    "start_time": "2022-06-13T15:51:32.705Z"
   },
   {
    "duration": 5,
    "start_time": "2022-06-13T15:51:47.332Z"
   },
   {
    "duration": 4,
    "start_time": "2022-06-13T15:52:05.920Z"
   },
   {
    "duration": 4,
    "start_time": "2022-06-13T15:52:20.298Z"
   },
   {
    "duration": 3,
    "start_time": "2022-06-13T15:52:35.183Z"
   },
   {
    "duration": 1294,
    "start_time": "2022-06-13T15:53:37.226Z"
   },
   {
    "duration": 3,
    "start_time": "2022-06-13T15:53:38.522Z"
   },
   {
    "duration": 51,
    "start_time": "2022-06-13T15:53:38.526Z"
   },
   {
    "duration": 13,
    "start_time": "2022-06-13T15:53:38.579Z"
   },
   {
    "duration": 20,
    "start_time": "2022-06-13T15:53:38.594Z"
   },
   {
    "duration": 69,
    "start_time": "2022-06-13T15:53:38.615Z"
   },
   {
    "duration": 3,
    "start_time": "2022-06-13T15:53:38.685Z"
   },
   {
    "duration": 15,
    "start_time": "2022-06-13T15:53:38.689Z"
   },
   {
    "duration": 119,
    "start_time": "2022-06-13T15:53:38.706Z"
   },
   {
    "duration": 405,
    "start_time": "2022-06-13T15:53:38.827Z"
   },
   {
    "duration": 37,
    "start_time": "2022-06-13T15:53:39.234Z"
   },
   {
    "duration": 225,
    "start_time": "2022-06-13T15:53:39.273Z"
   },
   {
    "duration": 9,
    "start_time": "2022-06-13T15:53:39.499Z"
   },
   {
    "duration": 4,
    "start_time": "2022-06-13T15:53:39.511Z"
   },
   {
    "duration": 6,
    "start_time": "2022-06-13T15:53:39.517Z"
   },
   {
    "duration": 43,
    "start_time": "2022-06-13T15:53:39.524Z"
   },
   {
    "duration": 13,
    "start_time": "2022-06-13T15:53:39.570Z"
   },
   {
    "duration": 8,
    "start_time": "2022-06-13T15:53:39.584Z"
   },
   {
    "duration": 6,
    "start_time": "2022-06-13T15:53:39.593Z"
   },
   {
    "duration": 11,
    "start_time": "2022-06-13T15:53:39.600Z"
   },
   {
    "duration": 10,
    "start_time": "2022-06-13T15:53:39.613Z"
   },
   {
    "duration": 11,
    "start_time": "2022-06-13T15:53:39.625Z"
   },
   {
    "duration": 5,
    "start_time": "2022-06-13T15:53:39.637Z"
   },
   {
    "duration": 24,
    "start_time": "2022-06-13T15:53:39.644Z"
   },
   {
    "duration": 10,
    "start_time": "2022-06-13T15:53:39.670Z"
   },
   {
    "duration": 24,
    "start_time": "2022-06-13T15:53:39.682Z"
   },
   {
    "duration": 6,
    "start_time": "2022-06-13T15:53:39.707Z"
   },
   {
    "duration": 539,
    "start_time": "2022-06-13T15:53:39.714Z"
   },
   {
    "duration": 32,
    "start_time": "2022-06-13T15:53:40.259Z"
   },
   {
    "duration": 4736,
    "start_time": "2022-06-13T15:53:40.292Z"
   },
   {
    "duration": 184,
    "start_time": "2022-06-13T15:53:45.030Z"
   },
   {
    "duration": 67,
    "start_time": "2022-06-13T15:53:45.217Z"
   },
   {
    "duration": 88,
    "start_time": "2022-06-13T15:53:45.287Z"
   },
   {
    "duration": 15,
    "start_time": "2022-06-13T15:53:45.376Z"
   },
   {
    "duration": 16,
    "start_time": "2022-06-13T15:53:45.393Z"
   },
   {
    "duration": 644,
    "start_time": "2022-06-13T15:53:45.411Z"
   },
   {
    "duration": 34,
    "start_time": "2022-06-13T15:53:46.059Z"
   },
   {
    "duration": 54594,
    "start_time": "2022-06-13T15:53:46.094Z"
   },
   {
    "duration": 899,
    "start_time": "2022-06-13T15:54:40.690Z"
   },
   {
    "duration": 168,
    "start_time": "2022-06-13T15:54:41.591Z"
   },
   {
    "duration": 4,
    "start_time": "2022-06-13T15:54:41.763Z"
   },
   {
    "duration": 18,
    "start_time": "2022-06-13T15:54:41.768Z"
   },
   {
    "duration": 270,
    "start_time": "2022-06-13T15:54:41.788Z"
   },
   {
    "duration": 13,
    "start_time": "2022-06-13T15:54:42.060Z"
   },
   {
    "duration": 8873,
    "start_time": "2022-06-13T15:54:42.074Z"
   },
   {
    "duration": 326,
    "start_time": "2022-06-13T15:54:50.950Z"
   },
   {
    "duration": 85,
    "start_time": "2022-06-13T15:54:51.277Z"
   },
   {
    "duration": 968,
    "start_time": "2022-06-13T15:54:51.365Z"
   },
   {
    "duration": 50,
    "start_time": "2022-06-13T15:54:52.335Z"
   },
   {
    "duration": 29052,
    "start_time": "2022-06-13T15:54:52.387Z"
   },
   {
    "duration": 810,
    "start_time": "2022-06-13T15:55:21.441Z"
   },
   {
    "duration": 105,
    "start_time": "2022-06-13T15:55:22.253Z"
   },
   {
    "duration": 8,
    "start_time": "2022-06-13T15:55:22.362Z"
   },
   {
    "duration": 94,
    "start_time": "2022-06-13T15:55:22.372Z"
   },
   {
    "duration": 866,
    "start_time": "2022-06-13T15:55:22.468Z"
   },
   {
    "duration": 1020,
    "start_time": "2022-06-13T15:58:25.443Z"
   },
   {
    "duration": 975,
    "start_time": "2022-06-13T15:58:36.438Z"
   },
   {
    "duration": 1068,
    "start_time": "2022-06-13T15:59:04.285Z"
   },
   {
    "duration": 1354,
    "start_time": "2022-06-13T15:59:12.179Z"
   },
   {
    "duration": 490,
    "start_time": "2022-06-13T15:59:22.872Z"
   },
   {
    "duration": 10,
    "start_time": "2022-06-13T16:00:58.714Z"
   },
   {
    "duration": 4,
    "start_time": "2022-06-13T16:01:00.669Z"
   },
   {
    "duration": 465,
    "start_time": "2022-06-13T16:01:02.184Z"
   },
   {
    "duration": 1222,
    "start_time": "2022-06-13T16:01:38.148Z"
   },
   {
    "duration": 1324,
    "start_time": "2022-06-13T16:01:50.330Z"
   },
   {
    "duration": 1237,
    "start_time": "2022-06-13T16:02:08.506Z"
   },
   {
    "duration": 1270,
    "start_time": "2022-06-13T16:02:09.745Z"
   },
   {
    "duration": 1300,
    "start_time": "2022-06-13T16:02:12.888Z"
   },
   {
    "duration": 61,
    "start_time": "2022-06-13T16:10:09.189Z"
   },
   {
    "duration": 66,
    "start_time": "2022-06-13T16:11:02.025Z"
   },
   {
    "duration": 4,
    "start_time": "2022-06-13T16:11:09.476Z"
   },
   {
    "duration": 55,
    "start_time": "2022-06-13T16:11:15.006Z"
   },
   {
    "duration": 15,
    "start_time": "2022-06-13T16:12:43.374Z"
   },
   {
    "duration": 5,
    "start_time": "2022-06-13T16:13:26.489Z"
   },
   {
    "duration": 137,
    "start_time": "2022-06-13T16:14:21.495Z"
   },
   {
    "duration": 1189,
    "start_time": "2022-06-13T16:29:40.409Z"
   },
   {
    "duration": 3,
    "start_time": "2022-06-13T16:29:41.600Z"
   },
   {
    "duration": 50,
    "start_time": "2022-06-13T16:29:41.604Z"
   },
   {
    "duration": 13,
    "start_time": "2022-06-13T16:29:41.656Z"
   },
   {
    "duration": 18,
    "start_time": "2022-06-13T16:29:41.671Z"
   },
   {
    "duration": 45,
    "start_time": "2022-06-13T16:29:41.691Z"
   },
   {
    "duration": 23,
    "start_time": "2022-06-13T16:29:41.738Z"
   },
   {
    "duration": 15,
    "start_time": "2022-06-13T16:29:41.762Z"
   },
   {
    "duration": 77,
    "start_time": "2022-06-13T16:29:41.779Z"
   },
   {
    "duration": 401,
    "start_time": "2022-06-13T16:29:41.858Z"
   },
   {
    "duration": 16,
    "start_time": "2022-06-13T16:29:42.261Z"
   },
   {
    "duration": 216,
    "start_time": "2022-06-13T16:29:42.279Z"
   },
   {
    "duration": 7,
    "start_time": "2022-06-13T16:29:42.497Z"
   },
   {
    "duration": 4,
    "start_time": "2022-06-13T16:29:42.506Z"
   },
   {
    "duration": 7,
    "start_time": "2022-06-13T16:29:42.512Z"
   },
   {
    "duration": 38,
    "start_time": "2022-06-13T16:29:42.521Z"
   },
   {
    "duration": 9,
    "start_time": "2022-06-13T16:29:42.561Z"
   },
   {
    "duration": 7,
    "start_time": "2022-06-13T16:29:42.572Z"
   },
   {
    "duration": 6,
    "start_time": "2022-06-13T16:29:42.580Z"
   },
   {
    "duration": 9,
    "start_time": "2022-06-13T16:29:42.587Z"
   },
   {
    "duration": 7,
    "start_time": "2022-06-13T16:29:42.598Z"
   },
   {
    "duration": 13,
    "start_time": "2022-06-13T16:29:42.606Z"
   },
   {
    "duration": 5,
    "start_time": "2022-06-13T16:29:42.621Z"
   },
   {
    "duration": 7,
    "start_time": "2022-06-13T16:29:42.628Z"
   },
   {
    "duration": 27,
    "start_time": "2022-06-13T16:29:42.636Z"
   },
   {
    "duration": 23,
    "start_time": "2022-06-13T16:29:42.665Z"
   },
   {
    "duration": 6,
    "start_time": "2022-06-13T16:29:42.690Z"
   },
   {
    "duration": 538,
    "start_time": "2022-06-13T16:29:42.701Z"
   },
   {
    "duration": 38,
    "start_time": "2022-06-13T16:29:43.241Z"
   },
   {
    "duration": 4520,
    "start_time": "2022-06-13T16:29:43.281Z"
   },
   {
    "duration": 169,
    "start_time": "2022-06-13T16:29:47.802Z"
   },
   {
    "duration": 22,
    "start_time": "2022-06-13T16:29:47.973Z"
   },
   {
    "duration": 68,
    "start_time": "2022-06-13T16:29:47.997Z"
   },
   {
    "duration": 98,
    "start_time": "2022-06-13T16:29:48.067Z"
   },
   {
    "duration": 12,
    "start_time": "2022-06-13T16:29:48.167Z"
   },
   {
    "duration": 622,
    "start_time": "2022-06-13T16:29:48.181Z"
   },
   {
    "duration": 31,
    "start_time": "2022-06-13T16:29:48.805Z"
   },
   {
    "duration": 52239,
    "start_time": "2022-06-13T16:29:48.838Z"
   },
   {
    "duration": 893,
    "start_time": "2022-06-13T16:30:41.079Z"
   },
   {
    "duration": 86,
    "start_time": "2022-06-13T16:30:41.974Z"
   },
   {
    "duration": 6,
    "start_time": "2022-06-13T16:30:42.063Z"
   },
   {
    "duration": 104,
    "start_time": "2022-06-13T16:30:42.071Z"
   },
   {
    "duration": 263,
    "start_time": "2022-06-13T16:30:42.177Z"
   },
   {
    "duration": 22,
    "start_time": "2022-06-13T16:30:42.442Z"
   },
   {
    "duration": 8946,
    "start_time": "2022-06-13T16:30:42.466Z"
   },
   {
    "duration": 332,
    "start_time": "2022-06-13T16:30:51.413Z"
   },
   {
    "duration": 112,
    "start_time": "2022-06-13T16:30:51.747Z"
   },
   {
    "duration": 1007,
    "start_time": "2022-06-13T16:30:51.862Z"
   },
   {
    "duration": 38,
    "start_time": "2022-06-13T16:30:52.870Z"
   },
   {
    "duration": 28829,
    "start_time": "2022-06-13T16:30:52.909Z"
   },
   {
    "duration": 808,
    "start_time": "2022-06-13T16:31:21.739Z"
   },
   {
    "duration": 30,
    "start_time": "2022-06-13T16:31:22.549Z"
   },
   {
    "duration": 87,
    "start_time": "2022-06-13T16:31:22.580Z"
   },
   {
    "duration": 128,
    "start_time": "2022-06-13T16:31:22.668Z"
   },
   {
    "duration": 1292,
    "start_time": "2022-06-13T16:31:22.798Z"
   },
   {
    "duration": 1212,
    "start_time": "2022-06-13T16:31:24.092Z"
   },
   {
    "duration": 63,
    "start_time": "2022-06-13T16:31:25.305Z"
   },
   {
    "duration": 5,
    "start_time": "2022-06-13T16:31:25.370Z"
   },
   {
    "duration": 142,
    "start_time": "2022-06-13T16:31:25.377Z"
   }
  ],
  "kernelspec": {
   "display_name": "Python 3",
   "language": "python",
   "name": "python3"
  },
  "language_info": {
   "codemirror_mode": {
    "name": "ipython",
    "version": 3
   },
   "file_extension": ".py",
   "mimetype": "text/x-python",
   "name": "python",
   "nbconvert_exporter": "python",
   "pygments_lexer": "ipython3",
   "version": "3.8.8"
  },
  "toc": {
   "base_numbering": 1,
   "nav_menu": {},
   "number_sections": true,
   "sideBar": true,
   "skip_h1_title": true,
   "title_cell": "Содержание",
   "title_sidebar": "Contents",
   "toc_cell": true,
   "toc_position": {},
   "toc_section_display": true,
   "toc_window_display": false
  }
 },
 "nbformat": 4,
 "nbformat_minor": 5
}
