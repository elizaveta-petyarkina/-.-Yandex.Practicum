{
 "cells": [
  {
   "cell_type": "markdown",
   "id": "881a7df3",
   "metadata": {},
   "source": [
    "# Анализ тарифов оператора сотовой связи #"
   ]
  },
  {
   "cell_type": "markdown",
   "id": "2a5baa42",
   "metadata": {},
   "source": [
    "**Описание проекта:**\n",
    "Объект исследования - компания «Мегалайн», федеральный оператор сотовой связи. Клиентам предлагают два тарифных плана: «Смарт» и «Ультра». Чтобы скорректировать рекламный бюджет, коммерческий департамент хочет понять, какой тариф приносит больше денег.\n",
    "\n",
    "Небходимо сделать предварительный анализ тарифов на небольшой выборке клиентов. Предоставлены данные 500 пользователей «Мегалайна»: кто они, откуда, каким тарифом пользуются, сколько звонков и сообщений каждый отправил за 2018 год. Нужно проанализировать поведение клиентов и сделать вывод — какой тариф лучше.\n",
    "\n",
    "**Описание тарифов:**\n",
    "1. Тариф «Смарт»\n",
    "* Ежемесячная плата: 550 рублей\n",
    "* Включено 500 минут разговора, 50 сообщений и 15 Гб интернет-трафика\n",
    "* Стоимость услуг сверх тарифного пакета:\n",
    "минута разговора: 3 рубля, сообщение: 3 рубля, 1 Гб интернет-трафика: 200 рублей\n",
    "2. Тариф «Ультра»\n",
    "* Ежемесячная плата: 1950 рублей\n",
    "* Включено 3000 минут разговора, 1000 сообщений и 30 Гб интернет-трафика\n",
    "* Стоимость услуг сверх тарифного пакета:\n",
    "минута разговора: 1 рубль, сообщение: 1 рубль, 1 Гб интернет-трафика: 150 рублей\n",
    "\n",
    "Примечание:\n",
    "«Мегалайн» всегда округляет секунды до минут, а мегабайты — до гигабайт. Каждый звонок округляется отдельно: даже если он длился всего 1 секунду, будет засчитан как 1 минута.\n",
    "Для веб-трафика отдельные сессии не считаются. Вместо этого общая сумма за месяц округляется в бо́льшую сторону. Если абонент использует 1025 мегабайт в этом месяце, с него возьмут плату за 2 гигабайта.\n",
    "\n",
    "**Цель исследования - проверить следующие гипотезы:**\n",
    "1. Средняя выручка пользователей тарифов «Ультра» и «Смарт» различаются;\n",
    "2. Средняя выручка пользователей из Москвы отличается от выручки пользователей из других регионов.\n",
    "\n",
    "**Исследование пройдет в несколько этапов:**\n",
    "1. Обзор данных;\n",
    "2. Предобработка данных;\n",
    "3. Анализ данных;\n",
    "4. Проверка гипотез;\n",
    "5. Подведение итогов (вывод)."
   ]
  },
  {
   "cell_type": "markdown",
   "id": "dcbc0bf1",
   "metadata": {},
   "source": [
    "## Обзор данных ##"
   ]
  },
  {
   "cell_type": "markdown",
   "id": "fd4f1f2b",
   "metadata": {},
   "source": [
    "Для начала импортируем необходимые для работы библиотеки, запишем наши данные в переменные, откроем их и просмотрим информацию о них."
   ]
  },
  {
   "cell_type": "code",
   "execution_count": 1,
   "id": "ad6c8d75",
   "metadata": {},
   "outputs": [],
   "source": [
    "import pandas as pd\n",
    "import matplotlib.pyplot as plt\n",
    "import numpy as np\n",
    "import scipy.stats as st\n",
    "import math"
   ]
  },
  {
   "cell_type": "code",
   "execution_count": 2,
   "id": "dc9a3958",
   "metadata": {},
   "outputs": [],
   "source": [
    "try:\n",
    "    calls_df = pd.read_csv ('calls.csv')\n",
    "    internet_df = pd.read_csv ('internet.csv', index_col=0)\n",
    "    messages_df = pd.read_csv ('messages.csv')\n",
    "    tariffs_df = pd.read_csv ('tariffs.csv')\n",
    "    users_df = pd.read_csv ('users.csv')\n",
    "except:\n",
    "    calls_df = pd.read_csv('/datasets/calls.csv') \n",
    "    internet_df = pd.read_csv('/datasets/internet.csv', index_col=0) \n",
    "    messages_df = pd.read_csv('/datasets/messages.csv') \n",
    "    tariffs_df = pd.read_csv('/datasets/tariffs.csv') \n",
    "    users_df = pd.read_csv('/datasets/users.csv') "
   ]
  },
  {
   "cell_type": "code",
   "execution_count": 4,
   "id": "662636f4",
   "metadata": {},
   "outputs": [
    {
     "data": {
      "text/plain": [
       "'Таблица calls_df'"
      ]
     },
     "metadata": {},
     "output_type": "display_data"
    },
    {
     "data": {
      "text/html": [
       "<div>\n",
       "<style scoped>\n",
       "    .dataframe tbody tr th:only-of-type {\n",
       "        vertical-align: middle;\n",
       "    }\n",
       "\n",
       "    .dataframe tbody tr th {\n",
       "        vertical-align: top;\n",
       "    }\n",
       "\n",
       "    .dataframe thead th {\n",
       "        text-align: right;\n",
       "    }\n",
       "</style>\n",
       "<table border=\"1\" class=\"dataframe\">\n",
       "  <thead>\n",
       "    <tr style=\"text-align: right;\">\n",
       "      <th></th>\n",
       "      <th>id</th>\n",
       "      <th>call_date</th>\n",
       "      <th>duration</th>\n",
       "      <th>user_id</th>\n",
       "    </tr>\n",
       "  </thead>\n",
       "  <tbody>\n",
       "    <tr>\n",
       "      <th>0</th>\n",
       "      <td>1000_0</td>\n",
       "      <td>2018-07-25</td>\n",
       "      <td>0.00</td>\n",
       "      <td>1000</td>\n",
       "    </tr>\n",
       "    <tr>\n",
       "      <th>1</th>\n",
       "      <td>1000_1</td>\n",
       "      <td>2018-08-17</td>\n",
       "      <td>0.00</td>\n",
       "      <td>1000</td>\n",
       "    </tr>\n",
       "    <tr>\n",
       "      <th>2</th>\n",
       "      <td>1000_2</td>\n",
       "      <td>2018-06-11</td>\n",
       "      <td>2.85</td>\n",
       "      <td>1000</td>\n",
       "    </tr>\n",
       "    <tr>\n",
       "      <th>3</th>\n",
       "      <td>1000_3</td>\n",
       "      <td>2018-09-21</td>\n",
       "      <td>13.80</td>\n",
       "      <td>1000</td>\n",
       "    </tr>\n",
       "    <tr>\n",
       "      <th>4</th>\n",
       "      <td>1000_4</td>\n",
       "      <td>2018-12-15</td>\n",
       "      <td>5.18</td>\n",
       "      <td>1000</td>\n",
       "    </tr>\n",
       "  </tbody>\n",
       "</table>\n",
       "</div>"
      ],
      "text/plain": [
       "       id   call_date  duration  user_id\n",
       "0  1000_0  2018-07-25      0.00     1000\n",
       "1  1000_1  2018-08-17      0.00     1000\n",
       "2  1000_2  2018-06-11      2.85     1000\n",
       "3  1000_3  2018-09-21     13.80     1000\n",
       "4  1000_4  2018-12-15      5.18     1000"
      ]
     },
     "metadata": {},
     "output_type": "display_data"
    },
    {
     "data": {
      "text/plain": [
       "'Таблица internet_df'"
      ]
     },
     "metadata": {},
     "output_type": "display_data"
    },
    {
     "data": {
      "text/html": [
       "<div>\n",
       "<style scoped>\n",
       "    .dataframe tbody tr th:only-of-type {\n",
       "        vertical-align: middle;\n",
       "    }\n",
       "\n",
       "    .dataframe tbody tr th {\n",
       "        vertical-align: top;\n",
       "    }\n",
       "\n",
       "    .dataframe thead th {\n",
       "        text-align: right;\n",
       "    }\n",
       "</style>\n",
       "<table border=\"1\" class=\"dataframe\">\n",
       "  <thead>\n",
       "    <tr style=\"text-align: right;\">\n",
       "      <th></th>\n",
       "      <th>id</th>\n",
       "      <th>mb_used</th>\n",
       "      <th>session_date</th>\n",
       "      <th>user_id</th>\n",
       "    </tr>\n",
       "  </thead>\n",
       "  <tbody>\n",
       "    <tr>\n",
       "      <th>0</th>\n",
       "      <td>1000_0</td>\n",
       "      <td>112.95</td>\n",
       "      <td>2018-11-25</td>\n",
       "      <td>1000</td>\n",
       "    </tr>\n",
       "    <tr>\n",
       "      <th>1</th>\n",
       "      <td>1000_1</td>\n",
       "      <td>1052.81</td>\n",
       "      <td>2018-09-07</td>\n",
       "      <td>1000</td>\n",
       "    </tr>\n",
       "    <tr>\n",
       "      <th>2</th>\n",
       "      <td>1000_2</td>\n",
       "      <td>1197.26</td>\n",
       "      <td>2018-06-25</td>\n",
       "      <td>1000</td>\n",
       "    </tr>\n",
       "    <tr>\n",
       "      <th>3</th>\n",
       "      <td>1000_3</td>\n",
       "      <td>550.27</td>\n",
       "      <td>2018-08-22</td>\n",
       "      <td>1000</td>\n",
       "    </tr>\n",
       "    <tr>\n",
       "      <th>4</th>\n",
       "      <td>1000_4</td>\n",
       "      <td>302.56</td>\n",
       "      <td>2018-09-24</td>\n",
       "      <td>1000</td>\n",
       "    </tr>\n",
       "  </tbody>\n",
       "</table>\n",
       "</div>"
      ],
      "text/plain": [
       "       id  mb_used session_date  user_id\n",
       "0  1000_0   112.95   2018-11-25     1000\n",
       "1  1000_1  1052.81   2018-09-07     1000\n",
       "2  1000_2  1197.26   2018-06-25     1000\n",
       "3  1000_3   550.27   2018-08-22     1000\n",
       "4  1000_4   302.56   2018-09-24     1000"
      ]
     },
     "metadata": {},
     "output_type": "display_data"
    },
    {
     "data": {
      "text/plain": [
       "'Таблица messages_df'"
      ]
     },
     "metadata": {},
     "output_type": "display_data"
    },
    {
     "data": {
      "text/html": [
       "<div>\n",
       "<style scoped>\n",
       "    .dataframe tbody tr th:only-of-type {\n",
       "        vertical-align: middle;\n",
       "    }\n",
       "\n",
       "    .dataframe tbody tr th {\n",
       "        vertical-align: top;\n",
       "    }\n",
       "\n",
       "    .dataframe thead th {\n",
       "        text-align: right;\n",
       "    }\n",
       "</style>\n",
       "<table border=\"1\" class=\"dataframe\">\n",
       "  <thead>\n",
       "    <tr style=\"text-align: right;\">\n",
       "      <th></th>\n",
       "      <th>id</th>\n",
       "      <th>message_date</th>\n",
       "      <th>user_id</th>\n",
       "    </tr>\n",
       "  </thead>\n",
       "  <tbody>\n",
       "    <tr>\n",
       "      <th>0</th>\n",
       "      <td>1000_0</td>\n",
       "      <td>2018-06-27</td>\n",
       "      <td>1000</td>\n",
       "    </tr>\n",
       "    <tr>\n",
       "      <th>1</th>\n",
       "      <td>1000_1</td>\n",
       "      <td>2018-10-08</td>\n",
       "      <td>1000</td>\n",
       "    </tr>\n",
       "    <tr>\n",
       "      <th>2</th>\n",
       "      <td>1000_2</td>\n",
       "      <td>2018-08-04</td>\n",
       "      <td>1000</td>\n",
       "    </tr>\n",
       "    <tr>\n",
       "      <th>3</th>\n",
       "      <td>1000_3</td>\n",
       "      <td>2018-06-16</td>\n",
       "      <td>1000</td>\n",
       "    </tr>\n",
       "    <tr>\n",
       "      <th>4</th>\n",
       "      <td>1000_4</td>\n",
       "      <td>2018-12-05</td>\n",
       "      <td>1000</td>\n",
       "    </tr>\n",
       "  </tbody>\n",
       "</table>\n",
       "</div>"
      ],
      "text/plain": [
       "       id message_date  user_id\n",
       "0  1000_0   2018-06-27     1000\n",
       "1  1000_1   2018-10-08     1000\n",
       "2  1000_2   2018-08-04     1000\n",
       "3  1000_3   2018-06-16     1000\n",
       "4  1000_4   2018-12-05     1000"
      ]
     },
     "metadata": {},
     "output_type": "display_data"
    },
    {
     "data": {
      "text/plain": [
       "'Таблица tariffs_df'"
      ]
     },
     "metadata": {},
     "output_type": "display_data"
    },
    {
     "data": {
      "text/html": [
       "<div>\n",
       "<style scoped>\n",
       "    .dataframe tbody tr th:only-of-type {\n",
       "        vertical-align: middle;\n",
       "    }\n",
       "\n",
       "    .dataframe tbody tr th {\n",
       "        vertical-align: top;\n",
       "    }\n",
       "\n",
       "    .dataframe thead th {\n",
       "        text-align: right;\n",
       "    }\n",
       "</style>\n",
       "<table border=\"1\" class=\"dataframe\">\n",
       "  <thead>\n",
       "    <tr style=\"text-align: right;\">\n",
       "      <th></th>\n",
       "      <th>messages_included</th>\n",
       "      <th>mb_per_month_included</th>\n",
       "      <th>minutes_included</th>\n",
       "      <th>rub_monthly_fee</th>\n",
       "      <th>rub_per_gb</th>\n",
       "      <th>rub_per_message</th>\n",
       "      <th>rub_per_minute</th>\n",
       "      <th>tariff_name</th>\n",
       "    </tr>\n",
       "  </thead>\n",
       "  <tbody>\n",
       "    <tr>\n",
       "      <th>0</th>\n",
       "      <td>50</td>\n",
       "      <td>15360</td>\n",
       "      <td>500</td>\n",
       "      <td>550</td>\n",
       "      <td>200</td>\n",
       "      <td>3</td>\n",
       "      <td>3</td>\n",
       "      <td>smart</td>\n",
       "    </tr>\n",
       "    <tr>\n",
       "      <th>1</th>\n",
       "      <td>1000</td>\n",
       "      <td>30720</td>\n",
       "      <td>3000</td>\n",
       "      <td>1950</td>\n",
       "      <td>150</td>\n",
       "      <td>1</td>\n",
       "      <td>1</td>\n",
       "      <td>ultra</td>\n",
       "    </tr>\n",
       "  </tbody>\n",
       "</table>\n",
       "</div>"
      ],
      "text/plain": [
       "   messages_included  mb_per_month_included  minutes_included  \\\n",
       "0                 50                  15360               500   \n",
       "1               1000                  30720              3000   \n",
       "\n",
       "   rub_monthly_fee  rub_per_gb  rub_per_message  rub_per_minute tariff_name  \n",
       "0              550         200                3               3       smart  \n",
       "1             1950         150                1               1       ultra  "
      ]
     },
     "metadata": {},
     "output_type": "display_data"
    },
    {
     "data": {
      "text/plain": [
       "'Таблица users_df'"
      ]
     },
     "metadata": {},
     "output_type": "display_data"
    },
    {
     "data": {
      "text/html": [
       "<div>\n",
       "<style scoped>\n",
       "    .dataframe tbody tr th:only-of-type {\n",
       "        vertical-align: middle;\n",
       "    }\n",
       "\n",
       "    .dataframe tbody tr th {\n",
       "        vertical-align: top;\n",
       "    }\n",
       "\n",
       "    .dataframe thead th {\n",
       "        text-align: right;\n",
       "    }\n",
       "</style>\n",
       "<table border=\"1\" class=\"dataframe\">\n",
       "  <thead>\n",
       "    <tr style=\"text-align: right;\">\n",
       "      <th></th>\n",
       "      <th>user_id</th>\n",
       "      <th>age</th>\n",
       "      <th>churn_date</th>\n",
       "      <th>city</th>\n",
       "      <th>first_name</th>\n",
       "      <th>last_name</th>\n",
       "      <th>reg_date</th>\n",
       "      <th>tariff</th>\n",
       "    </tr>\n",
       "  </thead>\n",
       "  <tbody>\n",
       "    <tr>\n",
       "      <th>0</th>\n",
       "      <td>1000</td>\n",
       "      <td>52</td>\n",
       "      <td>NaN</td>\n",
       "      <td>Краснодар</td>\n",
       "      <td>Рафаил</td>\n",
       "      <td>Верещагин</td>\n",
       "      <td>2018-05-25</td>\n",
       "      <td>ultra</td>\n",
       "    </tr>\n",
       "    <tr>\n",
       "      <th>1</th>\n",
       "      <td>1001</td>\n",
       "      <td>41</td>\n",
       "      <td>NaN</td>\n",
       "      <td>Москва</td>\n",
       "      <td>Иван</td>\n",
       "      <td>Ежов</td>\n",
       "      <td>2018-11-01</td>\n",
       "      <td>smart</td>\n",
       "    </tr>\n",
       "    <tr>\n",
       "      <th>2</th>\n",
       "      <td>1002</td>\n",
       "      <td>59</td>\n",
       "      <td>NaN</td>\n",
       "      <td>Стерлитамак</td>\n",
       "      <td>Евгений</td>\n",
       "      <td>Абрамович</td>\n",
       "      <td>2018-06-17</td>\n",
       "      <td>smart</td>\n",
       "    </tr>\n",
       "    <tr>\n",
       "      <th>3</th>\n",
       "      <td>1003</td>\n",
       "      <td>23</td>\n",
       "      <td>NaN</td>\n",
       "      <td>Москва</td>\n",
       "      <td>Белла</td>\n",
       "      <td>Белякова</td>\n",
       "      <td>2018-08-17</td>\n",
       "      <td>ultra</td>\n",
       "    </tr>\n",
       "    <tr>\n",
       "      <th>4</th>\n",
       "      <td>1004</td>\n",
       "      <td>68</td>\n",
       "      <td>NaN</td>\n",
       "      <td>Новокузнецк</td>\n",
       "      <td>Татьяна</td>\n",
       "      <td>Авдеенко</td>\n",
       "      <td>2018-05-14</td>\n",
       "      <td>ultra</td>\n",
       "    </tr>\n",
       "  </tbody>\n",
       "</table>\n",
       "</div>"
      ],
      "text/plain": [
       "   user_id  age churn_date         city first_name  last_name    reg_date  \\\n",
       "0     1000   52        NaN    Краснодар     Рафаил  Верещагин  2018-05-25   \n",
       "1     1001   41        NaN       Москва       Иван       Ежов  2018-11-01   \n",
       "2     1002   59        NaN  Стерлитамак    Евгений  Абрамович  2018-06-17   \n",
       "3     1003   23        NaN       Москва      Белла   Белякова  2018-08-17   \n",
       "4     1004   68        NaN  Новокузнецк    Татьяна   Авдеенко  2018-05-14   \n",
       "\n",
       "  tariff  \n",
       "0  ultra  \n",
       "1  smart  \n",
       "2  smart  \n",
       "3  ultra  \n",
       "4  ultra  "
      ]
     },
     "metadata": {},
     "output_type": "display_data"
    }
   ],
   "source": [
    "display ('Таблица calls_df')\n",
    "display (calls_df.head())\n",
    "display ('Таблица internet_df')\n",
    "display (internet_df.head())\n",
    "display ('Таблица messages_df')\n",
    "display (messages_df.head())\n",
    "display ('Таблица tariffs_df')\n",
    "display (tariffs_df.head())\n",
    "display ('Таблица users_df')\n",
    "display (users_df.head())"
   ]
  },
  {
   "cell_type": "code",
   "execution_count": 5,
   "id": "0307014c",
   "metadata": {},
   "outputs": [
    {
     "data": {
      "text/plain": [
       "'Таблица calls_df'"
      ]
     },
     "metadata": {},
     "output_type": "display_data"
    },
    {
     "name": "stdout",
     "output_type": "stream",
     "text": [
      "<class 'pandas.core.frame.DataFrame'>\n",
      "RangeIndex: 202607 entries, 0 to 202606\n",
      "Data columns (total 4 columns):\n",
      " #   Column     Non-Null Count   Dtype  \n",
      "---  ------     --------------   -----  \n",
      " 0   id         202607 non-null  object \n",
      " 1   call_date  202607 non-null  object \n",
      " 2   duration   202607 non-null  float64\n",
      " 3   user_id    202607 non-null  int64  \n",
      "dtypes: float64(1), int64(1), object(2)\n",
      "memory usage: 6.2+ MB\n"
     ]
    },
    {
     "data": {
      "text/plain": [
       "None"
      ]
     },
     "metadata": {},
     "output_type": "display_data"
    },
    {
     "data": {
      "text/plain": [
       "'Таблица internet_df'"
      ]
     },
     "metadata": {},
     "output_type": "display_data"
    },
    {
     "name": "stdout",
     "output_type": "stream",
     "text": [
      "<class 'pandas.core.frame.DataFrame'>\n",
      "Int64Index: 149396 entries, 0 to 149395\n",
      "Data columns (total 4 columns):\n",
      " #   Column        Non-Null Count   Dtype  \n",
      "---  ------        --------------   -----  \n",
      " 0   id            149396 non-null  object \n",
      " 1   mb_used       149396 non-null  float64\n",
      " 2   session_date  149396 non-null  object \n",
      " 3   user_id       149396 non-null  int64  \n",
      "dtypes: float64(1), int64(1), object(2)\n",
      "memory usage: 5.7+ MB\n"
     ]
    },
    {
     "data": {
      "text/plain": [
       "None"
      ]
     },
     "metadata": {},
     "output_type": "display_data"
    },
    {
     "data": {
      "text/plain": [
       "'Таблица messages_df'"
      ]
     },
     "metadata": {},
     "output_type": "display_data"
    },
    {
     "name": "stdout",
     "output_type": "stream",
     "text": [
      "<class 'pandas.core.frame.DataFrame'>\n",
      "RangeIndex: 123036 entries, 0 to 123035\n",
      "Data columns (total 3 columns):\n",
      " #   Column        Non-Null Count   Dtype \n",
      "---  ------        --------------   ----- \n",
      " 0   id            123036 non-null  object\n",
      " 1   message_date  123036 non-null  object\n",
      " 2   user_id       123036 non-null  int64 \n",
      "dtypes: int64(1), object(2)\n",
      "memory usage: 2.8+ MB\n"
     ]
    },
    {
     "data": {
      "text/plain": [
       "None"
      ]
     },
     "metadata": {},
     "output_type": "display_data"
    },
    {
     "data": {
      "text/plain": [
       "'Таблица tariffs_df'"
      ]
     },
     "metadata": {},
     "output_type": "display_data"
    },
    {
     "name": "stdout",
     "output_type": "stream",
     "text": [
      "<class 'pandas.core.frame.DataFrame'>\n",
      "RangeIndex: 2 entries, 0 to 1\n",
      "Data columns (total 8 columns):\n",
      " #   Column                 Non-Null Count  Dtype \n",
      "---  ------                 --------------  ----- \n",
      " 0   messages_included      2 non-null      int64 \n",
      " 1   mb_per_month_included  2 non-null      int64 \n",
      " 2   minutes_included       2 non-null      int64 \n",
      " 3   rub_monthly_fee        2 non-null      int64 \n",
      " 4   rub_per_gb             2 non-null      int64 \n",
      " 5   rub_per_message        2 non-null      int64 \n",
      " 6   rub_per_minute         2 non-null      int64 \n",
      " 7   tariff_name            2 non-null      object\n",
      "dtypes: int64(7), object(1)\n",
      "memory usage: 256.0+ bytes\n"
     ]
    },
    {
     "data": {
      "text/plain": [
       "None"
      ]
     },
     "metadata": {},
     "output_type": "display_data"
    },
    {
     "data": {
      "text/plain": [
       "'Таблица users_df'"
      ]
     },
     "metadata": {},
     "output_type": "display_data"
    },
    {
     "name": "stdout",
     "output_type": "stream",
     "text": [
      "<class 'pandas.core.frame.DataFrame'>\n",
      "RangeIndex: 500 entries, 0 to 499\n",
      "Data columns (total 8 columns):\n",
      " #   Column      Non-Null Count  Dtype \n",
      "---  ------      --------------  ----- \n",
      " 0   user_id     500 non-null    int64 \n",
      " 1   age         500 non-null    int64 \n",
      " 2   churn_date  38 non-null     object\n",
      " 3   city        500 non-null    object\n",
      " 4   first_name  500 non-null    object\n",
      " 5   last_name   500 non-null    object\n",
      " 6   reg_date    500 non-null    object\n",
      " 7   tariff      500 non-null    object\n",
      "dtypes: int64(2), object(6)\n",
      "memory usage: 31.4+ KB\n"
     ]
    },
    {
     "data": {
      "text/plain": [
       "None"
      ]
     },
     "metadata": {},
     "output_type": "display_data"
    }
   ],
   "source": [
    "display ('Таблица calls_df')\n",
    "display (calls_df.info())\n",
    "display ('Таблица internet_df')\n",
    "display (internet_df.info())\n",
    "display ('Таблица messages_df')\n",
    "display (messages_df.info())\n",
    "display ('Таблица tariffs_df')\n",
    "display (tariffs_df.info())\n",
    "display ('Таблица users_df')\n",
    "display (users_df.info())"
   ]
  },
  {
   "cell_type": "code",
   "execution_count": 6,
   "id": "e1a359b4",
   "metadata": {},
   "outputs": [
    {
     "data": {
      "text/plain": [
       "'Таблица calls_df'"
      ]
     },
     "metadata": {},
     "output_type": "display_data"
    },
    {
     "data": {
      "text/html": [
       "<div>\n",
       "<style scoped>\n",
       "    .dataframe tbody tr th:only-of-type {\n",
       "        vertical-align: middle;\n",
       "    }\n",
       "\n",
       "    .dataframe tbody tr th {\n",
       "        vertical-align: top;\n",
       "    }\n",
       "\n",
       "    .dataframe thead th {\n",
       "        text-align: right;\n",
       "    }\n",
       "</style>\n",
       "<table border=\"1\" class=\"dataframe\">\n",
       "  <thead>\n",
       "    <tr style=\"text-align: right;\">\n",
       "      <th></th>\n",
       "      <th>count</th>\n",
       "      <th>mean</th>\n",
       "      <th>std</th>\n",
       "      <th>min</th>\n",
       "      <th>25%</th>\n",
       "      <th>50%</th>\n",
       "      <th>75%</th>\n",
       "      <th>max</th>\n",
       "    </tr>\n",
       "  </thead>\n",
       "  <tbody>\n",
       "    <tr>\n",
       "      <th>duration</th>\n",
       "      <td>202607.0</td>\n",
       "      <td>6.755887</td>\n",
       "      <td>5.843365</td>\n",
       "      <td>0.0</td>\n",
       "      <td>1.3</td>\n",
       "      <td>6.0</td>\n",
       "      <td>10.7</td>\n",
       "      <td>38.0</td>\n",
       "    </tr>\n",
       "    <tr>\n",
       "      <th>user_id</th>\n",
       "      <td>202607.0</td>\n",
       "      <td>1253.940619</td>\n",
       "      <td>144.722751</td>\n",
       "      <td>1000.0</td>\n",
       "      <td>1126.0</td>\n",
       "      <td>1260.0</td>\n",
       "      <td>1379.0</td>\n",
       "      <td>1499.0</td>\n",
       "    </tr>\n",
       "  </tbody>\n",
       "</table>\n",
       "</div>"
      ],
      "text/plain": [
       "             count         mean         std     min     25%     50%     75%  \\\n",
       "duration  202607.0     6.755887    5.843365     0.0     1.3     6.0    10.7   \n",
       "user_id   202607.0  1253.940619  144.722751  1000.0  1126.0  1260.0  1379.0   \n",
       "\n",
       "             max  \n",
       "duration    38.0  \n",
       "user_id   1499.0  "
      ]
     },
     "metadata": {},
     "output_type": "display_data"
    },
    {
     "data": {
      "text/plain": [
       "'Таблица internet_df'"
      ]
     },
     "metadata": {},
     "output_type": "display_data"
    },
    {
     "data": {
      "text/html": [
       "<div>\n",
       "<style scoped>\n",
       "    .dataframe tbody tr th:only-of-type {\n",
       "        vertical-align: middle;\n",
       "    }\n",
       "\n",
       "    .dataframe tbody tr th {\n",
       "        vertical-align: top;\n",
       "    }\n",
       "\n",
       "    .dataframe thead th {\n",
       "        text-align: right;\n",
       "    }\n",
       "</style>\n",
       "<table border=\"1\" class=\"dataframe\">\n",
       "  <thead>\n",
       "    <tr style=\"text-align: right;\">\n",
       "      <th></th>\n",
       "      <th>count</th>\n",
       "      <th>mean</th>\n",
       "      <th>std</th>\n",
       "      <th>min</th>\n",
       "      <th>25%</th>\n",
       "      <th>50%</th>\n",
       "      <th>75%</th>\n",
       "      <th>max</th>\n",
       "    </tr>\n",
       "  </thead>\n",
       "  <tbody>\n",
       "    <tr>\n",
       "      <th>mb_used</th>\n",
       "      <td>149396.0</td>\n",
       "      <td>370.192426</td>\n",
       "      <td>278.300951</td>\n",
       "      <td>0.0</td>\n",
       "      <td>138.1875</td>\n",
       "      <td>348.015</td>\n",
       "      <td>559.5525</td>\n",
       "      <td>1724.83</td>\n",
       "    </tr>\n",
       "    <tr>\n",
       "      <th>user_id</th>\n",
       "      <td>149396.0</td>\n",
       "      <td>1252.099842</td>\n",
       "      <td>144.050823</td>\n",
       "      <td>1000.0</td>\n",
       "      <td>1130.0000</td>\n",
       "      <td>1251.000</td>\n",
       "      <td>1380.0000</td>\n",
       "      <td>1499.00</td>\n",
       "    </tr>\n",
       "  </tbody>\n",
       "</table>\n",
       "</div>"
      ],
      "text/plain": [
       "            count         mean         std     min        25%       50%  \\\n",
       "mb_used  149396.0   370.192426  278.300951     0.0   138.1875   348.015   \n",
       "user_id  149396.0  1252.099842  144.050823  1000.0  1130.0000  1251.000   \n",
       "\n",
       "               75%      max  \n",
       "mb_used   559.5525  1724.83  \n",
       "user_id  1380.0000  1499.00  "
      ]
     },
     "metadata": {},
     "output_type": "display_data"
    },
    {
     "data": {
      "text/plain": [
       "'Таблица messages_df'"
      ]
     },
     "metadata": {},
     "output_type": "display_data"
    },
    {
     "data": {
      "text/html": [
       "<div>\n",
       "<style scoped>\n",
       "    .dataframe tbody tr th:only-of-type {\n",
       "        vertical-align: middle;\n",
       "    }\n",
       "\n",
       "    .dataframe tbody tr th {\n",
       "        vertical-align: top;\n",
       "    }\n",
       "\n",
       "    .dataframe thead th {\n",
       "        text-align: right;\n",
       "    }\n",
       "</style>\n",
       "<table border=\"1\" class=\"dataframe\">\n",
       "  <thead>\n",
       "    <tr style=\"text-align: right;\">\n",
       "      <th></th>\n",
       "      <th>count</th>\n",
       "      <th>mean</th>\n",
       "      <th>std</th>\n",
       "      <th>min</th>\n",
       "      <th>25%</th>\n",
       "      <th>50%</th>\n",
       "      <th>75%</th>\n",
       "      <th>max</th>\n",
       "    </tr>\n",
       "  </thead>\n",
       "  <tbody>\n",
       "    <tr>\n",
       "      <th>user_id</th>\n",
       "      <td>123036.0</td>\n",
       "      <td>1256.98941</td>\n",
       "      <td>143.523967</td>\n",
       "      <td>1000.0</td>\n",
       "      <td>1134.0</td>\n",
       "      <td>1271.0</td>\n",
       "      <td>1381.0</td>\n",
       "      <td>1499.0</td>\n",
       "    </tr>\n",
       "  </tbody>\n",
       "</table>\n",
       "</div>"
      ],
      "text/plain": [
       "            count        mean         std     min     25%     50%     75%  \\\n",
       "user_id  123036.0  1256.98941  143.523967  1000.0  1134.0  1271.0  1381.0   \n",
       "\n",
       "            max  \n",
       "user_id  1499.0  "
      ]
     },
     "metadata": {},
     "output_type": "display_data"
    },
    {
     "data": {
      "text/plain": [
       "'Таблица tariffs_df'"
      ]
     },
     "metadata": {},
     "output_type": "display_data"
    },
    {
     "data": {
      "text/html": [
       "<div>\n",
       "<style scoped>\n",
       "    .dataframe tbody tr th:only-of-type {\n",
       "        vertical-align: middle;\n",
       "    }\n",
       "\n",
       "    .dataframe tbody tr th {\n",
       "        vertical-align: top;\n",
       "    }\n",
       "\n",
       "    .dataframe thead th {\n",
       "        text-align: right;\n",
       "    }\n",
       "</style>\n",
       "<table border=\"1\" class=\"dataframe\">\n",
       "  <thead>\n",
       "    <tr style=\"text-align: right;\">\n",
       "      <th></th>\n",
       "      <th>count</th>\n",
       "      <th>mean</th>\n",
       "      <th>std</th>\n",
       "      <th>min</th>\n",
       "      <th>25%</th>\n",
       "      <th>50%</th>\n",
       "      <th>75%</th>\n",
       "      <th>max</th>\n",
       "    </tr>\n",
       "  </thead>\n",
       "  <tbody>\n",
       "    <tr>\n",
       "      <th>messages_included</th>\n",
       "      <td>2.0</td>\n",
       "      <td>525.0</td>\n",
       "      <td>671.751442</td>\n",
       "      <td>50.0</td>\n",
       "      <td>287.5</td>\n",
       "      <td>525.0</td>\n",
       "      <td>762.5</td>\n",
       "      <td>1000.0</td>\n",
       "    </tr>\n",
       "    <tr>\n",
       "      <th>mb_per_month_included</th>\n",
       "      <td>2.0</td>\n",
       "      <td>23040.0</td>\n",
       "      <td>10861.160159</td>\n",
       "      <td>15360.0</td>\n",
       "      <td>19200.0</td>\n",
       "      <td>23040.0</td>\n",
       "      <td>26880.0</td>\n",
       "      <td>30720.0</td>\n",
       "    </tr>\n",
       "    <tr>\n",
       "      <th>minutes_included</th>\n",
       "      <td>2.0</td>\n",
       "      <td>1750.0</td>\n",
       "      <td>1767.766953</td>\n",
       "      <td>500.0</td>\n",
       "      <td>1125.0</td>\n",
       "      <td>1750.0</td>\n",
       "      <td>2375.0</td>\n",
       "      <td>3000.0</td>\n",
       "    </tr>\n",
       "    <tr>\n",
       "      <th>rub_monthly_fee</th>\n",
       "      <td>2.0</td>\n",
       "      <td>1250.0</td>\n",
       "      <td>989.949494</td>\n",
       "      <td>550.0</td>\n",
       "      <td>900.0</td>\n",
       "      <td>1250.0</td>\n",
       "      <td>1600.0</td>\n",
       "      <td>1950.0</td>\n",
       "    </tr>\n",
       "    <tr>\n",
       "      <th>rub_per_gb</th>\n",
       "      <td>2.0</td>\n",
       "      <td>175.0</td>\n",
       "      <td>35.355339</td>\n",
       "      <td>150.0</td>\n",
       "      <td>162.5</td>\n",
       "      <td>175.0</td>\n",
       "      <td>187.5</td>\n",
       "      <td>200.0</td>\n",
       "    </tr>\n",
       "    <tr>\n",
       "      <th>rub_per_message</th>\n",
       "      <td>2.0</td>\n",
       "      <td>2.0</td>\n",
       "      <td>1.414214</td>\n",
       "      <td>1.0</td>\n",
       "      <td>1.5</td>\n",
       "      <td>2.0</td>\n",
       "      <td>2.5</td>\n",
       "      <td>3.0</td>\n",
       "    </tr>\n",
       "    <tr>\n",
       "      <th>rub_per_minute</th>\n",
       "      <td>2.0</td>\n",
       "      <td>2.0</td>\n",
       "      <td>1.414214</td>\n",
       "      <td>1.0</td>\n",
       "      <td>1.5</td>\n",
       "      <td>2.0</td>\n",
       "      <td>2.5</td>\n",
       "      <td>3.0</td>\n",
       "    </tr>\n",
       "  </tbody>\n",
       "</table>\n",
       "</div>"
      ],
      "text/plain": [
       "                       count     mean           std      min      25%  \\\n",
       "messages_included        2.0    525.0    671.751442     50.0    287.5   \n",
       "mb_per_month_included    2.0  23040.0  10861.160159  15360.0  19200.0   \n",
       "minutes_included         2.0   1750.0   1767.766953    500.0   1125.0   \n",
       "rub_monthly_fee          2.0   1250.0    989.949494    550.0    900.0   \n",
       "rub_per_gb               2.0    175.0     35.355339    150.0    162.5   \n",
       "rub_per_message          2.0      2.0      1.414214      1.0      1.5   \n",
       "rub_per_minute           2.0      2.0      1.414214      1.0      1.5   \n",
       "\n",
       "                           50%      75%      max  \n",
       "messages_included        525.0    762.5   1000.0  \n",
       "mb_per_month_included  23040.0  26880.0  30720.0  \n",
       "minutes_included        1750.0   2375.0   3000.0  \n",
       "rub_monthly_fee         1250.0   1600.0   1950.0  \n",
       "rub_per_gb               175.0    187.5    200.0  \n",
       "rub_per_message            2.0      2.5      3.0  \n",
       "rub_per_minute             2.0      2.5      3.0  "
      ]
     },
     "metadata": {},
     "output_type": "display_data"
    },
    {
     "data": {
      "text/plain": [
       "'Таблица users_df'"
      ]
     },
     "metadata": {},
     "output_type": "display_data"
    },
    {
     "data": {
      "text/html": [
       "<div>\n",
       "<style scoped>\n",
       "    .dataframe tbody tr th:only-of-type {\n",
       "        vertical-align: middle;\n",
       "    }\n",
       "\n",
       "    .dataframe tbody tr th {\n",
       "        vertical-align: top;\n",
       "    }\n",
       "\n",
       "    .dataframe thead th {\n",
       "        text-align: right;\n",
       "    }\n",
       "</style>\n",
       "<table border=\"1\" class=\"dataframe\">\n",
       "  <thead>\n",
       "    <tr style=\"text-align: right;\">\n",
       "      <th></th>\n",
       "      <th>count</th>\n",
       "      <th>mean</th>\n",
       "      <th>std</th>\n",
       "      <th>min</th>\n",
       "      <th>25%</th>\n",
       "      <th>50%</th>\n",
       "      <th>75%</th>\n",
       "      <th>max</th>\n",
       "    </tr>\n",
       "  </thead>\n",
       "  <tbody>\n",
       "    <tr>\n",
       "      <th>user_id</th>\n",
       "      <td>500.0</td>\n",
       "      <td>1249.500</td>\n",
       "      <td>144.481833</td>\n",
       "      <td>1000.0</td>\n",
       "      <td>1124.75</td>\n",
       "      <td>1249.5</td>\n",
       "      <td>1374.25</td>\n",
       "      <td>1499.0</td>\n",
       "    </tr>\n",
       "    <tr>\n",
       "      <th>age</th>\n",
       "      <td>500.0</td>\n",
       "      <td>46.588</td>\n",
       "      <td>16.667630</td>\n",
       "      <td>18.0</td>\n",
       "      <td>32.00</td>\n",
       "      <td>46.0</td>\n",
       "      <td>62.00</td>\n",
       "      <td>75.0</td>\n",
       "    </tr>\n",
       "  </tbody>\n",
       "</table>\n",
       "</div>"
      ],
      "text/plain": [
       "         count      mean         std     min      25%     50%      75%     max\n",
       "user_id  500.0  1249.500  144.481833  1000.0  1124.75  1249.5  1374.25  1499.0\n",
       "age      500.0    46.588   16.667630    18.0    32.00    46.0    62.00    75.0"
      ]
     },
     "metadata": {},
     "output_type": "display_data"
    }
   ],
   "source": [
    "display ('Таблица calls_df')\n",
    "display (calls_df.describe().T)\n",
    "display ('Таблица internet_df')\n",
    "display (internet_df.describe().T)\n",
    "display ('Таблица messages_df')\n",
    "display (messages_df.describe().T)\n",
    "display ('Таблица tariffs_df')\n",
    "display (tariffs_df.describe().T)\n",
    "display ('Таблица users_df')\n",
    "display (users_df.describe().T)"
   ]
  },
  {
   "cell_type": "markdown",
   "id": "ac269f2f",
   "metadata": {},
   "source": [
    "**Описание данных:**\n",
    "1. Таблица users (информация о пользователях):\n",
    "* user_id — уникальный идентификатор пользователя. Тип - int64, подходит значениям столбца.\n",
    "* first_name — имя пользователя. Тип - object, подходит значениям столбца.\n",
    "* last_name — фамилия пользователя. Тип - object, подходит значениям столбца.\n",
    "* age — возраст пользователя (годы). Тип - int64, подходит значениям столбца.\n",
    "* reg_date — дата подключения тарифа (день, месяц, год). Тип - object, необходимо изменение типа данных для корректной работы с ними.\n",
    "* churn_date — дата прекращения пользования тарифом (если значение пропущено, то тариф ещё действовал на момент выгрузки данных) Тип - object, необходимо изменение типа данных для корректной работы с ними.\n",
    "* city — город проживания пользователя.  Тип - object, подходит значениям столбца.\n",
    "* tariff — название тарифного плана. Тип - object, так как у нас всего два названия, возможно при предобработке данных будет целесообразно сменить тип на bool, или ввести числовые идентификаторы.\n",
    "2. Таблица calls (информация о звонках):\n",
    "* id — уникальный номер звонка. Тип - object, подходит значениям столбца.\n",
    "* call_date — дата звонка. Тип - object, необходимо изменение типа данных для корректной работы с ними.\n",
    "* duration — длительность звонка в минутах. Тип - float64, необходимо изменение типа данных для корректной работы с ними, с округление до большего значения.\n",
    "* user_id — идентификатор пользователя, сделавшего звонок. Тип - int64, подходит значениям столбца.\n",
    "3. Таблица messages (информация о сообщениях):\n",
    "* id — уникальный номер сообщения. Тип - object, подходит значениям столбца.\n",
    "* message_date — дата сообщения. Тип - object, необходимо изменение типа данных для корректной работы с ними.\n",
    "* user_id — идентификатор пользователя, отправившего сообщение. Тип - int64, подходит значениям столбца.\n",
    "4. Таблица internet (информация об интернет-сессиях):\n",
    "Также видим столбец без названия. Предположительно, он хранит индексы строк.\n",
    "* id — уникальный номер сессии. Тип - object, подходит значениям столбца.Тип - object, возможно при предобработке данных необходимо изменение типа данных для корректной работы с ними.\n",
    "* mb_used — объём потраченного за сессию интернет-трафика (в мегабайтах). Тип - float64, необходимо изменение типа данных для корректной работы с ними, с округление до большего значения.\n",
    "* session_date — дата интернет-сессии. Тип - object, необходимо изменение типа данных для корректной работы с ними.\n",
    "* user_id — идентификатор пользователя. Тип - int64, подходит значениям столбца.\n",
    "5. Таблица tariffs (информация о тарифах):\n",
    "* tariff_name — название тарифа. Тип - object, подходит значениям столбца.\n",
    "* rub_monthly_fee — ежемесячная абонентская плата в рублях. Тип - int64, подходит значениям столбца.\n",
    "* minutes_included — количество минут разговора в месяц, включённых в абонентскую плату. Тип - int64, подходит значениям столбца.\n",
    "* messages_included — количество сообщений в месяц, включённых в абонентскую плату. Тип - int64, подходит значениям столбца.\n",
    "* mb_per_month_included — объём интернет-трафика, включённого в абонентскую плату (в мегабайтах). Тип - int64, подходит значениям столбца.\n",
    "* rub_per_minute — стоимость минуты разговора сверх тарифного пакета (например, если в тарифе 100 минут разговора в месяц, то со 101 минуты будет взиматься плата). Тип - int64, подходит значениям столбца.\n",
    "* rub_per_message — стоимость отправки сообщения сверх тарифного пакета. Тип - int64, подходит значениям столбца.\n",
    "* rub_per_gb — стоимость дополнительного гигабайта интернет-трафика сверх тарифного пакета (1 гигабайт = 1024 мегабайта). Тип - int64, подходит значениям столбца."
   ]
  },
  {
   "cell_type": "markdown",
   "id": "7bdb6ba2",
   "metadata": {},
   "source": [
    "### Вывод ###"
   ]
  },
  {
   "cell_type": "markdown",
   "id": "a1af6efa",
   "metadata": {},
   "source": [
    "1. Название столбца mb_per_month_included некорректное, его необходимо переменовать (в названии есть конструкция \"per_month\", в аналогичных столбцах для минут и сообщений она отсутствует). Также переименуем столбец tariff таблицы users_df в tariff_name, как и в таблице tariffs_df для удобства.\n",
    "2. Имеются столбцы с неправильными типами данных, также их значения необходимо округлить в большую сторону.\n",
    "3. Кроме заявленных в описании, пропусков в данных не имеется."
   ]
  },
  {
   "cell_type": "code",
   "execution_count": 7,
   "id": "837daf51",
   "metadata": {},
   "outputs": [
    {
     "name": "stdout",
     "output_type": "stream",
     "text": [
      "1024    1\n",
      "1353    1\n",
      "1366    1\n",
      "1365    1\n",
      "1364    1\n",
      "       ..\n",
      "1185    1\n",
      "1184    1\n",
      "1183    1\n",
      "1182    1\n",
      "1023    1\n",
      "Name: user_id, Length: 500, dtype: int64\n",
      "-------------\n",
      "1377    1760\n",
      "1168    1692\n",
      "1375    1560\n",
      "1453    1440\n",
      "1196    1240\n",
      "        ... \n",
      "1397      33\n",
      "1442      28\n",
      "1373      24\n",
      "1016      20\n",
      "1257      14\n",
      "Name: user_id, Length: 492, dtype: int64\n",
      "-------------\n",
      "1277    1463\n",
      "1089    1408\n",
      "1231    1384\n",
      "1385    1380\n",
      "1356    1224\n",
      "        ... \n",
      "1111       6\n",
      "1279       5\n",
      "1074       3\n",
      "1159       2\n",
      "1141       1\n",
      "Name: user_id, Length: 426, dtype: int64\n",
      "-------------\n",
      "1496    834\n",
      "1227    812\n",
      "1204    789\n",
      "1240    764\n",
      "1251    759\n",
      "       ... \n",
      "1151     35\n",
      "1467     27\n",
      "1343     26\n",
      "1192     22\n",
      "1399      8\n",
      "Name: user_id, Length: 497, dtype: int64\n"
     ]
    }
   ],
   "source": [
    "print (users_df ['user_id'].value_counts())\n",
    "print('-------------')\n",
    "print (calls_df ['user_id'].value_counts())\n",
    "print('-------------')\n",
    "print (messages_df ['user_id'].value_counts())\n",
    "print('-------------')\n",
    "print (internet_df ['user_id'].value_counts())\n"
   ]
  },
  {
   "cell_type": "code",
   "execution_count": 8,
   "id": "b7faee5f",
   "metadata": {},
   "outputs": [
    {
     "name": "stdout",
     "output_type": "stream",
     "text": [
      "[1091, 1106, 1128, 1231, 1328, 1371, 1473, 1489]\n",
      "[1001, 1006, 1010, 1017, 1024, 1040, 1049, 1053, 1063, 1078, 1085, 1095, 1101, 1107, 1114, 1116, 1117, 1118, 1120, 1128, 1129, 1132, 1143, 1152, 1153, 1157, 1162, 1175, 1177, 1179, 1185, 1195, 1201, 1204, 1208, 1210, 1220, 1224, 1225, 1228, 1240, 1242, 1248, 1254, 1255, 1260, 1290, 1291, 1292, 1297, 1301, 1305, 1306, 1322, 1334, 1339, 1360, 1363, 1367, 1370, 1371, 1376, 1388, 1397, 1428, 1429, 1435, 1442, 1456, 1462, 1466, 1469, 1479, 1494]\n",
      "[1128, 1273, 1371]\n"
     ]
    }
   ],
   "source": [
    "not_in_cal = []\n",
    "not_in_msg = []\n",
    "not_in_int = []\n",
    "for id in users_df['user_id'].sort_values().unique():\n",
    "    if id not in calls_df['user_id'].unique():\n",
    "        not_in_cal.append(id)\n",
    "    if id not in messages_df['user_id'].unique():\n",
    "        not_in_msg.append(id)\n",
    "    if id not in internet_df['user_id'].unique():\n",
    "        not_in_int.append(id)\n",
    "print (not_in_cal)\n",
    "print (not_in_msg)\n",
    "print (not_in_int)"
   ]
  },
  {
   "cell_type": "code",
   "execution_count": 9,
   "id": "eab8ea30",
   "metadata": {},
   "outputs": [
    {
     "data": {
      "text/plain": [
       "[1128, 1371]"
      ]
     },
     "execution_count": 9,
     "metadata": {},
     "output_type": "execute_result"
    }
   ],
   "source": [
    "not_in_tables = []\n",
    "\n",
    "for id_cal in not_in_cal:\n",
    "    for id_msg in not_in_msg:\n",
    "        for id_int in not_in_int:\n",
    "            if id_cal == id_msg and id_cal  == id_int and id_msg == id_int:\n",
    "                not_in_tables.append (id_cal)\n",
    "                \n",
    "not_in_tables"
   ]
  },
  {
   "cell_type": "code",
   "execution_count": 10,
   "id": "9d846501",
   "metadata": {},
   "outputs": [
    {
     "data": {
      "image/png": "[encoded data removed]",
      "text/plain": [
       "<Figure size 432x288 with 1 Axes>"
      ]
     },
     "metadata": {
      "needs_background": "light"
     },
     "output_type": "display_data"
    }
   ],
   "source": [
    "internet_df ['mb_used'].hist(bins = 100);"
   ]
  },
  {
   "cell_type": "markdown",
   "id": "4398e766",
   "metadata": {},
   "source": [
    "## Предобработка данных ##"
   ]
  },
  {
   "cell_type": "markdown",
   "id": "2f406f4b",
   "metadata": {},
   "source": [
    "### Замена названия столбца ###"
   ]
  },
  {
   "cell_type": "markdown",
   "id": "34d3b64c",
   "metadata": {},
   "source": [
    "Заменим названия с помощью метода .rename ()."
   ]
  },
  {
   "cell_type": "code",
   "execution_count": 11,
   "id": "4e9cdc69",
   "metadata": {},
   "outputs": [
    {
     "data": {
      "text/html": [
       "<div>\n",
       "<style scoped>\n",
       "    .dataframe tbody tr th:only-of-type {\n",
       "        vertical-align: middle;\n",
       "    }\n",
       "\n",
       "    .dataframe tbody tr th {\n",
       "        vertical-align: top;\n",
       "    }\n",
       "\n",
       "    .dataframe thead th {\n",
       "        text-align: right;\n",
       "    }\n",
       "</style>\n",
       "<table border=\"1\" class=\"dataframe\">\n",
       "  <thead>\n",
       "    <tr style=\"text-align: right;\">\n",
       "      <th></th>\n",
       "      <th>messages_included</th>\n",
       "      <th>mb_included</th>\n",
       "      <th>minutes_included</th>\n",
       "      <th>rub_monthly_fee</th>\n",
       "      <th>rub_per_gb</th>\n",
       "      <th>rub_per_message</th>\n",
       "      <th>rub_per_minute</th>\n",
       "      <th>tariff_name</th>\n",
       "    </tr>\n",
       "  </thead>\n",
       "  <tbody>\n",
       "    <tr>\n",
       "      <th>0</th>\n",
       "      <td>50</td>\n",
       "      <td>15360</td>\n",
       "      <td>500</td>\n",
       "      <td>550</td>\n",
       "      <td>200</td>\n",
       "      <td>3</td>\n",
       "      <td>3</td>\n",
       "      <td>smart</td>\n",
       "    </tr>\n",
       "    <tr>\n",
       "      <th>1</th>\n",
       "      <td>1000</td>\n",
       "      <td>30720</td>\n",
       "      <td>3000</td>\n",
       "      <td>1950</td>\n",
       "      <td>150</td>\n",
       "      <td>1</td>\n",
       "      <td>1</td>\n",
       "      <td>ultra</td>\n",
       "    </tr>\n",
       "  </tbody>\n",
       "</table>\n",
       "</div>"
      ],
      "text/plain": [
       "   messages_included  mb_included  minutes_included  rub_monthly_fee  \\\n",
       "0                 50        15360               500              550   \n",
       "1               1000        30720              3000             1950   \n",
       "\n",
       "   rub_per_gb  rub_per_message  rub_per_minute tariff_name  \n",
       "0         200                3               3       smart  \n",
       "1         150                1               1       ultra  "
      ]
     },
     "metadata": {},
     "output_type": "display_data"
    },
    {
     "data": {
      "text/html": [
       "<div>\n",
       "<style scoped>\n",
       "    .dataframe tbody tr th:only-of-type {\n",
       "        vertical-align: middle;\n",
       "    }\n",
       "\n",
       "    .dataframe tbody tr th {\n",
       "        vertical-align: top;\n",
       "    }\n",
       "\n",
       "    .dataframe thead th {\n",
       "        text-align: right;\n",
       "    }\n",
       "</style>\n",
       "<table border=\"1\" class=\"dataframe\">\n",
       "  <thead>\n",
       "    <tr style=\"text-align: right;\">\n",
       "      <th></th>\n",
       "      <th>user_id</th>\n",
       "      <th>age</th>\n",
       "      <th>churn_date</th>\n",
       "      <th>city</th>\n",
       "      <th>first_name</th>\n",
       "      <th>last_name</th>\n",
       "      <th>reg_date</th>\n",
       "      <th>tariff_name</th>\n",
       "    </tr>\n",
       "  </thead>\n",
       "  <tbody>\n",
       "    <tr>\n",
       "      <th>0</th>\n",
       "      <td>1000</td>\n",
       "      <td>52</td>\n",
       "      <td>NaN</td>\n",
       "      <td>Краснодар</td>\n",
       "      <td>Рафаил</td>\n",
       "      <td>Верещагин</td>\n",
       "      <td>2018-05-25</td>\n",
       "      <td>ultra</td>\n",
       "    </tr>\n",
       "    <tr>\n",
       "      <th>1</th>\n",
       "      <td>1001</td>\n",
       "      <td>41</td>\n",
       "      <td>NaN</td>\n",
       "      <td>Москва</td>\n",
       "      <td>Иван</td>\n",
       "      <td>Ежов</td>\n",
       "      <td>2018-11-01</td>\n",
       "      <td>smart</td>\n",
       "    </tr>\n",
       "    <tr>\n",
       "      <th>2</th>\n",
       "      <td>1002</td>\n",
       "      <td>59</td>\n",
       "      <td>NaN</td>\n",
       "      <td>Стерлитамак</td>\n",
       "      <td>Евгений</td>\n",
       "      <td>Абрамович</td>\n",
       "      <td>2018-06-17</td>\n",
       "      <td>smart</td>\n",
       "    </tr>\n",
       "    <tr>\n",
       "      <th>3</th>\n",
       "      <td>1003</td>\n",
       "      <td>23</td>\n",
       "      <td>NaN</td>\n",
       "      <td>Москва</td>\n",
       "      <td>Белла</td>\n",
       "      <td>Белякова</td>\n",
       "      <td>2018-08-17</td>\n",
       "      <td>ultra</td>\n",
       "    </tr>\n",
       "    <tr>\n",
       "      <th>4</th>\n",
       "      <td>1004</td>\n",
       "      <td>68</td>\n",
       "      <td>NaN</td>\n",
       "      <td>Новокузнецк</td>\n",
       "      <td>Татьяна</td>\n",
       "      <td>Авдеенко</td>\n",
       "      <td>2018-05-14</td>\n",
       "      <td>ultra</td>\n",
       "    </tr>\n",
       "  </tbody>\n",
       "</table>\n",
       "</div>"
      ],
      "text/plain": [
       "   user_id  age churn_date         city first_name  last_name    reg_date  \\\n",
       "0     1000   52        NaN    Краснодар     Рафаил  Верещагин  2018-05-25   \n",
       "1     1001   41        NaN       Москва       Иван       Ежов  2018-11-01   \n",
       "2     1002   59        NaN  Стерлитамак    Евгений  Абрамович  2018-06-17   \n",
       "3     1003   23        NaN       Москва      Белла   Белякова  2018-08-17   \n",
       "4     1004   68        NaN  Новокузнецк    Татьяна   Авдеенко  2018-05-14   \n",
       "\n",
       "  tariff_name  \n",
       "0       ultra  \n",
       "1       smart  \n",
       "2       smart  \n",
       "3       ultra  \n",
       "4       ultra  "
      ]
     },
     "metadata": {},
     "output_type": "display_data"
    }
   ],
   "source": [
    "tariffs_df.rename(columns={'mb_per_month_included': 'mb_included'}, inplace=True)\n",
    "users_df.rename(columns={'tariff': 'tariff_name'}, inplace=True)\n",
    "\n",
    "display (tariffs_df.head())\n",
    "display (users_df.head())"
   ]
  },
  {
   "cell_type": "markdown",
   "id": "c091eed6",
   "metadata": {},
   "source": [
    "### Замена типов данных ###"
   ]
  },
  {
   "cell_type": "markdown",
   "id": "1b198b27",
   "metadata": {},
   "source": [
    "Приведем некорректные типы данных к правильным с помощью функции pd.to_datetime ()"
   ]
  },
  {
   "cell_type": "code",
   "execution_count": 12,
   "id": "576cbcca",
   "metadata": {},
   "outputs": [],
   "source": [
    "users_df['churn_date'] = pd.to_datetime (users_df['churn_date'], format=\"%Y-%m-%d\")\n",
    "users_df['reg_date'] = pd.to_datetime (users_df['reg_date'], format=\"%Y-%m-%d\")\n",
    "internet_df['session_date'] = pd.to_datetime (internet_df['session_date'], format=\"%Y-%m-%d\")\n",
    "calls_df['call_date'] = pd.to_datetime (calls_df['call_date'], format=\"%Y-%m-%d\")\n",
    "messages_df['message_date'] = pd.to_datetime (messages_df['message_date'], format=\"%Y-%m-%d\")"
   ]
  },
  {
   "cell_type": "markdown",
   "id": "c0dd0e31",
   "metadata": {},
   "source": [
    "Теперь нам необходимо привести к целочисленному типу те столбцы, в которых необходимо округление в большую сторону.\n",
    "Если мы при подсчете затраченных услуг, округляем Мб до Гб, и расценки указаны в Гб, удобнее будет вести подсчеты сразу в Гб."
   ]
  },
  {
   "cell_type": "code",
   "execution_count": 13,
   "id": "5bc8bfd0",
   "metadata": {},
   "outputs": [],
   "source": [
    "calls_df['duration'] = np.ceil(calls_df['duration'])"
   ]
  },
  {
   "cell_type": "code",
   "execution_count": 14,
   "id": "f571ca04",
   "metadata": {},
   "outputs": [],
   "source": [
    "internet_df['mb_used'] /= 1024"
   ]
  },
  {
   "cell_type": "code",
   "execution_count": 15,
   "id": "79591ec9",
   "metadata": {},
   "outputs": [],
   "source": [
    "internet_df.rename(columns={'mb_used': 'gb_used'}, inplace=True)"
   ]
  },
  {
   "cell_type": "code",
   "execution_count": 16,
   "id": "5ecd220c",
   "metadata": {},
   "outputs": [],
   "source": [
    "tariffs_df['mb_included'] /= 1024"
   ]
  },
  {
   "cell_type": "code",
   "execution_count": 17,
   "id": "dc315efd",
   "metadata": {},
   "outputs": [],
   "source": [
    "tariffs_df.rename(columns={'mb_included': 'gb_included'}, inplace=True)"
   ]
  },
  {
   "cell_type": "markdown",
   "id": "e1b29b12",
   "metadata": {},
   "source": [
    "### Проверка на дубликаты и аномалии в данных ###"
   ]
  },
  {
   "cell_type": "markdown",
   "id": "f05db501",
   "metadata": {},
   "source": [
    "Проверим данные на дубликаты с помощью метода .duplicated()."
   ]
  },
  {
   "cell_type": "code",
   "execution_count": 18,
   "id": "80e45ccf",
   "metadata": {},
   "outputs": [
    {
     "name": "stdout",
     "output_type": "stream",
     "text": [
      "Empty DataFrame\n",
      "Columns: [id, call_date, duration, user_id]\n",
      "Index: []\n",
      "Empty DataFrame\n",
      "Columns: [id, gb_used, session_date, user_id]\n",
      "Index: []\n",
      "Empty DataFrame\n",
      "Columns: [user_id, age, churn_date, city, first_name, last_name, reg_date, tariff_name]\n",
      "Index: []\n",
      "Empty DataFrame\n",
      "Columns: [id, message_date, user_id]\n",
      "Index: []\n"
     ]
    }
   ],
   "source": [
    "print (calls_df[calls_df.duplicated() == True])\n",
    "print (internet_df[internet_df.duplicated() == True])\n",
    "print (users_df[users_df.duplicated() == True])\n",
    "print (messages_df[messages_df.duplicated() == True])"
   ]
  },
  {
   "cell_type": "markdown",
   "id": "82b52714",
   "metadata": {},
   "source": [
    "Одну аномалию мы уже нашли - безымянный столбец в таблице internet_df. Вывидем списки и уникальные значения столбцов, чтобы проверить их на наличие аномальных значений."
   ]
  },
  {
   "cell_type": "code",
   "execution_count": 19,
   "id": "2dd24884",
   "metadata": {},
   "outputs": [
    {
     "name": "stdout",
     "output_type": "stream",
     "text": [
      "user_id\n",
      "[1000 1001 1002 1003 1004 1005 1006 1007 1008 1009 1010 1011 1012 1013\n",
      " 1014 1015 1016 1017 1018 1019 1020 1021 1022 1023 1024 1025 1026 1027\n",
      " 1028 1029 1030 1031 1032 1033 1034 1035 1036 1037 1038 1039 1040 1041\n",
      " 1042 1043 1044 1045 1046 1047 1048 1049 1050 1051 1052 1053 1054 1055\n",
      " 1056 1057 1058 1059 1060 1061 1062 1063 1064 1065 1066 1067 1068 1069\n",
      " 1070 1071 1072 1073 1074 1075 1076 1077 1078 1079 1080 1081 1082 1083\n",
      " 1084 1085 1086 1087 1088 1089 1090 1091 1092 1093 1094 1095 1096 1097\n",
      " 1098 1099 1100 1101 1102 1103 1104 1105 1106 1107 1108 1109 1110 1111\n",
      " 1112 1113 1114 1115 1116 1117 1118 1119 1120 1121 1122 1123 1124 1125\n",
      " 1126 1127 1128 1129 1130 1131 1132 1133 1134 1135 1136 1137 1138 1139\n",
      " 1140 1141 1142 1143 1144 1145 1146 1147 1148 1149 1150 1151 1152 1153\n",
      " 1154 1155 1156 1157 1158 1159 1160 1161 1162 1163 1164 1165 1166 1167\n",
      " 1168 1169 1170 1171 1172 1173 1174 1175 1176 1177 1178 1179 1180 1181\n",
      " 1182 1183 1184 1185 1186 1187 1188 1189 1190 1191 1192 1193 1194 1195\n",
      " 1196 1197 1198 1199 1200 1201 1202 1203 1204 1205 1206 1207 1208 1209\n",
      " 1210 1211 1212 1213 1214 1215 1216 1217 1218 1219 1220 1221 1222 1223\n",
      " 1224 1225 1226 1227 1228 1229 1230 1231 1232 1233 1234 1235 1236 1237\n",
      " 1238 1239 1240 1241 1242 1243 1244 1245 1246 1247 1248 1249 1250 1251\n",
      " 1252 1253 1254 1255 1256 1257 1258 1259 1260 1261 1262 1263 1264 1265\n",
      " 1266 1267 1268 1269 1270 1271 1272 1273 1274 1275 1276 1277 1278 1279\n",
      " 1280 1281 1282 1283 1284 1285 1286 1287 1288 1289 1290 1291 1292 1293\n",
      " 1294 1295 1296 1297 1298 1299 1300 1301 1302 1303 1304 1305 1306 1307\n",
      " 1308 1309 1310 1311 1312 1313 1314 1315 1316 1317 1318 1319 1320 1321\n",
      " 1322 1323 1324 1325 1326 1327 1328 1329 1330 1331 1332 1333 1334 1335\n",
      " 1336 1337 1338 1339 1340 1341 1342 1343 1344 1345 1346 1347 1348 1349\n",
      " 1350 1351 1352 1353 1354 1355 1356 1357 1358 1359 1360 1361 1362 1363\n",
      " 1364 1365 1366 1367 1368 1369 1370 1371 1372 1373 1374 1375 1376 1377\n",
      " 1378 1379 1380 1381 1382 1383 1384 1385 1386 1387 1388 1389 1390 1391\n",
      " 1392 1393 1394 1395 1396 1397 1398 1399 1400 1401 1402 1403 1404 1405\n",
      " 1406 1407 1408 1409 1410 1411 1412 1413 1414 1415 1416 1417 1418 1419\n",
      " 1420 1421 1422 1423 1424 1425 1426 1427 1428 1429 1430 1431 1432 1433\n",
      " 1434 1435 1436 1437 1438 1439 1440 1441 1442 1443 1444 1445 1446 1447\n",
      " 1448 1449 1450 1451 1452 1453 1454 1455 1456 1457 1458 1459 1460 1461\n",
      " 1462 1463 1464 1465 1466 1467 1468 1469 1470 1471 1472 1473 1474 1475\n",
      " 1476 1477 1478 1479 1480 1481 1482 1483 1484 1485 1486 1487 1488 1489\n",
      " 1490 1491 1492 1493 1494 1495 1496 1497 1498 1499]\n",
      "--------------------------\n",
      "age\n",
      "[52 41 59 23 68 67 21 65 63 24 26 44 38 36 64 58 73 71 61 72 42 56 32 62\n",
      " 20 51 28 66 31 37 47 40 69 48 33 39 43 46 45 55 53 34 49 25 18 70 50 19\n",
      " 54 60 29 27 74 22 30 75 57 35]\n",
      "--------------------------\n",
      "churn_date\n",
      "[                          'NaT' '2018-10-05T00:00:00.000000000'\n",
      " '2018-12-18T00:00:00.000000000' '2018-11-21T00:00:00.000000000'\n",
      " '2018-10-03T00:00:00.000000000' '2018-10-14T00:00:00.000000000'\n",
      " '2018-12-09T00:00:00.000000000' '2018-12-11T00:00:00.000000000'\n",
      " '2018-12-26T00:00:00.000000000' '2018-08-31T00:00:00.000000000'\n",
      " '2018-12-03T00:00:00.000000000' '2018-12-23T00:00:00.000000000'\n",
      " '2018-11-07T00:00:00.000000000' '2018-12-16T00:00:00.000000000'\n",
      " '2018-12-20T00:00:00.000000000' '2018-11-30T00:00:00.000000000'\n",
      " '2018-12-21T00:00:00.000000000' '2018-08-17T00:00:00.000000000'\n",
      " '2018-09-02T00:00:00.000000000' '2018-10-04T00:00:00.000000000'\n",
      " '2018-11-13T00:00:00.000000000' '2018-11-22T00:00:00.000000000'\n",
      " '2018-10-28T00:00:00.000000000' '2018-11-26T00:00:00.000000000'\n",
      " '2018-11-27T00:00:00.000000000' '2018-11-16T00:00:00.000000000'\n",
      " '2018-10-27T00:00:00.000000000' '2018-12-30T00:00:00.000000000'\n",
      " '2018-09-27T00:00:00.000000000' '2018-12-25T00:00:00.000000000'\n",
      " '2018-12-14T00:00:00.000000000' '2018-12-24T00:00:00.000000000'\n",
      " '2018-09-26T00:00:00.000000000' '2018-10-25T00:00:00.000000000']\n",
      "--------------------------\n",
      "city\n",
      "['Краснодар' 'Москва' 'Стерлитамак' 'Новокузнецк' 'Набережные Челны'\n",
      " 'Ульяновск' 'Челябинск' 'Пермь' 'Тюмень' 'Самара' 'Санкт-Петербург'\n",
      " 'Иваново' 'Чебоксары' 'Омск' 'Уфа' 'Томск' 'Чита' 'Мурманск'\n",
      " 'Петрозаводск' 'Тверь' 'Екатеринбург' 'Махачкала' 'Вологда' 'Череповец'\n",
      " 'Ярославль' 'Сочи' 'Хабаровск' 'Ставрополь' 'Рязань' 'Улан-Удэ' 'Тула'\n",
      " 'Саратов' 'Ростов-на-Дону' 'Казань' 'Иркутск' 'Курск' 'Калуга' 'Якутск'\n",
      " 'Астрахань' 'Химки' 'Владикавказ' 'Волгоград' 'Саранск' 'Ижевск'\n",
      " 'Новосибирск' 'Брянск' 'Тольятти' 'Нижний Тагил' 'Орёл' 'Белгород'\n",
      " 'Воронеж' 'Волжский' 'Курган' 'Барнаул' 'Красноярск' 'Архангельск'\n",
      " 'Липецк' 'Кемерово' 'Киров' 'Сургут' 'Пенза' 'Магнитогорск'\n",
      " 'Нижний Новгород' 'Кострома' 'Владивосток' 'Тамбов' 'Балашиха'\n",
      " 'Севастополь' 'Калининград' 'Оренбург' 'Смоленск' 'Нижневартовск'\n",
      " 'Владимир' 'Новороссийск' 'Грозный' 'Подольск']\n",
      "--------------------------\n",
      "first_name\n",
      "['Рафаил' 'Иван' 'Евгений' 'Белла' 'Татьяна' 'Афанасий' 'Леонид' 'Юна'\n",
      " 'Рустэм' 'Василиса' 'Эдуард' 'Веселина' 'Варлам' 'Борис' 'Яков' 'Рузана'\n",
      " 'Марица' 'Мария' 'Матвей' 'Игнатий' 'Тала' 'Святослав' 'Людмила' 'Иулиан'\n",
      " 'Владислав' 'Рустем' 'Алексей' 'Мариетта' 'Лаврентий' 'Инна' 'Лия'\n",
      " 'Розалия' 'Анжелика' 'Изольда' 'Агнесса' 'Юрий' 'Михаил' 'Константин'\n",
      " 'Марианна' 'Иннокентий' 'Джемма' 'Екатерина' 'Милица' 'Лола' 'Габриель'\n",
      " 'Кристина' 'Павел' 'Ренальд' 'Луиза' 'Радислав' 'Динара' 'Лукий' 'Глеб'\n",
      " 'Тамара' 'Александр' 'Таира' 'Роза' 'Исак' 'Юзефа' 'Ким' 'Гордей' 'Эльза'\n",
      " 'Гектор' 'Андрей' 'Рафаэль' 'Фёдор' 'Харитон' 'Еремей' 'Всеволод' 'Софья'\n",
      " 'Авксентий' 'Виолетта' 'Ириней' 'Гелена' 'Ксения' 'Вера' 'Вениамин'\n",
      " 'Вероника' 'Даниэла' 'Алла' 'Элеонора' 'Аюна' 'Руслан' 'Онисим' 'Марта'\n",
      " 'Эльвира' 'Габриэль' 'Исаак' 'Милана' 'Арнольд' 'Маргарита' 'Рашид'\n",
      " 'Альберта' 'Дана' 'Олег' 'Альбин' 'Сабина' 'Яна' 'Анвар' 'Инара' 'Нина'\n",
      " 'Надежда' 'Марьяна' 'Милена' 'Пётр' 'Леся' 'Светлана' 'Клариса' 'Симона'\n",
      " 'Арсен' 'Ефим' 'Юлий' 'Владимир' 'Евдокия' 'Алиса' 'Майя' 'Лариса'\n",
      " 'Марина' 'Валерий' 'Виктория' 'Игорь' 'Эльга' 'Лев' 'Геральд' 'Клавдия'\n",
      " 'Лилия' 'Георгина' 'Вадим' 'Каролина' 'Алан' 'Агафья' 'Лолита' 'Радим'\n",
      " 'Наталья' 'Рем' 'Снежана' 'Мануэла' 'Рэм' 'Виталий' 'Рауль' 'Степан'\n",
      " 'Егор' 'Демьян' 'Агата' 'Геннадий' 'Адам' 'Мирослава' 'Елена' 'Ева'\n",
      " 'Евфросинья' 'Арина' 'Гайдар' 'Артемий' 'Рустам' 'Ермолай' 'Кузьма'\n",
      " 'Рубен' 'Ахмет' 'Раиса' 'Денис' 'Нелли' 'Касьян' 'Сара' 'Роксана' 'Леон'\n",
      " 'Алина' 'Даниил' 'Зинаида' 'Артём' 'Анатолий' 'Лейла' 'Александра'\n",
      " 'Серафима' 'Алевтина' 'Эмилия' 'Мадина' 'Антонина' 'Саида' 'Трофим'\n",
      " 'Аким' 'Мальвина' 'Аурелия' 'Мстислав' 'Аксён' 'Семён' 'Валерия'\n",
      " 'Григорий' 'Таисия' 'Арсений' 'Эдита' 'Дебора' 'Олеся' 'Альфред' 'Тихон'\n",
      " 'Наида' 'Илья' 'Инесса' 'Юлия' 'Рудольф' 'Максим' 'Инга' 'Эсмеральда'\n",
      " 'Дайна' 'Джозефина' 'Тимофей' 'Виктор' 'Валентина' 'Анита' 'Илзе'\n",
      " 'Галина' 'Варвара' 'Анфиса' 'Доминика' 'Лаура' 'Рената' 'Оксана'\n",
      " 'Георгий' 'Лидия' 'Евгения' 'Фаддей' 'Герасим' 'Радомир' 'Ренат'\n",
      " 'Владислава' 'Роберт' 'Элина' 'Станислав' 'Элла' 'Гарри' 'Берта' 'Геодар'\n",
      " 'Эльмира' 'Клара' 'Камилла' 'Джулия' 'Карина' 'Нателла' 'Леонтий'\n",
      " 'Ростислав' 'Ангелина' 'Алёна' 'Ринат' 'Эллада' 'Николай' 'Руслана'\n",
      " 'Трифон']\n",
      "--------------------------\n",
      "last_name\n",
      "['Верещагин' 'Ежов' 'Абрамович' 'Белякова' 'Авдеенко' 'Горлов' 'Ермолаев'\n",
      " 'Березина' 'Пономарёв' 'Блинова' 'Кононов' 'Алёшко' 'Соловьев'\n",
      " 'Андреенко' 'Акинфьев' 'Алюшина' 'Сазонова' 'Аленникова' 'Золотов'\n",
      " 'Круглов' 'Костина' 'Тихонов' 'Трофимова' 'Мельникова' 'Антипов' 'Акинин'\n",
      " 'Бородин' 'Авдеев' 'Евсеев' 'Селезнев' 'Русанова' 'Тимофеев' 'Игнатьева'\n",
      " 'Бабушкина' 'Бондарев' 'Аракина' 'Андропова' 'Архипова' 'Денисова'\n",
      " 'Одинцов' 'Кравцов' 'Добрынин' 'Родионова' 'Рябов' 'Карасева'\n",
      " 'Александрова' 'Меркулова' 'Мясникова' 'Ларин' 'Аничкина' 'Сомова'\n",
      " 'Панов' 'Фёдоров' 'Платонова' 'Артемьев' 'Дьячкова' 'Глушков' 'Свиридов'\n",
      " 'Рудаков' 'Ситникова' 'Коршунов' 'Климова' 'Алфеева' 'Игнатова' 'Малахов'\n",
      " 'Абашкина' 'Демьянов' 'Кочетов' 'Селиванова' 'Чумаков' 'Андрейкин'\n",
      " 'Павловский' 'Никулин' 'Шарапов' 'Кольцова' 'Литвинов' 'Авроров'\n",
      " 'Игнатьев' 'Терехова' 'Малышев' 'Галкин' 'Спиридонова' 'Дорофеева'\n",
      " 'Аксёнов' 'Абалакова' 'Нечаева' 'Астафьева' 'Суслова' 'Амельченко'\n",
      " 'Лапина' 'Пугачева' 'Кабанова' 'Кулешова' 'Озерова' 'Сергеева'\n",
      " 'Красильников' 'Колобов' 'Королькова' 'Лобанова' 'Поляков' 'Рыбакова'\n",
      " 'Костин' 'Воронин' 'Болдырев' 'Андрющенко' 'Александрович' 'Макарова'\n",
      " 'Казанцев' 'Булгаков' 'Колесова' 'Толкачев' 'Шевцова' 'Латышева'\n",
      " 'Сухарев' 'Абдулина' 'Афанасова' 'Устинов' 'Андрианов' 'Арсенкова'\n",
      " 'Ильина' 'Агаева' 'Морозов' 'Крюкова' 'Афонасьева' 'Алехина' 'Аникина'\n",
      " 'Авросимова' 'Воронина' 'Левин' 'Артёшин' 'Ерофеева' 'Корнеева'\n",
      " 'Ахматулин' 'Короткова' 'Алешкова' 'Покровский' 'Ефремов' 'Алешин'\n",
      " 'Никонов' 'Синицын' 'Киреева' 'Алексеенко' 'Муравьева' 'Молчанова'\n",
      " 'Щербакова' 'Одинцова' 'Тихомирова' 'Чернов' 'Белоусова' 'Андрейчук'\n",
      " 'Авдонюшкин' 'Голованова' 'Минаева' 'Вишневский' 'Лебедев' 'Медведев'\n",
      " 'Жданов' 'Ананьева' 'Карташова' 'Козлов' 'Иванова' 'Карасев' 'Григорьева'\n",
      " 'Розанова' 'Марков' 'Куприянов' 'Жарова' 'Астапенко' 'Мишин' 'Аврорин'\n",
      " 'Агаев' 'Тарасова' 'Родина' 'Абакумов' 'Овчинников' 'Соколов' 'Зубкова'\n",
      " 'Абоимов' 'Акиндинов' 'Мальцев' 'Безруков' 'Наумов' 'Петухова' 'Чернышев'\n",
      " 'Черняев' 'Швецов' 'Демьянова' 'Ларионова' 'Веселов' 'Адаменко'\n",
      " 'Григорьев' 'Лазарева' 'Семина' 'Шарапова' 'Зеленина' 'Сахарова'\n",
      " 'Сорокин' 'Серебрякова' 'Азимова' 'Пономарев' 'Муравьёв' 'Алиев'\n",
      " 'Малинин' 'Сазонов' 'Мамонтова' 'Некрасов' 'Астапов' 'Сафонова'\n",
      " 'Панфилов' 'Тарасов' 'Горбачева' 'Бобылёв' 'Калинина' 'Алфимов'\n",
      " 'Капустин' 'Авдюков' 'Ларина' 'Алфимова' 'Алексеева' 'Басова' 'Демидов'\n",
      " 'Кошелева' 'Ёрохов' 'Шарова' 'Федосеев' 'Леонтьев' 'Макеев' 'Коновалова'\n",
      " 'Минаев' 'Авдушева' 'Ракова' 'Тетерина' 'Масленникова' 'Сухарева'\n",
      " 'Пономарева' 'Панфилова' 'Беляев' 'Третьякова' 'Горбунов' 'Пантелеева'\n",
      " 'Зайцев' 'Жукова' 'Адамов' 'Антропова' 'Седова' 'Трошин' 'Ахмадулин'\n",
      " 'Вешнякова' 'Чижова' 'Корнилов' 'Еремин' 'Елизаров' 'Крюков' 'Троицкий'\n",
      " 'Худяков' 'Зимина' 'Аракчеев' 'Крючков' 'Давыдов' 'Богданова' 'Анищенко'\n",
      " 'Дубинина' 'Асафьева' 'Черный' 'Абрамцев' 'Чеснокова' 'Симонова'\n",
      " 'Азерников' 'Авраменко' 'Абаимов' 'Абакшина' 'Соловьёв' 'Лаптева' 'Попов'\n",
      " 'Авсейкина' 'Корнилова' 'Касьянова' 'Нестеров' 'Крылова' 'Поликарпова'\n",
      " 'Суслов' 'Амелишко' 'Агапеева' 'Алымова' 'Зыков' 'Парфенов' 'Киселёв'\n",
      " 'Софронов' 'Сальников' 'Носкова' 'Барсуков' 'Севастьянова' 'Аркадьев'\n",
      " 'Золотова' 'Малинина' 'Антонова' 'Алексеичев' 'Орлов' 'Алютин' 'Кузнецов'\n",
      " 'Казакова' 'Верещагина' 'Ёркина' 'Антропов' 'Фокина' 'Громова' 'Курочкин'\n",
      " 'Козырева' 'Румянцева' 'Кулагина' 'Абрикосова' 'Гончаров' 'Ермилов'\n",
      " 'Логинов' 'Абашкин' 'Болдырева' 'Вишняков' 'Фетисова' 'Антоненко'\n",
      " 'Гришина' 'Сысоев' 'Трофимов' 'Авраамова' 'Афанасенко' 'Акимычева'\n",
      " 'Акимов' 'Семин' 'Бычкова' 'Кочергина' 'Нестерова' 'Родионов' 'Зуев'\n",
      " 'Беляева' 'Беликова' 'Зубков' 'Кондратов' 'Савельева' 'Чистякова'\n",
      " 'Ахмедов' 'Абрашина' 'Артёмов' 'Васильева' 'Измайлова' 'Амелин' 'Уваров'\n",
      " 'Белова' 'Семёнов' 'Пирогова' 'Кукушкин' 'Ильин' 'Прокофьева' 'Афонин'\n",
      " 'Фролов' 'Лукин' 'Ёлчина' 'Макаров' 'Ахматов' 'Яшина' 'Корольков'\n",
      " 'Устинова' 'Силин' 'Ёрохова' 'Фомин' 'Азаров' 'Добрынина' 'Тимофеева'\n",
      " 'Кочетков' 'Алёшкова' 'Субботина' 'Ерофеев' 'Селезнева' 'Бородина'\n",
      " 'Афонина' 'Матвеев' 'Белозёров' 'Ковалева' 'Афинин' 'Иванов' 'Артемчук'\n",
      " 'Алешина' 'Дроздов' 'Новикова' 'Козлова' 'Завьялова' 'Абалдуева'\n",
      " 'Акуленко' 'Авринский' 'Авчинникова' 'Абрамычева' 'Авросинова' 'Ёркин'\n",
      " 'Шевцов' 'Александрюк' 'Авдышев' 'Абалкин' 'Лосева' 'Гаврилова' 'Боброва'\n",
      " 'Любимов' 'Фадеева' 'Семенова' 'Серов' 'Константинова' 'Богданов'\n",
      " 'Емельянова' 'Блохина' 'Борисова' 'Сухова' 'Моргунов' 'Кириллов'\n",
      " 'Филатов' 'Алесин' 'Артёменко' 'Ахматулина' 'Андропов' 'Фокин' 'Блохин'\n",
      " 'Агеева' 'Акимчин']\n",
      "--------------------------\n",
      "reg_date\n",
      "['2018-05-25T00:00:00.000000000' '2018-11-01T00:00:00.000000000'\n",
      " '2018-06-17T00:00:00.000000000' '2018-08-17T00:00:00.000000000'\n",
      " '2018-05-14T00:00:00.000000000' '2018-01-25T00:00:00.000000000'\n",
      " '2018-02-26T00:00:00.000000000' '2018-04-19T00:00:00.000000000'\n",
      " '2018-12-19T00:00:00.000000000' '2018-03-22T00:00:00.000000000'\n",
      " '2018-08-05T00:00:00.000000000' '2018-03-19T00:00:00.000000000'\n",
      " '2018-03-28T00:00:00.000000000' '2018-11-14T00:00:00.000000000'\n",
      " '2018-05-15T00:00:00.000000000' '2018-04-30T00:00:00.000000000'\n",
      " '2018-11-21T00:00:00.000000000' '2018-05-22T00:00:00.000000000'\n",
      " '2018-04-01T00:00:00.000000000' '2018-05-16T00:00:00.000000000'\n",
      " '2018-10-22T00:00:00.000000000' '2018-04-26T00:00:00.000000000'\n",
      " '2018-12-01T00:00:00.000000000' '2018-10-31T00:00:00.000000000'\n",
      " '2018-03-15T00:00:00.000000000' '2018-10-06T00:00:00.000000000'\n",
      " '2018-04-10T00:00:00.000000000' '2018-10-02T00:00:00.000000000'\n",
      " '2018-09-15T00:00:00.000000000' '2018-05-23T00:00:00.000000000'\n",
      " '2018-11-02T00:00:00.000000000' '2018-01-04T00:00:00.000000000'\n",
      " '2018-07-15T00:00:00.000000000' '2018-08-26T00:00:00.000000000'\n",
      " '2018-04-03T00:00:00.000000000' '2018-07-14T00:00:00.000000000'\n",
      " '2018-10-13T00:00:00.000000000' '2018-10-07T00:00:00.000000000'\n",
      " '2018-06-21T00:00:00.000000000' '2018-06-08T00:00:00.000000000'\n",
      " '2018-11-29T00:00:00.000000000' '2018-11-25T00:00:00.000000000'\n",
      " '2018-07-08T00:00:00.000000000' '2018-05-09T00:00:00.000000000'\n",
      " '2018-01-30T00:00:00.000000000' '2018-08-20T00:00:00.000000000'\n",
      " '2018-10-29T00:00:00.000000000' '2018-08-19T00:00:00.000000000'\n",
      " '2018-03-10T00:00:00.000000000' '2018-06-16T00:00:00.000000000'\n",
      " '2018-05-28T00:00:00.000000000' '2018-07-27T00:00:00.000000000'\n",
      " '2018-09-30T00:00:00.000000000' '2018-03-20T00:00:00.000000000'\n",
      " '2018-01-02T00:00:00.000000000' '2018-04-13T00:00:00.000000000'\n",
      " '2018-03-12T00:00:00.000000000' '2018-04-14T00:00:00.000000000'\n",
      " '2018-11-24T00:00:00.000000000' '2018-11-16T00:00:00.000000000'\n",
      " '2018-04-12T00:00:00.000000000' '2018-03-17T00:00:00.000000000'\n",
      " '2018-03-08T00:00:00.000000000' '2018-06-24T00:00:00.000000000'\n",
      " '2018-04-09T00:00:00.000000000' '2018-07-16T00:00:00.000000000'\n",
      " '2018-12-10T00:00:00.000000000' '2018-08-07T00:00:00.000000000'\n",
      " '2018-01-09T00:00:00.000000000' '2018-02-20T00:00:00.000000000'\n",
      " '2018-10-04T00:00:00.000000000' '2018-12-30T00:00:00.000000000'\n",
      " '2018-10-23T00:00:00.000000000' '2018-06-19T00:00:00.000000000'\n",
      " '2018-08-12T00:00:00.000000000' '2018-03-25T00:00:00.000000000'\n",
      " '2018-10-05T00:00:00.000000000' '2018-04-24T00:00:00.000000000'\n",
      " '2018-12-13T00:00:00.000000000' '2018-06-12T00:00:00.000000000'\n",
      " '2018-10-03T00:00:00.000000000' '2018-06-04T00:00:00.000000000'\n",
      " '2018-02-24T00:00:00.000000000' '2018-10-11T00:00:00.000000000'\n",
      " '2018-05-08T00:00:00.000000000' '2018-06-29T00:00:00.000000000'\n",
      " '2018-12-23T00:00:00.000000000' '2018-06-25T00:00:00.000000000'\n",
      " '2018-06-23T00:00:00.000000000' '2018-03-16T00:00:00.000000000'\n",
      " '2018-07-02T00:00:00.000000000' '2018-05-21T00:00:00.000000000'\n",
      " '2018-12-04T00:00:00.000000000' '2018-02-21T00:00:00.000000000'\n",
      " '2018-09-29T00:00:00.000000000' '2018-07-20T00:00:00.000000000'\n",
      " '2018-02-23T00:00:00.000000000' '2018-05-06T00:00:00.000000000'\n",
      " '2018-09-04T00:00:00.000000000' '2018-01-24T00:00:00.000000000'\n",
      " '2018-07-26T00:00:00.000000000' '2018-07-28T00:00:00.000000000'\n",
      " '2018-04-17T00:00:00.000000000' '2018-03-06T00:00:00.000000000'\n",
      " '2018-04-22T00:00:00.000000000' '2018-05-04T00:00:00.000000000'\n",
      " '2018-11-07T00:00:00.000000000' '2018-03-18T00:00:00.000000000'\n",
      " '2018-09-24T00:00:00.000000000' '2018-09-01T00:00:00.000000000'\n",
      " '2018-01-19T00:00:00.000000000' '2018-04-11T00:00:00.000000000'\n",
      " '2018-12-15T00:00:00.000000000' '2018-12-17T00:00:00.000000000'\n",
      " '2018-12-08T00:00:00.000000000' '2018-10-19T00:00:00.000000000'\n",
      " '2018-01-16T00:00:00.000000000' '2018-01-29T00:00:00.000000000'\n",
      " '2018-11-19T00:00:00.000000000' '2018-12-02T00:00:00.000000000'\n",
      " '2018-07-13T00:00:00.000000000' '2018-11-09T00:00:00.000000000'\n",
      " '2018-12-31T00:00:00.000000000' '2018-03-24T00:00:00.000000000'\n",
      " '2018-04-27T00:00:00.000000000' '2018-04-29T00:00:00.000000000'\n",
      " '2018-07-09T00:00:00.000000000' '2018-05-19T00:00:00.000000000'\n",
      " '2018-02-05T00:00:00.000000000' '2018-10-18T00:00:00.000000000'\n",
      " '2018-06-02T00:00:00.000000000' '2018-11-12T00:00:00.000000000'\n",
      " '2018-02-03T00:00:00.000000000' '2018-11-28T00:00:00.000000000'\n",
      " '2018-07-03T00:00:00.000000000' '2018-10-09T00:00:00.000000000'\n",
      " '2018-11-03T00:00:00.000000000' '2018-10-14T00:00:00.000000000'\n",
      " '2018-12-20T00:00:00.000000000' '2018-05-05T00:00:00.000000000'\n",
      " '2018-02-17T00:00:00.000000000' '2018-04-08T00:00:00.000000000'\n",
      " '2018-01-20T00:00:00.000000000' '2018-02-02T00:00:00.000000000'\n",
      " '2018-11-23T00:00:00.000000000' '2018-07-12T00:00:00.000000000'\n",
      " '2018-09-03T00:00:00.000000000' '2018-08-22T00:00:00.000000000'\n",
      " '2018-02-04T00:00:00.000000000' '2018-12-07T00:00:00.000000000'\n",
      " '2018-06-30T00:00:00.000000000' '2018-01-01T00:00:00.000000000'\n",
      " '2018-12-03T00:00:00.000000000' '2018-06-18T00:00:00.000000000'\n",
      " '2018-08-15T00:00:00.000000000' '2018-09-10T00:00:00.000000000'\n",
      " '2018-04-28T00:00:00.000000000' '2018-08-06T00:00:00.000000000'\n",
      " '2018-09-20T00:00:00.000000000' '2018-03-13T00:00:00.000000000'\n",
      " '2018-10-21T00:00:00.000000000' '2018-07-29T00:00:00.000000000'\n",
      " '2018-06-20T00:00:00.000000000' '2018-07-05T00:00:00.000000000'\n",
      " '2018-01-21T00:00:00.000000000' '2018-11-22T00:00:00.000000000'\n",
      " '2018-06-03T00:00:00.000000000' '2018-08-30T00:00:00.000000000'\n",
      " '2018-12-12T00:00:00.000000000' '2018-06-01T00:00:00.000000000'\n",
      " '2018-12-22T00:00:00.000000000' '2018-11-04T00:00:00.000000000'\n",
      " '2018-01-08T00:00:00.000000000' '2018-02-27T00:00:00.000000000'\n",
      " '2018-05-02T00:00:00.000000000' '2018-11-18T00:00:00.000000000'\n",
      " '2018-09-26T00:00:00.000000000' '2018-08-14T00:00:00.000000000'\n",
      " '2018-02-13T00:00:00.000000000' '2018-02-19T00:00:00.000000000'\n",
      " '2018-09-28T00:00:00.000000000' '2018-10-30T00:00:00.000000000'\n",
      " '2018-07-17T00:00:00.000000000' '2018-07-01T00:00:00.000000000'\n",
      " '2018-08-29T00:00:00.000000000' '2018-05-03T00:00:00.000000000'\n",
      " '2018-08-13T00:00:00.000000000' '2018-07-18T00:00:00.000000000'\n",
      " '2018-06-09T00:00:00.000000000' '2018-09-07T00:00:00.000000000'\n",
      " '2018-11-27T00:00:00.000000000' '2018-09-23T00:00:00.000000000'\n",
      " '2018-09-09T00:00:00.000000000' '2018-05-11T00:00:00.000000000'\n",
      " '2018-02-08T00:00:00.000000000' '2018-09-05T00:00:00.000000000'\n",
      " '2018-09-19T00:00:00.000000000' '2018-06-05T00:00:00.000000000'\n",
      " '2018-01-27T00:00:00.000000000' '2018-09-27T00:00:00.000000000'\n",
      " '2018-01-23T00:00:00.000000000' '2018-07-25T00:00:00.000000000'\n",
      " '2018-11-05T00:00:00.000000000' '2018-10-25T00:00:00.000000000'\n",
      " '2018-11-30T00:00:00.000000000' '2018-08-03T00:00:00.000000000'\n",
      " '2018-10-24T00:00:00.000000000' '2018-03-04T00:00:00.000000000'\n",
      " '2018-08-24T00:00:00.000000000' '2018-08-02T00:00:00.000000000'\n",
      " '2018-05-29T00:00:00.000000000' '2018-10-16T00:00:00.000000000'\n",
      " '2018-10-08T00:00:00.000000000' '2018-06-26T00:00:00.000000000'\n",
      " '2018-01-15T00:00:00.000000000' '2018-06-22T00:00:00.000000000'\n",
      " '2018-12-18T00:00:00.000000000' '2018-07-21T00:00:00.000000000'\n",
      " '2018-04-18T00:00:00.000000000' '2018-09-02T00:00:00.000000000'\n",
      " '2018-06-14T00:00:00.000000000' '2018-09-14T00:00:00.000000000'\n",
      " '2018-12-14T00:00:00.000000000' '2018-08-18T00:00:00.000000000'\n",
      " '2018-02-06T00:00:00.000000000' '2018-12-25T00:00:00.000000000'\n",
      " '2018-01-17T00:00:00.000000000' '2018-05-31T00:00:00.000000000'\n",
      " '2018-02-25T00:00:00.000000000' '2018-08-09T00:00:00.000000000'\n",
      " '2018-05-07T00:00:00.000000000' '2018-01-13T00:00:00.000000000'\n",
      " '2018-03-26T00:00:00.000000000' '2018-12-21T00:00:00.000000000'\n",
      " '2018-08-27T00:00:00.000000000' '2018-07-30T00:00:00.000000000'\n",
      " '2018-05-12T00:00:00.000000000' '2018-01-12T00:00:00.000000000'\n",
      " '2018-01-06T00:00:00.000000000' '2018-12-06T00:00:00.000000000'\n",
      " '2018-11-06T00:00:00.000000000' '2018-03-09T00:00:00.000000000'\n",
      " '2018-05-20T00:00:00.000000000' '2018-05-27T00:00:00.000000000'\n",
      " '2018-03-14T00:00:00.000000000' '2018-08-28T00:00:00.000000000'\n",
      " '2018-07-19T00:00:00.000000000' '2018-02-22T00:00:00.000000000'\n",
      " '2018-10-12T00:00:00.000000000' '2018-08-25T00:00:00.000000000'\n",
      " '2018-01-26T00:00:00.000000000' '2018-04-23T00:00:00.000000000'\n",
      " '2018-08-04T00:00:00.000000000' '2018-01-05T00:00:00.000000000'\n",
      " '2018-04-04T00:00:00.000000000' '2018-11-13T00:00:00.000000000'\n",
      " '2018-09-17T00:00:00.000000000' '2018-12-29T00:00:00.000000000'\n",
      " '2018-08-31T00:00:00.000000000' '2018-09-13T00:00:00.000000000'\n",
      " '2018-09-16T00:00:00.000000000' '2018-10-10T00:00:00.000000000'\n",
      " '2018-04-06T00:00:00.000000000' '2018-02-28T00:00:00.000000000'\n",
      " '2018-02-11T00:00:00.000000000' '2018-07-06T00:00:00.000000000'\n",
      " '2018-01-18T00:00:00.000000000' '2018-11-11T00:00:00.000000000'\n",
      " '2018-02-14T00:00:00.000000000' '2018-04-25T00:00:00.000000000']\n",
      "--------------------------\n",
      "tariff_name\n",
      "['ultra' 'smart']\n",
      "--------------------------\n"
     ]
    }
   ],
   "source": [
    "def unique (df):\n",
    "    for column in df.columns:\n",
    "        print(column)\n",
    "        print (df[column].unique())\n",
    "        print ('--------------------------')\n",
    "    return\n",
    "unique (users_df)"
   ]
  },
  {
   "cell_type": "code",
   "execution_count": 20,
   "id": "4e62141c",
   "metadata": {},
   "outputs": [
    {
     "name": "stdout",
     "output_type": "stream",
     "text": [
      "id\n",
      "['1000_0' '1000_1' '1000_2' ... '1499_217' '1499_218' '1499_219']\n",
      "--------------------------\n",
      "call_date\n",
      "['2018-07-25T00:00:00.000000000' '2018-08-17T00:00:00.000000000'\n",
      " '2018-06-11T00:00:00.000000000' '2018-09-21T00:00:00.000000000'\n",
      " '2018-12-15T00:00:00.000000000' '2018-11-02T00:00:00.000000000'\n",
      " '2018-10-18T00:00:00.000000000' '2018-08-22T00:00:00.000000000'\n",
      " '2018-09-15T00:00:00.000000000' '2018-08-15T00:00:00.000000000'\n",
      " '2018-05-28T00:00:00.000000000' '2018-07-05T00:00:00.000000000'\n",
      " '2018-09-29T00:00:00.000000000' '2018-12-11T00:00:00.000000000'\n",
      " '2018-07-27T00:00:00.000000000' '2018-08-11T00:00:00.000000000'\n",
      " '2018-08-02T00:00:00.000000000' '2018-06-15T00:00:00.000000000'\n",
      " '2018-12-04T00:00:00.000000000' '2018-08-20T00:00:00.000000000'\n",
      " '2018-09-25T00:00:00.000000000' '2018-07-21T00:00:00.000000000'\n",
      " '2018-08-27T00:00:00.000000000' '2018-08-25T00:00:00.000000000'\n",
      " '2018-12-12T00:00:00.000000000' '2018-07-19T00:00:00.000000000'\n",
      " '2018-11-14T00:00:00.000000000' '2018-12-26T00:00:00.000000000'\n",
      " '2018-12-02T00:00:00.000000000' '2018-10-08T00:00:00.000000000'\n",
      " '2018-09-23T00:00:00.000000000' '2018-10-09T00:00:00.000000000'\n",
      " '2018-05-25T00:00:00.000000000' '2018-06-13T00:00:00.000000000'\n",
      " '2018-10-25T00:00:00.000000000' '2018-12-29T00:00:00.000000000'\n",
      " '2018-07-12T00:00:00.000000000' '2018-11-20T00:00:00.000000000'\n",
      " '2018-06-05T00:00:00.000000000' '2018-10-13T00:00:00.000000000'\n",
      " '2018-06-26T00:00:00.000000000' '2018-07-14T00:00:00.000000000'\n",
      " '2018-07-20T00:00:00.000000000' '2018-12-01T00:00:00.000000000'\n",
      " '2018-06-17T00:00:00.000000000' '2018-10-24T00:00:00.000000000'\n",
      " '2018-11-26T00:00:00.000000000' '2018-09-19T00:00:00.000000000'\n",
      " '2018-05-30T00:00:00.000000000' '2018-12-21T00:00:00.000000000'\n",
      " '2018-12-23T00:00:00.000000000' '2018-07-03T00:00:00.000000000'\n",
      " '2018-10-04T00:00:00.000000000' '2018-09-16T00:00:00.000000000'\n",
      " '2018-11-21T00:00:00.000000000' '2018-10-28T00:00:00.000000000'\n",
      " '2018-08-29T00:00:00.000000000' '2018-08-13T00:00:00.000000000'\n",
      " '2018-07-18T00:00:00.000000000' '2018-06-03T00:00:00.000000000'\n",
      " '2018-09-03T00:00:00.000000000' '2018-08-14T00:00:00.000000000'\n",
      " '2018-11-01T00:00:00.000000000' '2018-05-26T00:00:00.000000000'\n",
      " '2018-11-23T00:00:00.000000000' '2018-09-30T00:00:00.000000000'\n",
      " '2018-11-09T00:00:00.000000000' '2018-08-01T00:00:00.000000000'\n",
      " '2018-06-18T00:00:00.000000000' '2018-10-20T00:00:00.000000000'\n",
      " '2018-11-07T00:00:00.000000000' '2018-08-04T00:00:00.000000000'\n",
      " '2018-09-06T00:00:00.000000000' '2018-10-27T00:00:00.000000000'\n",
      " '2018-10-15T00:00:00.000000000' '2018-10-26T00:00:00.000000000'\n",
      " '2018-11-18T00:00:00.000000000' '2018-07-30T00:00:00.000000000'\n",
      " '2018-10-06T00:00:00.000000000' '2018-12-17T00:00:00.000000000'\n",
      " '2018-08-24T00:00:00.000000000' '2018-09-28T00:00:00.000000000'\n",
      " '2018-07-06T00:00:00.000000000' '2018-06-02T00:00:00.000000000'\n",
      " '2018-09-02T00:00:00.000000000' '2018-12-10T00:00:00.000000000'\n",
      " '2018-11-03T00:00:00.000000000' '2018-07-28T00:00:00.000000000'\n",
      " '2018-09-27T00:00:00.000000000' '2018-12-24T00:00:00.000000000'\n",
      " '2018-07-29T00:00:00.000000000' '2018-12-18T00:00:00.000000000'\n",
      " '2018-10-16T00:00:00.000000000' '2018-10-07T00:00:00.000000000'\n",
      " '2018-11-12T00:00:00.000000000' '2018-07-23T00:00:00.000000000'\n",
      " '2018-08-26T00:00:00.000000000' '2018-09-07T00:00:00.000000000'\n",
      " '2018-09-14T00:00:00.000000000' '2018-07-15T00:00:00.000000000'\n",
      " '2018-09-17T00:00:00.000000000' '2018-09-09T00:00:00.000000000'\n",
      " '2018-10-02T00:00:00.000000000' '2018-07-02T00:00:00.000000000'\n",
      " '2018-10-21T00:00:00.000000000' '2018-07-10T00:00:00.000000000'\n",
      " '2018-09-10T00:00:00.000000000' '2018-07-11T00:00:00.000000000'\n",
      " '2018-09-20T00:00:00.000000000' '2018-11-04T00:00:00.000000000'\n",
      " '2018-12-05T00:00:00.000000000' '2018-06-22T00:00:00.000000000'\n",
      " '2018-07-04T00:00:00.000000000' '2018-08-09T00:00:00.000000000'\n",
      " '2018-12-25T00:00:00.000000000' '2018-06-12T00:00:00.000000000'\n",
      " '2018-12-22T00:00:00.000000000' '2018-07-17T00:00:00.000000000'\n",
      " '2018-09-18T00:00:00.000000000' '2018-10-14T00:00:00.000000000'\n",
      " '2018-11-15T00:00:00.000000000' '2018-06-19T00:00:00.000000000'\n",
      " '2018-06-07T00:00:00.000000000' '2018-11-25T00:00:00.000000000'\n",
      " '2018-12-07T00:00:00.000000000' '2018-05-31T00:00:00.000000000'\n",
      " '2018-06-27T00:00:00.000000000' '2018-12-03T00:00:00.000000000'\n",
      " '2018-06-28T00:00:00.000000000' '2018-09-13T00:00:00.000000000'\n",
      " '2018-11-19T00:00:00.000000000' '2018-09-11T00:00:00.000000000'\n",
      " '2018-06-21T00:00:00.000000000' '2018-11-27T00:00:00.000000000'\n",
      " '2018-08-10T00:00:00.000000000' '2018-08-07T00:00:00.000000000'\n",
      " '2018-09-24T00:00:00.000000000' '2018-10-01T00:00:00.000000000'\n",
      " '2018-06-20T00:00:00.000000000' '2018-10-19T00:00:00.000000000'\n",
      " '2018-07-26T00:00:00.000000000' '2018-09-12T00:00:00.000000000'\n",
      " '2018-11-24T00:00:00.000000000' '2018-12-09T00:00:00.000000000'\n",
      " '2018-06-10T00:00:00.000000000' '2018-06-14T00:00:00.000000000'\n",
      " '2018-06-24T00:00:00.000000000' '2018-11-11T00:00:00.000000000'\n",
      " '2018-11-05T00:00:00.000000000' '2018-06-29T00:00:00.000000000'\n",
      " '2018-09-05T00:00:00.000000000' '2018-08-23T00:00:00.000000000'\n",
      " '2018-08-19T00:00:00.000000000' '2018-08-03T00:00:00.000000000'\n",
      " '2018-06-25T00:00:00.000000000' '2018-05-27T00:00:00.000000000'\n",
      " '2018-07-07T00:00:00.000000000' '2018-11-16T00:00:00.000000000'\n",
      " '2018-09-08T00:00:00.000000000' '2018-10-11T00:00:00.000000000'\n",
      " '2018-05-29T00:00:00.000000000' '2018-12-19T00:00:00.000000000'\n",
      " '2018-08-30T00:00:00.000000000' '2018-07-24T00:00:00.000000000'\n",
      " '2018-10-03T00:00:00.000000000' '2018-12-08T00:00:00.000000000'\n",
      " '2018-06-08T00:00:00.000000000' '2018-10-05T00:00:00.000000000'\n",
      " '2018-11-28T00:00:00.000000000' '2018-10-29T00:00:00.000000000'\n",
      " '2018-12-27T00:00:00.000000000' '2018-11-29T00:00:00.000000000'\n",
      " '2018-10-30T00:00:00.000000000' '2018-11-08T00:00:00.000000000'\n",
      " '2018-07-08T00:00:00.000000000' '2018-06-23T00:00:00.000000000'\n",
      " '2018-12-06T00:00:00.000000000' '2018-12-13T00:00:00.000000000'\n",
      " '2018-11-13T00:00:00.000000000' '2018-12-14T00:00:00.000000000'\n",
      " '2018-12-30T00:00:00.000000000' '2018-11-22T00:00:00.000000000'\n",
      " '2018-12-28T00:00:00.000000000' '2018-12-20T00:00:00.000000000'\n",
      " '2018-11-10T00:00:00.000000000' '2018-11-30T00:00:00.000000000'\n",
      " '2018-12-16T00:00:00.000000000' '2018-11-17T00:00:00.000000000'\n",
      " '2018-12-31T00:00:00.000000000' '2018-08-18T00:00:00.000000000'\n",
      " '2018-07-09T00:00:00.000000000' '2018-07-16T00:00:00.000000000'\n",
      " '2018-08-05T00:00:00.000000000' '2018-08-06T00:00:00.000000000'\n",
      " '2018-10-31T00:00:00.000000000' '2018-09-04T00:00:00.000000000'\n",
      " '2018-07-31T00:00:00.000000000' '2018-11-06T00:00:00.000000000'\n",
      " '2018-10-17T00:00:00.000000000' '2018-10-22T00:00:00.000000000'\n",
      " '2018-09-26T00:00:00.000000000' '2018-10-23T00:00:00.000000000'\n",
      " '2018-09-22T00:00:00.000000000' '2018-09-01T00:00:00.000000000'\n",
      " '2018-08-28T00:00:00.000000000' '2018-08-08T00:00:00.000000000'\n",
      " '2018-08-12T00:00:00.000000000' '2018-07-01T00:00:00.000000000'\n",
      " '2018-07-22T00:00:00.000000000' '2018-08-31T00:00:00.000000000'\n",
      " '2018-10-12T00:00:00.000000000' '2018-10-10T00:00:00.000000000'\n",
      " '2018-08-21T00:00:00.000000000' '2018-08-16T00:00:00.000000000'\n",
      " '2018-06-30T00:00:00.000000000' '2018-05-14T00:00:00.000000000'\n",
      " '2018-05-18T00:00:00.000000000' '2018-05-24T00:00:00.000000000'\n",
      " '2018-07-13T00:00:00.000000000' '2018-06-06T00:00:00.000000000'\n",
      " '2018-05-19T00:00:00.000000000' '2018-05-23T00:00:00.000000000'\n",
      " '2018-05-17T00:00:00.000000000' '2018-03-21T00:00:00.000000000'\n",
      " '2018-04-09T00:00:00.000000000' '2018-05-13T00:00:00.000000000'\n",
      " '2018-04-05T00:00:00.000000000' '2018-04-12T00:00:00.000000000'\n",
      " '2018-01-28T00:00:00.000000000' '2018-03-06T00:00:00.000000000'\n",
      " '2018-04-23T00:00:00.000000000' '2018-03-15T00:00:00.000000000'\n",
      " '2018-03-04T00:00:00.000000000' '2018-03-09T00:00:00.000000000'\n",
      " '2018-02-27T00:00:00.000000000' '2018-03-27T00:00:00.000000000'\n",
      " '2018-06-16T00:00:00.000000000' '2018-03-12T00:00:00.000000000'\n",
      " '2018-04-21T00:00:00.000000000' '2018-05-09T00:00:00.000000000'\n",
      " '2018-03-11T00:00:00.000000000' '2018-04-14T00:00:00.000000000'\n",
      " '2018-03-07T00:00:00.000000000' '2018-01-27T00:00:00.000000000'\n",
      " '2018-02-18T00:00:00.000000000' '2018-03-01T00:00:00.000000000'\n",
      " '2018-02-24T00:00:00.000000000' '2018-05-10T00:00:00.000000000'\n",
      " '2018-03-08T00:00:00.000000000' '2018-02-23T00:00:00.000000000'\n",
      " '2018-03-03T00:00:00.000000000' '2018-04-22T00:00:00.000000000'\n",
      " '2018-02-09T00:00:00.000000000' '2018-01-31T00:00:00.000000000'\n",
      " '2018-02-19T00:00:00.000000000' '2018-03-13T00:00:00.000000000'\n",
      " '2018-03-30T00:00:00.000000000' '2018-05-08T00:00:00.000000000'\n",
      " '2018-04-17T00:00:00.000000000' '2018-04-18T00:00:00.000000000'\n",
      " '2018-01-29T00:00:00.000000000' '2018-04-19T00:00:00.000000000'\n",
      " '2018-04-02T00:00:00.000000000' '2018-05-05T00:00:00.000000000'\n",
      " '2018-04-10T00:00:00.000000000' '2018-03-19T00:00:00.000000000'\n",
      " '2018-04-06T00:00:00.000000000' '2018-04-24T00:00:00.000000000'\n",
      " '2018-03-10T00:00:00.000000000' '2018-05-22T00:00:00.000000000'\n",
      " '2018-03-16T00:00:00.000000000' '2018-02-12T00:00:00.000000000'\n",
      " '2018-05-01T00:00:00.000000000' '2018-02-13T00:00:00.000000000'\n",
      " '2018-01-26T00:00:00.000000000' '2018-02-01T00:00:00.000000000'\n",
      " '2018-02-02T00:00:00.000000000' '2018-04-26T00:00:00.000000000'\n",
      " '2018-02-10T00:00:00.000000000' '2018-04-04T00:00:00.000000000'\n",
      " '2018-06-09T00:00:00.000000000' '2018-03-18T00:00:00.000000000'\n",
      " '2018-03-31T00:00:00.000000000' '2018-04-01T00:00:00.000000000'\n",
      " '2018-02-20T00:00:00.000000000' '2018-02-03T00:00:00.000000000'\n",
      " '2018-02-07T00:00:00.000000000' '2018-04-16T00:00:00.000000000'\n",
      " '2018-02-04T00:00:00.000000000' '2018-05-21T00:00:00.000000000'\n",
      " '2018-05-02T00:00:00.000000000' '2018-04-08T00:00:00.000000000'\n",
      " '2018-06-04T00:00:00.000000000' '2018-03-20T00:00:00.000000000'\n",
      " '2018-02-17T00:00:00.000000000' '2018-03-23T00:00:00.000000000'\n",
      " '2018-05-04T00:00:00.000000000' '2018-05-11T00:00:00.000000000'\n",
      " '2018-03-22T00:00:00.000000000' '2018-05-03T00:00:00.000000000'\n",
      " '2018-02-08T00:00:00.000000000' '2018-02-06T00:00:00.000000000'\n",
      " '2018-02-15T00:00:00.000000000' '2018-05-20T00:00:00.000000000'\n",
      " '2018-03-26T00:00:00.000000000' '2018-03-28T00:00:00.000000000'\n",
      " '2018-03-24T00:00:00.000000000' '2018-04-15T00:00:00.000000000'\n",
      " '2018-04-30T00:00:00.000000000' '2018-02-25T00:00:00.000000000'\n",
      " '2018-04-25T00:00:00.000000000' '2018-03-25T00:00:00.000000000'\n",
      " '2018-05-15T00:00:00.000000000' '2018-03-29T00:00:00.000000000'\n",
      " '2018-02-22T00:00:00.000000000' '2018-04-28T00:00:00.000000000'\n",
      " '2018-04-03T00:00:00.000000000' '2018-03-17T00:00:00.000000000'\n",
      " '2018-04-13T00:00:00.000000000' '2018-03-05T00:00:00.000000000'\n",
      " '2018-04-11T00:00:00.000000000' '2018-01-30T00:00:00.000000000'\n",
      " '2018-05-07T00:00:00.000000000' '2018-06-01T00:00:00.000000000'\n",
      " '2018-02-11T00:00:00.000000000' '2018-05-16T00:00:00.000000000'\n",
      " '2018-02-16T00:00:00.000000000' '2018-04-27T00:00:00.000000000'\n",
      " '2018-01-25T00:00:00.000000000' '2018-05-06T00:00:00.000000000'\n",
      " '2018-02-21T00:00:00.000000000' '2018-04-29T00:00:00.000000000'\n",
      " '2018-04-07T00:00:00.000000000' '2018-02-28T00:00:00.000000000'\n",
      " '2018-02-14T00:00:00.000000000' '2018-03-02T00:00:00.000000000'\n",
      " '2018-03-14T00:00:00.000000000' '2018-02-26T00:00:00.000000000'\n",
      " '2018-04-20T00:00:00.000000000' '2018-05-12T00:00:00.000000000'\n",
      " '2018-01-05T00:00:00.000000000' '2018-01-13T00:00:00.000000000'\n",
      " '2018-01-18T00:00:00.000000000' '2018-01-12T00:00:00.000000000'\n",
      " '2018-01-20T00:00:00.000000000' '2018-01-24T00:00:00.000000000'\n",
      " '2018-01-21T00:00:00.000000000' '2018-01-22T00:00:00.000000000'\n",
      " '2018-01-15T00:00:00.000000000' '2018-01-16T00:00:00.000000000'\n",
      " '2018-02-05T00:00:00.000000000' '2018-01-10T00:00:00.000000000'\n",
      " '2018-01-11T00:00:00.000000000' '2018-01-08T00:00:00.000000000'\n",
      " '2018-01-14T00:00:00.000000000' '2018-01-19T00:00:00.000000000'\n",
      " '2018-01-04T00:00:00.000000000' '2018-01-09T00:00:00.000000000'\n",
      " '2018-01-07T00:00:00.000000000' '2018-01-02T00:00:00.000000000'\n",
      " '2018-01-06T00:00:00.000000000' '2018-01-17T00:00:00.000000000'\n",
      " '2018-01-03T00:00:00.000000000' '2018-01-23T00:00:00.000000000'\n",
      " '2018-01-01T00:00:00.000000000']\n",
      "--------------------------\n",
      "duration\n",
      "[ 0.  3. 14.  6. 19.  8. 10.  5. 13. 16.  9.  2. 15. 11. 24. 12. 23.  7.\n",
      " 20.  1.  4. 17. 21. 18. 25. 22. 27. 26. 29. 28. 30. 37. 31. 33. 34. 32.\n",
      " 36. 35. 38.]\n",
      "--------------------------\n",
      "user_id\n",
      "[1000 1001 1002 1003 1004 1005 1006 1007 1008 1009 1010 1011 1012 1013\n",
      " 1014 1015 1016 1017 1018 1019 1020 1021 1022 1023 1024 1025 1026 1027\n",
      " 1028 1029 1030 1031 1032 1033 1034 1035 1036 1037 1038 1039 1040 1041\n",
      " 1042 1043 1044 1045 1046 1047 1048 1049 1050 1051 1052 1053 1054 1055\n",
      " 1056 1057 1058 1059 1060 1061 1062 1063 1064 1065 1066 1067 1068 1069\n",
      " 1070 1071 1072 1073 1074 1075 1076 1077 1078 1079 1080 1081 1082 1083\n",
      " 1084 1085 1086 1087 1088 1089 1090 1092 1093 1094 1095 1096 1097 1098\n",
      " 1099 1100 1101 1102 1103 1104 1105 1107 1108 1109 1110 1111 1112 1113\n",
      " 1114 1115 1116 1117 1118 1119 1120 1121 1122 1123 1124 1125 1126 1127\n",
      " 1129 1130 1131 1132 1133 1134 1135 1136 1137 1138 1139 1140 1141 1142\n",
      " 1143 1144 1145 1146 1147 1148 1149 1150 1151 1152 1153 1154 1155 1156\n",
      " 1157 1158 1159 1160 1161 1162 1163 1164 1165 1166 1167 1168 1169 1170\n",
      " 1171 1172 1173 1174 1175 1176 1177 1178 1179 1180 1181 1182 1183 1184\n",
      " 1185 1186 1187 1188 1189 1190 1191 1192 1193 1194 1195 1196 1197 1198\n",
      " 1199 1200 1201 1202 1203 1204 1205 1206 1207 1208 1209 1210 1211 1212\n",
      " 1213 1214 1215 1216 1217 1218 1219 1220 1221 1222 1223 1224 1225 1226\n",
      " 1227 1228 1229 1230 1232 1233 1234 1235 1236 1237 1238 1239 1240 1241\n",
      " 1242 1243 1244 1245 1246 1247 1248 1249 1250 1251 1252 1253 1254 1255\n",
      " 1256 1257 1258 1259 1260 1261 1262 1263 1264 1265 1266 1267 1268 1269\n",
      " 1270 1271 1272 1273 1274 1275 1276 1277 1278 1279 1280 1281 1282 1283\n",
      " 1284 1285 1286 1287 1288 1289 1290 1291 1292 1293 1294 1295 1296 1297\n",
      " 1298 1299 1300 1301 1302 1303 1304 1305 1306 1307 1308 1309 1310 1311\n",
      " 1312 1313 1314 1315 1316 1317 1318 1319 1320 1321 1322 1323 1324 1325\n",
      " 1326 1327 1329 1330 1331 1332 1333 1334 1335 1336 1337 1338 1339 1340\n",
      " 1341 1342 1343 1344 1345 1346 1347 1348 1349 1350 1351 1352 1353 1354\n",
      " 1355 1356 1357 1358 1359 1360 1361 1362 1363 1364 1365 1366 1367 1368\n",
      " 1369 1370 1372 1373 1374 1375 1376 1377 1378 1379 1380 1381 1382 1383\n",
      " 1384 1385 1386 1387 1388 1389 1390 1391 1392 1393 1394 1395 1396 1397\n",
      " 1398 1399 1400 1401 1402 1403 1404 1405 1406 1407 1408 1409 1410 1411\n",
      " 1412 1413 1414 1415 1416 1417 1418 1419 1420 1421 1422 1423 1424 1425\n",
      " 1426 1427 1428 1429 1430 1431 1432 1433 1434 1435 1436 1437 1438 1439\n",
      " 1440 1441 1442 1443 1444 1445 1446 1447 1448 1449 1450 1451 1452 1453\n",
      " 1454 1455 1456 1457 1458 1459 1460 1461 1462 1463 1464 1465 1466 1467\n",
      " 1468 1469 1470 1471 1472 1474 1475 1476 1477 1478 1479 1480 1481 1482\n",
      " 1483 1484 1485 1486 1487 1488 1490 1491 1492 1493 1494 1495 1496 1497\n",
      " 1498 1499]\n",
      "--------------------------\n"
     ]
    }
   ],
   "source": [
    "unique (calls_df)"
   ]
  },
  {
   "cell_type": "code",
   "execution_count": 21,
   "id": "8dc2cb16",
   "metadata": {},
   "outputs": [
    {
     "name": "stdout",
     "output_type": "stream",
     "text": [
      "id\n",
      "['1000_0' '1000_1' '1000_2' ... '1499_181' '1499_182' '1499_183']\n",
      "--------------------------\n",
      "message_date\n",
      "['2018-06-27T00:00:00.000000000' '2018-10-08T00:00:00.000000000'\n",
      " '2018-08-04T00:00:00.000000000' '2018-06-16T00:00:00.000000000'\n",
      " '2018-12-05T00:00:00.000000000' '2018-06-20T00:00:00.000000000'\n",
      " '2018-11-19T00:00:00.000000000' '2018-10-29T00:00:00.000000000'\n",
      " '2018-06-25T00:00:00.000000000' '2018-12-18T00:00:00.000000000'\n",
      " '2018-05-30T00:00:00.000000000' '2018-07-06T00:00:00.000000000'\n",
      " '2018-08-20T00:00:00.000000000' '2018-10-30T00:00:00.000000000'\n",
      " '2018-09-14T00:00:00.000000000' '2018-08-28T00:00:00.000000000'\n",
      " '2018-06-29T00:00:00.000000000' '2018-07-07T00:00:00.000000000'\n",
      " '2018-05-29T00:00:00.000000000' '2018-05-28T00:00:00.000000000'\n",
      " '2018-08-15T00:00:00.000000000' '2018-07-29T00:00:00.000000000'\n",
      " '2018-12-07T00:00:00.000000000' '2018-12-25T00:00:00.000000000'\n",
      " '2018-10-31T00:00:00.000000000' '2018-07-30T00:00:00.000000000'\n",
      " '2018-11-05T00:00:00.000000000' '2018-12-15T00:00:00.000000000'\n",
      " '2018-12-04T00:00:00.000000000' '2018-06-30T00:00:00.000000000'\n",
      " '2018-12-22T00:00:00.000000000' '2018-10-02T00:00:00.000000000'\n",
      " '2018-08-29T00:00:00.000000000' '2018-09-09T00:00:00.000000000'\n",
      " '2018-07-19T00:00:00.000000000' '2018-09-04T00:00:00.000000000'\n",
      " '2018-07-15T00:00:00.000000000' '2018-10-25T00:00:00.000000000'\n",
      " '2018-12-08T00:00:00.000000000' '2018-06-01T00:00:00.000000000'\n",
      " '2018-06-12T00:00:00.000000000' '2018-12-21T00:00:00.000000000'\n",
      " '2018-10-07T00:00:00.000000000' '2018-08-30T00:00:00.000000000'\n",
      " '2018-06-04T00:00:00.000000000' '2018-10-01T00:00:00.000000000'\n",
      " '2018-06-22T00:00:00.000000000' '2018-10-12T00:00:00.000000000'\n",
      " '2018-10-15T00:00:00.000000000' '2018-10-24T00:00:00.000000000'\n",
      " '2018-09-20T00:00:00.000000000' '2018-08-22T00:00:00.000000000'\n",
      " '2018-09-17T00:00:00.000000000' '2018-08-27T00:00:00.000000000'\n",
      " '2018-07-26T00:00:00.000000000' '2018-06-05T00:00:00.000000000'\n",
      " '2018-11-16T00:00:00.000000000' '2018-09-06T00:00:00.000000000'\n",
      " '2018-11-26T00:00:00.000000000' '2018-11-18T00:00:00.000000000'\n",
      " '2018-09-21T00:00:00.000000000' '2018-07-11T00:00:00.000000000'\n",
      " '2018-07-16T00:00:00.000000000' '2018-11-08T00:00:00.000000000'\n",
      " '2018-07-25T00:00:00.000000000' '2018-09-13T00:00:00.000000000'\n",
      " '2018-08-13T00:00:00.000000000' '2018-12-31T00:00:00.000000000'\n",
      " '2018-06-10T00:00:00.000000000' '2018-06-28T00:00:00.000000000'\n",
      " '2018-09-18T00:00:00.000000000' '2018-10-11T00:00:00.000000000'\n",
      " '2018-12-12T00:00:00.000000000' '2018-07-12T00:00:00.000000000'\n",
      " '2018-09-01T00:00:00.000000000' '2018-07-23T00:00:00.000000000'\n",
      " '2018-09-22T00:00:00.000000000' '2018-08-17T00:00:00.000000000'\n",
      " '2018-09-29T00:00:00.000000000' '2018-07-22T00:00:00.000000000'\n",
      " '2018-06-18T00:00:00.000000000' '2018-06-14T00:00:00.000000000'\n",
      " '2018-12-10T00:00:00.000000000' '2018-11-29T00:00:00.000000000'\n",
      " '2018-11-21T00:00:00.000000000' '2018-12-28T00:00:00.000000000'\n",
      " '2018-11-30T00:00:00.000000000' '2018-08-31T00:00:00.000000000'\n",
      " '2018-06-26T00:00:00.000000000' '2018-07-21T00:00:00.000000000'\n",
      " '2018-11-15T00:00:00.000000000' '2018-10-06T00:00:00.000000000'\n",
      " '2018-06-13T00:00:00.000000000' '2018-12-29T00:00:00.000000000'\n",
      " '2018-11-10T00:00:00.000000000' '2018-08-24T00:00:00.000000000'\n",
      " '2018-11-07T00:00:00.000000000' '2018-09-19T00:00:00.000000000'\n",
      " '2018-08-10T00:00:00.000000000' '2018-07-08T00:00:00.000000000'\n",
      " '2018-05-25T00:00:00.000000000' '2018-08-21T00:00:00.000000000'\n",
      " '2018-07-28T00:00:00.000000000' '2018-07-31T00:00:00.000000000'\n",
      " '2018-11-03T00:00:00.000000000' '2018-11-04T00:00:00.000000000'\n",
      " '2018-10-26T00:00:00.000000000' '2018-07-01T00:00:00.000000000'\n",
      " '2018-09-23T00:00:00.000000000' '2018-08-25T00:00:00.000000000'\n",
      " '2018-07-18T00:00:00.000000000' '2018-11-02T00:00:00.000000000'\n",
      " '2018-05-27T00:00:00.000000000' '2018-12-03T00:00:00.000000000'\n",
      " '2018-11-23T00:00:00.000000000' '2018-10-05T00:00:00.000000000'\n",
      " '2018-11-12T00:00:00.000000000' '2018-07-10T00:00:00.000000000'\n",
      " '2018-06-24T00:00:00.000000000' '2018-10-17T00:00:00.000000000'\n",
      " '2018-11-22T00:00:00.000000000' '2018-11-09T00:00:00.000000000'\n",
      " '2018-11-24T00:00:00.000000000' '2018-10-23T00:00:00.000000000'\n",
      " '2018-10-19T00:00:00.000000000' '2018-09-30T00:00:00.000000000'\n",
      " '2018-06-09T00:00:00.000000000' '2018-12-06T00:00:00.000000000'\n",
      " '2018-12-11T00:00:00.000000000' '2018-12-01T00:00:00.000000000'\n",
      " '2018-12-19T00:00:00.000000000' '2018-09-02T00:00:00.000000000'\n",
      " '2018-10-22T00:00:00.000000000' '2018-08-03T00:00:00.000000000'\n",
      " '2018-11-06T00:00:00.000000000' '2018-12-26T00:00:00.000000000'\n",
      " '2018-09-24T00:00:00.000000000' '2018-09-07T00:00:00.000000000'\n",
      " '2018-08-12T00:00:00.000000000' '2018-10-20T00:00:00.000000000'\n",
      " '2018-12-27T00:00:00.000000000' '2018-12-23T00:00:00.000000000'\n",
      " '2018-07-02T00:00:00.000000000' '2018-12-02T00:00:00.000000000'\n",
      " '2018-09-11T00:00:00.000000000' '2018-07-27T00:00:00.000000000'\n",
      " '2018-09-26T00:00:00.000000000' '2018-08-14T00:00:00.000000000'\n",
      " '2018-11-28T00:00:00.000000000' '2018-07-13T00:00:00.000000000'\n",
      " '2018-08-26T00:00:00.000000000' '2018-08-09T00:00:00.000000000'\n",
      " '2018-10-28T00:00:00.000000000' '2018-10-18T00:00:00.000000000'\n",
      " '2018-06-03T00:00:00.000000000' '2018-08-23T00:00:00.000000000'\n",
      " '2018-12-16T00:00:00.000000000' '2018-10-13T00:00:00.000000000'\n",
      " '2018-12-14T00:00:00.000000000' '2018-09-08T00:00:00.000000000'\n",
      " '2018-08-05T00:00:00.000000000' '2018-12-30T00:00:00.000000000'\n",
      " '2018-08-08T00:00:00.000000000' '2018-06-23T00:00:00.000000000'\n",
      " '2018-12-24T00:00:00.000000000' '2018-07-14T00:00:00.000000000'\n",
      " '2018-09-28T00:00:00.000000000' '2018-07-04T00:00:00.000000000'\n",
      " '2018-10-27T00:00:00.000000000' '2018-10-14T00:00:00.000000000'\n",
      " '2018-08-02T00:00:00.000000000' '2018-11-17T00:00:00.000000000'\n",
      " '2018-08-18T00:00:00.000000000' '2018-07-24T00:00:00.000000000'\n",
      " '2018-06-17T00:00:00.000000000' '2018-09-16T00:00:00.000000000'\n",
      " '2018-06-07T00:00:00.000000000' '2018-09-15T00:00:00.000000000'\n",
      " '2018-10-21T00:00:00.000000000' '2018-08-01T00:00:00.000000000'\n",
      " '2018-06-11T00:00:00.000000000' '2018-07-20T00:00:00.000000000'\n",
      " '2018-12-17T00:00:00.000000000' '2018-10-03T00:00:00.000000000'\n",
      " '2018-06-08T00:00:00.000000000' '2018-12-13T00:00:00.000000000'\n",
      " '2018-11-01T00:00:00.000000000' '2018-05-31T00:00:00.000000000'\n",
      " '2018-09-03T00:00:00.000000000' '2018-08-16T00:00:00.000000000'\n",
      " '2018-07-09T00:00:00.000000000' '2018-11-27T00:00:00.000000000'\n",
      " '2018-10-16T00:00:00.000000000' '2018-11-11T00:00:00.000000000'\n",
      " '2018-07-03T00:00:00.000000000' '2018-11-14T00:00:00.000000000'\n",
      " '2018-12-09T00:00:00.000000000' '2018-08-07T00:00:00.000000000'\n",
      " '2018-10-09T00:00:00.000000000' '2018-11-25T00:00:00.000000000'\n",
      " '2018-09-27T00:00:00.000000000' '2018-06-19T00:00:00.000000000'\n",
      " '2018-08-06T00:00:00.000000000' '2018-09-25T00:00:00.000000000'\n",
      " '2018-09-12T00:00:00.000000000' '2018-11-20T00:00:00.000000000'\n",
      " '2018-12-20T00:00:00.000000000' '2018-11-13T00:00:00.000000000'\n",
      " '2018-10-10T00:00:00.000000000' '2018-09-05T00:00:00.000000000'\n",
      " '2018-10-04T00:00:00.000000000' '2018-09-10T00:00:00.000000000'\n",
      " '2018-08-19T00:00:00.000000000' '2018-05-21T00:00:00.000000000'\n",
      " '2018-06-15T00:00:00.000000000' '2018-05-14T00:00:00.000000000'\n",
      " '2018-05-16T00:00:00.000000000' '2018-05-15T00:00:00.000000000'\n",
      " '2018-07-17T00:00:00.000000000' '2018-05-24T00:00:00.000000000'\n",
      " '2018-08-11T00:00:00.000000000' '2018-05-26T00:00:00.000000000'\n",
      " '2018-07-05T00:00:00.000000000' '2018-05-17T00:00:00.000000000'\n",
      " '2018-05-19T00:00:00.000000000' '2018-06-02T00:00:00.000000000'\n",
      " '2018-05-18T00:00:00.000000000' '2018-05-23T00:00:00.000000000'\n",
      " '2018-06-21T00:00:00.000000000' '2018-05-22T00:00:00.000000000'\n",
      " '2018-05-20T00:00:00.000000000' '2018-06-06T00:00:00.000000000'\n",
      " '2018-03-03T00:00:00.000000000' '2018-04-10T00:00:00.000000000'\n",
      " '2018-02-24T00:00:00.000000000' '2018-02-08T00:00:00.000000000'\n",
      " '2018-02-25T00:00:00.000000000' '2018-04-27T00:00:00.000000000'\n",
      " '2018-03-10T00:00:00.000000000' '2018-03-25T00:00:00.000000000'\n",
      " '2018-04-15T00:00:00.000000000' '2018-03-19T00:00:00.000000000'\n",
      " '2018-03-01T00:00:00.000000000' '2018-02-15T00:00:00.000000000'\n",
      " '2018-04-05T00:00:00.000000000' '2018-02-23T00:00:00.000000000'\n",
      " '2018-05-02T00:00:00.000000000' '2018-05-07T00:00:00.000000000'\n",
      " '2018-05-13T00:00:00.000000000' '2018-03-17T00:00:00.000000000'\n",
      " '2018-03-20T00:00:00.000000000' '2018-02-20T00:00:00.000000000'\n",
      " '2018-01-25T00:00:00.000000000' '2018-04-19T00:00:00.000000000'\n",
      " '2018-02-13T00:00:00.000000000' '2018-02-26T00:00:00.000000000'\n",
      " '2018-01-26T00:00:00.000000000' '2018-03-07T00:00:00.000000000'\n",
      " '2018-04-07T00:00:00.000000000' '2018-01-28T00:00:00.000000000'\n",
      " '2018-02-28T00:00:00.000000000' '2018-02-17T00:00:00.000000000'\n",
      " '2018-03-21T00:00:00.000000000' '2018-03-15T00:00:00.000000000'\n",
      " '2018-03-13T00:00:00.000000000' '2018-04-01T00:00:00.000000000'\n",
      " '2018-03-08T00:00:00.000000000' '2018-04-04T00:00:00.000000000'\n",
      " '2018-04-12T00:00:00.000000000' '2018-03-22T00:00:00.000000000'\n",
      " '2018-04-24T00:00:00.000000000' '2018-04-06T00:00:00.000000000'\n",
      " '2018-04-08T00:00:00.000000000' '2018-03-14T00:00:00.000000000'\n",
      " '2018-03-05T00:00:00.000000000' '2018-05-04T00:00:00.000000000'\n",
      " '2018-03-02T00:00:00.000000000' '2018-02-14T00:00:00.000000000'\n",
      " '2018-04-20T00:00:00.000000000' '2018-02-19T00:00:00.000000000'\n",
      " '2018-04-21T00:00:00.000000000' '2018-03-29T00:00:00.000000000'\n",
      " '2018-05-05T00:00:00.000000000' '2018-04-14T00:00:00.000000000'\n",
      " '2018-02-09T00:00:00.000000000' '2018-02-21T00:00:00.000000000'\n",
      " '2018-04-13T00:00:00.000000000' '2018-03-16T00:00:00.000000000'\n",
      " '2018-05-12T00:00:00.000000000' '2018-04-03T00:00:00.000000000'\n",
      " '2018-03-30T00:00:00.000000000' '2018-02-10T00:00:00.000000000'\n",
      " '2018-03-24T00:00:00.000000000' '2018-03-06T00:00:00.000000000'\n",
      " '2018-02-07T00:00:00.000000000' '2018-04-22T00:00:00.000000000'\n",
      " '2018-02-03T00:00:00.000000000' '2018-03-27T00:00:00.000000000'\n",
      " '2018-05-09T00:00:00.000000000' '2018-02-16T00:00:00.000000000'\n",
      " '2018-03-04T00:00:00.000000000' '2018-04-09T00:00:00.000000000'\n",
      " '2018-03-26T00:00:00.000000000' '2018-03-09T00:00:00.000000000'\n",
      " '2018-04-26T00:00:00.000000000' '2018-05-10T00:00:00.000000000'\n",
      " '2018-04-16T00:00:00.000000000' '2018-05-08T00:00:00.000000000'\n",
      " '2018-04-25T00:00:00.000000000' '2018-02-06T00:00:00.000000000'\n",
      " '2018-04-02T00:00:00.000000000' '2018-01-29T00:00:00.000000000'\n",
      " '2018-02-02T00:00:00.000000000' '2018-02-05T00:00:00.000000000'\n",
      " '2018-04-29T00:00:00.000000000' '2018-02-22T00:00:00.000000000'\n",
      " '2018-01-27T00:00:00.000000000' '2018-02-18T00:00:00.000000000'\n",
      " '2018-04-11T00:00:00.000000000' '2018-05-01T00:00:00.000000000'\n",
      " '2018-04-23T00:00:00.000000000' '2018-04-28T00:00:00.000000000'\n",
      " '2018-05-03T00:00:00.000000000' '2018-05-11T00:00:00.000000000'\n",
      " '2018-04-17T00:00:00.000000000' '2018-03-28T00:00:00.000000000'\n",
      " '2018-04-30T00:00:00.000000000' '2018-05-06T00:00:00.000000000'\n",
      " '2018-03-23T00:00:00.000000000' '2018-04-18T00:00:00.000000000'\n",
      " '2018-03-31T00:00:00.000000000' '2018-01-23T00:00:00.000000000'\n",
      " '2018-01-04T00:00:00.000000000' '2018-01-14T00:00:00.000000000'\n",
      " '2018-01-19T00:00:00.000000000' '2018-01-30T00:00:00.000000000'\n",
      " '2018-01-11T00:00:00.000000000' '2018-03-18T00:00:00.000000000'\n",
      " '2018-01-16T00:00:00.000000000' '2018-02-01T00:00:00.000000000'\n",
      " '2018-01-18T00:00:00.000000000' '2018-01-10T00:00:00.000000000'\n",
      " '2018-01-21T00:00:00.000000000' '2018-03-11T00:00:00.000000000'\n",
      " '2018-01-09T00:00:00.000000000' '2018-02-04T00:00:00.000000000'\n",
      " '2018-01-17T00:00:00.000000000' '2018-01-15T00:00:00.000000000'\n",
      " '2018-01-12T00:00:00.000000000' '2018-01-20T00:00:00.000000000'\n",
      " '2018-01-07T00:00:00.000000000' '2018-01-05T00:00:00.000000000'\n",
      " '2018-02-11T00:00:00.000000000' '2018-03-12T00:00:00.000000000'\n",
      " '2018-01-08T00:00:00.000000000' '2018-01-31T00:00:00.000000000'\n",
      " '2018-02-27T00:00:00.000000000' '2018-02-12T00:00:00.000000000'\n",
      " '2018-01-03T00:00:00.000000000' '2018-01-02T00:00:00.000000000'\n",
      " '2018-01-22T00:00:00.000000000' '2018-01-24T00:00:00.000000000'\n",
      " '2018-01-13T00:00:00.000000000' '2018-01-06T00:00:00.000000000']\n",
      "--------------------------\n",
      "user_id\n",
      "[1000 1002 1003 1004 1005 1007 1008 1009 1011 1012 1013 1014 1015 1016\n",
      " 1018 1019 1020 1021 1022 1023 1025 1026 1027 1028 1029 1030 1031 1032\n",
      " 1033 1034 1035 1036 1037 1038 1039 1041 1042 1043 1044 1045 1046 1047\n",
      " 1048 1050 1051 1052 1054 1055 1056 1057 1058 1059 1060 1061 1062 1064\n",
      " 1065 1066 1067 1068 1069 1070 1071 1072 1073 1074 1075 1076 1077 1079\n",
      " 1080 1081 1082 1083 1084 1086 1087 1088 1089 1090 1091 1092 1093 1094\n",
      " 1096 1097 1098 1099 1100 1102 1103 1104 1105 1106 1108 1109 1110 1111\n",
      " 1112 1113 1115 1119 1121 1122 1123 1124 1125 1126 1127 1130 1131 1133\n",
      " 1134 1135 1136 1137 1138 1139 1140 1141 1142 1144 1145 1146 1147 1148\n",
      " 1149 1150 1151 1154 1155 1156 1158 1159 1160 1161 1163 1164 1165 1166\n",
      " 1167 1168 1169 1170 1171 1172 1173 1174 1176 1178 1180 1181 1182 1183\n",
      " 1184 1186 1187 1188 1189 1190 1191 1192 1193 1194 1196 1197 1198 1199\n",
      " 1200 1202 1203 1205 1206 1207 1209 1211 1212 1213 1214 1215 1216 1217\n",
      " 1218 1219 1221 1222 1223 1226 1227 1229 1230 1231 1232 1233 1234 1235\n",
      " 1236 1237 1238 1239 1241 1243 1244 1245 1246 1247 1249 1250 1251 1252\n",
      " 1253 1256 1257 1258 1259 1261 1262 1263 1264 1265 1266 1267 1268 1269\n",
      " 1270 1271 1272 1273 1274 1275 1276 1277 1278 1279 1280 1281 1282 1283\n",
      " 1284 1285 1286 1287 1288 1289 1293 1294 1295 1296 1298 1299 1300 1302\n",
      " 1303 1304 1307 1308 1309 1310 1311 1312 1313 1314 1315 1316 1317 1318\n",
      " 1319 1320 1321 1323 1324 1325 1326 1327 1328 1329 1330 1331 1332 1333\n",
      " 1335 1336 1337 1338 1340 1341 1342 1343 1344 1345 1346 1347 1348 1349\n",
      " 1350 1351 1352 1353 1354 1355 1356 1357 1358 1359 1361 1362 1364 1365\n",
      " 1366 1368 1369 1372 1373 1374 1375 1377 1378 1379 1380 1381 1382 1383\n",
      " 1384 1385 1386 1387 1389 1390 1391 1392 1393 1394 1395 1396 1398 1399\n",
      " 1400 1401 1402 1403 1404 1405 1406 1407 1408 1409 1410 1411 1412 1413\n",
      " 1414 1415 1416 1417 1418 1419 1420 1421 1422 1423 1424 1425 1426 1427\n",
      " 1430 1431 1432 1433 1434 1436 1437 1438 1439 1440 1441 1443 1444 1445\n",
      " 1446 1447 1448 1449 1450 1451 1452 1453 1454 1455 1457 1458 1459 1460\n",
      " 1461 1463 1464 1465 1467 1468 1470 1471 1472 1473 1474 1475 1476 1477\n",
      " 1478 1480 1481 1482 1483 1484 1485 1486 1487 1488 1489 1490 1491 1492\n",
      " 1493 1495 1496 1497 1498 1499]\n",
      "--------------------------\n"
     ]
    }
   ],
   "source": [
    "unique (messages_df)"
   ]
  },
  {
   "cell_type": "code",
   "execution_count": 22,
   "id": "c82e4c51",
   "metadata": {},
   "outputs": [
    {
     "name": "stdout",
     "output_type": "stream",
     "text": [
      "id\n",
      "['1000_0' '1000_1' '1000_2' ... '1499_154' '1499_155' '1499_156']\n",
      "--------------------------\n",
      "gb_used\n",
      "[0.11030273 1.02813477 1.16919922 ... 0.44995117 0.24178711 0.02316406]\n",
      "--------------------------\n",
      "session_date\n",
      "['2018-11-25T00:00:00.000000000' '2018-09-07T00:00:00.000000000'\n",
      " '2018-06-25T00:00:00.000000000' '2018-08-22T00:00:00.000000000'\n",
      " '2018-09-24T00:00:00.000000000' '2018-10-02T00:00:00.000000000'\n",
      " '2018-07-11T00:00:00.000000000' '2018-10-08T00:00:00.000000000'\n",
      " '2018-09-03T00:00:00.000000000' '2018-09-27T00:00:00.000000000'\n",
      " '2018-08-28T00:00:00.000000000' '2018-06-20T00:00:00.000000000'\n",
      " '2018-08-09T00:00:00.000000000' '2018-08-11T00:00:00.000000000'\n",
      " '2018-07-21T00:00:00.000000000' '2018-06-09T00:00:00.000000000'\n",
      " '2018-06-03T00:00:00.000000000' '2018-11-01T00:00:00.000000000'\n",
      " '2018-11-28T00:00:00.000000000' '2018-08-20T00:00:00.000000000'\n",
      " '2018-12-06T00:00:00.000000000' '2018-07-02T00:00:00.000000000'\n",
      " '2018-10-19T00:00:00.000000000' '2018-10-30T00:00:00.000000000'\n",
      " '2018-06-17T00:00:00.000000000' '2018-11-06T00:00:00.000000000'\n",
      " '2018-09-14T00:00:00.000000000' '2018-11-15T00:00:00.000000000'\n",
      " '2018-08-26T00:00:00.000000000' '2018-10-15T00:00:00.000000000'\n",
      " '2018-11-27T00:00:00.000000000' '2018-10-17T00:00:00.000000000'\n",
      " '2018-10-07T00:00:00.000000000' '2018-08-05T00:00:00.000000000'\n",
      " '2018-07-06T00:00:00.000000000' '2018-10-03T00:00:00.000000000'\n",
      " '2018-11-02T00:00:00.000000000' '2018-06-30T00:00:00.000000000'\n",
      " '2018-11-17T00:00:00.000000000' '2018-06-06T00:00:00.000000000'\n",
      " '2018-11-20T00:00:00.000000000' '2018-05-31T00:00:00.000000000'\n",
      " '2018-10-29T00:00:00.000000000' '2018-12-10T00:00:00.000000000'\n",
      " '2018-07-04T00:00:00.000000000' '2018-12-28T00:00:00.000000000'\n",
      " '2018-05-28T00:00:00.000000000' '2018-09-15T00:00:00.000000000'\n",
      " '2018-09-09T00:00:00.000000000' '2018-09-17T00:00:00.000000000'\n",
      " '2018-09-01T00:00:00.000000000' '2018-11-03T00:00:00.000000000'\n",
      " '2018-11-04T00:00:00.000000000' '2018-06-16T00:00:00.000000000'\n",
      " '2018-12-07T00:00:00.000000000' '2018-08-25T00:00:00.000000000'\n",
      " '2018-06-15T00:00:00.000000000' '2018-06-26T00:00:00.000000000'\n",
      " '2018-10-06T00:00:00.000000000' '2018-12-01T00:00:00.000000000'\n",
      " '2018-10-14T00:00:00.000000000' '2018-06-07T00:00:00.000000000'\n",
      " '2018-12-15T00:00:00.000000000' '2018-10-04T00:00:00.000000000'\n",
      " '2018-08-13T00:00:00.000000000' '2018-07-10T00:00:00.000000000'\n",
      " '2018-07-07T00:00:00.000000000' '2018-08-17T00:00:00.000000000'\n",
      " '2018-06-28T00:00:00.000000000' '2018-08-07T00:00:00.000000000'\n",
      " '2018-06-29T00:00:00.000000000' '2018-07-13T00:00:00.000000000'\n",
      " '2018-07-27T00:00:00.000000000' '2018-11-30T00:00:00.000000000'\n",
      " '2018-07-26T00:00:00.000000000' '2018-05-26T00:00:00.000000000'\n",
      " '2018-11-16T00:00:00.000000000' '2018-11-13T00:00:00.000000000'\n",
      " '2018-11-11T00:00:00.000000000' '2018-12-18T00:00:00.000000000'\n",
      " '2018-06-18T00:00:00.000000000' '2018-12-02T00:00:00.000000000'\n",
      " '2018-06-14T00:00:00.000000000' '2018-12-25T00:00:00.000000000'\n",
      " '2018-06-24T00:00:00.000000000' '2018-12-05T00:00:00.000000000'\n",
      " '2018-06-10T00:00:00.000000000' '2018-10-16T00:00:00.000000000'\n",
      " '2018-10-21T00:00:00.000000000' '2018-07-09T00:00:00.000000000'\n",
      " '2018-07-17T00:00:00.000000000' '2018-08-04T00:00:00.000000000'\n",
      " '2018-06-01T00:00:00.000000000' '2018-06-13T00:00:00.000000000'\n",
      " '2018-06-27T00:00:00.000000000' '2018-11-14T00:00:00.000000000'\n",
      " '2018-06-19T00:00:00.000000000' '2018-12-29T00:00:00.000000000'\n",
      " '2018-07-08T00:00:00.000000000' '2018-11-23T00:00:00.000000000'\n",
      " '2018-07-25T00:00:00.000000000' '2018-06-21T00:00:00.000000000'\n",
      " '2018-07-23T00:00:00.000000000' '2018-08-31T00:00:00.000000000'\n",
      " '2018-09-08T00:00:00.000000000' '2018-07-14T00:00:00.000000000'\n",
      " '2018-07-29T00:00:00.000000000' '2018-06-05T00:00:00.000000000'\n",
      " '2018-12-21T00:00:00.000000000' '2018-12-24T00:00:00.000000000'\n",
      " '2018-09-19T00:00:00.000000000' '2018-12-19T00:00:00.000000000'\n",
      " '2018-09-06T00:00:00.000000000' '2018-10-13T00:00:00.000000000'\n",
      " '2018-09-04T00:00:00.000000000' '2018-09-30T00:00:00.000000000'\n",
      " '2018-07-28T00:00:00.000000000' '2018-10-22T00:00:00.000000000'\n",
      " '2018-08-02T00:00:00.000000000' '2018-11-07T00:00:00.000000000'\n",
      " '2018-11-08T00:00:00.000000000' '2018-08-21T00:00:00.000000000'\n",
      " '2018-08-30T00:00:00.000000000' '2018-07-31T00:00:00.000000000'\n",
      " '2018-12-30T00:00:00.000000000' '2018-06-08T00:00:00.000000000'\n",
      " '2018-12-03T00:00:00.000000000' '2018-09-16T00:00:00.000000000'\n",
      " '2018-09-26T00:00:00.000000000' '2018-08-27T00:00:00.000000000'\n",
      " '2018-06-23T00:00:00.000000000' '2018-08-14T00:00:00.000000000'\n",
      " '2018-12-16T00:00:00.000000000' '2018-11-22T00:00:00.000000000'\n",
      " '2018-11-18T00:00:00.000000000' '2018-12-08T00:00:00.000000000'\n",
      " '2018-11-29T00:00:00.000000000' '2018-12-13T00:00:00.000000000'\n",
      " '2018-12-26T00:00:00.000000000' '2018-11-26T00:00:00.000000000'\n",
      " '2018-12-09T00:00:00.000000000' '2018-11-09T00:00:00.000000000'\n",
      " '2018-12-04T00:00:00.000000000' '2018-11-19T00:00:00.000000000'\n",
      " '2018-11-12T00:00:00.000000000' '2018-12-20T00:00:00.000000000'\n",
      " '2018-11-21T00:00:00.000000000' '2018-12-22T00:00:00.000000000'\n",
      " '2018-12-23T00:00:00.000000000' '2018-08-24T00:00:00.000000000'\n",
      " '2018-12-17T00:00:00.000000000' '2018-10-23T00:00:00.000000000'\n",
      " '2018-09-12T00:00:00.000000000' '2018-10-25T00:00:00.000000000'\n",
      " '2018-09-10T00:00:00.000000000' '2018-12-27T00:00:00.000000000'\n",
      " '2018-09-11T00:00:00.000000000' '2018-09-20T00:00:00.000000000'\n",
      " '2018-08-06T00:00:00.000000000' '2018-11-24T00:00:00.000000000'\n",
      " '2018-07-15T00:00:00.000000000' '2018-12-31T00:00:00.000000000'\n",
      " '2018-07-18T00:00:00.000000000' '2018-07-30T00:00:00.000000000'\n",
      " '2018-12-11T00:00:00.000000000' '2018-10-24T00:00:00.000000000'\n",
      " '2018-08-29T00:00:00.000000000' '2018-06-22T00:00:00.000000000'\n",
      " '2018-07-24T00:00:00.000000000' '2018-09-05T00:00:00.000000000'\n",
      " '2018-08-01T00:00:00.000000000' '2018-07-22T00:00:00.000000000'\n",
      " '2018-10-01T00:00:00.000000000' '2018-09-23T00:00:00.000000000'\n",
      " '2018-09-13T00:00:00.000000000' '2018-08-23T00:00:00.000000000'\n",
      " '2018-07-03T00:00:00.000000000' '2018-11-10T00:00:00.000000000'\n",
      " '2018-08-12T00:00:00.000000000' '2018-09-22T00:00:00.000000000'\n",
      " '2018-07-20T00:00:00.000000000' '2018-10-09T00:00:00.000000000'\n",
      " '2018-07-12T00:00:00.000000000' '2018-10-20T00:00:00.000000000'\n",
      " '2018-10-11T00:00:00.000000000' '2018-10-05T00:00:00.000000000'\n",
      " '2018-08-08T00:00:00.000000000' '2018-09-29T00:00:00.000000000'\n",
      " '2018-08-15T00:00:00.000000000' '2018-09-21T00:00:00.000000000'\n",
      " '2018-07-16T00:00:00.000000000' '2018-09-25T00:00:00.000000000'\n",
      " '2018-08-03T00:00:00.000000000' '2018-10-26T00:00:00.000000000'\n",
      " '2018-09-02T00:00:00.000000000' '2018-09-28T00:00:00.000000000'\n",
      " '2018-10-18T00:00:00.000000000' '2018-10-27T00:00:00.000000000'\n",
      " '2018-07-01T00:00:00.000000000' '2018-12-12T00:00:00.000000000'\n",
      " '2018-12-14T00:00:00.000000000' '2018-08-10T00:00:00.000000000'\n",
      " '2018-08-16T00:00:00.000000000' '2018-08-18T00:00:00.000000000'\n",
      " '2018-10-31T00:00:00.000000000' '2018-10-28T00:00:00.000000000'\n",
      " '2018-10-10T00:00:00.000000000' '2018-10-12T00:00:00.000000000'\n",
      " '2018-06-11T00:00:00.000000000' '2018-05-27T00:00:00.000000000'\n",
      " '2018-06-02T00:00:00.000000000' '2018-08-19T00:00:00.000000000'\n",
      " '2018-05-18T00:00:00.000000000' '2018-05-15T00:00:00.000000000'\n",
      " '2018-05-16T00:00:00.000000000' '2018-05-14T00:00:00.000000000'\n",
      " '2018-06-12T00:00:00.000000000' '2018-09-18T00:00:00.000000000'\n",
      " '2018-05-20T00:00:00.000000000' '2018-05-19T00:00:00.000000000'\n",
      " '2018-06-04T00:00:00.000000000' '2018-05-23T00:00:00.000000000'\n",
      " '2018-05-30T00:00:00.000000000' '2018-05-21T00:00:00.000000000'\n",
      " '2018-07-05T00:00:00.000000000' '2018-05-22T00:00:00.000000000'\n",
      " '2018-07-19T00:00:00.000000000' '2018-02-09T00:00:00.000000000'\n",
      " '2018-03-10T00:00:00.000000000' '2018-04-12T00:00:00.000000000'\n",
      " '2018-03-30T00:00:00.000000000' '2018-03-15T00:00:00.000000000'\n",
      " '2018-01-28T00:00:00.000000000' '2018-04-03T00:00:00.000000000'\n",
      " '2018-03-09T00:00:00.000000000' '2018-03-06T00:00:00.000000000'\n",
      " '2018-02-24T00:00:00.000000000' '2018-04-26T00:00:00.000000000'\n",
      " '2018-03-05T00:00:00.000000000' '2018-05-12T00:00:00.000000000'\n",
      " '2018-04-21T00:00:00.000000000' '2018-04-24T00:00:00.000000000'\n",
      " '2018-03-02T00:00:00.000000000' '2018-02-16T00:00:00.000000000'\n",
      " '2018-05-03T00:00:00.000000000' '2018-03-07T00:00:00.000000000'\n",
      " '2018-02-20T00:00:00.000000000' '2018-03-19T00:00:00.000000000'\n",
      " '2018-01-30T00:00:00.000000000' '2018-05-09T00:00:00.000000000'\n",
      " '2018-02-07T00:00:00.000000000' '2018-03-12T00:00:00.000000000'\n",
      " '2018-11-05T00:00:00.000000000' '2018-04-01T00:00:00.000000000'\n",
      " '2018-04-07T00:00:00.000000000' '2018-01-29T00:00:00.000000000'\n",
      " '2018-03-16T00:00:00.000000000' '2018-03-14T00:00:00.000000000'\n",
      " '2018-02-01T00:00:00.000000000' '2018-04-29T00:00:00.000000000'\n",
      " '2018-02-02T00:00:00.000000000' '2018-04-30T00:00:00.000000000'\n",
      " '2018-03-17T00:00:00.000000000' '2018-04-17T00:00:00.000000000'\n",
      " '2018-05-29T00:00:00.000000000' '2018-02-27T00:00:00.000000000'\n",
      " '2018-03-26T00:00:00.000000000' '2018-04-08T00:00:00.000000000'\n",
      " '2018-04-02T00:00:00.000000000' '2018-02-18T00:00:00.000000000'\n",
      " '2018-01-27T00:00:00.000000000' '2018-05-01T00:00:00.000000000'\n",
      " '2018-02-11T00:00:00.000000000' '2018-04-19T00:00:00.000000000'\n",
      " '2018-04-25T00:00:00.000000000' '2018-02-13T00:00:00.000000000'\n",
      " '2018-02-21T00:00:00.000000000' '2018-02-04T00:00:00.000000000'\n",
      " '2018-03-28T00:00:00.000000000' '2018-03-21T00:00:00.000000000'\n",
      " '2018-04-11T00:00:00.000000000' '2018-03-31T00:00:00.000000000'\n",
      " '2018-05-07T00:00:00.000000000' '2018-02-17T00:00:00.000000000'\n",
      " '2018-03-04T00:00:00.000000000' '2018-02-12T00:00:00.000000000'\n",
      " '2018-02-14T00:00:00.000000000' '2018-05-10T00:00:00.000000000'\n",
      " '2018-03-23T00:00:00.000000000' '2018-03-22T00:00:00.000000000'\n",
      " '2018-04-09T00:00:00.000000000' '2018-05-25T00:00:00.000000000'\n",
      " '2018-04-22T00:00:00.000000000' '2018-04-05T00:00:00.000000000'\n",
      " '2018-04-23T00:00:00.000000000' '2018-04-14T00:00:00.000000000'\n",
      " '2018-04-13T00:00:00.000000000' '2018-05-04T00:00:00.000000000'\n",
      " '2018-04-20T00:00:00.000000000' '2018-03-13T00:00:00.000000000'\n",
      " '2018-04-28T00:00:00.000000000' '2018-05-08T00:00:00.000000000'\n",
      " '2018-03-27T00:00:00.000000000' '2018-03-01T00:00:00.000000000'\n",
      " '2018-05-02T00:00:00.000000000' '2018-04-18T00:00:00.000000000'\n",
      " '2018-02-26T00:00:00.000000000' '2018-05-24T00:00:00.000000000'\n",
      " '2018-04-16T00:00:00.000000000' '2018-05-13T00:00:00.000000000'\n",
      " '2018-05-06T00:00:00.000000000' '2018-03-18T00:00:00.000000000'\n",
      " '2018-03-24T00:00:00.000000000' '2018-02-28T00:00:00.000000000'\n",
      " '2018-04-15T00:00:00.000000000' '2018-05-11T00:00:00.000000000'\n",
      " '2018-04-06T00:00:00.000000000' '2018-03-25T00:00:00.000000000'\n",
      " '2018-05-17T00:00:00.000000000' '2018-05-05T00:00:00.000000000'\n",
      " '2018-04-04T00:00:00.000000000' '2018-03-03T00:00:00.000000000'\n",
      " '2018-04-27T00:00:00.000000000' '2018-03-29T00:00:00.000000000'\n",
      " '2018-04-10T00:00:00.000000000' '2018-03-20T00:00:00.000000000'\n",
      " '2018-01-13T00:00:00.000000000' '2018-01-19T00:00:00.000000000'\n",
      " '2018-01-23T00:00:00.000000000' '2018-01-20T00:00:00.000000000'\n",
      " '2018-01-12T00:00:00.000000000' '2018-02-23T00:00:00.000000000'\n",
      " '2018-01-05T00:00:00.000000000' '2018-01-21T00:00:00.000000000'\n",
      " '2018-01-31T00:00:00.000000000' '2018-01-10T00:00:00.000000000'\n",
      " '2018-02-10T00:00:00.000000000' '2018-01-15T00:00:00.000000000'\n",
      " '2018-01-09T00:00:00.000000000' '2018-03-08T00:00:00.000000000'\n",
      " '2018-01-18T00:00:00.000000000' '2018-02-19T00:00:00.000000000'\n",
      " '2018-02-25T00:00:00.000000000' '2018-03-11T00:00:00.000000000'\n",
      " '2018-01-25T00:00:00.000000000' '2018-02-08T00:00:00.000000000'\n",
      " '2018-01-22T00:00:00.000000000' '2018-02-06T00:00:00.000000000'\n",
      " '2018-02-05T00:00:00.000000000' '2018-01-06T00:00:00.000000000'\n",
      " '2018-01-08T00:00:00.000000000' '2018-01-17T00:00:00.000000000'\n",
      " '2018-01-11T00:00:00.000000000' '2018-01-04T00:00:00.000000000'\n",
      " '2018-01-24T00:00:00.000000000' '2018-01-26T00:00:00.000000000'\n",
      " '2018-01-16T00:00:00.000000000' '2018-02-15T00:00:00.000000000'\n",
      " '2018-02-22T00:00:00.000000000' '2018-02-03T00:00:00.000000000'\n",
      " '2018-01-03T00:00:00.000000000' '2018-01-14T00:00:00.000000000'\n",
      " '2018-01-02T00:00:00.000000000' '2018-01-07T00:00:00.000000000'\n",
      " '2018-01-01T00:00:00.000000000']\n",
      "--------------------------\n",
      "user_id\n",
      "[1000 1001 1002 1003 1004 1005 1006 1007 1008 1009 1010 1011 1012 1013\n",
      " 1014 1015 1016 1017 1018 1019 1020 1021 1022 1023 1024 1025 1026 1027\n",
      " 1028 1029 1030 1031 1032 1033 1034 1035 1036 1037 1038 1039 1040 1041\n",
      " 1042 1043 1044 1045 1046 1047 1048 1049 1050 1051 1052 1053 1054 1055\n",
      " 1056 1057 1058 1059 1060 1061 1062 1063 1064 1065 1066 1067 1068 1069\n",
      " 1070 1071 1072 1073 1074 1075 1076 1077 1078 1079 1080 1081 1082 1083\n",
      " 1084 1085 1086 1087 1088 1089 1090 1091 1092 1093 1094 1095 1096 1097\n",
      " 1098 1099 1100 1101 1102 1103 1104 1105 1106 1107 1108 1109 1110 1111\n",
      " 1112 1113 1114 1115 1116 1117 1118 1119 1120 1121 1122 1123 1124 1125\n",
      " 1126 1127 1129 1130 1131 1132 1133 1134 1135 1136 1137 1138 1139 1140\n",
      " 1141 1142 1143 1144 1145 1146 1147 1148 1149 1150 1151 1152 1153 1154\n",
      " 1155 1156 1157 1158 1159 1160 1161 1162 1163 1164 1165 1166 1167 1168\n",
      " 1169 1170 1171 1172 1173 1174 1175 1176 1177 1178 1179 1180 1181 1182\n",
      " 1183 1184 1185 1186 1187 1188 1189 1190 1191 1192 1193 1194 1195 1196\n",
      " 1197 1198 1199 1200 1201 1202 1203 1204 1205 1206 1207 1208 1209 1210\n",
      " 1211 1212 1213 1214 1215 1216 1217 1218 1219 1220 1221 1222 1223 1224\n",
      " 1225 1226 1227 1228 1229 1230 1231 1232 1233 1234 1235 1236 1237 1238\n",
      " 1239 1240 1241 1242 1243 1244 1245 1246 1247 1248 1249 1250 1251 1252\n",
      " 1253 1254 1255 1256 1257 1258 1259 1260 1261 1262 1263 1264 1265 1266\n",
      " 1267 1268 1269 1270 1271 1272 1274 1275 1276 1277 1278 1279 1280 1281\n",
      " 1282 1283 1284 1285 1286 1287 1288 1289 1290 1291 1292 1293 1294 1295\n",
      " 1296 1297 1298 1299 1300 1301 1302 1303 1304 1305 1306 1307 1308 1309\n",
      " 1310 1311 1312 1313 1314 1315 1316 1317 1318 1319 1320 1321 1322 1323\n",
      " 1324 1325 1326 1327 1328 1329 1330 1331 1332 1333 1334 1335 1336 1337\n",
      " 1338 1339 1340 1341 1342 1343 1344 1345 1346 1347 1348 1349 1350 1351\n",
      " 1352 1353 1354 1355 1356 1357 1358 1359 1360 1361 1362 1363 1364 1365\n",
      " 1366 1367 1368 1369 1370 1372 1373 1374 1375 1376 1377 1378 1379 1380\n",
      " 1381 1382 1383 1384 1385 1386 1387 1388 1389 1390 1391 1392 1393 1394\n",
      " 1395 1396 1397 1398 1399 1400 1401 1402 1403 1404 1405 1406 1407 1408\n",
      " 1409 1410 1411 1412 1413 1414 1415 1416 1417 1418 1419 1420 1421 1422\n",
      " 1423 1424 1425 1426 1427 1428 1429 1430 1431 1432 1433 1434 1435 1436\n",
      " 1437 1438 1439 1440 1441 1442 1443 1444 1445 1446 1447 1448 1449 1450\n",
      " 1451 1452 1453 1454 1455 1456 1457 1458 1459 1460 1461 1462 1463 1464\n",
      " 1465 1466 1467 1468 1469 1470 1471 1472 1473 1474 1475 1476 1477 1478\n",
      " 1479 1480 1481 1482 1483 1484 1485 1486 1487 1488 1489 1490 1491 1492\n",
      " 1493 1494 1495 1496 1497 1498 1499]\n",
      "--------------------------\n"
     ]
    }
   ],
   "source": [
    "unique (internet_df)"
   ]
  },
  {
   "cell_type": "markdown",
   "id": "fb27e844",
   "metadata": {},
   "source": [
    "Никаких других аномалий больше не обнаружено. Безыменянный столбец был удален: в ячейке с записью переменной internet_df был добавлен параметр index_col=0."
   ]
  },
  {
   "cell_type": "markdown",
   "id": "6630cd4e",
   "metadata": {},
   "source": [
    "## Анализ данных ##"
   ]
  },
  {
   "cell_type": "markdown",
   "id": "5cf87863",
   "metadata": {},
   "source": [
    "Нужно посчитать для каждого пользователя:\n",
    "* количество сделанных звонков и израсходованных минут разговора по месяцам;\n",
    "* количество отправленных сообщений по месяцам;\n",
    "* объем израсходованного интернет-трафика по месяцам;\n",
    "* помесячную выручку с каждого пользователя.\n",
    "\n",
    "Необходимо узнать, сколько минут разговора, сколько сообщений и какой объём интернет-трафика требуется пользователям каждого тарифа в месяц. Затем посчитать среднее количество, дисперсию и стандартное отклонение, визуализировать полученную информацию с помощью гистограмм и описать распределения.\n",
    "\n",
    "Для этого разделим наши таблицы на пользователей тарифа \"Смарт\" и \"Ультра\", и для проверки гипотезы в будущем, на пользователей Москвы и других городов."
   ]
  },
  {
   "cell_type": "markdown",
   "id": "74bf678e",
   "metadata": {},
   "source": [
    "Для начала добавим в таблицы calls_df, messages_df и internet_df столбец с месяцем, чтобы можно было сгруппировать таблицы по пользователю и узнать, сколько тот тратит в месяц, и как часто траты выходят за лимиты тарифа."
   ]
  },
  {
   "cell_type": "code",
   "execution_count": 23,
   "id": "f178ecac",
   "metadata": {},
   "outputs": [],
   "source": [
    "calls_df['month'] = calls_df['call_date'].dt.month\n",
    "messages_df['month'] = messages_df['message_date'].dt.month\n",
    "internet_df['month'] = internet_df['session_date'].dt.month"
   ]
  },
  {
   "cell_type": "code",
   "execution_count": 24,
   "id": "b6e16444",
   "metadata": {},
   "outputs": [],
   "source": [
    "smart_users = users_df[users_df['tariff_name'] == 'smart']['user_id']\n",
    "ultra_users = users_df[users_df['tariff_name'] == 'ultra']['user_id']\n",
    "\n",
    "moscow_users = users_df[users_df['city'] == 'Москва']['user_id']\n",
    "other_users = users_df[users_df['city'] != 'Москва']['user_id']"
   ]
  },
  {
   "cell_type": "code",
   "execution_count": 25,
   "id": "e7d94199",
   "metadata": {},
   "outputs": [],
   "source": [
    "calls_df_smart = calls_df.query ('user_id in @smart_users')\n",
    "calls_df_ultra = calls_df.query ('user_id in @ultra_users')\n",
    "messages_df_smart = messages_df.query ('user_id in @smart_users')\n",
    "messages_df_ultra = messages_df.query ('user_id in @ultra_users')\n",
    "internet_df_smart = internet_df.query ('user_id in @smart_users')\n",
    "internet_df_ultra = internet_df.query ('user_id in @ultra_users')\n",
    "\n",
    "calls_df_moscow = calls_df.query ('user_id in @moscow_users')\n",
    "calls_df_other = calls_df.query ('user_id in @other_users')\n",
    "messages_df_moscow = messages_df.query ('user_id in @moscow_users')\n",
    "messages_df_other = messages_df.query ('user_id in @other_users')\n",
    "internet_df_moscow = internet_df.query ('user_id in @moscow_users')\n",
    "internet_df_other = internet_df.query ('user_id in @other_users')"
   ]
  },
  {
   "cell_type": "markdown",
   "id": "032253ab",
   "metadata": {},
   "source": [
    "Теперь сгруппируем таблицы по столбцам user_id и month (необходимо для расчетов) и объединим их, чтобы было удобнее работать с данными, в одной таблице."
   ]
  },
  {
   "cell_type": "code",
   "execution_count": 26,
   "id": "feb969b9",
   "metadata": {},
   "outputs": [],
   "source": [
    "calls_df_grouped = calls_df.pivot_table(index = ['user_id','month'], values = 'duration', aggfunc = ('sum', 'count'))\n",
    "messages_df_grouped = messages_df.pivot_table(index = ['user_id','month'], values = 'id', aggfunc = 'count')\n",
    "internet_df_grouped = internet_df.pivot_table(index = ['user_id','month'], values = 'gb_used', aggfunc = 'sum')\n",
    "\n",
    "calls_df_smart_grouped = calls_df_smart.pivot_table(index = ['user_id','month'], values = 'duration', aggfunc = ('sum', 'count'))\n",
    "messages_df_smart_grouped = messages_df_smart.pivot_table(index = ['user_id','month'], values = 'id', aggfunc = 'count')\n",
    "internet_df_smart_grouped = internet_df_smart.pivot_table(index = ['user_id','month'], values = 'gb_used', aggfunc = 'sum')\n",
    "\n",
    "calls_df_ultra_grouped = calls_df_ultra.pivot_table(index = ['user_id','month'], values = 'duration', aggfunc = ('sum', 'count'))\n",
    "messages_df_ultra_grouped = messages_df_ultra.pivot_table(index = ['user_id','month'], values = 'id', aggfunc = 'count')\n",
    "internet_df_ultra_grouped = internet_df_ultra.pivot_table(index = ['user_id','month'], values = 'gb_used', aggfunc = 'sum')\n",
    "\n",
    "calls_df_moscow_grouped = calls_df_moscow.pivot_table(index = ['user_id','month'], values = 'duration', aggfunc = ('sum', 'count'))\n",
    "messages_df_moscow_grouped = messages_df_moscow.pivot_table(index = ['user_id','month'], values = 'id', aggfunc = 'count')\n",
    "internet_df_moscow_grouped = internet_df_moscow.pivot_table(index = ['user_id','month'], values = 'gb_used', aggfunc = 'sum')\n",
    "\n",
    "calls_df_other_grouped = calls_df_other.pivot_table(index = ['user_id','month'], values = 'duration', aggfunc = ('sum', 'count'))\n",
    "messages_df_other_grouped = messages_df_other.pivot_table(index = ['user_id','month'], values = 'id', aggfunc = 'count')\n",
    "internet_df_other_grouped = internet_df_other.pivot_table(index = ['user_id','month'], values = 'gb_used', aggfunc = 'sum')\n"
   ]
  },
  {
   "cell_type": "code",
   "execution_count": 27,
   "id": "8c0c76af",
   "metadata": {},
   "outputs": [
    {
     "data": {
      "text/html": [
       "<div>\n",
       "<style scoped>\n",
       "    .dataframe tbody tr th:only-of-type {\n",
       "        vertical-align: middle;\n",
       "    }\n",
       "\n",
       "    .dataframe tbody tr th {\n",
       "        vertical-align: top;\n",
       "    }\n",
       "\n",
       "    .dataframe thead th {\n",
       "        text-align: right;\n",
       "    }\n",
       "</style>\n",
       "<table border=\"1\" class=\"dataframe\">\n",
       "  <thead>\n",
       "    <tr style=\"text-align: right;\">\n",
       "      <th></th>\n",
       "      <th>user_id</th>\n",
       "      <th>age</th>\n",
       "      <th>churn_date</th>\n",
       "      <th>city</th>\n",
       "      <th>first_name</th>\n",
       "      <th>last_name</th>\n",
       "      <th>reg_date</th>\n",
       "      <th>tariff_name</th>\n",
       "    </tr>\n",
       "  </thead>\n",
       "  <tbody>\n",
       "    <tr>\n",
       "      <th>128</th>\n",
       "      <td>1128</td>\n",
       "      <td>51</td>\n",
       "      <td>2018-12-23</td>\n",
       "      <td>Волжский</td>\n",
       "      <td>Ксения</td>\n",
       "      <td>Агаева</td>\n",
       "      <td>2018-12-15</td>\n",
       "      <td>ultra</td>\n",
       "    </tr>\n",
       "    <tr>\n",
       "      <th>371</th>\n",
       "      <td>1371</td>\n",
       "      <td>50</td>\n",
       "      <td>2018-12-30</td>\n",
       "      <td>Омск</td>\n",
       "      <td>Ириней</td>\n",
       "      <td>Трофимов</td>\n",
       "      <td>2018-12-25</td>\n",
       "      <td>smart</td>\n",
       "    </tr>\n",
       "  </tbody>\n",
       "</table>\n",
       "</div>"
      ],
      "text/plain": [
       "     user_id  age churn_date      city first_name last_name   reg_date  \\\n",
       "128     1128   51 2018-12-23  Волжский     Ксения    Агаева 2018-12-15   \n",
       "371     1371   50 2018-12-30      Омск     Ириней  Трофимов 2018-12-25   \n",
       "\n",
       "    tariff_name  \n",
       "128       ultra  \n",
       "371       smart  "
      ]
     },
     "execution_count": 27,
     "metadata": {},
     "output_type": "execute_result"
    }
   ],
   "source": [
    "users_df.loc[(users_df['user_id'] == 1128) | (users_df['user_id'] == 1371)]"
   ]
  },
  {
   "cell_type": "code",
   "execution_count": 28,
   "id": "7b765609",
   "metadata": {},
   "outputs": [],
   "source": [
    "without_service = {'user_id': [1128, 1371], 'month': [12, 12], 'calls_count': [0, 0], 'duration_sum': [0, 0], 'messages_count': [0, 0], 'gb_used': [0, 0]}\n",
    "\n",
    "without_service_df = pd.DataFrame(data=without_service)"
   ]
  },
  {
   "cell_type": "code",
   "execution_count": 29,
   "id": "e746306f",
   "metadata": {},
   "outputs": [],
   "source": [
    "without_service_df_grouped = without_service_df.pivot_table(index = ['user_id','month'], values = ['calls_count', 'duration_sum', 'messages_count', 'gb_used'], aggfunc = 'sum')"
   ]
  },
  {
   "cell_type": "code",
   "execution_count": 30,
   "id": "881b3fd0",
   "metadata": {},
   "outputs": [
    {
     "data": {
      "text/html": [
       "<div>\n",
       "<style scoped>\n",
       "    .dataframe tbody tr th:only-of-type {\n",
       "        vertical-align: middle;\n",
       "    }\n",
       "\n",
       "    .dataframe tbody tr th {\n",
       "        vertical-align: top;\n",
       "    }\n",
       "\n",
       "    .dataframe thead th {\n",
       "        text-align: right;\n",
       "    }\n",
       "</style>\n",
       "<table border=\"1\" class=\"dataframe\">\n",
       "  <thead>\n",
       "    <tr style=\"text-align: right;\">\n",
       "      <th></th>\n",
       "      <th></th>\n",
       "      <th>calls_count</th>\n",
       "      <th>duration_sum</th>\n",
       "      <th>gb_used</th>\n",
       "      <th>messages_count</th>\n",
       "    </tr>\n",
       "    <tr>\n",
       "      <th>user_id</th>\n",
       "      <th>month</th>\n",
       "      <th></th>\n",
       "      <th></th>\n",
       "      <th></th>\n",
       "      <th></th>\n",
       "    </tr>\n",
       "  </thead>\n",
       "  <tbody>\n",
       "    <tr>\n",
       "      <th>1128</th>\n",
       "      <th>12</th>\n",
       "      <td>0</td>\n",
       "      <td>0</td>\n",
       "      <td>0</td>\n",
       "      <td>0</td>\n",
       "    </tr>\n",
       "    <tr>\n",
       "      <th>1371</th>\n",
       "      <th>12</th>\n",
       "      <td>0</td>\n",
       "      <td>0</td>\n",
       "      <td>0</td>\n",
       "      <td>0</td>\n",
       "    </tr>\n",
       "  </tbody>\n",
       "</table>\n",
       "</div>"
      ],
      "text/plain": [
       "               calls_count  duration_sum  gb_used  messages_count\n",
       "user_id month                                                    \n",
       "1128    12               0             0        0               0\n",
       "1371    12               0             0        0               0"
      ]
     },
     "metadata": {},
     "output_type": "display_data"
    }
   ],
   "source": [
    "display(without_service_df_grouped)"
   ]
  },
  {
   "cell_type": "markdown",
   "id": "e9a9cb1b",
   "metadata": {},
   "source": [
    "Также после объединения зададим удобные названия для столбцов."
   ]
  },
  {
   "cell_type": "code",
   "execution_count": 31,
   "id": "746297b6",
   "metadata": {},
   "outputs": [
    {
     "data": {
      "text/plain": [
       "498"
      ]
     },
     "execution_count": 31,
     "metadata": {},
     "output_type": "execute_result"
    }
   ],
   "source": [
    "general_df = calls_df_grouped.join( [messages_df_grouped, internet_df_grouped], how='outer').fillna(0)\n",
    "general_df.columns = [['calls_count', 'duration_sum', 'messages_count', 'gb_used']]\n",
    "general_df_moscow = calls_df_moscow_grouped.join([messages_df_moscow_grouped, internet_df_moscow_grouped], how='outer').fillna(0)\n",
    "\n",
    "len(general_df.index.get_level_values(0).unique())"
   ]
  },
  {
   "cell_type": "code",
   "execution_count": 32,
   "id": "58873dc2",
   "metadata": {},
   "outputs": [],
   "source": [
    "general_df = general_df.join(without_service_df_grouped, how='outer').fillna(0)"
   ]
  },
  {
   "cell_type": "code",
   "execution_count": 33,
   "id": "dc82c7af",
   "metadata": {},
   "outputs": [
    {
     "data": {
      "text/plain": [
       "500"
      ]
     },
     "execution_count": 33,
     "metadata": {},
     "output_type": "execute_result"
    }
   ],
   "source": [
    "len(general_df.index.get_level_values(0).unique())"
   ]
  },
  {
   "cell_type": "code",
   "execution_count": 34,
   "id": "4b0a752c",
   "metadata": {},
   "outputs": [],
   "source": [
    "general_df['gb_used'] = np.ceil (general_df['gb_used'])"
   ]
  },
  {
   "cell_type": "code",
   "execution_count": 35,
   "id": "e81aba5c",
   "metadata": {},
   "outputs": [
    {
     "data": {
      "text/html": [
       "<div>\n",
       "<style scoped>\n",
       "    .dataframe tbody tr th:only-of-type {\n",
       "        vertical-align: middle;\n",
       "    }\n",
       "\n",
       "    .dataframe tbody tr th {\n",
       "        vertical-align: top;\n",
       "    }\n",
       "\n",
       "    .dataframe thead th {\n",
       "        text-align: right;\n",
       "    }\n",
       "</style>\n",
       "<table border=\"1\" class=\"dataframe\">\n",
       "  <thead>\n",
       "    <tr style=\"text-align: right;\">\n",
       "      <th></th>\n",
       "      <th></th>\n",
       "      <th>(calls_count,)</th>\n",
       "      <th>(duration_sum,)</th>\n",
       "      <th>(messages_count,)</th>\n",
       "      <th>(gb_used,)</th>\n",
       "      <th>calls_count</th>\n",
       "      <th>duration_sum</th>\n",
       "      <th>gb_used</th>\n",
       "      <th>messages_count</th>\n",
       "    </tr>\n",
       "    <tr>\n",
       "      <th>user_id</th>\n",
       "      <th>month</th>\n",
       "      <th></th>\n",
       "      <th></th>\n",
       "      <th></th>\n",
       "      <th></th>\n",
       "      <th></th>\n",
       "      <th></th>\n",
       "      <th></th>\n",
       "      <th></th>\n",
       "    </tr>\n",
       "  </thead>\n",
       "  <tbody>\n",
       "    <tr>\n",
       "      <th rowspan=\"5\" valign=\"top\">1000</th>\n",
       "      <th>5</th>\n",
       "      <td>22.0</td>\n",
       "      <td>159.0</td>\n",
       "      <td>22.0</td>\n",
       "      <td>2.200674</td>\n",
       "      <td>0.0</td>\n",
       "      <td>0.0</td>\n",
       "      <td>0.0</td>\n",
       "      <td>0.0</td>\n",
       "    </tr>\n",
       "    <tr>\n",
       "      <th>6</th>\n",
       "      <td>43.0</td>\n",
       "      <td>172.0</td>\n",
       "      <td>60.0</td>\n",
       "      <td>22.689229</td>\n",
       "      <td>0.0</td>\n",
       "      <td>0.0</td>\n",
       "      <td>0.0</td>\n",
       "      <td>0.0</td>\n",
       "    </tr>\n",
       "    <tr>\n",
       "      <th>7</th>\n",
       "      <td>47.0</td>\n",
       "      <td>340.0</td>\n",
       "      <td>75.0</td>\n",
       "      <td>13.675430</td>\n",
       "      <td>0.0</td>\n",
       "      <td>0.0</td>\n",
       "      <td>0.0</td>\n",
       "      <td>0.0</td>\n",
       "    </tr>\n",
       "    <tr>\n",
       "      <th>8</th>\n",
       "      <td>52.0</td>\n",
       "      <td>408.0</td>\n",
       "      <td>81.0</td>\n",
       "      <td>13.726494</td>\n",
       "      <td>0.0</td>\n",
       "      <td>0.0</td>\n",
       "      <td>0.0</td>\n",
       "      <td>0.0</td>\n",
       "    </tr>\n",
       "    <tr>\n",
       "      <th>9</th>\n",
       "      <td>58.0</td>\n",
       "      <td>466.0</td>\n",
       "      <td>57.0</td>\n",
       "      <td>14.227451</td>\n",
       "      <td>0.0</td>\n",
       "      <td>0.0</td>\n",
       "      <td>0.0</td>\n",
       "      <td>0.0</td>\n",
       "    </tr>\n",
       "    <tr>\n",
       "      <th>...</th>\n",
       "      <th>...</th>\n",
       "      <td>...</td>\n",
       "      <td>...</td>\n",
       "      <td>...</td>\n",
       "      <td>...</td>\n",
       "      <td>...</td>\n",
       "      <td>...</td>\n",
       "      <td>...</td>\n",
       "      <td>...</td>\n",
       "    </tr>\n",
       "    <tr>\n",
       "      <th>1498</th>\n",
       "      <th>10</th>\n",
       "      <td>41.0</td>\n",
       "      <td>247.0</td>\n",
       "      <td>42.0</td>\n",
       "      <td>20.097031</td>\n",
       "      <td>0.0</td>\n",
       "      <td>0.0</td>\n",
       "      <td>0.0</td>\n",
       "      <td>0.0</td>\n",
       "    </tr>\n",
       "    <tr>\n",
       "      <th rowspan=\"4\" valign=\"top\">1499</th>\n",
       "      <th>9</th>\n",
       "      <td>9.0</td>\n",
       "      <td>70.0</td>\n",
       "      <td>11.0</td>\n",
       "      <td>1.802490</td>\n",
       "      <td>0.0</td>\n",
       "      <td>0.0</td>\n",
       "      <td>0.0</td>\n",
       "      <td>0.0</td>\n",
       "    </tr>\n",
       "    <tr>\n",
       "      <th>10</th>\n",
       "      <td>68.0</td>\n",
       "      <td>449.0</td>\n",
       "      <td>48.0</td>\n",
       "      <td>17.371592</td>\n",
       "      <td>0.0</td>\n",
       "      <td>0.0</td>\n",
       "      <td>0.0</td>\n",
       "      <td>0.0</td>\n",
       "    </tr>\n",
       "    <tr>\n",
       "      <th>11</th>\n",
       "      <td>74.0</td>\n",
       "      <td>612.0</td>\n",
       "      <td>59.0</td>\n",
       "      <td>17.542295</td>\n",
       "      <td>0.0</td>\n",
       "      <td>0.0</td>\n",
       "      <td>0.0</td>\n",
       "      <td>0.0</td>\n",
       "    </tr>\n",
       "    <tr>\n",
       "      <th>12</th>\n",
       "      <td>69.0</td>\n",
       "      <td>492.0</td>\n",
       "      <td>66.0</td>\n",
       "      <td>12.749590</td>\n",
       "      <td>0.0</td>\n",
       "      <td>0.0</td>\n",
       "      <td>0.0</td>\n",
       "      <td>0.0</td>\n",
       "    </tr>\n",
       "  </tbody>\n",
       "</table>\n",
       "<p>3216 rows × 8 columns</p>\n",
       "</div>"
      ],
      "text/plain": [
       "               (calls_count,)  (duration_sum,)  (messages_count,)  (gb_used,)  \\\n",
       "user_id month                                                                   \n",
       "1000    5                22.0            159.0               22.0    2.200674   \n",
       "        6                43.0            172.0               60.0   22.689229   \n",
       "        7                47.0            340.0               75.0   13.675430   \n",
       "        8                52.0            408.0               81.0   13.726494   \n",
       "        9                58.0            466.0               57.0   14.227451   \n",
       "...                       ...              ...                ...         ...   \n",
       "1498    10               41.0            247.0               42.0   20.097031   \n",
       "1499    9                 9.0             70.0               11.0    1.802490   \n",
       "        10               68.0            449.0               48.0   17.371592   \n",
       "        11               74.0            612.0               59.0   17.542295   \n",
       "        12               69.0            492.0               66.0   12.749590   \n",
       "\n",
       "               calls_count  duration_sum  gb_used  messages_count  \n",
       "user_id month                                                      \n",
       "1000    5              0.0           0.0      0.0             0.0  \n",
       "        6              0.0           0.0      0.0             0.0  \n",
       "        7              0.0           0.0      0.0             0.0  \n",
       "        8              0.0           0.0      0.0             0.0  \n",
       "        9              0.0           0.0      0.0             0.0  \n",
       "...                    ...           ...      ...             ...  \n",
       "1498    10             0.0           0.0      0.0             0.0  \n",
       "1499    9              0.0           0.0      0.0             0.0  \n",
       "        10             0.0           0.0      0.0             0.0  \n",
       "        11             0.0           0.0      0.0             0.0  \n",
       "        12             0.0           0.0      0.0             0.0  \n",
       "\n",
       "[3216 rows x 8 columns]"
      ]
     },
     "execution_count": 35,
     "metadata": {},
     "output_type": "execute_result"
    }
   ],
   "source": [
    "general_df"
   ]
  },
  {
   "cell_type": "code",
   "execution_count": 36,
   "id": "74e447f5",
   "metadata": {},
   "outputs": [],
   "source": [
    "del general_df['calls_count']\n",
    "del general_df['duration_sum']\n",
    "del general_df['gb_used']\n",
    "del general_df['messages_count']"
   ]
  },
  {
   "cell_type": "code",
   "execution_count": 37,
   "id": "04378b9a",
   "metadata": {},
   "outputs": [
    {
     "data": {
      "text/html": [
       "<div>\n",
       "<style scoped>\n",
       "    .dataframe tbody tr th:only-of-type {\n",
       "        vertical-align: middle;\n",
       "    }\n",
       "\n",
       "    .dataframe tbody tr th {\n",
       "        vertical-align: top;\n",
       "    }\n",
       "\n",
       "    .dataframe thead tr th {\n",
       "        text-align: left;\n",
       "    }\n",
       "\n",
       "    .dataframe thead tr:last-of-type th {\n",
       "        text-align: right;\n",
       "    }\n",
       "</style>\n",
       "<table border=\"1\" class=\"dataframe\">\n",
       "  <thead>\n",
       "    <tr>\n",
       "      <th></th>\n",
       "      <th></th>\n",
       "      <th>calls_count</th>\n",
       "      <th>duration_sum</th>\n",
       "      <th>messages_count</th>\n",
       "      <th>gb_used</th>\n",
       "    </tr>\n",
       "    <tr>\n",
       "      <th>user_id</th>\n",
       "      <th>month</th>\n",
       "      <th></th>\n",
       "      <th></th>\n",
       "      <th></th>\n",
       "      <th></th>\n",
       "    </tr>\n",
       "  </thead>\n",
       "  <tbody>\n",
       "    <tr>\n",
       "      <th rowspan=\"5\" valign=\"top\">1000</th>\n",
       "      <th>5</th>\n",
       "      <td>22.0</td>\n",
       "      <td>159.0</td>\n",
       "      <td>22.0</td>\n",
       "      <td>2.200674</td>\n",
       "    </tr>\n",
       "    <tr>\n",
       "      <th>6</th>\n",
       "      <td>43.0</td>\n",
       "      <td>172.0</td>\n",
       "      <td>60.0</td>\n",
       "      <td>22.689229</td>\n",
       "    </tr>\n",
       "    <tr>\n",
       "      <th>7</th>\n",
       "      <td>47.0</td>\n",
       "      <td>340.0</td>\n",
       "      <td>75.0</td>\n",
       "      <td>13.675430</td>\n",
       "    </tr>\n",
       "    <tr>\n",
       "      <th>8</th>\n",
       "      <td>52.0</td>\n",
       "      <td>408.0</td>\n",
       "      <td>81.0</td>\n",
       "      <td>13.726494</td>\n",
       "    </tr>\n",
       "    <tr>\n",
       "      <th>9</th>\n",
       "      <td>58.0</td>\n",
       "      <td>466.0</td>\n",
       "      <td>57.0</td>\n",
       "      <td>14.227451</td>\n",
       "    </tr>\n",
       "    <tr>\n",
       "      <th>...</th>\n",
       "      <th>...</th>\n",
       "      <td>...</td>\n",
       "      <td>...</td>\n",
       "      <td>...</td>\n",
       "      <td>...</td>\n",
       "    </tr>\n",
       "    <tr>\n",
       "      <th>1498</th>\n",
       "      <th>10</th>\n",
       "      <td>41.0</td>\n",
       "      <td>247.0</td>\n",
       "      <td>42.0</td>\n",
       "      <td>20.097031</td>\n",
       "    </tr>\n",
       "    <tr>\n",
       "      <th rowspan=\"4\" valign=\"top\">1499</th>\n",
       "      <th>9</th>\n",
       "      <td>9.0</td>\n",
       "      <td>70.0</td>\n",
       "      <td>11.0</td>\n",
       "      <td>1.802490</td>\n",
       "    </tr>\n",
       "    <tr>\n",
       "      <th>10</th>\n",
       "      <td>68.0</td>\n",
       "      <td>449.0</td>\n",
       "      <td>48.0</td>\n",
       "      <td>17.371592</td>\n",
       "    </tr>\n",
       "    <tr>\n",
       "      <th>11</th>\n",
       "      <td>74.0</td>\n",
       "      <td>612.0</td>\n",
       "      <td>59.0</td>\n",
       "      <td>17.542295</td>\n",
       "    </tr>\n",
       "    <tr>\n",
       "      <th>12</th>\n",
       "      <td>69.0</td>\n",
       "      <td>492.0</td>\n",
       "      <td>66.0</td>\n",
       "      <td>12.749590</td>\n",
       "    </tr>\n",
       "  </tbody>\n",
       "</table>\n",
       "<p>3216 rows × 4 columns</p>\n",
       "</div>"
      ],
      "text/plain": [
       "              calls_count duration_sum messages_count    gb_used\n",
       "user_id month                                                   \n",
       "1000    5            22.0        159.0           22.0   2.200674\n",
       "        6            43.0        172.0           60.0  22.689229\n",
       "        7            47.0        340.0           75.0  13.675430\n",
       "        8            52.0        408.0           81.0  13.726494\n",
       "        9            58.0        466.0           57.0  14.227451\n",
       "...                   ...          ...            ...        ...\n",
       "1498    10           41.0        247.0           42.0  20.097031\n",
       "1499    9             9.0         70.0           11.0   1.802490\n",
       "        10           68.0        449.0           48.0  17.371592\n",
       "        11           74.0        612.0           59.0  17.542295\n",
       "        12           69.0        492.0           66.0  12.749590\n",
       "\n",
       "[3216 rows x 4 columns]"
      ]
     },
     "execution_count": 37,
     "metadata": {},
     "output_type": "execute_result"
    }
   ],
   "source": [
    "general_df.columns = [['calls_count', 'duration_sum', 'messages_count', 'gb_used']]\n",
    "general_df"
   ]
  },
  {
   "cell_type": "code",
   "execution_count": 38,
   "id": "fbf4de3e",
   "metadata": {},
   "outputs": [],
   "source": [
    "general_df_smart = calls_df_smart_grouped.join([messages_df_smart_grouped, internet_df_smart_grouped], how='outer').fillna(0)\n",
    "general_df_smart.columns = [['calls_count', 'duration_sum', 'messages_count', 'gb_used']]\n",
    "general_df_smart['gb_used'] = np.ceil (general_df_smart['gb_used'])\n",
    "\n",
    "general_df_ultra = calls_df_ultra_grouped.join([messages_df_ultra_grouped, internet_df_ultra_grouped], how='outer').fillna(0)\n",
    "general_df_ultra.columns = [['calls_count', 'duration_sum', 'messages_count', 'gb_used']]\n",
    "general_df_ultra['gb_used'] = np.ceil (general_df_ultra['gb_used'])\n",
    "\n",
    "general_df_moscow = calls_df_moscow_grouped.join([messages_df_moscow_grouped, internet_df_moscow_grouped], how='outer').fillna(0)\n",
    "general_df_moscow.columns = [['calls_count', 'duration_sum', 'messages_count', 'gb_used']]\n",
    "general_df_moscow['gb_used'] = np.ceil (general_df_moscow['gb_used'])\n",
    "\n",
    "general_df_other = calls_df_other_grouped.join([messages_df_other_grouped, internet_df_other_grouped], how='outer').fillna(0)\n",
    "general_df_other.columns = [['calls_count', 'duration_sum', 'messages_count', 'gb_used']]\n",
    "general_df_other['gb_used'] = np.ceil (general_df_other['gb_used'])"
   ]
  },
  {
   "cell_type": "code",
   "execution_count": 39,
   "id": "f167a848",
   "metadata": {},
   "outputs": [
    {
     "data": {
      "text/html": [
       "<div>\n",
       "<style scoped>\n",
       "    .dataframe tbody tr th:only-of-type {\n",
       "        vertical-align: middle;\n",
       "    }\n",
       "\n",
       "    .dataframe tbody tr th {\n",
       "        vertical-align: top;\n",
       "    }\n",
       "\n",
       "    .dataframe thead tr th {\n",
       "        text-align: left;\n",
       "    }\n",
       "\n",
       "    .dataframe thead tr:last-of-type th {\n",
       "        text-align: right;\n",
       "    }\n",
       "</style>\n",
       "<table border=\"1\" class=\"dataframe\">\n",
       "  <thead>\n",
       "    <tr>\n",
       "      <th></th>\n",
       "      <th></th>\n",
       "      <th>calls_count</th>\n",
       "      <th>duration_sum</th>\n",
       "      <th>messages_count</th>\n",
       "      <th>gb_used</th>\n",
       "    </tr>\n",
       "    <tr>\n",
       "      <th>user_id</th>\n",
       "      <th>month</th>\n",
       "      <th></th>\n",
       "      <th></th>\n",
       "      <th></th>\n",
       "      <th></th>\n",
       "    </tr>\n",
       "  </thead>\n",
       "  <tbody>\n",
       "    <tr>\n",
       "      <th rowspan=\"2\" valign=\"top\">1001</th>\n",
       "      <th>11</th>\n",
       "      <td>59.0</td>\n",
       "      <td>430.0</td>\n",
       "      <td>0.0</td>\n",
       "      <td>18.0</td>\n",
       "    </tr>\n",
       "    <tr>\n",
       "      <th>12</th>\n",
       "      <td>63.0</td>\n",
       "      <td>414.0</td>\n",
       "      <td>0.0</td>\n",
       "      <td>14.0</td>\n",
       "    </tr>\n",
       "    <tr>\n",
       "      <th rowspan=\"3\" valign=\"top\">1002</th>\n",
       "      <th>6</th>\n",
       "      <td>15.0</td>\n",
       "      <td>117.0</td>\n",
       "      <td>4.0</td>\n",
       "      <td>11.0</td>\n",
       "    </tr>\n",
       "    <tr>\n",
       "      <th>7</th>\n",
       "      <td>26.0</td>\n",
       "      <td>214.0</td>\n",
       "      <td>11.0</td>\n",
       "      <td>18.0</td>\n",
       "    </tr>\n",
       "    <tr>\n",
       "      <th>8</th>\n",
       "      <td>42.0</td>\n",
       "      <td>289.0</td>\n",
       "      <td>13.0</td>\n",
       "      <td>20.0</td>\n",
       "    </tr>\n",
       "  </tbody>\n",
       "</table>\n",
       "</div>"
      ],
      "text/plain": [
       "              calls_count duration_sum messages_count gb_used\n",
       "user_id month                                                \n",
       "1001    11           59.0        430.0            0.0    18.0\n",
       "        12           63.0        414.0            0.0    14.0\n",
       "1002    6            15.0        117.0            4.0    11.0\n",
       "        7            26.0        214.0           11.0    18.0\n",
       "        8            42.0        289.0           13.0    20.0"
      ]
     },
     "execution_count": 39,
     "metadata": {},
     "output_type": "execute_result"
    }
   ],
   "source": [
    "general_df_smart.head()"
   ]
  },
  {
   "cell_type": "code",
   "execution_count": 40,
   "id": "2c846582",
   "metadata": {},
   "outputs": [
    {
     "data": {
      "text/html": [
       "<div>\n",
       "<style scoped>\n",
       "    .dataframe tbody tr th:only-of-type {\n",
       "        vertical-align: middle;\n",
       "    }\n",
       "\n",
       "    .dataframe tbody tr th {\n",
       "        vertical-align: top;\n",
       "    }\n",
       "\n",
       "    .dataframe thead tr th {\n",
       "        text-align: left;\n",
       "    }\n",
       "\n",
       "    .dataframe thead tr:last-of-type th {\n",
       "        text-align: right;\n",
       "    }\n",
       "</style>\n",
       "<table border=\"1\" class=\"dataframe\">\n",
       "  <thead>\n",
       "    <tr>\n",
       "      <th></th>\n",
       "      <th></th>\n",
       "      <th>calls_count</th>\n",
       "      <th>duration_sum</th>\n",
       "      <th>messages_count</th>\n",
       "      <th>gb_used</th>\n",
       "    </tr>\n",
       "    <tr>\n",
       "      <th>user_id</th>\n",
       "      <th>month</th>\n",
       "      <th></th>\n",
       "      <th></th>\n",
       "      <th></th>\n",
       "      <th></th>\n",
       "    </tr>\n",
       "  </thead>\n",
       "  <tbody>\n",
       "    <tr>\n",
       "      <th rowspan=\"5\" valign=\"top\">1000</th>\n",
       "      <th>5</th>\n",
       "      <td>22.0</td>\n",
       "      <td>159.0</td>\n",
       "      <td>22.0</td>\n",
       "      <td>3.0</td>\n",
       "    </tr>\n",
       "    <tr>\n",
       "      <th>6</th>\n",
       "      <td>43.0</td>\n",
       "      <td>172.0</td>\n",
       "      <td>60.0</td>\n",
       "      <td>23.0</td>\n",
       "    </tr>\n",
       "    <tr>\n",
       "      <th>7</th>\n",
       "      <td>47.0</td>\n",
       "      <td>340.0</td>\n",
       "      <td>75.0</td>\n",
       "      <td>14.0</td>\n",
       "    </tr>\n",
       "    <tr>\n",
       "      <th>8</th>\n",
       "      <td>52.0</td>\n",
       "      <td>408.0</td>\n",
       "      <td>81.0</td>\n",
       "      <td>14.0</td>\n",
       "    </tr>\n",
       "    <tr>\n",
       "      <th>9</th>\n",
       "      <td>58.0</td>\n",
       "      <td>466.0</td>\n",
       "      <td>57.0</td>\n",
       "      <td>15.0</td>\n",
       "    </tr>\n",
       "  </tbody>\n",
       "</table>\n",
       "</div>"
      ],
      "text/plain": [
       "              calls_count duration_sum messages_count gb_used\n",
       "user_id month                                                \n",
       "1000    5            22.0        159.0           22.0     3.0\n",
       "        6            43.0        172.0           60.0    23.0\n",
       "        7            47.0        340.0           75.0    14.0\n",
       "        8            52.0        408.0           81.0    14.0\n",
       "        9            58.0        466.0           57.0    15.0"
      ]
     },
     "execution_count": 40,
     "metadata": {},
     "output_type": "execute_result"
    }
   ],
   "source": [
    "general_df_ultra.head()"
   ]
  },
  {
   "cell_type": "code",
   "execution_count": 41,
   "id": "0cd04f3c",
   "metadata": {},
   "outputs": [
    {
     "data": {
      "text/html": [
       "<div>\n",
       "<style scoped>\n",
       "    .dataframe tbody tr th:only-of-type {\n",
       "        vertical-align: middle;\n",
       "    }\n",
       "\n",
       "    .dataframe tbody tr th {\n",
       "        vertical-align: top;\n",
       "    }\n",
       "\n",
       "    .dataframe thead tr th {\n",
       "        text-align: left;\n",
       "    }\n",
       "\n",
       "    .dataframe thead tr:last-of-type th {\n",
       "        text-align: right;\n",
       "    }\n",
       "</style>\n",
       "<table border=\"1\" class=\"dataframe\">\n",
       "  <thead>\n",
       "    <tr>\n",
       "      <th></th>\n",
       "      <th></th>\n",
       "      <th>calls_count</th>\n",
       "      <th>duration_sum</th>\n",
       "      <th>messages_count</th>\n",
       "      <th>gb_used</th>\n",
       "    </tr>\n",
       "    <tr>\n",
       "      <th>user_id</th>\n",
       "      <th>month</th>\n",
       "      <th></th>\n",
       "      <th></th>\n",
       "      <th></th>\n",
       "      <th></th>\n",
       "    </tr>\n",
       "  </thead>\n",
       "  <tbody>\n",
       "    <tr>\n",
       "      <th rowspan=\"2\" valign=\"top\">1001</th>\n",
       "      <th>11</th>\n",
       "      <td>59.0</td>\n",
       "      <td>430.0</td>\n",
       "      <td>0.0</td>\n",
       "      <td>18.0</td>\n",
       "    </tr>\n",
       "    <tr>\n",
       "      <th>12</th>\n",
       "      <td>63.0</td>\n",
       "      <td>414.0</td>\n",
       "      <td>0.0</td>\n",
       "      <td>14.0</td>\n",
       "    </tr>\n",
       "    <tr>\n",
       "      <th rowspan=\"3\" valign=\"top\">1003</th>\n",
       "      <th>8</th>\n",
       "      <td>55.0</td>\n",
       "      <td>380.0</td>\n",
       "      <td>37.0</td>\n",
       "      <td>9.0</td>\n",
       "    </tr>\n",
       "    <tr>\n",
       "      <th>9</th>\n",
       "      <td>134.0</td>\n",
       "      <td>961.0</td>\n",
       "      <td>91.0</td>\n",
       "      <td>13.0</td>\n",
       "    </tr>\n",
       "    <tr>\n",
       "      <th>10</th>\n",
       "      <td>108.0</td>\n",
       "      <td>855.0</td>\n",
       "      <td>83.0</td>\n",
       "      <td>15.0</td>\n",
       "    </tr>\n",
       "  </tbody>\n",
       "</table>\n",
       "</div>"
      ],
      "text/plain": [
       "              calls_count duration_sum messages_count gb_used\n",
       "user_id month                                                \n",
       "1001    11           59.0        430.0            0.0    18.0\n",
       "        12           63.0        414.0            0.0    14.0\n",
       "1003    8            55.0        380.0           37.0     9.0\n",
       "        9           134.0        961.0           91.0    13.0\n",
       "        10          108.0        855.0           83.0    15.0"
      ]
     },
     "execution_count": 41,
     "metadata": {},
     "output_type": "execute_result"
    }
   ],
   "source": [
    "general_df_moscow.head()"
   ]
  },
  {
   "cell_type": "code",
   "execution_count": 42,
   "id": "7df9a7f9",
   "metadata": {},
   "outputs": [
    {
     "data": {
      "text/html": [
       "<div>\n",
       "<style scoped>\n",
       "    .dataframe tbody tr th:only-of-type {\n",
       "        vertical-align: middle;\n",
       "    }\n",
       "\n",
       "    .dataframe tbody tr th {\n",
       "        vertical-align: top;\n",
       "    }\n",
       "\n",
       "    .dataframe thead tr th {\n",
       "        text-align: left;\n",
       "    }\n",
       "\n",
       "    .dataframe thead tr:last-of-type th {\n",
       "        text-align: right;\n",
       "    }\n",
       "</style>\n",
       "<table border=\"1\" class=\"dataframe\">\n",
       "  <thead>\n",
       "    <tr>\n",
       "      <th></th>\n",
       "      <th></th>\n",
       "      <th>calls_count</th>\n",
       "      <th>duration_sum</th>\n",
       "      <th>messages_count</th>\n",
       "      <th>gb_used</th>\n",
       "    </tr>\n",
       "    <tr>\n",
       "      <th>user_id</th>\n",
       "      <th>month</th>\n",
       "      <th></th>\n",
       "      <th></th>\n",
       "      <th></th>\n",
       "      <th></th>\n",
       "    </tr>\n",
       "  </thead>\n",
       "  <tbody>\n",
       "    <tr>\n",
       "      <th rowspan=\"5\" valign=\"top\">1000</th>\n",
       "      <th>5</th>\n",
       "      <td>22.0</td>\n",
       "      <td>159.0</td>\n",
       "      <td>22.0</td>\n",
       "      <td>3.0</td>\n",
       "    </tr>\n",
       "    <tr>\n",
       "      <th>6</th>\n",
       "      <td>43.0</td>\n",
       "      <td>172.0</td>\n",
       "      <td>60.0</td>\n",
       "      <td>23.0</td>\n",
       "    </tr>\n",
       "    <tr>\n",
       "      <th>7</th>\n",
       "      <td>47.0</td>\n",
       "      <td>340.0</td>\n",
       "      <td>75.0</td>\n",
       "      <td>14.0</td>\n",
       "    </tr>\n",
       "    <tr>\n",
       "      <th>8</th>\n",
       "      <td>52.0</td>\n",
       "      <td>408.0</td>\n",
       "      <td>81.0</td>\n",
       "      <td>14.0</td>\n",
       "    </tr>\n",
       "    <tr>\n",
       "      <th>9</th>\n",
       "      <td>58.0</td>\n",
       "      <td>466.0</td>\n",
       "      <td>57.0</td>\n",
       "      <td>15.0</td>\n",
       "    </tr>\n",
       "  </tbody>\n",
       "</table>\n",
       "</div>"
      ],
      "text/plain": [
       "              calls_count duration_sum messages_count gb_used\n",
       "user_id month                                                \n",
       "1000    5            22.0        159.0           22.0     3.0\n",
       "        6            43.0        172.0           60.0    23.0\n",
       "        7            47.0        340.0           75.0    14.0\n",
       "        8            52.0        408.0           81.0    14.0\n",
       "        9            58.0        466.0           57.0    15.0"
      ]
     },
     "execution_count": 42,
     "metadata": {},
     "output_type": "execute_result"
    }
   ],
   "source": [
    "general_df_other.head()"
   ]
  },
  {
   "cell_type": "markdown",
   "id": "6419edc1",
   "metadata": {},
   "source": [
    "### Расчет затраченных услуг для каждого пользователя ###"
   ]
  },
  {
   "cell_type": "markdown",
   "id": "7a6fd690",
   "metadata": {},
   "source": [
    "Теперь нужно найти помесячную выручку с каждого пользователя. Расчет выручки зависит от тарифа пользователя. Напишем функцию для ее расчета."
   ]
  },
  {
   "cell_type": "code",
   "execution_count": 43,
   "id": "d6a1172f",
   "metadata": {},
   "outputs": [],
   "source": [
    "def tariff_name (row):\n",
    "    result = ( users_df[users_df['user_id'] == row.name[0]]['tariff_name'].index[0])\n",
    "    return users_df.loc[result,'tariff_name']\n",
    "        \n",
    "general_df['tariff_name'] = general_df.apply(tariff_name, axis = 1)\n",
    "general_df_moscow['tariff_name'] = general_df_moscow.apply(tariff_name, axis = 1)\n",
    "general_df_other['tariff_name'] = general_df_other.apply(tariff_name, axis = 1)"
   ]
  },
  {
   "cell_type": "markdown",
   "id": "00001314",
   "metadata": {},
   "source": [
    "Мы добавили значения тарифа и города для каждого пользователя в таблицу, теперь создадим функцию для расчета выручки."
   ]
  },
  {
   "cell_type": "code",
   "execution_count": 44,
   "id": "cbcc28bd",
   "metadata": {},
   "outputs": [],
   "source": [
    "def total (row):\n",
    "    result = 0\n",
    "    if row['tariff_name'] == 'smart':\n",
    "        if row['duration_sum'] > tariffs_df.loc[0,'minutes_included']:\n",
    "            result_min = (row['duration_sum'] - tariffs_df.loc[0,'minutes_included']) * tariffs_df.loc[0,'rub_per_minute']\n",
    "            result += result_min\n",
    "        if row['messages_count'] > tariffs_df.loc[0,'messages_included']:\n",
    "            result_mes = (row['messages_count'] - tariffs_df.loc[0,'messages_included']) * tariffs_df.loc[0,'rub_per_message']\n",
    "            result += result_mes\n",
    "        if row['gb_used'] > tariffs_df.loc[0,'gb_included']:\n",
    "            result_gb = (row['gb_used'] - tariffs_df.loc[0,'gb_included']) * tariffs_df.loc[0,'rub_per_gb']\n",
    "            result += result_gb\n",
    "        result += tariffs_df.loc[0,'rub_monthly_fee']\n",
    "        return result\n",
    "    else:\n",
    "        if row['duration_sum'] > tariffs_df.loc[1,'minutes_included']:\n",
    "            result_min = (row['duration_sum'] - tariffs_df.loc[1,'minutes_included']) * tariffs_df.loc[1,'rub_per_minute']\n",
    "            result += result_min\n",
    "        if row['messages_count'] > tariffs_df.loc[1,'messages_included']:\n",
    "            result_mes = (row['messages_count'] - tariffs_df.loc[1,'messages_included']) * tariffs_df.loc[1,'rub_per_message']\n",
    "            result += result_mes\n",
    "        if row['gb_used'] > tariffs_df.loc[1,'gb_included']:\n",
    "            result_gb = (row['gb_used'] - tariffs_df.loc[1,'gb_included']) * tariffs_df.loc[1,'rub_per_gb']\n",
    "            result += result_gb\n",
    "        result += tariffs_df.loc[1,'rub_monthly_fee']\n",
    "        return result\n",
    "\n",
    "#general_df['total'] = general_df.apply (total, axis=1)"
   ]
  },
  {
   "cell_type": "code",
   "execution_count": 45,
   "id": "f31e9431",
   "metadata": {},
   "outputs": [],
   "source": [
    "def total_for_smart (row):\n",
    "    result = 0\n",
    "    if row['duration_sum'] > tariffs_df.loc[0,'minutes_included']:\n",
    "        result_min = (row['duration_sum'] - tariffs_df.loc[0,'minutes_included']) * tariffs_df.loc[0,'rub_per_minute']\n",
    "        result += result_min\n",
    "    if row['messages_count'] > tariffs_df.loc[0,'messages_included']:\n",
    "        result_mes = (row['messages_count'] - tariffs_df.loc[0,'messages_included']) * tariffs_df.loc[0,'rub_per_message']\n",
    "        result += result_mes\n",
    "    if row['gb_used'] > tariffs_df.loc[0,'gb_included']:\n",
    "        result_gb = (row['gb_used'] - tariffs_df.loc[0,'gb_included']) * tariffs_df.loc[0,'rub_per_gb']\n",
    "        result += result_gb\n",
    "    result += tariffs_df.loc[0,'rub_monthly_fee']\n",
    "    return result"
   ]
  },
  {
   "cell_type": "code",
   "execution_count": 46,
   "id": "a9fe58bf",
   "metadata": {},
   "outputs": [],
   "source": [
    "def total_for_ultra (row):\n",
    "    result = 0\n",
    "    if row['duration_sum'] > tariffs_df.loc[1,'minutes_included']:\n",
    "        result_min = (row['duration_sum'] - tariffs_df.loc[1,'minutes_included']) * tariffs_df.loc[1,'rub_per_minute']\n",
    "        result += result_min\n",
    "    if row['messages_count'] > tariffs_df.loc[1,'messages_included']:\n",
    "        result_mes = (row['messages_count'] - tariffs_df.loc[1,'messages_included']) * tariffs_df.loc[1,'rub_per_message']\n",
    "        result += result_mes\n",
    "    if row['gb_used'] > tariffs_df.loc[1,'gb_included']:\n",
    "        result_gb = (row['gb_used'] - tariffs_df.loc[1,'gb_included']) * tariffs_df.loc[1,'rub_per_gb']\n",
    "        result += result_gb\n",
    "    result += tariffs_df.loc[1,'rub_monthly_fee']\n",
    "    return result"
   ]
  },
  {
   "cell_type": "code",
   "execution_count": 47,
   "id": "db4439a5",
   "metadata": {},
   "outputs": [],
   "source": [
    "general_df['total'] = general_df.apply (total, axis=1)\n",
    "general_df_moscow['total'] = general_df_moscow.apply (total, axis=1)\n",
    "general_df_other['total'] = general_df_other.apply (total, axis=1)\n",
    "general_df_smart['total'] = general_df_smart.apply (total_for_smart, axis=1)\n",
    "general_df_ultra['total'] = general_df_ultra.apply (total_for_ultra, axis=1)"
   ]
  },
  {
   "cell_type": "code",
   "execution_count": 48,
   "id": "3a943f09",
   "metadata": {},
   "outputs": [
    {
     "data": {
      "text/html": [
       "<div>\n",
       "<style scoped>\n",
       "    .dataframe tbody tr th:only-of-type {\n",
       "        vertical-align: middle;\n",
       "    }\n",
       "\n",
       "    .dataframe tbody tr th {\n",
       "        vertical-align: top;\n",
       "    }\n",
       "\n",
       "    .dataframe thead tr th {\n",
       "        text-align: left;\n",
       "    }\n",
       "\n",
       "    .dataframe thead tr:last-of-type th {\n",
       "        text-align: right;\n",
       "    }\n",
       "</style>\n",
       "<table border=\"1\" class=\"dataframe\">\n",
       "  <thead>\n",
       "    <tr>\n",
       "      <th></th>\n",
       "      <th></th>\n",
       "      <th>calls_count</th>\n",
       "      <th>duration_sum</th>\n",
       "      <th>messages_count</th>\n",
       "      <th>gb_used</th>\n",
       "      <th>tariff_name</th>\n",
       "      <th>total</th>\n",
       "    </tr>\n",
       "    <tr>\n",
       "      <th>user_id</th>\n",
       "      <th>month</th>\n",
       "      <th></th>\n",
       "      <th></th>\n",
       "      <th></th>\n",
       "      <th></th>\n",
       "      <th></th>\n",
       "      <th></th>\n",
       "    </tr>\n",
       "  </thead>\n",
       "  <tbody>\n",
       "    <tr>\n",
       "      <th rowspan=\"5\" valign=\"top\">1000</th>\n",
       "      <th>5</th>\n",
       "      <td>22.0</td>\n",
       "      <td>159.0</td>\n",
       "      <td>22.0</td>\n",
       "      <td>2.200674</td>\n",
       "      <td>ultra</td>\n",
       "      <td>1950.0</td>\n",
       "    </tr>\n",
       "    <tr>\n",
       "      <th>6</th>\n",
       "      <td>43.0</td>\n",
       "      <td>172.0</td>\n",
       "      <td>60.0</td>\n",
       "      <td>22.689229</td>\n",
       "      <td>ultra</td>\n",
       "      <td>1950.0</td>\n",
       "    </tr>\n",
       "    <tr>\n",
       "      <th>7</th>\n",
       "      <td>47.0</td>\n",
       "      <td>340.0</td>\n",
       "      <td>75.0</td>\n",
       "      <td>13.675430</td>\n",
       "      <td>ultra</td>\n",
       "      <td>1950.0</td>\n",
       "    </tr>\n",
       "    <tr>\n",
       "      <th>8</th>\n",
       "      <td>52.0</td>\n",
       "      <td>408.0</td>\n",
       "      <td>81.0</td>\n",
       "      <td>13.726494</td>\n",
       "      <td>ultra</td>\n",
       "      <td>1950.0</td>\n",
       "    </tr>\n",
       "    <tr>\n",
       "      <th>9</th>\n",
       "      <td>58.0</td>\n",
       "      <td>466.0</td>\n",
       "      <td>57.0</td>\n",
       "      <td>14.227451</td>\n",
       "      <td>ultra</td>\n",
       "      <td>1950.0</td>\n",
       "    </tr>\n",
       "  </tbody>\n",
       "</table>\n",
       "</div>"
      ],
      "text/plain": [
       "              calls_count duration_sum messages_count    gb_used tariff_name  \\\n",
       "user_id month                                                                  \n",
       "1000    5            22.0        159.0           22.0   2.200674       ultra   \n",
       "        6            43.0        172.0           60.0  22.689229       ultra   \n",
       "        7            47.0        340.0           75.0  13.675430       ultra   \n",
       "        8            52.0        408.0           81.0  13.726494       ultra   \n",
       "        9            58.0        466.0           57.0  14.227451       ultra   \n",
       "\n",
       "                total  \n",
       "user_id month          \n",
       "1000    5      1950.0  \n",
       "        6      1950.0  \n",
       "        7      1950.0  \n",
       "        8      1950.0  \n",
       "        9      1950.0  "
      ]
     },
     "execution_count": 48,
     "metadata": {},
     "output_type": "execute_result"
    }
   ],
   "source": [
    "general_df.head()"
   ]
  },
  {
   "cell_type": "code",
   "execution_count": 49,
   "id": "3cefeb5b",
   "metadata": {},
   "outputs": [
    {
     "data": {
      "text/plain": [
       "total    4.774127e+06\n",
       "dtype: float64"
      ]
     },
     "execution_count": 49,
     "metadata": {},
     "output_type": "execute_result"
    }
   ],
   "source": [
    "# check\n",
    "general_df['total'].sum()"
   ]
  },
  {
   "cell_type": "code",
   "execution_count": 50,
   "id": "4a2cee7f",
   "metadata": {},
   "outputs": [
    {
     "data": {
      "text/html": [
       "<div>\n",
       "<style scoped>\n",
       "    .dataframe tbody tr th:only-of-type {\n",
       "        vertical-align: middle;\n",
       "    }\n",
       "\n",
       "    .dataframe tbody tr th {\n",
       "        vertical-align: top;\n",
       "    }\n",
       "\n",
       "    .dataframe thead tr th {\n",
       "        text-align: left;\n",
       "    }\n",
       "\n",
       "    .dataframe thead tr:last-of-type th {\n",
       "        text-align: right;\n",
       "    }\n",
       "</style>\n",
       "<table border=\"1\" class=\"dataframe\">\n",
       "  <thead>\n",
       "    <tr>\n",
       "      <th></th>\n",
       "      <th></th>\n",
       "      <th>calls_count</th>\n",
       "      <th>duration_sum</th>\n",
       "      <th>messages_count</th>\n",
       "      <th>gb_used</th>\n",
       "      <th>tariff_name</th>\n",
       "      <th>total</th>\n",
       "    </tr>\n",
       "    <tr>\n",
       "      <th>user_id</th>\n",
       "      <th>month</th>\n",
       "      <th></th>\n",
       "      <th></th>\n",
       "      <th></th>\n",
       "      <th></th>\n",
       "      <th></th>\n",
       "      <th></th>\n",
       "    </tr>\n",
       "  </thead>\n",
       "  <tbody>\n",
       "    <tr>\n",
       "      <th rowspan=\"4\" valign=\"top\">1499</th>\n",
       "      <th>9</th>\n",
       "      <td>9.0</td>\n",
       "      <td>70.0</td>\n",
       "      <td>11.0</td>\n",
       "      <td>1.802490</td>\n",
       "      <td>smart</td>\n",
       "      <td>550.000000</td>\n",
       "    </tr>\n",
       "    <tr>\n",
       "      <th>10</th>\n",
       "      <td>68.0</td>\n",
       "      <td>449.0</td>\n",
       "      <td>48.0</td>\n",
       "      <td>17.371592</td>\n",
       "      <td>smart</td>\n",
       "      <td>1024.318359</td>\n",
       "    </tr>\n",
       "    <tr>\n",
       "      <th>11</th>\n",
       "      <td>74.0</td>\n",
       "      <td>612.0</td>\n",
       "      <td>59.0</td>\n",
       "      <td>17.542295</td>\n",
       "      <td>smart</td>\n",
       "      <td>1421.458984</td>\n",
       "    </tr>\n",
       "    <tr>\n",
       "      <th>12</th>\n",
       "      <td>69.0</td>\n",
       "      <td>492.0</td>\n",
       "      <td>66.0</td>\n",
       "      <td>12.749590</td>\n",
       "      <td>smart</td>\n",
       "      <td>598.000000</td>\n",
       "    </tr>\n",
       "  </tbody>\n",
       "</table>\n",
       "</div>"
      ],
      "text/plain": [
       "              calls_count duration_sum messages_count    gb_used tariff_name  \\\n",
       "user_id month                                                                  \n",
       "1499    9             9.0         70.0           11.0   1.802490       smart   \n",
       "        10           68.0        449.0           48.0  17.371592       smart   \n",
       "        11           74.0        612.0           59.0  17.542295       smart   \n",
       "        12           69.0        492.0           66.0  12.749590       smart   \n",
       "\n",
       "                     total  \n",
       "user_id month               \n",
       "1499    9       550.000000  \n",
       "        10     1024.318359  \n",
       "        11     1421.458984  \n",
       "        12      598.000000  "
      ]
     },
     "execution_count": 50,
     "metadata": {},
     "output_type": "execute_result"
    }
   ],
   "source": [
    "# check\n",
    "general_df.tail(4)"
   ]
  },
  {
   "cell_type": "code",
   "execution_count": 51,
   "id": "99ef7a1e",
   "metadata": {},
   "outputs": [
    {
     "name": "stdout",
     "output_type": "stream",
     "text": [
      "<class 'pandas.core.frame.DataFrame'>\n",
      "MultiIndex: 3216 entries, (1000, 5) to (1499, 12)\n",
      "Data columns (total 6 columns):\n",
      " #   Column             Non-Null Count  Dtype  \n",
      "---  ------             --------------  -----  \n",
      " 0   (calls_count,)     3216 non-null   float64\n",
      " 1   (duration_sum,)    3216 non-null   float64\n",
      " 2   (messages_count,)  3216 non-null   float64\n",
      " 3   (gb_used,)         3216 non-null   float64\n",
      " 4   (tariff_name,)     3216 non-null   object \n",
      " 5   (total,)           3216 non-null   float64\n",
      "dtypes: float64(5), object(1)\n",
      "memory usage: 180.7+ KB\n"
     ]
    }
   ],
   "source": [
    "# check\n",
    "general_df.info()"
   ]
  },
  {
   "cell_type": "code",
   "execution_count": 52,
   "id": "5cf7ccf4",
   "metadata": {},
   "outputs": [
    {
     "data": {
      "text/html": [
       "<div>\n",
       "<style scoped>\n",
       "    .dataframe tbody tr th:only-of-type {\n",
       "        vertical-align: middle;\n",
       "    }\n",
       "\n",
       "    .dataframe tbody tr th {\n",
       "        vertical-align: top;\n",
       "    }\n",
       "\n",
       "    .dataframe thead tr th {\n",
       "        text-align: left;\n",
       "    }\n",
       "\n",
       "    .dataframe thead tr:last-of-type th {\n",
       "        text-align: right;\n",
       "    }\n",
       "</style>\n",
       "<table border=\"1\" class=\"dataframe\">\n",
       "  <thead>\n",
       "    <tr>\n",
       "      <th></th>\n",
       "      <th></th>\n",
       "      <th>gb_used</th>\n",
       "    </tr>\n",
       "    <tr>\n",
       "      <th>user_id</th>\n",
       "      <th>month</th>\n",
       "      <th></th>\n",
       "    </tr>\n",
       "  </thead>\n",
       "  <tbody>\n",
       "    <tr>\n",
       "      <th rowspan=\"5\" valign=\"top\">1000</th>\n",
       "      <th>5</th>\n",
       "      <td>2.200674</td>\n",
       "    </tr>\n",
       "    <tr>\n",
       "      <th>6</th>\n",
       "      <td>22.689229</td>\n",
       "    </tr>\n",
       "    <tr>\n",
       "      <th>7</th>\n",
       "      <td>13.675430</td>\n",
       "    </tr>\n",
       "    <tr>\n",
       "      <th>8</th>\n",
       "      <td>13.726494</td>\n",
       "    </tr>\n",
       "    <tr>\n",
       "      <th>9</th>\n",
       "      <td>14.227451</td>\n",
       "    </tr>\n",
       "    <tr>\n",
       "      <th>...</th>\n",
       "      <th>...</th>\n",
       "      <td>...</td>\n",
       "    </tr>\n",
       "    <tr>\n",
       "      <th>1498</th>\n",
       "      <th>10</th>\n",
       "      <td>20.097031</td>\n",
       "    </tr>\n",
       "    <tr>\n",
       "      <th rowspan=\"4\" valign=\"top\">1499</th>\n",
       "      <th>9</th>\n",
       "      <td>1.802490</td>\n",
       "    </tr>\n",
       "    <tr>\n",
       "      <th>10</th>\n",
       "      <td>17.371592</td>\n",
       "    </tr>\n",
       "    <tr>\n",
       "      <th>11</th>\n",
       "      <td>17.542295</td>\n",
       "    </tr>\n",
       "    <tr>\n",
       "      <th>12</th>\n",
       "      <td>12.749590</td>\n",
       "    </tr>\n",
       "  </tbody>\n",
       "</table>\n",
       "<p>3216 rows × 1 columns</p>\n",
       "</div>"
      ],
      "text/plain": [
       "                 gb_used\n",
       "user_id month           \n",
       "1000    5       2.200674\n",
       "        6      22.689229\n",
       "        7      13.675430\n",
       "        8      13.726494\n",
       "        9      14.227451\n",
       "...                  ...\n",
       "1498    10     20.097031\n",
       "1499    9       1.802490\n",
       "        10     17.371592\n",
       "        11     17.542295\n",
       "        12     12.749590\n",
       "\n",
       "[3216 rows x 1 columns]"
      ]
     },
     "execution_count": 52,
     "metadata": {},
     "output_type": "execute_result"
    }
   ],
   "source": [
    "general_df['gb_used']"
   ]
  },
  {
   "cell_type": "markdown",
   "id": "6190b04e",
   "metadata": {},
   "source": [
    "Видно, что по объему минут и сообщений, превышений практически не встречается, зато по количеству использованного интернет-трафика превышений очень много."
   ]
  },
  {
   "cell_type": "markdown",
   "id": "7bd201e7",
   "metadata": {},
   "source": [
    "### Расчет статистических характеристик в зависимости от тарифа ###"
   ]
  },
  {
   "cell_type": "markdown",
   "id": "3b4ac77c",
   "metadata": {},
   "source": [
    "Найдем среднее значение для каждой таблицы и стандартное отклонение:"
   ]
  },
  {
   "cell_type": "code",
   "execution_count": 54,
   "id": "07a61be1",
   "metadata": {
    "scrolled": true
   },
   "outputs": [
    {
     "data": {
      "text/html": [
       "<div>\n",
       "<style scoped>\n",
       "    .dataframe tbody tr th:only-of-type {\n",
       "        vertical-align: middle;\n",
       "    }\n",
       "\n",
       "    .dataframe tbody tr th {\n",
       "        vertical-align: top;\n",
       "    }\n",
       "\n",
       "    .dataframe thead th {\n",
       "        text-align: right;\n",
       "    }\n",
       "</style>\n",
       "<table border=\"1\" class=\"dataframe\">\n",
       "  <thead>\n",
       "    <tr style=\"text-align: right;\">\n",
       "      <th></th>\n",
       "      <th>mean</th>\n",
       "      <th>std</th>\n",
       "    </tr>\n",
       "  </thead>\n",
       "  <tbody>\n",
       "    <tr>\n",
       "      <th>calls_count</th>\n",
       "      <td>62.999689</td>\n",
       "      <td>33.263185</td>\n",
       "    </tr>\n",
       "    <tr>\n",
       "      <th>duration_sum</th>\n",
       "      <td>450.964241</td>\n",
       "      <td>242.096312</td>\n",
       "    </tr>\n",
       "    <tr>\n",
       "      <th>messages_count</th>\n",
       "      <td>38.257463</td>\n",
       "      <td>36.149684</td>\n",
       "    </tr>\n",
       "    <tr>\n",
       "      <th>gb_used</th>\n",
       "      <td>16.793859</td>\n",
       "      <td>7.403081</td>\n",
       "    </tr>\n",
       "    <tr>\n",
       "      <th>total</th>\n",
       "      <td>1484.492187</td>\n",
       "      <td>782.873095</td>\n",
       "    </tr>\n",
       "  </tbody>\n",
       "</table>\n",
       "</div>"
      ],
      "text/plain": [
       "                       mean         std\n",
       "calls_count       62.999689   33.263185\n",
       "duration_sum     450.964241  242.096312\n",
       "messages_count    38.257463   36.149684\n",
       "gb_used           16.793859    7.403081\n",
       "total           1484.492187  782.873095"
      ]
     },
     "execution_count": 54,
     "metadata": {},
     "output_type": "execute_result"
    }
   ],
   "source": [
    "general_df.describe().T[['mean','std']]"
   ]
  },
  {
   "cell_type": "code",
   "execution_count": 55,
   "id": "77ea0bcb",
   "metadata": {},
   "outputs": [
    {
     "data": {
      "text/html": [
       "<div>\n",
       "<style scoped>\n",
       "    .dataframe tbody tr th:only-of-type {\n",
       "        vertical-align: middle;\n",
       "    }\n",
       "\n",
       "    .dataframe tbody tr th {\n",
       "        vertical-align: top;\n",
       "    }\n",
       "\n",
       "    .dataframe thead th {\n",
       "        text-align: right;\n",
       "    }\n",
       "</style>\n",
       "<table border=\"1\" class=\"dataframe\">\n",
       "  <thead>\n",
       "    <tr style=\"text-align: right;\">\n",
       "      <th></th>\n",
       "      <th>mean</th>\n",
       "      <th>std</th>\n",
       "    </tr>\n",
       "  </thead>\n",
       "  <tbody>\n",
       "    <tr>\n",
       "      <th>calls_count</th>\n",
       "      <td>58.463437</td>\n",
       "      <td>25.939858</td>\n",
       "    </tr>\n",
       "    <tr>\n",
       "      <th>duration_sum</th>\n",
       "      <td>417.934948</td>\n",
       "      <td>190.313730</td>\n",
       "    </tr>\n",
       "    <tr>\n",
       "      <th>messages_count</th>\n",
       "      <td>33.384029</td>\n",
       "      <td>28.227876</td>\n",
       "    </tr>\n",
       "    <tr>\n",
       "      <th>gb_used</th>\n",
       "      <td>16.328847</td>\n",
       "      <td>5.747061</td>\n",
       "    </tr>\n",
       "    <tr>\n",
       "      <th>total</th>\n",
       "      <td>1289.973531</td>\n",
       "      <td>818.404367</td>\n",
       "    </tr>\n",
       "  </tbody>\n",
       "</table>\n",
       "</div>"
      ],
      "text/plain": [
       "                       mean         std\n",
       "calls_count       58.463437   25.939858\n",
       "duration_sum     417.934948  190.313730\n",
       "messages_count    33.384029   28.227876\n",
       "gb_used           16.328847    5.747061\n",
       "total           1289.973531  818.404367"
      ]
     },
     "execution_count": 55,
     "metadata": {},
     "output_type": "execute_result"
    }
   ],
   "source": [
    "general_df_smart.describe().T[['mean','std']]"
   ]
  },
  {
   "cell_type": "code",
   "execution_count": 56,
   "id": "a613a120",
   "metadata": {},
   "outputs": [
    {
     "data": {
      "text/html": [
       "<div>\n",
       "<style scoped>\n",
       "    .dataframe tbody tr th:only-of-type {\n",
       "        vertical-align: middle;\n",
       "    }\n",
       "\n",
       "    .dataframe tbody tr th {\n",
       "        vertical-align: top;\n",
       "    }\n",
       "\n",
       "    .dataframe thead th {\n",
       "        text-align: right;\n",
       "    }\n",
       "</style>\n",
       "<table border=\"1\" class=\"dataframe\">\n",
       "  <thead>\n",
       "    <tr style=\"text-align: right;\">\n",
       "      <th></th>\n",
       "      <th>mean</th>\n",
       "      <th>std</th>\n",
       "    </tr>\n",
       "  </thead>\n",
       "  <tbody>\n",
       "    <tr>\n",
       "      <th>calls_count</th>\n",
       "      <td>73.392893</td>\n",
       "      <td>43.916853</td>\n",
       "    </tr>\n",
       "    <tr>\n",
       "      <th>duration_sum</th>\n",
       "      <td>526.623350</td>\n",
       "      <td>317.606098</td>\n",
       "    </tr>\n",
       "    <tr>\n",
       "      <th>messages_count</th>\n",
       "      <td>49.363452</td>\n",
       "      <td>47.804457</td>\n",
       "    </tr>\n",
       "    <tr>\n",
       "      <th>gb_used</th>\n",
       "      <td>19.494416</td>\n",
       "      <td>9.853511</td>\n",
       "    </tr>\n",
       "    <tr>\n",
       "      <th>total</th>\n",
       "      <td>2070.152284</td>\n",
       "      <td>376.187114</td>\n",
       "    </tr>\n",
       "  </tbody>\n",
       "</table>\n",
       "</div>"
      ],
      "text/plain": [
       "                       mean         std\n",
       "calls_count       73.392893   43.916853\n",
       "duration_sum     526.623350  317.606098\n",
       "messages_count    49.363452   47.804457\n",
       "gb_used           19.494416    9.853511\n",
       "total           2070.152284  376.187114"
      ]
     },
     "execution_count": 56,
     "metadata": {},
     "output_type": "execute_result"
    }
   ],
   "source": [
    "general_df_ultra.describe().T[['mean','std']]"
   ]
  },
  {
   "cell_type": "code",
   "execution_count": 57,
   "id": "c5325b83",
   "metadata": {},
   "outputs": [
    {
     "data": {
      "text/html": [
       "<div>\n",
       "<style scoped>\n",
       "    .dataframe tbody tr th:only-of-type {\n",
       "        vertical-align: middle;\n",
       "    }\n",
       "\n",
       "    .dataframe tbody tr th {\n",
       "        vertical-align: top;\n",
       "    }\n",
       "\n",
       "    .dataframe thead th {\n",
       "        text-align: right;\n",
       "    }\n",
       "</style>\n",
       "<table border=\"1\" class=\"dataframe\">\n",
       "  <thead>\n",
       "    <tr style=\"text-align: right;\">\n",
       "      <th></th>\n",
       "      <th>mean</th>\n",
       "      <th>std</th>\n",
       "    </tr>\n",
       "  </thead>\n",
       "  <tbody>\n",
       "    <tr>\n",
       "      <th>calls_count</th>\n",
       "      <td>65.436989</td>\n",
       "      <td>33.186021</td>\n",
       "    </tr>\n",
       "    <tr>\n",
       "      <th>duration_sum</th>\n",
       "      <td>469.150573</td>\n",
       "      <td>241.535044</td>\n",
       "    </tr>\n",
       "    <tr>\n",
       "      <th>messages_count</th>\n",
       "      <td>37.877250</td>\n",
       "      <td>37.160304</td>\n",
       "    </tr>\n",
       "    <tr>\n",
       "      <th>gb_used</th>\n",
       "      <td>18.050736</td>\n",
       "      <td>7.645788</td>\n",
       "    </tr>\n",
       "    <tr>\n",
       "      <th>total</th>\n",
       "      <td>1546.713584</td>\n",
       "      <td>752.088071</td>\n",
       "    </tr>\n",
       "  </tbody>\n",
       "</table>\n",
       "</div>"
      ],
      "text/plain": [
       "                       mean         std\n",
       "calls_count       65.436989   33.186021\n",
       "duration_sum     469.150573  241.535044\n",
       "messages_count    37.877250   37.160304\n",
       "gb_used           18.050736    7.645788\n",
       "total           1546.713584  752.088071"
      ]
     },
     "execution_count": 57,
     "metadata": {},
     "output_type": "execute_result"
    }
   ],
   "source": [
    "general_df_moscow.describe().T[['mean','std']]"
   ]
  },
  {
   "cell_type": "code",
   "execution_count": 58,
   "id": "906da05e",
   "metadata": {},
   "outputs": [
    {
     "data": {
      "text/html": [
       "<div>\n",
       "<style scoped>\n",
       "    .dataframe tbody tr th:only-of-type {\n",
       "        vertical-align: middle;\n",
       "    }\n",
       "\n",
       "    .dataframe tbody tr th {\n",
       "        vertical-align: top;\n",
       "    }\n",
       "\n",
       "    .dataframe thead th {\n",
       "        text-align: right;\n",
       "    }\n",
       "</style>\n",
       "<table border=\"1\" class=\"dataframe\">\n",
       "  <thead>\n",
       "    <tr style=\"text-align: right;\">\n",
       "      <th></th>\n",
       "      <th>mean</th>\n",
       "      <th>std</th>\n",
       "    </tr>\n",
       "  </thead>\n",
       "  <tbody>\n",
       "    <tr>\n",
       "      <th>calls_count</th>\n",
       "      <td>62.475989</td>\n",
       "      <td>33.229464</td>\n",
       "    </tr>\n",
       "    <tr>\n",
       "      <th>duration_sum</th>\n",
       "      <td>447.041875</td>\n",
       "      <td>241.852152</td>\n",
       "    </tr>\n",
       "    <tr>\n",
       "      <th>messages_count</th>\n",
       "      <td>38.376104</td>\n",
       "      <td>35.913289</td>\n",
       "    </tr>\n",
       "    <tr>\n",
       "      <th>gb_used</th>\n",
       "      <td>17.122551</td>\n",
       "      <td>7.332184</td>\n",
       "    </tr>\n",
       "    <tr>\n",
       "      <th>total</th>\n",
       "      <td>1524.936227</td>\n",
       "      <td>808.787752</td>\n",
       "    </tr>\n",
       "  </tbody>\n",
       "</table>\n",
       "</div>"
      ],
      "text/plain": [
       "                       mean         std\n",
       "calls_count       62.475989   33.229464\n",
       "duration_sum     447.041875  241.852152\n",
       "messages_count    38.376104   35.913289\n",
       "gb_used           17.122551    7.332184\n",
       "total           1524.936227  808.787752"
      ]
     },
     "execution_count": 58,
     "metadata": {},
     "output_type": "execute_result"
    }
   ],
   "source": [
    "general_df_other.describe().T[['mean','std']]"
   ]
  },
  {
   "cell_type": "code",
   "execution_count": 59,
   "id": "b159037a",
   "metadata": {},
   "outputs": [
    {
     "name": "stdout",
     "output_type": "stream",
     "text": [
      "total    2875351.0\n",
      "dtype: float64\n",
      "total    2039100.0\n",
      "dtype: float64\n",
      "total    945042.0\n",
      "dtype: float64\n",
      "total    3969409.0\n",
      "dtype: float64\n"
     ]
    }
   ],
   "source": [
    "print (general_df_smart['total'].sum())\n",
    "print (general_df_ultra['total'].sum())\n",
    "print (general_df_moscow['total'].sum())\n",
    "print (general_df_other['total'].sum())"
   ]
  },
  {
   "cell_type": "markdown",
   "id": "8ed9e23e",
   "metadata": {},
   "source": [
    "Попробуем теперь визуализировать полученное с помощью графиков. Для столбцов duration_sum и total напишем отдельный код, так как нужен другой диапазон значений."
   ]
  },
  {
   "cell_type": "code",
   "execution_count": 60,
   "id": "2d5a121c",
   "metadata": {
    "scrolled": true
   },
   "outputs": [
    {
     "data": {
      "image/png": "[encoded data removed]",
      "text/plain": [
       "<Figure size 432x288 with 1 Axes>"
      ]
     },
     "metadata": {
      "needs_background": "light"
     },
     "output_type": "display_data"
    },
    {
     "data": {
      "image/png": "[encoded data removed]",
      "text/plain": [
       "<Figure size 432x288 with 1 Axes>"
      ]
     },
     "metadata": {
      "needs_background": "light"
     },
     "output_type": "display_data"
    },
    {
     "data": {
      "image/png": "[encoded data removed]",
      "text/plain": [
       "<Figure size 432x288 with 1 Axes>"
      ]
     },
     "metadata": {
      "needs_background": "light"
     },
     "output_type": "display_data"
    },
    {
     "data": {
      "image/png": "[encoded data removed]",
      "text/plain": [
       "<Figure size 432x288 with 1 Axes>"
      ]
     },
     "metadata": {
      "needs_background": "light"
     },
     "output_type": "display_data"
    },
    {
     "data": {
      "image/png": "[encoded data removed]",
      "text/plain": [
       "<Figure size 432x288 with 1 Axes>"
      ]
     },
     "metadata": {
      "needs_background": "light"
     },
     "output_type": "display_data"
    },
    {
     "data": {
      "image/png": "[encoded data removed]",
      "text/plain": [
       "<Figure size 432x288 with 1 Axes>"
      ]
     },
     "metadata": {
      "needs_background": "light"
     },
     "output_type": "display_data"
    },
    {
     "data": {
      "image/png": "[encoded data removed]",
      "text/plain": [
       "<Figure size 432x288 with 1 Axes>"
      ]
     },
     "metadata": {
      "needs_background": "light"
     },
     "output_type": "display_data"
    },
    {
     "data": {
      "image/png": "[encoded data removed]",
      "text/plain": [
       "<Figure size 432x288 with 1 Axes>"
      ]
     },
     "metadata": {
      "needs_background": "light"
     },
     "output_type": "display_data"
    },
    {
     "data": {
      "image/png": "[encoded data removed]",
      "text/plain": [
       "<Figure size 432x288 with 1 Axes>"
      ]
     },
     "metadata": {
      "needs_background": "light"
     },
     "output_type": "display_data"
    },
    {
     "data": {
      "image/png": "[encoded data removed]",
      "text/plain": [
       "<Figure size 432x288 with 1 Axes>"
      ]
     },
     "metadata": {
      "needs_background": "light"
     },
     "output_type": "display_data"
    },
    {
     "data": {
      "image/png": "[encoded data removed]",
      "text/plain": [
       "<Figure size 432x288 with 1 Axes>"
      ]
     },
     "metadata": {
      "needs_background": "light"
     },
     "output_type": "display_data"
    },
    {
     "data": {
      "image/png": "[encoded data removed]",
      "text/plain": [
       "<Figure size 432x288 with 1 Axes>"
      ]
     },
     "metadata": {
      "needs_background": "light"
     },
     "output_type": "display_data"
    },
    {
     "data": {
      "image/png": "[encoded data removed]",
      "text/plain": [
       "<Figure size 432x288 with 1 Axes>"
      ]
     },
     "metadata": {
      "needs_background": "light"
     },
     "output_type": "display_data"
    },
    {
     "data": {
      "image/png": "[encoded data removed]",
      "text/plain": [
       "<Figure size 432x288 with 1 Axes>"
      ]
     },
     "metadata": {
      "needs_background": "light"
     },
     "output_type": "display_data"
    },
    {
     "data": {
      "image/png": "[encoded data removed]",
      "text/plain": [
       "<Figure size 432x288 with 1 Axes>"
      ]
     },
     "metadata": {
      "needs_background": "light"
     },
     "output_type": "display_data"
    }
   ],
   "source": [
    "plt.hist(general_df['duration_sum'], bins=30, range=(0,1000))\n",
    "plt.title('duration_sum')\n",
    "plt.xlabel('общий график')\n",
    "plt.ylabel('Количество значений')\n",
    "plt.show()\n",
    "\n",
    "plt.hist(general_df_smart['duration_sum'], bins=30, range=(0,1000), alpha=0.7)\n",
    "plt.hist(general_df_ultra['duration_sum'], bins=30, range=(0,1000), alpha=0.7)\n",
    "plt.title('duration_sum')\n",
    "plt.xlabel('разница мужду Smart и Ultra')\n",
    "plt.ylabel('Количество значений')\n",
    "plt.show()\n",
    "\n",
    "plt.hist(general_df_moscow['duration_sum'], bins=30, range=(0,1000), alpha=0.7)\n",
    "plt.hist(general_df_other['duration_sum'], bins=30, range=(0,1000), alpha=0.7)\n",
    "plt.title('duration_sum' )\n",
    "plt.xlabel('разница между Москвой и другими городами')\n",
    "plt.ylabel('Количество значений')\n",
    "plt.show()\n",
    "    \n",
    "for value in ['calls_count', 'messages_count','gb_used']:\n",
    "    plt.hist(general_df[value], bins=30, range=(0,300))\n",
    "    plt.title(value)\n",
    "    plt.xlabel('общий график')\n",
    "    plt.ylabel('Количество значений')\n",
    "    plt.show()\n",
    "\n",
    "    plt.hist(general_df_smart[value], bins=30, range=(0,300), alpha=0.7)\n",
    "    plt.hist(general_df_ultra[value], bins=30, range=(0,300), alpha=0.7)\n",
    "    plt.title(value)\n",
    "    plt.xlabel('разница мужду Smart и Ultra')\n",
    "    plt.ylabel('Количество значений')\n",
    "    plt.show()\n",
    "\n",
    "    plt.hist(general_df_moscow[value], bins=30, range=(0,300), alpha=0.7)\n",
    "    plt.hist(general_df_other[value], bins=30, range=(0,300), alpha=0.7)\n",
    "    plt.title(value )\n",
    "    plt.xlabel('разница между Москвой и другими городами')\n",
    "    plt.ylabel('Количество значений')\n",
    "    plt.show()\n",
    "    \n",
    "plt.hist(general_df['total'], bins=30, range=(0,15000))\n",
    "plt.title('total')\n",
    "plt.xlabel('общий график')\n",
    "plt.ylabel('Количество значений')\n",
    "plt.show()\n",
    "\n",
    "plt.hist(general_df_smart['total'], bins=30, range=(0,15000), alpha=0.7)\n",
    "plt.hist(general_df_ultra['total'], bins=30, range=(0,15000), alpha=0.7)\n",
    "plt.title('total')\n",
    "plt.xlabel('разница между Smart и Ultra')\n",
    "plt.ylabel('Количество значений')\n",
    "plt.show()\n",
    "\n",
    "plt.hist(general_df_moscow['total'], bins=30, range=(0,15000), alpha=0.7)\n",
    "plt.hist(general_df_other['total'], bins=30, range=(0,15000), alpha=0.7)\n",
    "plt.title('total' )\n",
    "plt.xlabel('разница между Москвой и другими городами')\n",
    "plt.ylabel('Количество значений')\n",
    "plt.show()"
   ]
  },
  {
   "cell_type": "code",
   "execution_count": 61,
   "id": "93cf1a45",
   "metadata": {},
   "outputs": [
    {
     "data": {
      "image/png": "[encoded data removed]",
      "text/plain": [
       "<Figure size 432x288 with 1 Axes>"
      ]
     },
     "metadata": {
      "needs_background": "light"
     },
     "output_type": "display_data"
    },
    {
     "data": {
      "image/png": "[encoded data removed]",
      "text/plain": [
       "<Figure size 432x288 with 1 Axes>"
      ]
     },
     "metadata": {
      "needs_background": "light"
     },
     "output_type": "display_data"
    },
    {
     "data": {
      "image/png": "[encoded data removed]",
      "text/plain": [
       "<Figure size 432x288 with 1 Axes>"
      ]
     },
     "metadata": {
      "needs_background": "light"
     },
     "output_type": "display_data"
    },
    {
     "data": {
      "image/png": "[encoded data removed]",
      "text/plain": [
       "<Figure size 432x288 with 1 Axes>"
      ]
     },
     "metadata": {
      "needs_background": "light"
     },
     "output_type": "display_data"
    },
    {
     "data": {
      "image/png": "[encoded data removed]",
      "text/plain": [
       "<Figure size 432x288 with 1 Axes>"
      ]
     },
     "metadata": {
      "needs_background": "light"
     },
     "output_type": "display_data"
    },
    {
     "data": {
      "image/png": "[encoded data removed]",
      "text/plain": [
       "<Figure size 432x288 with 1 Axes>"
      ]
     },
     "metadata": {
      "needs_background": "light"
     },
     "output_type": "display_data"
    },
    {
     "data": {
      "image/png": "[encoded data removed]",
      "text/plain": [
       "<Figure size 432x288 with 1 Axes>"
      ]
     },
     "metadata": {
      "needs_background": "light"
     },
     "output_type": "display_data"
    },
    {
     "data": {
      "image/png": "[encoded data removed]",
      "text/plain": [
       "<Figure size 432x288 with 1 Axes>"
      ]
     },
     "metadata": {
      "needs_background": "light"
     },
     "output_type": "display_data"
    },
    {
     "data": {
      "image/png": "[encoded data removed]",
      "text/plain": [
       "<Figure size 432x288 with 1 Axes>"
      ]
     },
     "metadata": {
      "needs_background": "light"
     },
     "output_type": "display_data"
    },
    {
     "data": {
      "image/png": "[encoded data removed]",
      "text/plain": [
       "<Figure size 432x288 with 1 Axes>"
      ]
     },
     "metadata": {
      "needs_background": "light"
     },
     "output_type": "display_data"
    },
    {
     "data": {
      "image/png": "[encoded data removed]",
      "text/plain": [
       "<Figure size 432x288 with 1 Axes>"
      ]
     },
     "metadata": {
      "needs_background": "light"
     },
     "output_type": "display_data"
    },
    {
     "data": {
      "image/png": "[encoded data removed]",
      "text/plain": [
       "<Figure size 432x288 with 1 Axes>"
      ]
     },
     "metadata": {
      "needs_background": "light"
     },
     "output_type": "display_data"
    },
    {
     "data": {
      "image/png": "[encoded data removed]",
      "text/plain": [
       "<Figure size 432x288 with 1 Axes>"
      ]
     },
     "metadata": {
      "needs_background": "light"
     },
     "output_type": "display_data"
    },
    {
     "data": {
      "image/png": "[encoded data removed]",
      "text/plain": [
       "<Figure size 432x288 with 1 Axes>"
      ]
     },
     "metadata": {
      "needs_background": "light"
     },
     "output_type": "display_data"
    },
    {
     "data": {
      "image/png": "[encoded data removed]",
      "text/plain": [
       "<Figure size 432x288 with 1 Axes>"
      ]
     },
     "metadata": {
      "needs_background": "light"
     },
     "output_type": "display_data"
    }
   ],
   "source": [
    "for value in ['duration_sum','calls_count', 'messages_count','gb_used', 'total']:\n",
    "\n",
    "    general_df_month = general_df.pivot_table (index='month', values=value)\n",
    "    general_df_smart_month = general_df_smart.pivot_table (index='month', values=value)\n",
    "    general_df_ultra_month = general_df_ultra.pivot_table (index='month', values=value)\n",
    "    general_df_moscow_month = general_df_moscow.pivot_table (index='month', values=value)\n",
    "    general_df_other_month = general_df_other.pivot_table (index='month', values=value)\n",
    "\n",
    "    plt.plot(np.array(general_df_month[value]))\n",
    "    plt.title(value )\n",
    "    plt.xlabel('Общий')\n",
    "    plt.ylabel('Количество значений')\n",
    "    plt.show()\n",
    "\n",
    "    plt.plot(np.array(general_df_smart_month[value]))\n",
    "    plt.plot(np.array(general_df_ultra_month[value]))\n",
    "    plt.title(value )\n",
    "    plt.xlabel('разница между тарифами Смарт и Ультра')\n",
    "    plt.ylabel('Количество значений')\n",
    "    plt.show()\n",
    "\n",
    "    plt.plot(np.array(general_df_moscow_month[value]))\n",
    "    plt.plot(np.array(general_df_other_month[value]))\n",
    "    plt.title(value )\n",
    "    plt.xlabel('разница между Москвой и другими городами')\n",
    "    plt.ylabel('Количество значений')\n",
    "    plt.show()"
   ]
  },
  {
   "cell_type": "markdown",
   "id": "7fb33de5",
   "metadata": {},
   "source": [
    "### Вывод ###"
   ]
  },
  {
   "cell_type": "markdown",
   "id": "d20887d2",
   "metadata": {},
   "source": [
    "По статистическим характеристикам можно сделать следующие выводы:\n",
    "1. duration sum\n",
    "\n",
    "* Пользователи тарифа Ультра тратят на 23% большее количество минут, чем пользователи тарифа Смарт ((1-419)/545х100). У тарифа Ультра намного больше стандартное отклонение, это значит, что и разброс значений (дисперсия) тоже намного выше. При этом у пользователей тарифа Смарт включено в пакет 500 мин, а у пользователей тарифа Ультра - 3000 мин, практически никто из пользователей тарифа Ультра этот пакет полностью не использует. Используемое количество минут от всего пакета пользователями тарифа Смарт - 83,8% (419/500х100), пользователями тарифа Ультра - 18,2%. Вероятность того, что лимит будет превышен, намного выше у пользователей тарифа Смарт. При этом стоимость дополнительных услуг у этого тарифа также в 2,5 раз выше, что создает предположение, что тариф Смарт приносит больше денег. Это подтверждают графики, на которых мы видим, что количество людей, пользующихся этим тарифом, приблизительно в два раза больше, чем людей, пользующихся тарифом Ультра. Гистограмма тарифа Смарт немного скошена вправо, имеет распределение близкое к нормальному, распределение графика тарифа Ультра более линейное. На линейном графике видно, что до февраля у тарифа Смарт наблюдался спад, после чего количество потраченных минут резко взлетело вверх.\n",
    "\n",
    "* Пользователи Москвы тратят на 3% большее количество минут, чем пользователи других городов ((1-454)/470х100), что совсем незначительно. Стандартное отклонение практически не отличается.  Из этого можно сделать выводы, что люди тратят на звонки одинаковое количество времени и денег в независимости от города. На графике видим, что преобладающее число пользователей - из других городов. Гистограммы имеют нормальное распределение. На линейном графике видно, что до апреля преобладали пользователи из Москвы, но после число пользователей из других городов стремительно выросло.\n",
    "\n",
    "* В целом число тратящихся пользователями минут растет.\n",
    "\n",
    "2. calls count\n",
    "\n",
    "* Среднее время звонка пользователя тарифа Смарт - 7,2 мин, тарифа Ультра - 7,1, что практически не отличается (419/58, 545/76). Также как и в количестве потраченных минут видим, что у пользователей тарифа Ультра намного выше стандартное отклонение, что говорит о большом разбросе значений. Обе гистограммы имеют близкое к нормальному распределение, скошены вправо.\n",
    "\n",
    "* Среднее время звонка пользователя Москвы и других городов - 7,2, различия минимальны (469/65, 453/63). Также как и в количестве потраченных минут видим, что стандартное отклонение практически не различается. Обе гистограммы имеют близкое к нормальному распределение.\n",
    "\n",
    "* Видим те же переломные моменты в феврале для Смарт и Ультра, и в апреля для Москвы и других городов. В целом количество совершаемых пользователями звонков растет.\n",
    "\n",
    "3. messages count\n",
    "\n",
    "* Пользователи тарифа Ультра тратят на 33% большее количество сообщений, чем пользователи тарифа Смарт ((1-33)/49х100). У тарифа Ультра намного больше стандартное отклонение, это значит, что и разброс значений (дисперсия) тоже намного выше. При этом у пользователей тарифа Смарт включено в пакет 50 сообщений, а у пользователей тарифа Ультра - 1000 сообщений, практически никто из пользователей тарифа Ультра этот пакет полностью не использует. Используемое количество сообщений от всего пакета пользователями тарифа Смарт - 66% (33/50х100), пользователями тарифа Ультра - 4,9%. Вероятность того, что лимит будет превышен, намного выше у пользователей тарифа Смарт. При этом стоимость дополнительных услуг у этого тарифа также в 2,5 раз выше, что создает предположение, что тариф Смарт приносит больше денег. Это подтверждают графики, на которых мы видим, что количество людей, пользующихся этим тарифом, приблизительно в два раза больше, чем людей, пользующихся тарифом Ультра. Обе истограммы имеют распределение Пуассона.\n",
    "\n",
    "* Пользователи Москвы тратят на 3% большее количество сообщений, чем пользователи других городов ((1-37)/38х100), что совсем незначительно. Стандартное отклонение практически не отличается.  Из этого можно сделать выводы, что люди тратят на сообщения одинаковое количество времени и денег в независимости от города. На графике видим, что преобладающее число пользователей - из других городов. Гистограммы имеют распределение Пуассона. \n",
    "\n",
    "* Линейные графики растут со временем, видно, что до февраля наблюдался спад по количеству отправляемых сообщений пользователями тарифа Ультра и пользователями других городов, но потом ситуация улучшилась.\n",
    "\n",
    "4. gb_used\n",
    "\n",
    "* Пользователи тарифа Смарт тратят на 16% меньшее количество Гб, чем пользователи тарифа Ультра ((1-(3/19х100)). У тарифа Ультра в полтора раза больше стандартное отклонение, это значит, что и разброс значений (дисперсия) тоже выше. При этом у пользователей тарифа Смарт включено в пакет 15 Гб, а у пользователей тарифа Ультра - 30 Гб. Превышение лимита пользователями тарифа Смарт - 9,2% (1-(1,6/15х100)), пользователи тарифа Ультра не используют одну треть имеющегося трафика. Вероятность того, что лимит будет превышен, намного выше у пользователей тарифа Смарт. При этом стоимость дополнительных услуг у этого тарифа также в 0,5 раз выше, что создает предположение, что тариф Смарт приносит больше денег. Это подтверждают графики, на которых мы видим, что количество людей, пользующихся этим тарифом, приблизительно в два раза больше, чем людей, пользующихся тарифом Ультра. Обе гистограммы имеют распределение близкое к нормальному.\n",
    "\n",
    "* Пользователи Москвы тратят и пользователи других городов тратят почти одинаковое количество Гб (18 и 17), и их стандартное отклонение также не отличается.  Из этого можно сделать выводы, что люди тратят на Гб одинаковое количество времени и денег в независимости от города. На графике видим, что преобладающее число пользователей - из других городов. Гистограммы имеют распределение близкое к нормальному.\n",
    "\n",
    "* Видим резкий рост количества потребляемых Гб в феврале и апреле, потом графики становится менее крутыми\n",
    "\n",
    "5. total\n",
    "\n",
    "* Средняя прибыль пользователей тарифа Ультра на 62% больше, чем у пользователей тарифа Смарт ((1-1289/2070/х100). У тарифа Смарт больше чем в два раза стандартное отклонение, это значит, что и разброс значений (дисперсия) тоже выше. При этом у пользователей тарифа Смарт стоимость пакета 550 руб, а у пользователей тарифа Ультра - 1950 Гб. Переплата от пользователей тарифа Смарт - 739 руб, тарифа Ультра - 120, что создает предположение, что тариф Смарт приносит больше денег. Суммарная прибыль от тарифа Смарт - 2875351 руб, Ультра - 2039100. Прибыль от тарифа Смарт на 41% больше. Это подтверждают графики, на которых мы видим, что количество людей, пользующихся этим тарифом, приблизительно в два раза больше, чем людей, пользующихся тарифом Ультра. Гистограммы имеют распределение близкое к нормальному. Имеются два выбивающихся пика - те пользователи, которые не превышают лимиты услуг.\n",
    "\n",
    "* Пользователи Москвы тратят и пользователи других городов тратят приблизительно одинаковое количество денег на связь в месяц (разница менее 3%), и их стандартное отклонение также отличается незначительно.  Из этого можно сделать выводы, что люди тратят на связь в целом одинаковое количество денег в независимости от города. Суммарная прибыль пользователей из Москвы - 945042, других городов - 3969409, это на 220% больше. На графике видим, что преобладающее число пользователей - из других городов. Гистограммы имеют распределение близкое к нормальному. Имеются два выбивающихся пика - те пользователи, которые не превышают лимиты услуг.\n",
    "\n",
    "* В феврале и апреле видим резкий рост выручки с тарифа Смарт, и рост выручки пользователей из Москвы и из других городов. Выручка от тарифа Ультра так же выросла, но не настолько сильно, как у тарифа Смарт."
   ]
  },
  {
   "cell_type": "code",
   "execution_count": 62,
   "id": "f7034fd3",
   "metadata": {},
   "outputs": [
    {
     "data": {
      "text/html": [
       "<div>\n",
       "<style scoped>\n",
       "    .dataframe tbody tr th:only-of-type {\n",
       "        vertical-align: middle;\n",
       "    }\n",
       "\n",
       "    .dataframe tbody tr th {\n",
       "        vertical-align: top;\n",
       "    }\n",
       "\n",
       "    .dataframe thead th {\n",
       "        text-align: right;\n",
       "    }\n",
       "</style>\n",
       "<table border=\"1\" class=\"dataframe\">\n",
       "  <thead>\n",
       "    <tr style=\"text-align: right;\">\n",
       "      <th>month_2</th>\n",
       "      <th>2018-01-01</th>\n",
       "      <th>2018-02-01</th>\n",
       "      <th>2018-03-01</th>\n",
       "      <th>2018-04-01</th>\n",
       "      <th>2018-05-01</th>\n",
       "      <th>2018-06-01</th>\n",
       "      <th>2018-07-01</th>\n",
       "      <th>2018-08-01</th>\n",
       "      <th>2018-09-01</th>\n",
       "      <th>2018-10-01</th>\n",
       "      <th>2018-11-01</th>\n",
       "      <th>2018-12-01</th>\n",
       "    </tr>\n",
       "  </thead>\n",
       "  <tbody>\n",
       "    <tr>\n",
       "      <th>month_2</th>\n",
       "      <td>8</td>\n",
       "      <td>6</td>\n",
       "      <td>6</td>\n",
       "      <td>9</td>\n",
       "      <td>10</td>\n",
       "      <td>8</td>\n",
       "      <td>9</td>\n",
       "      <td>6</td>\n",
       "      <td>7</td>\n",
       "      <td>13</td>\n",
       "      <td>11</td>\n",
       "      <td>6</td>\n",
       "    </tr>\n",
       "  </tbody>\n",
       "</table>\n",
       "</div>"
      ],
      "text/plain": [
       "month_2  2018-01-01  2018-02-01  2018-03-01  2018-04-01  2018-05-01  \\\n",
       "month_2           8           6           6           9          10   \n",
       "\n",
       "month_2  2018-06-01  2018-07-01  2018-08-01  2018-09-01  2018-10-01  \\\n",
       "month_2           8           9           6           7          13   \n",
       "\n",
       "month_2  2018-11-01  2018-12-01  \n",
       "month_2          11           6  "
      ]
     },
     "execution_count": 62,
     "metadata": {},
     "output_type": "execute_result"
    }
   ],
   "source": [
    "# check\n",
    "users_df['month_2'] = users_df['reg_date'].astype('datetime64[M]')\n",
    "users_df[users_df['city'] == 'Москва'].groupby('month_2')['month_2'].count().to_frame().T"
   ]
  },
  {
   "cell_type": "code",
   "execution_count": 63,
   "id": "58331774",
   "metadata": {},
   "outputs": [
    {
     "data": {
      "text/html": [
       "<div>\n",
       "<style scoped>\n",
       "    .dataframe tbody tr th:only-of-type {\n",
       "        vertical-align: middle;\n",
       "    }\n",
       "\n",
       "    .dataframe tbody tr th {\n",
       "        vertical-align: top;\n",
       "    }\n",
       "\n",
       "    .dataframe thead th {\n",
       "        text-align: right;\n",
       "    }\n",
       "</style>\n",
       "<table border=\"1\" class=\"dataframe\">\n",
       "  <thead>\n",
       "    <tr style=\"text-align: right;\">\n",
       "      <th>month_2</th>\n",
       "      <th>2018-01-01</th>\n",
       "      <th>2018-02-01</th>\n",
       "      <th>2018-03-01</th>\n",
       "      <th>2018-04-01</th>\n",
       "      <th>2018-05-01</th>\n",
       "      <th>2018-06-01</th>\n",
       "      <th>2018-07-01</th>\n",
       "      <th>2018-08-01</th>\n",
       "      <th>2018-09-01</th>\n",
       "      <th>2018-10-01</th>\n",
       "      <th>2018-11-01</th>\n",
       "      <th>2018-12-01</th>\n",
       "    </tr>\n",
       "  </thead>\n",
       "  <tbody>\n",
       "    <tr>\n",
       "      <th>month_2</th>\n",
       "      <td>35</td>\n",
       "      <td>33</td>\n",
       "      <td>26</td>\n",
       "      <td>44</td>\n",
       "      <td>31</td>\n",
       "      <td>32</td>\n",
       "      <td>35</td>\n",
       "      <td>44</td>\n",
       "      <td>28</td>\n",
       "      <td>32</td>\n",
       "      <td>31</td>\n",
       "      <td>30</td>\n",
       "    </tr>\n",
       "  </tbody>\n",
       "</table>\n",
       "</div>"
      ],
      "text/plain": [
       "month_2  2018-01-01  2018-02-01  2018-03-01  2018-04-01  2018-05-01  \\\n",
       "month_2          35          33          26          44          31   \n",
       "\n",
       "month_2  2018-06-01  2018-07-01  2018-08-01  2018-09-01  2018-10-01  \\\n",
       "month_2          32          35          44          28          32   \n",
       "\n",
       "month_2  2018-11-01  2018-12-01  \n",
       "month_2          31          30  "
      ]
     },
     "execution_count": 63,
     "metadata": {},
     "output_type": "execute_result"
    }
   ],
   "source": [
    "# check\n",
    "users_df[users_df['city'] != 'Москва'].groupby('month_2')['month_2'].count().to_frame().T"
   ]
  },
  {
   "cell_type": "markdown",
   "id": "7e5ea58f",
   "metadata": {},
   "source": [
    "## Проверка гипотез ##"
   ]
  },
  {
   "cell_type": "markdown",
   "id": "c61abb8d",
   "metadata": {},
   "source": [
    "### Гипотеза 1: средняя выручка пользователей тарифов «Ультра» и «Смарт» различается ###"
   ]
  },
  {
   "cell_type": "markdown",
   "id": "6f72fef0",
   "metadata": {},
   "source": [
    "* H0 - средняя выручка пользователей тарифов «Ультра» и «Смарт» равна.\n",
    "* H1 - средняя выручка пользователей тарифов «Ультра» и «Смарт» различается.\n",
    "\n",
    "Данная гипотеза -  гипотеза о равенстве среднего двух генеральных совокупностей по взятым из них выборкам, исходя из этого выбираем метод для исследования.\n",
    "\n",
    "Так как нам не сказано, как именно должна различаться средняя выручка, гипотеза получается двухсторонней.\n",
    "\n",
    "Критический уровень значимости выберем равный 0.05.\n",
    "\n",
    "Мы не использовали дополнительный параметр equal_var = False, потому что у нас достаточно большие и одинаковые по размеру выборки, к тому же в обеих измерена одна и та же переменная — нет оснований полагать, что разброс будет сильно отличаться."
   ]
  },
  {
   "cell_type": "code",
   "execution_count": 64,
   "id": "5490947c",
   "metadata": {},
   "outputs": [
    {
     "name": "stdout",
     "output_type": "stream",
     "text": [
      "p-значение: [1.42298144e-160]\n",
      "Отвергаем нулевую гипотезу\n"
     ]
    }
   ],
   "source": [
    "alpha = .05\n",
    "\n",
    "smart = general_df_smart['total']\n",
    "ultra = general_df_ultra['total']\n",
    "\n",
    "results = st.ttest_ind(smart, ultra)\n",
    "\n",
    "print('p-значение:', results.pvalue)\n",
    "\n",
    "if ((results.pvalue) < alpha):\n",
    "    print(\"Отвергаем нулевую гипотезу\")\n",
    "else:\n",
    "    print(\"Не получилось отвергнуть нулевую гипотезу\")"
   ]
  },
  {
   "cell_type": "markdown",
   "id": "ae2cf751",
   "metadata": {},
   "source": [
    "### Гипотеза 2: средняя выручка пользователей из Москвы отличается от выручки пользователей из других регионов ###"
   ]
  },
  {
   "cell_type": "markdown",
   "id": "60a10527",
   "metadata": {},
   "source": [
    "* H0 - средняя выручка пользователей из Москвы не отличается от выручки пользователей из других регионов.\n",
    "* H1 - средняя выручка пользователей из Москвы отличается от выручки пользователей из других регионов.\n",
    "\n",
    "Данная гипотеза -  гипотеза о равенстве среднего двух генеральных совокупностей по взятым из них выборкам, исходя из этого выбираем метод для исследования.\n",
    "\n",
    "Так как нам не сказано, как именно должна различаться средняя выручка, гипотеза получается двухсторонней.\n",
    "\n",
    "Критический уровень значимости выберем равный 0.05.\n",
    "\n",
    "Мы не использовали дополнительный параметр equal_var = False, потому что у нас достаточно большие и одинаковые по размеру выборки, к тому же в обеих измерена одна и та же переменная — нет оснований полагать, что разброс будет сильно отличаться."
   ]
  },
  {
   "cell_type": "code",
   "execution_count": 65,
   "id": "fe511b07",
   "metadata": {},
   "outputs": [
    {
     "name": "stdout",
     "output_type": "stream",
     "text": [
      "p-значение: [0.54401529]\n",
      "Не получилось отвергнуть нулевую гипотезу\n"
     ]
    }
   ],
   "source": [
    "alpha = .05\n",
    "\n",
    "moscow = general_df_moscow['total']\n",
    "other = general_df_other['total']\n",
    "\n",
    "results = st.ttest_ind(moscow, other)\n",
    "\n",
    "print('p-значение:', results.pvalue )\n",
    "\n",
    "if ((results.pvalue) < alpha):\n",
    "    print(\"Отвергаем нулевую гипотезу\")\n",
    "else:\n",
    "    print(\"Не получилось отвергнуть нулевую гипотезу\")"
   ]
  },
  {
   "cell_type": "markdown",
   "id": "b0791ee7",
   "metadata": {},
   "source": [
    "#### Вывод ####"
   ]
  },
  {
   "cell_type": "markdown",
   "id": "eff1d0dc",
   "metadata": {},
   "source": [
    "Статистический анализ данных не противоречит гипотезе о том, что средняя выручка пользователей тарифов «Ультра» и «Смарт» различается, и противоречит гипотезе о том, что средняя выручка пользователей из Москвы отличается от выручки пользователей из других регионов.\n",
    "\n",
    "В случае первой гипотезы, значение p-value говорит о том, что хотя средняя выручка тарифов \"Ультра\" и \"Смарт неодинакова, с вероятностью в  1,5^(-163)% такое или большее различие можно получить случайно. Вероятность ошибки в данном случае очень мала, что не противоречит гипотезе.\n",
    "\n",
    "В случае второй гипотезы, значение p-value говорит о том, что хотя средняя выручка пользователей Москвы и других городов неодинакова, с вероятностью в почти 50% такое или большее различие можно получить случайно. Это слишком большая вероятность, чтобы делать вывод о значимом различии между двумя этими категориями."
   ]
  },
  {
   "cell_type": "markdown",
   "id": "5944a18a",
   "metadata": {},
   "source": [
    "## Общий вывод ##"
   ]
  },
  {
   "cell_type": "markdown",
   "id": "4137e4d9",
   "metadata": {},
   "source": [
    "* На этапе предобработки данных не было выявленно серьезных недочетов в данных, нет дубликатов, пропусков кроме заявленных, минимальное количество аномалий. Были заменены названия столбцов и их типы данных.\n",
    "* На этапе анализа данных были произведены необходимые расчеты (количество потраченных услуг по месяцам и для каждого пользователя, полученная выручка). По этим данным были найдены их статистические характеристики (среднее, стандартное отклонение), а сами данные были визуализированы с помощью гистограмм и линейных графиков. \n",
    "* Пользователи тарифа Ультра тратят на 23% большее количество минут, чем пользователи тарифа Смарт, на 33% большее количество сообщений, на 16% большее количество Гб, и приносят на 62% больше прибыли с человека. Но по суммарной прибыли тариф значительно проигрывает - она на 220% меньше.\n",
    "* Пользователи Москвы и пользователи других городов тратят приблизительно одинаковое количество денег на связь и потребляют одинаковое количество услуг в месяц.\n",
    "* У подавляющего большинства пользователей есть превышения по количеству используемых Гб интернета, при этом отсутствуют превышения по количеству минут и сообщений. Это означает то, что пользователи не нуждаются в таком количестве этих услуг, а интернет вытесняет другие способы связи. Превышение лимита пользователями тарифа Смарт - 9,2%, у пользователей тарифа Ультра отсутствует.\n",
    "* На многих линейных графиках виден переломный момент, приходящийся на февраль, после которого все характеристики стали значительно улучшаться.\n",
    "* На этапе проверки гипотез была отвергнута гипотеза о том, что средняя выручка пользователей из Москвы отличается от выручки пользователей из других регионов и не нашлось оснований опровергнуть гипотезу о том, что средняя выручка пользователей тарифов «Ультра» и «Смарт» различается. Эти выводы также подтверждают статистические характеристики и графики.\n",
    "\n",
    "**На текущий момент, выручка с одного пользователя больше у тарифа Ультра, а суммарная у тарифа Смарт, за счет того, что преобладающее число пользователей пользуется им. Теоретически, выгоднее рекламировать тариф Ультра, при условии того, что рекламная компания будет расчитана на привлечение значительного количества пользователей или перехода старых пользователей на этот тариф, т.к. суммарная выручка тарифа Смарт больше практически в 4 раза. Если удастся добиться перехода пользователей на него, есть возможность существенно увеличить выручку.**"
   ]
  },
  {
   "cell_type": "code",
   "execution_count": null,
   "id": "a5dfd4d4",
   "metadata": {},
   "outputs": [],
   "source": []
  }
 ],
 "metadata": {
  "ExecuteTimeLog": [
   {
    "duration": 200,
    "start_time": "2022-04-27T17:47:42.110Z"
   },
   {
    "duration": 1348,
    "start_time": "2022-04-27T17:47:55.450Z"
   },
   {
    "duration": 195,
    "start_time": "2022-04-27T17:47:56.800Z"
   },
   {
    "duration": 0,
    "start_time": "2022-04-27T17:47:56.998Z"
   },
   {
    "duration": 0,
    "start_time": "2022-04-27T17:47:57.000Z"
   },
   {
    "duration": 0,
    "start_time": "2022-04-27T17:47:57.001Z"
   },
   {
    "duration": 0,
    "start_time": "2022-04-27T17:47:57.003Z"
   },
   {
    "duration": 0,
    "start_time": "2022-04-27T17:47:57.004Z"
   },
   {
    "duration": 0,
    "start_time": "2022-04-27T17:47:57.005Z"
   },
   {
    "duration": 0,
    "start_time": "2022-04-27T17:47:57.006Z"
   },
   {
    "duration": 0,
    "start_time": "2022-04-27T17:47:57.007Z"
   },
   {
    "duration": 0,
    "start_time": "2022-04-27T17:47:57.008Z"
   },
   {
    "duration": 0,
    "start_time": "2022-04-27T17:47:57.010Z"
   },
   {
    "duration": 0,
    "start_time": "2022-04-27T17:47:57.011Z"
   },
   {
    "duration": 0,
    "start_time": "2022-04-27T17:47:57.012Z"
   },
   {
    "duration": 0,
    "start_time": "2022-04-27T17:47:57.033Z"
   },
   {
    "duration": 0,
    "start_time": "2022-04-27T17:47:57.034Z"
   },
   {
    "duration": 0,
    "start_time": "2022-04-27T17:47:57.038Z"
   },
   {
    "duration": 0,
    "start_time": "2022-04-27T17:47:57.040Z"
   },
   {
    "duration": 0,
    "start_time": "2022-04-27T17:47:57.041Z"
   },
   {
    "duration": 0,
    "start_time": "2022-04-27T17:47:57.043Z"
   },
   {
    "duration": 0,
    "start_time": "2022-04-27T17:47:57.045Z"
   },
   {
    "duration": 0,
    "start_time": "2022-04-27T17:47:57.047Z"
   },
   {
    "duration": 0,
    "start_time": "2022-04-27T17:47:57.048Z"
   },
   {
    "duration": 0,
    "start_time": "2022-04-27T17:47:57.049Z"
   },
   {
    "duration": 0,
    "start_time": "2022-04-27T17:47:57.051Z"
   },
   {
    "duration": 0,
    "start_time": "2022-04-27T17:47:57.052Z"
   },
   {
    "duration": 0,
    "start_time": "2022-04-27T17:47:57.053Z"
   },
   {
    "duration": 0,
    "start_time": "2022-04-27T17:47:57.054Z"
   },
   {
    "duration": 0,
    "start_time": "2022-04-27T17:47:57.055Z"
   },
   {
    "duration": 0,
    "start_time": "2022-04-27T17:47:57.056Z"
   },
   {
    "duration": 0,
    "start_time": "2022-04-27T17:47:57.057Z"
   },
   {
    "duration": 0,
    "start_time": "2022-04-27T17:47:57.058Z"
   },
   {
    "duration": 0,
    "start_time": "2022-04-27T17:47:57.059Z"
   },
   {
    "duration": 0,
    "start_time": "2022-04-27T17:47:57.060Z"
   },
   {
    "duration": 0,
    "start_time": "2022-04-27T17:47:57.061Z"
   },
   {
    "duration": 0,
    "start_time": "2022-04-27T17:47:57.062Z"
   },
   {
    "duration": 0,
    "start_time": "2022-04-27T17:47:57.063Z"
   },
   {
    "duration": 0,
    "start_time": "2022-04-27T17:47:57.064Z"
   },
   {
    "duration": 0,
    "start_time": "2022-04-27T17:47:57.065Z"
   },
   {
    "duration": 0,
    "start_time": "2022-04-27T17:47:57.065Z"
   },
   {
    "duration": 0,
    "start_time": "2022-04-27T17:47:57.066Z"
   },
   {
    "duration": 0,
    "start_time": "2022-04-27T17:47:57.067Z"
   },
   {
    "duration": 0,
    "start_time": "2022-04-27T17:47:57.068Z"
   },
   {
    "duration": 0,
    "start_time": "2022-04-27T17:47:57.069Z"
   },
   {
    "duration": 0,
    "start_time": "2022-04-27T17:47:57.070Z"
   },
   {
    "duration": 0,
    "start_time": "2022-04-27T17:47:57.071Z"
   },
   {
    "duration": 2,
    "start_time": "2022-04-27T17:48:08.918Z"
   },
   {
    "duration": 446,
    "start_time": "2022-04-27T17:48:40.151Z"
   },
   {
    "duration": 43,
    "start_time": "2022-04-27T17:48:43.246Z"
   },
   {
    "duration": 180,
    "start_time": "2022-04-27T17:50:00.594Z"
   },
   {
    "duration": 98,
    "start_time": "2022-04-27T17:50:25.475Z"
   },
   {
    "duration": 129,
    "start_time": "2022-04-27T17:50:48.475Z"
   },
   {
    "duration": 161,
    "start_time": "2022-04-27T17:53:41.964Z"
   },
   {
    "duration": 62,
    "start_time": "2022-04-27T17:54:01.084Z"
   },
   {
    "duration": 51,
    "start_time": "2022-04-27T17:54:23.676Z"
   },
   {
    "duration": 168,
    "start_time": "2022-04-27T17:54:29.229Z"
   },
   {
    "duration": 439,
    "start_time": "2022-04-27T17:55:28.702Z"
   },
   {
    "duration": 1176,
    "start_time": "2022-04-27T17:55:34.620Z"
   },
   {
    "duration": 2,
    "start_time": "2022-04-27T17:55:35.798Z"
   },
   {
    "duration": 764,
    "start_time": "2022-04-27T17:55:35.801Z"
   },
   {
    "duration": 81,
    "start_time": "2022-04-27T17:55:36.567Z"
   },
   {
    "duration": 196,
    "start_time": "2022-04-27T17:55:36.650Z"
   },
   {
    "duration": 294,
    "start_time": "2022-04-27T17:55:36.848Z"
   },
   {
    "duration": 17,
    "start_time": "2022-04-27T17:55:37.144Z"
   },
   {
    "duration": 267,
    "start_time": "2022-04-27T17:55:37.166Z"
   },
   {
    "duration": 131,
    "start_time": "2022-04-27T17:55:37.436Z"
   },
   {
    "duration": 6,
    "start_time": "2022-04-27T17:55:37.569Z"
   },
   {
    "duration": 98,
    "start_time": "2022-04-27T17:55:37.576Z"
   },
   {
    "duration": 4,
    "start_time": "2022-04-27T17:55:37.675Z"
   },
   {
    "duration": 11,
    "start_time": "2022-04-27T17:55:37.680Z"
   },
   {
    "duration": 40,
    "start_time": "2022-04-27T17:55:37.694Z"
   },
   {
    "duration": 6,
    "start_time": "2022-04-27T17:55:37.735Z"
   },
   {
    "duration": 226,
    "start_time": "2022-04-27T17:55:37.743Z"
   },
   {
    "duration": 18,
    "start_time": "2022-04-27T17:55:37.971Z"
   },
   {
    "duration": 103,
    "start_time": "2022-04-27T17:55:37.993Z"
   },
   {
    "duration": 59,
    "start_time": "2022-04-27T17:55:38.098Z"
   },
   {
    "duration": 36,
    "start_time": "2022-04-27T17:55:38.159Z"
   },
   {
    "duration": 77,
    "start_time": "2022-04-27T17:55:38.197Z"
   },
   {
    "duration": 8,
    "start_time": "2022-04-27T17:55:38.276Z"
   },
   {
    "duration": 115,
    "start_time": "2022-04-27T17:55:38.286Z"
   },
   {
    "duration": 284,
    "start_time": "2022-04-27T17:55:38.403Z"
   },
   {
    "duration": 76,
    "start_time": "2022-04-27T17:55:38.689Z"
   },
   {
    "duration": 82,
    "start_time": "2022-04-27T17:55:38.767Z"
   },
   {
    "duration": 12,
    "start_time": "2022-04-27T17:55:38.851Z"
   },
   {
    "duration": 24,
    "start_time": "2022-04-27T17:55:38.865Z"
   },
   {
    "duration": 14,
    "start_time": "2022-04-27T17:55:38.891Z"
   },
   {
    "duration": 32,
    "start_time": "2022-04-27T17:55:38.906Z"
   },
   {
    "duration": 3,
    "start_time": "2022-04-27T17:55:38.941Z"
   },
   {
    "duration": 3180,
    "start_time": "2022-04-27T17:55:38.947Z"
   },
   {
    "duration": 7,
    "start_time": "2022-04-27T17:55:42.129Z"
   },
   {
    "duration": 23,
    "start_time": "2022-04-27T17:55:42.138Z"
   },
   {
    "duration": 12,
    "start_time": "2022-04-27T17:55:42.163Z"
   },
   {
    "duration": 1187,
    "start_time": "2022-04-27T17:55:42.177Z"
   },
   {
    "duration": 13,
    "start_time": "2022-04-27T17:55:43.366Z"
   },
   {
    "duration": 17,
    "start_time": "2022-04-27T17:55:43.381Z"
   },
   {
    "duration": 41,
    "start_time": "2022-04-27T17:55:43.400Z"
   },
   {
    "duration": 26,
    "start_time": "2022-04-27T17:55:43.443Z"
   },
   {
    "duration": 26,
    "start_time": "2022-04-27T17:55:43.472Z"
   },
   {
    "duration": 50,
    "start_time": "2022-04-27T17:55:43.499Z"
   },
   {
    "duration": 25,
    "start_time": "2022-04-27T17:55:43.551Z"
   },
   {
    "duration": 3246,
    "start_time": "2022-04-27T17:55:43.578Z"
   },
   {
    "duration": 2057,
    "start_time": "2022-04-27T17:55:46.826Z"
   },
   {
    "duration": 6,
    "start_time": "2022-04-27T17:55:48.885Z"
   },
   {
    "duration": 26,
    "start_time": "2022-04-27T17:55:48.893Z"
   },
   {
    "duration": 57,
    "start_time": "2022-04-27T17:55:48.922Z"
   },
   {
    "duration": 11,
    "start_time": "2022-04-27T17:56:57.058Z"
   },
   {
    "duration": 156,
    "start_time": "2022-04-27T17:59:53.769Z"
   },
   {
    "duration": 252,
    "start_time": "2022-04-27T18:00:09.137Z"
   },
   {
    "duration": 8,
    "start_time": "2022-04-27T18:00:59.588Z"
   },
   {
    "duration": 23,
    "start_time": "2022-04-27T18:01:10.068Z"
   },
   {
    "duration": 7,
    "start_time": "2022-04-27T18:01:36.565Z"
   },
   {
    "duration": 13,
    "start_time": "2022-04-27T18:02:59.936Z"
   },
   {
    "duration": 13,
    "start_time": "2022-04-27T18:03:14.104Z"
   },
   {
    "duration": 1179,
    "start_time": "2022-04-27T18:08:20.228Z"
   },
   {
    "duration": 3,
    "start_time": "2022-04-27T18:08:21.409Z"
   },
   {
    "duration": 445,
    "start_time": "2022-04-27T18:08:21.415Z"
   },
   {
    "duration": 41,
    "start_time": "2022-04-27T18:08:21.863Z"
   },
   {
    "duration": 96,
    "start_time": "2022-04-27T18:08:21.906Z"
   },
   {
    "duration": 169,
    "start_time": "2022-04-27T18:08:22.004Z"
   },
   {
    "duration": 16,
    "start_time": "2022-04-27T18:08:22.174Z"
   },
   {
    "duration": 113,
    "start_time": "2022-04-27T18:08:22.192Z"
   },
   {
    "duration": 65,
    "start_time": "2022-04-27T18:08:22.306Z"
   },
   {
    "duration": 6,
    "start_time": "2022-04-27T18:08:22.372Z"
   },
   {
    "duration": 4,
    "start_time": "2022-04-27T18:08:22.379Z"
   },
   {
    "duration": 6,
    "start_time": "2022-04-27T18:08:22.385Z"
   },
   {
    "duration": 5,
    "start_time": "2022-04-27T18:08:22.395Z"
   },
   {
    "duration": 8,
    "start_time": "2022-04-27T18:08:22.402Z"
   },
   {
    "duration": 24,
    "start_time": "2022-04-27T18:08:22.411Z"
   },
   {
    "duration": 209,
    "start_time": "2022-04-27T18:08:22.437Z"
   },
   {
    "duration": 15,
    "start_time": "2022-04-27T18:08:22.648Z"
   },
   {
    "duration": 113,
    "start_time": "2022-04-27T18:08:22.665Z"
   },
   {
    "duration": 38,
    "start_time": "2022-04-27T18:08:22.780Z"
   },
   {
    "duration": 35,
    "start_time": "2022-04-27T18:08:22.834Z"
   },
   {
    "duration": 73,
    "start_time": "2022-04-27T18:08:22.871Z"
   },
   {
    "duration": 8,
    "start_time": "2022-04-27T18:08:22.945Z"
   },
   {
    "duration": 113,
    "start_time": "2022-04-27T18:08:22.954Z"
   },
   {
    "duration": 479,
    "start_time": "2022-04-27T18:08:23.068Z"
   },
   {
    "duration": 98,
    "start_time": "2022-04-27T18:08:23.549Z"
   },
   {
    "duration": 111,
    "start_time": "2022-04-27T18:08:23.650Z"
   },
   {
    "duration": 12,
    "start_time": "2022-04-27T18:08:23.763Z"
   },
   {
    "duration": 13,
    "start_time": "2022-04-27T18:08:23.833Z"
   },
   {
    "duration": 24,
    "start_time": "2022-04-27T18:08:23.847Z"
   },
   {
    "duration": 61,
    "start_time": "2022-04-27T18:08:23.873Z"
   },
   {
    "duration": 16,
    "start_time": "2022-04-27T18:08:23.936Z"
   },
   {
    "duration": 3614,
    "start_time": "2022-04-27T18:08:23.953Z"
   },
   {
    "duration": 7,
    "start_time": "2022-04-27T18:08:27.569Z"
   },
   {
    "duration": 68,
    "start_time": "2022-04-27T18:08:27.577Z"
   },
   {
    "duration": 14,
    "start_time": "2022-04-27T18:08:27.647Z"
   },
   {
    "duration": 1893,
    "start_time": "2022-04-27T18:08:27.662Z"
   },
   {
    "duration": 14,
    "start_time": "2022-04-27T18:08:29.557Z"
   },
   {
    "duration": 64,
    "start_time": "2022-04-27T18:08:29.573Z"
   },
   {
    "duration": 16,
    "start_time": "2022-04-27T18:08:29.638Z"
   },
   {
    "duration": 82,
    "start_time": "2022-04-27T18:08:29.659Z"
   },
   {
    "duration": 26,
    "start_time": "2022-04-27T18:08:29.743Z"
   },
   {
    "duration": 82,
    "start_time": "2022-04-27T18:08:29.770Z"
   },
   {
    "duration": 82,
    "start_time": "2022-04-27T18:08:29.853Z"
   },
   {
    "duration": 26,
    "start_time": "2022-04-27T18:08:29.937Z"
   },
   {
    "duration": 3633,
    "start_time": "2022-04-27T18:08:29.964Z"
   },
   {
    "duration": 2239,
    "start_time": "2022-04-27T18:08:33.598Z"
   },
   {
    "duration": 8,
    "start_time": "2022-04-27T18:08:35.839Z"
   },
   {
    "duration": 12,
    "start_time": "2022-04-27T18:08:35.849Z"
   },
   {
    "duration": 1438,
    "start_time": "2022-04-27T18:08:56.720Z"
   },
   {
    "duration": 3,
    "start_time": "2022-04-27T18:08:58.160Z"
   },
   {
    "duration": 870,
    "start_time": "2022-04-27T18:08:58.164Z"
   },
   {
    "duration": 39,
    "start_time": "2022-04-27T18:08:59.036Z"
   },
   {
    "duration": 174,
    "start_time": "2022-04-27T18:08:59.077Z"
   },
   {
    "duration": 147,
    "start_time": "2022-04-27T18:08:59.253Z"
   },
   {
    "duration": 38,
    "start_time": "2022-04-27T18:08:59.402Z"
   },
   {
    "duration": 93,
    "start_time": "2022-04-27T18:08:59.442Z"
   },
   {
    "duration": 59,
    "start_time": "2022-04-27T18:08:59.537Z"
   },
   {
    "duration": 7,
    "start_time": "2022-04-27T18:08:59.599Z"
   },
   {
    "duration": 67,
    "start_time": "2022-04-27T18:08:59.607Z"
   },
   {
    "duration": 6,
    "start_time": "2022-04-27T18:08:59.676Z"
   },
   {
    "duration": 9,
    "start_time": "2022-04-27T18:08:59.684Z"
   },
   {
    "duration": 6,
    "start_time": "2022-04-27T18:08:59.694Z"
   },
   {
    "duration": 6,
    "start_time": "2022-04-27T18:08:59.701Z"
   },
   {
    "duration": 205,
    "start_time": "2022-04-27T18:08:59.709Z"
   },
   {
    "duration": 28,
    "start_time": "2022-04-27T18:08:59.916Z"
   },
   {
    "duration": 93,
    "start_time": "2022-04-27T18:08:59.946Z"
   },
   {
    "duration": 42,
    "start_time": "2022-04-27T18:09:00.041Z"
   },
   {
    "duration": 68,
    "start_time": "2022-04-27T18:09:00.086Z"
   },
   {
    "duration": 53,
    "start_time": "2022-04-27T18:09:00.157Z"
   },
   {
    "duration": 26,
    "start_time": "2022-04-27T18:09:00.212Z"
   },
   {
    "duration": 107,
    "start_time": "2022-04-27T18:09:00.240Z"
   },
   {
    "duration": 272,
    "start_time": "2022-04-27T18:09:00.349Z"
   },
   {
    "duration": 42,
    "start_time": "2022-04-27T18:09:00.623Z"
   },
   {
    "duration": 66,
    "start_time": "2022-04-27T18:09:00.667Z"
   },
   {
    "duration": 12,
    "start_time": "2022-04-27T18:09:00.735Z"
   },
   {
    "duration": 12,
    "start_time": "2022-04-27T18:09:00.751Z"
   },
   {
    "duration": 21,
    "start_time": "2022-04-27T18:09:00.765Z"
   },
   {
    "duration": 31,
    "start_time": "2022-04-27T18:09:00.788Z"
   },
   {
    "duration": 7,
    "start_time": "2022-04-27T18:09:00.821Z"
   },
   {
    "duration": 3154,
    "start_time": "2022-04-27T18:09:00.830Z"
   },
   {
    "duration": 8,
    "start_time": "2022-04-27T18:09:03.986Z"
   },
   {
    "duration": 14,
    "start_time": "2022-04-27T18:09:03.995Z"
   },
   {
    "duration": 10,
    "start_time": "2022-04-27T18:09:04.011Z"
   },
   {
    "duration": 1210,
    "start_time": "2022-04-27T18:09:04.023Z"
   },
   {
    "duration": 15,
    "start_time": "2022-04-27T18:09:05.235Z"
   },
   {
    "duration": 17,
    "start_time": "2022-04-27T18:09:05.267Z"
   },
   {
    "duration": 49,
    "start_time": "2022-04-27T18:09:05.285Z"
   },
   {
    "duration": 26,
    "start_time": "2022-04-27T18:09:05.336Z"
   },
   {
    "duration": 25,
    "start_time": "2022-04-27T18:09:05.364Z"
   },
   {
    "duration": 56,
    "start_time": "2022-04-27T18:09:05.390Z"
   },
   {
    "duration": 27,
    "start_time": "2022-04-27T18:09:05.448Z"
   },
   {
    "duration": 3321,
    "start_time": "2022-04-27T18:09:05.477Z"
   },
   {
    "duration": 2220,
    "start_time": "2022-04-27T18:09:08.800Z"
   },
   {
    "duration": 16,
    "start_time": "2022-04-27T18:09:11.022Z"
   },
   {
    "duration": 17,
    "start_time": "2022-04-27T18:09:11.040Z"
   },
   {
    "duration": 14,
    "start_time": "2022-04-27T18:09:11.060Z"
   },
   {
    "duration": 14,
    "start_time": "2022-04-27T18:09:29.220Z"
   },
   {
    "duration": 12,
    "start_time": "2022-04-27T18:10:10.906Z"
   },
   {
    "duration": 185,
    "start_time": "2022-04-27T18:11:33.746Z"
   },
   {
    "duration": 3221,
    "start_time": "2022-04-27T18:12:32.108Z"
   },
   {
    "duration": 170,
    "start_time": "2022-04-27T18:12:52.896Z"
   },
   {
    "duration": 9,
    "start_time": "2022-04-27T18:18:41.987Z"
   },
   {
    "duration": 14,
    "start_time": "2022-04-27T18:18:56.042Z"
   },
   {
    "duration": 14,
    "start_time": "2022-04-27T18:19:05.714Z"
   },
   {
    "duration": 182,
    "start_time": "2022-04-27T18:19:31.586Z"
   },
   {
    "duration": 1301,
    "start_time": "2022-04-27T18:25:28.597Z"
   },
   {
    "duration": 3,
    "start_time": "2022-04-27T18:25:29.900Z"
   },
   {
    "duration": 461,
    "start_time": "2022-04-27T18:25:29.904Z"
   },
   {
    "duration": 40,
    "start_time": "2022-04-27T18:25:30.367Z"
   },
   {
    "duration": 99,
    "start_time": "2022-04-27T18:25:30.410Z"
   },
   {
    "duration": 170,
    "start_time": "2022-04-27T18:25:30.511Z"
   },
   {
    "duration": 16,
    "start_time": "2022-04-27T18:25:30.682Z"
   },
   {
    "duration": 109,
    "start_time": "2022-04-27T18:25:30.700Z"
   },
   {
    "duration": 69,
    "start_time": "2022-04-27T18:25:30.811Z"
   },
   {
    "duration": 6,
    "start_time": "2022-04-27T18:25:30.883Z"
   },
   {
    "duration": 56,
    "start_time": "2022-04-27T18:25:30.890Z"
   },
   {
    "duration": 4,
    "start_time": "2022-04-27T18:25:30.948Z"
   },
   {
    "duration": 14,
    "start_time": "2022-04-27T18:25:30.954Z"
   },
   {
    "duration": 9,
    "start_time": "2022-04-27T18:25:30.972Z"
   },
   {
    "duration": 12,
    "start_time": "2022-04-27T18:25:30.983Z"
   },
   {
    "duration": 209,
    "start_time": "2022-04-27T18:25:30.997Z"
   },
   {
    "duration": 26,
    "start_time": "2022-04-27T18:25:31.208Z"
   },
   {
    "duration": 81,
    "start_time": "2022-04-27T18:25:31.237Z"
   },
   {
    "duration": 58,
    "start_time": "2022-04-27T18:25:31.320Z"
   },
   {
    "duration": 59,
    "start_time": "2022-04-27T18:25:31.380Z"
   },
   {
    "duration": 54,
    "start_time": "2022-04-27T18:25:31.441Z"
   },
   {
    "duration": 8,
    "start_time": "2022-04-27T18:25:31.497Z"
   },
   {
    "duration": 130,
    "start_time": "2022-04-27T18:25:31.507Z"
   },
   {
    "duration": 277,
    "start_time": "2022-04-27T18:25:31.639Z"
   },
   {
    "duration": 44,
    "start_time": "2022-04-27T18:25:31.918Z"
   },
   {
    "duration": 56,
    "start_time": "2022-04-27T18:25:31.963Z"
   },
   {
    "duration": 21,
    "start_time": "2022-04-27T18:25:32.021Z"
   },
   {
    "duration": 16,
    "start_time": "2022-04-27T18:25:32.044Z"
   },
   {
    "duration": 13,
    "start_time": "2022-04-27T18:25:32.062Z"
   },
   {
    "duration": 13,
    "start_time": "2022-04-27T18:25:32.077Z"
   },
   {
    "duration": 6,
    "start_time": "2022-04-27T18:25:32.092Z"
   },
   {
    "duration": 3120,
    "start_time": "2022-04-27T18:25:32.099Z"
   },
   {
    "duration": 7,
    "start_time": "2022-04-27T18:25:35.221Z"
   },
   {
    "duration": 10,
    "start_time": "2022-04-27T18:25:35.233Z"
   },
   {
    "duration": 8,
    "start_time": "2022-04-27T18:25:35.245Z"
   },
   {
    "duration": 1192,
    "start_time": "2022-04-27T18:25:35.255Z"
   },
   {
    "duration": 14,
    "start_time": "2022-04-27T18:25:36.449Z"
   },
   {
    "duration": 9,
    "start_time": "2022-04-27T18:25:36.465Z"
   },
   {
    "duration": 13,
    "start_time": "2022-04-27T18:25:36.476Z"
   },
   {
    "duration": 14,
    "start_time": "2022-04-27T18:25:36.491Z"
   },
   {
    "duration": 35,
    "start_time": "2022-04-27T18:25:36.509Z"
   },
   {
    "duration": 24,
    "start_time": "2022-04-27T18:25:36.546Z"
   },
   {
    "duration": 25,
    "start_time": "2022-04-27T18:25:36.571Z"
   },
   {
    "duration": 50,
    "start_time": "2022-04-27T18:25:36.597Z"
   },
   {
    "duration": 26,
    "start_time": "2022-04-27T18:25:36.649Z"
   },
   {
    "duration": 26,
    "start_time": "2022-04-27T18:25:36.677Z"
   },
   {
    "duration": 3195,
    "start_time": "2022-04-27T18:25:36.705Z"
   },
   {
    "duration": 2142,
    "start_time": "2022-04-27T18:25:39.901Z"
   },
   {
    "duration": 7,
    "start_time": "2022-04-27T18:25:42.045Z"
   },
   {
    "duration": 17,
    "start_time": "2022-04-27T18:25:42.054Z"
   },
   {
    "duration": 84,
    "start_time": "2022-04-28T12:37:37.523Z"
   },
   {
    "duration": 1718,
    "start_time": "2022-04-28T12:37:43.291Z"
   },
   {
    "duration": 753,
    "start_time": "2022-04-28T12:37:46.156Z"
   },
   {
    "duration": 4,
    "start_time": "2022-04-28T12:37:56.022Z"
   },
   {
    "duration": 657,
    "start_time": "2022-04-28T12:37:56.028Z"
   },
   {
    "duration": 528,
    "start_time": "2022-04-28T12:37:56.687Z"
   },
   {
    "duration": 72,
    "start_time": "2022-04-28T12:37:57.218Z"
   },
   {
    "duration": 204,
    "start_time": "2022-04-28T12:37:57.293Z"
   },
   {
    "duration": 358,
    "start_time": "2022-04-28T12:37:57.499Z"
   },
   {
    "duration": 25,
    "start_time": "2022-04-28T12:37:57.859Z"
   },
   {
    "duration": 366,
    "start_time": "2022-04-28T12:37:57.886Z"
   },
   {
    "duration": 295,
    "start_time": "2022-04-28T12:37:58.257Z"
   },
   {
    "duration": 58,
    "start_time": "2022-04-28T12:37:58.554Z"
   },
   {
    "duration": 86,
    "start_time": "2022-04-28T12:37:58.614Z"
   },
   {
    "duration": 5,
    "start_time": "2022-04-28T12:37:58.752Z"
   },
   {
    "duration": 7,
    "start_time": "2022-04-28T12:37:58.759Z"
   },
   {
    "duration": 6,
    "start_time": "2022-04-28T12:37:58.768Z"
   },
   {
    "duration": 6,
    "start_time": "2022-04-28T12:37:58.777Z"
   },
   {
    "duration": 506,
    "start_time": "2022-04-28T12:37:58.785Z"
   },
   {
    "duration": 76,
    "start_time": "2022-04-28T12:37:59.293Z"
   },
   {
    "duration": 200,
    "start_time": "2022-04-28T12:37:59.372Z"
   },
   {
    "duration": 103,
    "start_time": "2022-04-28T12:37:59.574Z"
   },
   {
    "duration": 100,
    "start_time": "2022-04-28T12:37:59.679Z"
   },
   {
    "duration": 171,
    "start_time": "2022-04-28T12:37:59.781Z"
   },
   {
    "duration": 10,
    "start_time": "2022-04-28T12:37:59.954Z"
   },
   {
    "duration": 229,
    "start_time": "2022-04-28T12:37:59.966Z"
   },
   {
    "duration": 742,
    "start_time": "2022-04-28T12:38:00.254Z"
   },
   {
    "duration": 166,
    "start_time": "2022-04-28T12:38:00.998Z"
   },
   {
    "duration": 186,
    "start_time": "2022-04-28T12:38:01.167Z"
   },
   {
    "duration": 20,
    "start_time": "2022-04-28T12:38:01.356Z"
   },
   {
    "duration": 82,
    "start_time": "2022-04-28T12:38:01.378Z"
   },
   {
    "duration": 27,
    "start_time": "2022-04-28T12:38:01.462Z"
   },
   {
    "duration": 27,
    "start_time": "2022-04-28T12:38:01.492Z"
   },
   {
    "duration": 14,
    "start_time": "2022-04-28T12:38:01.521Z"
   },
   {
    "duration": 5410,
    "start_time": "2022-04-28T12:38:01.551Z"
   },
   {
    "duration": 10,
    "start_time": "2022-04-28T12:38:06.963Z"
   },
   {
    "duration": 12,
    "start_time": "2022-04-28T12:38:06.975Z"
   },
   {
    "duration": 18,
    "start_time": "2022-04-28T12:38:06.989Z"
   },
   {
    "duration": 2324,
    "start_time": "2022-04-28T12:38:07.009Z"
   },
   {
    "duration": 23,
    "start_time": "2022-04-28T12:38:09.335Z"
   },
   {
    "duration": 16,
    "start_time": "2022-04-28T12:38:09.360Z"
   },
   {
    "duration": 19,
    "start_time": "2022-04-28T12:38:09.378Z"
   },
   {
    "duration": 20,
    "start_time": "2022-04-28T12:38:09.399Z"
   },
   {
    "duration": 48,
    "start_time": "2022-04-28T12:38:09.421Z"
   },
   {
    "duration": 34,
    "start_time": "2022-04-28T12:38:09.471Z"
   },
   {
    "duration": 66,
    "start_time": "2022-04-28T12:38:09.507Z"
   },
   {
    "duration": 35,
    "start_time": "2022-04-28T12:38:09.575Z"
   },
   {
    "duration": 60,
    "start_time": "2022-04-28T12:38:09.612Z"
   },
   {
    "duration": 33,
    "start_time": "2022-04-28T12:38:09.674Z"
   },
   {
    "duration": 4713,
    "start_time": "2022-04-28T12:38:09.709Z"
   },
   {
    "duration": 3033,
    "start_time": "2022-04-28T12:38:14.424Z"
   },
   {
    "duration": 8,
    "start_time": "2022-04-28T12:38:17.459Z"
   },
   {
    "duration": 28,
    "start_time": "2022-04-28T12:38:17.469Z"
   },
   {
    "duration": 168,
    "start_time": "2022-04-28T12:44:57.175Z"
   },
   {
    "duration": 26,
    "start_time": "2022-04-28T12:47:44.155Z"
   },
   {
    "duration": 312,
    "start_time": "2022-04-28T12:49:26.614Z"
   },
   {
    "duration": 13,
    "start_time": "2022-04-28T12:49:39.666Z"
   },
   {
    "duration": 29,
    "start_time": "2022-04-28T12:50:42.691Z"
   },
   {
    "duration": 1490,
    "start_time": "2022-04-28T12:50:50.417Z"
   },
   {
    "duration": 582,
    "start_time": "2022-04-28T12:50:51.911Z"
   },
   {
    "duration": 502,
    "start_time": "2022-04-28T12:50:52.495Z"
   },
   {
    "duration": 83,
    "start_time": "2022-04-28T12:50:53.001Z"
   },
   {
    "duration": 177,
    "start_time": "2022-04-28T12:50:53.087Z"
   },
   {
    "duration": 215,
    "start_time": "2022-04-28T12:50:53.266Z"
   },
   {
    "duration": 29,
    "start_time": "2022-04-28T12:50:53.483Z"
   },
   {
    "duration": 52,
    "start_time": "2022-04-28T12:50:53.514Z"
   },
   {
    "duration": 130,
    "start_time": "2022-04-28T12:50:53.569Z"
   },
   {
    "duration": 6,
    "start_time": "2022-04-28T12:50:53.703Z"
   },
   {
    "duration": 13,
    "start_time": "2022-04-28T12:50:53.712Z"
   },
   {
    "duration": 5,
    "start_time": "2022-04-28T12:50:53.727Z"
   },
   {
    "duration": 22,
    "start_time": "2022-04-28T12:50:53.734Z"
   },
   {
    "duration": 17,
    "start_time": "2022-04-28T12:50:53.758Z"
   },
   {
    "duration": 12,
    "start_time": "2022-04-28T12:50:53.777Z"
   },
   {
    "duration": 571,
    "start_time": "2022-04-28T12:50:53.792Z"
   },
   {
    "duration": 24,
    "start_time": "2022-04-28T12:50:54.367Z"
   },
   {
    "duration": 239,
    "start_time": "2022-04-28T12:50:54.452Z"
   },
   {
    "duration": 179,
    "start_time": "2022-04-28T12:50:54.694Z"
   },
   {
    "duration": 120,
    "start_time": "2022-04-28T12:50:54.876Z"
   },
   {
    "duration": 136,
    "start_time": "2022-04-28T12:50:55.053Z"
   },
   {
    "duration": 73,
    "start_time": "2022-04-28T12:50:55.192Z"
   },
   {
    "duration": 299,
    "start_time": "2022-04-28T12:50:55.270Z"
   },
   {
    "duration": 909,
    "start_time": "2022-04-28T12:50:55.571Z"
   },
   {
    "duration": 158,
    "start_time": "2022-04-28T12:50:56.496Z"
   },
   {
    "duration": 224,
    "start_time": "2022-04-28T12:50:56.657Z"
   },
   {
    "duration": 16,
    "start_time": "2022-04-28T12:50:56.883Z"
   },
   {
    "duration": 22,
    "start_time": "2022-04-28T12:50:56.955Z"
   },
   {
    "duration": 76,
    "start_time": "2022-04-28T12:50:56.979Z"
   },
   {
    "duration": 28,
    "start_time": "2022-04-28T12:50:57.059Z"
   },
   {
    "duration": 6,
    "start_time": "2022-04-28T12:50:57.090Z"
   },
   {
    "duration": 13254,
    "start_time": "2022-04-28T12:50:57.098Z"
   },
   {
    "duration": 19,
    "start_time": "2022-04-28T12:51:10.356Z"
   },
   {
    "duration": 12,
    "start_time": "2022-04-28T12:51:10.378Z"
   },
   {
    "duration": 10,
    "start_time": "2022-04-28T12:51:10.392Z"
   },
   {
    "duration": 3120,
    "start_time": "2022-04-28T12:51:10.457Z"
   },
   {
    "duration": 18,
    "start_time": "2022-04-28T12:51:13.579Z"
   },
   {
    "duration": 11,
    "start_time": "2022-04-28T12:51:13.599Z"
   },
   {
    "duration": 38,
    "start_time": "2022-04-28T12:51:13.613Z"
   },
   {
    "duration": 21,
    "start_time": "2022-04-28T12:51:13.654Z"
   },
   {
    "duration": 20,
    "start_time": "2022-04-28T12:51:13.677Z"
   },
   {
    "duration": 78,
    "start_time": "2022-04-28T12:51:13.699Z"
   },
   {
    "duration": 34,
    "start_time": "2022-04-28T12:51:13.779Z"
   },
   {
    "duration": 63,
    "start_time": "2022-04-28T12:51:13.816Z"
   },
   {
    "duration": 38,
    "start_time": "2022-04-28T12:51:13.881Z"
   },
   {
    "duration": 67,
    "start_time": "2022-04-28T12:51:13.921Z"
   },
   {
    "duration": 5599,
    "start_time": "2022-04-28T12:51:13.991Z"
   },
   {
    "duration": 4048,
    "start_time": "2022-04-28T12:51:19.593Z"
   },
   {
    "duration": 16,
    "start_time": "2022-04-28T12:51:23.644Z"
   },
   {
    "duration": 14,
    "start_time": "2022-04-28T12:51:23.662Z"
   },
   {
    "duration": 137,
    "start_time": "2022-04-28T12:51:41.377Z"
   },
   {
    "duration": 27,
    "start_time": "2022-04-28T12:52:12.341Z"
   },
   {
    "duration": 36,
    "start_time": "2022-04-28T12:52:28.017Z"
   },
   {
    "duration": 37,
    "start_time": "2022-04-28T12:53:17.466Z"
   },
   {
    "duration": 113,
    "start_time": "2022-04-28T12:53:37.995Z"
   },
   {
    "duration": 38,
    "start_time": "2022-04-28T12:53:52.437Z"
   },
   {
    "duration": 11,
    "start_time": "2022-04-28T12:55:22.417Z"
   },
   {
    "duration": 2235,
    "start_time": "2022-04-28T12:55:28.803Z"
   },
   {
    "duration": 1383,
    "start_time": "2022-04-28T12:55:38.404Z"
   },
   {
    "duration": 908,
    "start_time": "2022-04-28T12:55:39.790Z"
   },
   {
    "duration": 990,
    "start_time": "2022-04-28T12:55:40.700Z"
   },
   {
    "duration": 183,
    "start_time": "2022-04-28T12:55:41.693Z"
   },
   {
    "duration": 274,
    "start_time": "2022-04-28T12:55:41.878Z"
   },
   {
    "duration": 321,
    "start_time": "2022-04-28T12:55:42.154Z"
   },
   {
    "duration": 89,
    "start_time": "2022-04-28T12:55:42.477Z"
   },
   {
    "duration": 604,
    "start_time": "2022-04-28T12:55:42.568Z"
   },
   {
    "duration": 82,
    "start_time": "2022-04-28T12:55:43.175Z"
   },
   {
    "duration": 213,
    "start_time": "2022-04-28T12:55:43.262Z"
   },
   {
    "duration": 4,
    "start_time": "2022-04-28T12:55:43.477Z"
   },
   {
    "duration": 10,
    "start_time": "2022-04-28T12:55:43.483Z"
   },
   {
    "duration": 59,
    "start_time": "2022-04-28T12:55:43.495Z"
   },
   {
    "duration": 11,
    "start_time": "2022-04-28T12:55:43.557Z"
   },
   {
    "duration": 7,
    "start_time": "2022-04-28T12:55:43.570Z"
   },
   {
    "duration": 8,
    "start_time": "2022-04-28T12:55:43.579Z"
   },
   {
    "duration": 482,
    "start_time": "2022-04-28T12:55:43.590Z"
   },
   {
    "duration": 78,
    "start_time": "2022-04-28T12:55:44.074Z"
   },
   {
    "duration": 199,
    "start_time": "2022-04-28T12:55:44.155Z"
   },
   {
    "duration": 101,
    "start_time": "2022-04-28T12:55:44.356Z"
   },
   {
    "duration": 101,
    "start_time": "2022-04-28T12:55:44.459Z"
   },
   {
    "duration": 125,
    "start_time": "2022-04-28T12:55:44.563Z"
   },
   {
    "duration": 64,
    "start_time": "2022-04-28T12:55:44.690Z"
   },
   {
    "duration": 222,
    "start_time": "2022-04-28T12:55:44.756Z"
   },
   {
    "duration": 772,
    "start_time": "2022-04-28T12:55:44.980Z"
   },
   {
    "duration": 101,
    "start_time": "2022-04-28T12:55:45.754Z"
   },
   {
    "duration": 130,
    "start_time": "2022-04-28T12:55:45.857Z"
   },
   {
    "duration": 65,
    "start_time": "2022-04-28T12:55:45.992Z"
   },
   {
    "duration": 19,
    "start_time": "2022-04-28T12:55:46.059Z"
   },
   {
    "duration": 77,
    "start_time": "2022-04-28T12:55:46.080Z"
   },
   {
    "duration": 23,
    "start_time": "2022-04-28T12:55:46.159Z"
   },
   {
    "duration": 6,
    "start_time": "2022-04-28T12:55:46.184Z"
   },
   {
    "duration": 10526,
    "start_time": "2022-04-28T12:55:46.192Z"
   },
   {
    "duration": 14,
    "start_time": "2022-04-28T12:55:56.721Z"
   },
   {
    "duration": 21,
    "start_time": "2022-04-28T12:55:56.738Z"
   },
   {
    "duration": 10,
    "start_time": "2022-04-28T12:55:56.761Z"
   },
   {
    "duration": 2862,
    "start_time": "2022-04-28T12:55:56.774Z"
   },
   {
    "duration": 29,
    "start_time": "2022-04-28T12:55:59.639Z"
   },
   {
    "duration": 14,
    "start_time": "2022-04-28T12:55:59.670Z"
   },
   {
    "duration": 17,
    "start_time": "2022-04-28T12:55:59.687Z"
   },
   {
    "duration": 49,
    "start_time": "2022-04-28T12:55:59.707Z"
   },
   {
    "duration": 21,
    "start_time": "2022-04-28T12:55:59.759Z"
   },
   {
    "duration": 35,
    "start_time": "2022-04-28T12:55:59.782Z"
   },
   {
    "duration": 63,
    "start_time": "2022-04-28T12:55:59.819Z"
   },
   {
    "duration": 37,
    "start_time": "2022-04-28T12:55:59.884Z"
   },
   {
    "duration": 58,
    "start_time": "2022-04-28T12:55:59.923Z"
   },
   {
    "duration": 41,
    "start_time": "2022-04-28T12:55:59.983Z"
   },
   {
    "duration": 4973,
    "start_time": "2022-04-28T12:56:00.051Z"
   },
   {
    "duration": 3708,
    "start_time": "2022-04-28T12:56:05.026Z"
   },
   {
    "duration": 17,
    "start_time": "2022-04-28T12:56:08.737Z"
   },
   {
    "duration": 21,
    "start_time": "2022-04-28T12:56:08.756Z"
   },
   {
    "duration": 171,
    "start_time": "2022-04-28T12:57:50.104Z"
   },
   {
    "duration": 54,
    "start_time": "2022-04-28T13:06:51.115Z"
   },
   {
    "duration": 58,
    "start_time": "2022-04-28T13:07:13.342Z"
   },
   {
    "duration": 47,
    "start_time": "2022-04-28T13:07:30.047Z"
   },
   {
    "duration": 42,
    "start_time": "2022-04-28T13:07:35.021Z"
   },
   {
    "duration": 52,
    "start_time": "2022-04-28T13:07:40.707Z"
   },
   {
    "duration": 108,
    "start_time": "2022-04-28T13:10:45.524Z"
   },
   {
    "duration": 34,
    "start_time": "2022-04-28T13:11:57.188Z"
   },
   {
    "duration": 122,
    "start_time": "2022-04-28T13:12:11.427Z"
   },
   {
    "duration": 58,
    "start_time": "2022-04-28T13:12:24.516Z"
   },
   {
    "duration": 44,
    "start_time": "2022-04-28T13:12:37.368Z"
   },
   {
    "duration": 48,
    "start_time": "2022-04-28T13:13:53.116Z"
   },
   {
    "duration": 37,
    "start_time": "2022-04-28T13:14:05.692Z"
   },
   {
    "duration": 1666,
    "start_time": "2022-04-28T13:15:01.978Z"
   },
   {
    "duration": 769,
    "start_time": "2022-04-28T13:15:03.647Z"
   },
   {
    "duration": 1255,
    "start_time": "2022-04-28T13:15:04.455Z"
   },
   {
    "duration": 207,
    "start_time": "2022-04-28T13:15:05.751Z"
   },
   {
    "duration": 299,
    "start_time": "2022-04-28T13:15:05.961Z"
   },
   {
    "duration": 437,
    "start_time": "2022-04-28T13:15:06.263Z"
   },
   {
    "duration": 160,
    "start_time": "2022-04-28T13:15:06.703Z"
   },
   {
    "duration": 634,
    "start_time": "2022-04-28T13:15:06.866Z"
   },
   {
    "duration": 95,
    "start_time": "2022-04-28T13:15:07.502Z"
   },
   {
    "duration": 311,
    "start_time": "2022-04-28T13:15:07.601Z"
   },
   {
    "duration": 4,
    "start_time": "2022-04-28T13:15:07.915Z"
   },
   {
    "duration": 40,
    "start_time": "2022-04-28T13:15:07.953Z"
   },
   {
    "duration": 6,
    "start_time": "2022-04-28T13:15:07.996Z"
   },
   {
    "duration": 7,
    "start_time": "2022-04-28T13:15:08.004Z"
   },
   {
    "duration": 4,
    "start_time": "2022-04-28T13:15:08.014Z"
   },
   {
    "duration": 65,
    "start_time": "2022-04-28T13:15:08.021Z"
   },
   {
    "duration": 613,
    "start_time": "2022-04-28T13:15:08.090Z"
   },
   {
    "duration": 75,
    "start_time": "2022-04-28T13:15:08.706Z"
   },
   {
    "duration": 301,
    "start_time": "2022-04-28T13:15:08.783Z"
   },
   {
    "duration": 170,
    "start_time": "2022-04-28T13:15:09.087Z"
   },
   {
    "duration": 130,
    "start_time": "2022-04-28T13:15:09.260Z"
   },
   {
    "duration": 191,
    "start_time": "2022-04-28T13:15:09.394Z"
   },
   {
    "duration": 18,
    "start_time": "2022-04-28T13:15:09.589Z"
   },
   {
    "duration": 370,
    "start_time": "2022-04-28T13:15:09.610Z"
   },
   {
    "duration": 1008,
    "start_time": "2022-04-28T13:15:09.983Z"
   },
   {
    "duration": 99,
    "start_time": "2022-04-28T13:15:10.993Z"
   },
   {
    "duration": 309,
    "start_time": "2022-04-28T13:15:11.094Z"
   },
   {
    "duration": 40,
    "start_time": "2022-04-28T13:15:11.453Z"
   },
   {
    "duration": 81,
    "start_time": "2022-04-28T13:15:11.496Z"
   },
   {
    "duration": 28,
    "start_time": "2022-04-28T13:15:11.580Z"
   },
   {
    "duration": 69,
    "start_time": "2022-04-28T13:15:11.611Z"
   },
   {
    "duration": 9022,
    "start_time": "2022-04-28T13:15:11.683Z"
   },
   {
    "duration": 14,
    "start_time": "2022-04-28T13:15:20.708Z"
   },
   {
    "duration": 17,
    "start_time": "2022-04-28T13:15:20.724Z"
   },
   {
    "duration": 15,
    "start_time": "2022-04-28T13:15:20.744Z"
   },
   {
    "duration": 2335,
    "start_time": "2022-04-28T13:15:20.762Z"
   },
   {
    "duration": 19,
    "start_time": "2022-04-28T13:15:23.099Z"
   },
   {
    "duration": 44,
    "start_time": "2022-04-28T13:15:23.120Z"
   },
   {
    "duration": 26,
    "start_time": "2022-04-28T13:15:23.167Z"
   },
   {
    "duration": 22,
    "start_time": "2022-04-28T13:15:23.195Z"
   },
   {
    "duration": 39,
    "start_time": "2022-04-28T13:15:23.220Z"
   },
   {
    "duration": 63,
    "start_time": "2022-04-28T13:15:23.262Z"
   },
   {
    "duration": 48,
    "start_time": "2022-04-28T13:15:23.328Z"
   },
   {
    "duration": 50,
    "start_time": "2022-04-28T13:15:23.380Z"
   },
   {
    "duration": 71,
    "start_time": "2022-04-28T13:15:23.433Z"
   },
   {
    "duration": 33,
    "start_time": "2022-04-28T13:15:23.506Z"
   },
   {
    "duration": 5929,
    "start_time": "2022-04-28T13:15:23.542Z"
   },
   {
    "duration": 4139,
    "start_time": "2022-04-28T13:15:29.474Z"
   },
   {
    "duration": 16,
    "start_time": "2022-04-28T13:15:33.616Z"
   },
   {
    "duration": 33,
    "start_time": "2022-04-28T13:15:33.634Z"
   },
   {
    "duration": 22,
    "start_time": "2022-04-28T13:16:46.871Z"
   },
   {
    "duration": 2853,
    "start_time": "2022-04-28T13:21:48.214Z"
   },
   {
    "duration": 1702,
    "start_time": "2022-04-28T13:21:51.070Z"
   },
   {
    "duration": 755,
    "start_time": "2022-04-28T13:21:52.784Z"
   },
   {
    "duration": 85,
    "start_time": "2022-04-28T13:21:53.541Z"
   },
   {
    "duration": 168,
    "start_time": "2022-04-28T13:21:53.654Z"
   },
   {
    "duration": 264,
    "start_time": "2022-04-28T13:21:53.856Z"
   },
   {
    "duration": 31,
    "start_time": "2022-04-28T13:21:54.124Z"
   },
   {
    "duration": 411,
    "start_time": "2022-04-28T13:21:54.158Z"
   },
   {
    "duration": 40,
    "start_time": "2022-04-28T13:21:54.572Z"
   },
   {
    "duration": 158,
    "start_time": "2022-04-28T13:21:54.614Z"
   },
   {
    "duration": 7,
    "start_time": "2022-04-28T13:21:54.775Z"
   },
   {
    "duration": 17,
    "start_time": "2022-04-28T13:21:54.784Z"
   },
   {
    "duration": 8,
    "start_time": "2022-04-28T13:21:54.803Z"
   },
   {
    "duration": 13,
    "start_time": "2022-04-28T13:21:54.817Z"
   },
   {
    "duration": 24,
    "start_time": "2022-04-28T13:21:54.832Z"
   },
   {
    "duration": 41,
    "start_time": "2022-04-28T13:21:54.859Z"
   },
   {
    "duration": 333,
    "start_time": "2022-04-28T13:21:54.905Z"
   },
   {
    "duration": 33,
    "start_time": "2022-04-28T13:21:55.241Z"
   },
   {
    "duration": 132,
    "start_time": "2022-04-28T13:21:55.278Z"
   },
   {
    "duration": 73,
    "start_time": "2022-04-28T13:21:55.413Z"
   },
   {
    "duration": 49,
    "start_time": "2022-04-28T13:21:55.489Z"
   },
   {
    "duration": 100,
    "start_time": "2022-04-28T13:21:55.540Z"
   },
   {
    "duration": 23,
    "start_time": "2022-04-28T13:21:55.642Z"
   },
   {
    "duration": 176,
    "start_time": "2022-04-28T13:21:55.668Z"
   },
   {
    "duration": 445,
    "start_time": "2022-04-28T13:21:55.846Z"
   },
   {
    "duration": 324,
    "start_time": "2022-04-28T13:21:56.294Z"
   },
   {
    "duration": 0,
    "start_time": "2022-04-28T13:21:56.622Z"
   },
   {
    "duration": 0,
    "start_time": "2022-04-28T13:21:56.624Z"
   },
   {
    "duration": 0,
    "start_time": "2022-04-28T13:21:56.626Z"
   },
   {
    "duration": 0,
    "start_time": "2022-04-28T13:21:56.628Z"
   },
   {
    "duration": 0,
    "start_time": "2022-04-28T13:21:56.629Z"
   },
   {
    "duration": 0,
    "start_time": "2022-04-28T13:21:56.630Z"
   },
   {
    "duration": 0,
    "start_time": "2022-04-28T13:21:56.632Z"
   },
   {
    "duration": 0,
    "start_time": "2022-04-28T13:21:56.633Z"
   },
   {
    "duration": 0,
    "start_time": "2022-04-28T13:21:56.657Z"
   },
   {
    "duration": 0,
    "start_time": "2022-04-28T13:21:56.660Z"
   },
   {
    "duration": 0,
    "start_time": "2022-04-28T13:21:56.663Z"
   },
   {
    "duration": 0,
    "start_time": "2022-04-28T13:21:56.666Z"
   },
   {
    "duration": 0,
    "start_time": "2022-04-28T13:21:56.667Z"
   },
   {
    "duration": 0,
    "start_time": "2022-04-28T13:21:56.669Z"
   },
   {
    "duration": 0,
    "start_time": "2022-04-28T13:21:56.671Z"
   },
   {
    "duration": 0,
    "start_time": "2022-04-28T13:21:56.674Z"
   },
   {
    "duration": 0,
    "start_time": "2022-04-28T13:21:56.675Z"
   },
   {
    "duration": 0,
    "start_time": "2022-04-28T13:21:56.677Z"
   },
   {
    "duration": 0,
    "start_time": "2022-04-28T13:21:56.679Z"
   },
   {
    "duration": 0,
    "start_time": "2022-04-28T13:21:56.681Z"
   },
   {
    "duration": 0,
    "start_time": "2022-04-28T13:21:56.683Z"
   },
   {
    "duration": 0,
    "start_time": "2022-04-28T13:21:56.684Z"
   },
   {
    "duration": 0,
    "start_time": "2022-04-28T13:21:56.686Z"
   },
   {
    "duration": 0,
    "start_time": "2022-04-28T13:21:56.687Z"
   },
   {
    "duration": 15,
    "start_time": "2022-04-28T13:22:23.227Z"
   },
   {
    "duration": 36,
    "start_time": "2022-04-28T13:22:38.617Z"
   },
   {
    "duration": 519,
    "start_time": "2022-04-28T13:26:12.381Z"
   },
   {
    "duration": 72,
    "start_time": "2022-04-28T13:26:12.903Z"
   },
   {
    "duration": 154,
    "start_time": "2022-04-28T13:39:32.404Z"
   },
   {
    "duration": 1524,
    "start_time": "2022-04-28T13:39:43.109Z"
   },
   {
    "duration": 766,
    "start_time": "2022-04-28T13:39:44.636Z"
   },
   {
    "duration": 1185,
    "start_time": "2022-04-28T13:39:45.405Z"
   },
   {
    "duration": 177,
    "start_time": "2022-04-28T13:39:46.594Z"
   },
   {
    "duration": 302,
    "start_time": "2022-04-28T13:39:46.773Z"
   },
   {
    "duration": 415,
    "start_time": "2022-04-28T13:39:47.077Z"
   },
   {
    "duration": 73,
    "start_time": "2022-04-28T13:39:47.494Z"
   },
   {
    "duration": 300,
    "start_time": "2022-04-28T13:39:47.570Z"
   },
   {
    "duration": 527,
    "start_time": "2022-04-28T13:39:47.872Z"
   },
   {
    "duration": 31,
    "start_time": "2022-04-28T13:39:48.454Z"
   },
   {
    "duration": 188,
    "start_time": "2022-04-28T13:39:48.487Z"
   },
   {
    "duration": 5,
    "start_time": "2022-04-28T13:39:48.678Z"
   },
   {
    "duration": 8,
    "start_time": "2022-04-28T13:39:48.685Z"
   },
   {
    "duration": 6,
    "start_time": "2022-04-28T13:39:48.695Z"
   },
   {
    "duration": 13,
    "start_time": "2022-04-28T13:39:48.703Z"
   },
   {
    "duration": 11,
    "start_time": "2022-04-28T13:39:48.718Z"
   },
   {
    "duration": 27,
    "start_time": "2022-04-28T13:39:48.731Z"
   },
   {
    "duration": 267,
    "start_time": "2022-04-28T13:39:48.760Z"
   },
   {
    "duration": 33,
    "start_time": "2022-04-28T13:39:49.029Z"
   },
   {
    "duration": 109,
    "start_time": "2022-04-28T13:39:49.076Z"
   },
   {
    "duration": 69,
    "start_time": "2022-04-28T13:39:49.187Z"
   },
   {
    "duration": 52,
    "start_time": "2022-04-28T13:39:49.259Z"
   },
   {
    "duration": 97,
    "start_time": "2022-04-28T13:39:49.313Z"
   },
   {
    "duration": 10,
    "start_time": "2022-04-28T13:39:49.412Z"
   },
   {
    "duration": 139,
    "start_time": "2022-04-28T13:39:49.424Z"
   },
   {
    "duration": 401,
    "start_time": "2022-04-28T13:39:49.565Z"
   },
   {
    "duration": 37,
    "start_time": "2022-04-28T13:39:49.969Z"
   },
   {
    "duration": 111,
    "start_time": "2022-04-28T13:39:50.014Z"
   },
   {
    "duration": 29,
    "start_time": "2022-04-28T13:39:50.128Z"
   },
   {
    "duration": 31,
    "start_time": "2022-04-28T13:39:50.160Z"
   },
   {
    "duration": 18,
    "start_time": "2022-04-28T13:39:50.194Z"
   },
   {
    "duration": 20,
    "start_time": "2022-04-28T13:39:50.214Z"
   },
   {
    "duration": 5875,
    "start_time": "2022-04-28T13:39:50.252Z"
   },
   {
    "duration": 10,
    "start_time": "2022-04-28T13:39:56.129Z"
   },
   {
    "duration": 16,
    "start_time": "2022-04-28T13:39:56.141Z"
   },
   {
    "duration": 13,
    "start_time": "2022-04-28T13:39:56.159Z"
   },
   {
    "duration": 2070,
    "start_time": "2022-04-28T13:39:56.174Z"
   },
   {
    "duration": 21,
    "start_time": "2022-04-28T13:39:58.246Z"
   },
   {
    "duration": 18,
    "start_time": "2022-04-28T13:39:58.270Z"
   },
   {
    "duration": 30,
    "start_time": "2022-04-28T13:39:58.291Z"
   },
   {
    "duration": 46,
    "start_time": "2022-04-28T13:39:58.323Z"
   },
   {
    "duration": 26,
    "start_time": "2022-04-28T13:39:58.372Z"
   },
   {
    "duration": 64,
    "start_time": "2022-04-28T13:39:58.400Z"
   },
   {
    "duration": 37,
    "start_time": "2022-04-28T13:39:58.467Z"
   },
   {
    "duration": 71,
    "start_time": "2022-04-28T13:39:58.506Z"
   },
   {
    "duration": 36,
    "start_time": "2022-04-28T13:39:58.580Z"
   },
   {
    "duration": 75,
    "start_time": "2022-04-28T13:39:58.618Z"
   },
   {
    "duration": 5138,
    "start_time": "2022-04-28T13:39:58.695Z"
   },
   {
    "duration": 3348,
    "start_time": "2022-04-28T13:40:03.835Z"
   },
   {
    "duration": 10,
    "start_time": "2022-04-28T13:40:07.186Z"
   },
   {
    "duration": 21,
    "start_time": "2022-04-28T13:40:07.199Z"
   },
   {
    "duration": 2347,
    "start_time": "2022-04-28T13:40:46.503Z"
   },
   {
    "duration": 2230,
    "start_time": "2022-04-28T13:41:16.488Z"
   },
   {
    "duration": 2097,
    "start_time": "2022-04-28T13:41:25.866Z"
   },
   {
    "duration": 3149,
    "start_time": "2022-04-28T13:41:53.345Z"
   },
   {
    "duration": 2277,
    "start_time": "2022-04-28T13:42:06.185Z"
   },
   {
    "duration": 3370,
    "start_time": "2022-04-28T13:42:30.183Z"
   },
   {
    "duration": 18,
    "start_time": "2022-04-28T13:43:04.297Z"
   },
   {
    "duration": 3617,
    "start_time": "2022-04-28T13:43:13.181Z"
   },
   {
    "duration": 1767,
    "start_time": "2022-04-28T13:45:43.896Z"
   },
   {
    "duration": 1484,
    "start_time": "2022-04-28T13:45:45.669Z"
   },
   {
    "duration": 1359,
    "start_time": "2022-04-28T13:45:47.157Z"
   },
   {
    "duration": 140,
    "start_time": "2022-04-28T13:45:48.551Z"
   },
   {
    "duration": 402,
    "start_time": "2022-04-28T13:45:48.694Z"
   },
   {
    "duration": 498,
    "start_time": "2022-04-28T13:45:49.098Z"
   },
   {
    "duration": 78,
    "start_time": "2022-04-28T13:45:49.599Z"
   },
   {
    "duration": 4203,
    "start_time": "2022-04-28T13:45:49.680Z"
   },
   {
    "duration": 302,
    "start_time": "2022-04-28T13:45:53.885Z"
   },
   {
    "duration": 26,
    "start_time": "2022-04-28T13:45:54.189Z"
   },
   {
    "duration": 154,
    "start_time": "2022-04-28T13:45:54.218Z"
   },
   {
    "duration": 6,
    "start_time": "2022-04-28T13:45:54.375Z"
   },
   {
    "duration": 8,
    "start_time": "2022-04-28T13:45:54.389Z"
   },
   {
    "duration": 4,
    "start_time": "2022-04-28T13:45:54.400Z"
   },
   {
    "duration": 9,
    "start_time": "2022-04-28T13:45:54.406Z"
   },
   {
    "duration": 42,
    "start_time": "2022-04-28T13:45:54.417Z"
   },
   {
    "duration": 23,
    "start_time": "2022-04-28T13:45:54.462Z"
   },
   {
    "duration": 263,
    "start_time": "2022-04-28T13:45:54.488Z"
   },
   {
    "duration": 35,
    "start_time": "2022-04-28T13:45:54.759Z"
   },
   {
    "duration": 122,
    "start_time": "2022-04-28T13:45:54.796Z"
   },
   {
    "duration": 83,
    "start_time": "2022-04-28T13:45:54.921Z"
   },
   {
    "duration": 86,
    "start_time": "2022-04-28T13:45:55.007Z"
   },
   {
    "duration": 101,
    "start_time": "2022-04-28T13:45:55.096Z"
   },
   {
    "duration": 13,
    "start_time": "2022-04-28T13:45:55.199Z"
   },
   {
    "duration": 167,
    "start_time": "2022-04-28T13:45:55.214Z"
   },
   {
    "duration": 497,
    "start_time": "2022-04-28T13:45:55.385Z"
   },
   {
    "duration": 211,
    "start_time": "2022-04-28T13:45:55.885Z"
   },
   {
    "duration": 0,
    "start_time": "2022-04-28T13:45:56.099Z"
   },
   {
    "duration": 0,
    "start_time": "2022-04-28T13:45:56.100Z"
   },
   {
    "duration": 0,
    "start_time": "2022-04-28T13:45:56.104Z"
   },
   {
    "duration": 0,
    "start_time": "2022-04-28T13:45:56.106Z"
   },
   {
    "duration": 0,
    "start_time": "2022-04-28T13:45:56.108Z"
   },
   {
    "duration": 0,
    "start_time": "2022-04-28T13:45:56.110Z"
   },
   {
    "duration": 0,
    "start_time": "2022-04-28T13:45:56.112Z"
   },
   {
    "duration": 0,
    "start_time": "2022-04-28T13:45:56.114Z"
   },
   {
    "duration": 0,
    "start_time": "2022-04-28T13:45:56.115Z"
   },
   {
    "duration": 0,
    "start_time": "2022-04-28T13:45:56.117Z"
   },
   {
    "duration": 0,
    "start_time": "2022-04-28T13:45:56.121Z"
   },
   {
    "duration": 0,
    "start_time": "2022-04-28T13:45:56.123Z"
   },
   {
    "duration": 0,
    "start_time": "2022-04-28T13:45:56.124Z"
   },
   {
    "duration": 0,
    "start_time": "2022-04-28T13:45:56.127Z"
   },
   {
    "duration": 0,
    "start_time": "2022-04-28T13:45:56.128Z"
   },
   {
    "duration": 0,
    "start_time": "2022-04-28T13:45:56.129Z"
   },
   {
    "duration": 0,
    "start_time": "2022-04-28T13:45:56.130Z"
   },
   {
    "duration": 0,
    "start_time": "2022-04-28T13:45:56.155Z"
   },
   {
    "duration": 0,
    "start_time": "2022-04-28T13:45:56.159Z"
   },
   {
    "duration": 0,
    "start_time": "2022-04-28T13:45:56.161Z"
   },
   {
    "duration": 0,
    "start_time": "2022-04-28T13:45:56.162Z"
   },
   {
    "duration": 0,
    "start_time": "2022-04-28T13:45:56.163Z"
   },
   {
    "duration": 0,
    "start_time": "2022-04-28T13:45:56.165Z"
   },
   {
    "duration": 0,
    "start_time": "2022-04-28T13:45:56.166Z"
   },
   {
    "duration": 0,
    "start_time": "2022-04-28T13:45:56.167Z"
   },
   {
    "duration": 12,
    "start_time": "2022-04-28T14:01:34.666Z"
   },
   {
    "duration": 5,
    "start_time": "2022-04-28T14:01:39.144Z"
   },
   {
    "duration": 36,
    "start_time": "2022-04-28T14:01:45.607Z"
   },
   {
    "duration": 2024,
    "start_time": "2022-04-28T14:01:48.279Z"
   },
   {
    "duration": 13,
    "start_time": "2022-04-28T14:02:12.408Z"
   },
   {
    "duration": 11,
    "start_time": "2022-04-28T14:03:14.465Z"
   },
   {
    "duration": 15,
    "start_time": "2022-04-28T14:03:22.588Z"
   },
   {
    "duration": 7,
    "start_time": "2022-04-28T14:04:47.144Z"
   },
   {
    "duration": 1492,
    "start_time": "2022-04-28T14:05:37.828Z"
   },
   {
    "duration": 1256,
    "start_time": "2022-04-28T14:05:39.323Z"
   },
   {
    "duration": 1423,
    "start_time": "2022-04-28T14:05:40.582Z"
   },
   {
    "duration": 185,
    "start_time": "2022-04-28T14:05:42.008Z"
   },
   {
    "duration": 361,
    "start_time": "2022-04-28T14:05:42.196Z"
   },
   {
    "duration": 429,
    "start_time": "2022-04-28T14:05:42.560Z"
   },
   {
    "duration": 73,
    "start_time": "2022-04-28T14:05:42.991Z"
   },
   {
    "duration": 5216,
    "start_time": "2022-04-28T14:05:43.067Z"
   },
   {
    "duration": 791,
    "start_time": "2022-04-28T14:05:48.285Z"
   },
   {
    "duration": 97,
    "start_time": "2022-04-28T14:05:49.082Z"
   },
   {
    "duration": 370,
    "start_time": "2022-04-28T14:05:49.182Z"
   },
   {
    "duration": 6,
    "start_time": "2022-04-28T14:05:49.554Z"
   },
   {
    "duration": 15,
    "start_time": "2022-04-28T14:05:49.562Z"
   },
   {
    "duration": 8,
    "start_time": "2022-04-28T14:05:49.579Z"
   },
   {
    "duration": 7,
    "start_time": "2022-04-28T14:05:49.589Z"
   },
   {
    "duration": 54,
    "start_time": "2022-04-28T14:05:49.598Z"
   },
   {
    "duration": 13,
    "start_time": "2022-04-28T14:05:49.655Z"
   },
   {
    "duration": 526,
    "start_time": "2022-04-28T14:05:49.671Z"
   },
   {
    "duration": 72,
    "start_time": "2022-04-28T14:05:50.199Z"
   },
   {
    "duration": 213,
    "start_time": "2022-04-28T14:05:50.273Z"
   },
   {
    "duration": 109,
    "start_time": "2022-04-28T14:05:50.488Z"
   },
   {
    "duration": 107,
    "start_time": "2022-04-28T14:05:50.599Z"
   },
   {
    "duration": 170,
    "start_time": "2022-04-28T14:05:50.709Z"
   },
   {
    "duration": 10,
    "start_time": "2022-04-28T14:05:50.881Z"
   },
   {
    "duration": 263,
    "start_time": "2022-04-28T14:05:50.893Z"
   },
   {
    "duration": 729,
    "start_time": "2022-04-28T14:05:51.158Z"
   },
   {
    "duration": 86,
    "start_time": "2022-04-28T14:05:51.889Z"
   },
   {
    "duration": 191,
    "start_time": "2022-04-28T14:05:51.981Z"
   },
   {
    "duration": 16,
    "start_time": "2022-04-28T14:05:52.174Z"
   },
   {
    "duration": 75,
    "start_time": "2022-04-28T14:05:52.192Z"
   },
   {
    "duration": 27,
    "start_time": "2022-04-28T14:05:52.270Z"
   },
   {
    "duration": 65,
    "start_time": "2022-04-28T14:05:52.299Z"
   },
   {
    "duration": 11741,
    "start_time": "2022-04-28T14:05:52.366Z"
   },
   {
    "duration": 10,
    "start_time": "2022-04-28T14:06:04.109Z"
   },
   {
    "duration": 33,
    "start_time": "2022-04-28T14:06:04.121Z"
   },
   {
    "duration": 36,
    "start_time": "2022-04-28T14:06:04.157Z"
   },
   {
    "duration": 2131,
    "start_time": "2022-04-28T14:06:04.195Z"
   },
   {
    "duration": 25,
    "start_time": "2022-04-28T14:06:06.328Z"
   },
   {
    "duration": 20,
    "start_time": "2022-04-28T14:06:06.356Z"
   },
   {
    "duration": 19,
    "start_time": "2022-04-28T14:06:06.378Z"
   },
   {
    "duration": 21,
    "start_time": "2022-04-28T14:06:06.399Z"
   },
   {
    "duration": 31,
    "start_time": "2022-04-28T14:06:06.455Z"
   },
   {
    "duration": 70,
    "start_time": "2022-04-28T14:06:06.489Z"
   },
   {
    "duration": 41,
    "start_time": "2022-04-28T14:06:06.562Z"
   },
   {
    "duration": 68,
    "start_time": "2022-04-28T14:06:06.606Z"
   },
   {
    "duration": 38,
    "start_time": "2022-04-28T14:06:06.677Z"
   },
   {
    "duration": 70,
    "start_time": "2022-04-28T14:06:06.718Z"
   },
   {
    "duration": 5275,
    "start_time": "2022-04-28T14:06:06.790Z"
   },
   {
    "duration": 3733,
    "start_time": "2022-04-28T14:06:12.068Z"
   },
   {
    "duration": 9,
    "start_time": "2022-04-28T14:06:15.804Z"
   },
   {
    "duration": 40,
    "start_time": "2022-04-28T14:06:15.815Z"
   },
   {
    "duration": 1687,
    "start_time": "2022-04-28T14:41:10.089Z"
   },
   {
    "duration": 1003,
    "start_time": "2022-04-28T14:41:11.779Z"
   },
   {
    "duration": 982,
    "start_time": "2022-04-28T14:41:12.784Z"
   },
   {
    "duration": 110,
    "start_time": "2022-04-28T14:41:13.769Z"
   },
   {
    "duration": 142,
    "start_time": "2022-04-28T14:41:13.881Z"
   },
   {
    "duration": 177,
    "start_time": "2022-04-28T14:41:14.052Z"
   },
   {
    "duration": 36,
    "start_time": "2022-04-28T14:41:14.231Z"
   },
   {
    "duration": 1796,
    "start_time": "2022-04-28T14:41:14.269Z"
   },
   {
    "duration": 260,
    "start_time": "2022-04-28T14:41:16.067Z"
   },
   {
    "duration": 29,
    "start_time": "2022-04-28T14:41:16.331Z"
   },
   {
    "duration": 131,
    "start_time": "2022-04-28T14:41:16.362Z"
   },
   {
    "duration": 5,
    "start_time": "2022-04-28T14:41:16.495Z"
   },
   {
    "duration": 11,
    "start_time": "2022-04-28T14:41:16.501Z"
   },
   {
    "duration": 4,
    "start_time": "2022-04-28T14:41:16.514Z"
   },
   {
    "duration": 8,
    "start_time": "2022-04-28T14:41:16.520Z"
   },
   {
    "duration": 5,
    "start_time": "2022-04-28T14:41:16.551Z"
   },
   {
    "duration": 16,
    "start_time": "2022-04-28T14:41:16.558Z"
   },
   {
    "duration": 242,
    "start_time": "2022-04-28T14:41:16.576Z"
   },
   {
    "duration": 30,
    "start_time": "2022-04-28T14:41:16.821Z"
   },
   {
    "duration": 104,
    "start_time": "2022-04-28T14:41:16.853Z"
   },
   {
    "duration": 49,
    "start_time": "2022-04-28T14:41:16.959Z"
   },
   {
    "duration": 73,
    "start_time": "2022-04-28T14:41:17.010Z"
   },
   {
    "duration": 94,
    "start_time": "2022-04-28T14:41:17.086Z"
   },
   {
    "duration": 10,
    "start_time": "2022-04-28T14:41:17.182Z"
   },
   {
    "duration": 138,
    "start_time": "2022-04-28T14:41:17.195Z"
   },
   {
    "duration": 362,
    "start_time": "2022-04-28T14:41:17.336Z"
   },
   {
    "duration": 59,
    "start_time": "2022-04-28T14:41:17.701Z"
   },
   {
    "duration": 109,
    "start_time": "2022-04-28T14:41:17.767Z"
   },
   {
    "duration": 17,
    "start_time": "2022-04-28T14:41:17.879Z"
   },
   {
    "duration": 34,
    "start_time": "2022-04-28T14:41:17.898Z"
   },
   {
    "duration": 42,
    "start_time": "2022-04-28T14:41:17.934Z"
   },
   {
    "duration": 38,
    "start_time": "2022-04-28T14:41:17.978Z"
   },
   {
    "duration": 5466,
    "start_time": "2022-04-28T14:41:18.018Z"
   },
   {
    "duration": 10,
    "start_time": "2022-04-28T14:41:23.486Z"
   },
   {
    "duration": 37,
    "start_time": "2022-04-28T14:41:23.499Z"
   },
   {
    "duration": 32,
    "start_time": "2022-04-28T14:41:23.539Z"
   },
   {
    "duration": 2083,
    "start_time": "2022-04-28T14:41:23.573Z"
   },
   {
    "duration": 19,
    "start_time": "2022-04-28T14:41:25.658Z"
   },
   {
    "duration": 17,
    "start_time": "2022-04-28T14:41:25.679Z"
   },
   {
    "duration": 22,
    "start_time": "2022-04-28T14:41:25.698Z"
   },
   {
    "duration": 37,
    "start_time": "2022-04-28T14:41:25.722Z"
   },
   {
    "duration": 19,
    "start_time": "2022-04-28T14:41:25.762Z"
   },
   {
    "duration": 33,
    "start_time": "2022-04-28T14:41:25.784Z"
   },
   {
    "duration": 63,
    "start_time": "2022-04-28T14:41:25.820Z"
   },
   {
    "duration": 36,
    "start_time": "2022-04-28T14:41:25.885Z"
   },
   {
    "duration": 61,
    "start_time": "2022-04-28T14:41:25.923Z"
   },
   {
    "duration": 34,
    "start_time": "2022-04-28T14:41:25.986Z"
   },
   {
    "duration": 4519,
    "start_time": "2022-04-28T14:41:26.022Z"
   },
   {
    "duration": 3247,
    "start_time": "2022-04-28T14:41:30.543Z"
   },
   {
    "duration": 10,
    "start_time": "2022-04-28T14:41:33.792Z"
   },
   {
    "duration": 22,
    "start_time": "2022-04-28T14:41:33.804Z"
   },
   {
    "duration": 1404,
    "start_time": "2022-04-28T14:42:45.975Z"
   },
   {
    "duration": 986,
    "start_time": "2022-04-28T14:42:47.381Z"
   },
   {
    "duration": 987,
    "start_time": "2022-04-28T14:42:48.369Z"
   },
   {
    "duration": 115,
    "start_time": "2022-04-28T14:42:49.359Z"
   },
   {
    "duration": 218,
    "start_time": "2022-04-28T14:42:49.476Z"
   },
   {
    "duration": 317,
    "start_time": "2022-04-28T14:42:49.752Z"
   },
   {
    "duration": 18,
    "start_time": "2022-04-28T14:42:50.072Z"
   },
   {
    "duration": 3409,
    "start_time": "2022-04-28T14:42:50.092Z"
   },
   {
    "duration": 269,
    "start_time": "2022-04-28T14:42:53.503Z"
   },
   {
    "duration": 24,
    "start_time": "2022-04-28T14:42:53.774Z"
   },
   {
    "duration": 130,
    "start_time": "2022-04-28T14:42:53.801Z"
   },
   {
    "duration": 5,
    "start_time": "2022-04-28T14:42:53.934Z"
   },
   {
    "duration": 15,
    "start_time": "2022-04-28T14:42:53.954Z"
   },
   {
    "duration": 39,
    "start_time": "2022-04-28T14:42:53.971Z"
   },
   {
    "duration": 22,
    "start_time": "2022-04-28T14:42:54.013Z"
   },
   {
    "duration": 16,
    "start_time": "2022-04-28T14:42:54.038Z"
   },
   {
    "duration": 23,
    "start_time": "2022-04-28T14:42:54.057Z"
   },
   {
    "duration": 233,
    "start_time": "2022-04-28T14:42:54.082Z"
   },
   {
    "duration": 34,
    "start_time": "2022-04-28T14:42:54.317Z"
   },
   {
    "duration": 116,
    "start_time": "2022-04-28T14:42:54.354Z"
   },
   {
    "duration": 46,
    "start_time": "2022-04-28T14:42:54.473Z"
   },
   {
    "duration": 63,
    "start_time": "2022-04-28T14:42:54.522Z"
   },
   {
    "duration": 93,
    "start_time": "2022-04-28T14:42:54.588Z"
   },
   {
    "duration": 11,
    "start_time": "2022-04-28T14:42:54.684Z"
   },
   {
    "duration": 137,
    "start_time": "2022-04-28T14:42:54.698Z"
   },
   {
    "duration": 383,
    "start_time": "2022-04-28T14:42:54.837Z"
   },
   {
    "duration": 55,
    "start_time": "2022-04-28T14:42:55.223Z"
   },
   {
    "duration": 92,
    "start_time": "2022-04-28T14:42:55.281Z"
   },
   {
    "duration": 15,
    "start_time": "2022-04-28T14:42:55.376Z"
   },
   {
    "duration": 41,
    "start_time": "2022-04-28T14:42:55.393Z"
   },
   {
    "duration": 19,
    "start_time": "2022-04-28T14:42:55.436Z"
   },
   {
    "duration": 29,
    "start_time": "2022-04-28T14:42:55.457Z"
   },
   {
    "duration": 6501,
    "start_time": "2022-04-28T14:42:55.489Z"
   },
   {
    "duration": 11,
    "start_time": "2022-04-28T14:43:01.992Z"
   },
   {
    "duration": 12,
    "start_time": "2022-04-28T14:43:02.006Z"
   },
   {
    "duration": 32,
    "start_time": "2022-04-28T14:43:02.020Z"
   },
   {
    "duration": 1889,
    "start_time": "2022-04-28T14:43:02.054Z"
   },
   {
    "duration": 25,
    "start_time": "2022-04-28T14:43:03.945Z"
   },
   {
    "duration": 14,
    "start_time": "2022-04-28T14:43:03.972Z"
   },
   {
    "duration": 19,
    "start_time": "2022-04-28T14:43:03.993Z"
   },
   {
    "duration": 49,
    "start_time": "2022-04-28T14:43:04.015Z"
   },
   {
    "duration": 20,
    "start_time": "2022-04-28T14:43:04.067Z"
   },
   {
    "duration": 67,
    "start_time": "2022-04-28T14:43:04.090Z"
   },
   {
    "duration": 33,
    "start_time": "2022-04-28T14:43:04.159Z"
   },
   {
    "duration": 67,
    "start_time": "2022-04-28T14:43:04.193Z"
   },
   {
    "duration": 33,
    "start_time": "2022-04-28T14:43:04.262Z"
   },
   {
    "duration": 55,
    "start_time": "2022-04-28T14:43:04.298Z"
   },
   {
    "duration": 4641,
    "start_time": "2022-04-28T14:43:04.355Z"
   },
   {
    "duration": 2989,
    "start_time": "2022-04-28T14:43:08.999Z"
   },
   {
    "duration": 10,
    "start_time": "2022-04-28T14:43:11.990Z"
   },
   {
    "duration": 14,
    "start_time": "2022-04-28T14:43:12.002Z"
   },
   {
    "duration": 1487,
    "start_time": "2022-04-28T15:19:29.833Z"
   },
   {
    "duration": 1381,
    "start_time": "2022-04-28T15:19:31.323Z"
   },
   {
    "duration": 1551,
    "start_time": "2022-04-28T15:19:32.753Z"
   },
   {
    "duration": 182,
    "start_time": "2022-04-28T15:19:34.306Z"
   },
   {
    "duration": 462,
    "start_time": "2022-04-28T15:19:34.490Z"
   },
   {
    "duration": 416,
    "start_time": "2022-04-28T15:19:34.955Z"
   },
   {
    "duration": 26,
    "start_time": "2022-04-28T15:19:35.374Z"
   },
   {
    "duration": 3656,
    "start_time": "2022-04-28T15:19:35.403Z"
   },
   {
    "duration": 261,
    "start_time": "2022-04-28T15:19:39.061Z"
   },
   {
    "duration": 33,
    "start_time": "2022-04-28T15:19:39.326Z"
   },
   {
    "duration": 122,
    "start_time": "2022-04-28T15:19:39.361Z"
   },
   {
    "duration": 5,
    "start_time": "2022-04-28T15:19:39.485Z"
   },
   {
    "duration": 11,
    "start_time": "2022-04-28T15:19:39.492Z"
   },
   {
    "duration": 5,
    "start_time": "2022-04-28T15:19:39.505Z"
   },
   {
    "duration": 7,
    "start_time": "2022-04-28T15:19:39.513Z"
   },
   {
    "duration": 30,
    "start_time": "2022-04-28T15:19:39.523Z"
   },
   {
    "duration": 6,
    "start_time": "2022-04-28T15:19:39.556Z"
   },
   {
    "duration": 256,
    "start_time": "2022-04-28T15:19:39.564Z"
   },
   {
    "duration": 33,
    "start_time": "2022-04-28T15:19:39.822Z"
   },
   {
    "duration": 115,
    "start_time": "2022-04-28T15:19:39.857Z"
   },
   {
    "duration": 50,
    "start_time": "2022-04-28T15:19:39.975Z"
   },
   {
    "duration": 70,
    "start_time": "2022-04-28T15:19:40.053Z"
   },
   {
    "duration": 108,
    "start_time": "2022-04-28T15:19:40.126Z"
   },
   {
    "duration": 23,
    "start_time": "2022-04-28T15:19:40.237Z"
   },
   {
    "duration": 186,
    "start_time": "2022-04-28T15:19:40.263Z"
   },
   {
    "duration": 550,
    "start_time": "2022-04-28T15:19:40.453Z"
   },
   {
    "duration": 67,
    "start_time": "2022-04-28T15:19:41.006Z"
   },
   {
    "duration": 24,
    "start_time": "2022-04-28T15:19:41.078Z"
   },
   {
    "duration": 15,
    "start_time": "2022-04-28T15:19:41.104Z"
   },
   {
    "duration": 42,
    "start_time": "2022-04-28T15:19:41.121Z"
   },
   {
    "duration": 86,
    "start_time": "2022-04-28T15:19:41.165Z"
   },
   {
    "duration": 15,
    "start_time": "2022-04-28T15:19:41.253Z"
   },
   {
    "duration": 18,
    "start_time": "2022-04-28T15:19:41.270Z"
   },
   {
    "duration": 15,
    "start_time": "2022-04-28T15:19:41.290Z"
   },
   {
    "duration": 46,
    "start_time": "2022-04-28T15:19:41.307Z"
   },
   {
    "duration": 5318,
    "start_time": "2022-04-28T15:19:41.355Z"
   },
   {
    "duration": 10,
    "start_time": "2022-04-28T15:19:46.676Z"
   },
   {
    "duration": 7,
    "start_time": "2022-04-28T15:19:46.688Z"
   },
   {
    "duration": 12,
    "start_time": "2022-04-28T15:19:46.697Z"
   },
   {
    "duration": 1942,
    "start_time": "2022-04-28T15:19:46.711Z"
   },
   {
    "duration": 19,
    "start_time": "2022-04-28T15:19:48.656Z"
   },
   {
    "duration": 21,
    "start_time": "2022-04-28T15:19:48.677Z"
   },
   {
    "duration": 41,
    "start_time": "2022-04-28T15:19:48.700Z"
   },
   {
    "duration": 19,
    "start_time": "2022-04-28T15:19:48.744Z"
   },
   {
    "duration": 20,
    "start_time": "2022-04-28T15:19:48.765Z"
   },
   {
    "duration": 31,
    "start_time": "2022-04-28T15:19:48.788Z"
   },
   {
    "duration": 61,
    "start_time": "2022-04-28T15:19:48.821Z"
   },
   {
    "duration": 33,
    "start_time": "2022-04-28T15:19:48.884Z"
   },
   {
    "duration": 62,
    "start_time": "2022-04-28T15:19:48.919Z"
   },
   {
    "duration": 34,
    "start_time": "2022-04-28T15:19:48.983Z"
   },
   {
    "duration": 4548,
    "start_time": "2022-04-28T15:19:49.020Z"
   },
   {
    "duration": 3097,
    "start_time": "2022-04-28T15:19:53.570Z"
   },
   {
    "duration": 10,
    "start_time": "2022-04-28T15:19:56.669Z"
   },
   {
    "duration": 17,
    "start_time": "2022-04-28T15:19:56.681Z"
   },
   {
    "duration": 1483,
    "start_time": "2022-04-28T15:27:59.624Z"
   },
   {
    "duration": 587,
    "start_time": "2022-04-28T15:28:01.109Z"
   },
   {
    "duration": 482,
    "start_time": "2022-04-28T15:28:01.699Z"
   },
   {
    "duration": 79,
    "start_time": "2022-04-28T15:28:02.184Z"
   },
   {
    "duration": 142,
    "start_time": "2022-04-28T15:28:02.265Z"
   },
   {
    "duration": 204,
    "start_time": "2022-04-28T15:28:02.409Z"
   },
   {
    "duration": 40,
    "start_time": "2022-04-28T15:28:02.615Z"
   },
   {
    "duration": 1786,
    "start_time": "2022-04-28T15:28:02.657Z"
   },
   {
    "duration": 259,
    "start_time": "2022-04-28T15:28:04.445Z"
   },
   {
    "duration": 25,
    "start_time": "2022-04-28T15:28:04.707Z"
   },
   {
    "duration": 129,
    "start_time": "2022-04-28T15:28:04.735Z"
   },
   {
    "duration": 5,
    "start_time": "2022-04-28T15:28:04.867Z"
   },
   {
    "duration": 12,
    "start_time": "2022-04-28T15:28:04.874Z"
   },
   {
    "duration": 4,
    "start_time": "2022-04-28T15:28:04.888Z"
   },
   {
    "duration": 8,
    "start_time": "2022-04-28T15:28:04.894Z"
   },
   {
    "duration": 7,
    "start_time": "2022-04-28T15:28:04.904Z"
   },
   {
    "duration": 279,
    "start_time": "2022-04-28T15:28:04.912Z"
   },
   {
    "duration": 22,
    "start_time": "2022-04-28T15:28:05.193Z"
   },
   {
    "duration": 118,
    "start_time": "2022-04-28T15:28:05.217Z"
   },
   {
    "duration": 66,
    "start_time": "2022-04-28T15:28:05.337Z"
   },
   {
    "duration": 84,
    "start_time": "2022-04-28T15:28:05.405Z"
   },
   {
    "duration": 87,
    "start_time": "2022-04-28T15:28:05.492Z"
   },
   {
    "duration": 9,
    "start_time": "2022-04-28T15:28:05.582Z"
   },
   {
    "duration": 154,
    "start_time": "2022-04-28T15:28:05.594Z"
   },
   {
    "duration": 381,
    "start_time": "2022-04-28T15:28:05.752Z"
   },
   {
    "duration": 54,
    "start_time": "2022-04-28T15:28:06.135Z"
   },
   {
    "duration": 25,
    "start_time": "2022-04-28T15:28:06.191Z"
   },
   {
    "duration": 31,
    "start_time": "2022-04-28T15:28:06.222Z"
   },
   {
    "duration": 29,
    "start_time": "2022-04-28T15:28:06.255Z"
   },
   {
    "duration": 96,
    "start_time": "2022-04-28T15:28:06.286Z"
   },
   {
    "duration": 16,
    "start_time": "2022-04-28T15:28:06.384Z"
   },
   {
    "duration": 22,
    "start_time": "2022-04-28T15:28:06.403Z"
   },
   {
    "duration": 38,
    "start_time": "2022-04-28T15:28:06.427Z"
   },
   {
    "duration": 36,
    "start_time": "2022-04-28T15:28:06.467Z"
   },
   {
    "duration": 6865,
    "start_time": "2022-04-28T15:28:06.506Z"
   },
   {
    "duration": 11,
    "start_time": "2022-04-28T15:28:13.374Z"
   },
   {
    "duration": 18,
    "start_time": "2022-04-28T15:28:13.388Z"
   },
   {
    "duration": 19,
    "start_time": "2022-04-28T15:28:13.408Z"
   },
   {
    "duration": 2150,
    "start_time": "2022-04-28T15:28:13.429Z"
   },
   {
    "duration": 20,
    "start_time": "2022-04-28T15:28:15.583Z"
   },
   {
    "duration": 14,
    "start_time": "2022-04-28T15:28:15.605Z"
   },
   {
    "duration": 44,
    "start_time": "2022-04-28T15:28:15.621Z"
   },
   {
    "duration": 23,
    "start_time": "2022-04-28T15:28:15.668Z"
   },
   {
    "duration": 22,
    "start_time": "2022-04-28T15:28:15.693Z"
   },
   {
    "duration": 62,
    "start_time": "2022-04-28T15:28:15.717Z"
   },
   {
    "duration": 38,
    "start_time": "2022-04-28T15:28:15.781Z"
   },
   {
    "duration": 62,
    "start_time": "2022-04-28T15:28:15.822Z"
   },
   {
    "duration": 36,
    "start_time": "2022-04-28T15:28:15.886Z"
   },
   {
    "duration": 36,
    "start_time": "2022-04-28T15:28:15.952Z"
   },
   {
    "duration": 4544,
    "start_time": "2022-04-28T15:28:15.990Z"
   },
   {
    "duration": 3192,
    "start_time": "2022-04-28T15:28:20.536Z"
   },
   {
    "duration": 8,
    "start_time": "2022-04-28T15:28:23.731Z"
   },
   {
    "duration": 11,
    "start_time": "2022-04-28T15:28:23.752Z"
   },
   {
    "duration": 2163,
    "start_time": "2022-04-28T15:28:57.612Z"
   },
   {
    "duration": 1209,
    "start_time": "2022-04-28T15:28:59.778Z"
   },
   {
    "duration": 1233,
    "start_time": "2022-04-28T15:29:00.989Z"
   },
   {
    "duration": 67,
    "start_time": "2022-04-28T15:29:02.225Z"
   },
   {
    "duration": 192,
    "start_time": "2022-04-28T15:29:02.294Z"
   },
   {
    "duration": 213,
    "start_time": "2022-04-28T15:29:02.488Z"
   },
   {
    "duration": 72,
    "start_time": "2022-04-28T15:29:02.703Z"
   },
   {
    "duration": 4376,
    "start_time": "2022-04-28T15:29:02.777Z"
   },
   {
    "duration": 281,
    "start_time": "2022-04-28T15:29:07.157Z"
   },
   {
    "duration": 32,
    "start_time": "2022-04-28T15:29:07.442Z"
   },
   {
    "duration": 135,
    "start_time": "2022-04-28T15:29:07.476Z"
   },
   {
    "duration": 5,
    "start_time": "2022-04-28T15:29:07.613Z"
   },
   {
    "duration": 13,
    "start_time": "2022-04-28T15:29:07.620Z"
   },
   {
    "duration": 15,
    "start_time": "2022-04-28T15:29:07.636Z"
   },
   {
    "duration": 4,
    "start_time": "2022-04-28T15:29:07.654Z"
   },
   {
    "duration": 6,
    "start_time": "2022-04-28T15:29:07.661Z"
   },
   {
    "duration": 284,
    "start_time": "2022-04-28T15:29:07.669Z"
   },
   {
    "duration": 23,
    "start_time": "2022-04-28T15:29:07.955Z"
   },
   {
    "duration": 131,
    "start_time": "2022-04-28T15:29:07.981Z"
   },
   {
    "duration": 81,
    "start_time": "2022-04-28T15:29:08.114Z"
   },
   {
    "duration": 85,
    "start_time": "2022-04-28T15:29:08.197Z"
   },
   {
    "duration": 83,
    "start_time": "2022-04-28T15:29:08.284Z"
   },
   {
    "duration": 10,
    "start_time": "2022-04-28T15:29:08.369Z"
   },
   {
    "duration": 145,
    "start_time": "2022-04-28T15:29:08.381Z"
   },
   {
    "duration": 500,
    "start_time": "2022-04-28T15:29:08.528Z"
   },
   {
    "duration": 81,
    "start_time": "2022-04-28T15:29:09.031Z"
   },
   {
    "duration": 7,
    "start_time": "2022-04-28T15:29:09.115Z"
   },
   {
    "duration": 41,
    "start_time": "2022-04-28T15:29:09.129Z"
   },
   {
    "duration": 98,
    "start_time": "2022-04-28T15:29:09.173Z"
   },
   {
    "duration": 17,
    "start_time": "2022-04-28T15:29:09.274Z"
   },
   {
    "duration": 17,
    "start_time": "2022-04-28T15:29:09.294Z"
   },
   {
    "duration": 43,
    "start_time": "2022-04-28T15:29:09.313Z"
   },
   {
    "duration": 26,
    "start_time": "2022-04-28T15:29:09.359Z"
   },
   {
    "duration": 8421,
    "start_time": "2022-04-28T15:29:09.388Z"
   },
   {
    "duration": 11,
    "start_time": "2022-04-28T15:29:17.812Z"
   },
   {
    "duration": 9,
    "start_time": "2022-04-28T15:29:17.853Z"
   },
   {
    "duration": 12,
    "start_time": "2022-04-28T15:29:17.864Z"
   },
   {
    "duration": 2545,
    "start_time": "2022-04-28T15:29:17.879Z"
   },
   {
    "duration": 26,
    "start_time": "2022-04-28T15:29:20.427Z"
   },
   {
    "duration": 11,
    "start_time": "2022-04-28T15:29:20.456Z"
   },
   {
    "duration": 21,
    "start_time": "2022-04-28T15:29:20.469Z"
   },
   {
    "duration": 20,
    "start_time": "2022-04-28T15:29:20.493Z"
   },
   {
    "duration": 23,
    "start_time": "2022-04-28T15:29:20.553Z"
   },
   {
    "duration": 76,
    "start_time": "2022-04-28T15:29:20.580Z"
   },
   {
    "duration": 50,
    "start_time": "2022-04-28T15:29:20.659Z"
   },
   {
    "duration": 67,
    "start_time": "2022-04-28T15:29:20.711Z"
   },
   {
    "duration": 39,
    "start_time": "2022-04-28T15:29:20.781Z"
   },
   {
    "duration": 41,
    "start_time": "2022-04-28T15:29:20.851Z"
   },
   {
    "duration": 4957,
    "start_time": "2022-04-28T15:29:20.894Z"
   },
   {
    "duration": 3410,
    "start_time": "2022-04-28T15:29:25.854Z"
   },
   {
    "duration": 9,
    "start_time": "2022-04-28T15:29:29.267Z"
   },
   {
    "duration": 17,
    "start_time": "2022-04-28T15:29:29.278Z"
   },
   {
    "duration": 17,
    "start_time": "2022-04-28T15:40:39.388Z"
   },
   {
    "duration": 19,
    "start_time": "2022-04-28T15:41:06.005Z"
   },
   {
    "duration": 53,
    "start_time": "2022-04-29T11:08:17.395Z"
   },
   {
    "duration": 1319,
    "start_time": "2022-04-29T11:08:22.814Z"
   },
   {
    "duration": 440,
    "start_time": "2022-04-29T11:08:24.135Z"
   },
   {
    "duration": 3,
    "start_time": "2022-04-29T11:08:24.577Z"
   },
   {
    "duration": 46,
    "start_time": "2022-04-29T11:08:24.582Z"
   },
   {
    "duration": 127,
    "start_time": "2022-04-29T11:08:24.630Z"
   },
   {
    "duration": 184,
    "start_time": "2022-04-29T11:08:24.759Z"
   },
   {
    "duration": 15,
    "start_time": "2022-04-29T11:08:24.945Z"
   },
   {
    "duration": 1980,
    "start_time": "2022-04-29T11:08:24.963Z"
   },
   {
    "duration": 313,
    "start_time": "2022-04-29T11:08:26.945Z"
   },
   {
    "duration": 17,
    "start_time": "2022-04-29T11:08:27.261Z"
   },
   {
    "duration": 92,
    "start_time": "2022-04-29T11:08:27.280Z"
   },
   {
    "duration": 5,
    "start_time": "2022-04-29T11:08:27.373Z"
   },
   {
    "duration": 6,
    "start_time": "2022-04-29T11:08:27.380Z"
   },
   {
    "duration": 5,
    "start_time": "2022-04-29T11:08:27.406Z"
   },
   {
    "duration": 6,
    "start_time": "2022-04-29T11:08:27.413Z"
   },
   {
    "duration": 5,
    "start_time": "2022-04-29T11:08:27.421Z"
   },
   {
    "duration": 222,
    "start_time": "2022-04-29T11:08:27.428Z"
   },
   {
    "duration": 15,
    "start_time": "2022-04-29T11:08:27.652Z"
   },
   {
    "duration": 106,
    "start_time": "2022-04-29T11:08:27.669Z"
   },
   {
    "duration": 69,
    "start_time": "2022-04-29T11:08:27.777Z"
   },
   {
    "duration": 63,
    "start_time": "2022-04-29T11:08:27.848Z"
   },
   {
    "duration": 51,
    "start_time": "2022-04-29T11:08:27.913Z"
   },
   {
    "duration": 7,
    "start_time": "2022-04-29T11:08:27.965Z"
   },
   {
    "duration": 117,
    "start_time": "2022-04-29T11:08:27.974Z"
   },
   {
    "duration": 274,
    "start_time": "2022-04-29T11:08:28.093Z"
   },
   {
    "duration": 42,
    "start_time": "2022-04-29T11:08:28.369Z"
   },
   {
    "duration": 5,
    "start_time": "2022-04-29T11:08:28.414Z"
   },
   {
    "duration": 22,
    "start_time": "2022-04-29T11:08:28.424Z"
   },
   {
    "duration": 145,
    "start_time": "2022-04-29T11:08:28.448Z"
   },
   {
    "duration": 17,
    "start_time": "2022-04-29T11:08:28.595Z"
   },
   {
    "duration": 20,
    "start_time": "2022-04-29T11:08:28.614Z"
   },
   {
    "duration": 12,
    "start_time": "2022-04-29T11:08:28.636Z"
   },
   {
    "duration": 16,
    "start_time": "2022-04-29T11:08:28.650Z"
   },
   {
    "duration": 3351,
    "start_time": "2022-04-29T11:08:28.668Z"
   },
   {
    "duration": 7,
    "start_time": "2022-04-29T11:08:32.021Z"
   },
   {
    "duration": 7,
    "start_time": "2022-04-29T11:08:32.030Z"
   },
   {
    "duration": 7,
    "start_time": "2022-04-29T11:08:32.039Z"
   },
   {
    "duration": 1145,
    "start_time": "2022-04-29T11:08:32.048Z"
   },
   {
    "duration": 15,
    "start_time": "2022-04-29T11:08:33.195Z"
   },
   {
    "duration": 10,
    "start_time": "2022-04-29T11:08:33.212Z"
   },
   {
    "duration": 18,
    "start_time": "2022-04-29T11:08:33.224Z"
   },
   {
    "duration": 15,
    "start_time": "2022-04-29T11:08:33.244Z"
   },
   {
    "duration": 52,
    "start_time": "2022-04-29T11:08:33.261Z"
   },
   {
    "duration": 30,
    "start_time": "2022-04-29T11:08:33.315Z"
   },
   {
    "duration": 27,
    "start_time": "2022-04-29T11:08:33.347Z"
   },
   {
    "duration": 49,
    "start_time": "2022-04-29T11:08:33.375Z"
   },
   {
    "duration": 33,
    "start_time": "2022-04-29T11:08:33.426Z"
   },
   {
    "duration": 50,
    "start_time": "2022-04-29T11:08:33.461Z"
   },
   {
    "duration": 15,
    "start_time": "2022-04-29T11:08:33.512Z"
   },
   {
    "duration": 3101,
    "start_time": "2022-04-29T11:08:33.529Z"
   },
   {
    "duration": 2073,
    "start_time": "2022-04-29T11:08:36.632Z"
   },
   {
    "duration": 7,
    "start_time": "2022-04-29T11:08:38.707Z"
   },
   {
    "duration": 10,
    "start_time": "2022-04-29T11:08:38.716Z"
   },
   {
    "duration": 1272,
    "start_time": "2022-04-29T11:09:37.041Z"
   },
   {
    "duration": 15,
    "start_time": "2022-04-29T11:21:43.283Z"
   },
   {
    "duration": 7,
    "start_time": "2022-04-29T11:22:16.922Z"
   },
   {
    "duration": 8,
    "start_time": "2022-04-29T11:23:07.093Z"
   },
   {
    "duration": 8,
    "start_time": "2022-04-29T11:23:27.748Z"
   },
   {
    "duration": 12,
    "start_time": "2022-04-29T11:24:01.423Z"
   },
   {
    "duration": 61,
    "start_time": "2022-04-29T11:24:48.825Z"
   },
   {
    "duration": 15,
    "start_time": "2022-04-29T11:24:54.049Z"
   },
   {
    "duration": 15,
    "start_time": "2022-04-29T11:25:02.458Z"
   },
   {
    "duration": 12,
    "start_time": "2022-04-29T11:25:14.490Z"
   },
   {
    "duration": 12,
    "start_time": "2022-04-29T11:25:20.347Z"
   },
   {
    "duration": 8,
    "start_time": "2022-04-29T11:25:23.553Z"
   },
   {
    "duration": 7,
    "start_time": "2022-04-29T11:25:29.826Z"
   },
   {
    "duration": 11,
    "start_time": "2022-04-29T11:25:44.290Z"
   },
   {
    "duration": 21,
    "start_time": "2022-04-29T11:26:13.652Z"
   },
   {
    "duration": 21,
    "start_time": "2022-04-29T11:26:18.876Z"
   },
   {
    "duration": 19,
    "start_time": "2022-04-29T11:26:32.429Z"
   },
   {
    "duration": 85,
    "start_time": "2022-04-29T11:27:33.183Z"
   },
   {
    "duration": 7,
    "start_time": "2022-04-29T11:30:52.302Z"
   },
   {
    "duration": 4,
    "start_time": "2022-04-29T11:32:05.967Z"
   },
   {
    "duration": 4,
    "start_time": "2022-04-29T11:32:07.905Z"
   },
   {
    "duration": 66,
    "start_time": "2022-04-29T11:32:29.026Z"
   },
   {
    "duration": 35,
    "start_time": "2022-04-29T11:32:44.809Z"
   },
   {
    "duration": 16,
    "start_time": "2022-04-29T11:33:27.932Z"
   },
   {
    "duration": 7,
    "start_time": "2022-04-29T11:33:44.187Z"
   },
   {
    "duration": 23,
    "start_time": "2022-04-29T11:33:52.004Z"
   },
   {
    "duration": 7,
    "start_time": "2022-04-29T11:33:58.956Z"
   },
   {
    "duration": 13,
    "start_time": "2022-04-29T11:34:28.821Z"
   },
   {
    "duration": 1135,
    "start_time": "2022-04-29T11:34:35.883Z"
   },
   {
    "duration": 413,
    "start_time": "2022-04-29T11:34:37.020Z"
   },
   {
    "duration": 2,
    "start_time": "2022-04-29T11:34:37.435Z"
   },
   {
    "duration": 41,
    "start_time": "2022-04-29T11:34:37.439Z"
   },
   {
    "duration": 99,
    "start_time": "2022-04-29T11:34:37.481Z"
   },
   {
    "duration": 152,
    "start_time": "2022-04-29T11:34:37.582Z"
   },
   {
    "duration": 15,
    "start_time": "2022-04-29T11:34:37.736Z"
   },
   {
    "duration": 1950,
    "start_time": "2022-04-29T11:34:37.753Z"
   },
   {
    "duration": 272,
    "start_time": "2022-04-29T11:34:39.705Z"
   },
   {
    "duration": 28,
    "start_time": "2022-04-29T11:34:39.979Z"
   },
   {
    "duration": 84,
    "start_time": "2022-04-29T11:34:40.009Z"
   },
   {
    "duration": 14,
    "start_time": "2022-04-29T11:34:40.095Z"
   },
   {
    "duration": 6,
    "start_time": "2022-04-29T11:34:40.111Z"
   },
   {
    "duration": 4,
    "start_time": "2022-04-29T11:34:40.119Z"
   },
   {
    "duration": 6,
    "start_time": "2022-04-29T11:34:40.124Z"
   },
   {
    "duration": 6,
    "start_time": "2022-04-29T11:34:40.131Z"
   },
   {
    "duration": 195,
    "start_time": "2022-04-29T11:34:40.139Z"
   },
   {
    "duration": 16,
    "start_time": "2022-04-29T11:34:40.335Z"
   },
   {
    "duration": 92,
    "start_time": "2022-04-29T11:34:40.352Z"
   },
   {
    "duration": 38,
    "start_time": "2022-04-29T11:34:40.446Z"
   },
   {
    "duration": 53,
    "start_time": "2022-04-29T11:34:40.486Z"
   },
   {
    "duration": 67,
    "start_time": "2022-04-29T11:34:40.540Z"
   },
   {
    "duration": 7,
    "start_time": "2022-04-29T11:34:40.611Z"
   },
   {
    "duration": 107,
    "start_time": "2022-04-29T11:34:40.620Z"
   },
   {
    "duration": 256,
    "start_time": "2022-04-29T11:34:40.729Z"
   },
   {
    "duration": 35,
    "start_time": "2022-04-29T11:34:40.987Z"
   },
   {
    "duration": 4,
    "start_time": "2022-04-29T11:34:41.024Z"
   },
   {
    "duration": 17,
    "start_time": "2022-04-29T11:34:41.030Z"
   },
   {
    "duration": 124,
    "start_time": "2022-04-29T11:34:41.049Z"
   },
   {
    "duration": 11,
    "start_time": "2022-04-29T11:34:41.175Z"
   },
   {
    "duration": 26,
    "start_time": "2022-04-29T11:34:41.188Z"
   },
   {
    "duration": 12,
    "start_time": "2022-04-29T11:34:41.216Z"
   },
   {
    "duration": 12,
    "start_time": "2022-04-29T11:34:41.229Z"
   },
   {
    "duration": 3153,
    "start_time": "2022-04-29T11:34:41.243Z"
   },
   {
    "duration": 11,
    "start_time": "2022-04-29T11:34:44.398Z"
   },
   {
    "duration": 6,
    "start_time": "2022-04-29T11:34:44.411Z"
   },
   {
    "duration": 6,
    "start_time": "2022-04-29T11:34:44.419Z"
   },
   {
    "duration": 1082,
    "start_time": "2022-04-29T11:34:44.427Z"
   },
   {
    "duration": 13,
    "start_time": "2022-04-29T11:34:45.511Z"
   },
   {
    "duration": 18,
    "start_time": "2022-04-29T11:34:45.526Z"
   },
   {
    "duration": 19,
    "start_time": "2022-04-29T11:34:45.546Z"
   },
   {
    "duration": 20,
    "start_time": "2022-04-29T11:34:45.566Z"
   },
   {
    "duration": 20,
    "start_time": "2022-04-29T11:34:45.588Z"
   },
   {
    "duration": 40,
    "start_time": "2022-04-29T11:34:45.610Z"
   },
   {
    "duration": 25,
    "start_time": "2022-04-29T11:34:45.652Z"
   },
   {
    "duration": 32,
    "start_time": "2022-04-29T11:34:45.679Z"
   },
   {
    "duration": 26,
    "start_time": "2022-04-29T11:34:45.712Z"
   },
   {
    "duration": 25,
    "start_time": "2022-04-29T11:34:45.739Z"
   },
   {
    "duration": 42,
    "start_time": "2022-04-29T11:34:45.766Z"
   },
   {
    "duration": 3111,
    "start_time": "2022-04-29T11:34:45.810Z"
   },
   {
    "duration": 2105,
    "start_time": "2022-04-29T11:34:48.923Z"
   },
   {
    "duration": 14,
    "start_time": "2022-04-29T11:34:51.029Z"
   },
   {
    "duration": 20,
    "start_time": "2022-04-29T11:34:51.044Z"
   },
   {
    "duration": 7,
    "start_time": "2022-04-29T11:34:51.066Z"
   },
   {
    "duration": 34,
    "start_time": "2022-04-29T11:34:51.075Z"
   },
   {
    "duration": 6,
    "start_time": "2022-04-29T11:34:51.111Z"
   },
   {
    "duration": 120,
    "start_time": "2022-04-29T11:34:51.119Z"
   },
   {
    "duration": 0,
    "start_time": "2022-04-29T11:34:51.241Z"
   },
   {
    "duration": 0,
    "start_time": "2022-04-29T11:34:51.242Z"
   },
   {
    "duration": 0,
    "start_time": "2022-04-29T11:34:51.243Z"
   },
   {
    "duration": 0,
    "start_time": "2022-04-29T11:34:51.245Z"
   },
   {
    "duration": 0,
    "start_time": "2022-04-29T11:34:51.245Z"
   },
   {
    "duration": 0,
    "start_time": "2022-04-29T11:34:51.246Z"
   },
   {
    "duration": 22,
    "start_time": "2022-04-29T11:36:25.282Z"
   },
   {
    "duration": 14,
    "start_time": "2022-04-29T11:36:37.562Z"
   },
   {
    "duration": 5,
    "start_time": "2022-04-29T11:36:44.122Z"
   },
   {
    "duration": 19,
    "start_time": "2022-04-29T11:37:38.701Z"
   },
   {
    "duration": 14,
    "start_time": "2022-04-29T11:37:54.996Z"
   },
   {
    "duration": 20,
    "start_time": "2022-04-29T11:38:01.215Z"
   },
   {
    "duration": 13,
    "start_time": "2022-04-29T11:38:10.750Z"
   },
   {
    "duration": 13,
    "start_time": "2022-04-29T11:38:24.455Z"
   },
   {
    "duration": 5,
    "start_time": "2022-04-29T11:39:32.041Z"
   },
   {
    "duration": 18,
    "start_time": "2022-04-29T11:40:38.932Z"
   },
   {
    "duration": 63,
    "start_time": "2022-04-29T11:40:52.355Z"
   },
   {
    "duration": 11,
    "start_time": "2022-04-29T11:40:55.211Z"
   },
   {
    "duration": 15,
    "start_time": "2022-04-29T11:41:00.524Z"
   },
   {
    "duration": 11,
    "start_time": "2022-04-29T11:41:05.596Z"
   },
   {
    "duration": 19,
    "start_time": "2022-04-29T11:41:11.549Z"
   },
   {
    "duration": 5,
    "start_time": "2022-04-29T11:41:22.061Z"
   },
   {
    "duration": 1141,
    "start_time": "2022-04-29T11:45:43.799Z"
   },
   {
    "duration": 417,
    "start_time": "2022-04-29T11:45:44.942Z"
   },
   {
    "duration": 2,
    "start_time": "2022-04-29T11:45:45.361Z"
   },
   {
    "duration": 57,
    "start_time": "2022-04-29T11:45:45.365Z"
   },
   {
    "duration": 106,
    "start_time": "2022-04-29T11:45:45.426Z"
   },
   {
    "duration": 138,
    "start_time": "2022-04-29T11:45:45.534Z"
   },
   {
    "duration": 43,
    "start_time": "2022-04-29T11:45:45.674Z"
   },
   {
    "duration": 1942,
    "start_time": "2022-04-29T11:45:45.720Z"
   },
   {
    "duration": 294,
    "start_time": "2022-04-29T11:45:47.664Z"
   },
   {
    "duration": 17,
    "start_time": "2022-04-29T11:45:47.960Z"
   },
   {
    "duration": 98,
    "start_time": "2022-04-29T11:45:47.979Z"
   },
   {
    "duration": 5,
    "start_time": "2022-04-29T11:45:48.079Z"
   },
   {
    "duration": 24,
    "start_time": "2022-04-29T11:45:48.086Z"
   },
   {
    "duration": 3,
    "start_time": "2022-04-29T11:45:48.113Z"
   },
   {
    "duration": 9,
    "start_time": "2022-04-29T11:45:48.118Z"
   },
   {
    "duration": 7,
    "start_time": "2022-04-29T11:45:48.129Z"
   },
   {
    "duration": 201,
    "start_time": "2022-04-29T11:45:48.138Z"
   },
   {
    "duration": 15,
    "start_time": "2022-04-29T11:45:48.341Z"
   },
   {
    "duration": 92,
    "start_time": "2022-04-29T11:45:48.357Z"
   },
   {
    "duration": 39,
    "start_time": "2022-04-29T11:45:48.451Z"
   },
   {
    "duration": 36,
    "start_time": "2022-04-29T11:45:48.507Z"
   },
   {
    "duration": 69,
    "start_time": "2022-04-29T11:45:48.545Z"
   },
   {
    "duration": 8,
    "start_time": "2022-04-29T11:45:48.615Z"
   },
   {
    "duration": 108,
    "start_time": "2022-04-29T11:45:48.625Z"
   },
   {
    "duration": 258,
    "start_time": "2022-04-29T11:45:48.735Z"
   },
   {
    "duration": 32,
    "start_time": "2022-04-29T11:45:48.995Z"
   },
   {
    "duration": 4,
    "start_time": "2022-04-29T11:45:49.029Z"
   },
   {
    "duration": 22,
    "start_time": "2022-04-29T11:45:49.035Z"
   },
   {
    "duration": 162,
    "start_time": "2022-04-29T11:45:49.058Z"
   },
   {
    "duration": 14,
    "start_time": "2022-04-29T11:45:49.222Z"
   },
   {
    "duration": 19,
    "start_time": "2022-04-29T11:45:49.237Z"
   },
   {
    "duration": 12,
    "start_time": "2022-04-29T11:45:49.258Z"
   },
   {
    "duration": 36,
    "start_time": "2022-04-29T11:45:49.272Z"
   },
   {
    "duration": 3224,
    "start_time": "2022-04-29T11:45:49.310Z"
   },
   {
    "duration": 8,
    "start_time": "2022-04-29T11:45:52.535Z"
   },
   {
    "duration": 24,
    "start_time": "2022-04-29T11:45:52.544Z"
   },
   {
    "duration": 37,
    "start_time": "2022-04-29T11:45:52.570Z"
   },
   {
    "duration": 1133,
    "start_time": "2022-04-29T11:45:52.609Z"
   },
   {
    "duration": 13,
    "start_time": "2022-04-29T11:45:53.744Z"
   },
   {
    "duration": 30,
    "start_time": "2022-04-29T11:45:53.759Z"
   },
   {
    "duration": 17,
    "start_time": "2022-04-29T11:45:53.794Z"
   },
   {
    "duration": 41,
    "start_time": "2022-04-29T11:45:53.812Z"
   },
   {
    "duration": 23,
    "start_time": "2022-04-29T11:45:53.855Z"
   },
   {
    "duration": 33,
    "start_time": "2022-04-29T11:45:53.879Z"
   },
   {
    "duration": 43,
    "start_time": "2022-04-29T11:45:53.914Z"
   },
   {
    "duration": 38,
    "start_time": "2022-04-29T11:45:53.958Z"
   },
   {
    "duration": 33,
    "start_time": "2022-04-29T11:45:53.999Z"
   },
   {
    "duration": 31,
    "start_time": "2022-04-29T11:45:54.034Z"
   },
   {
    "duration": 40,
    "start_time": "2022-04-29T11:45:54.066Z"
   },
   {
    "duration": 24,
    "start_time": "2022-04-29T11:45:54.108Z"
   },
   {
    "duration": 3156,
    "start_time": "2022-04-29T11:45:54.134Z"
   },
   {
    "duration": 2089,
    "start_time": "2022-04-29T11:45:57.292Z"
   },
   {
    "duration": 15,
    "start_time": "2022-04-29T11:45:59.383Z"
   },
   {
    "duration": 15,
    "start_time": "2022-04-29T11:45:59.408Z"
   },
   {
    "duration": 12,
    "start_time": "2022-04-29T11:45:59.425Z"
   },
   {
    "duration": 23,
    "start_time": "2022-04-29T11:45:59.438Z"
   },
   {
    "duration": 11,
    "start_time": "2022-04-29T11:45:59.463Z"
   },
   {
    "duration": 35,
    "start_time": "2022-04-29T11:45:59.475Z"
   },
   {
    "duration": 22,
    "start_time": "2022-04-29T11:45:59.512Z"
   },
   {
    "duration": 11,
    "start_time": "2022-04-29T11:45:59.536Z"
   },
   {
    "duration": 65,
    "start_time": "2022-04-29T11:45:59.549Z"
   },
   {
    "duration": 117,
    "start_time": "2022-04-29T11:45:59.616Z"
   },
   {
    "duration": 0,
    "start_time": "2022-04-29T11:45:59.735Z"
   },
   {
    "duration": 0,
    "start_time": "2022-04-29T11:45:59.736Z"
   },
   {
    "duration": 0,
    "start_time": "2022-04-29T11:45:59.737Z"
   },
   {
    "duration": 0,
    "start_time": "2022-04-29T11:45:59.738Z"
   },
   {
    "duration": 14,
    "start_time": "2022-04-29T11:46:36.336Z"
   },
   {
    "duration": 22,
    "start_time": "2022-04-29T11:46:39.489Z"
   },
   {
    "duration": 23,
    "start_time": "2022-04-29T11:46:58.439Z"
   },
   {
    "duration": 5,
    "start_time": "2022-04-29T11:47:02.881Z"
   },
   {
    "duration": 22,
    "start_time": "2022-04-29T11:47:26.001Z"
   },
   {
    "duration": 21,
    "start_time": "2022-04-29T11:48:31.061Z"
   },
   {
    "duration": 4,
    "start_time": "2022-04-29T11:48:34.490Z"
   },
   {
    "duration": 183,
    "start_time": "2022-04-29T11:48:51.780Z"
   },
   {
    "duration": 187,
    "start_time": "2022-04-29T11:49:09.580Z"
   },
   {
    "duration": 184,
    "start_time": "2022-04-29T11:49:20.813Z"
   },
   {
    "duration": 107,
    "start_time": "2022-04-29T11:49:24.732Z"
   },
   {
    "duration": 15,
    "start_time": "2022-04-29T11:50:15.862Z"
   },
   {
    "duration": 1414,
    "start_time": "2022-04-29T11:50:26.393Z"
   },
   {
    "duration": 1103,
    "start_time": "2022-04-29T11:51:54.638Z"
   },
   {
    "duration": 421,
    "start_time": "2022-04-29T11:51:55.742Z"
   },
   {
    "duration": 2,
    "start_time": "2022-04-29T11:51:56.165Z"
   },
   {
    "duration": 41,
    "start_time": "2022-04-29T11:51:56.170Z"
   },
   {
    "duration": 109,
    "start_time": "2022-04-29T11:51:56.213Z"
   },
   {
    "duration": 128,
    "start_time": "2022-04-29T11:51:56.324Z"
   },
   {
    "duration": 14,
    "start_time": "2022-04-29T11:51:56.453Z"
   },
   {
    "duration": 1843,
    "start_time": "2022-04-29T11:51:56.468Z"
   },
   {
    "duration": 263,
    "start_time": "2022-04-29T11:51:58.313Z"
   },
   {
    "duration": 16,
    "start_time": "2022-04-29T11:51:58.579Z"
   },
   {
    "duration": 78,
    "start_time": "2022-04-29T11:51:58.608Z"
   },
   {
    "duration": 4,
    "start_time": "2022-04-29T11:51:58.688Z"
   },
   {
    "duration": 13,
    "start_time": "2022-04-29T11:51:58.706Z"
   },
   {
    "duration": 8,
    "start_time": "2022-04-29T11:51:58.721Z"
   },
   {
    "duration": 10,
    "start_time": "2022-04-29T11:51:58.731Z"
   },
   {
    "duration": 6,
    "start_time": "2022-04-29T11:51:58.743Z"
   },
   {
    "duration": 197,
    "start_time": "2022-04-29T11:51:58.751Z"
   },
   {
    "duration": 16,
    "start_time": "2022-04-29T11:51:58.950Z"
   },
   {
    "duration": 98,
    "start_time": "2022-04-29T11:51:58.968Z"
   },
   {
    "duration": 53,
    "start_time": "2022-04-29T11:51:59.067Z"
   },
   {
    "duration": 37,
    "start_time": "2022-04-29T11:51:59.123Z"
   },
   {
    "duration": 73,
    "start_time": "2022-04-29T11:51:59.161Z"
   },
   {
    "duration": 7,
    "start_time": "2022-04-29T11:51:59.235Z"
   },
   {
    "duration": 101,
    "start_time": "2022-04-29T11:51:59.243Z"
   },
   {
    "duration": 253,
    "start_time": "2022-04-29T11:51:59.346Z"
   },
   {
    "duration": 36,
    "start_time": "2022-04-29T11:51:59.601Z"
   },
   {
    "duration": 4,
    "start_time": "2022-04-29T11:51:59.638Z"
   },
   {
    "duration": 16,
    "start_time": "2022-04-29T11:51:59.646Z"
   },
   {
    "duration": 135,
    "start_time": "2022-04-29T11:51:59.664Z"
   },
   {
    "duration": 17,
    "start_time": "2022-04-29T11:51:59.801Z"
   },
   {
    "duration": 11,
    "start_time": "2022-04-29T11:51:59.821Z"
   },
   {
    "duration": 13,
    "start_time": "2022-04-29T11:51:59.833Z"
   },
   {
    "duration": 15,
    "start_time": "2022-04-29T11:51:59.848Z"
   },
   {
    "duration": 3209,
    "start_time": "2022-04-29T11:51:59.865Z"
   },
   {
    "duration": 8,
    "start_time": "2022-04-29T11:52:03.075Z"
   },
   {
    "duration": 7,
    "start_time": "2022-04-29T11:52:03.086Z"
   },
   {
    "duration": 20,
    "start_time": "2022-04-29T11:52:03.095Z"
   },
   {
    "duration": 1091,
    "start_time": "2022-04-29T11:52:03.117Z"
   },
   {
    "duration": 14,
    "start_time": "2022-04-29T11:52:04.210Z"
   },
   {
    "duration": 10,
    "start_time": "2022-04-29T11:52:04.226Z"
   },
   {
    "duration": 13,
    "start_time": "2022-04-29T11:52:04.238Z"
   },
   {
    "duration": 13,
    "start_time": "2022-04-29T11:52:04.253Z"
   },
   {
    "duration": 48,
    "start_time": "2022-04-29T11:52:04.268Z"
   },
   {
    "duration": 15,
    "start_time": "2022-04-29T11:52:04.318Z"
   },
   {
    "duration": 37,
    "start_time": "2022-04-29T11:52:04.335Z"
   },
   {
    "duration": 25,
    "start_time": "2022-04-29T11:52:04.374Z"
   },
   {
    "duration": 30,
    "start_time": "2022-04-29T11:52:04.400Z"
   },
   {
    "duration": 27,
    "start_time": "2022-04-29T11:52:04.432Z"
   },
   {
    "duration": 51,
    "start_time": "2022-04-29T11:52:04.461Z"
   },
   {
    "duration": 15,
    "start_time": "2022-04-29T11:52:04.514Z"
   },
   {
    "duration": 3119,
    "start_time": "2022-04-29T11:52:04.530Z"
   },
   {
    "duration": 2117,
    "start_time": "2022-04-29T11:52:07.651Z"
   },
   {
    "duration": 15,
    "start_time": "2022-04-29T11:52:09.770Z"
   },
   {
    "duration": 28,
    "start_time": "2022-04-29T11:52:09.787Z"
   },
   {
    "duration": 7,
    "start_time": "2022-04-29T11:52:09.816Z"
   },
   {
    "duration": 11,
    "start_time": "2022-04-29T11:52:09.825Z"
   },
   {
    "duration": 21,
    "start_time": "2022-04-29T11:52:09.837Z"
   },
   {
    "duration": 5,
    "start_time": "2022-04-29T11:52:09.860Z"
   },
   {
    "duration": 7,
    "start_time": "2022-04-29T11:52:09.866Z"
   },
   {
    "duration": 5,
    "start_time": "2022-04-29T11:52:09.874Z"
   },
   {
    "duration": 81,
    "start_time": "2022-04-29T11:52:09.880Z"
   },
   {
    "duration": 1438,
    "start_time": "2022-04-29T11:52:09.963Z"
   },
   {
    "duration": 270,
    "start_time": "2022-04-29T11:52:11.407Z"
   },
   {
    "duration": 196,
    "start_time": "2022-04-29T11:52:11.678Z"
   },
   {
    "duration": 192,
    "start_time": "2022-04-29T11:52:11.875Z"
   },
   {
    "duration": 32,
    "start_time": "2022-04-29T11:52:12.069Z"
   },
   {
    "duration": 63,
    "start_time": "2022-04-29T11:56:00.666Z"
   },
   {
    "duration": 1112,
    "start_time": "2022-04-29T11:56:09.363Z"
   },
   {
    "duration": 439,
    "start_time": "2022-04-29T11:56:10.477Z"
   },
   {
    "duration": 3,
    "start_time": "2022-04-29T11:56:10.918Z"
   },
   {
    "duration": 42,
    "start_time": "2022-04-29T11:56:10.923Z"
   },
   {
    "duration": 116,
    "start_time": "2022-04-29T11:56:10.967Z"
   },
   {
    "duration": 147,
    "start_time": "2022-04-29T11:56:11.106Z"
   },
   {
    "duration": 16,
    "start_time": "2022-04-29T11:56:11.255Z"
   },
   {
    "duration": 2020,
    "start_time": "2022-04-29T11:56:11.272Z"
   },
   {
    "duration": 298,
    "start_time": "2022-04-29T11:56:13.293Z"
   },
   {
    "duration": 22,
    "start_time": "2022-04-29T11:56:13.594Z"
   },
   {
    "duration": 100,
    "start_time": "2022-04-29T11:56:13.619Z"
   },
   {
    "duration": 5,
    "start_time": "2022-04-29T11:56:13.721Z"
   },
   {
    "duration": 17,
    "start_time": "2022-04-29T11:56:13.728Z"
   },
   {
    "duration": 9,
    "start_time": "2022-04-29T11:56:13.747Z"
   },
   {
    "duration": 13,
    "start_time": "2022-04-29T11:56:13.757Z"
   },
   {
    "duration": 8,
    "start_time": "2022-04-29T11:56:13.772Z"
   },
   {
    "duration": 222,
    "start_time": "2022-04-29T11:56:13.782Z"
   },
   {
    "duration": 17,
    "start_time": "2022-04-29T11:56:14.007Z"
   },
   {
    "duration": 106,
    "start_time": "2022-04-29T11:56:14.027Z"
   },
   {
    "duration": 46,
    "start_time": "2022-04-29T11:56:14.135Z"
   },
   {
    "duration": 62,
    "start_time": "2022-04-29T11:56:14.184Z"
   },
   {
    "duration": 74,
    "start_time": "2022-04-29T11:56:14.248Z"
   },
   {
    "duration": 8,
    "start_time": "2022-04-29T11:56:14.324Z"
   },
   {
    "duration": 119,
    "start_time": "2022-04-29T11:56:14.334Z"
   },
   {
    "duration": 275,
    "start_time": "2022-04-29T11:56:14.455Z"
   },
   {
    "duration": 33,
    "start_time": "2022-04-29T11:56:14.731Z"
   },
   {
    "duration": 5,
    "start_time": "2022-04-29T11:56:14.766Z"
   },
   {
    "duration": 40,
    "start_time": "2022-04-29T11:56:14.776Z"
   },
   {
    "duration": 131,
    "start_time": "2022-04-29T11:56:14.817Z"
   },
   {
    "duration": 12,
    "start_time": "2022-04-29T11:56:14.950Z"
   },
   {
    "duration": 16,
    "start_time": "2022-04-29T11:56:14.963Z"
   },
   {
    "duration": 30,
    "start_time": "2022-04-29T11:56:14.981Z"
   },
   {
    "duration": 16,
    "start_time": "2022-04-29T11:56:15.013Z"
   },
   {
    "duration": 3493,
    "start_time": "2022-04-29T11:56:15.031Z"
   },
   {
    "duration": 10,
    "start_time": "2022-04-29T11:56:18.526Z"
   },
   {
    "duration": 8,
    "start_time": "2022-04-29T11:56:18.539Z"
   },
   {
    "duration": 9,
    "start_time": "2022-04-29T11:56:18.549Z"
   },
   {
    "duration": 1201,
    "start_time": "2022-04-29T11:56:18.560Z"
   },
   {
    "duration": 15,
    "start_time": "2022-04-29T11:56:19.763Z"
   },
   {
    "duration": 10,
    "start_time": "2022-04-29T11:56:19.779Z"
   },
   {
    "duration": 14,
    "start_time": "2022-04-29T11:56:19.806Z"
   },
   {
    "duration": 13,
    "start_time": "2022-04-29T11:56:19.822Z"
   },
   {
    "duration": 14,
    "start_time": "2022-04-29T11:56:19.837Z"
   },
   {
    "duration": 3,
    "start_time": "2022-04-29T11:56:19.853Z"
   },
   {
    "duration": 70,
    "start_time": "2022-04-29T11:56:19.858Z"
   },
   {
    "duration": 24,
    "start_time": "2022-04-29T11:56:19.930Z"
   },
   {
    "duration": 25,
    "start_time": "2022-04-29T11:56:19.955Z"
   },
   {
    "duration": 60,
    "start_time": "2022-04-29T11:56:19.982Z"
   },
   {
    "duration": 26,
    "start_time": "2022-04-29T11:56:20.044Z"
   },
   {
    "duration": 44,
    "start_time": "2022-04-29T11:56:20.072Z"
   },
   {
    "duration": 3219,
    "start_time": "2022-04-29T11:56:20.118Z"
   },
   {
    "duration": 2093,
    "start_time": "2022-04-29T11:56:23.339Z"
   },
   {
    "duration": 17,
    "start_time": "2022-04-29T11:56:25.434Z"
   },
   {
    "duration": 13,
    "start_time": "2022-04-29T11:56:25.452Z"
   },
   {
    "duration": 13,
    "start_time": "2022-04-29T11:56:25.468Z"
   },
   {
    "duration": 26,
    "start_time": "2022-04-29T11:56:25.483Z"
   },
   {
    "duration": 6,
    "start_time": "2022-04-29T11:56:25.511Z"
   },
   {
    "duration": 11,
    "start_time": "2022-04-29T11:56:25.518Z"
   },
   {
    "duration": 6,
    "start_time": "2022-04-29T11:56:25.530Z"
   },
   {
    "duration": 3,
    "start_time": "2022-04-29T11:56:25.538Z"
   },
   {
    "duration": 73,
    "start_time": "2022-04-29T11:56:25.543Z"
   },
   {
    "duration": 1369,
    "start_time": "2022-04-29T11:56:25.618Z"
   },
   {
    "duration": 263,
    "start_time": "2022-04-29T11:56:26.989Z"
   },
   {
    "duration": 187,
    "start_time": "2022-04-29T11:56:27.253Z"
   },
   {
    "duration": 188,
    "start_time": "2022-04-29T11:56:27.442Z"
   },
   {
    "duration": 33,
    "start_time": "2022-04-29T11:56:27.631Z"
   },
   {
    "duration": 147,
    "start_time": "2022-05-02T14:09:18.325Z"
   },
   {
    "duration": 59,
    "start_time": "2022-05-02T14:09:37.910Z"
   },
   {
    "duration": 5,
    "start_time": "2022-05-02T14:09:37.975Z"
   },
   {
    "duration": 1214,
    "start_time": "2022-05-02T14:09:56.085Z"
   },
   {
    "duration": 500,
    "start_time": "2022-05-02T14:09:57.301Z"
   },
   {
    "duration": 2,
    "start_time": "2022-05-02T14:09:57.803Z"
   },
   {
    "duration": 42,
    "start_time": "2022-05-02T14:09:57.808Z"
   },
   {
    "duration": 103,
    "start_time": "2022-05-02T14:09:57.852Z"
   },
   {
    "duration": 148,
    "start_time": "2022-05-02T14:09:57.957Z"
   },
   {
    "duration": 36,
    "start_time": "2022-05-02T14:09:58.107Z"
   },
   {
    "duration": 1684,
    "start_time": "2022-05-02T14:09:58.144Z"
   },
   {
    "duration": 7,
    "start_time": "2022-05-02T14:09:59.830Z"
   },
   {
    "duration": 97,
    "start_time": "2022-05-02T14:15:13.299Z"
   },
   {
    "duration": 13,
    "start_time": "2022-05-02T14:16:24.768Z"
   },
   {
    "duration": 10,
    "start_time": "2022-05-02T14:16:36.488Z"
   },
   {
    "duration": 10,
    "start_time": "2022-05-02T14:16:46.729Z"
   },
   {
    "duration": 10,
    "start_time": "2022-05-02T14:17:32.299Z"
   },
   {
    "duration": 17,
    "start_time": "2022-05-02T14:17:45.874Z"
   },
   {
    "duration": 132,
    "start_time": "2022-05-02T14:22:58.452Z"
   },
   {
    "duration": 4,
    "start_time": "2022-05-02T14:23:16.207Z"
   },
   {
    "duration": 145,
    "start_time": "2022-05-02T14:25:17.685Z"
   },
   {
    "duration": 17,
    "start_time": "2022-05-02T14:25:25.815Z"
   },
   {
    "duration": 285,
    "start_time": "2022-05-02T14:25:25.881Z"
   },
   {
    "duration": 18,
    "start_time": "2022-05-02T14:26:43.987Z"
   },
   {
    "duration": 267,
    "start_time": "2022-05-02T14:26:44.049Z"
   },
   {
    "duration": 15,
    "start_time": "2022-05-02T14:26:55.886Z"
   },
   {
    "duration": 582,
    "start_time": "2022-05-02T14:27:42.299Z"
   },
   {
    "duration": 30,
    "start_time": "2022-05-02T14:28:18.284Z"
   },
   {
    "duration": 42,
    "start_time": "2022-05-02T14:28:31.556Z"
   },
   {
    "duration": 557,
    "start_time": "2022-05-02T14:29:50.115Z"
   },
   {
    "duration": 46,
    "start_time": "2022-05-02T14:29:50.674Z"
   },
   {
    "duration": 1186,
    "start_time": "2022-05-02T14:30:16.871Z"
   },
   {
    "duration": 569,
    "start_time": "2022-05-02T14:30:18.059Z"
   },
   {
    "duration": 2,
    "start_time": "2022-05-02T14:30:18.630Z"
   },
   {
    "duration": 56,
    "start_time": "2022-05-02T14:30:18.634Z"
   },
   {
    "duration": 112,
    "start_time": "2022-05-02T14:30:18.692Z"
   },
   {
    "duration": 174,
    "start_time": "2022-05-02T14:30:18.806Z"
   },
   {
    "duration": 20,
    "start_time": "2022-05-02T14:30:18.982Z"
   },
   {
    "duration": 2149,
    "start_time": "2022-05-02T14:30:19.004Z"
   },
   {
    "duration": 4,
    "start_time": "2022-05-02T14:30:21.155Z"
   },
   {
    "duration": 19,
    "start_time": "2022-05-02T14:30:21.162Z"
   },
   {
    "duration": 615,
    "start_time": "2022-05-02T14:30:21.183Z"
   },
   {
    "duration": 63,
    "start_time": "2022-05-02T14:30:21.800Z"
   },
   {
    "duration": 295,
    "start_time": "2022-05-02T14:30:21.864Z"
   },
   {
    "duration": 18,
    "start_time": "2022-05-02T14:30:22.161Z"
   },
   {
    "duration": 1894,
    "start_time": "2022-05-02T14:30:22.180Z"
   },
   {
    "duration": 0,
    "start_time": "2022-05-02T14:30:24.078Z"
   },
   {
    "duration": 0,
    "start_time": "2022-05-02T14:30:24.079Z"
   },
   {
    "duration": 0,
    "start_time": "2022-05-02T14:30:24.080Z"
   },
   {
    "duration": 0,
    "start_time": "2022-05-02T14:30:24.081Z"
   },
   {
    "duration": 0,
    "start_time": "2022-05-02T14:30:24.082Z"
   },
   {
    "duration": 0,
    "start_time": "2022-05-02T14:30:24.083Z"
   },
   {
    "duration": 0,
    "start_time": "2022-05-02T14:30:24.085Z"
   },
   {
    "duration": 0,
    "start_time": "2022-05-02T14:30:24.085Z"
   },
   {
    "duration": 0,
    "start_time": "2022-05-02T14:30:24.086Z"
   },
   {
    "duration": 0,
    "start_time": "2022-05-02T14:30:24.087Z"
   },
   {
    "duration": 0,
    "start_time": "2022-05-02T14:30:24.089Z"
   },
   {
    "duration": 0,
    "start_time": "2022-05-02T14:30:24.090Z"
   },
   {
    "duration": 0,
    "start_time": "2022-05-02T14:30:24.091Z"
   },
   {
    "duration": 0,
    "start_time": "2022-05-02T14:30:24.093Z"
   },
   {
    "duration": 0,
    "start_time": "2022-05-02T14:30:24.094Z"
   },
   {
    "duration": 0,
    "start_time": "2022-05-02T14:30:24.096Z"
   },
   {
    "duration": 0,
    "start_time": "2022-05-02T14:30:24.098Z"
   },
   {
    "duration": 0,
    "start_time": "2022-05-02T14:30:24.099Z"
   },
   {
    "duration": 0,
    "start_time": "2022-05-02T14:30:24.101Z"
   },
   {
    "duration": 0,
    "start_time": "2022-05-02T14:30:24.102Z"
   },
   {
    "duration": 0,
    "start_time": "2022-05-02T14:30:24.104Z"
   },
   {
    "duration": 0,
    "start_time": "2022-05-02T14:30:24.105Z"
   },
   {
    "duration": 0,
    "start_time": "2022-05-02T14:30:24.107Z"
   },
   {
    "duration": 0,
    "start_time": "2022-05-02T14:30:24.108Z"
   },
   {
    "duration": 0,
    "start_time": "2022-05-02T14:30:24.110Z"
   },
   {
    "duration": 0,
    "start_time": "2022-05-02T14:30:24.111Z"
   },
   {
    "duration": 0,
    "start_time": "2022-05-02T14:30:24.112Z"
   },
   {
    "duration": 0,
    "start_time": "2022-05-02T14:30:24.113Z"
   },
   {
    "duration": 0,
    "start_time": "2022-05-02T14:30:24.115Z"
   },
   {
    "duration": 0,
    "start_time": "2022-05-02T14:30:24.138Z"
   },
   {
    "duration": 0,
    "start_time": "2022-05-02T14:30:24.139Z"
   },
   {
    "duration": 0,
    "start_time": "2022-05-02T14:30:24.142Z"
   },
   {
    "duration": 0,
    "start_time": "2022-05-02T14:30:24.143Z"
   },
   {
    "duration": 0,
    "start_time": "2022-05-02T14:30:24.145Z"
   },
   {
    "duration": 0,
    "start_time": "2022-05-02T14:30:24.147Z"
   },
   {
    "duration": 0,
    "start_time": "2022-05-02T14:30:24.148Z"
   },
   {
    "duration": 0,
    "start_time": "2022-05-02T14:30:24.150Z"
   },
   {
    "duration": 0,
    "start_time": "2022-05-02T14:30:24.151Z"
   },
   {
    "duration": 0,
    "start_time": "2022-05-02T14:30:24.153Z"
   },
   {
    "duration": 0,
    "start_time": "2022-05-02T14:30:24.154Z"
   },
   {
    "duration": 0,
    "start_time": "2022-05-02T14:30:24.155Z"
   },
   {
    "duration": 0,
    "start_time": "2022-05-02T14:30:24.157Z"
   },
   {
    "duration": 0,
    "start_time": "2022-05-02T14:30:24.158Z"
   },
   {
    "duration": 0,
    "start_time": "2022-05-02T14:30:24.160Z"
   },
   {
    "duration": 0,
    "start_time": "2022-05-02T14:30:24.161Z"
   },
   {
    "duration": 0,
    "start_time": "2022-05-02T14:30:24.163Z"
   },
   {
    "duration": 0,
    "start_time": "2022-05-02T14:30:24.164Z"
   },
   {
    "duration": 0,
    "start_time": "2022-05-02T14:30:24.166Z"
   },
   {
    "duration": 0,
    "start_time": "2022-05-02T14:30:24.167Z"
   },
   {
    "duration": 0,
    "start_time": "2022-05-02T14:30:24.168Z"
   },
   {
    "duration": 0,
    "start_time": "2022-05-02T14:30:24.169Z"
   },
   {
    "duration": 0,
    "start_time": "2022-05-02T14:30:24.171Z"
   },
   {
    "duration": 0,
    "start_time": "2022-05-02T14:30:24.172Z"
   },
   {
    "duration": 0,
    "start_time": "2022-05-02T14:30:24.173Z"
   },
   {
    "duration": 0,
    "start_time": "2022-05-02T14:30:24.175Z"
   },
   {
    "duration": 3,
    "start_time": "2022-05-02T14:30:47.120Z"
   },
   {
    "duration": 570,
    "start_time": "2022-05-02T14:30:47.124Z"
   },
   {
    "duration": 2,
    "start_time": "2022-05-02T14:30:47.696Z"
   },
   {
    "duration": 52,
    "start_time": "2022-05-02T14:30:47.700Z"
   },
   {
    "duration": 127,
    "start_time": "2022-05-02T14:30:47.754Z"
   },
   {
    "duration": 178,
    "start_time": "2022-05-02T14:30:47.883Z"
   },
   {
    "duration": 14,
    "start_time": "2022-05-02T14:30:48.063Z"
   },
   {
    "duration": 1585,
    "start_time": "2022-05-02T14:30:48.079Z"
   },
   {
    "duration": 4,
    "start_time": "2022-05-02T14:30:49.666Z"
   },
   {
    "duration": 21,
    "start_time": "2022-05-02T14:30:49.672Z"
   },
   {
    "duration": 427,
    "start_time": "2022-05-02T14:30:49.696Z"
   },
   {
    "duration": 45,
    "start_time": "2022-05-02T14:30:50.125Z"
   },
   {
    "duration": 295,
    "start_time": "2022-05-02T14:30:50.172Z"
   },
   {
    "duration": 17,
    "start_time": "2022-05-02T14:30:50.469Z"
   },
   {
    "duration": 1835,
    "start_time": "2022-05-02T14:30:50.488Z"
   },
   {
    "duration": 0,
    "start_time": "2022-05-02T14:30:52.326Z"
   },
   {
    "duration": 0,
    "start_time": "2022-05-02T14:30:52.328Z"
   },
   {
    "duration": 0,
    "start_time": "2022-05-02T14:30:52.329Z"
   },
   {
    "duration": 0,
    "start_time": "2022-05-02T14:30:52.331Z"
   },
   {
    "duration": 0,
    "start_time": "2022-05-02T14:30:52.331Z"
   },
   {
    "duration": 0,
    "start_time": "2022-05-02T14:30:52.332Z"
   },
   {
    "duration": 0,
    "start_time": "2022-05-02T14:30:52.334Z"
   },
   {
    "duration": 0,
    "start_time": "2022-05-02T14:30:52.336Z"
   },
   {
    "duration": 0,
    "start_time": "2022-05-02T14:30:52.337Z"
   },
   {
    "duration": 1,
    "start_time": "2022-05-02T14:30:52.338Z"
   },
   {
    "duration": 0,
    "start_time": "2022-05-02T14:30:52.340Z"
   },
   {
    "duration": 0,
    "start_time": "2022-05-02T14:30:52.341Z"
   },
   {
    "duration": 0,
    "start_time": "2022-05-02T14:30:52.343Z"
   },
   {
    "duration": 0,
    "start_time": "2022-05-02T14:30:52.345Z"
   },
   {
    "duration": 0,
    "start_time": "2022-05-02T14:30:52.346Z"
   },
   {
    "duration": 0,
    "start_time": "2022-05-02T14:30:52.348Z"
   },
   {
    "duration": 0,
    "start_time": "2022-05-02T14:30:52.350Z"
   },
   {
    "duration": 0,
    "start_time": "2022-05-02T14:30:52.351Z"
   },
   {
    "duration": 0,
    "start_time": "2022-05-02T14:30:52.351Z"
   },
   {
    "duration": 0,
    "start_time": "2022-05-02T14:30:52.352Z"
   },
   {
    "duration": 0,
    "start_time": "2022-05-02T14:30:52.356Z"
   },
   {
    "duration": 0,
    "start_time": "2022-05-02T14:30:52.357Z"
   },
   {
    "duration": 0,
    "start_time": "2022-05-02T14:30:52.358Z"
   },
   {
    "duration": 0,
    "start_time": "2022-05-02T14:30:52.360Z"
   },
   {
    "duration": 0,
    "start_time": "2022-05-02T14:30:52.362Z"
   },
   {
    "duration": 0,
    "start_time": "2022-05-02T14:30:52.364Z"
   },
   {
    "duration": 0,
    "start_time": "2022-05-02T14:30:52.365Z"
   },
   {
    "duration": 0,
    "start_time": "2022-05-02T14:30:52.367Z"
   },
   {
    "duration": 0,
    "start_time": "2022-05-02T14:30:52.369Z"
   },
   {
    "duration": 0,
    "start_time": "2022-05-02T14:30:52.371Z"
   },
   {
    "duration": 0,
    "start_time": "2022-05-02T14:30:52.372Z"
   },
   {
    "duration": 0,
    "start_time": "2022-05-02T14:30:52.374Z"
   },
   {
    "duration": 0,
    "start_time": "2022-05-02T14:30:52.376Z"
   },
   {
    "duration": 0,
    "start_time": "2022-05-02T14:30:52.378Z"
   },
   {
    "duration": 0,
    "start_time": "2022-05-02T14:30:52.435Z"
   },
   {
    "duration": 0,
    "start_time": "2022-05-02T14:30:52.437Z"
   },
   {
    "duration": 0,
    "start_time": "2022-05-02T14:30:52.438Z"
   },
   {
    "duration": 0,
    "start_time": "2022-05-02T14:30:52.439Z"
   },
   {
    "duration": 0,
    "start_time": "2022-05-02T14:30:52.443Z"
   },
   {
    "duration": 0,
    "start_time": "2022-05-02T14:30:52.444Z"
   },
   {
    "duration": 0,
    "start_time": "2022-05-02T14:30:52.445Z"
   },
   {
    "duration": 0,
    "start_time": "2022-05-02T14:30:52.446Z"
   },
   {
    "duration": 0,
    "start_time": "2022-05-02T14:30:52.447Z"
   },
   {
    "duration": 0,
    "start_time": "2022-05-02T14:30:52.449Z"
   },
   {
    "duration": 0,
    "start_time": "2022-05-02T14:30:52.450Z"
   },
   {
    "duration": 0,
    "start_time": "2022-05-02T14:30:52.451Z"
   },
   {
    "duration": 0,
    "start_time": "2022-05-02T14:30:52.453Z"
   },
   {
    "duration": 0,
    "start_time": "2022-05-02T14:30:52.454Z"
   },
   {
    "duration": 0,
    "start_time": "2022-05-02T14:30:52.455Z"
   },
   {
    "duration": 0,
    "start_time": "2022-05-02T14:30:52.456Z"
   },
   {
    "duration": 0,
    "start_time": "2022-05-02T14:30:52.457Z"
   },
   {
    "duration": 0,
    "start_time": "2022-05-02T14:30:52.458Z"
   },
   {
    "duration": 0,
    "start_time": "2022-05-02T14:30:52.459Z"
   },
   {
    "duration": 0,
    "start_time": "2022-05-02T14:30:52.461Z"
   },
   {
    "duration": 0,
    "start_time": "2022-05-02T14:30:52.463Z"
   },
   {
    "duration": 1154,
    "start_time": "2022-05-02T14:31:54.393Z"
   },
   {
    "duration": 530,
    "start_time": "2022-05-02T14:31:55.550Z"
   },
   {
    "duration": 3,
    "start_time": "2022-05-02T14:31:56.082Z"
   },
   {
    "duration": 49,
    "start_time": "2022-05-02T14:31:56.088Z"
   },
   {
    "duration": 135,
    "start_time": "2022-05-02T14:31:56.139Z"
   },
   {
    "duration": 176,
    "start_time": "2022-05-02T14:31:56.276Z"
   },
   {
    "duration": 17,
    "start_time": "2022-05-02T14:31:56.453Z"
   },
   {
    "duration": 2890,
    "start_time": "2022-05-02T14:31:56.472Z"
   },
   {
    "duration": 5,
    "start_time": "2022-05-02T14:31:59.364Z"
   },
   {
    "duration": 19,
    "start_time": "2022-05-02T14:31:59.372Z"
   },
   {
    "duration": 600,
    "start_time": "2022-05-02T14:31:59.392Z"
   },
   {
    "duration": 65,
    "start_time": "2022-05-02T14:31:59.994Z"
   },
   {
    "duration": 291,
    "start_time": "2022-05-02T14:32:00.061Z"
   },
   {
    "duration": 17,
    "start_time": "2022-05-02T14:32:00.353Z"
   },
   {
    "duration": 1976,
    "start_time": "2022-05-02T14:32:00.372Z"
   },
   {
    "duration": 0,
    "start_time": "2022-05-02T14:32:02.351Z"
   },
   {
    "duration": 0,
    "start_time": "2022-05-02T14:32:02.352Z"
   },
   {
    "duration": 0,
    "start_time": "2022-05-02T14:32:02.353Z"
   },
   {
    "duration": 0,
    "start_time": "2022-05-02T14:32:02.354Z"
   },
   {
    "duration": 0,
    "start_time": "2022-05-02T14:32:02.355Z"
   },
   {
    "duration": 0,
    "start_time": "2022-05-02T14:32:02.356Z"
   },
   {
    "duration": 0,
    "start_time": "2022-05-02T14:32:02.358Z"
   },
   {
    "duration": 0,
    "start_time": "2022-05-02T14:32:02.359Z"
   },
   {
    "duration": 0,
    "start_time": "2022-05-02T14:32:02.360Z"
   },
   {
    "duration": 0,
    "start_time": "2022-05-02T14:32:02.360Z"
   },
   {
    "duration": 0,
    "start_time": "2022-05-02T14:32:02.362Z"
   },
   {
    "duration": 0,
    "start_time": "2022-05-02T14:32:02.363Z"
   },
   {
    "duration": 0,
    "start_time": "2022-05-02T14:32:02.364Z"
   },
   {
    "duration": 0,
    "start_time": "2022-05-02T14:32:02.365Z"
   },
   {
    "duration": 0,
    "start_time": "2022-05-02T14:32:02.366Z"
   },
   {
    "duration": 0,
    "start_time": "2022-05-02T14:32:02.367Z"
   },
   {
    "duration": 0,
    "start_time": "2022-05-02T14:32:02.368Z"
   },
   {
    "duration": 0,
    "start_time": "2022-05-02T14:32:02.370Z"
   },
   {
    "duration": 0,
    "start_time": "2022-05-02T14:32:02.371Z"
   },
   {
    "duration": 0,
    "start_time": "2022-05-02T14:32:02.372Z"
   },
   {
    "duration": 0,
    "start_time": "2022-05-02T14:32:02.373Z"
   },
   {
    "duration": 0,
    "start_time": "2022-05-02T14:32:02.374Z"
   },
   {
    "duration": 0,
    "start_time": "2022-05-02T14:32:02.375Z"
   },
   {
    "duration": 0,
    "start_time": "2022-05-02T14:32:02.377Z"
   },
   {
    "duration": 0,
    "start_time": "2022-05-02T14:32:02.378Z"
   },
   {
    "duration": 0,
    "start_time": "2022-05-02T14:32:02.379Z"
   },
   {
    "duration": 0,
    "start_time": "2022-05-02T14:32:02.380Z"
   },
   {
    "duration": 0,
    "start_time": "2022-05-02T14:32:02.381Z"
   },
   {
    "duration": 0,
    "start_time": "2022-05-02T14:32:02.382Z"
   },
   {
    "duration": 0,
    "start_time": "2022-05-02T14:32:02.383Z"
   },
   {
    "duration": 1,
    "start_time": "2022-05-02T14:32:02.384Z"
   },
   {
    "duration": 0,
    "start_time": "2022-05-02T14:32:02.386Z"
   },
   {
    "duration": 0,
    "start_time": "2022-05-02T14:32:02.387Z"
   },
   {
    "duration": 0,
    "start_time": "2022-05-02T14:32:02.388Z"
   },
   {
    "duration": 0,
    "start_time": "2022-05-02T14:32:02.388Z"
   },
   {
    "duration": 0,
    "start_time": "2022-05-02T14:32:02.445Z"
   },
   {
    "duration": 0,
    "start_time": "2022-05-02T14:32:02.447Z"
   },
   {
    "duration": 0,
    "start_time": "2022-05-02T14:32:02.448Z"
   },
   {
    "duration": 0,
    "start_time": "2022-05-02T14:32:02.452Z"
   },
   {
    "duration": 0,
    "start_time": "2022-05-02T14:32:02.455Z"
   },
   {
    "duration": 0,
    "start_time": "2022-05-02T14:32:02.456Z"
   },
   {
    "duration": 0,
    "start_time": "2022-05-02T14:32:02.458Z"
   },
   {
    "duration": 0,
    "start_time": "2022-05-02T14:32:02.459Z"
   },
   {
    "duration": 0,
    "start_time": "2022-05-02T14:32:02.461Z"
   },
   {
    "duration": 0,
    "start_time": "2022-05-02T14:32:02.462Z"
   },
   {
    "duration": 0,
    "start_time": "2022-05-02T14:32:02.464Z"
   },
   {
    "duration": 0,
    "start_time": "2022-05-02T14:32:02.465Z"
   },
   {
    "duration": 0,
    "start_time": "2022-05-02T14:32:02.466Z"
   },
   {
    "duration": 0,
    "start_time": "2022-05-02T14:32:02.467Z"
   },
   {
    "duration": 0,
    "start_time": "2022-05-02T14:32:02.469Z"
   },
   {
    "duration": 0,
    "start_time": "2022-05-02T14:32:02.470Z"
   },
   {
    "duration": 0,
    "start_time": "2022-05-02T14:32:02.472Z"
   },
   {
    "duration": 0,
    "start_time": "2022-05-02T14:32:02.473Z"
   },
   {
    "duration": 0,
    "start_time": "2022-05-02T14:32:02.475Z"
   },
   {
    "duration": 0,
    "start_time": "2022-05-02T14:32:02.476Z"
   },
   {
    "duration": 1255,
    "start_time": "2022-05-02T14:33:34.252Z"
   },
   {
    "duration": 517,
    "start_time": "2022-05-02T14:33:35.509Z"
   },
   {
    "duration": 3,
    "start_time": "2022-05-02T14:33:36.028Z"
   },
   {
    "duration": 69,
    "start_time": "2022-05-02T14:33:36.033Z"
   },
   {
    "duration": 101,
    "start_time": "2022-05-02T14:33:36.104Z"
   },
   {
    "duration": 150,
    "start_time": "2022-05-02T14:33:36.234Z"
   },
   {
    "duration": 16,
    "start_time": "2022-05-02T14:33:36.386Z"
   },
   {
    "duration": 1789,
    "start_time": "2022-05-02T14:33:36.433Z"
   },
   {
    "duration": 10,
    "start_time": "2022-05-02T14:33:38.224Z"
   },
   {
    "duration": 19,
    "start_time": "2022-05-02T14:33:38.237Z"
   },
   {
    "duration": 462,
    "start_time": "2022-05-02T14:33:38.258Z"
   },
   {
    "duration": 29,
    "start_time": "2022-05-02T14:33:38.722Z"
   },
   {
    "duration": 281,
    "start_time": "2022-05-02T14:33:38.753Z"
   },
   {
    "duration": 17,
    "start_time": "2022-05-02T14:33:39.036Z"
   },
   {
    "duration": 1690,
    "start_time": "2022-05-02T14:33:39.055Z"
   },
   {
    "duration": 0,
    "start_time": "2022-05-02T14:33:40.748Z"
   },
   {
    "duration": 0,
    "start_time": "2022-05-02T14:33:40.750Z"
   },
   {
    "duration": 0,
    "start_time": "2022-05-02T14:33:40.751Z"
   },
   {
    "duration": 0,
    "start_time": "2022-05-02T14:33:40.752Z"
   },
   {
    "duration": 0,
    "start_time": "2022-05-02T14:33:40.753Z"
   },
   {
    "duration": 0,
    "start_time": "2022-05-02T14:33:40.754Z"
   },
   {
    "duration": 0,
    "start_time": "2022-05-02T14:33:40.755Z"
   },
   {
    "duration": 0,
    "start_time": "2022-05-02T14:33:40.756Z"
   },
   {
    "duration": 0,
    "start_time": "2022-05-02T14:33:40.757Z"
   },
   {
    "duration": 0,
    "start_time": "2022-05-02T14:33:40.759Z"
   },
   {
    "duration": 0,
    "start_time": "2022-05-02T14:33:40.760Z"
   },
   {
    "duration": 0,
    "start_time": "2022-05-02T14:33:40.761Z"
   },
   {
    "duration": 0,
    "start_time": "2022-05-02T14:33:40.762Z"
   },
   {
    "duration": 0,
    "start_time": "2022-05-02T14:33:40.763Z"
   },
   {
    "duration": 0,
    "start_time": "2022-05-02T14:33:40.764Z"
   },
   {
    "duration": 0,
    "start_time": "2022-05-02T14:33:40.765Z"
   },
   {
    "duration": 0,
    "start_time": "2022-05-02T14:33:40.766Z"
   },
   {
    "duration": 0,
    "start_time": "2022-05-02T14:33:40.767Z"
   },
   {
    "duration": 0,
    "start_time": "2022-05-02T14:33:40.768Z"
   },
   {
    "duration": 0,
    "start_time": "2022-05-02T14:33:40.769Z"
   },
   {
    "duration": 0,
    "start_time": "2022-05-02T14:33:40.770Z"
   },
   {
    "duration": 0,
    "start_time": "2022-05-02T14:33:40.771Z"
   },
   {
    "duration": 0,
    "start_time": "2022-05-02T14:33:40.773Z"
   },
   {
    "duration": 0,
    "start_time": "2022-05-02T14:33:40.774Z"
   },
   {
    "duration": 0,
    "start_time": "2022-05-02T14:33:40.775Z"
   },
   {
    "duration": 0,
    "start_time": "2022-05-02T14:33:40.775Z"
   },
   {
    "duration": 0,
    "start_time": "2022-05-02T14:33:40.776Z"
   },
   {
    "duration": 0,
    "start_time": "2022-05-02T14:33:40.777Z"
   },
   {
    "duration": 0,
    "start_time": "2022-05-02T14:33:40.778Z"
   },
   {
    "duration": 0,
    "start_time": "2022-05-02T14:33:40.779Z"
   },
   {
    "duration": 0,
    "start_time": "2022-05-02T14:33:40.780Z"
   },
   {
    "duration": 0,
    "start_time": "2022-05-02T14:33:40.781Z"
   },
   {
    "duration": 0,
    "start_time": "2022-05-02T14:33:40.782Z"
   },
   {
    "duration": 0,
    "start_time": "2022-05-02T14:33:40.783Z"
   },
   {
    "duration": 0,
    "start_time": "2022-05-02T14:33:40.833Z"
   },
   {
    "duration": 0,
    "start_time": "2022-05-02T14:33:40.835Z"
   },
   {
    "duration": 0,
    "start_time": "2022-05-02T14:33:40.836Z"
   },
   {
    "duration": 0,
    "start_time": "2022-05-02T14:33:40.837Z"
   },
   {
    "duration": 0,
    "start_time": "2022-05-02T14:33:40.838Z"
   },
   {
    "duration": 0,
    "start_time": "2022-05-02T14:33:40.840Z"
   },
   {
    "duration": 0,
    "start_time": "2022-05-02T14:33:40.841Z"
   },
   {
    "duration": 0,
    "start_time": "2022-05-02T14:33:40.841Z"
   },
   {
    "duration": 0,
    "start_time": "2022-05-02T14:33:40.843Z"
   },
   {
    "duration": 0,
    "start_time": "2022-05-02T14:33:40.844Z"
   },
   {
    "duration": 0,
    "start_time": "2022-05-02T14:33:40.845Z"
   },
   {
    "duration": 0,
    "start_time": "2022-05-02T14:33:40.846Z"
   },
   {
    "duration": 0,
    "start_time": "2022-05-02T14:33:40.847Z"
   },
   {
    "duration": 0,
    "start_time": "2022-05-02T14:33:40.848Z"
   },
   {
    "duration": 0,
    "start_time": "2022-05-02T14:33:40.849Z"
   },
   {
    "duration": 0,
    "start_time": "2022-05-02T14:33:40.850Z"
   },
   {
    "duration": 0,
    "start_time": "2022-05-02T14:33:40.851Z"
   },
   {
    "duration": 0,
    "start_time": "2022-05-02T14:33:40.852Z"
   },
   {
    "duration": 0,
    "start_time": "2022-05-02T14:33:40.853Z"
   },
   {
    "duration": 0,
    "start_time": "2022-05-02T14:33:40.853Z"
   },
   {
    "duration": 0,
    "start_time": "2022-05-02T14:33:40.855Z"
   },
   {
    "duration": 1506,
    "start_time": "2022-05-02T14:34:29.768Z"
   },
   {
    "duration": 903,
    "start_time": "2022-05-02T14:34:31.276Z"
   },
   {
    "duration": 3,
    "start_time": "2022-05-02T14:34:32.181Z"
   },
   {
    "duration": 84,
    "start_time": "2022-05-02T14:34:32.186Z"
   },
   {
    "duration": 196,
    "start_time": "2022-05-02T14:34:32.272Z"
   },
   {
    "duration": 180,
    "start_time": "2022-05-02T14:34:32.470Z"
   },
   {
    "duration": 16,
    "start_time": "2022-05-02T14:34:32.652Z"
   },
   {
    "duration": 1796,
    "start_time": "2022-05-02T14:34:32.670Z"
   },
   {
    "duration": 7,
    "start_time": "2022-05-02T14:34:34.468Z"
   },
   {
    "duration": 28,
    "start_time": "2022-05-02T14:34:34.477Z"
   },
   {
    "duration": 484,
    "start_time": "2022-05-02T14:34:34.507Z"
   },
   {
    "duration": 41,
    "start_time": "2022-05-02T14:34:34.993Z"
   },
   {
    "duration": 279,
    "start_time": "2022-05-02T14:34:35.039Z"
   },
   {
    "duration": 23,
    "start_time": "2022-05-02T14:34:35.320Z"
   },
   {
    "duration": 96,
    "start_time": "2022-05-02T14:34:35.346Z"
   },
   {
    "duration": 6,
    "start_time": "2022-05-02T14:34:35.444Z"
   },
   {
    "duration": 8,
    "start_time": "2022-05-02T14:34:35.451Z"
   },
   {
    "duration": 6,
    "start_time": "2022-05-02T14:34:35.461Z"
   },
   {
    "duration": 7,
    "start_time": "2022-05-02T14:34:35.468Z"
   },
   {
    "duration": 6,
    "start_time": "2022-05-02T14:34:35.477Z"
   },
   {
    "duration": 215,
    "start_time": "2022-05-02T14:34:35.485Z"
   },
   {
    "duration": 16,
    "start_time": "2022-05-02T14:34:35.702Z"
   },
   {
    "duration": 83,
    "start_time": "2022-05-02T14:34:35.734Z"
   },
   {
    "duration": 42,
    "start_time": "2022-05-02T14:34:35.833Z"
   },
   {
    "duration": 57,
    "start_time": "2022-05-02T14:34:35.877Z"
   },
   {
    "duration": 52,
    "start_time": "2022-05-02T14:34:35.936Z"
   },
   {
    "duration": 8,
    "start_time": "2022-05-02T14:34:35.990Z"
   },
   {
    "duration": 125,
    "start_time": "2022-05-02T14:34:35.999Z"
   },
   {
    "duration": 266,
    "start_time": "2022-05-02T14:34:36.126Z"
   },
   {
    "duration": 39,
    "start_time": "2022-05-02T14:34:36.394Z"
   },
   {
    "duration": 5,
    "start_time": "2022-05-02T14:34:36.435Z"
   },
   {
    "duration": 30,
    "start_time": "2022-05-02T14:34:36.442Z"
   },
   {
    "duration": 133,
    "start_time": "2022-05-02T14:34:36.474Z"
   },
   {
    "duration": 13,
    "start_time": "2022-05-02T14:34:36.609Z"
   },
   {
    "duration": 20,
    "start_time": "2022-05-02T14:34:36.624Z"
   },
   {
    "duration": 17,
    "start_time": "2022-05-02T14:34:36.646Z"
   },
   {
    "duration": 19,
    "start_time": "2022-05-02T14:34:36.665Z"
   },
   {
    "duration": 3314,
    "start_time": "2022-05-02T14:34:36.686Z"
   },
   {
    "duration": 7,
    "start_time": "2022-05-02T14:34:40.002Z"
   },
   {
    "duration": 18,
    "start_time": "2022-05-02T14:34:40.017Z"
   },
   {
    "duration": 10,
    "start_time": "2022-05-02T14:34:40.037Z"
   },
   {
    "duration": 1132,
    "start_time": "2022-05-02T14:34:40.049Z"
   },
   {
    "duration": 14,
    "start_time": "2022-05-02T14:34:41.183Z"
   },
   {
    "duration": 10,
    "start_time": "2022-05-02T14:34:41.199Z"
   },
   {
    "duration": 33,
    "start_time": "2022-05-02T14:34:41.211Z"
   },
   {
    "duration": 14,
    "start_time": "2022-05-02T14:34:41.246Z"
   },
   {
    "duration": 15,
    "start_time": "2022-05-02T14:34:41.262Z"
   },
   {
    "duration": 3,
    "start_time": "2022-05-02T14:34:41.279Z"
   },
   {
    "duration": 56,
    "start_time": "2022-05-02T14:34:41.284Z"
   },
   {
    "duration": 27,
    "start_time": "2022-05-02T14:34:41.342Z"
   },
   {
    "duration": 27,
    "start_time": "2022-05-02T14:34:41.370Z"
   },
   {
    "duration": 53,
    "start_time": "2022-05-02T14:34:41.399Z"
   },
   {
    "duration": 27,
    "start_time": "2022-05-02T14:34:41.454Z"
   },
   {
    "duration": 14,
    "start_time": "2022-05-02T14:34:41.483Z"
   },
   {
    "duration": 3251,
    "start_time": "2022-05-02T14:34:41.499Z"
   },
   {
    "duration": 3021,
    "start_time": "2022-05-02T14:34:44.752Z"
   },
   {
    "duration": 66,
    "start_time": "2022-05-02T14:34:47.774Z"
   },
   {
    "duration": 20,
    "start_time": "2022-05-02T14:34:47.841Z"
   },
   {
    "duration": 10,
    "start_time": "2022-05-02T14:34:47.863Z"
   },
   {
    "duration": 59,
    "start_time": "2022-05-02T14:34:47.875Z"
   },
   {
    "duration": 6,
    "start_time": "2022-05-02T14:34:47.936Z"
   },
   {
    "duration": 7,
    "start_time": "2022-05-02T14:34:47.945Z"
   },
   {
    "duration": 9,
    "start_time": "2022-05-02T14:34:47.954Z"
   },
   {
    "duration": 7,
    "start_time": "2022-05-02T14:34:47.965Z"
   },
   {
    "duration": 174,
    "start_time": "2022-05-02T14:34:47.974Z"
   },
   {
    "duration": 2032,
    "start_time": "2022-05-02T14:34:48.150Z"
   },
   {
    "duration": 201,
    "start_time": "2022-05-02T14:34:50.184Z"
   },
   {
    "duration": 287,
    "start_time": "2022-05-02T14:34:50.387Z"
   },
   {
    "duration": 190,
    "start_time": "2022-05-02T14:34:50.676Z"
   },
   {
    "duration": 49,
    "start_time": "2022-05-02T14:34:50.869Z"
   },
   {
    "duration": 150,
    "start_time": "2022-05-02T14:46:19.993Z"
   },
   {
    "duration": 1193,
    "start_time": "2022-05-04T05:46:27.790Z"
   },
   {
    "duration": 510,
    "start_time": "2022-05-04T05:46:28.985Z"
   },
   {
    "duration": 2,
    "start_time": "2022-05-04T05:46:29.497Z"
   },
   {
    "duration": 42,
    "start_time": "2022-05-04T05:46:29.502Z"
   },
   {
    "duration": 105,
    "start_time": "2022-05-04T05:46:29.546Z"
   },
   {
    "duration": 147,
    "start_time": "2022-05-04T05:46:29.653Z"
   },
   {
    "duration": 42,
    "start_time": "2022-05-04T05:46:29.801Z"
   },
   {
    "duration": 1786,
    "start_time": "2022-05-04T05:46:29.844Z"
   },
   {
    "duration": 5,
    "start_time": "2022-05-04T05:46:31.632Z"
   },
   {
    "duration": 24,
    "start_time": "2022-05-04T05:46:31.640Z"
   },
   {
    "duration": 435,
    "start_time": "2022-05-04T05:46:31.665Z"
   },
   {
    "duration": 23,
    "start_time": "2022-05-04T05:46:32.101Z"
   },
   {
    "duration": 277,
    "start_time": "2022-05-04T05:46:32.133Z"
   },
   {
    "duration": 23,
    "start_time": "2022-05-04T05:46:32.411Z"
   },
   {
    "duration": 74,
    "start_time": "2022-05-04T05:46:32.436Z"
   },
   {
    "duration": 5,
    "start_time": "2022-05-04T05:46:32.512Z"
   },
   {
    "duration": 4,
    "start_time": "2022-05-04T05:46:32.534Z"
   },
   {
    "duration": 4,
    "start_time": "2022-05-04T05:46:32.540Z"
   },
   {
    "duration": 7,
    "start_time": "2022-05-04T05:46:32.546Z"
   },
   {
    "duration": 5,
    "start_time": "2022-05-04T05:46:32.555Z"
   },
   {
    "duration": 217,
    "start_time": "2022-05-04T05:46:32.562Z"
   },
   {
    "duration": 15,
    "start_time": "2022-05-04T05:46:32.781Z"
   },
   {
    "duration": 94,
    "start_time": "2022-05-04T05:46:32.798Z"
   },
   {
    "duration": 51,
    "start_time": "2022-05-04T05:46:32.894Z"
   },
   {
    "duration": 35,
    "start_time": "2022-05-04T05:46:32.947Z"
   },
   {
    "duration": 96,
    "start_time": "2022-05-04T05:46:32.984Z"
   },
   {
    "duration": 7,
    "start_time": "2022-05-04T05:46:33.082Z"
   },
   {
    "duration": 110,
    "start_time": "2022-05-04T05:46:33.093Z"
   },
   {
    "duration": 261,
    "start_time": "2022-05-04T05:46:33.205Z"
   },
   {
    "duration": 30,
    "start_time": "2022-05-04T05:46:33.468Z"
   },
   {
    "duration": 10,
    "start_time": "2022-05-04T05:46:33.500Z"
   },
   {
    "duration": 3,
    "start_time": "2022-05-04T05:46:33.512Z"
   },
   {
    "duration": 32,
    "start_time": "2022-05-04T05:46:33.517Z"
   },
   {
    "duration": 131,
    "start_time": "2022-05-04T05:46:33.550Z"
   },
   {
    "duration": 11,
    "start_time": "2022-05-04T05:46:33.683Z"
   },
   {
    "duration": 17,
    "start_time": "2022-05-04T05:46:33.696Z"
   },
   {
    "duration": 27,
    "start_time": "2022-05-04T05:46:33.714Z"
   },
   {
    "duration": 14,
    "start_time": "2022-05-04T05:46:33.743Z"
   },
   {
    "duration": 2999,
    "start_time": "2022-05-04T05:46:33.759Z"
   },
   {
    "duration": 6,
    "start_time": "2022-05-04T05:46:36.760Z"
   },
   {
    "duration": 8,
    "start_time": "2022-05-04T05:46:36.768Z"
   },
   {
    "duration": 10,
    "start_time": "2022-05-04T05:46:36.778Z"
   },
   {
    "duration": 1055,
    "start_time": "2022-05-04T05:46:36.789Z"
   },
   {
    "duration": 13,
    "start_time": "2022-05-04T05:46:37.846Z"
   },
   {
    "duration": 12,
    "start_time": "2022-05-04T05:46:37.861Z"
   },
   {
    "duration": 16,
    "start_time": "2022-05-04T05:46:37.874Z"
   },
   {
    "duration": 15,
    "start_time": "2022-05-04T05:46:37.892Z"
   },
   {
    "duration": 31,
    "start_time": "2022-05-04T05:46:37.909Z"
   },
   {
    "duration": 3,
    "start_time": "2022-05-04T05:46:37.942Z"
   },
   {
    "duration": 28,
    "start_time": "2022-05-04T05:46:37.947Z"
   },
   {
    "duration": 24,
    "start_time": "2022-05-04T05:46:37.977Z"
   },
   {
    "duration": 50,
    "start_time": "2022-05-04T05:46:38.002Z"
   },
   {
    "duration": 26,
    "start_time": "2022-05-04T05:46:38.054Z"
   },
   {
    "duration": 25,
    "start_time": "2022-05-04T05:46:38.082Z"
   },
   {
    "duration": 37,
    "start_time": "2022-05-04T05:46:38.109Z"
   },
   {
    "duration": 3068,
    "start_time": "2022-05-04T05:46:38.147Z"
   },
   {
    "duration": 1991,
    "start_time": "2022-05-04T05:46:41.217Z"
   },
   {
    "duration": 16,
    "start_time": "2022-05-04T05:46:43.209Z"
   },
   {
    "duration": 13,
    "start_time": "2022-05-04T05:46:43.234Z"
   },
   {
    "duration": 7,
    "start_time": "2022-05-04T05:46:43.248Z"
   },
   {
    "duration": 7,
    "start_time": "2022-05-04T05:46:43.257Z"
   },
   {
    "duration": 8,
    "start_time": "2022-05-04T05:46:43.266Z"
   },
   {
    "duration": 6,
    "start_time": "2022-05-04T05:46:43.275Z"
   },
   {
    "duration": 7,
    "start_time": "2022-05-04T05:46:43.282Z"
   },
   {
    "duration": 3,
    "start_time": "2022-05-04T05:46:43.291Z"
   },
   {
    "duration": 91,
    "start_time": "2022-05-04T05:46:43.295Z"
   },
   {
    "duration": 1516,
    "start_time": "2022-05-04T05:46:43.387Z"
   },
   {
    "duration": 189,
    "start_time": "2022-05-04T05:46:44.904Z"
   },
   {
    "duration": 185,
    "start_time": "2022-05-04T05:46:45.095Z"
   },
   {
    "duration": 178,
    "start_time": "2022-05-04T05:46:45.282Z"
   },
   {
    "duration": 49,
    "start_time": "2022-05-04T05:46:45.462Z"
   },
   {
    "duration": 1151,
    "start_time": "2022-05-04T05:48:37.434Z"
   },
   {
    "duration": 511,
    "start_time": "2022-05-04T05:48:38.587Z"
   },
   {
    "duration": 2,
    "start_time": "2022-05-04T05:48:39.100Z"
   },
   {
    "duration": 41,
    "start_time": "2022-05-04T05:48:39.104Z"
   },
   {
    "duration": 105,
    "start_time": "2022-05-04T05:48:39.147Z"
   },
   {
    "duration": 140,
    "start_time": "2022-05-04T05:48:39.253Z"
   },
   {
    "duration": 15,
    "start_time": "2022-05-04T05:48:39.394Z"
   },
   {
    "duration": 1795,
    "start_time": "2022-05-04T05:48:39.433Z"
   },
   {
    "duration": 5,
    "start_time": "2022-05-04T05:48:41.229Z"
   },
   {
    "duration": 20,
    "start_time": "2022-05-04T05:48:41.235Z"
   },
   {
    "duration": 420,
    "start_time": "2022-05-04T05:48:41.257Z"
   },
   {
    "duration": 23,
    "start_time": "2022-05-04T05:48:41.678Z"
   },
   {
    "duration": 271,
    "start_time": "2022-05-04T05:48:41.703Z"
   },
   {
    "duration": 17,
    "start_time": "2022-05-04T05:48:41.977Z"
   },
   {
    "duration": 97,
    "start_time": "2022-05-04T05:48:41.995Z"
   },
   {
    "duration": 5,
    "start_time": "2022-05-04T05:48:42.093Z"
   },
   {
    "duration": 9,
    "start_time": "2022-05-04T05:48:42.099Z"
   },
   {
    "duration": 6,
    "start_time": "2022-05-04T05:48:42.109Z"
   },
   {
    "duration": 17,
    "start_time": "2022-05-04T05:48:42.116Z"
   },
   {
    "duration": 6,
    "start_time": "2022-05-04T05:48:42.135Z"
   },
   {
    "duration": 194,
    "start_time": "2022-05-04T05:48:42.143Z"
   },
   {
    "duration": 15,
    "start_time": "2022-05-04T05:48:42.339Z"
   },
   {
    "duration": 96,
    "start_time": "2022-05-04T05:48:42.356Z"
   },
   {
    "duration": 39,
    "start_time": "2022-05-04T05:48:42.453Z"
   },
   {
    "duration": 58,
    "start_time": "2022-05-04T05:48:42.494Z"
   },
   {
    "duration": 49,
    "start_time": "2022-05-04T05:48:42.553Z"
   },
   {
    "duration": 7,
    "start_time": "2022-05-04T05:48:42.604Z"
   },
   {
    "duration": 100,
    "start_time": "2022-05-04T05:48:42.633Z"
   },
   {
    "duration": 263,
    "start_time": "2022-05-04T05:48:42.735Z"
   },
   {
    "duration": 40,
    "start_time": "2022-05-04T05:48:43.000Z"
   },
   {
    "duration": 13,
    "start_time": "2022-05-04T05:48:43.042Z"
   },
   {
    "duration": 10,
    "start_time": "2022-05-04T05:48:43.056Z"
   },
   {
    "duration": 22,
    "start_time": "2022-05-04T05:48:43.068Z"
   },
   {
    "duration": 134,
    "start_time": "2022-05-04T05:48:43.092Z"
   },
   {
    "duration": 12,
    "start_time": "2022-05-04T05:48:43.228Z"
   },
   {
    "duration": 13,
    "start_time": "2022-05-04T05:48:43.242Z"
   },
   {
    "duration": 13,
    "start_time": "2022-05-04T05:48:43.256Z"
   },
   {
    "duration": 14,
    "start_time": "2022-05-04T05:48:43.271Z"
   },
   {
    "duration": 3024,
    "start_time": "2022-05-04T05:48:43.287Z"
   },
   {
    "duration": 7,
    "start_time": "2022-05-04T05:48:46.312Z"
   },
   {
    "duration": 12,
    "start_time": "2022-05-04T05:48:46.323Z"
   },
   {
    "duration": 8,
    "start_time": "2022-05-04T05:48:46.337Z"
   },
   {
    "duration": 1044,
    "start_time": "2022-05-04T05:48:46.346Z"
   },
   {
    "duration": 14,
    "start_time": "2022-05-04T05:48:47.392Z"
   },
   {
    "duration": 25,
    "start_time": "2022-05-04T05:48:47.408Z"
   },
   {
    "duration": 14,
    "start_time": "2022-05-04T05:48:47.435Z"
   },
   {
    "duration": 15,
    "start_time": "2022-05-04T05:48:47.451Z"
   },
   {
    "duration": 14,
    "start_time": "2022-05-04T05:48:47.467Z"
   },
   {
    "duration": 4,
    "start_time": "2022-05-04T05:48:47.483Z"
   },
   {
    "duration": 58,
    "start_time": "2022-05-04T05:48:47.489Z"
   },
   {
    "duration": 25,
    "start_time": "2022-05-04T05:48:47.548Z"
   },
   {
    "duration": 25,
    "start_time": "2022-05-04T05:48:47.574Z"
   },
   {
    "duration": 49,
    "start_time": "2022-05-04T05:48:47.600Z"
   },
   {
    "duration": 23,
    "start_time": "2022-05-04T05:48:47.651Z"
   },
   {
    "duration": 15,
    "start_time": "2022-05-04T05:48:47.675Z"
   },
   {
    "duration": 3077,
    "start_time": "2022-05-04T05:48:47.691Z"
   },
   {
    "duration": 2044,
    "start_time": "2022-05-04T05:48:50.769Z"
   },
   {
    "duration": 25,
    "start_time": "2022-05-04T05:48:52.815Z"
   },
   {
    "duration": 23,
    "start_time": "2022-05-04T05:48:52.842Z"
   },
   {
    "duration": 10,
    "start_time": "2022-05-04T05:48:52.867Z"
   },
   {
    "duration": 11,
    "start_time": "2022-05-04T05:48:52.879Z"
   },
   {
    "duration": 12,
    "start_time": "2022-05-04T05:48:52.892Z"
   },
   {
    "duration": 7,
    "start_time": "2022-05-04T05:48:52.905Z"
   },
   {
    "duration": 22,
    "start_time": "2022-05-04T05:48:52.914Z"
   },
   {
    "duration": 7,
    "start_time": "2022-05-04T05:48:52.937Z"
   },
   {
    "duration": 60,
    "start_time": "2022-05-04T05:48:52.946Z"
   },
   {
    "duration": 1388,
    "start_time": "2022-05-04T05:48:53.008Z"
   },
   {
    "duration": 260,
    "start_time": "2022-05-04T05:48:54.398Z"
   },
   {
    "duration": 190,
    "start_time": "2022-05-04T05:48:54.660Z"
   },
   {
    "duration": 181,
    "start_time": "2022-05-04T05:48:54.852Z"
   },
   {
    "duration": 46,
    "start_time": "2022-05-04T05:48:55.035Z"
   },
   {
    "duration": 14,
    "start_time": "2022-05-04T05:50:48.719Z"
   },
   {
    "duration": 12,
    "start_time": "2022-05-04T05:51:46.690Z"
   },
   {
    "duration": 1141,
    "start_time": "2022-05-04T06:02:18.667Z"
   },
   {
    "duration": 542,
    "start_time": "2022-05-04T06:02:19.810Z"
   },
   {
    "duration": 3,
    "start_time": "2022-05-04T06:02:20.353Z"
   },
   {
    "duration": 48,
    "start_time": "2022-05-04T06:02:20.357Z"
   },
   {
    "duration": 100,
    "start_time": "2022-05-04T06:02:20.407Z"
   },
   {
    "duration": 172,
    "start_time": "2022-05-04T06:02:20.509Z"
   },
   {
    "duration": 18,
    "start_time": "2022-05-04T06:02:20.683Z"
   },
   {
    "duration": 1838,
    "start_time": "2022-05-04T06:02:20.703Z"
   },
   {
    "duration": 6,
    "start_time": "2022-05-04T06:02:22.544Z"
   },
   {
    "duration": 26,
    "start_time": "2022-05-04T06:02:22.552Z"
   },
   {
    "duration": 460,
    "start_time": "2022-05-04T06:02:22.580Z"
   },
   {
    "duration": 25,
    "start_time": "2022-05-04T06:02:23.042Z"
   },
   {
    "duration": 281,
    "start_time": "2022-05-04T06:02:23.069Z"
   },
   {
    "duration": 17,
    "start_time": "2022-05-04T06:02:23.355Z"
   },
   {
    "duration": 97,
    "start_time": "2022-05-04T06:02:23.374Z"
   },
   {
    "duration": 5,
    "start_time": "2022-05-04T06:02:23.473Z"
   },
   {
    "duration": 10,
    "start_time": "2022-05-04T06:02:23.479Z"
   },
   {
    "duration": 7,
    "start_time": "2022-05-04T06:02:23.491Z"
   },
   {
    "duration": 9,
    "start_time": "2022-05-04T06:02:23.500Z"
   },
   {
    "duration": 14,
    "start_time": "2022-05-04T06:02:23.511Z"
   },
   {
    "duration": 209,
    "start_time": "2022-05-04T06:02:23.527Z"
   },
   {
    "duration": 15,
    "start_time": "2022-05-04T06:02:23.737Z"
   },
   {
    "duration": 102,
    "start_time": "2022-05-04T06:02:23.753Z"
   },
   {
    "duration": 42,
    "start_time": "2022-05-04T06:02:23.857Z"
   },
   {
    "duration": 61,
    "start_time": "2022-05-04T06:02:23.901Z"
   },
   {
    "duration": 52,
    "start_time": "2022-05-04T06:02:23.964Z"
   },
   {
    "duration": 20,
    "start_time": "2022-05-04T06:02:24.018Z"
   },
   {
    "duration": 114,
    "start_time": "2022-05-04T06:02:24.040Z"
   },
   {
    "duration": 288,
    "start_time": "2022-05-04T06:02:24.157Z"
   },
   {
    "duration": 34,
    "start_time": "2022-05-04T06:02:24.447Z"
   },
   {
    "duration": 12,
    "start_time": "2022-05-04T06:02:24.483Z"
   },
   {
    "duration": 6,
    "start_time": "2022-05-04T06:02:24.497Z"
   },
   {
    "duration": 42,
    "start_time": "2022-05-04T06:02:24.505Z"
   },
   {
    "duration": 132,
    "start_time": "2022-05-04T06:02:24.549Z"
   },
   {
    "duration": 12,
    "start_time": "2022-05-04T06:02:24.683Z"
   },
   {
    "duration": 15,
    "start_time": "2022-05-04T06:02:24.697Z"
   },
   {
    "duration": 26,
    "start_time": "2022-05-04T06:02:24.714Z"
   },
   {
    "duration": 16,
    "start_time": "2022-05-04T06:02:24.741Z"
   },
   {
    "duration": 3418,
    "start_time": "2022-05-04T06:02:24.759Z"
   },
   {
    "duration": 7,
    "start_time": "2022-05-04T06:02:28.179Z"
   },
   {
    "duration": 6,
    "start_time": "2022-05-04T06:02:28.191Z"
   },
   {
    "duration": 14,
    "start_time": "2022-05-04T06:02:28.199Z"
   },
   {
    "duration": 1129,
    "start_time": "2022-05-04T06:02:28.215Z"
   },
   {
    "duration": 15,
    "start_time": "2022-05-04T06:02:29.346Z"
   },
   {
    "duration": 13,
    "start_time": "2022-05-04T06:02:29.363Z"
   },
   {
    "duration": 21,
    "start_time": "2022-05-04T06:02:29.378Z"
   },
   {
    "duration": 36,
    "start_time": "2022-05-04T06:02:29.400Z"
   },
   {
    "duration": 15,
    "start_time": "2022-05-04T06:02:29.438Z"
   },
   {
    "duration": 8,
    "start_time": "2022-05-04T06:02:29.455Z"
   },
   {
    "duration": 31,
    "start_time": "2022-05-04T06:02:29.465Z"
   },
   {
    "duration": 51,
    "start_time": "2022-05-04T06:02:29.498Z"
   },
   {
    "duration": 28,
    "start_time": "2022-05-04T06:02:29.551Z"
   },
   {
    "duration": 54,
    "start_time": "2022-05-04T06:02:29.581Z"
   },
   {
    "duration": 28,
    "start_time": "2022-05-04T06:02:29.636Z"
   },
   {
    "duration": 15,
    "start_time": "2022-05-04T06:02:29.666Z"
   },
   {
    "duration": 3316,
    "start_time": "2022-05-04T06:02:29.683Z"
   },
   {
    "duration": 2177,
    "start_time": "2022-05-04T06:02:33.001Z"
   },
   {
    "duration": 16,
    "start_time": "2022-05-04T06:02:35.180Z"
   },
   {
    "duration": 14,
    "start_time": "2022-05-04T06:02:35.197Z"
   },
   {
    "duration": 25,
    "start_time": "2022-05-04T06:02:35.213Z"
   },
   {
    "duration": 11,
    "start_time": "2022-05-04T06:02:35.240Z"
   },
   {
    "duration": 22,
    "start_time": "2022-05-04T06:02:35.252Z"
   },
   {
    "duration": 8,
    "start_time": "2022-05-04T06:02:35.276Z"
   },
   {
    "duration": 7,
    "start_time": "2022-05-04T06:02:35.285Z"
   },
   {
    "duration": 5,
    "start_time": "2022-05-04T06:02:35.293Z"
   },
   {
    "duration": 70,
    "start_time": "2022-05-04T06:02:35.300Z"
   },
   {
    "duration": 1351,
    "start_time": "2022-05-04T06:02:35.372Z"
   },
   {
    "duration": 277,
    "start_time": "2022-05-04T06:02:36.725Z"
   },
   {
    "duration": 195,
    "start_time": "2022-05-04T06:02:37.003Z"
   },
   {
    "duration": 186,
    "start_time": "2022-05-04T06:02:37.200Z"
   },
   {
    "duration": 46,
    "start_time": "2022-05-04T06:02:37.387Z"
   },
   {
    "duration": 2287,
    "start_time": "2022-05-04T10:25:51.425Z"
   },
   {
    "duration": 877,
    "start_time": "2022-05-04T10:25:53.716Z"
   },
   {
    "duration": 4,
    "start_time": "2022-05-04T10:25:54.595Z"
   },
   {
    "duration": 84,
    "start_time": "2022-05-04T10:25:54.602Z"
   },
   {
    "duration": 253,
    "start_time": "2022-05-04T10:25:54.688Z"
   },
   {
    "duration": 257,
    "start_time": "2022-05-04T10:25:54.944Z"
   },
   {
    "duration": 39,
    "start_time": "2022-05-04T10:25:55.203Z"
   },
   {
    "duration": 2413,
    "start_time": "2022-05-04T10:25:55.245Z"
   },
   {
    "duration": 8,
    "start_time": "2022-05-04T10:25:57.661Z"
   },
   {
    "duration": 535,
    "start_time": "2022-05-04T10:25:57.676Z"
   },
   {
    "duration": 31,
    "start_time": "2022-05-04T10:25:58.213Z"
   },
   {
    "duration": 156,
    "start_time": "2022-05-04T10:25:58.247Z"
   },
   {
    "duration": 6,
    "start_time": "2022-05-04T10:25:58.405Z"
   },
   {
    "duration": 14,
    "start_time": "2022-05-04T10:25:58.413Z"
   },
   {
    "duration": 5,
    "start_time": "2022-05-04T10:25:58.429Z"
   },
   {
    "duration": 12,
    "start_time": "2022-05-04T10:25:58.437Z"
   },
   {
    "duration": 10,
    "start_time": "2022-05-04T10:25:58.451Z"
   },
   {
    "duration": 298,
    "start_time": "2022-05-04T10:25:58.464Z"
   },
   {
    "duration": 19,
    "start_time": "2022-05-04T10:25:58.764Z"
   },
   {
    "duration": 144,
    "start_time": "2022-05-04T10:25:58.790Z"
   },
   {
    "duration": 88,
    "start_time": "2022-05-04T10:25:58.936Z"
   },
   {
    "duration": 103,
    "start_time": "2022-05-04T10:25:59.028Z"
   },
   {
    "duration": 108,
    "start_time": "2022-05-04T10:25:59.134Z"
   },
   {
    "duration": 13,
    "start_time": "2022-05-04T10:25:59.245Z"
   },
   {
    "duration": 196,
    "start_time": "2022-05-04T10:25:59.261Z"
   },
   {
    "duration": 531,
    "start_time": "2022-05-04T10:25:59.460Z"
   },
   {
    "duration": 79,
    "start_time": "2022-05-04T10:25:59.994Z"
   },
   {
    "duration": 17,
    "start_time": "2022-05-04T10:26:00.078Z"
   },
   {
    "duration": 28,
    "start_time": "2022-05-04T10:26:00.098Z"
   },
   {
    "duration": 30,
    "start_time": "2022-05-04T10:26:00.128Z"
   },
   {
    "duration": 110,
    "start_time": "2022-05-04T10:26:00.161Z"
   },
   {
    "duration": 730,
    "start_time": "2022-05-04T10:30:09.714Z"
   },
   {
    "duration": 835,
    "start_time": "2022-05-04T10:30:25.618Z"
   },
   {
    "duration": 694,
    "start_time": "2022-05-04T10:30:56.996Z"
   },
   {
    "duration": 623,
    "start_time": "2022-05-04T10:32:22.247Z"
   },
   {
    "duration": 733,
    "start_time": "2022-05-04T10:32:33.819Z"
   },
   {
    "duration": 591,
    "start_time": "2022-05-04T10:33:50.717Z"
   },
   {
    "duration": 624,
    "start_time": "2022-05-04T10:34:27.830Z"
   },
   {
    "duration": 596,
    "start_time": "2022-05-04T10:43:16.053Z"
   },
   {
    "duration": 1528,
    "start_time": "2022-05-04T10:47:19.367Z"
   },
   {
    "duration": 617,
    "start_time": "2022-05-04T10:47:20.898Z"
   },
   {
    "duration": 4,
    "start_time": "2022-05-04T10:47:21.517Z"
   },
   {
    "duration": 63,
    "start_time": "2022-05-04T10:47:21.524Z"
   },
   {
    "duration": 168,
    "start_time": "2022-05-04T10:47:21.589Z"
   },
   {
    "duration": 210,
    "start_time": "2022-05-04T10:47:21.759Z"
   },
   {
    "duration": 23,
    "start_time": "2022-05-04T10:47:21.971Z"
   },
   {
    "duration": 2554,
    "start_time": "2022-05-04T10:47:21.996Z"
   },
   {
    "duration": 8,
    "start_time": "2022-05-04T10:47:24.552Z"
   },
   {
    "duration": 432,
    "start_time": "2022-05-04T10:47:24.566Z"
   },
   {
    "duration": 40,
    "start_time": "2022-05-04T10:47:25.001Z"
   },
   {
    "duration": 216,
    "start_time": "2022-05-04T10:47:25.045Z"
   },
   {
    "duration": 8,
    "start_time": "2022-05-04T10:47:25.264Z"
   },
   {
    "duration": 12,
    "start_time": "2022-05-04T10:47:25.275Z"
   },
   {
    "duration": 20,
    "start_time": "2022-05-04T10:47:25.290Z"
   },
   {
    "duration": 16,
    "start_time": "2022-05-04T10:47:25.312Z"
   },
   {
    "duration": 13,
    "start_time": "2022-05-04T10:47:25.331Z"
   },
   {
    "duration": 318,
    "start_time": "2022-05-04T10:47:25.346Z"
   },
   {
    "duration": 27,
    "start_time": "2022-05-04T10:47:25.666Z"
   },
   {
    "duration": 154,
    "start_time": "2022-05-04T10:47:25.695Z"
   },
   {
    "duration": 83,
    "start_time": "2022-05-04T10:47:25.852Z"
   },
   {
    "duration": 61,
    "start_time": "2022-05-04T10:47:25.937Z"
   },
   {
    "duration": 92,
    "start_time": "2022-05-04T10:47:26.001Z"
   },
   {
    "duration": 31,
    "start_time": "2022-05-04T10:47:26.095Z"
   },
   {
    "duration": 149,
    "start_time": "2022-05-04T10:47:26.129Z"
   },
   {
    "duration": 401,
    "start_time": "2022-05-04T10:47:26.281Z"
   },
   {
    "duration": 54,
    "start_time": "2022-05-04T10:47:26.684Z"
   },
   {
    "duration": 17,
    "start_time": "2022-05-04T10:47:26.746Z"
   },
   {
    "duration": 280,
    "start_time": "2022-05-04T10:47:26.766Z"
   },
   {
    "duration": 0,
    "start_time": "2022-05-04T10:47:27.048Z"
   },
   {
    "duration": 0,
    "start_time": "2022-05-04T10:47:27.050Z"
   },
   {
    "duration": 0,
    "start_time": "2022-05-04T10:47:27.051Z"
   },
   {
    "duration": 0,
    "start_time": "2022-05-04T10:47:27.053Z"
   },
   {
    "duration": 0,
    "start_time": "2022-05-04T10:47:27.054Z"
   },
   {
    "duration": 0,
    "start_time": "2022-05-04T10:47:27.055Z"
   },
   {
    "duration": 0,
    "start_time": "2022-05-04T10:47:27.056Z"
   },
   {
    "duration": 0,
    "start_time": "2022-05-04T10:47:27.057Z"
   },
   {
    "duration": 0,
    "start_time": "2022-05-04T10:47:27.059Z"
   },
   {
    "duration": 0,
    "start_time": "2022-05-04T10:47:27.060Z"
   },
   {
    "duration": 0,
    "start_time": "2022-05-04T10:47:27.061Z"
   },
   {
    "duration": 0,
    "start_time": "2022-05-04T10:47:27.063Z"
   },
   {
    "duration": 0,
    "start_time": "2022-05-04T10:47:27.064Z"
   },
   {
    "duration": 0,
    "start_time": "2022-05-04T10:47:27.066Z"
   },
   {
    "duration": 0,
    "start_time": "2022-05-04T10:47:27.068Z"
   },
   {
    "duration": 0,
    "start_time": "2022-05-04T10:47:27.069Z"
   },
   {
    "duration": 0,
    "start_time": "2022-05-04T10:47:27.070Z"
   },
   {
    "duration": 0,
    "start_time": "2022-05-04T10:47:27.072Z"
   },
   {
    "duration": 0,
    "start_time": "2022-05-04T10:47:27.074Z"
   },
   {
    "duration": 0,
    "start_time": "2022-05-04T10:47:27.075Z"
   },
   {
    "duration": 0,
    "start_time": "2022-05-04T10:47:27.076Z"
   },
   {
    "duration": 0,
    "start_time": "2022-05-04T10:47:27.125Z"
   },
   {
    "duration": 0,
    "start_time": "2022-05-04T10:47:27.127Z"
   },
   {
    "duration": 0,
    "start_time": "2022-05-04T10:47:27.128Z"
   },
   {
    "duration": 0,
    "start_time": "2022-05-04T10:47:27.131Z"
   },
   {
    "duration": 0,
    "start_time": "2022-05-04T10:47:27.133Z"
   },
   {
    "duration": 0,
    "start_time": "2022-05-04T10:47:27.136Z"
   },
   {
    "duration": 0,
    "start_time": "2022-05-04T10:47:27.138Z"
   },
   {
    "duration": 0,
    "start_time": "2022-05-04T10:47:27.140Z"
   },
   {
    "duration": 1,
    "start_time": "2022-05-04T10:47:27.142Z"
   },
   {
    "duration": 0,
    "start_time": "2022-05-04T10:47:27.145Z"
   },
   {
    "duration": 0,
    "start_time": "2022-05-04T10:47:27.147Z"
   },
   {
    "duration": 0,
    "start_time": "2022-05-04T10:47:27.150Z"
   },
   {
    "duration": 0,
    "start_time": "2022-05-04T10:47:27.152Z"
   },
   {
    "duration": 0,
    "start_time": "2022-05-04T10:47:27.154Z"
   },
   {
    "duration": 0,
    "start_time": "2022-05-04T10:47:27.157Z"
   },
   {
    "duration": 0,
    "start_time": "2022-05-04T10:47:27.158Z"
   },
   {
    "duration": 0,
    "start_time": "2022-05-04T10:47:27.159Z"
   },
   {
    "duration": 0,
    "start_time": "2022-05-04T10:47:27.225Z"
   },
   {
    "duration": 0,
    "start_time": "2022-05-04T10:47:27.226Z"
   },
   {
    "duration": 12,
    "start_time": "2022-05-04T10:47:55.657Z"
   },
   {
    "duration": 5,
    "start_time": "2022-05-04T10:47:55.717Z"
   },
   {
    "duration": 1356,
    "start_time": "2022-05-04T10:48:18.990Z"
   },
   {
    "duration": 7,
    "start_time": "2022-05-04T10:48:20.349Z"
   },
   {
    "duration": 775,
    "start_time": "2022-05-04T10:58:27.809Z"
   },
   {
    "duration": 616,
    "start_time": "2022-05-04T10:58:48.077Z"
   },
   {
    "duration": 0,
    "start_time": "2022-05-04T10:58:48.695Z"
   },
   {
    "duration": 5,
    "start_time": "2022-05-04T12:06:07.699Z"
   },
   {
    "duration": 910,
    "start_time": "2022-05-04T12:06:07.708Z"
   },
   {
    "duration": 4,
    "start_time": "2022-05-04T12:06:08.621Z"
   },
   {
    "duration": 103,
    "start_time": "2022-05-04T12:06:08.627Z"
   },
   {
    "duration": 238,
    "start_time": "2022-05-04T12:06:08.734Z"
   },
   {
    "duration": 221,
    "start_time": "2022-05-04T12:06:08.975Z"
   },
   {
    "duration": 39,
    "start_time": "2022-05-04T12:06:09.198Z"
   },
   {
    "duration": 2101,
    "start_time": "2022-05-04T12:06:09.240Z"
   },
   {
    "duration": 9,
    "start_time": "2022-05-04T12:06:11.344Z"
   },
   {
    "duration": 434,
    "start_time": "2022-05-04T12:06:11.355Z"
   },
   {
    "duration": 46,
    "start_time": "2022-05-04T12:06:11.796Z"
   },
   {
    "duration": 141,
    "start_time": "2022-05-04T12:06:11.845Z"
   },
   {
    "duration": 6,
    "start_time": "2022-05-04T12:06:11.988Z"
   },
   {
    "duration": 14,
    "start_time": "2022-05-04T12:06:11.997Z"
   },
   {
    "duration": 6,
    "start_time": "2022-05-04T12:06:12.025Z"
   },
   {
    "duration": 12,
    "start_time": "2022-05-04T12:06:12.034Z"
   },
   {
    "duration": 14,
    "start_time": "2022-05-04T12:06:12.048Z"
   },
   {
    "duration": 297,
    "start_time": "2022-05-04T12:06:12.064Z"
   },
   {
    "duration": 32,
    "start_time": "2022-05-04T12:06:12.364Z"
   },
   {
    "duration": 152,
    "start_time": "2022-05-04T12:06:12.399Z"
   },
   {
    "duration": 84,
    "start_time": "2022-05-04T12:06:12.553Z"
   },
   {
    "duration": 61,
    "start_time": "2022-05-04T12:06:12.641Z"
   },
   {
    "duration": 73,
    "start_time": "2022-05-04T12:06:12.725Z"
   },
   {
    "duration": 25,
    "start_time": "2022-05-04T12:06:12.800Z"
   },
   {
    "duration": 144,
    "start_time": "2022-05-04T12:06:12.830Z"
   },
   {
    "duration": 367,
    "start_time": "2022-05-04T12:06:12.977Z"
   },
   {
    "duration": 47,
    "start_time": "2022-05-04T12:06:13.347Z"
   },
   {
    "duration": 698,
    "start_time": "2022-05-04T12:06:13.396Z"
   },
   {
    "duration": 0,
    "start_time": "2022-05-04T12:06:14.098Z"
   },
   {
    "duration": 0,
    "start_time": "2022-05-04T12:06:14.099Z"
   },
   {
    "duration": 0,
    "start_time": "2022-05-04T12:06:14.101Z"
   },
   {
    "duration": 0,
    "start_time": "2022-05-04T12:06:14.102Z"
   },
   {
    "duration": 0,
    "start_time": "2022-05-04T12:06:14.104Z"
   },
   {
    "duration": 0,
    "start_time": "2022-05-04T12:06:14.106Z"
   },
   {
    "duration": 0,
    "start_time": "2022-05-04T12:06:14.107Z"
   },
   {
    "duration": 0,
    "start_time": "2022-05-04T12:06:14.108Z"
   },
   {
    "duration": 0,
    "start_time": "2022-05-04T12:06:14.111Z"
   },
   {
    "duration": 0,
    "start_time": "2022-05-04T12:06:14.112Z"
   },
   {
    "duration": 0,
    "start_time": "2022-05-04T12:06:14.113Z"
   },
   {
    "duration": 0,
    "start_time": "2022-05-04T12:06:14.115Z"
   },
   {
    "duration": 0,
    "start_time": "2022-05-04T12:06:14.117Z"
   },
   {
    "duration": 0,
    "start_time": "2022-05-04T12:06:14.119Z"
   },
   {
    "duration": 0,
    "start_time": "2022-05-04T12:06:14.120Z"
   },
   {
    "duration": 0,
    "start_time": "2022-05-04T12:06:14.122Z"
   },
   {
    "duration": 0,
    "start_time": "2022-05-04T12:06:14.123Z"
   },
   {
    "duration": 0,
    "start_time": "2022-05-04T12:06:14.124Z"
   },
   {
    "duration": 0,
    "start_time": "2022-05-04T12:06:14.125Z"
   },
   {
    "duration": 0,
    "start_time": "2022-05-04T12:06:14.127Z"
   },
   {
    "duration": 0,
    "start_time": "2022-05-04T12:06:14.128Z"
   },
   {
    "duration": 0,
    "start_time": "2022-05-04T12:06:14.133Z"
   },
   {
    "duration": 0,
    "start_time": "2022-05-04T12:06:14.135Z"
   },
   {
    "duration": 0,
    "start_time": "2022-05-04T12:06:14.139Z"
   },
   {
    "duration": 0,
    "start_time": "2022-05-04T12:06:14.143Z"
   },
   {
    "duration": 0,
    "start_time": "2022-05-04T12:06:14.145Z"
   },
   {
    "duration": 0,
    "start_time": "2022-05-04T12:06:14.151Z"
   },
   {
    "duration": 0,
    "start_time": "2022-05-04T12:06:14.157Z"
   },
   {
    "duration": 0,
    "start_time": "2022-05-04T12:06:14.159Z"
   },
   {
    "duration": 0,
    "start_time": "2022-05-04T12:06:14.161Z"
   },
   {
    "duration": 1,
    "start_time": "2022-05-04T12:06:14.163Z"
   },
   {
    "duration": 0,
    "start_time": "2022-05-04T12:06:14.166Z"
   },
   {
    "duration": 0,
    "start_time": "2022-05-04T12:06:14.168Z"
   },
   {
    "duration": 0,
    "start_time": "2022-05-04T12:06:14.170Z"
   },
   {
    "duration": 0,
    "start_time": "2022-05-04T12:06:14.172Z"
   },
   {
    "duration": 0,
    "start_time": "2022-05-04T12:06:14.235Z"
   },
   {
    "duration": 0,
    "start_time": "2022-05-04T12:06:14.237Z"
   },
   {
    "duration": 0,
    "start_time": "2022-05-04T12:06:14.240Z"
   },
   {
    "duration": 0,
    "start_time": "2022-05-04T12:06:14.243Z"
   },
   {
    "duration": 0,
    "start_time": "2022-05-04T12:06:14.245Z"
   },
   {
    "duration": 0,
    "start_time": "2022-05-04T12:06:14.247Z"
   },
   {
    "duration": 1446,
    "start_time": "2022-05-04T12:45:01.065Z"
   },
   {
    "duration": 849,
    "start_time": "2022-05-04T12:45:02.514Z"
   },
   {
    "duration": 4,
    "start_time": "2022-05-04T12:45:03.365Z"
   },
   {
    "duration": 96,
    "start_time": "2022-05-04T12:45:03.371Z"
   },
   {
    "duration": 174,
    "start_time": "2022-05-04T12:45:03.470Z"
   },
   {
    "duration": 253,
    "start_time": "2022-05-04T12:45:03.647Z"
   },
   {
    "duration": 40,
    "start_time": "2022-05-04T12:45:03.903Z"
   },
   {
    "duration": 2786,
    "start_time": "2022-05-04T12:45:03.945Z"
   },
   {
    "duration": 8,
    "start_time": "2022-05-04T12:45:06.733Z"
   },
   {
    "duration": 463,
    "start_time": "2022-05-04T12:45:06.743Z"
   },
   {
    "duration": 31,
    "start_time": "2022-05-04T12:45:07.209Z"
   },
   {
    "duration": 147,
    "start_time": "2022-05-04T12:45:07.242Z"
   },
   {
    "duration": 11,
    "start_time": "2022-05-04T12:45:07.392Z"
   },
   {
    "duration": 25,
    "start_time": "2022-05-04T12:45:07.408Z"
   },
   {
    "duration": 5,
    "start_time": "2022-05-04T12:45:07.435Z"
   },
   {
    "duration": 7,
    "start_time": "2022-05-04T12:45:07.442Z"
   },
   {
    "duration": 11,
    "start_time": "2022-05-04T12:45:07.451Z"
   },
   {
    "duration": 311,
    "start_time": "2022-05-04T12:45:07.464Z"
   },
   {
    "duration": 24,
    "start_time": "2022-05-04T12:45:07.777Z"
   },
   {
    "duration": 144,
    "start_time": "2022-05-04T12:45:07.803Z"
   },
   {
    "duration": 81,
    "start_time": "2022-05-04T12:45:07.950Z"
   },
   {
    "duration": 69,
    "start_time": "2022-05-04T12:45:08.033Z"
   },
   {
    "duration": 69,
    "start_time": "2022-05-04T12:45:08.124Z"
   },
   {
    "duration": 9,
    "start_time": "2022-05-04T12:45:08.196Z"
   },
   {
    "duration": 143,
    "start_time": "2022-05-04T12:45:08.226Z"
   },
   {
    "duration": 393,
    "start_time": "2022-05-04T12:45:08.372Z"
   },
   {
    "duration": 56,
    "start_time": "2022-05-04T12:45:08.768Z"
   },
   {
    "duration": 1175,
    "start_time": "2022-05-04T12:45:08.827Z"
   },
   {
    "duration": 0,
    "start_time": "2022-05-04T12:45:10.007Z"
   },
   {
    "duration": 0,
    "start_time": "2022-05-04T12:45:10.009Z"
   },
   {
    "duration": 0,
    "start_time": "2022-05-04T12:45:10.010Z"
   },
   {
    "duration": 0,
    "start_time": "2022-05-04T12:45:10.012Z"
   },
   {
    "duration": 0,
    "start_time": "2022-05-04T12:45:10.013Z"
   },
   {
    "duration": 0,
    "start_time": "2022-05-04T12:45:10.015Z"
   },
   {
    "duration": 0,
    "start_time": "2022-05-04T12:45:10.017Z"
   },
   {
    "duration": 0,
    "start_time": "2022-05-04T12:45:10.019Z"
   },
   {
    "duration": 0,
    "start_time": "2022-05-04T12:45:10.020Z"
   },
   {
    "duration": 0,
    "start_time": "2022-05-04T12:45:10.022Z"
   },
   {
    "duration": 0,
    "start_time": "2022-05-04T12:45:10.023Z"
   },
   {
    "duration": 0,
    "start_time": "2022-05-04T12:45:10.024Z"
   },
   {
    "duration": 0,
    "start_time": "2022-05-04T12:45:10.026Z"
   },
   {
    "duration": 0,
    "start_time": "2022-05-04T12:45:10.027Z"
   },
   {
    "duration": 0,
    "start_time": "2022-05-04T12:45:10.029Z"
   },
   {
    "duration": 0,
    "start_time": "2022-05-04T12:45:10.031Z"
   },
   {
    "duration": 0,
    "start_time": "2022-05-04T12:45:10.033Z"
   },
   {
    "duration": 0,
    "start_time": "2022-05-04T12:45:10.034Z"
   },
   {
    "duration": 0,
    "start_time": "2022-05-04T12:45:10.036Z"
   },
   {
    "duration": 0,
    "start_time": "2022-05-04T12:45:10.037Z"
   },
   {
    "duration": 0,
    "start_time": "2022-05-04T12:45:10.040Z"
   },
   {
    "duration": 0,
    "start_time": "2022-05-04T12:45:10.041Z"
   },
   {
    "duration": 0,
    "start_time": "2022-05-04T12:45:10.043Z"
   },
   {
    "duration": 0,
    "start_time": "2022-05-04T12:45:10.044Z"
   },
   {
    "duration": 0,
    "start_time": "2022-05-04T12:45:10.046Z"
   },
   {
    "duration": 0,
    "start_time": "2022-05-04T12:45:10.047Z"
   },
   {
    "duration": 0,
    "start_time": "2022-05-04T12:45:10.048Z"
   },
   {
    "duration": 0,
    "start_time": "2022-05-04T12:45:10.049Z"
   },
   {
    "duration": 0,
    "start_time": "2022-05-04T12:45:10.050Z"
   },
   {
    "duration": 0,
    "start_time": "2022-05-04T12:45:10.052Z"
   },
   {
    "duration": 0,
    "start_time": "2022-05-04T12:45:10.054Z"
   },
   {
    "duration": 0,
    "start_time": "2022-05-04T12:45:10.056Z"
   },
   {
    "duration": 0,
    "start_time": "2022-05-04T12:45:10.057Z"
   },
   {
    "duration": 0,
    "start_time": "2022-05-04T12:45:10.060Z"
   },
   {
    "duration": 0,
    "start_time": "2022-05-04T12:45:10.061Z"
   },
   {
    "duration": 0,
    "start_time": "2022-05-04T12:45:10.063Z"
   },
   {
    "duration": 0,
    "start_time": "2022-05-04T12:45:10.124Z"
   },
   {
    "duration": 0,
    "start_time": "2022-05-04T12:45:10.126Z"
   },
   {
    "duration": 0,
    "start_time": "2022-05-04T12:45:10.128Z"
   },
   {
    "duration": 0,
    "start_time": "2022-05-04T12:45:10.130Z"
   },
   {
    "duration": 0,
    "start_time": "2022-05-04T12:45:10.131Z"
   },
   {
    "duration": 22,
    "start_time": "2022-05-04T12:52:34.011Z"
   },
   {
    "duration": 25,
    "start_time": "2022-05-04T12:53:35.289Z"
   },
   {
    "duration": 18,
    "start_time": "2022-05-04T12:53:56.800Z"
   },
   {
    "duration": 9,
    "start_time": "2022-05-04T13:03:24.476Z"
   },
   {
    "duration": 9,
    "start_time": "2022-05-04T13:03:35.167Z"
   },
   {
    "duration": 9,
    "start_time": "2022-05-04T13:03:43.400Z"
   },
   {
    "duration": 31,
    "start_time": "2022-05-04T13:05:04.080Z"
   },
   {
    "duration": 10,
    "start_time": "2022-05-04T13:05:53.686Z"
   },
   {
    "duration": 13,
    "start_time": "2022-05-04T13:05:53.740Z"
   },
   {
    "duration": 11,
    "start_time": "2022-05-04T13:06:49.525Z"
   },
   {
    "duration": 10,
    "start_time": "2022-05-04T13:06:57.259Z"
   },
   {
    "duration": 12,
    "start_time": "2022-05-04T13:06:58.828Z"
   },
   {
    "duration": 10,
    "start_time": "2022-05-04T13:07:12.336Z"
   },
   {
    "duration": 4,
    "start_time": "2022-05-04T13:08:58.322Z"
   },
   {
    "duration": 5,
    "start_time": "2022-05-04T13:09:05.143Z"
   },
   {
    "duration": 5,
    "start_time": "2022-05-04T13:09:30.320Z"
   },
   {
    "duration": 6,
    "start_time": "2022-05-04T13:09:32.039Z"
   },
   {
    "duration": 4,
    "start_time": "2022-05-04T13:10:04.189Z"
   },
   {
    "duration": 8,
    "start_time": "2022-05-04T13:10:05.914Z"
   },
   {
    "duration": 7,
    "start_time": "2022-05-04T13:10:18.002Z"
   },
   {
    "duration": 19,
    "start_time": "2022-05-04T13:11:06.284Z"
   },
   {
    "duration": 6,
    "start_time": "2022-05-04T13:11:06.336Z"
   },
   {
    "duration": 5,
    "start_time": "2022-05-04T13:11:11.197Z"
   },
   {
    "duration": 5,
    "start_time": "2022-05-04T13:11:12.999Z"
   },
   {
    "duration": 158,
    "start_time": "2022-05-04T13:12:07.840Z"
   },
   {
    "duration": 7,
    "start_time": "2022-05-04T13:12:20.974Z"
   },
   {
    "duration": 10,
    "start_time": "2022-05-04T13:12:23.213Z"
   },
   {
    "duration": 8,
    "start_time": "2022-05-04T13:12:32.192Z"
   },
   {
    "duration": 10,
    "start_time": "2022-05-04T13:13:21.211Z"
   },
   {
    "duration": 9,
    "start_time": "2022-05-04T13:13:22.664Z"
   },
   {
    "duration": 6,
    "start_time": "2022-05-04T13:13:30.095Z"
   },
   {
    "duration": 10,
    "start_time": "2022-05-04T13:13:31.474Z"
   },
   {
    "duration": 24,
    "start_time": "2022-05-04T13:14:47.197Z"
   },
   {
    "duration": 8,
    "start_time": "2022-05-04T13:18:48.531Z"
   },
   {
    "duration": 5,
    "start_time": "2022-05-04T13:19:26.853Z"
   },
   {
    "duration": 12,
    "start_time": "2022-05-04T13:21:30.302Z"
   },
   {
    "duration": 16,
    "start_time": "2022-05-04T13:22:33.699Z"
   },
   {
    "duration": 118,
    "start_time": "2022-05-04T13:22:55.121Z"
   },
   {
    "duration": 127,
    "start_time": "2022-05-04T15:56:32.669Z"
   },
   {
    "duration": 120,
    "start_time": "2022-05-04T15:56:40.982Z"
   },
   {
    "duration": 134,
    "start_time": "2022-05-04T15:56:54.910Z"
   },
   {
    "duration": 152,
    "start_time": "2022-05-04T15:56:59.113Z"
   },
   {
    "duration": 122,
    "start_time": "2022-05-04T15:57:50.748Z"
   },
   {
    "duration": 24,
    "start_time": "2022-05-04T15:59:05.743Z"
   },
   {
    "duration": 13,
    "start_time": "2022-05-04T15:59:18.492Z"
   },
   {
    "duration": 149,
    "start_time": "2022-05-04T15:59:18.566Z"
   },
   {
    "duration": 17,
    "start_time": "2022-05-04T15:59:47.178Z"
   },
   {
    "duration": 18,
    "start_time": "2022-05-04T15:59:52.394Z"
   },
   {
    "duration": 15,
    "start_time": "2022-05-04T16:00:09.043Z"
   },
   {
    "duration": 23,
    "start_time": "2022-05-04T16:00:18.583Z"
   },
   {
    "duration": 20,
    "start_time": "2022-05-04T16:02:12.741Z"
   },
   {
    "duration": 121,
    "start_time": "2022-05-04T16:02:12.809Z"
   },
   {
    "duration": 141,
    "start_time": "2022-05-04T16:03:18.292Z"
   },
   {
    "duration": 0,
    "start_time": "2022-05-04T16:03:18.435Z"
   },
   {
    "duration": 129,
    "start_time": "2022-05-04T16:03:38.307Z"
   },
   {
    "duration": 116,
    "start_time": "2022-05-04T16:03:51.514Z"
   },
   {
    "duration": 124,
    "start_time": "2022-05-04T16:05:22.190Z"
   },
   {
    "duration": 153,
    "start_time": "2022-05-04T16:06:34.480Z"
   },
   {
    "duration": 125,
    "start_time": "2022-05-04T16:07:12.214Z"
   },
   {
    "duration": 153,
    "start_time": "2022-05-04T16:07:42.002Z"
   },
   {
    "duration": 121,
    "start_time": "2022-05-04T16:08:18.496Z"
   },
   {
    "duration": 126,
    "start_time": "2022-05-04T16:08:31.905Z"
   },
   {
    "duration": 14,
    "start_time": "2022-05-04T16:08:39.905Z"
   },
   {
    "duration": 21,
    "start_time": "2022-05-04T16:08:39.968Z"
   },
   {
    "duration": 547,
    "start_time": "2022-05-04T16:08:51.699Z"
   },
   {
    "duration": 129,
    "start_time": "2022-05-04T16:09:47.809Z"
   },
   {
    "duration": 126,
    "start_time": "2022-05-04T16:10:36.091Z"
   },
   {
    "duration": 0,
    "start_time": "2022-05-04T16:10:36.220Z"
   },
   {
    "duration": 147,
    "start_time": "2022-05-04T16:11:12.672Z"
   },
   {
    "duration": 142,
    "start_time": "2022-05-04T16:11:43.840Z"
   },
   {
    "duration": 117,
    "start_time": "2022-05-04T16:22:48.477Z"
   },
   {
    "duration": 21,
    "start_time": "2022-05-04T16:23:34.870Z"
   },
   {
    "duration": 8,
    "start_time": "2022-05-04T16:29:31.653Z"
   },
   {
    "duration": 5,
    "start_time": "2022-05-04T16:30:20.940Z"
   },
   {
    "duration": 180,
    "start_time": "2022-05-04T16:31:07.693Z"
   },
   {
    "duration": 16,
    "start_time": "2022-05-04T16:31:30.041Z"
   },
   {
    "duration": 12,
    "start_time": "2022-05-04T16:36:25.175Z"
   },
   {
    "duration": 12,
    "start_time": "2022-05-04T16:36:30.045Z"
   },
   {
    "duration": 11,
    "start_time": "2022-05-04T16:37:35.256Z"
   },
   {
    "duration": 563,
    "start_time": "2022-05-04T16:37:40.769Z"
   },
   {
    "duration": 998,
    "start_time": "2022-05-04T16:38:31.622Z"
   },
   {
    "duration": 124,
    "start_time": "2022-05-04T16:38:50.057Z"
   },
   {
    "duration": 537,
    "start_time": "2022-05-04T16:39:41.473Z"
   },
   {
    "duration": 142,
    "start_time": "2022-05-04T16:40:26.960Z"
   },
   {
    "duration": 116,
    "start_time": "2022-05-04T16:41:16.366Z"
   },
   {
    "duration": 0,
    "start_time": "2022-05-04T16:41:16.484Z"
   },
   {
    "duration": 117,
    "start_time": "2022-05-04T16:41:53.239Z"
   },
   {
    "duration": 138,
    "start_time": "2022-05-04T16:42:01.458Z"
   },
   {
    "duration": 112,
    "start_time": "2022-05-04T16:42:34.465Z"
   },
   {
    "duration": 138,
    "start_time": "2022-05-04T16:42:43.263Z"
   },
   {
    "duration": 12,
    "start_time": "2022-05-04T16:45:44.959Z"
   },
   {
    "duration": 151,
    "start_time": "2022-05-04T16:45:53.922Z"
   },
   {
    "duration": 26,
    "start_time": "2022-05-04T16:46:00.354Z"
   },
   {
    "duration": 118,
    "start_time": "2022-05-04T16:48:49.255Z"
   },
   {
    "duration": 145,
    "start_time": "2022-05-04T16:49:33.829Z"
   },
   {
    "duration": 118,
    "start_time": "2022-05-04T16:50:10.958Z"
   },
   {
    "duration": 120,
    "start_time": "2022-05-04T16:50:53.666Z"
   },
   {
    "duration": 178,
    "start_time": "2022-05-04T16:52:03.449Z"
   },
   {
    "duration": 228,
    "start_time": "2022-05-04T16:52:39.247Z"
   },
   {
    "duration": 8,
    "start_time": "2022-05-04T16:59:51.198Z"
   },
   {
    "duration": 9,
    "start_time": "2022-05-04T16:59:56.312Z"
   },
   {
    "duration": 26,
    "start_time": "2022-05-04T17:00:51.946Z"
   },
   {
    "duration": 19,
    "start_time": "2022-05-04T17:01:32.527Z"
   },
   {
    "duration": 124,
    "start_time": "2022-05-04T17:02:35.717Z"
   },
   {
    "duration": 15,
    "start_time": "2022-05-04T17:03:07.186Z"
   },
   {
    "duration": 11,
    "start_time": "2022-05-04T17:03:09.748Z"
   },
   {
    "duration": 29,
    "start_time": "2022-05-04T17:03:20.428Z"
   },
   {
    "duration": 19,
    "start_time": "2022-05-04T17:03:34.954Z"
   },
   {
    "duration": 59,
    "start_time": "2022-05-04T17:03:51.823Z"
   },
   {
    "duration": 18,
    "start_time": "2022-05-04T17:03:54.343Z"
   },
   {
    "duration": 13,
    "start_time": "2022-05-04T17:04:47.664Z"
   },
   {
    "duration": 11,
    "start_time": "2022-05-04T17:04:55.458Z"
   },
   {
    "duration": 14,
    "start_time": "2022-05-04T17:05:45.914Z"
   },
   {
    "duration": 21,
    "start_time": "2022-05-04T17:05:54.295Z"
   },
   {
    "duration": 14,
    "start_time": "2022-05-04T17:06:10.239Z"
   },
   {
    "duration": 16,
    "start_time": "2022-05-04T17:06:14.431Z"
   },
   {
    "duration": 8,
    "start_time": "2022-05-04T17:06:43.779Z"
   },
   {
    "duration": 20,
    "start_time": "2022-05-04T17:06:57.447Z"
   },
   {
    "duration": 7,
    "start_time": "2022-05-04T17:08:01.795Z"
   },
   {
    "duration": 135,
    "start_time": "2022-05-04T17:09:08.897Z"
   },
   {
    "duration": 235,
    "start_time": "2022-05-04T17:10:04.672Z"
   },
   {
    "duration": 12,
    "start_time": "2022-05-04T17:10:56.286Z"
   },
   {
    "duration": 86,
    "start_time": "2022-05-04T17:12:57.117Z"
   },
   {
    "duration": 7,
    "start_time": "2022-05-04T17:13:06.945Z"
   },
   {
    "duration": 8,
    "start_time": "2022-05-04T17:13:27.278Z"
   },
   {
    "duration": 14,
    "start_time": "2022-05-04T17:14:21.082Z"
   },
   {
    "duration": 12,
    "start_time": "2022-05-04T17:15:08.204Z"
   },
   {
    "duration": 15,
    "start_time": "2022-05-04T17:15:13.592Z"
   },
   {
    "duration": 31,
    "start_time": "2022-05-04T17:16:08.910Z"
   },
   {
    "duration": 6,
    "start_time": "2022-05-04T17:18:11.845Z"
   },
   {
    "duration": 17,
    "start_time": "2022-05-04T17:18:13.609Z"
   },
   {
    "duration": 11,
    "start_time": "2022-05-04T17:18:14.526Z"
   },
   {
    "duration": 15,
    "start_time": "2022-05-04T17:18:32.938Z"
   },
   {
    "duration": 11,
    "start_time": "2022-05-04T17:18:33.966Z"
   },
   {
    "duration": 11,
    "start_time": "2022-05-04T17:18:47.064Z"
   },
   {
    "duration": 7,
    "start_time": "2022-05-04T17:18:47.125Z"
   },
   {
    "duration": 11,
    "start_time": "2022-05-04T17:18:57.066Z"
   },
   {
    "duration": 6,
    "start_time": "2022-05-04T17:18:58.797Z"
   },
   {
    "duration": 41,
    "start_time": "2022-05-04T17:20:31.527Z"
   },
   {
    "duration": 35,
    "start_time": "2022-05-04T17:20:39.030Z"
   },
   {
    "duration": 7,
    "start_time": "2022-05-04T17:20:39.083Z"
   },
   {
    "duration": 11,
    "start_time": "2022-05-04T17:20:53.421Z"
   },
   {
    "duration": 8,
    "start_time": "2022-05-04T17:20:55.454Z"
   },
   {
    "duration": 1549,
    "start_time": "2022-05-04T17:22:07.233Z"
   },
   {
    "duration": 579,
    "start_time": "2022-05-04T17:22:08.785Z"
   },
   {
    "duration": 3,
    "start_time": "2022-05-04T17:22:09.366Z"
   },
   {
    "duration": 62,
    "start_time": "2022-05-04T17:22:09.372Z"
   },
   {
    "duration": 138,
    "start_time": "2022-05-04T17:22:09.436Z"
   },
   {
    "duration": 210,
    "start_time": "2022-05-04T17:22:09.576Z"
   },
   {
    "duration": 47,
    "start_time": "2022-05-04T17:22:09.788Z"
   },
   {
    "duration": 2310,
    "start_time": "2022-05-04T17:22:09.837Z"
   },
   {
    "duration": 7,
    "start_time": "2022-05-04T17:22:12.149Z"
   },
   {
    "duration": 435,
    "start_time": "2022-05-04T17:22:12.160Z"
   },
   {
    "duration": 33,
    "start_time": "2022-05-04T17:22:12.597Z"
   },
   {
    "duration": 132,
    "start_time": "2022-05-04T17:22:12.633Z"
   },
   {
    "duration": 5,
    "start_time": "2022-05-04T17:22:12.767Z"
   },
   {
    "duration": 30,
    "start_time": "2022-05-04T17:22:12.775Z"
   },
   {
    "duration": 29,
    "start_time": "2022-05-04T17:22:12.807Z"
   },
   {
    "duration": 21,
    "start_time": "2022-05-04T17:22:12.838Z"
   },
   {
    "duration": 32,
    "start_time": "2022-05-04T17:22:12.861Z"
   },
   {
    "duration": 298,
    "start_time": "2022-05-04T17:22:12.896Z"
   },
   {
    "duration": 37,
    "start_time": "2022-05-04T17:22:13.196Z"
   },
   {
    "duration": 130,
    "start_time": "2022-05-04T17:22:13.235Z"
   },
   {
    "duration": 76,
    "start_time": "2022-05-04T17:22:13.367Z"
   },
   {
    "duration": 55,
    "start_time": "2022-05-04T17:22:13.445Z"
   },
   {
    "duration": 90,
    "start_time": "2022-05-04T17:22:13.502Z"
   },
   {
    "duration": 10,
    "start_time": "2022-05-04T17:22:13.594Z"
   },
   {
    "duration": 162,
    "start_time": "2022-05-04T17:22:13.606Z"
   },
   {
    "duration": 395,
    "start_time": "2022-05-04T17:22:13.770Z"
   },
   {
    "duration": 17,
    "start_time": "2022-05-04T17:22:14.167Z"
   },
   {
    "duration": 7,
    "start_time": "2022-05-04T17:22:14.190Z"
   },
   {
    "duration": 60,
    "start_time": "2022-05-04T17:22:14.199Z"
   },
   {
    "duration": 21,
    "start_time": "2022-05-04T17:22:14.263Z"
   },
   {
    "duration": 58,
    "start_time": "2022-05-04T17:22:14.286Z"
   },
   {
    "duration": 10,
    "start_time": "2022-05-04T17:22:14.346Z"
   },
   {
    "duration": 6,
    "start_time": "2022-05-04T17:22:14.358Z"
   },
   {
    "duration": 8,
    "start_time": "2022-05-04T17:22:14.366Z"
   },
   {
    "duration": 12,
    "start_time": "2022-05-04T17:22:14.377Z"
   },
   {
    "duration": 149,
    "start_time": "2022-05-04T17:22:14.424Z"
   },
   {
    "duration": 0,
    "start_time": "2022-05-04T17:22:14.575Z"
   },
   {
    "duration": 0,
    "start_time": "2022-05-04T17:22:14.577Z"
   },
   {
    "duration": 0,
    "start_time": "2022-05-04T17:22:14.579Z"
   },
   {
    "duration": 0,
    "start_time": "2022-05-04T17:22:14.581Z"
   },
   {
    "duration": 0,
    "start_time": "2022-05-04T17:22:14.583Z"
   },
   {
    "duration": 0,
    "start_time": "2022-05-04T17:22:14.585Z"
   },
   {
    "duration": 0,
    "start_time": "2022-05-04T17:22:14.587Z"
   },
   {
    "duration": 0,
    "start_time": "2022-05-04T17:22:14.589Z"
   },
   {
    "duration": 0,
    "start_time": "2022-05-04T17:22:14.590Z"
   },
   {
    "duration": 0,
    "start_time": "2022-05-04T17:22:14.592Z"
   },
   {
    "duration": 0,
    "start_time": "2022-05-04T17:22:14.594Z"
   },
   {
    "duration": 0,
    "start_time": "2022-05-04T17:22:14.625Z"
   },
   {
    "duration": 0,
    "start_time": "2022-05-04T17:22:14.627Z"
   },
   {
    "duration": 0,
    "start_time": "2022-05-04T17:22:14.628Z"
   },
   {
    "duration": 0,
    "start_time": "2022-05-04T17:22:14.630Z"
   },
   {
    "duration": 0,
    "start_time": "2022-05-04T17:22:14.631Z"
   },
   {
    "duration": 0,
    "start_time": "2022-05-04T17:22:14.633Z"
   },
   {
    "duration": 0,
    "start_time": "2022-05-04T17:22:14.634Z"
   },
   {
    "duration": 0,
    "start_time": "2022-05-04T17:22:14.635Z"
   },
   {
    "duration": 0,
    "start_time": "2022-05-04T17:22:14.637Z"
   },
   {
    "duration": 0,
    "start_time": "2022-05-04T17:22:14.639Z"
   },
   {
    "duration": 0,
    "start_time": "2022-05-04T17:22:14.640Z"
   },
   {
    "duration": 0,
    "start_time": "2022-05-04T17:22:14.642Z"
   },
   {
    "duration": 0,
    "start_time": "2022-05-04T17:22:14.643Z"
   },
   {
    "duration": 0,
    "start_time": "2022-05-04T17:22:14.645Z"
   },
   {
    "duration": 0,
    "start_time": "2022-05-04T17:22:14.646Z"
   },
   {
    "duration": 0,
    "start_time": "2022-05-04T17:22:14.647Z"
   },
   {
    "duration": 0,
    "start_time": "2022-05-04T17:22:14.649Z"
   },
   {
    "duration": 0,
    "start_time": "2022-05-04T17:22:14.651Z"
   },
   {
    "duration": 0,
    "start_time": "2022-05-04T17:22:14.652Z"
   },
   {
    "duration": 0,
    "start_time": "2022-05-04T17:22:14.653Z"
   },
   {
    "duration": 0,
    "start_time": "2022-05-04T17:22:14.654Z"
   },
   {
    "duration": 0,
    "start_time": "2022-05-04T17:22:14.656Z"
   },
   {
    "duration": 0,
    "start_time": "2022-05-04T17:22:14.657Z"
   },
   {
    "duration": 0,
    "start_time": "2022-05-04T17:22:14.659Z"
   },
   {
    "duration": 0,
    "start_time": "2022-05-04T17:22:14.660Z"
   },
   {
    "duration": 0,
    "start_time": "2022-05-04T17:22:14.662Z"
   },
   {
    "duration": 211,
    "start_time": "2022-05-04T17:22:58.808Z"
   },
   {
    "duration": 20,
    "start_time": "2022-05-04T17:22:59.022Z"
   },
   {
    "duration": 17,
    "start_time": "2022-05-04T17:23:02.144Z"
   },
   {
    "duration": 39,
    "start_time": "2022-05-04T17:23:02.164Z"
   },
   {
    "duration": 31,
    "start_time": "2022-05-04T17:23:02.207Z"
   },
   {
    "duration": 6875,
    "start_time": "2022-05-04T17:23:02.241Z"
   },
   {
    "duration": 15,
    "start_time": "2022-05-04T17:23:09.118Z"
   },
   {
    "duration": 21,
    "start_time": "2022-05-04T17:23:09.135Z"
   },
   {
    "duration": 10,
    "start_time": "2022-05-04T17:23:09.159Z"
   },
   {
    "duration": 1779,
    "start_time": "2022-05-04T17:23:09.172Z"
   },
   {
    "duration": 34,
    "start_time": "2022-05-04T17:23:10.953Z"
   },
   {
    "duration": 8,
    "start_time": "2022-05-04T17:23:10.993Z"
   },
   {
    "duration": 34,
    "start_time": "2022-05-04T17:23:11.026Z"
   },
   {
    "duration": 24,
    "start_time": "2022-05-04T17:23:11.062Z"
   },
   {
    "duration": 37,
    "start_time": "2022-05-04T17:23:11.089Z"
   },
   {
    "duration": 4,
    "start_time": "2022-05-04T17:23:11.129Z"
   },
   {
    "duration": 49,
    "start_time": "2022-05-04T17:23:11.137Z"
   },
   {
    "duration": 62,
    "start_time": "2022-05-04T17:23:11.189Z"
   },
   {
    "duration": 37,
    "start_time": "2022-05-04T17:23:11.253Z"
   },
   {
    "duration": 74,
    "start_time": "2022-05-04T17:23:11.293Z"
   },
   {
    "duration": 57,
    "start_time": "2022-05-04T17:23:11.370Z"
   },
   {
    "duration": 24,
    "start_time": "2022-05-04T17:23:11.429Z"
   },
   {
    "duration": 4986,
    "start_time": "2022-05-04T17:23:11.456Z"
   },
   {
    "duration": 3253,
    "start_time": "2022-05-04T17:23:16.445Z"
   },
   {
    "duration": 39,
    "start_time": "2022-05-04T17:23:19.701Z"
   },
   {
    "duration": 21,
    "start_time": "2022-05-04T17:23:19.742Z"
   },
   {
    "duration": 11,
    "start_time": "2022-05-04T17:23:19.765Z"
   },
   {
    "duration": 13,
    "start_time": "2022-05-04T17:23:19.779Z"
   },
   {
    "duration": 12,
    "start_time": "2022-05-04T17:23:19.826Z"
   },
   {
    "duration": 6,
    "start_time": "2022-05-04T17:23:19.843Z"
   },
   {
    "duration": 11,
    "start_time": "2022-05-04T17:23:19.851Z"
   },
   {
    "duration": 9,
    "start_time": "2022-05-04T17:23:19.864Z"
   },
   {
    "duration": 111,
    "start_time": "2022-05-04T17:23:19.875Z"
   },
   {
    "duration": 43,
    "start_time": "2022-05-04T17:23:19.988Z"
   },
   {
    "duration": 0,
    "start_time": "2022-05-04T17:23:20.035Z"
   },
   {
    "duration": 0,
    "start_time": "2022-05-04T17:23:20.038Z"
   },
   {
    "duration": 0,
    "start_time": "2022-05-04T17:23:20.039Z"
   },
   {
    "duration": 0,
    "start_time": "2022-05-04T17:23:20.041Z"
   },
   {
    "duration": 18,
    "start_time": "2022-05-04T17:24:15.797Z"
   },
   {
    "duration": 4,
    "start_time": "2022-05-04T17:25:14.415Z"
   },
   {
    "duration": 18,
    "start_time": "2022-05-04T17:25:16.255Z"
   },
   {
    "duration": 35,
    "start_time": "2022-05-04T17:26:54.933Z"
   },
   {
    "duration": 25,
    "start_time": "2022-05-04T17:28:33.170Z"
   },
   {
    "duration": 17,
    "start_time": "2022-05-04T17:29:25.890Z"
   },
   {
    "duration": 1583,
    "start_time": "2022-05-04T17:29:39.715Z"
   },
   {
    "duration": 677,
    "start_time": "2022-05-04T17:29:41.301Z"
   },
   {
    "duration": 3,
    "start_time": "2022-05-04T17:29:41.981Z"
   },
   {
    "duration": 64,
    "start_time": "2022-05-04T17:29:41.988Z"
   },
   {
    "duration": 189,
    "start_time": "2022-05-04T17:29:42.054Z"
   },
   {
    "duration": 212,
    "start_time": "2022-05-04T17:29:42.245Z"
   },
   {
    "duration": 22,
    "start_time": "2022-05-04T17:29:42.459Z"
   },
   {
    "duration": 2670,
    "start_time": "2022-05-04T17:29:42.483Z"
   },
   {
    "duration": 10,
    "start_time": "2022-05-04T17:29:45.156Z"
   },
   {
    "duration": 802,
    "start_time": "2022-05-04T17:29:45.168Z"
   },
   {
    "duration": 51,
    "start_time": "2022-05-04T17:29:45.974Z"
   },
   {
    "duration": 211,
    "start_time": "2022-05-04T17:29:46.029Z"
   },
   {
    "duration": 7,
    "start_time": "2022-05-04T17:29:46.247Z"
   },
   {
    "duration": 59,
    "start_time": "2022-05-04T17:29:46.256Z"
   },
   {
    "duration": 8,
    "start_time": "2022-05-04T17:29:46.317Z"
   },
   {
    "duration": 8,
    "start_time": "2022-05-04T17:29:46.327Z"
   },
   {
    "duration": 10,
    "start_time": "2022-05-04T17:29:46.338Z"
   },
   {
    "duration": 291,
    "start_time": "2022-05-04T17:29:46.352Z"
   },
   {
    "duration": 22,
    "start_time": "2022-05-04T17:29:46.645Z"
   },
   {
    "duration": 159,
    "start_time": "2022-05-04T17:29:46.669Z"
   },
   {
    "duration": 65,
    "start_time": "2022-05-04T17:29:46.831Z"
   },
   {
    "duration": 84,
    "start_time": "2022-05-04T17:29:46.899Z"
   },
   {
    "duration": 100,
    "start_time": "2022-05-04T17:29:46.986Z"
   },
   {
    "duration": 14,
    "start_time": "2022-05-04T17:29:47.089Z"
   },
   {
    "duration": 179,
    "start_time": "2022-05-04T17:29:47.106Z"
   },
   {
    "duration": 442,
    "start_time": "2022-05-04T17:29:47.288Z"
   },
   {
    "duration": 21,
    "start_time": "2022-05-04T17:29:47.733Z"
   },
   {
    "duration": 9,
    "start_time": "2022-05-04T17:29:47.757Z"
   },
   {
    "duration": 19,
    "start_time": "2022-05-04T17:29:47.769Z"
   },
   {
    "duration": 41,
    "start_time": "2022-05-04T17:29:47.791Z"
   },
   {
    "duration": 52,
    "start_time": "2022-05-04T17:29:47.835Z"
   },
   {
    "duration": 34,
    "start_time": "2022-05-04T17:29:47.890Z"
   },
   {
    "duration": 7,
    "start_time": "2022-05-04T17:29:47.928Z"
   },
   {
    "duration": 13,
    "start_time": "2022-05-04T17:29:47.938Z"
   },
   {
    "duration": 18,
    "start_time": "2022-05-04T17:29:52.253Z"
   },
   {
    "duration": 2349,
    "start_time": "2022-05-04T17:30:32.484Z"
   },
   {
    "duration": 1002,
    "start_time": "2022-05-04T17:30:47.393Z"
   },
   {
    "duration": 0,
    "start_time": "2022-05-04T17:30:48.398Z"
   },
   {
    "duration": 1172,
    "start_time": "2022-05-04T17:31:01.771Z"
   },
   {
    "duration": 10,
    "start_time": "2022-05-04T17:31:10.629Z"
   },
   {
    "duration": 10,
    "start_time": "2022-05-04T17:31:27.512Z"
   },
   {
    "duration": 7,
    "start_time": "2022-05-04T17:33:14.352Z"
   },
   {
    "duration": 173,
    "start_time": "2022-05-04T17:33:22.060Z"
   },
   {
    "duration": 25,
    "start_time": "2022-05-04T17:33:24.837Z"
   },
   {
    "duration": 1517,
    "start_time": "2022-05-04T17:33:44.178Z"
   },
   {
    "duration": 602,
    "start_time": "2022-05-04T17:33:45.698Z"
   },
   {
    "duration": 3,
    "start_time": "2022-05-04T17:33:46.302Z"
   },
   {
    "duration": 76,
    "start_time": "2022-05-04T17:33:46.309Z"
   },
   {
    "duration": 165,
    "start_time": "2022-05-04T17:33:46.387Z"
   },
   {
    "duration": 210,
    "start_time": "2022-05-04T17:33:46.555Z"
   },
   {
    "duration": 22,
    "start_time": "2022-05-04T17:33:46.768Z"
   },
   {
    "duration": 2446,
    "start_time": "2022-05-04T17:33:46.793Z"
   },
   {
    "duration": 7,
    "start_time": "2022-05-04T17:33:49.241Z"
   },
   {
    "duration": 530,
    "start_time": "2022-05-04T17:33:49.252Z"
   },
   {
    "duration": 24,
    "start_time": "2022-05-04T17:33:49.785Z"
   },
   {
    "duration": 124,
    "start_time": "2022-05-04T17:33:49.824Z"
   },
   {
    "duration": 5,
    "start_time": "2022-05-04T17:33:49.951Z"
   },
   {
    "duration": 8,
    "start_time": "2022-05-04T17:33:49.959Z"
   },
   {
    "duration": 5,
    "start_time": "2022-05-04T17:33:49.969Z"
   },
   {
    "duration": 7,
    "start_time": "2022-05-04T17:33:49.976Z"
   },
   {
    "duration": 39,
    "start_time": "2022-05-04T17:33:49.985Z"
   },
   {
    "duration": 280,
    "start_time": "2022-05-04T17:33:50.027Z"
   },
   {
    "duration": 30,
    "start_time": "2022-05-04T17:33:50.309Z"
   },
   {
    "duration": 128,
    "start_time": "2022-05-04T17:33:50.341Z"
   },
   {
    "duration": 70,
    "start_time": "2022-05-04T17:33:50.471Z"
   },
   {
    "duration": 54,
    "start_time": "2022-05-04T17:33:50.543Z"
   },
   {
    "duration": 89,
    "start_time": "2022-05-04T17:33:50.600Z"
   },
   {
    "duration": 10,
    "start_time": "2022-05-04T17:33:50.691Z"
   },
   {
    "duration": 162,
    "start_time": "2022-05-04T17:33:50.703Z"
   },
   {
    "duration": 398,
    "start_time": "2022-05-04T17:33:50.868Z"
   },
   {
    "duration": 17,
    "start_time": "2022-05-04T17:33:51.268Z"
   },
   {
    "duration": 6,
    "start_time": "2022-05-04T17:33:51.292Z"
   },
   {
    "duration": 43,
    "start_time": "2022-05-04T17:33:51.300Z"
   },
   {
    "duration": 16,
    "start_time": "2022-05-04T17:33:51.345Z"
   },
   {
    "duration": 63,
    "start_time": "2022-05-04T17:33:51.363Z"
   },
   {
    "duration": 10,
    "start_time": "2022-05-04T17:33:51.428Z"
   },
   {
    "duration": 12,
    "start_time": "2022-05-04T17:33:51.440Z"
   },
   {
    "duration": 19,
    "start_time": "2022-05-04T17:33:51.454Z"
   },
   {
    "duration": 26,
    "start_time": "2022-05-04T17:33:51.476Z"
   },
   {
    "duration": 36,
    "start_time": "2022-05-04T17:33:51.504Z"
   },
   {
    "duration": 157,
    "start_time": "2022-05-04T17:33:51.543Z"
   },
   {
    "duration": 21,
    "start_time": "2022-05-04T17:33:51.703Z"
   },
   {
    "duration": 16,
    "start_time": "2022-05-04T17:33:51.727Z"
   },
   {
    "duration": 19,
    "start_time": "2022-05-04T17:33:51.745Z"
   },
   {
    "duration": 18,
    "start_time": "2022-05-04T17:33:51.766Z"
   },
   {
    "duration": 5554,
    "start_time": "2022-05-04T17:33:51.786Z"
   },
   {
    "duration": 10,
    "start_time": "2022-05-04T17:33:57.342Z"
   },
   {
    "duration": 9,
    "start_time": "2022-05-04T17:33:57.354Z"
   },
   {
    "duration": 9,
    "start_time": "2022-05-04T17:33:57.366Z"
   },
   {
    "duration": 2321,
    "start_time": "2022-05-04T17:33:57.377Z"
   },
   {
    "duration": 26,
    "start_time": "2022-05-04T17:33:59.700Z"
   },
   {
    "duration": 13,
    "start_time": "2022-05-04T17:33:59.728Z"
   },
   {
    "duration": 18,
    "start_time": "2022-05-04T17:33:59.743Z"
   },
   {
    "duration": 18,
    "start_time": "2022-05-04T17:33:59.763Z"
   },
   {
    "duration": 56,
    "start_time": "2022-05-04T17:33:59.783Z"
   },
   {
    "duration": 8,
    "start_time": "2022-05-04T17:33:59.841Z"
   },
   {
    "duration": 38,
    "start_time": "2022-05-04T17:33:59.851Z"
   },
   {
    "duration": 59,
    "start_time": "2022-05-04T17:33:59.892Z"
   },
   {
    "duration": 34,
    "start_time": "2022-05-04T17:33:59.953Z"
   },
   {
    "duration": 58,
    "start_time": "2022-05-04T17:33:59.989Z"
   },
   {
    "duration": 33,
    "start_time": "2022-05-04T17:34:00.049Z"
   },
   {
    "duration": 44,
    "start_time": "2022-05-04T17:34:00.084Z"
   },
   {
    "duration": 4798,
    "start_time": "2022-05-04T17:34:00.131Z"
   },
   {
    "duration": 3294,
    "start_time": "2022-05-04T17:34:04.932Z"
   },
   {
    "duration": 24,
    "start_time": "2022-05-04T17:34:08.228Z"
   },
   {
    "duration": 21,
    "start_time": "2022-05-04T17:34:08.254Z"
   },
   {
    "duration": 14,
    "start_time": "2022-05-04T17:34:08.277Z"
   },
   {
    "duration": 12,
    "start_time": "2022-05-04T17:34:08.326Z"
   },
   {
    "duration": 23,
    "start_time": "2022-05-04T17:34:08.341Z"
   },
   {
    "duration": 11,
    "start_time": "2022-05-04T17:34:08.367Z"
   },
   {
    "duration": 10,
    "start_time": "2022-05-04T17:34:08.380Z"
   },
   {
    "duration": 33,
    "start_time": "2022-05-04T17:34:08.392Z"
   },
   {
    "duration": 95,
    "start_time": "2022-05-04T17:34:08.427Z"
   },
   {
    "duration": 1953,
    "start_time": "2022-05-04T17:34:08.524Z"
   },
   {
    "duration": 295,
    "start_time": "2022-05-04T17:34:10.480Z"
   },
   {
    "duration": 292,
    "start_time": "2022-05-04T17:34:10.777Z"
   },
   {
    "duration": 290,
    "start_time": "2022-05-04T17:34:11.072Z"
   },
   {
    "duration": 41,
    "start_time": "2022-05-04T17:34:11.365Z"
   },
   {
    "duration": 1635,
    "start_time": "2022-05-04T22:35:58.450Z"
   },
   {
    "duration": 548,
    "start_time": "2022-05-04T22:36:00.088Z"
   },
   {
    "duration": 4,
    "start_time": "2022-05-04T22:36:00.638Z"
   },
   {
    "duration": 70,
    "start_time": "2022-05-04T22:36:00.644Z"
   },
   {
    "duration": 159,
    "start_time": "2022-05-04T22:36:00.717Z"
   },
   {
    "duration": 210,
    "start_time": "2022-05-04T22:36:00.879Z"
   },
   {
    "duration": 22,
    "start_time": "2022-05-04T22:36:01.091Z"
   },
   {
    "duration": 2317,
    "start_time": "2022-05-04T22:36:01.116Z"
   },
   {
    "duration": 17,
    "start_time": "2022-05-04T22:36:03.435Z"
   },
   {
    "duration": 745,
    "start_time": "2022-05-04T22:36:03.455Z"
   },
   {
    "duration": 48,
    "start_time": "2022-05-04T22:36:04.203Z"
   },
   {
    "duration": 200,
    "start_time": "2022-05-04T22:36:04.255Z"
   },
   {
    "duration": 6,
    "start_time": "2022-05-04T22:36:04.459Z"
   },
   {
    "duration": 8,
    "start_time": "2022-05-04T22:36:04.472Z"
   },
   {
    "duration": 13,
    "start_time": "2022-05-04T22:36:04.483Z"
   },
   {
    "duration": 12,
    "start_time": "2022-05-04T22:36:04.499Z"
   },
   {
    "duration": 19,
    "start_time": "2022-05-04T22:36:04.514Z"
   },
   {
    "duration": 384,
    "start_time": "2022-05-04T22:36:04.536Z"
   },
   {
    "duration": 46,
    "start_time": "2022-05-04T22:36:04.923Z"
   },
   {
    "duration": 153,
    "start_time": "2022-05-04T22:36:04.972Z"
   },
   {
    "duration": 64,
    "start_time": "2022-05-04T22:36:05.128Z"
   },
   {
    "duration": 79,
    "start_time": "2022-05-04T22:36:05.195Z"
   },
   {
    "duration": 86,
    "start_time": "2022-05-04T22:36:05.277Z"
   },
   {
    "duration": 10,
    "start_time": "2022-05-04T22:36:05.366Z"
   },
   {
    "duration": 139,
    "start_time": "2022-05-04T22:36:05.379Z"
   },
   {
    "duration": 385,
    "start_time": "2022-05-04T22:36:05.521Z"
   },
   {
    "duration": 17,
    "start_time": "2022-05-04T22:36:05.909Z"
   },
   {
    "duration": 24,
    "start_time": "2022-05-04T22:36:05.928Z"
   },
   {
    "duration": 25,
    "start_time": "2022-05-04T22:36:05.955Z"
   },
   {
    "duration": 18,
    "start_time": "2022-05-04T22:36:05.984Z"
   },
   {
    "duration": 63,
    "start_time": "2022-05-04T22:36:06.004Z"
   },
   {
    "duration": 14,
    "start_time": "2022-05-04T22:36:06.070Z"
   },
   {
    "duration": 8,
    "start_time": "2022-05-04T22:36:06.087Z"
   },
   {
    "duration": 6,
    "start_time": "2022-05-04T22:36:06.098Z"
   },
   {
    "duration": 76,
    "start_time": "2022-05-04T22:36:06.107Z"
   },
   {
    "duration": 146,
    "start_time": "2022-05-04T22:36:06.186Z"
   },
   {
    "duration": 44,
    "start_time": "2022-05-04T22:36:06.336Z"
   },
   {
    "duration": 222,
    "start_time": "2022-05-04T22:36:06.384Z"
   },
   {
    "duration": 24,
    "start_time": "2022-05-04T22:36:06.610Z"
   },
   {
    "duration": 15,
    "start_time": "2022-05-04T22:36:06.651Z"
   },
   {
    "duration": 14,
    "start_time": "2022-05-04T22:36:06.673Z"
   },
   {
    "duration": 16,
    "start_time": "2022-05-04T22:36:06.689Z"
   },
   {
    "duration": 8640,
    "start_time": "2022-05-04T22:36:06.707Z"
   },
   {
    "duration": 14,
    "start_time": "2022-05-04T22:36:15.353Z"
   },
   {
    "duration": 13,
    "start_time": "2022-05-04T22:36:15.370Z"
   },
   {
    "duration": 12,
    "start_time": "2022-05-04T22:36:15.386Z"
   },
   {
    "duration": 2478,
    "start_time": "2022-05-04T22:36:15.401Z"
   },
   {
    "duration": 19,
    "start_time": "2022-05-04T22:36:17.881Z"
   },
   {
    "duration": 13,
    "start_time": "2022-05-04T22:36:17.902Z"
   },
   {
    "duration": 49,
    "start_time": "2022-05-04T22:36:17.918Z"
   },
   {
    "duration": 33,
    "start_time": "2022-05-04T22:36:17.969Z"
   },
   {
    "duration": 26,
    "start_time": "2022-05-04T22:36:18.005Z"
   },
   {
    "duration": 6,
    "start_time": "2022-05-04T22:36:18.052Z"
   },
   {
    "duration": 57,
    "start_time": "2022-05-04T22:36:18.061Z"
   },
   {
    "duration": 72,
    "start_time": "2022-05-04T22:36:18.121Z"
   },
   {
    "duration": 70,
    "start_time": "2022-05-04T22:36:18.197Z"
   },
   {
    "duration": 54,
    "start_time": "2022-05-04T22:36:18.269Z"
   },
   {
    "duration": 78,
    "start_time": "2022-05-04T22:36:18.326Z"
   },
   {
    "duration": 49,
    "start_time": "2022-05-04T22:36:18.407Z"
   },
   {
    "duration": 5305,
    "start_time": "2022-05-04T22:36:18.460Z"
   },
   {
    "duration": 3172,
    "start_time": "2022-05-04T22:36:23.768Z"
   },
   {
    "duration": 29,
    "start_time": "2022-05-04T22:36:26.942Z"
   },
   {
    "duration": 42,
    "start_time": "2022-05-04T22:36:26.973Z"
   },
   {
    "duration": 16,
    "start_time": "2022-05-04T22:36:27.017Z"
   },
   {
    "duration": 24,
    "start_time": "2022-05-04T22:36:27.035Z"
   },
   {
    "duration": 41,
    "start_time": "2022-05-04T22:36:27.061Z"
   },
   {
    "duration": 8,
    "start_time": "2022-05-04T22:36:27.105Z"
   },
   {
    "duration": 18,
    "start_time": "2022-05-04T22:36:27.116Z"
   },
   {
    "duration": 17,
    "start_time": "2022-05-04T22:36:27.136Z"
   },
   {
    "duration": 119,
    "start_time": "2022-05-04T22:36:27.155Z"
   },
   {
    "duration": 1919,
    "start_time": "2022-05-04T22:36:27.277Z"
   },
   {
    "duration": 373,
    "start_time": "2022-05-04T22:36:29.200Z"
   },
   {
    "duration": 295,
    "start_time": "2022-05-04T22:36:29.576Z"
   },
   {
    "duration": 289,
    "start_time": "2022-05-04T22:36:29.874Z"
   },
   {
    "duration": 39,
    "start_time": "2022-05-04T22:36:30.165Z"
   },
   {
    "duration": 1377,
    "start_time": "2022-05-04T22:43:49.103Z"
   },
   {
    "duration": 526,
    "start_time": "2022-05-04T22:43:50.482Z"
   },
   {
    "duration": 4,
    "start_time": "2022-05-04T22:43:51.010Z"
   },
   {
    "duration": 72,
    "start_time": "2022-05-04T22:43:51.016Z"
   },
   {
    "duration": 164,
    "start_time": "2022-05-04T22:43:51.091Z"
   },
   {
    "duration": 194,
    "start_time": "2022-05-04T22:43:51.257Z"
   },
   {
    "duration": 20,
    "start_time": "2022-05-04T22:43:51.454Z"
   },
   {
    "duration": 2333,
    "start_time": "2022-05-04T22:43:51.476Z"
   },
   {
    "duration": 6,
    "start_time": "2022-05-04T22:43:53.811Z"
   },
   {
    "duration": 397,
    "start_time": "2022-05-04T22:43:53.819Z"
   },
   {
    "duration": 37,
    "start_time": "2022-05-04T22:43:54.218Z"
   },
   {
    "duration": 121,
    "start_time": "2022-05-04T22:43:54.257Z"
   },
   {
    "duration": 6,
    "start_time": "2022-05-04T22:43:54.380Z"
   },
   {
    "duration": 6,
    "start_time": "2022-05-04T22:43:54.390Z"
   },
   {
    "duration": 5,
    "start_time": "2022-05-04T22:43:54.398Z"
   },
   {
    "duration": 8,
    "start_time": "2022-05-04T22:43:54.405Z"
   },
   {
    "duration": 37,
    "start_time": "2022-05-04T22:43:54.415Z"
   },
   {
    "duration": 266,
    "start_time": "2022-05-04T22:43:54.455Z"
   },
   {
    "duration": 34,
    "start_time": "2022-05-04T22:43:54.724Z"
   },
   {
    "duration": 132,
    "start_time": "2022-05-04T22:43:54.761Z"
   },
   {
    "duration": 69,
    "start_time": "2022-05-04T22:43:54.896Z"
   },
   {
    "duration": 51,
    "start_time": "2022-05-04T22:43:54.968Z"
   },
   {
    "duration": 91,
    "start_time": "2022-05-04T22:43:55.022Z"
   },
   {
    "duration": 10,
    "start_time": "2022-05-04T22:43:55.116Z"
   },
   {
    "duration": 159,
    "start_time": "2022-05-04T22:43:55.128Z"
   },
   {
    "duration": 364,
    "start_time": "2022-05-04T22:43:55.290Z"
   },
   {
    "duration": 19,
    "start_time": "2022-05-04T22:43:55.656Z"
   },
   {
    "duration": 7,
    "start_time": "2022-05-04T22:43:55.678Z"
   },
   {
    "duration": 16,
    "start_time": "2022-05-04T22:43:55.688Z"
   },
   {
    "duration": 46,
    "start_time": "2022-05-04T22:43:55.707Z"
   },
   {
    "duration": 46,
    "start_time": "2022-05-04T22:43:55.756Z"
   },
   {
    "duration": 13,
    "start_time": "2022-05-04T22:43:55.804Z"
   },
   {
    "duration": 36,
    "start_time": "2022-05-04T22:43:55.819Z"
   },
   {
    "duration": 6,
    "start_time": "2022-05-04T22:43:55.858Z"
   },
   {
    "duration": 30,
    "start_time": "2022-05-04T22:43:55.866Z"
   },
   {
    "duration": 7,
    "start_time": "2022-05-04T22:43:55.899Z"
   },
   {
    "duration": 65,
    "start_time": "2022-05-04T22:43:55.908Z"
   },
   {
    "duration": 151,
    "start_time": "2022-05-04T22:43:55.975Z"
   },
   {
    "duration": 15,
    "start_time": "2022-05-04T22:43:56.128Z"
   },
   {
    "duration": 16,
    "start_time": "2022-05-04T22:43:56.153Z"
   },
   {
    "duration": 16,
    "start_time": "2022-05-04T22:43:56.175Z"
   },
   {
    "duration": 18,
    "start_time": "2022-05-04T22:43:56.193Z"
   },
   {
    "duration": 5220,
    "start_time": "2022-05-04T22:43:56.213Z"
   },
   {
    "duration": 23,
    "start_time": "2022-05-04T22:44:01.436Z"
   },
   {
    "duration": 15,
    "start_time": "2022-05-04T22:44:01.462Z"
   },
   {
    "duration": 17,
    "start_time": "2022-05-04T22:44:01.480Z"
   },
   {
    "duration": 2098,
    "start_time": "2022-05-04T22:44:01.500Z"
   },
   {
    "duration": 20,
    "start_time": "2022-05-04T22:44:03.601Z"
   },
   {
    "duration": 29,
    "start_time": "2022-05-04T22:44:03.624Z"
   },
   {
    "duration": 19,
    "start_time": "2022-05-04T22:44:03.655Z"
   },
   {
    "duration": 16,
    "start_time": "2022-05-04T22:44:03.677Z"
   },
   {
    "duration": 56,
    "start_time": "2022-05-04T22:44:03.696Z"
   },
   {
    "duration": 5,
    "start_time": "2022-05-04T22:44:03.754Z"
   },
   {
    "duration": 39,
    "start_time": "2022-05-04T22:44:03.762Z"
   },
   {
    "duration": 63,
    "start_time": "2022-05-04T22:44:03.804Z"
   },
   {
    "duration": 36,
    "start_time": "2022-05-04T22:44:03.870Z"
   },
   {
    "duration": 63,
    "start_time": "2022-05-04T22:44:03.908Z"
   },
   {
    "duration": 36,
    "start_time": "2022-05-04T22:44:03.973Z"
   },
   {
    "duration": 43,
    "start_time": "2022-05-04T22:44:04.011Z"
   },
   {
    "duration": 4507,
    "start_time": "2022-05-04T22:44:04.057Z"
   },
   {
    "duration": 3317,
    "start_time": "2022-05-04T22:44:08.567Z"
   },
   {
    "duration": 23,
    "start_time": "2022-05-04T22:44:11.886Z"
   },
   {
    "duration": 21,
    "start_time": "2022-05-04T22:44:11.951Z"
   },
   {
    "duration": 9,
    "start_time": "2022-05-04T22:44:11.974Z"
   },
   {
    "duration": 68,
    "start_time": "2022-05-04T22:44:11.985Z"
   },
   {
    "duration": 11,
    "start_time": "2022-05-04T22:44:12.055Z"
   },
   {
    "duration": 7,
    "start_time": "2022-05-04T22:44:12.068Z"
   },
   {
    "duration": 13,
    "start_time": "2022-05-04T22:44:12.077Z"
   },
   {
    "duration": 5,
    "start_time": "2022-05-04T22:44:12.093Z"
   },
   {
    "duration": 175,
    "start_time": "2022-05-04T22:44:12.100Z"
   },
   {
    "duration": 1901,
    "start_time": "2022-05-04T22:44:12.277Z"
   },
   {
    "duration": 371,
    "start_time": "2022-05-04T22:44:14.180Z"
   },
   {
    "duration": 270,
    "start_time": "2022-05-04T22:44:14.554Z"
   },
   {
    "duration": 275,
    "start_time": "2022-05-04T22:44:14.826Z"
   },
   {
    "duration": 48,
    "start_time": "2022-05-04T22:44:15.103Z"
   }
  ],
  "kernelspec": {
   "display_name": "Python 3",
   "language": "python",
   "name": "python3"
  },
  "language_info": {
   "codemirror_mode": {
    "name": "ipython",
    "version": 3
   },
   "file_extension": ".py",
   "mimetype": "text/x-python",
   "name": "python",
   "nbconvert_exporter": "python",
   "pygments_lexer": "ipython3",
   "version": "3.8.8"
  },
  "toc": {
   "base_numbering": 1,
   "nav_menu": {},
   "number_sections": true,
   "sideBar": true,
   "skip_h1_title": true,
   "title_cell": "Table of Contents",
   "title_sidebar": "Contents",
   "toc_cell": false,
   "toc_position": {
    "height": "calc(100% - 180px)",
    "left": "10px",
    "top": "150px",
    "width": "210px"
   },
   "toc_section_display": true,
   "toc_window_display": false
  }
 },
 "nbformat": 4,
 "nbformat_minor": 5
}
