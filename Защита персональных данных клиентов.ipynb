{
 "cells": [
  {
   "cell_type": "markdown",
   "metadata": {
    "toc": true
   },
   "source": [
    "<h1>Содержание<span class=\"tocSkip\"></span></h1>\n",
    "<div class=\"toc\"><ul class=\"toc-item\"><li><span><a href=\"#Загрузка-данных\" data-toc-modified-id=\"Загрузка-данных-1\"><span class=\"toc-item-num\">1&nbsp;&nbsp;</span>Загрузка данных</a></span><ul class=\"toc-item\"><li><span><a href=\"#Вывод:\" data-toc-modified-id=\"Вывод:-1.1\"><span class=\"toc-item-num\">1.1&nbsp;&nbsp;</span>Вывод:</a></span></li></ul></li><li><span><a href=\"#Умножение-матриц\" data-toc-modified-id=\"Умножение-матриц-2\"><span class=\"toc-item-num\">2&nbsp;&nbsp;</span>Умножение матриц</a></span><ul class=\"toc-item\"><li><span><a href=\"#Обоснование\" data-toc-modified-id=\"Обоснование-2.1\"><span class=\"toc-item-num\">2.1&nbsp;&nbsp;</span>Обоснование</a></span></li></ul></li><li><span><a href=\"#Алгоритм-преобразования\" data-toc-modified-id=\"Алгоритм-преобразования-3\"><span class=\"toc-item-num\">3&nbsp;&nbsp;</span>Алгоритм преобразования</a></span></li><li><span><a href=\"#Проверка-алгоритма\" data-toc-modified-id=\"Проверка-алгоритма-4\"><span class=\"toc-item-num\">4&nbsp;&nbsp;</span>Проверка алгоритма</a></span></li><li><span><a href=\"#Чек-лист-проверки\" data-toc-modified-id=\"Чек-лист-проверки-5\"><span class=\"toc-item-num\">5&nbsp;&nbsp;</span>Чек-лист проверки</a></span></li></ul></div>"
   ]
  },
  {
   "cell_type": "markdown",
   "metadata": {},
   "source": [
    "# Защита персональных данных клиентов"
   ]
  },
  {
   "cell_type": "markdown",
   "metadata": {},
   "source": [
    "**Цель исследования:** необходимо защитить данные клиентов страховой компании «Хоть потоп». Требуется разработать такой метод преобразования данных, чтобы по ним было сложно восстановить персональную информацию, обосновать корректность его работы. Нужно защитить данные, чтобы при преобразовании качество моделей машинного обучения не ухудшилось. Подбирать наилучшую модель не требуется.\n",
    "\n",
    "**Этапы исследования:**\n",
    "1. Загрузка данных;\n",
    "2. Умножение матриц;\n",
    "3. Создание алгоритма преобразования;\n",
    "4. Проверка алгоритма."
   ]
  },
  {
   "cell_type": "markdown",
   "metadata": {},
   "source": [
    "## Загрузка данных"
   ]
  },
  {
   "cell_type": "markdown",
   "metadata": {},
   "source": [
    "Импортируем необходимые для работы библиотеки."
   ]
  },
  {
   "cell_type": "code",
   "execution_count": 1,
   "metadata": {},
   "outputs": [],
   "source": [
    "import pandas as pd\n",
    "import numpy as np\n",
    "from sklearn.linear_model import LinearRegression\n",
    "from sklearn.metrics import r2_score"
   ]
  },
  {
   "cell_type": "markdown",
   "metadata": {},
   "source": [
    "Загрузим данные в переменную и изучим их."
   ]
  },
  {
   "cell_type": "code",
   "execution_count": 2,
   "metadata": {},
   "outputs": [],
   "source": [
    "data = pd.read_csv(\"/datasets/insurance.csv\")"
   ]
  },
  {
   "cell_type": "code",
   "execution_count": 3,
   "metadata": {},
   "outputs": [
    {
     "name": "stdout",
     "output_type": "stream",
     "text": [
      "<class 'pandas.core.frame.DataFrame'>\n",
      "RangeIndex: 5000 entries, 0 to 4999\n",
      "Data columns (total 5 columns):\n",
      " #   Column             Non-Null Count  Dtype  \n",
      "---  ------             --------------  -----  \n",
      " 0   Пол                5000 non-null   int64  \n",
      " 1   Возраст            5000 non-null   float64\n",
      " 2   Зарплата           5000 non-null   float64\n",
      " 3   Члены семьи        5000 non-null   int64  \n",
      " 4   Страховые выплаты  5000 non-null   int64  \n",
      "dtypes: float64(2), int64(3)\n",
      "memory usage: 195.4 KB\n"
     ]
    }
   ],
   "source": [
    "data.info()"
   ]
  },
  {
   "cell_type": "code",
   "execution_count": 4,
   "metadata": {},
   "outputs": [
    {
     "data": {
      "text/html": [
       "<div>\n",
       "<style scoped>\n",
       "    .dataframe tbody tr th:only-of-type {\n",
       "        vertical-align: middle;\n",
       "    }\n",
       "\n",
       "    .dataframe tbody tr th {\n",
       "        vertical-align: top;\n",
       "    }\n",
       "\n",
       "    .dataframe thead th {\n",
       "        text-align: right;\n",
       "    }\n",
       "</style>\n",
       "<table border=\"1\" class=\"dataframe\">\n",
       "  <thead>\n",
       "    <tr style=\"text-align: right;\">\n",
       "      <th></th>\n",
       "      <th>Пол</th>\n",
       "      <th>Возраст</th>\n",
       "      <th>Зарплата</th>\n",
       "      <th>Члены семьи</th>\n",
       "      <th>Страховые выплаты</th>\n",
       "    </tr>\n",
       "  </thead>\n",
       "  <tbody>\n",
       "    <tr>\n",
       "      <th>0</th>\n",
       "      <td>1</td>\n",
       "      <td>41.0</td>\n",
       "      <td>49600.0</td>\n",
       "      <td>1</td>\n",
       "      <td>0</td>\n",
       "    </tr>\n",
       "    <tr>\n",
       "      <th>1</th>\n",
       "      <td>0</td>\n",
       "      <td>46.0</td>\n",
       "      <td>38000.0</td>\n",
       "      <td>1</td>\n",
       "      <td>1</td>\n",
       "    </tr>\n",
       "    <tr>\n",
       "      <th>2</th>\n",
       "      <td>0</td>\n",
       "      <td>29.0</td>\n",
       "      <td>21000.0</td>\n",
       "      <td>0</td>\n",
       "      <td>0</td>\n",
       "    </tr>\n",
       "    <tr>\n",
       "      <th>3</th>\n",
       "      <td>0</td>\n",
       "      <td>21.0</td>\n",
       "      <td>41700.0</td>\n",
       "      <td>2</td>\n",
       "      <td>0</td>\n",
       "    </tr>\n",
       "    <tr>\n",
       "      <th>4</th>\n",
       "      <td>1</td>\n",
       "      <td>28.0</td>\n",
       "      <td>26100.0</td>\n",
       "      <td>0</td>\n",
       "      <td>0</td>\n",
       "    </tr>\n",
       "    <tr>\n",
       "      <th>5</th>\n",
       "      <td>1</td>\n",
       "      <td>43.0</td>\n",
       "      <td>41000.0</td>\n",
       "      <td>2</td>\n",
       "      <td>1</td>\n",
       "    </tr>\n",
       "    <tr>\n",
       "      <th>6</th>\n",
       "      <td>1</td>\n",
       "      <td>39.0</td>\n",
       "      <td>39700.0</td>\n",
       "      <td>2</td>\n",
       "      <td>0</td>\n",
       "    </tr>\n",
       "    <tr>\n",
       "      <th>7</th>\n",
       "      <td>1</td>\n",
       "      <td>25.0</td>\n",
       "      <td>38600.0</td>\n",
       "      <td>4</td>\n",
       "      <td>0</td>\n",
       "    </tr>\n",
       "    <tr>\n",
       "      <th>8</th>\n",
       "      <td>1</td>\n",
       "      <td>36.0</td>\n",
       "      <td>49700.0</td>\n",
       "      <td>1</td>\n",
       "      <td>0</td>\n",
       "    </tr>\n",
       "    <tr>\n",
       "      <th>9</th>\n",
       "      <td>1</td>\n",
       "      <td>32.0</td>\n",
       "      <td>51700.0</td>\n",
       "      <td>1</td>\n",
       "      <td>0</td>\n",
       "    </tr>\n",
       "    <tr>\n",
       "      <th>10</th>\n",
       "      <td>1</td>\n",
       "      <td>25.0</td>\n",
       "      <td>36600.0</td>\n",
       "      <td>1</td>\n",
       "      <td>0</td>\n",
       "    </tr>\n",
       "    <tr>\n",
       "      <th>11</th>\n",
       "      <td>1</td>\n",
       "      <td>38.0</td>\n",
       "      <td>29300.0</td>\n",
       "      <td>0</td>\n",
       "      <td>0</td>\n",
       "    </tr>\n",
       "    <tr>\n",
       "      <th>12</th>\n",
       "      <td>0</td>\n",
       "      <td>23.0</td>\n",
       "      <td>39500.0</td>\n",
       "      <td>3</td>\n",
       "      <td>0</td>\n",
       "    </tr>\n",
       "    <tr>\n",
       "      <th>13</th>\n",
       "      <td>0</td>\n",
       "      <td>21.0</td>\n",
       "      <td>55000.0</td>\n",
       "      <td>0</td>\n",
       "      <td>0</td>\n",
       "    </tr>\n",
       "    <tr>\n",
       "      <th>14</th>\n",
       "      <td>0</td>\n",
       "      <td>40.0</td>\n",
       "      <td>43700.0</td>\n",
       "      <td>1</td>\n",
       "      <td>0</td>\n",
       "    </tr>\n",
       "  </tbody>\n",
       "</table>\n",
       "</div>"
      ],
      "text/plain": [
       "    Пол  Возраст  Зарплата  Члены семьи  Страховые выплаты\n",
       "0     1     41.0   49600.0            1                  0\n",
       "1     0     46.0   38000.0            1                  1\n",
       "2     0     29.0   21000.0            0                  0\n",
       "3     0     21.0   41700.0            2                  0\n",
       "4     1     28.0   26100.0            0                  0\n",
       "5     1     43.0   41000.0            2                  1\n",
       "6     1     39.0   39700.0            2                  0\n",
       "7     1     25.0   38600.0            4                  0\n",
       "8     1     36.0   49700.0            1                  0\n",
       "9     1     32.0   51700.0            1                  0\n",
       "10    1     25.0   36600.0            1                  0\n",
       "11    1     38.0   29300.0            0                  0\n",
       "12    0     23.0   39500.0            3                  0\n",
       "13    0     21.0   55000.0            0                  0\n",
       "14    0     40.0   43700.0            1                  0"
      ]
     },
     "execution_count": 4,
     "metadata": {},
     "output_type": "execute_result"
    }
   ],
   "source": [
    "data.head(15)"
   ]
  },
  {
   "cell_type": "code",
   "execution_count": 5,
   "metadata": {},
   "outputs": [
    {
     "data": {
      "text/html": [
       "<div>\n",
       "<style scoped>\n",
       "    .dataframe tbody tr th:only-of-type {\n",
       "        vertical-align: middle;\n",
       "    }\n",
       "\n",
       "    .dataframe tbody tr th {\n",
       "        vertical-align: top;\n",
       "    }\n",
       "\n",
       "    .dataframe thead th {\n",
       "        text-align: right;\n",
       "    }\n",
       "</style>\n",
       "<table border=\"1\" class=\"dataframe\">\n",
       "  <thead>\n",
       "    <tr style=\"text-align: right;\">\n",
       "      <th></th>\n",
       "      <th>count</th>\n",
       "      <th>mean</th>\n",
       "      <th>std</th>\n",
       "      <th>min</th>\n",
       "      <th>25%</th>\n",
       "      <th>50%</th>\n",
       "      <th>75%</th>\n",
       "      <th>max</th>\n",
       "    </tr>\n",
       "  </thead>\n",
       "  <tbody>\n",
       "    <tr>\n",
       "      <th>Пол</th>\n",
       "      <td>5000.0</td>\n",
       "      <td>0.4990</td>\n",
       "      <td>0.500049</td>\n",
       "      <td>0.0</td>\n",
       "      <td>0.0</td>\n",
       "      <td>0.0</td>\n",
       "      <td>1.0</td>\n",
       "      <td>1.0</td>\n",
       "    </tr>\n",
       "    <tr>\n",
       "      <th>Возраст</th>\n",
       "      <td>5000.0</td>\n",
       "      <td>30.9528</td>\n",
       "      <td>8.440807</td>\n",
       "      <td>18.0</td>\n",
       "      <td>24.0</td>\n",
       "      <td>30.0</td>\n",
       "      <td>37.0</td>\n",
       "      <td>65.0</td>\n",
       "    </tr>\n",
       "    <tr>\n",
       "      <th>Зарплата</th>\n",
       "      <td>5000.0</td>\n",
       "      <td>39916.3600</td>\n",
       "      <td>9900.083569</td>\n",
       "      <td>5300.0</td>\n",
       "      <td>33300.0</td>\n",
       "      <td>40200.0</td>\n",
       "      <td>46600.0</td>\n",
       "      <td>79000.0</td>\n",
       "    </tr>\n",
       "    <tr>\n",
       "      <th>Члены семьи</th>\n",
       "      <td>5000.0</td>\n",
       "      <td>1.1942</td>\n",
       "      <td>1.091387</td>\n",
       "      <td>0.0</td>\n",
       "      <td>0.0</td>\n",
       "      <td>1.0</td>\n",
       "      <td>2.0</td>\n",
       "      <td>6.0</td>\n",
       "    </tr>\n",
       "    <tr>\n",
       "      <th>Страховые выплаты</th>\n",
       "      <td>5000.0</td>\n",
       "      <td>0.1480</td>\n",
       "      <td>0.463183</td>\n",
       "      <td>0.0</td>\n",
       "      <td>0.0</td>\n",
       "      <td>0.0</td>\n",
       "      <td>0.0</td>\n",
       "      <td>5.0</td>\n",
       "    </tr>\n",
       "  </tbody>\n",
       "</table>\n",
       "</div>"
      ],
      "text/plain": [
       "                    count        mean          std     min      25%      50%  \\\n",
       "Пол                5000.0      0.4990     0.500049     0.0      0.0      0.0   \n",
       "Возраст            5000.0     30.9528     8.440807    18.0     24.0     30.0   \n",
       "Зарплата           5000.0  39916.3600  9900.083569  5300.0  33300.0  40200.0   \n",
       "Члены семьи        5000.0      1.1942     1.091387     0.0      0.0      1.0   \n",
       "Страховые выплаты  5000.0      0.1480     0.463183     0.0      0.0      0.0   \n",
       "\n",
       "                       75%      max  \n",
       "Пол                    1.0      1.0  \n",
       "Возраст               37.0     65.0  \n",
       "Зарплата           46600.0  79000.0  \n",
       "Члены семьи            2.0      6.0  \n",
       "Страховые выплаты      0.0      5.0  "
      ]
     },
     "execution_count": 5,
     "metadata": {},
     "output_type": "execute_result"
    }
   ],
   "source": [
    "data.describe().T"
   ]
  },
  {
   "cell_type": "markdown",
   "metadata": {},
   "source": [
    "**Описание данных:**\n",
    "\n",
    "* Признаки:\n",
    "\n",
    "`Пол застрахованного клиента;`\n",
    "\n",
    "`Возраст застрахованного клиента;` \n",
    "\n",
    "`Зарплата застрахованного клиента;` \n",
    "\n",
    "`Члены семьи` — количество членов семьи застрахованного клиента. \n",
    "\n",
    "* Целевой признак:\n",
    "\n",
    "`Страховые выплаты` - количество страховых выплат за 5 лет. "
   ]
  },
  {
   "cell_type": "markdown",
   "metadata": {},
   "source": [
    "Проверим данные на наличие дубликатов."
   ]
  },
  {
   "cell_type": "code",
   "execution_count": 6,
   "metadata": {},
   "outputs": [
    {
     "name": "stdout",
     "output_type": "stream",
     "text": [
      "<class 'pandas.core.frame.DataFrame'>\n",
      "Int64Index: 4847 entries, 0 to 4999\n",
      "Data columns (total 5 columns):\n",
      " #   Column             Non-Null Count  Dtype  \n",
      "---  ------             --------------  -----  \n",
      " 0   Пол                4847 non-null   int64  \n",
      " 1   Возраст            4847 non-null   float64\n",
      " 2   Зарплата           4847 non-null   float64\n",
      " 3   Члены семьи        4847 non-null   int64  \n",
      " 4   Страховые выплаты  4847 non-null   int64  \n",
      "dtypes: float64(2), int64(3)\n",
      "memory usage: 227.2 KB\n"
     ]
    }
   ],
   "source": [
    "data = data.drop_duplicates()\n",
    "data.info()"
   ]
  },
  {
   "cell_type": "markdown",
   "metadata": {},
   "source": [
    "### Вывод:"
   ]
  },
  {
   "cell_type": "markdown",
   "metadata": {},
   "source": [
    "1. Названия столбцов оформлены в одном стиле.\n",
    "2. Имеются столбцы с типами данных, которые можно было бы заменить на менее затратные в плане памяти.\n",
    "3. В данных отсутствуют пропуски.\n",
    "4. Были удалены явные дубликаты."
   ]
  },
  {
   "cell_type": "markdown",
   "metadata": {},
   "source": [
    "## Умножение матриц"
   ]
  },
  {
   "cell_type": "markdown",
   "metadata": {},
   "source": [
    "Необходимо ответить на вопрос и обосновать решение:\n",
    "\n",
    "**Признаки умножают на обратимую матрицу. Изменится ли качество линейной регрессии?**\n",
    "\n",
    "a. Изменится. Приведите примеры матриц.\n",
    "\n",
    "b. Не изменится. Укажите, как связаны параметры линейной регрессии в исходной задаче и в преобразованной.\n",
    "\n",
    "**Ответ:** b. "
   ]
  },
  {
   "cell_type": "markdown",
   "metadata": {},
   "source": [
    "### Обоснование"
   ]
  },
  {
   "cell_type": "markdown",
   "metadata": {},
   "source": [
    "**Обозначения:**\n",
    "\n",
    "- $X$ — матрица признаков (нулевой столбец состоит из единиц)\n",
    "\n",
    "- $y$ — вектор целевого признака\n",
    "\n",
    "- $P$ — матрица, на которую умножаются признаки\n",
    "\n",
    "- $w$ — вектор весов линейной регрессии (нулевой элемент равен сдвигу)\n",
    "\n",
    "- $w*$ — вектор весов линейной регрессии матрицы полученной домножение исходной на обратимую матрицу(нулевой элемент равен сдвигу)\n",
    "\n",
    "- $\\hat{y}$ — предсказания по исходной матрице признаков\n",
    "\n",
    "- $\\hat{y}*$ — предсказания по матрице полученной домноженной на обратимую матрицу\n",
    "\n",
    "**Основные свойства обратной матрицы:**\n",
    "\n",
    "$$det(A) = 1/det(A) $$,\n",
    "$$(AB)^{-1} = B^{-1}A^{-1}$$ \n",
    "для двух квадратных обратимых матриц $A$ и $B$, \n",
    "$$(A^T)^{-1} = ((A)^{-1})^T$$.\n",
    " \n",
    "\n",
    "**Основные свойства единичной матрицы:**\n",
    "\n",
    "$$AE = EA = A$$,\n",
    "$$AA^{-1}=E$$.\n",
    "\n",
    "**Основные свойства транспонированной матрицы:**\n",
    "\n",
    "$$(AB)^{T} = B^{T}A^{T}$$ \n",
    "\n",
    "**Сочетательное свойство матриц, ассоциативность:**\n",
    "\n",
    "$$A(BC) = (AB)C$$"
   ]
  },
  {
   "cell_type": "markdown",
   "metadata": {},
   "source": [
    "**Предсказания:**\n",
    "\n",
    "$$\n",
    "a = Xw\n",
    "$$\n",
    "\n",
    "**Задача обучения:**\n",
    "\n",
    "$$\n",
    "w = \\arg\\min_w MSE(Xw, y)\n",
    "$$\n",
    "\n",
    "**Формула обучения:**\n",
    "\n",
    "$$\n",
    "w = (X^T X)^{-1} X^T y\n",
    "$$"
   ]
  },
  {
   "cell_type": "markdown",
   "metadata": {},
   "source": [
    "**Исходная матрица признаков:**\n",
    "\n",
    "$$X$$\n",
    "\n",
    "\n",
    "**Формула обучения:**\n",
    "\n",
    "$$w = (X^T X)^{-1} X^T y$$\n",
    "\n",
    "*Распишем формулу предсказания:*\n",
    "\n",
    "$$a = X (X^T X)^{-1} X^T y$$\n",
    "    \n",
    "**Новая матрица признаков:**\n",
    "\n",
    "$$X.dot(P)$$\n",
    "\n",
    "**Предсказания:**\n",
    "\n",
    "$$a* = XPw*$$\n",
    "\n",
    "**Формула обучения:**\n",
    "\n",
    "$$w* = ((XP)^T XP)^{-1} (XP)^T y$$\n",
    "\n",
    "*Распишем формулу предсказания:*\n",
    "\n",
    "$$a* = XP ((XP)^T XP)^{-1} (XP)^T y$$\n",
    "\n",
    "*Раскроем скобки по свойству транспонированных матриц и добавим скобки, чтобы получить квадратную матрицу по свойству ассоциативности:*\n",
    "\n",
    "$$a* = X P (P^T (X^T X) P)^{-1} P^T X^T y$$\n",
    "\n",
    "*Раскроем скобки по свойству обратных матриц:*\n",
    "\n",
    "$$a* = X P P^{-1} (X^T X)^{-1} (P^T)^{-1} P^T X^T y$$\n",
    "\n",
    "**По свойству единичной матрицы, все P в формуле сокращаются, а значит, умножение матрицы признаков на случайную обратимую матрицу не влияет на качество линейной регрессии**"
   ]
  },
  {
   "cell_type": "markdown",
   "metadata": {},
   "source": [
    "## Алгоритм преобразования"
   ]
  },
  {
   "cell_type": "markdown",
   "metadata": {},
   "source": [
    "Необходимо предложить алгоритм преобразования данных для решения задачи и обосновать, почему качество линейной регрессии не поменяется."
   ]
  },
  {
   "cell_type": "markdown",
   "metadata": {},
   "source": [
    "**Алгоритм**\n",
    "\n",
    "Необходимо умножить матрицу признаков на обратимую матрицу."
   ]
  },
  {
   "cell_type": "markdown",
   "metadata": {},
   "source": [
    "**Обоснование**\n",
    "\n",
    "Умножив матрицу признаков на случайную обратимую матрицу, мы зашифруем истинные значения признаков. Из за того, что матрица для умножения случайна, результаты предсказания до умножения и после идентичны (доказано в п.2,1), а размеры самих матриц очень велики, то случайную матрицу, которая выступает в роли ключа, угадать практичечки невозможно. \n",
    "\n",
    "Из одинаковых предсказаний так же следует то, что метрики не изменятся, а следовательно и качество линейной регрессии."
   ]
  },
  {
   "cell_type": "markdown",
   "metadata": {},
   "source": [
    "## Проверка алгоритма"
   ]
  },
  {
   "cell_type": "markdown",
   "metadata": {},
   "source": [
    "Выделим признаки и целевой признак."
   ]
  },
  {
   "cell_type": "code",
   "execution_count": 7,
   "metadata": {},
   "outputs": [],
   "source": [
    "X = data.drop(labels = \"Страховые выплаты\",axis = 1)\n",
    "y = data[\"Страховые выплаты\"]"
   ]
  },
  {
   "cell_type": "code",
   "execution_count": 8,
   "metadata": {},
   "outputs": [
    {
     "name": "stdout",
     "output_type": "stream",
     "text": [
      "(4847, 4) (4847,)\n"
     ]
    }
   ],
   "source": [
    "print(X.shape,y.shape)"
   ]
  },
  {
   "cell_type": "markdown",
   "metadata": {},
   "source": [
    "Добавим в начало матрицы столбец, заполненный единицами, соответствующий $w0$."
   ]
  },
  {
   "cell_type": "code",
   "execution_count": 9,
   "metadata": {},
   "outputs": [
    {
     "data": {
      "text/plain": [
       "(4847, 5)"
      ]
     },
     "execution_count": 9,
     "metadata": {},
     "output_type": "execute_result"
    }
   ],
   "source": [
    "X = np.concatenate((np.ones((X.shape[0], 1)), X), axis=1)\n",
    "X.shape"
   ]
  },
  {
   "cell_type": "markdown",
   "metadata": {},
   "source": [
    "Для проверки алгоритма нам необходимо сгенерировать случайную обратимую матрицу."
   ]
  },
  {
   "cell_type": "code",
   "execution_count": 10,
   "metadata": {},
   "outputs": [],
   "source": [
    "def invertible_matrix():\n",
    "    \n",
    "    len_X = X.shape[1]\n",
    "    \n",
    "    r = np.random.RandomState(777)\n",
    "    \n",
    "    P = r.rand(len_X, len_X)\n",
    "    \n",
    "    try: \n",
    "        \n",
    "        np.linalg.inv(P)\n",
    "        return P\n",
    "        \n",
    "    except:\n",
    "        \n",
    "        r = np.random.RandomState(randint(0 , 100))\n",
    "        P = r.rand(len_X, len_X)\n",
    "        \n",
    "        try: \n",
    "        \n",
    "            np.linalg.inv(P)\n",
    "            return P\n",
    "        \n",
    "        except:\n",
    "        \n",
    "            r = np.random.RandomState(randint(0 , 100))\n",
    "            P = r.rand(len_X, len_X)\n",
    "\n",
    "            return P"
   ]
  },
  {
   "cell_type": "code",
   "execution_count": 11,
   "metadata": {
    "scrolled": true
   },
   "outputs": [
    {
     "data": {
      "text/plain": [
       "array([[0.15266373, 0.30235661, 0.06203641, 0.45986034, 0.83525338],\n",
       "       [0.92699705, 0.72698898, 0.76849622, 0.26920507, 0.64402929],\n",
       "       [0.09337326, 0.07968589, 0.58961375, 0.34334054, 0.98887615],\n",
       "       [0.62647321, 0.68177928, 0.55225681, 0.26886006, 0.37325939],\n",
       "       [0.2229281 , 0.1864426 , 0.39064809, 0.19316241, 0.61091093]])"
      ]
     },
     "execution_count": 11,
     "metadata": {},
     "output_type": "execute_result"
    }
   ],
   "source": [
    "P = invertible_matrix()\n",
    "P"
   ]
  },
  {
   "cell_type": "code",
   "execution_count": 12,
   "metadata": {},
   "outputs": [],
   "source": [
    "XP = X @ P"
   ]
  },
  {
   "cell_type": "markdown",
   "metadata": {},
   "source": [
    "Теперь найдем предсказания для исходных данных, и для зашифрованных."
   ]
  },
  {
   "cell_type": "code",
   "execution_count": 13,
   "metadata": {},
   "outputs": [],
   "source": [
    "W = (np.linalg.inv(X.T.dot(X))).dot(X.T).dot(y)\n",
    "WP = (np.linalg.inv(XP.T.dot(XP))).dot(XP.T).dot(y)"
   ]
  },
  {
   "cell_type": "code",
   "execution_count": 14,
   "metadata": {},
   "outputs": [],
   "source": [
    "A = X.dot(W)\n",
    "AP = XP.dot(WP)"
   ]
  },
  {
   "cell_type": "code",
   "execution_count": 15,
   "metadata": {},
   "outputs": [
    {
     "name": "stdout",
     "output_type": "stream",
     "text": [
      "[ 0.51932881  0.69230097  0.09412742 ... -0.26164511 -0.19394186\n",
      "  0.05044763]\n",
      "[ 0.51933632  0.69230138  0.09412943 ... -0.26164782 -0.19394085\n",
      "  0.05045453]\n"
     ]
    }
   ],
   "source": [
    "print (A)\n",
    "print (AP)"
   ]
  },
  {
   "cell_type": "code",
   "execution_count": 16,
   "metadata": {},
   "outputs": [
    {
     "name": "stdout",
     "output_type": "stream",
     "text": [
      "R2_score для исходной матрицы =  0.4302010044852068\n",
      "R2_score для зашифрованной матрицы =  0.43020100435102515\n"
     ]
    }
   ],
   "source": [
    "print(\"R2_score для исходной матрицы = \",r2_score(y,A))\n",
    "print(\"R2_score для зашифрованной матрицы = \",r2_score(y,AP))"
   ]
  },
  {
   "cell_type": "markdown",
   "metadata": {},
   "source": [
    "Предсказания отличаются друг от друга незначительно (от 1 * 10^(-5))."
   ]
  },
  {
   "cell_type": "markdown",
   "metadata": {},
   "source": [
    "Теперь проверим это на линейной регрессии из sklearn."
   ]
  },
  {
   "cell_type": "code",
   "execution_count": 17,
   "metadata": {},
   "outputs": [
    {
     "name": "stdout",
     "output_type": "stream",
     "text": [
      "R2_score для исходной матрицы =  0.4302010044852068\n"
     ]
    }
   ],
   "source": [
    "model = LinearRegression(fit_intercept=False)\n",
    "model.fit(X,y)\n",
    "predict = model.predict(X)\n",
    "print(\"R2_score для исходной матрицы = \",r2_score(y,predict))"
   ]
  },
  {
   "cell_type": "code",
   "execution_count": 18,
   "metadata": {},
   "outputs": [
    {
     "name": "stdout",
     "output_type": "stream",
     "text": [
      "R2_score для зашифрованной матрицы =  0.430201004485092\n"
     ]
    }
   ],
   "source": [
    "model = LinearRegression(fit_intercept=False)\n",
    "model.fit(XP,y)\n",
    "predict = model.predict(XP)\n",
    "print(\"R2_score для зашифрованной матрицы = \",r2_score(y,predict))"
   ]
  },
  {
   "cell_type": "markdown",
   "metadata": {},
   "source": [
    "Метрики также отличаются друг от друга минимально."
   ]
  },
  {
   "cell_type": "code",
   "execution_count": null,
   "metadata": {},
   "outputs": [],
   "source": []
  }
 ],
 "metadata": {
  "ExecuteTimeLog": [
   {
    "duration": 1539,
    "start_time": "2022-07-22T15:21:42.744Z"
   },
   {
    "duration": 90,
    "start_time": "2022-07-22T15:22:13.404Z"
   },
   {
    "duration": 13,
    "start_time": "2022-07-22T15:22:56.206Z"
   },
   {
    "duration": 15,
    "start_time": "2022-07-22T15:23:08.010Z"
   },
   {
    "duration": 28,
    "start_time": "2022-07-22T15:23:18.500Z"
   },
   {
    "duration": 105,
    "start_time": "2022-07-22T15:32:20.564Z"
   },
   {
    "duration": 15,
    "start_time": "2022-07-22T15:33:02.935Z"
   },
   {
    "duration": 62,
    "start_time": "2022-07-26T11:25:07.222Z"
   },
   {
    "duration": 1459,
    "start_time": "2022-07-26T11:25:12.607Z"
   },
   {
    "duration": 74,
    "start_time": "2022-07-26T11:25:14.068Z"
   },
   {
    "duration": 13,
    "start_time": "2022-07-26T11:25:14.143Z"
   },
   {
    "duration": 14,
    "start_time": "2022-07-26T11:25:14.158Z"
   },
   {
    "duration": 32,
    "start_time": "2022-07-26T11:25:14.174Z"
   },
   {
    "duration": 12,
    "start_time": "2022-07-26T11:25:14.208Z"
   },
   {
    "duration": 3,
    "start_time": "2022-07-26T11:25:14.222Z"
   },
   {
    "duration": 3,
    "start_time": "2022-07-26T11:25:36.889Z"
   },
   {
    "duration": 5,
    "start_time": "2022-07-26T11:27:00.128Z"
   },
   {
    "duration": 68,
    "start_time": "2022-07-26T11:49:21.924Z"
   },
   {
    "duration": 50,
    "start_time": "2022-07-26T11:49:33.967Z"
   },
   {
    "duration": 82,
    "start_time": "2022-07-26T11:49:40.615Z"
   },
   {
    "duration": 45,
    "start_time": "2022-07-26T11:50:27.986Z"
   },
   {
    "duration": 45,
    "start_time": "2022-07-26T11:50:53.227Z"
   },
   {
    "duration": 52,
    "start_time": "2022-07-26T11:51:01.075Z"
   },
   {
    "duration": 1369,
    "start_time": "2022-07-26T11:51:18.233Z"
   },
   {
    "duration": 30,
    "start_time": "2022-07-26T11:51:19.604Z"
   },
   {
    "duration": 12,
    "start_time": "2022-07-26T11:51:19.635Z"
   },
   {
    "duration": 15,
    "start_time": "2022-07-26T11:51:19.649Z"
   },
   {
    "duration": 22,
    "start_time": "2022-07-26T11:51:19.665Z"
   },
   {
    "duration": 10,
    "start_time": "2022-07-26T11:51:19.689Z"
   },
   {
    "duration": 4,
    "start_time": "2022-07-26T11:51:19.702Z"
   },
   {
    "duration": 29,
    "start_time": "2022-07-26T11:51:19.707Z"
   },
   {
    "duration": 8,
    "start_time": "2022-07-26T11:51:19.738Z"
   },
   {
    "duration": 49,
    "start_time": "2022-07-26T11:51:19.748Z"
   },
   {
    "duration": 1295,
    "start_time": "2022-07-26T11:51:51.990Z"
   },
   {
    "duration": 29,
    "start_time": "2022-07-26T11:51:53.286Z"
   },
   {
    "duration": 12,
    "start_time": "2022-07-26T11:51:53.317Z"
   },
   {
    "duration": 16,
    "start_time": "2022-07-26T11:51:53.330Z"
   },
   {
    "duration": 23,
    "start_time": "2022-07-26T11:51:53.347Z"
   },
   {
    "duration": 12,
    "start_time": "2022-07-26T11:51:53.371Z"
   },
   {
    "duration": 32,
    "start_time": "2022-07-26T11:51:53.385Z"
   },
   {
    "duration": 6,
    "start_time": "2022-07-26T11:51:53.419Z"
   },
   {
    "duration": 8,
    "start_time": "2022-07-26T11:51:53.427Z"
   },
   {
    "duration": 55,
    "start_time": "2022-07-26T11:51:53.437Z"
   },
   {
    "duration": 3,
    "start_time": "2022-07-26T11:53:51.654Z"
   },
   {
    "duration": 62,
    "start_time": "2022-07-26T11:54:17.886Z"
   },
   {
    "duration": 62,
    "start_time": "2022-07-26T11:54:27.840Z"
   },
   {
    "duration": 4,
    "start_time": "2022-07-26T11:55:09.718Z"
   },
   {
    "duration": 4,
    "start_time": "2022-07-26T11:55:37.335Z"
   },
   {
    "duration": 4,
    "start_time": "2022-07-26T11:55:43.798Z"
   },
   {
    "duration": 5,
    "start_time": "2022-07-26T11:56:32.358Z"
   },
   {
    "duration": 4,
    "start_time": "2022-07-26T11:57:03.429Z"
   },
   {
    "duration": 4,
    "start_time": "2022-07-26T11:58:04.270Z"
   },
   {
    "duration": 4,
    "start_time": "2022-07-26T11:58:06.448Z"
   },
   {
    "duration": 7,
    "start_time": "2022-07-26T11:58:28.042Z"
   },
   {
    "duration": 3,
    "start_time": "2022-07-26T12:00:12.544Z"
   },
   {
    "duration": 4,
    "start_time": "2022-07-26T12:05:07.871Z"
   },
   {
    "duration": 9,
    "start_time": "2022-07-26T12:06:34.998Z"
   },
   {
    "duration": 3,
    "start_time": "2022-07-26T12:06:55.026Z"
   },
   {
    "duration": 109,
    "start_time": "2022-07-26T12:11:44.922Z"
   },
   {
    "duration": 4,
    "start_time": "2022-07-26T12:12:20.323Z"
   },
   {
    "duration": 13,
    "start_time": "2022-07-26T12:12:26.841Z"
   },
   {
    "duration": 3,
    "start_time": "2022-07-26T12:12:55.681Z"
   },
   {
    "duration": 6,
    "start_time": "2022-07-26T12:13:01.859Z"
   },
   {
    "duration": 7,
    "start_time": "2022-07-26T12:13:33.909Z"
   },
   {
    "duration": 6,
    "start_time": "2022-07-26T12:14:59.561Z"
   },
   {
    "duration": 1063,
    "start_time": "2022-07-28T13:27:27.425Z"
   },
   {
    "duration": 94,
    "start_time": "2022-07-28T13:27:28.489Z"
   },
   {
    "duration": 11,
    "start_time": "2022-07-28T13:27:28.584Z"
   },
   {
    "duration": 20,
    "start_time": "2022-07-28T13:27:28.596Z"
   },
   {
    "duration": 26,
    "start_time": "2022-07-28T13:27:28.617Z"
   },
   {
    "duration": 11,
    "start_time": "2022-07-28T13:27:28.645Z"
   },
   {
    "duration": 3,
    "start_time": "2022-07-28T13:27:28.658Z"
   },
   {
    "duration": 5,
    "start_time": "2022-07-28T13:27:28.663Z"
   },
   {
    "duration": 47,
    "start_time": "2022-07-28T13:27:28.670Z"
   },
   {
    "duration": 4,
    "start_time": "2022-07-28T13:27:28.719Z"
   },
   {
    "duration": 95,
    "start_time": "2022-07-28T13:27:28.724Z"
   },
   {
    "duration": 0,
    "start_time": "2022-07-28T13:27:28.821Z"
   },
   {
    "duration": 0,
    "start_time": "2022-07-28T13:27:28.822Z"
   },
   {
    "duration": 0,
    "start_time": "2022-07-28T13:27:28.823Z"
   },
   {
    "duration": 0,
    "start_time": "2022-07-28T13:27:28.824Z"
   },
   {
    "duration": 0,
    "start_time": "2022-07-28T13:27:28.825Z"
   },
   {
    "duration": 0,
    "start_time": "2022-07-28T13:27:28.826Z"
   },
   {
    "duration": 0,
    "start_time": "2022-07-28T13:27:28.827Z"
   },
   {
    "duration": 4,
    "start_time": "2022-07-28T13:29:41.257Z"
   },
   {
    "duration": 18,
    "start_time": "2022-07-28T13:29:50.395Z"
   },
   {
    "duration": 5,
    "start_time": "2022-07-28T13:30:33.514Z"
   },
   {
    "duration": 11,
    "start_time": "2022-07-28T13:30:36.636Z"
   },
   {
    "duration": 15,
    "start_time": "2022-07-28T13:30:36.700Z"
   },
   {
    "duration": 4,
    "start_time": "2022-07-28T13:48:09.130Z"
   },
   {
    "duration": 5,
    "start_time": "2022-07-28T13:48:09.472Z"
   },
   {
    "duration": 2,
    "start_time": "2022-07-28T13:48:16.832Z"
   },
   {
    "duration": 88,
    "start_time": "2022-07-28T13:50:36.198Z"
   },
   {
    "duration": 5,
    "start_time": "2022-07-28T13:50:39.793Z"
   },
   {
    "duration": 7,
    "start_time": "2022-07-28T13:50:39.903Z"
   },
   {
    "duration": 4,
    "start_time": "2022-07-28T13:51:55.360Z"
   },
   {
    "duration": 3,
    "start_time": "2022-07-28T13:51:55.767Z"
   },
   {
    "duration": 4,
    "start_time": "2022-07-28T13:51:55.912Z"
   },
   {
    "duration": 6,
    "start_time": "2022-07-28T13:51:56.214Z"
   },
   {
    "duration": 7,
    "start_time": "2022-07-28T13:52:01.587Z"
   },
   {
    "duration": 10,
    "start_time": "2022-07-28T13:52:22.851Z"
   },
   {
    "duration": 6,
    "start_time": "2022-07-28T13:52:25.677Z"
   },
   {
    "duration": 1140,
    "start_time": "2022-07-28T20:21:31.752Z"
   },
   {
    "duration": 73,
    "start_time": "2022-07-28T20:21:32.894Z"
   },
   {
    "duration": 12,
    "start_time": "2022-07-28T20:21:32.971Z"
   },
   {
    "duration": 21,
    "start_time": "2022-07-28T20:21:32.985Z"
   },
   {
    "duration": 36,
    "start_time": "2022-07-28T20:21:33.007Z"
   },
   {
    "duration": 13,
    "start_time": "2022-07-28T20:21:33.045Z"
   },
   {
    "duration": 4,
    "start_time": "2022-07-28T20:21:33.060Z"
   },
   {
    "duration": 7,
    "start_time": "2022-07-28T20:21:33.066Z"
   },
   {
    "duration": 8,
    "start_time": "2022-07-28T20:21:33.076Z"
   },
   {
    "duration": 12,
    "start_time": "2022-07-28T20:21:33.085Z"
   },
   {
    "duration": 38,
    "start_time": "2022-07-28T20:21:33.098Z"
   },
   {
    "duration": 90,
    "start_time": "2022-07-28T20:21:33.139Z"
   },
   {
    "duration": 95,
    "start_time": "2022-07-28T20:21:33.231Z"
   },
   {
    "duration": 96,
    "start_time": "2022-07-28T20:21:33.329Z"
   },
   {
    "duration": 97,
    "start_time": "2022-07-28T20:21:33.431Z"
   },
   {
    "duration": 98,
    "start_time": "2022-07-28T20:21:33.530Z"
   },
   {
    "duration": 10,
    "start_time": "2022-07-28T20:21:33.630Z"
   },
   {
    "duration": 195,
    "start_time": "2022-07-28T20:21:33.642Z"
   }
  ],
  "kernelspec": {
   "display_name": "Python 3",
   "language": "python",
   "name": "python3"
  },
  "language_info": {
   "codemirror_mode": {
    "name": "ipython",
    "version": 3
   },
   "file_extension": ".py",
   "mimetype": "text/x-python",
   "name": "python",
   "nbconvert_exporter": "python",
   "pygments_lexer": "ipython3",
   "version": "3.8.8"
  },
  "toc": {
   "base_numbering": 1,
   "nav_menu": {},
   "number_sections": true,
   "sideBar": true,
   "skip_h1_title": true,
   "title_cell": "Содержание",
   "title_sidebar": "Contents",
   "toc_cell": true,
   "toc_position": {},
   "toc_section_display": true,
   "toc_window_display": true
  }
 },
 "nbformat": 4,
 "nbformat_minor": 2
}
