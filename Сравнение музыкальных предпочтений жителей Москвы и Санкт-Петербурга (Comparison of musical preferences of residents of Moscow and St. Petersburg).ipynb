{
 "cells": [
  {
   "cell_type": "markdown",
   "metadata": {
    "id": "E0vqbgi9ay0H"
   },
   "source": [
    "# Сравнение музыкальных предпочтений жителей Москвы и Санкт-Петербурга"
   ]
  },
  {
   "cell_type": "markdown",
   "metadata": {
    "id": "VUC88oWjTJw2"
   },
   "source": [
    "На данных Яндекс.Музыки сравним поведение пользователей двух столиц.\n",
    "\n",
    "**Цель исследования** — проверить гипотезы:\n",
    "1. Активность пользователей зависит от дня недели. Причём в Москве и Петербурге это проявляется по-разному.\n",
    "2. В понедельник утром в Москве преобладают одни жанры, а в Петербурге — другие. Так же и вечером пятницы преобладают разные жанры — в зависимости от города. \n",
    "3. Москва и Петербург предпочитают разные жанры музыки. В Москве чаще слушают поп-музыку, в Петербурге — русский рэп.\n",
    "\n",
    "**Ход исследования**\n",
    "\n",
    "Исследование пройдёт в три этапа:\n",
    " 1. Обзор данных.\n",
    " 2. Предобработка данных.\n",
    " 3. Проверка гипотез.\n",
    " \n",
    "\n"
   ]
  },
  {
   "cell_type": "markdown",
   "metadata": {
    "id": "Ml1hmfXC_Zcs"
   },
   "source": [
    "## Обзор данных\n",
    "\n"
   ]
  },
  {
   "cell_type": "markdown",
   "metadata": {
    "id": "57eAOGIz_Zcs"
   },
   "source": [
    "Импортируем необходимую для работы библиотеку."
   ]
  },
  {
   "cell_type": "code",
   "execution_count": null,
   "metadata": {
    "id": "AXN7PHPN_Zcs"
   },
   "outputs": [],
   "source": [
    "import pandas as pd "
   ]
  },
  {
   "cell_type": "markdown",
   "metadata": {
    "id": "SG23P8tt_Zcs"
   },
   "source": [
    "Прочтем файл `yandex_music_project.csv` и сохраним его в переменной `df`:"
   ]
  },
  {
   "cell_type": "code",
   "execution_count": null,
   "metadata": {
    "id": "fFVu7vqh_Zct"
   },
   "outputs": [],
   "source": [
    "df = pd.read_csv ('/datasets/yandex_music_project.csv') "
   ]
  },
  {
   "cell_type": "markdown",
   "metadata": {
    "id": "rDoOMd3uTqnZ"
   },
   "source": [
    "Выведем на экран первые десять строк таблицы:"
   ]
  },
  {
   "cell_type": "code",
   "execution_count": null,
   "metadata": {
    "id": "oWTVX3gW_Zct",
    "scrolled": true
   },
   "outputs": [],
   "source": [
    "display (df.head(10)) "
   ]
  },
  {
   "cell_type": "markdown",
   "metadata": {
    "id": "EO73Kwic_Zct"
   },
   "source": [
    "Просмотрим общую информацию о таблице:"
   ]
  },
  {
   "cell_type": "code",
   "execution_count": null,
   "metadata": {
    "id": "DSf2kIb-_Zct"
   },
   "outputs": [],
   "source": [
    "display (df.info()) "
   ]
  },
  {
   "cell_type": "markdown",
   "metadata": {
    "id": "TaQ2Iwbr_Zct"
   },
   "source": [
    "В таблице семь столбцов. Тип данных во всех столбцах — `object`.\n",
    "\n",
    "Согласно документации к данным:\n",
    "* `userID` — идентификатор пользователя;\n",
    "* `Track` — название трека;  \n",
    "* `artist` — имя исполнителя;\n",
    "* `genre` — название жанра;\n",
    "* `City` — город пользователя;\n",
    "* `time` — время начала прослушивания;\n",
    "* `Day` — день недели.\n",
    "\n",
    "В названиях колонок видны три нарушения стиля:\n",
    "1. Строчные буквы сочетаются с прописными.\n",
    "2. Встречаются пробелы.\n",
    "3. Названия написано слитно, без разделителей.\n",
    "\n",
    "Количество значений в столбцах различается. Значит, в данных есть пропущенные значения."
   ]
  },
  {
   "cell_type": "markdown",
   "metadata": {
    "id": "SjYF6Ub9_Zct"
   },
   "source": [
    "## Предобработка данных"
   ]
  },
  {
   "cell_type": "markdown",
   "metadata": {
    "id": "dIaKXr29_Zct"
   },
   "source": [
    "### Стиль заголовков\n",
    "Просмотрим названия столбцов:"
   ]
  },
  {
   "cell_type": "code",
   "execution_count": null,
   "metadata": {
    "id": "oKOTdF_Q_Zct"
   },
   "outputs": [],
   "source": [
    "df.columns "
   ]
  },
  {
   "cell_type": "markdown",
   "metadata": {
    "id": "MCB6-dXG_Zct"
   },
   "source": [
    "**Выводы**\n",
    "\n",
    "В каждой строке таблицы — данные о прослушанном треке. Часть колонок описывает саму композицию: название, исполнителя и жанр. Остальные данные рассказывают о пользователе: из какого он города, когда он слушал музыку. \n",
    "\n",
    "Предварительно можно утверждать, что, данных достаточно для проверки гипотез. Но встречаются пропуски в данных, а в названиях колонок — расхождения с хорошим стилем.\n",
    "\n",
    "Чтобы двигаться дальше, нужно устранить проблемы в данных."
   ]
  },
  {
   "cell_type": "code",
   "execution_count": null,
   "metadata": {
    "id": "ISlFqs5y_Zct"
   },
   "outputs": [],
   "source": [
    "df = df.rename(\n",
    "    columns={\n",
    "        '  userID' : 'user_id',\n",
    "        'Track' : 'track',\n",
    "        '  City  ' : 'city',\n",
    "        'Day' : 'day',\n",
    "    }\n",
    ") "
   ]
  },
  {
   "cell_type": "markdown",
   "metadata": {
    "id": "1dqbh00J_Zct"
   },
   "source": [
    "Проверим результат."
   ]
  },
  {
   "cell_type": "code",
   "execution_count": null,
   "metadata": {
    "id": "d4NOAmTW_Zct"
   },
   "outputs": [],
   "source": [
    "df.columns "
   ]
  },
  {
   "cell_type": "markdown",
   "metadata": {
    "id": "5ISfbcfY_Zct"
   },
   "source": [
    "### Пропуски значений\n",
    "Посчитаем, сколько в таблице пропущенных значений. "
   ]
  },
  {
   "cell_type": "code",
   "execution_count": null,
   "metadata": {
    "id": "RskX29qr_Zct"
   },
   "outputs": [],
   "source": [
    "df.isna().sum() "
   ]
  },
  {
   "cell_type": "markdown",
   "metadata": {
    "id": "qubhgnlO_Zct"
   },
   "source": [
    "Не все пропущенные значения влияют на исследование. В `track` и `artist` пропуски не важны для работы. Достаточно заменить их явными обозначениями.\n",
    "\n",
    "Но пропуски в `genre` могут помешать сравнению музыкальных вкусов в Москве и Санкт-Петербурге. На практике было бы правильно установить причину пропусков и восстановить данные. Такой возможности нет в учебном проекте. Придётся:\n",
    "* заполнить и эти пропуски явными обозначениями,\n",
    "* оценить, насколько они повредят расчётам. "
   ]
  },
  {
   "cell_type": "markdown",
   "metadata": {
    "id": "fSv2laPA_Zct"
   },
   "source": [
    "Заменим пропущенные значения в столбцах `track`, `artist` и `genre` на строку `'unknown'`. Для этого создадим список `columns_to_replace`, переберем его элементы циклом `for` и для каждого столбца выполним замену пропущенных значений:"
   ]
  },
  {
   "cell_type": "code",
   "execution_count": null,
   "metadata": {
    "id": "KplB5qWs_Zct"
   },
   "outputs": [],
   "source": [
    "columns_to_replace = ['track', 'artist', 'genre'] \n",
    "for column in columns_to_replace:\n",
    "    df[column] = df[column].fillna('unknown') \""
   ]
  },
  {
   "cell_type": "markdown",
   "metadata": {
    "id": "Ilsm-MZo_Zct"
   },
   "source": [
    "Убедимся, что в таблице не осталось пропусков."
   ]
  },
  {
   "cell_type": "code",
   "execution_count": null,
   "metadata": {
    "id": "Tq4nYRX4_Zct",
    "scrolled": true
   },
   "outputs": [],
   "source": [
    "df.isna().sum() "
   ]
  },
  {
   "cell_type": "markdown",
   "metadata": {
    "id": "BWKRtBJ3_Zct"
   },
   "source": [
    "### Дубликаты\n",
    "Посчитаем явные дубликаты в таблице:"
   ]
  },
  {
   "cell_type": "code",
   "execution_count": null,
   "metadata": {
    "id": "36eES_S0_Zct"
   },
   "outputs": [],
   "source": [
    "df.duplicated().sum()"
   ]
  },
  {
   "cell_type": "markdown",
   "metadata": {
    "id": "Ot25h6XR_Zct"
   },
   "source": [
    "Удалим явные дубликаты:"
   ]
  },
  {
   "cell_type": "code",
   "execution_count": null,
   "metadata": {
    "id": "exFHq6tt_Zct"
   },
   "outputs": [],
   "source": [
    "df = df.drop_duplicates().reset_index(drop=True)е было пропусков в индексах"
   ]
  },
  {
   "cell_type": "markdown",
   "metadata": {
    "id": "Im2YwBEG_Zct"
   },
   "source": [
    "Убедимся, что избавились от дубликатов:"
   ]
  },
  {
   "cell_type": "code",
   "execution_count": null,
   "metadata": {
    "id": "-8PuNWQ0_Zct"
   },
   "outputs": [],
   "source": [
    "df.duplicated().sum() "
   ]
  },
  {
   "cell_type": "markdown",
   "metadata": {
    "id": "QlFBsxAr_Zct"
   },
   "source": [
    "Теперь избавимся от неявных дубликатов в колонке `genre`."
   ]
  },
  {
   "cell_type": "code",
   "execution_count": null,
   "metadata": {
    "id": "JIUcqzZN_Zct",
    "scrolled": true
   },
   "outputs": [],
   "source": [
    "df['genre'].sort_values().unique() # с помощью метода unique() выполняю проверку на неявные дубликаты"
   ]
  },
  {
   "cell_type": "code",
   "execution_count": null,
   "metadata": {
    "id": "ErNDkmns_Zct"
   },
   "outputs": [],
   "source": [
    "def replace_wrong_genres(wrong_genres, correct_genre): # создаю функцию по замене неявных дубликатов\n",
    "    for genre in wrong_genres: \n",
    "        df['genre'] = df['genre'].replace(genre, correct_genre)"
   ]
  },
  {
   "cell_type": "code",
   "execution_count": null,
   "metadata": {
    "id": "YN5i2hpmSo09"
   },
   "outputs": [],
   "source": [
    "wrong_genres = ['hip', 'hop', 'hip-hop'] \n",
    "replace_wrong_genres(wrong_genres, 'hiphop') "
   ]
  },
  {
   "cell_type": "markdown",
   "metadata": {
    "id": "zQKF16_RG15m"
   },
   "source": [
    "Проверим, что заменили неправильные названия:"
   ]
  },
  {
   "cell_type": "code",
   "execution_count": null,
   "metadata": {
    "id": "wvixALnFG15m",
    "scrolled": true
   },
   "outputs": [],
   "source": [
    "df['genre'].sort_values().unique()"
   ]
  },
  {
   "cell_type": "markdown",
   "metadata": {
    "id": "jz6a9-7HQUDd"
   },
   "source": [
    "**Выводы**\n",
    "\n",
    "Предобработка обнаружила три проблемы в данных:\n",
    "\n",
    "- нарушения в стиле заголовков,\n",
    "- пропущенные значения,\n",
    "- дубликаты — явные и неявные.\n",
    "\n",
    "Были исправлены заголовки, чтобы упростить работу с таблицей, удалены дубликаты.\n",
    "\n",
    "Пропущенные значения вы заменили на `'unknown'`.\n",
    "\n",
    "Теперь можно перейти к проверке гипотез. "
   ]
  },
  {
   "cell_type": "markdown",
   "metadata": {
    "id": "WttZHXH0SqKk"
   },
   "source": [
    "## Проверка гипотез"
   ]
  },
  {
   "cell_type": "markdown",
   "metadata": {
    "id": "Im936VVi_Zcu"
   },
   "source": [
    "### Сравнение поведения пользователей двух столиц"
   ]
  },
  {
   "cell_type": "markdown",
   "metadata": {
    "id": "nwt_MuaL_Zcu"
   },
   "source": [
    "Первая гипотеза утверждает, что пользователи по-разному слушают музыку в Москве и Санкт-Петербурге. Проверим это предположение по данным о трёх днях недели — понедельнике, среде и пятнице. Для этого:\n",
    "\n",
    "* Разделим пользователей Москвы и Санкт-Петербурга\n",
    "* Сравним, сколько треков послушала каждая группа пользователей в понедельник, среду и пятницу.\n"
   ]
  },
  {
   "cell_type": "markdown",
   "metadata": {
    "id": "8Dw_YMmT_Zcu"
   },
   "source": [
    "Оценим активность пользователей в каждом городе. Сгруппируем данные по городу и посчитаем прослушивания в каждой группе."
   ]
  },
  {
   "cell_type": "code",
   "execution_count": null,
   "metadata": {
    "id": "0_Qs96oh_Zcu",
    "scrolled": true
   },
   "outputs": [],
   "source": [
    "df.groupby('city')['track'].count()"
   ]
  },
  {
   "cell_type": "markdown",
   "metadata": {
    "id": "dzli3w8o_Zcu"
   },
   "source": [
    "В Москве прослушиваний больше, чем в Петербурге. Из этого не следует, что московские пользователи чаще слушают музыку. Просто самих пользователей в Москве больше.\n",
    "\n",
    "Теперь сгруппируем данные по дню недели и подсчитаем прослушивания в понедельник, среду и пятницу."
   ]
  },
  {
   "cell_type": "code",
   "execution_count": null,
   "metadata": {
    "id": "uZMKjiJz_Zcu",
    "scrolled": true
   },
   "outputs": [],
   "source": [
    "df.groupby('day')['track'].count() "
   ]
  },
  {
   "cell_type": "markdown",
   "metadata": {
    "id": "cC2tNrlL_Zcu"
   },
   "source": [
    "В среднем пользователи из двух городов менее активны по средам."
   ]
  },
  {
   "cell_type": "markdown",
   "metadata": {
    "id": "POzs8bGa_Zcu"
   },
   "source": [
    "Теперь напишем функцию `number_tracks()`, которая посчитает прослушивания для заданного дня и города. Ей понадобятся два параметра:\n",
    "* день недели,\n",
    "* название города."
   ]
  },
  {
   "cell_type": "code",
   "execution_count": null,
   "metadata": {
    "id": "Nz3GdQB1_Zcu"
   },
   "outputs": [],
   "source": [
    "def number_tracks(day, city): # создаю функцию, которая с помощью логической индексации и метода count() подсчитывает количество прослушиваний в зависимости от города и дня недели\n",
    "    track_list = df[df['day'] == day]\n",
    "    track_list = track_list[track_list['city'] == city]\n",
    "    track_list_count = track_list['user_id'].count ()\n",
    "    return track_list_count"
   ]
  },
  {
   "cell_type": "markdown",
   "metadata": {
    "id": "ytf7xFrFJQ2r"
   },
   "source": [
    "Вызовем `number_tracks()`, меняя значение параметров, чтобы получить данные для каждого города в каждый из трёх дней."
   ]
  },
  {
   "cell_type": "code",
   "execution_count": null,
   "metadata": {
    "id": "rJcRATNQ_Zcu"
   },
   "outputs": [],
   "source": [
    "number_tracks('Monday', 'Moscow') #с помощью функции считаю количество прослушиваний в Москве по понедельникам"
   ]
  },
  {
   "cell_type": "code",
   "execution_count": null,
   "metadata": {
    "id": "hq_ncZ5T_Zcu"
   },
   "outputs": [],
   "source": [
    "number_tracks('Monday', 'Saint-Petersburg') # с помощью функции считаю количество прослушиваний в Санкт-Петербурге по понедельникам"
   ]
  },
  {
   "cell_type": "code",
   "execution_count": null,
   "metadata": {
    "id": "_NTy2VPU_Zcu"
   },
   "outputs": [],
   "source": [
    "number_tracks('Wednesday', 'Moscow') # с помощью функции считаю количество прослушиваний в Москве по средам"
   ]
  },
  {
   "cell_type": "code",
   "execution_count": null,
   "metadata": {
    "id": "j2y3TAwo_Zcu"
   },
   "outputs": [],
   "source": [
    "number_tracks('Wednesday', 'Saint-Petersburg') # с помощью функции считаю количество прослушиваний в Санкт-Петербурге по средам"
   ]
  },
  {
   "cell_type": "code",
   "execution_count": null,
   "metadata": {
    "id": "vYDw5u_K_Zcu"
   },
   "outputs": [],
   "source": [
    "number_tracks('Friday', 'Moscow') # с помощью функции считаю количество прослушиваний в Москве по пятницам "
   ]
  },
  {
   "cell_type": "code",
   "execution_count": null,
   "metadata": {
    "id": "8_yzFtW3_Zcu"
   },
   "outputs": [],
   "source": [
    "number_tracks('Friday', 'Saint-Petersburg') # с помощью функции считаю количество прослушиваний в Санкт-Петербурге по пятницам"
   ]
  },
  {
   "cell_type": "markdown",
   "metadata": {},
   "source": [
    "<div class=\"alert alert-block alert-success\">\n",
    "<b>✔️ Комментарий ревьюера:</b> Всё работает и считает верно!\n",
    "    </div>"
   ]
  },
  {
   "cell_type": "markdown",
   "metadata": {
    "id": "7QXffbO-_Zcu"
   },
   "source": [
    "Создадим таблицу, где\n",
    "* названия колонок — `['city', 'monday', 'wednesday', 'friday']`;\n",
    "* данные — результаты, которые вы получили с помощью `number_tracks`."
   ]
  },
  {
   "cell_type": "code",
   "execution_count": null,
   "metadata": {
    "id": "APAcLpOr_Zcu"
   },
   "outputs": [],
   "source": [
    "columns = ['city', 'monday', 'wednesday', 'friday'] \n",
    "data = [['Moscow', 15740, 11056, 15945], \n",
    "        ['Saint-Petersburg', 5614, 7003, 5895]] \n",
    "pd.DataFrame (data=data, columns=columns) "
   ]
  },
  {
   "cell_type": "markdown",
   "metadata": {
    "id": "-EgPIHYu_Zcu"
   },
   "source": [
    "**Выводы**\n",
    "\n",
    "Данные показывают разницу поведения пользователей:\n",
    "\n",
    "- В Москве пик прослушиваний приходится на понедельник и пятницу, а в среду заметен спад.\n",
    "- В Петербурге, наоборот, больше слушают музыку по средам. Активность в понедельник и пятницу здесь почти в равной мере уступает среде.\n",
    "\n",
    "Значит, данные говорят в пользу первой гипотезы."
   ]
  },
  {
   "cell_type": "markdown",
   "metadata": {
    "id": "atZAxtq4_Zcu"
   },
   "source": [
    "### Музыка в начале и в конце недели"
   ]
  },
  {
   "cell_type": "markdown",
   "metadata": {
    "id": "eXrQqXFH_Zcu"
   },
   "source": [
    "Согласно второй гипотезе, утром в понедельник в Москве преобладают одни жанры, а в Петербурге — другие. Так же и вечером пятницы преобладают разные жанры — в зависимости от города."
   ]
  },
  {
   "cell_type": "markdown",
   "metadata": {
    "id": "S8UcW6Hw_Zcu"
   },
   "source": [
    "Сохраним таблицы с данными в две переменные:\n",
    "* по Москве — в `moscow_general`;\n",
    "* по Санкт-Петербургу — в `spb_general`."
   ]
  },
  {
   "cell_type": "code",
   "execution_count": null,
   "metadata": {
    "id": "qeaFfM_P_Zcu"
   },
   "outputs": [],
   "source": [
    "moscow_general = df[df['city'] == 'Moscow'] "
   ]
  },
  {
   "cell_type": "code",
   "execution_count": null,
   "metadata": {
    "id": "ORaVRKto_Zcu"
   },
   "outputs": [],
   "source": [
    "spb_general = df[df['city'] == 'Saint-Petersburg']"
   ]
  },
  {
   "cell_type": "markdown",
   "metadata": {
    "id": "MEJV-CX2_Zcu"
   },
   "source": [
    "Создадим функцию `genre_weekday()` с четырьмя параметрами:\n",
    "* таблица (датафрейм) с данными,\n",
    "* день недели,\n",
    "* начальная временная метка в формате 'hh:mm', \n",
    "* последняя временная метка в формате 'hh:mm'.\n",
    "\n",
    "Функция должна вернуть информацию о топ-10 жанров тех треков, которые прослушивали в указанный день, в промежутке между двумя отметками времени."
   ]
  },
  {
   "cell_type": "code",
   "execution_count": null,
   "metadata": {
    "id": "laJT9BYl_Zcu"
   },
   "outputs": [],
   "source": [
    "def genre_weekday (table, day, time1, time2): # создаю функцию, которая считает для заданного временного промежутка топ-10 популярных жанров\n",
    "    \n",
    "    genre_df = table[table['day'] == day]\n",
    "    genre_df = genre_df[genre_df['time'] > time1]\n",
    "    genre_df = genre_df[genre_df['time'] < time2]\n",
    "    genre_df_count = genre_df.groupby('genre')['genre'].count()\n",
    "    genre_df_sorted = genre_df_count.sort_values(ascending=False) \n",
    "    \n",
    "    return genre_df_sorted.head(10) "
   ]
  },
  {
   "cell_type": "markdown",
   "metadata": {
    "id": "la2s2_PF_Zcu"
   },
   "source": [
    "Cравним результаты функции `genre_weekday()` для Москвы и Санкт-Петербурга в понедельник утром (с 7:00 до 11:00) и в пятницу вечером (с 17:00 до 23:00):"
   ]
  },
  {
   "cell_type": "code",
   "execution_count": null,
   "metadata": {
    "id": "yz7itPUQ_Zcu"
   },
   "outputs": [],
   "source": [
    "genre_weekday (moscow_general, 'Monday', '07:00', '11:00') # вызываю функцию для утра понедельника в Москве"
   ]
  },
  {
   "cell_type": "code",
   "execution_count": null,
   "metadata": {
    "id": "kwUcHPdy_Zcu"
   },
   "outputs": [],
   "source": [
    "genre_weekday (spb_general, 'Monday', '07:00', '11:00') # вызываю функцию для утра понедельника в Петербурге"
   ]
  },
  {
   "cell_type": "code",
   "execution_count": null,
   "metadata": {
    "id": "EzXVRE1o_Zcu"
   },
   "outputs": [],
   "source": [
    "genre_weekday (moscow_general, 'Friday', '17:00', '23:00') # вызываю функцию для вечера пятницы в Москве"
   ]
  },
  {
   "cell_type": "code",
   "execution_count": null,
   "metadata": {
    "id": "JZaEKu5v_Zcu",
    "scrolled": true
   },
   "outputs": [],
   "source": [
    "genre_weekday (spb_general, 'Friday', '17:00', '23:00') # вызываю функцию для вечера пятницы в Петербурге"
   ]
  },
  {
   "cell_type": "markdown",
   "metadata": {
    "id": "wrCe4MNX_Zcu"
   },
   "source": [
    "**Выводы**\n",
    "\n",
    "Если сравнить топ-10 жанров в понедельник утром, можно сделать такие выводы:\n",
    "\n",
    "1. В Москве и Петербурге слушают похожую музыку. Единственное отличие — в московский рейтинг вошёл жанр “world”, а в петербургский — джаз и классика.\n",
    "\n",
    "2. В Москве пропущенных значений оказалось так много, что значение `'unknown'` заняло десятое место среди самых популярных жанров. Значит, пропущенные значения занимают существенную долю в данных и угрожают достоверности исследования.\n",
    "\n",
    "Вечер пятницы не меняет эту картину. Некоторые жанры поднимаются немного выше, другие спускаются, но в целом топ-10 остаётся тем же самым.\n",
    "\n",
    "Таким образом, вторая гипотеза подтвердилась лишь частично:\n",
    "* Пользователи слушают похожую музыку в начале недели и в конце.\n",
    "* Разница между Москвой и Петербургом не слишком выражена. В Москве чаще слушают русскую популярную музыку, в Петербурге — джаз.\n",
    "\n",
    "Однако пропуски в данных ставят под сомнение этот результат. В Москве их так много, что рейтинг топ-10 мог бы выглядеть иначе, если бы не утерянные  данные о жанрах."
   ]
  },
  {
   "cell_type": "markdown",
   "metadata": {
    "id": "JolODAqr_Zcu"
   },
   "source": [
    "### Жанровые предпочтения в Москве и Петербурге\n",
    "\n",
    "Гипотеза: Петербург — столица рэпа, музыку этого жанра там слушают чаще, чем в Москве.  А Москва — город контрастов, в котором, тем не менее, преобладает поп-музыка."
   ]
  },
  {
   "cell_type": "markdown",
   "metadata": {
    "id": "DlegSvaT_Zcu"
   },
   "source": [
    "Сгруппируем таблицу `moscow_general` по жанру и посчитаем прослушивания треков каждого жанра методом `count()`. "
   ]
  },
  {
   "cell_type": "code",
   "execution_count": null,
   "metadata": {
    "id": "r19lIPke_Zcu"
   },
   "outputs": [],
   "source": [
    "moscow_genres = moscow_general.groupby('genre')['track'].count().sort_values(ascending=False) "
   ]
  },
  {
   "cell_type": "code",
   "execution_count": null,
   "metadata": {
    "id": "WhCSooF8_Zcv"
   },
   "outputs": [],
   "source": [
    "display (moscow_genres.head(10)) "
   ]
  },
  {
   "cell_type": "markdown",
   "metadata": {
    "id": "cnPG2vnN_Zcv"
   },
   "source": [
    "Теперь повторим то же и для Петербурга."
   ]
  },
  {
   "cell_type": "code",
   "execution_count": null,
   "metadata": {
    "id": "gluLIpE7_Zcv"
   },
   "outputs": [],
   "source": [
    "spb_genres = spb_general.groupby('genre')['track'].count().sort_values(ascending=False) "
   ]
  },
  {
   "cell_type": "code",
   "execution_count": null,
   "metadata": {
    "id": "uaGJHjVU_Zcv",
    "scrolled": true
   },
   "outputs": [],
   "source": [
    "display (spb_genres.head(10)) "
   ]
  },
  {
   "cell_type": "markdown",
   "metadata": {
    "id": "RY51YJYu_Zcv"
   },
   "source": [
    "**Выводы**"
   ]
  },
  {
   "cell_type": "markdown",
   "metadata": {
    "id": "nVhnJEm__Zcv"
   },
   "source": [
    "Гипотеза частично подтвердилась:\n",
    "* Поп-музыка — самый популярный жанр в Москве, как и предполагала гипотеза. Более того, в топ-10 жанров встречается близкий жанр — русская популярная музыка.\n",
    "* Вопреки ожиданиям, рэп одинаково популярен в Москве и Петербурге. \n"
   ]
  },
  {
   "cell_type": "markdown",
   "metadata": {
    "id": "ykKQ0N65_Zcv"
   },
   "source": [
    "## Итоги исследования"
   ]
  },
  {
   "cell_type": "markdown",
   "metadata": {
    "id": "tjUwbHb3_Zcv"
   },
   "source": [
    "Были проверены три гипотезы и установлено:\n",
    "\n",
    "1. День недели по-разному влияет на активность пользователей в Москве и Петербурге. \n",
    "\n",
    "Первая гипотеза полностью подтвердилась.\n",
    "\n",
    "2. Музыкальные предпочтения не сильно меняются в течение недели — будь то Москва или Петербург. Небольшие различия заметны в начале недели, по понедельникам:\n",
    "* в Москве слушают музыку жанра “world”,\n",
    "* в Петербурге — джаз и классику.\n",
    "\n",
    "Таким образом, вторая гипотеза подтвердилась лишь отчасти. Этот результат мог оказаться иным, если бы не пропуски в данных.\n",
    "\n",
    "3. Во вкусах пользователей Москвы и Петербурга больше общего чем различий. Вопреки ожиданиям, предпочтения жанров в Петербурге напоминают московские.\n",
    "\n",
    "Третья гипотеза не подтвердилась. Если различия в предпочтениях и существуют, на основной массе пользователей они незаметны."
   ]
  },
  {
   "cell_type": "code",
   "execution_count": null,
   "metadata": {},
   "outputs": [],
   "source": [
    "# Исследование надёжности заёмщиков\n",
    "\n",
    "## Данные 📁\n",
    "\n",
    "Входные данные от банка — статистика о платёжеспособности клиентов.\n",
    "\n",
    "## Задачи 📝\n",
    "\n",
    "Нужно разобраться, влияет ли семейное положение и количество детей клиента на факт погашения кредита в срок.\n",
    "\n",
    "## Библиотеки 🛠️\n",
    "\n",
    "`Python` `pymystem3` `Pandas` `NumPy`\n",
    "\n",
    "<br>\n",
    "\n",
    "<a href=\"https://colab.research.google.com/github/dsibi/yandex_praktikum_da/blob/main/assess_reliability_of_bank_borrowers/assess_reliability_of_bank_borrowers_ru.ipynb\" target=\"_parent\"><img src=\"https://colab.research.google.com/assets/colab-badge.svg\" alt=\"Open In Colab\"/></a>"
   ]
  }
 ],
 "metadata": {
  "ExecuteTimeLog": [
   {
    "duration": 576,
    "start_time": "2022-03-04T10:23:11.965Z"
   },
   {
    "duration": 96,
    "start_time": "2022-03-04T10:24:06.493Z"
   },
   {
    "duration": 389,
    "start_time": "2022-03-04T10:24:17.059Z"
   },
   {
    "duration": 141,
    "start_time": "2022-03-04T10:25:43.377Z"
   },
   {
    "duration": 15,
    "start_time": "2022-03-04T10:26:12.433Z"
   },
   {
    "duration": 24,
    "start_time": "2022-03-04T10:26:51.735Z"
   },
   {
    "duration": 24,
    "start_time": "2022-03-04T10:27:00.396Z"
   },
   {
    "duration": 240,
    "start_time": "2022-03-04T10:30:42.750Z"
   },
   {
    "duration": 326,
    "start_time": "2022-03-04T10:30:48.534Z"
   },
   {
    "duration": 4,
    "start_time": "2022-03-04T10:31:31.712Z"
   },
   {
    "duration": 19,
    "start_time": "2022-03-04T10:35:02.084Z"
   },
   {
    "duration": 17,
    "start_time": "2022-03-04T10:35:04.322Z"
   },
   {
    "duration": 4,
    "start_time": "2022-03-04T10:35:22.393Z"
   },
   {
    "duration": 32,
    "start_time": "2022-03-04T10:42:13.695Z"
   },
   {
    "duration": 6220,
    "start_time": "2022-03-04T10:48:28.303Z"
   },
   {
    "duration": 3253,
    "start_time": "2022-03-04T10:49:10.698Z"
   },
   {
    "duration": 5313,
    "start_time": "2022-03-04T10:52:05.702Z"
   },
   {
    "duration": 3,
    "start_time": "2022-03-04T10:52:18.746Z"
   },
   {
    "duration": 1637,
    "start_time": "2022-03-04T10:52:18.751Z"
   },
   {
    "duration": 15,
    "start_time": "2022-03-04T10:52:20.390Z"
   },
   {
    "duration": 26,
    "start_time": "2022-03-04T10:52:20.406Z"
   },
   {
    "duration": 4,
    "start_time": "2022-03-04T10:52:20.434Z"
   },
   {
    "duration": 18,
    "start_time": "2022-03-04T10:52:20.439Z"
   },
   {
    "duration": 4,
    "start_time": "2022-03-04T10:52:20.459Z"
   },
   {
    "duration": 48,
    "start_time": "2022-03-04T10:52:20.466Z"
   },
   {
    "duration": 3476,
    "start_time": "2022-03-04T10:52:20.516Z"
   },
   {
    "duration": -688,
    "start_time": "2022-03-04T10:52:24.681Z"
   },
   {
    "duration": -690,
    "start_time": "2022-03-04T10:52:24.684Z"
   },
   {
    "duration": -691,
    "start_time": "2022-03-04T10:52:24.686Z"
   },
   {
    "duration": -692,
    "start_time": "2022-03-04T10:52:24.688Z"
   },
   {
    "duration": -693,
    "start_time": "2022-03-04T10:52:24.690Z"
   },
   {
    "duration": -695,
    "start_time": "2022-03-04T10:52:24.693Z"
   },
   {
    "duration": -697,
    "start_time": "2022-03-04T10:52:24.695Z"
   },
   {
    "duration": -698,
    "start_time": "2022-03-04T10:52:24.697Z"
   },
   {
    "duration": -699,
    "start_time": "2022-03-04T10:52:24.699Z"
   },
   {
    "duration": -700,
    "start_time": "2022-03-04T10:52:24.701Z"
   },
   {
    "duration": -701,
    "start_time": "2022-03-04T10:52:24.703Z"
   },
   {
    "duration": -703,
    "start_time": "2022-03-04T10:52:24.706Z"
   },
   {
    "duration": -705,
    "start_time": "2022-03-04T10:52:24.708Z"
   },
   {
    "duration": -707,
    "start_time": "2022-03-04T10:52:24.711Z"
   },
   {
    "duration": -708,
    "start_time": "2022-03-04T10:52:24.713Z"
   },
   {
    "duration": -710,
    "start_time": "2022-03-04T10:52:24.716Z"
   },
   {
    "duration": -715,
    "start_time": "2022-03-04T10:52:24.722Z"
   },
   {
    "duration": -718,
    "start_time": "2022-03-04T10:52:24.725Z"
   },
   {
    "duration": -719,
    "start_time": "2022-03-04T10:52:24.727Z"
   },
   {
    "duration": -719,
    "start_time": "2022-03-04T10:52:24.729Z"
   },
   {
    "duration": -720,
    "start_time": "2022-03-04T10:52:24.731Z"
   },
   {
    "duration": -722,
    "start_time": "2022-03-04T10:52:24.734Z"
   },
   {
    "duration": -724,
    "start_time": "2022-03-04T10:52:24.736Z"
   },
   {
    "duration": -725,
    "start_time": "2022-03-04T10:52:24.738Z"
   },
   {
    "duration": -726,
    "start_time": "2022-03-04T10:52:24.740Z"
   },
   {
    "duration": -727,
    "start_time": "2022-03-04T10:52:24.742Z"
   },
   {
    "duration": -728,
    "start_time": "2022-03-04T10:52:24.744Z"
   },
   {
    "duration": -729,
    "start_time": "2022-03-04T10:52:24.746Z"
   },
   {
    "duration": -730,
    "start_time": "2022-03-04T10:52:24.748Z"
   },
   {
    "duration": 3385,
    "start_time": "2022-03-04T10:53:29.522Z"
   },
   {
    "duration": 3123,
    "start_time": "2022-03-04T10:56:52.857Z"
   },
   {
    "duration": 3645,
    "start_time": "2022-03-04T10:57:08.801Z"
   },
   {
    "duration": 3231,
    "start_time": "2022-03-04T10:59:44.010Z"
   },
   {
    "duration": 3188,
    "start_time": "2022-03-04T11:04:13.765Z"
   },
   {
    "duration": 4413,
    "start_time": "2022-03-04T11:09:31.086Z"
   },
   {
    "duration": 282,
    "start_time": "2022-03-04T11:12:29.476Z"
   },
   {
    "duration": 302,
    "start_time": "2022-03-04T11:12:32.903Z"
   },
   {
    "duration": 265,
    "start_time": "2022-03-04T11:16:34.139Z"
   },
   {
    "duration": 4,
    "start_time": "2022-03-04T11:16:39.526Z"
   },
   {
    "duration": 253,
    "start_time": "2022-03-04T11:16:47.484Z"
   },
   {
    "duration": 3,
    "start_time": "2022-03-04T11:17:33.664Z"
   },
   {
    "duration": 171,
    "start_time": "2022-03-04T11:17:36.611Z"
   },
   {
    "duration": 13,
    "start_time": "2022-03-04T11:17:39.018Z"
   },
   {
    "duration": 27,
    "start_time": "2022-03-04T11:17:43.614Z"
   },
   {
    "duration": 4,
    "start_time": "2022-03-04T11:17:51.488Z"
   },
   {
    "duration": 19,
    "start_time": "2022-03-04T11:17:55.819Z"
   },
   {
    "duration": 4,
    "start_time": "2022-03-04T11:17:58.767Z"
   },
   {
    "duration": 22,
    "start_time": "2022-03-04T11:18:06.944Z"
   },
   {
    "duration": 23,
    "start_time": "2022-03-04T11:18:12.114Z"
   },
   {
    "duration": 21,
    "start_time": "2022-03-04T11:18:36.729Z"
   },
   {
    "duration": 80,
    "start_time": "2022-03-04T11:18:53.017Z"
   },
   {
    "duration": 23,
    "start_time": "2022-03-04T11:18:57.949Z"
   },
   {
    "duration": 36,
    "start_time": "2022-03-04T11:19:02.188Z"
   },
   {
    "duration": 50,
    "start_time": "2022-03-04T11:20:44.221Z"
   },
   {
    "duration": 54,
    "start_time": "2022-03-04T11:22:57.353Z"
   },
   {
    "duration": 53,
    "start_time": "2022-03-04T11:23:04.960Z"
   },
   {
    "duration": 52,
    "start_time": "2022-03-04T11:23:27.220Z"
   },
   {
    "duration": 7,
    "start_time": "2022-03-04T11:24:14.862Z"
   },
   {
    "duration": 3,
    "start_time": "2022-03-04T11:32:48.421Z"
   },
   {
    "duration": 799,
    "start_time": "2022-03-04T11:33:17.517Z"
   },
   {
    "duration": 3,
    "start_time": "2022-03-04T11:34:35.737Z"
   },
   {
    "duration": 14,
    "start_time": "2022-03-04T11:34:43.799Z"
   },
   {
    "duration": 3,
    "start_time": "2022-03-04T11:35:35.725Z"
   },
   {
    "duration": 2,
    "start_time": "2022-03-04T11:35:42.233Z"
   },
   {
    "duration": 9,
    "start_time": "2022-03-04T11:35:58.723Z"
   },
   {
    "duration": 31,
    "start_time": "2022-03-04T11:40:38.798Z"
   },
   {
    "duration": 29,
    "start_time": "2022-03-04T11:41:22.349Z"
   },
   {
    "duration": 267,
    "start_time": "2022-03-04T11:42:35.082Z"
   },
   {
    "duration": 29,
    "start_time": "2022-03-04T11:42:40.531Z"
   },
   {
    "duration": 119,
    "start_time": "2022-03-04T11:48:24.345Z"
   },
   {
    "duration": 3,
    "start_time": "2022-03-04T11:48:36.891Z"
   },
   {
    "duration": 435,
    "start_time": "2022-03-04T11:49:02.690Z"
   },
   {
    "duration": 3,
    "start_time": "2022-03-04T11:49:15.795Z"
   },
   {
    "duration": 16,
    "start_time": "2022-03-04T11:50:12.302Z"
   },
   {
    "duration": 13,
    "start_time": "2022-03-04T11:51:38.135Z"
   },
   {
    "duration": 16,
    "start_time": "2022-03-04T11:51:51.087Z"
   },
   {
    "duration": 17,
    "start_time": "2022-03-04T11:52:56.685Z"
   },
   {
    "duration": 17,
    "start_time": "2022-03-04T11:52:59.465Z"
   },
   {
    "duration": 14,
    "start_time": "2022-03-04T11:53:01.567Z"
   },
   {
    "duration": 16,
    "start_time": "2022-03-04T11:53:03.882Z"
   },
   {
    "duration": 13,
    "start_time": "2022-03-04T11:53:03.954Z"
   },
   {
    "duration": 281,
    "start_time": "2022-03-04T11:59:34.705Z"
   },
   {
    "duration": 260,
    "start_time": "2022-03-04T12:00:20.710Z"
   },
   {
    "duration": 263,
    "start_time": "2022-03-04T12:01:32.243Z"
   },
   {
    "duration": 74,
    "start_time": "2022-03-04T12:03:18.869Z"
   },
   {
    "duration": 7,
    "start_time": "2022-03-04T12:04:34.993Z"
   },
   {
    "duration": 14,
    "start_time": "2022-03-04T12:05:07.512Z"
   },
   {
    "duration": 6043,
    "start_time": "2022-03-04T12:07:27.046Z"
   },
   {
    "duration": 11,
    "start_time": "2022-03-04T12:07:50.599Z"
   },
   {
    "duration": 9,
    "start_time": "2022-03-04T12:10:12.238Z"
   },
   {
    "duration": 4,
    "start_time": "2022-03-04T12:33:39.314Z"
   },
   {
    "duration": 629,
    "start_time": "2022-03-04T12:35:10.114Z"
   },
   {
    "duration": 17,
    "start_time": "2022-03-04T12:35:21.448Z"
   },
   {
    "duration": 12,
    "start_time": "2022-03-04T12:37:36.389Z"
   },
   {
    "duration": 12,
    "start_time": "2022-03-04T12:37:39.384Z"
   },
   {
    "duration": 16,
    "start_time": "2022-03-04T12:37:42.551Z"
   },
   {
    "duration": 268,
    "start_time": "2022-03-04T12:39:56.809Z"
   },
   {
    "duration": 21,
    "start_time": "2022-03-04T12:40:05.315Z"
   },
   {
    "duration": 8,
    "start_time": "2022-03-04T12:40:35.973Z"
   },
   {
    "duration": 8,
    "start_time": "2022-03-04T12:43:16.963Z"
   },
   {
    "duration": 5,
    "start_time": "2022-03-04T12:43:31.933Z"
   },
   {
    "duration": 9,
    "start_time": "2022-03-04T12:44:33.201Z"
   },
   {
    "duration": 5,
    "start_time": "2022-03-04T12:44:35.303Z"
   },
   {
    "duration": 7,
    "start_time": "2022-03-04T12:47:19.069Z"
   },
   {
    "duration": 5,
    "start_time": "2022-03-04T12:47:41.424Z"
   },
   {
    "duration": 2,
    "start_time": "2022-03-04T12:49:13.349Z"
   },
   {
    "duration": 123,
    "start_time": "2022-03-04T12:49:13.353Z"
   },
   {
    "duration": 9,
    "start_time": "2022-03-04T12:49:13.478Z"
   },
   {
    "duration": 33,
    "start_time": "2022-03-04T12:49:13.488Z"
   },
   {
    "duration": 3,
    "start_time": "2022-03-04T12:49:13.523Z"
   },
   {
    "duration": 21,
    "start_time": "2022-03-04T12:49:13.527Z"
   },
   {
    "duration": 4,
    "start_time": "2022-03-04T12:49:13.550Z"
   },
   {
    "duration": 21,
    "start_time": "2022-03-04T12:49:13.555Z"
   },
   {
    "duration": 14,
    "start_time": "2022-03-04T12:49:13.601Z"
   },
   {
    "duration": 19,
    "start_time": "2022-03-04T12:49:13.616Z"
   },
   {
    "duration": 65,
    "start_time": "2022-03-04T12:49:13.637Z"
   },
   {
    "duration": 53,
    "start_time": "2022-03-04T12:49:13.703Z"
   },
   {
    "duration": 52,
    "start_time": "2022-03-04T12:49:13.758Z"
   },
   {
    "duration": 6,
    "start_time": "2022-03-04T12:49:13.811Z"
   },
   {
    "duration": 2,
    "start_time": "2022-03-04T12:49:13.819Z"
   },
   {
    "duration": 10,
    "start_time": "2022-03-04T12:49:13.823Z"
   },
   {
    "duration": 6,
    "start_time": "2022-03-04T12:49:13.834Z"
   },
   {
    "duration": 25,
    "start_time": "2022-03-04T12:49:13.842Z"
   },
   {
    "duration": 54,
    "start_time": "2022-03-04T12:49:13.870Z"
   },
   {
    "duration": 3,
    "start_time": "2022-03-04T12:49:13.926Z"
   },
   {
    "duration": 15,
    "start_time": "2022-03-04T12:49:13.931Z"
   },
   {
    "duration": 12,
    "start_time": "2022-03-04T12:49:13.947Z"
   },
   {
    "duration": 13,
    "start_time": "2022-03-04T12:49:13.960Z"
   },
   {
    "duration": 34,
    "start_time": "2022-03-04T12:49:13.974Z"
   },
   {
    "duration": 15,
    "start_time": "2022-03-04T12:49:14.009Z"
   },
   {
    "duration": 12,
    "start_time": "2022-03-04T12:49:14.025Z"
   },
   {
    "duration": 8,
    "start_time": "2022-03-04T12:49:14.038Z"
   },
   {
    "duration": 14,
    "start_time": "2022-03-04T12:49:14.047Z"
   },
   {
    "duration": 11,
    "start_time": "2022-03-04T12:49:14.062Z"
   },
   {
    "duration": 27,
    "start_time": "2022-03-04T12:49:14.074Z"
   },
   {
    "duration": 19,
    "start_time": "2022-03-04T12:49:14.103Z"
   },
   {
    "duration": 10,
    "start_time": "2022-03-04T12:49:14.124Z"
   },
   {
    "duration": 14,
    "start_time": "2022-03-04T12:49:14.135Z"
   },
   {
    "duration": 11,
    "start_time": "2022-03-04T12:49:14.150Z"
   },
   {
    "duration": 7,
    "start_time": "2022-03-04T12:49:14.162Z"
   },
   {
    "duration": 31,
    "start_time": "2022-03-04T12:49:14.171Z"
   },
   {
    "duration": 7,
    "start_time": "2022-03-04T12:49:14.203Z"
   },
   {
    "duration": 5,
    "start_time": "2022-03-04T12:49:14.212Z"
   },
   {
    "duration": 159,
    "start_time": "2022-03-10T19:19:15.735Z"
   },
   {
    "duration": 2173,
    "start_time": "2022-03-11T06:53:34.621Z"
   },
   {
    "duration": 764,
    "start_time": "2022-03-11T06:53:36.796Z"
   },
   {
    "duration": 15,
    "start_time": "2022-03-11T06:53:37.562Z"
   },
   {
    "duration": 52,
    "start_time": "2022-03-11T06:53:37.578Z"
   },
   {
    "duration": 4,
    "start_time": "2022-03-11T06:53:37.632Z"
   },
   {
    "duration": 23,
    "start_time": "2022-03-11T06:53:37.637Z"
   },
   {
    "duration": 5,
    "start_time": "2022-03-11T06:53:37.662Z"
   },
   {
    "duration": 21,
    "start_time": "2022-03-11T06:53:37.669Z"
   },
   {
    "duration": 30,
    "start_time": "2022-03-11T06:53:37.692Z"
   },
   {
    "duration": 34,
    "start_time": "2022-03-11T06:53:37.724Z"
   },
   {
    "duration": 93,
    "start_time": "2022-03-11T06:53:37.761Z"
   },
   {
    "duration": 91,
    "start_time": "2022-03-11T06:53:37.856Z"
   },
   {
    "duration": 71,
    "start_time": "2022-03-11T06:53:37.949Z"
   },
   {
    "duration": 8,
    "start_time": "2022-03-11T06:53:38.022Z"
   },
   {
    "duration": 6,
    "start_time": "2022-03-11T06:53:38.032Z"
   },
   {
    "duration": 16,
    "start_time": "2022-03-11T06:53:38.040Z"
   },
   {
    "duration": 8,
    "start_time": "2022-03-11T06:53:38.057Z"
   },
   {
    "duration": 67,
    "start_time": "2022-03-11T06:53:38.067Z"
   },
   {
    "duration": 43,
    "start_time": "2022-03-11T06:53:38.136Z"
   },
   {
    "duration": 4,
    "start_time": "2022-03-11T06:53:38.181Z"
   },
   {
    "duration": 33,
    "start_time": "2022-03-11T06:53:38.186Z"
   },
   {
    "duration": 17,
    "start_time": "2022-03-11T06:53:38.221Z"
   },
   {
    "duration": 19,
    "start_time": "2022-03-11T06:53:38.242Z"
   },
   {
    "duration": 17,
    "start_time": "2022-03-11T06:53:38.263Z"
   },
   {
    "duration": 43,
    "start_time": "2022-03-11T06:53:38.282Z"
   },
   {
    "duration": 20,
    "start_time": "2022-03-11T06:53:38.327Z"
   },
   {
    "duration": 10,
    "start_time": "2022-03-11T06:53:38.349Z"
   },
   {
    "duration": 17,
    "start_time": "2022-03-11T06:53:38.361Z"
   },
   {
    "duration": 37,
    "start_time": "2022-03-11T06:53:38.379Z"
   },
   {
    "duration": 4,
    "start_time": "2022-03-11T06:53:38.418Z"
   },
   {
    "duration": 29,
    "start_time": "2022-03-11T06:53:38.424Z"
   },
   {
    "duration": 15,
    "start_time": "2022-03-11T06:53:38.455Z"
   },
   {
    "duration": 37,
    "start_time": "2022-03-11T06:53:38.472Z"
   },
   {
    "duration": 14,
    "start_time": "2022-03-11T06:53:38.511Z"
   },
   {
    "duration": 11,
    "start_time": "2022-03-11T06:53:38.527Z"
   },
   {
    "duration": 4,
    "start_time": "2022-03-11T06:53:38.540Z"
   },
   {
    "duration": 9,
    "start_time": "2022-03-11T06:53:38.546Z"
   },
   {
    "duration": 4,
    "start_time": "2022-03-11T06:53:38.557Z"
   },
   {
    "duration": 105,
    "start_time": "2022-03-11T06:55:23.946Z"
   },
   {
    "duration": 101,
    "start_time": "2022-03-11T06:55:57.918Z"
   },
   {
    "duration": 373,
    "start_time": "2022-03-11T07:07:41.604Z"
   },
   {
    "duration": 811,
    "start_time": "2022-03-11T07:07:48.454Z"
   },
   {
    "duration": 191,
    "start_time": "2022-03-11T07:07:49.267Z"
   },
   {
    "duration": 25,
    "start_time": "2022-03-11T07:07:49.461Z"
   },
   {
    "duration": 38,
    "start_time": "2022-03-11T07:07:49.489Z"
   },
   {
    "duration": 6,
    "start_time": "2022-03-11T07:07:49.529Z"
   },
   {
    "duration": 60,
    "start_time": "2022-03-11T07:07:49.537Z"
   },
   {
    "duration": 8,
    "start_time": "2022-03-11T07:07:49.600Z"
   },
   {
    "duration": 31,
    "start_time": "2022-03-11T07:07:49.612Z"
   },
   {
    "duration": 46,
    "start_time": "2022-03-11T07:07:49.646Z"
   },
   {
    "duration": 31,
    "start_time": "2022-03-11T07:07:49.695Z"
   },
   {
    "duration": 120,
    "start_time": "2022-03-11T07:07:49.728Z"
   },
   {
    "duration": 108,
    "start_time": "2022-03-11T07:07:49.850Z"
   },
   {
    "duration": 95,
    "start_time": "2022-03-11T07:07:49.960Z"
   },
   {
    "duration": 71,
    "start_time": "2022-03-11T07:07:50.058Z"
   },
   {
    "duration": 5,
    "start_time": "2022-03-11T07:07:50.131Z"
   },
   {
    "duration": 40,
    "start_time": "2022-03-11T07:07:50.138Z"
   },
   {
    "duration": 62,
    "start_time": "2022-03-11T07:07:50.180Z"
   },
   {
    "duration": 33,
    "start_time": "2022-03-11T07:07:50.244Z"
   },
   {
    "duration": 16,
    "start_time": "2022-03-11T07:07:50.279Z"
   },
   {
    "duration": 4,
    "start_time": "2022-03-11T07:07:50.298Z"
   },
   {
    "duration": 28,
    "start_time": "2022-03-11T07:07:50.304Z"
   },
   {
    "duration": 49,
    "start_time": "2022-03-11T07:07:50.334Z"
   },
   {
    "duration": 19,
    "start_time": "2022-03-11T07:07:50.388Z"
   },
   {
    "duration": 19,
    "start_time": "2022-03-11T07:07:50.410Z"
   },
   {
    "duration": 55,
    "start_time": "2022-03-11T07:07:50.431Z"
   },
   {
    "duration": 20,
    "start_time": "2022-03-11T07:07:50.489Z"
   },
   {
    "duration": 12,
    "start_time": "2022-03-11T07:07:50.512Z"
   },
   {
    "duration": 49,
    "start_time": "2022-03-11T07:07:50.527Z"
   },
   {
    "duration": 13,
    "start_time": "2022-03-11T07:07:50.579Z"
   },
   {
    "duration": 6,
    "start_time": "2022-03-11T07:07:50.594Z"
   },
   {
    "duration": 29,
    "start_time": "2022-03-11T07:07:50.602Z"
   },
   {
    "duration": 46,
    "start_time": "2022-03-11T07:07:50.633Z"
   },
   {
    "duration": 23,
    "start_time": "2022-03-11T07:07:50.682Z"
   },
   {
    "duration": 17,
    "start_time": "2022-03-11T07:07:50.707Z"
   },
   {
    "duration": 54,
    "start_time": "2022-03-11T07:07:50.726Z"
   },
   {
    "duration": 7,
    "start_time": "2022-03-11T07:07:50.782Z"
   },
   {
    "duration": 17,
    "start_time": "2022-03-11T07:07:50.791Z"
   },
   {
    "duration": 6,
    "start_time": "2022-03-11T07:07:50.811Z"
   },
   {
    "duration": 105,
    "start_time": "2022-03-11T07:11:43.063Z"
   },
   {
    "duration": 115,
    "start_time": "2022-03-11T07:12:45.468Z"
   },
   {
    "duration": 131,
    "start_time": "2022-03-11T07:13:43.229Z"
   },
   {
    "duration": 7,
    "start_time": "2022-03-11T07:15:30.241Z"
   },
   {
    "duration": 3,
    "start_time": "2022-03-11T07:16:34.174Z"
   },
   {
    "duration": 239,
    "start_time": "2022-03-11T07:16:34.179Z"
   },
   {
    "duration": 16,
    "start_time": "2022-03-11T07:16:34.421Z"
   },
   {
    "duration": 61,
    "start_time": "2022-03-11T07:16:34.440Z"
   },
   {
    "duration": 24,
    "start_time": "2022-03-11T07:16:34.503Z"
   },
   {
    "duration": 54,
    "start_time": "2022-03-11T07:16:34.529Z"
   },
   {
    "duration": 6,
    "start_time": "2022-03-11T07:16:34.587Z"
   },
   {
    "duration": 54,
    "start_time": "2022-03-11T07:16:34.596Z"
   },
   {
    "duration": 36,
    "start_time": "2022-03-11T07:16:34.653Z"
   },
   {
    "duration": 32,
    "start_time": "2022-03-11T07:16:34.691Z"
   },
   {
    "duration": 104,
    "start_time": "2022-03-11T07:16:34.725Z"
   },
   {
    "duration": 117,
    "start_time": "2022-03-11T07:16:34.831Z"
   },
   {
    "duration": 90,
    "start_time": "2022-03-11T07:16:34.951Z"
   },
   {
    "duration": 70,
    "start_time": "2022-03-11T07:16:35.044Z"
   },
   {
    "duration": 4,
    "start_time": "2022-03-11T07:16:35.117Z"
   },
   {
    "duration": 42,
    "start_time": "2022-03-11T07:16:35.124Z"
   },
   {
    "duration": 69,
    "start_time": "2022-03-11T07:16:35.168Z"
   },
   {
    "duration": 47,
    "start_time": "2022-03-11T07:16:35.240Z"
   },
   {
    "duration": 16,
    "start_time": "2022-03-11T07:16:35.292Z"
   },
   {
    "duration": 13,
    "start_time": "2022-03-11T07:16:35.312Z"
   },
   {
    "duration": 58,
    "start_time": "2022-03-11T07:16:35.327Z"
   },
   {
    "duration": 22,
    "start_time": "2022-03-11T07:16:35.387Z"
   },
   {
    "duration": 21,
    "start_time": "2022-03-11T07:16:35.411Z"
   },
   {
    "duration": 50,
    "start_time": "2022-03-11T07:16:35.435Z"
   },
   {
    "duration": 23,
    "start_time": "2022-03-11T07:16:35.487Z"
   },
   {
    "duration": 29,
    "start_time": "2022-03-11T07:16:35.512Z"
   },
   {
    "duration": 37,
    "start_time": "2022-03-11T07:16:35.544Z"
   },
   {
    "duration": 40,
    "start_time": "2022-03-11T07:16:35.583Z"
   },
   {
    "duration": 26,
    "start_time": "2022-03-11T07:16:35.626Z"
   },
   {
    "duration": 20,
    "start_time": "2022-03-11T07:16:35.654Z"
   },
   {
    "duration": 52,
    "start_time": "2022-03-11T07:16:35.677Z"
   },
   {
    "duration": 19,
    "start_time": "2022-03-11T07:16:35.731Z"
   },
   {
    "duration": 32,
    "start_time": "2022-03-11T07:16:35.753Z"
   },
   {
    "duration": 19,
    "start_time": "2022-03-11T07:16:35.788Z"
   },
   {
    "duration": 17,
    "start_time": "2022-03-11T07:16:35.810Z"
   },
   {
    "duration": 37,
    "start_time": "2022-03-11T07:16:35.829Z"
   },
   {
    "duration": 24,
    "start_time": "2022-03-11T07:16:35.873Z"
   },
   {
    "duration": 23,
    "start_time": "2022-03-11T07:16:35.900Z"
   },
   {
    "duration": 4,
    "start_time": "2022-03-11T07:48:22.376Z"
   },
   {
    "duration": 234,
    "start_time": "2022-03-11T07:48:22.383Z"
   },
   {
    "duration": 16,
    "start_time": "2022-03-11T07:48:22.620Z"
   },
   {
    "duration": 59,
    "start_time": "2022-03-11T07:48:22.638Z"
   },
   {
    "duration": 7,
    "start_time": "2022-03-11T07:48:22.700Z"
   },
   {
    "duration": 35,
    "start_time": "2022-03-11T07:48:22.710Z"
   },
   {
    "duration": 29,
    "start_time": "2022-03-11T07:48:22.749Z"
   },
   {
    "duration": 46,
    "start_time": "2022-03-11T07:48:22.782Z"
   },
   {
    "duration": 44,
    "start_time": "2022-03-11T07:48:22.831Z"
   },
   {
    "duration": 34,
    "start_time": "2022-03-11T07:48:22.878Z"
   },
   {
    "duration": 128,
    "start_time": "2022-03-11T07:48:22.914Z"
   },
   {
    "duration": 112,
    "start_time": "2022-03-11T07:48:23.045Z"
   },
   {
    "duration": 95,
    "start_time": "2022-03-11T07:48:23.160Z"
   },
   {
    "duration": 72,
    "start_time": "2022-03-11T07:48:23.257Z"
   },
   {
    "duration": 4,
    "start_time": "2022-03-11T07:48:23.331Z"
   },
   {
    "duration": 48,
    "start_time": "2022-03-11T07:48:23.339Z"
   },
   {
    "duration": 107,
    "start_time": "2022-03-11T07:48:23.390Z"
   },
   {
    "duration": 24,
    "start_time": "2022-03-11T07:48:23.501Z"
   },
   {
    "duration": 49,
    "start_time": "2022-03-11T07:48:23.534Z"
   },
   {
    "duration": 6,
    "start_time": "2022-03-11T07:48:23.587Z"
   },
   {
    "duration": 46,
    "start_time": "2022-03-11T07:48:23.596Z"
   },
   {
    "duration": 37,
    "start_time": "2022-03-11T07:48:23.645Z"
   },
   {
    "duration": 19,
    "start_time": "2022-03-11T07:48:23.684Z"
   },
   {
    "duration": 23,
    "start_time": "2022-03-11T07:48:23.705Z"
   },
   {
    "duration": 60,
    "start_time": "2022-03-11T07:48:23.730Z"
   },
   {
    "duration": 24,
    "start_time": "2022-03-11T07:48:23.793Z"
   },
   {
    "duration": 12,
    "start_time": "2022-03-11T07:48:23.820Z"
   },
   {
    "duration": 52,
    "start_time": "2022-03-11T07:48:23.835Z"
   },
   {
    "duration": 17,
    "start_time": "2022-03-11T07:48:23.890Z"
   },
   {
    "duration": 6,
    "start_time": "2022-03-11T07:48:23.910Z"
   },
   {
    "duration": 67,
    "start_time": "2022-03-11T07:48:23.919Z"
   },
   {
    "duration": 23,
    "start_time": "2022-03-11T07:48:23.988Z"
   },
   {
    "duration": 60,
    "start_time": "2022-03-11T07:48:24.013Z"
   },
   {
    "duration": 25,
    "start_time": "2022-03-11T07:48:24.076Z"
   },
   {
    "duration": 19,
    "start_time": "2022-03-11T07:48:24.104Z"
   },
   {
    "duration": 17,
    "start_time": "2022-03-11T07:48:24.126Z"
   },
   {
    "duration": 35,
    "start_time": "2022-03-11T07:48:24.147Z"
   },
   {
    "duration": 11,
    "start_time": "2022-03-11T07:48:24.185Z"
   },
   {
    "duration": 551,
    "start_time": "2022-03-11T08:26:47.257Z"
   },
   {
    "duration": 135,
    "start_time": "2022-03-11T08:26:47.810Z"
   },
   {
    "duration": 16,
    "start_time": "2022-03-11T08:26:47.947Z"
   },
   {
    "duration": 33,
    "start_time": "2022-03-11T08:26:47.965Z"
   },
   {
    "duration": 7,
    "start_time": "2022-03-11T08:26:47.999Z"
   },
   {
    "duration": 21,
    "start_time": "2022-03-11T08:26:48.007Z"
   },
   {
    "duration": 3,
    "start_time": "2022-03-11T08:26:48.030Z"
   },
   {
    "duration": 24,
    "start_time": "2022-03-11T08:26:48.035Z"
   },
   {
    "duration": 44,
    "start_time": "2022-03-11T08:26:48.061Z"
   },
   {
    "duration": 21,
    "start_time": "2022-03-11T08:26:48.107Z"
   },
   {
    "duration": 76,
    "start_time": "2022-03-11T08:26:48.130Z"
   },
   {
    "duration": 63,
    "start_time": "2022-03-11T08:26:48.208Z"
   },
   {
    "duration": 68,
    "start_time": "2022-03-11T08:26:48.273Z"
   },
   {
    "duration": 38,
    "start_time": "2022-03-11T08:26:48.342Z"
   },
   {
    "duration": 4,
    "start_time": "2022-03-11T08:26:48.382Z"
   },
   {
    "duration": 23,
    "start_time": "2022-03-11T08:26:48.388Z"
   },
   {
    "duration": 39,
    "start_time": "2022-03-11T08:26:48.413Z"
   },
   {
    "duration": 11,
    "start_time": "2022-03-11T08:26:48.454Z"
   },
   {
    "duration": 12,
    "start_time": "2022-03-11T08:26:48.467Z"
   },
   {
    "duration": 3,
    "start_time": "2022-03-11T08:26:48.505Z"
   },
   {
    "duration": 22,
    "start_time": "2022-03-11T08:26:48.510Z"
   },
   {
    "duration": 13,
    "start_time": "2022-03-11T08:26:48.534Z"
   },
   {
    "duration": 13,
    "start_time": "2022-03-11T08:26:48.550Z"
   },
   {
    "duration": 40,
    "start_time": "2022-03-11T08:26:48.565Z"
   },
   {
    "duration": 16,
    "start_time": "2022-03-11T08:26:48.607Z"
   },
   {
    "duration": 21,
    "start_time": "2022-03-11T08:26:48.625Z"
   },
   {
    "duration": 9,
    "start_time": "2022-03-11T08:26:48.648Z"
   },
   {
    "duration": 11,
    "start_time": "2022-03-11T08:26:48.659Z"
   },
   {
    "duration": 41,
    "start_time": "2022-03-11T08:26:48.671Z"
   },
   {
    "duration": 4,
    "start_time": "2022-03-11T08:26:48.715Z"
   },
   {
    "duration": 31,
    "start_time": "2022-03-11T08:26:48.722Z"
   },
   {
    "duration": 17,
    "start_time": "2022-03-11T08:26:48.755Z"
   },
   {
    "duration": 47,
    "start_time": "2022-03-11T08:26:48.774Z"
   },
   {
    "duration": 18,
    "start_time": "2022-03-11T08:26:48.823Z"
   },
   {
    "duration": 9,
    "start_time": "2022-03-11T08:26:48.843Z"
   },
   {
    "duration": 6,
    "start_time": "2022-03-11T08:26:48.854Z"
   },
   {
    "duration": 9,
    "start_time": "2022-03-11T08:26:48.862Z"
   },
   {
    "duration": 5,
    "start_time": "2022-03-11T08:26:48.873Z"
   },
   {
    "duration": 149,
    "start_time": "2022-03-11T08:35:48.270Z"
   },
   {
    "duration": 108,
    "start_time": "2022-03-18T11:08:01.120Z"
   },
   {
    "duration": 709,
    "start_time": "2022-03-18T11:08:03.798Z"
   },
   {
    "duration": 325,
    "start_time": "2022-03-18T11:08:04.510Z"
   },
   {
    "duration": 47,
    "start_time": "2022-03-18T11:08:04.837Z"
   },
   {
    "duration": 63,
    "start_time": "2022-03-18T11:08:04.888Z"
   },
   {
    "duration": 7,
    "start_time": "2022-03-18T11:08:04.955Z"
   },
   {
    "duration": 21,
    "start_time": "2022-03-18T11:08:04.986Z"
   },
   {
    "duration": 21,
    "start_time": "2022-03-18T11:08:05.010Z"
   },
   {
    "duration": 75,
    "start_time": "2022-03-18T11:08:05.033Z"
   },
   {
    "duration": 55,
    "start_time": "2022-03-18T11:08:05.111Z"
   },
   {
    "duration": 133,
    "start_time": "2022-03-18T11:08:05.168Z"
   },
   {
    "duration": 142,
    "start_time": "2022-03-18T11:08:05.304Z"
   },
   {
    "duration": 129,
    "start_time": "2022-03-18T11:08:05.450Z"
   },
   {
    "duration": 131,
    "start_time": "2022-03-18T11:08:05.585Z"
   },
   {
    "duration": 72,
    "start_time": "2022-03-18T11:08:05.722Z"
   },
   {
    "duration": 6,
    "start_time": "2022-03-18T11:08:05.797Z"
   },
   {
    "duration": 37,
    "start_time": "2022-03-18T11:08:05.805Z"
   },
   {
    "duration": 108,
    "start_time": "2022-03-18T11:08:05.845Z"
   },
   {
    "duration": 38,
    "start_time": "2022-03-18T11:08:05.956Z"
   },
   {
    "duration": 23,
    "start_time": "2022-03-18T11:08:05.997Z"
   },
   {
    "duration": 19,
    "start_time": "2022-03-18T11:08:06.023Z"
   },
   {
    "duration": 59,
    "start_time": "2022-03-18T11:08:06.045Z"
   },
   {
    "duration": 41,
    "start_time": "2022-03-18T11:08:06.107Z"
   },
   {
    "duration": 36,
    "start_time": "2022-03-18T11:08:06.151Z"
   },
   {
    "duration": 30,
    "start_time": "2022-03-18T11:08:06.190Z"
   },
   {
    "duration": 33,
    "start_time": "2022-03-18T11:08:06.223Z"
   },
   {
    "duration": 30,
    "start_time": "2022-03-18T11:08:06.284Z"
   },
   {
    "duration": 15,
    "start_time": "2022-03-18T11:08:06.317Z"
   },
   {
    "duration": 52,
    "start_time": "2022-03-18T11:08:06.336Z"
   },
   {
    "duration": 23,
    "start_time": "2022-03-18T11:08:06.390Z"
   },
   {
    "duration": 7,
    "start_time": "2022-03-18T11:08:06.416Z"
   },
   {
    "duration": 37,
    "start_time": "2022-03-18T11:08:06.426Z"
   },
   {
    "duration": 27,
    "start_time": "2022-03-18T11:08:06.484Z"
   },
   {
    "duration": 28,
    "start_time": "2022-03-18T11:08:06.514Z"
   },
   {
    "duration": 51,
    "start_time": "2022-03-18T11:08:06.545Z"
   },
   {
    "duration": 19,
    "start_time": "2022-03-18T11:08:06.599Z"
   },
   {
    "duration": 14,
    "start_time": "2022-03-18T11:08:06.621Z"
   },
   {
    "duration": 17,
    "start_time": "2022-03-18T11:08:06.638Z"
   },
   {
    "duration": 11,
    "start_time": "2022-03-18T11:08:06.684Z"
   }
  ],
  "colab": {
   "collapsed_sections": [
    "E0vqbgi9ay0H",
    "VUC88oWjTJw2"
   ],
   "name": "yandex_music_project_2021.2.ipynb",
   "provenance": []
  },
  "kernelspec": {
   "display_name": "Python 3",
   "language": "python",
   "name": "python3"
  },
  "language_info": {
   "codemirror_mode": {
    "name": "ipython",
    "version": 3
   },
   "file_extension": ".py",
   "mimetype": "text/x-python",
   "name": "python",
   "nbconvert_exporter": "python",
   "pygments_lexer": "ipython3",
   "version": "3.8.8"
  },
  "toc": {
   "base_numbering": 1,
   "nav_menu": {},
   "number_sections": true,
   "sideBar": true,
   "skip_h1_title": true,
   "title_cell": "Table of Contents",
   "title_sidebar": "Contents",
   "toc_cell": false,
   "toc_position": {
    "height": "calc(100% - 180px)",
    "left": "10px",
    "top": "150px",
    "width": "183.797px"
   },
   "toc_section_display": true,
   "toc_window_display": true
  }
 },
 "nbformat": 4,
 "nbformat_minor": 1
}
